{
 "cells": [
  {
   "cell_type": "markdown",
   "id": "0255b17f",
   "metadata": {
    "papermill": {
     "duration": 0.011262,
     "end_time": "2025-01-22T12:11:12.037481",
     "exception": false,
     "start_time": "2025-01-22T12:11:12.026219",
     "status": "completed"
    },
    "tags": []
   },
   "source": [
    "# Jupyter notebook based on ImageD11 to process scanning 3DXRD data\n",
    "# Written by Haixing Fang, Jon Wright and James Ball\n",
    "## Date: 12/10/2024"
   ]
  },
  {
   "cell_type": "markdown",
   "id": "e72e9fb0",
   "metadata": {
    "papermill": {
     "duration": 0.006641,
     "end_time": "2025-01-22T12:11:12.050785",
     "exception": false,
     "start_time": "2025-01-22T12:11:12.044144",
     "status": "completed"
    },
    "tags": []
   },
   "source": [
    "This notebook will try to perform a point-by-point strain refinement of your pbp index results.  \n",
    "As with the pbp index, the results of this process are multi-valued.  \n",
    "You can run 4_visualise to convert the refinement results to an accurate single-valued map.  \n",
    "\n",
    "### NOTE: It is highly recommended to run this notebook on a Jupyter server with many cores and a lot of RAM.  \n",
    "The compute_origins() function in particular runs locally and can be compute-intensive for large datasets.  \n",
    "If this is a big scan (e.g 100 million + 2D peaks), you should definitely refine on the cluster rather than locally."
   ]
  },
  {
   "cell_type": "code",
   "execution_count": 1,
   "id": "91697e9e",
   "metadata": {
    "execution": {
     "iopub.execute_input": "2025-01-22T12:11:12.063741Z",
     "iopub.status.busy": "2025-01-22T12:11:12.063094Z",
     "iopub.status.idle": "2025-01-22T12:11:12.077453Z",
     "shell.execute_reply": "2025-01-22T12:11:12.076309Z"
    },
    "papermill": {
     "duration": 0.022221,
     "end_time": "2025-01-22T12:11:12.079047",
     "exception": false,
     "start_time": "2025-01-22T12:11:12.056826",
     "status": "completed"
    },
    "tags": []
   },
   "outputs": [],
   "source": [
    "import os\n",
    "\n",
    "os.environ['OMP_NUM_THREADS'] = '1'\n",
    "os.environ['OPENBLAS_NUM_THREADS'] = '1'\n",
    "os.environ['MKL_NUM_THREADS'] = '1'"
   ]
  },
  {
   "cell_type": "code",
   "execution_count": 2,
   "id": "b30684b3",
   "metadata": {
    "execution": {
     "iopub.execute_input": "2025-01-22T12:11:12.089782Z",
     "iopub.status.busy": "2025-01-22T12:11:12.089335Z",
     "iopub.status.idle": "2025-01-22T12:11:12.095457Z",
     "shell.execute_reply": "2025-01-22T12:11:12.094569Z"
    },
    "papermill": {
     "duration": 0.013083,
     "end_time": "2025-01-22T12:11:12.097012",
     "exception": false,
     "start_time": "2025-01-22T12:11:12.083929",
     "status": "completed"
    },
    "tags": []
   },
   "outputs": [],
   "source": [
    "exec(open('/data/id11/nanoscope/install_ImageD11_from_git.py').read())"
   ]
  },
  {
   "cell_type": "code",
   "execution_count": 3,
   "id": "e7e8f1b6",
   "metadata": {
    "execution": {
     "iopub.execute_input": "2025-01-22T12:11:12.106993Z",
     "iopub.status.busy": "2025-01-22T12:11:12.106495Z",
     "iopub.status.idle": "2025-01-22T12:11:12.437109Z",
     "shell.execute_reply": "2025-01-22T12:11:12.436115Z"
    },
    "papermill": {
     "duration": 0.338544,
     "end_time": "2025-01-22T12:11:12.439750",
     "exception": false,
     "start_time": "2025-01-22T12:11:12.101206",
     "status": "completed"
    },
    "tags": [
     "parameters"
    ]
   },
   "outputs": [
    {
     "name": "stdout",
     "output_type": "stream",
     "text": [
      "# Setting path via: \n",
      "sys.path.insert(0, /home/esrf/james1997a/Code/ImageD11 )\n"
     ]
    },
    {
     "name": "stdout",
     "output_type": "stream",
     "text": [
      "# Running from: /home/esrf/james1997a/Code/ImageD11/ImageD11/__init__.py\n"
     ]
    }
   ],
   "source": [
    "# this cell is tagged with 'parameters'\n",
    "# to view the tag, select the cell, then find the settings gear icon (right or left sidebar) and look for Cell Tags\n",
    "\n",
    "# python environment stuff\n",
    "PYTHONPATH = setup_ImageD11_from_git( ) # ( os.path.join( os.environ['HOME'],'Code'), 'ImageD11_git' )\n",
    "\n",
    "# dataset file to import\n",
    "dset_file = 'si_cube_test/processed/Si_cube/Si_cube_S3DXRD_nt_moves_dty/Si_cube_S3DXRD_nt_moves_dty_dataset.h5'\n",
    "\n",
    "# which phase to refine\n",
    "phase_str = 'Si'\n",
    "\n",
    "# the minimum number of peaks you want a pixel to have to be counted\n",
    "min_unique = 20\n",
    "\n",
    "# threshold for whole-sample mask binarisation\n",
    "manual_threshold = None\n",
    "\n",
    "# refinement parameters\n",
    "y0 = 0.0\n",
    "hkl_tol_origins = 0.05\n",
    "hkl_tol_refine = 0.1\n",
    "hkl_tol_refine_merged = 0.05\n",
    "ds_tol = 0.006\n",
    "ifrac = 6e-3\n",
    "use_cluster = False"
   ]
  },
  {
   "cell_type": "code",
   "execution_count": 4,
   "id": "d35e8e8d",
   "metadata": {
    "execution": {
     "iopub.execute_input": "2025-01-22T12:11:12.459048Z",
     "iopub.status.busy": "2025-01-22T12:11:12.458658Z",
     "iopub.status.idle": "2025-01-22T12:11:12.463663Z",
     "shell.execute_reply": "2025-01-22T12:11:12.462816Z"
    },
    "papermill": {
     "duration": 0.013461,
     "end_time": "2025-01-22T12:11:12.464843",
     "exception": false,
     "start_time": "2025-01-22T12:11:12.451382",
     "status": "completed"
    },
    "tags": [
     "injected-parameters"
    ]
   },
   "outputs": [],
   "source": [
    "# Parameters\n",
    "PYTHONPATH = \"../\"\n",
    "dset_file = \"pbp_route/processed/Si_cube/Si_cube_S3DXRD_nt_moves_dty/Si_cube_S3DXRD_nt_moves_dty_dataset.h5\"\n",
    "phase_str = \"Si\"\n",
    "min_unique = 20\n",
    "manual_threshold = None\n",
    "y0 = 24.24\n",
    "hkl_tol_origins = 0.05\n",
    "hkl_tol_refine = 0.1\n",
    "hkl_tol_refine_merged = 0.05\n",
    "ds_tol = 0.004\n",
    "ifrac = 0.007\n",
    "use_cluster = False\n"
   ]
  },
  {
   "cell_type": "code",
   "execution_count": 5,
   "id": "7edf2e90",
   "metadata": {
    "execution": {
     "iopub.execute_input": "2025-01-22T12:11:12.475447Z",
     "iopub.status.busy": "2025-01-22T12:11:12.474945Z",
     "iopub.status.idle": "2025-01-22T12:11:14.931277Z",
     "shell.execute_reply": "2025-01-22T12:11:14.930279Z"
    },
    "papermill": {
     "duration": 2.464901,
     "end_time": "2025-01-22T12:11:14.934166",
     "exception": false,
     "start_time": "2025-01-22T12:11:12.469265",
     "status": "completed"
    },
    "tags": []
   },
   "outputs": [],
   "source": [
    "import numba\n",
    "import numpy as np\n",
    "import scipy.ndimage as ndi\n",
    "from matplotlib import pyplot as plt\n",
    "import matplotlib.cm as cm\n",
    "from matplotlib.colors import Normalize\n",
    "\n",
    "from ImageD11.grain import grain\n",
    "from ImageD11 import unitcell\n",
    "import ImageD11.sinograms.dataset\n",
    "from ImageD11.sinograms.point_by_point import PBPMap, nb_inv, PBPRefine\n",
    "from ImageD11.sinograms.tensor_map import TensorMap\n",
    "from ImageD11.nbGui import nb_utils as utils\n",
    "\n",
    "%matplotlib ipympl"
   ]
  },
  {
   "cell_type": "code",
   "execution_count": 6,
   "id": "9ae10447",
   "metadata": {
    "execution": {
     "iopub.execute_input": "2025-01-22T12:11:14.953951Z",
     "iopub.status.busy": "2025-01-22T12:11:14.953366Z",
     "iopub.status.idle": "2025-01-22T12:11:14.993461Z",
     "shell.execute_reply": "2025-01-22T12:11:14.992757Z"
    },
    "papermill": {
     "duration": 0.050027,
     "end_time": "2025-01-22T12:11:14.995647",
     "exception": false,
     "start_time": "2025-01-22T12:11:14.945620",
     "status": "completed"
    },
    "tags": []
   },
   "outputs": [
    {
     "name": "stdout",
     "output_type": "stream",
     "text": [
      "dataroot = \"/home/esrf/james1997a/Code/ImageD11/test/pbp_route/raw\"\n",
      "analysisroot = \"/home/esrf/james1997a/Code/ImageD11/test/pbp_route/processed\"\n",
      "sample = \"Si_cube\"\n",
      "dset = \"S3DXRD_nt_moves_dty\"\n",
      "shape = ( 41, 3620)\n",
      "# scans 41 from 1.1 to 41.1\n",
      "(41, 3620)\n"
     ]
    }
   ],
   "source": [
    "# USER: Pass path to dataset file\n",
    "\n",
    "ds = ImageD11.sinograms.dataset.load(dset_file)\n",
    "   \n",
    "sample = ds.sample\n",
    "dataset = ds.dsname\n",
    "rawdata_path = ds.dataroot\n",
    "processed_data_root_dir = ds.analysisroot\n",
    "\n",
    "print(ds)\n",
    "print(ds.shape)"
   ]
  },
  {
   "cell_type": "code",
   "execution_count": 7,
   "id": "14fb7b13",
   "metadata": {
    "execution": {
     "iopub.execute_input": "2025-01-22T12:11:15.013537Z",
     "iopub.status.busy": "2025-01-22T12:11:15.013237Z",
     "iopub.status.idle": "2025-01-22T12:11:15.019356Z",
     "shell.execute_reply": "2025-01-22T12:11:15.018640Z"
    },
    "papermill": {
     "duration": 0.014813,
     "end_time": "2025-01-22T12:11:15.020555",
     "exception": false,
     "start_time": "2025-01-22T12:11:15.005742",
     "status": "completed"
    },
    "tags": []
   },
   "outputs": [
    {
     "data": {
      "text/plain": [
       "{'Si': <ImageD11.unitcell.unitcell at 0x1547a053b610>}"
      ]
     },
     "execution_count": 7,
     "metadata": {},
     "output_type": "execute_result"
    }
   ],
   "source": [
    "# load phases from parameter file\n",
    "\n",
    "ds.phases = ds.get_phases_from_disk()\n",
    "ds.phases.unitcells"
   ]
  },
  {
   "cell_type": "code",
   "execution_count": 8,
   "id": "e9ef3deb",
   "metadata": {
    "execution": {
     "iopub.execute_input": "2025-01-22T12:11:15.030175Z",
     "iopub.status.busy": "2025-01-22T12:11:15.029752Z",
     "iopub.status.idle": "2025-01-22T12:11:15.035885Z",
     "shell.execute_reply": "2025-01-22T12:11:15.034995Z"
    },
    "papermill": {
     "duration": 0.012608,
     "end_time": "2025-01-22T12:11:15.037206",
     "exception": false,
     "start_time": "2025-01-22T12:11:15.024598",
     "status": "completed"
    },
    "tags": []
   },
   "outputs": [
    {
     "name": "stdout",
     "output_type": "stream",
     "text": [
      "[ 5.43  5.43  5.43 90.   90.   90.  ] 227\n"
     ]
    }
   ],
   "source": [
    "# now let's select a phase to index from our parameters json\n",
    "\n",
    "ref_ucell = ds.phases.unitcells[phase_str]\n",
    "\n",
    "print(ref_ucell.lattice_parameters, ref_ucell.spacegroup)"
   ]
  },
  {
   "cell_type": "code",
   "execution_count": 9,
   "id": "0ebafed8",
   "metadata": {
    "execution": {
     "iopub.execute_input": "2025-01-22T12:11:15.050240Z",
     "iopub.status.busy": "2025-01-22T12:11:15.049669Z",
     "iopub.status.idle": "2025-01-22T12:11:15.068423Z",
     "shell.execute_reply": "2025-01-22T12:11:15.067676Z"
    },
    "papermill": {
     "duration": 0.028852,
     "end_time": "2025-01-22T12:11:15.071258",
     "exception": false,
     "start_time": "2025-01-22T12:11:15.042406",
     "status": "completed"
    },
    "tags": []
   },
   "outputs": [],
   "source": [
    "# let's load our point-by-point map from disk\n",
    "\n",
    "pmap = PBPMap(ds.pbpfile)"
   ]
  },
  {
   "cell_type": "code",
   "execution_count": 10,
   "id": "97fd0321",
   "metadata": {
    "execution": {
     "iopub.execute_input": "2025-01-22T12:11:15.090931Z",
     "iopub.status.busy": "2025-01-22T12:11:15.090592Z",
     "iopub.status.idle": "2025-01-22T12:11:15.181212Z",
     "shell.execute_reply": "2025-01-22T12:11:15.180589Z"
    },
    "papermill": {
     "duration": 0.104312,
     "end_time": "2025-01-22T12:11:15.186523",
     "exception": false,
     "start_time": "2025-01-22T12:11:15.082211",
     "status": "completed"
    },
    "tags": []
   },
   "outputs": [
    {
     "data": {
      "application/vnd.jupyter.widget-view+json": {
       "model_id": "fb2c5a3cd43c4e2199dd0ba0e7469cd6",
       "version_major": 2,
       "version_minor": 0
      },
      "image/png": "[encoded data removed]",
      "text/html": [
       "\n",
       "            <div style=\"display: inline-block;\">\n",
       "                <div class=\"jupyter-widgets widget-label\" style=\"text-align: center;\">\n",
       "                    Figure\n",
       "                </div>\n",
       "                <img src='data:image/png;base64,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' width=640.0/>\n",
       "            </div>\n",
       "        "
      ],
      "text/plain": [
       "Canvas(toolbar=Toolbar(toolitems=[('Home', 'Reset original view', 'home', 'home'), ('Back', 'Back to previous …"
      ]
     },
     "metadata": {},
     "output_type": "display_data"
    }
   ],
   "source": [
    "# plot a histogram of unique peaks per ubi\n",
    "\n",
    "pmap.plot_nuniq_hist()"
   ]
  },
  {
   "cell_type": "code",
   "execution_count": 11,
   "id": "42036cd1",
   "metadata": {
    "execution": {
     "iopub.execute_input": "2025-01-22T12:11:15.204162Z",
     "iopub.status.busy": "2025-01-22T12:11:15.203822Z",
     "iopub.status.idle": "2025-01-22T12:11:15.215445Z",
     "shell.execute_reply": "2025-01-22T12:11:15.214513Z"
    },
    "papermill": {
     "duration": 0.021035,
     "end_time": "2025-01-22T12:11:15.216713",
     "exception": false,
     "start_time": "2025-01-22T12:11:15.195678",
     "status": "completed"
    },
    "tags": []
   },
   "outputs": [],
   "source": [
    "# choose the minimum number of peaks you want a pixel to have to be counted\n",
    "\n",
    "pmap.choose_best(min_unique)"
   ]
  },
  {
   "cell_type": "code",
   "execution_count": 12,
   "id": "0ab610e7",
   "metadata": {
    "execution": {
     "iopub.execute_input": "2025-01-22T12:11:15.229237Z",
     "iopub.status.busy": "2025-01-22T12:11:15.228578Z",
     "iopub.status.idle": "2025-01-22T12:11:15.433052Z",
     "shell.execute_reply": "2025-01-22T12:11:15.432436Z"
    },
    "papermill": {
     "duration": 0.217126,
     "end_time": "2025-01-22T12:11:15.439321",
     "exception": false,
     "start_time": "2025-01-22T12:11:15.222195",
     "status": "completed"
    },
    "tags": []
   },
   "outputs": [
    {
     "data": {
      "application/vnd.jupyter.widget-view+json": {
       "model_id": "8b345d1c46ca4e45aa7d8ddb3f9ae708",
       "version_major": 2,
       "version_minor": 0
      },
      "image/png": "[encoded data removed]",
      "text/html": [
       "\n",
       "            <div style=\"display: inline-block;\">\n",
       "                <div class=\"jupyter-widgets widget-label\" style=\"text-align: center;\">\n",
       "                    Figure\n",
       "                </div>\n",
       "                <img src='data:image/png;base64,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' width=1000.0/>\n",
       "            </div>\n",
       "        "
      ],
      "text/plain": [
       "Canvas(toolbar=Toolbar(toolitems=[('Home', 'Reset original view', 'home', 'home'), ('Back', 'Back to previous …"
      ]
     },
     "metadata": {},
     "output_type": "display_data"
    }
   ],
   "source": [
    "# let's plot the result of your choice\n",
    "\n",
    "pmap.plot_best(min_unique)"
   ]
  },
  {
   "cell_type": "code",
   "execution_count": 13,
   "id": "ca33856f",
   "metadata": {
    "execution": {
     "iopub.execute_input": "2025-01-22T12:11:15.457639Z",
     "iopub.status.busy": "2025-01-22T12:11:15.457296Z",
     "iopub.status.idle": "2025-01-22T12:11:15.472094Z",
     "shell.execute_reply": "2025-01-22T12:11:15.471369Z"
    },
    "papermill": {
     "duration": 0.024336,
     "end_time": "2025-01-22T12:11:15.473222",
     "exception": false,
     "start_time": "2025-01-22T12:11:15.448886",
     "status": "completed"
    },
    "tags": []
   },
   "outputs": [
    {
     "name": "stdout",
     "output_type": "stream",
     "text": [
      "Loading existing colfile from /home/esrf/james1997a/Code/ImageD11/test/pbp_route/processed/Si_cube/Si_cube_S3DXRD_nt_moves_dty/Si_cube_S3DXRD_nt_moves_dty_peaks_2d.h5\n",
      "Reading your columnfile in hdf format\n",
      "9134\n"
     ]
    }
   ],
   "source": [
    "# Get the 2D peaks from disk\n",
    "\n",
    "cf_2d = ds.get_cf_2d()\n",
    "ds.update_colfile_pars(cf_2d, phase_name=phase_str)\n",
    "\n",
    "print(cf_2d.nrows)"
   ]
  },
  {
   "cell_type": "code",
   "execution_count": 14,
   "id": "be2734e8",
   "metadata": {
    "execution": {
     "iopub.execute_input": "2025-01-22T12:11:15.488808Z",
     "iopub.status.busy": "2025-01-22T12:11:15.488517Z",
     "iopub.status.idle": "2025-01-22T12:11:15.492961Z",
     "shell.execute_reply": "2025-01-22T12:11:15.492305Z"
    },
    "papermill": {
     "duration": 0.013405,
     "end_time": "2025-01-22T12:11:15.494071",
     "exception": false,
     "start_time": "2025-01-22T12:11:15.480666",
     "status": "completed"
    },
    "tags": []
   },
   "outputs": [],
   "source": [
    "# set up a refinement manager object\n",
    "\n",
    "refine = PBPRefine(dset=ds, y0=y0, hkl_tol_origins=hkl_tol_origins, hkl_tol_refine=hkl_tol_refine, hkl_tol_refine_merged=hkl_tol_refine_merged, ds_tol=ds_tol, ifrac=ifrac, phase_name=phase_str)"
   ]
  },
  {
   "cell_type": "code",
   "execution_count": 15,
   "id": "029f080d",
   "metadata": {
    "execution": {
     "iopub.execute_input": "2025-01-22T12:11:15.585040Z",
     "iopub.status.busy": "2025-01-22T12:11:15.584422Z",
     "iopub.status.idle": "2025-01-22T12:11:15.591554Z",
     "shell.execute_reply": "2025-01-22T12:11:15.590509Z"
    },
    "papermill": {
     "duration": 0.092212,
     "end_time": "2025-01-22T12:11:15.592896",
     "exception": false,
     "start_time": "2025-01-22T12:11:15.500684",
     "status": "completed"
    },
    "tags": []
   },
   "outputs": [],
   "source": [
    "# tell it which point-by-point map we are refining\n",
    "\n",
    "refine.setmap(pmap)\n",
    "\n",
    "# or load from disk:\n",
    "# refine.loadmap()"
   ]
  },
  {
   "cell_type": "code",
   "execution_count": 16,
   "id": "4118b059",
   "metadata": {
    "execution": {
     "iopub.execute_input": "2025-01-22T12:11:15.610824Z",
     "iopub.status.busy": "2025-01-22T12:11:15.610237Z",
     "iopub.status.idle": "2025-01-22T12:11:25.717997Z",
     "shell.execute_reply": "2025-01-22T12:11:25.717303Z"
    },
    "papermill": {
     "duration": 10.123174,
     "end_time": "2025-01-22T12:11:25.721620",
     "exception": false,
     "start_time": "2025-01-22T12:11:15.598446",
     "status": "completed"
    },
    "tags": []
   },
   "outputs": [
    {
     "name": "stdout",
     "output_type": "stream",
     "text": [
      "I will delete an existing refined peaks H5 file if I find it on disk!\n",
      "Waiting 10 seconds for you to interrupt this if you are unhappy\n"
     ]
    },
    {
     "name": "stdout",
     "output_type": "stream",
     "text": [
      "Continuing\n",
      "To disable this prompt, set prompt_del=False when calling setpeaks()\n",
      "0 0.3190 (1, 1, 1) 8 74 used, sum_intensity> 18.963\n",
      "1 0.5209 (2, 0, 2) 12 117 used, sum_intensity> 15.729000000000001\n",
      "2 0.6108 (1, 3, 1) 24 220 used, sum_intensity> 39.375\n",
      "4 0.7366 (4, 0, 0) 6 65 used, sum_intensity> 12.159\n",
      "5 0.8027 (3, 3, 1) 24 223 used, sum_intensity> 7.231\n",
      "6 0.9022 (2, 2, 4) 24 216 used, sum_intensity> 19.971\n",
      "7 0.9569 (1, 1, 5) 32 259 used, sum_intensity> 13.139000000000001\n",
      "8 1.0418 (0, 4, 4) 12 117 used, sum_intensity> 6.58\n",
      "9 1.0895 (5, 1, 3) 48 437 used, sum_intensity> 7.252\n",
      "10 1.1050 (4, 4, 2) 24 2 used, sum_intensity> 0.07\n",
      "11 1.1647 (0, 6, 2) 24 201 used, sum_intensity> 9.723\n",
      "12 1.2076 (3, 5, 3) 24 173 used, sum_intensity> 4.067\n",
      "13 1.2216 (2, 2, 6) 24 3 used, sum_intensity> 0.056\n",
      "14 1.2759 (4, 4, 4) 8 68 used, sum_intensity> 3.0100000000000002\n",
      "15 1.3152 (1, 7, 1) 48 377 used, sum_intensity> 3.731\n",
      "16 1.3781 (2, 6, 4) 48 340 used, sum_intensity> 3.297\n",
      "17 1.4146 (3, 7, 1) 72 463 used, sum_intensity> 2.226\n",
      "18 1.4733 (0, 8, 0) 6 51 used, sum_intensity> 1.988\n",
      "19 1.5074 (3, 3, 7) 24 143 used, sum_intensity> 1.778\n",
      "21 1.5627 (6, 0, 6) 36 230 used, sum_intensity> 1.561\n",
      "22 1.5949 (1, 5, 7) 56 292 used, sum_intensity> 1.19\n",
      "23 1.6055 (2, 6, 6) 24 1 used, sum_intensity> 0.042\n",
      "24 1.6472 (8, 0, 4) 24 168 used, sum_intensity> 2.275\n",
      "25 1.6778 (3, 7, 5) 72 327 used, sum_intensity> 1.0150000000000001\n",
      "27 1.7276 (4, 6, 6) 24 100 used, sum_intensity> 1.043\n",
      "28 1.7568 (3, 1, 9) 48 187 used, sum_intensity> 0.721\n",
      "29 1.8044 (4, 4, 8) 24 85 used, sum_intensity> 1.351\n",
      "30 1.8324 (1, 7, 7) 72 182 used, sum_intensity> 0.497\n",
      "31 1.8781 (6, 2, 8) 72 229 used, sum_intensity> 1.19\n",
      "32 1.9050 (7, 7, 3) 72 125 used, sum_intensity> 0.23800000000000002\n",
      "33 1.9139 (10, 2, 2) 32 2 used, sum_intensity> 0.056\n",
      "34 1.9749 (9, 3, 5) 48 64 used, sum_intensity> 0.42\n",
      "35 1.9835 (4, 6, 8) 48 4 used, sum_intensity> 0.056\n",
      "36 2.0174 (4, 2, 10) 48 100 used, sum_intensity> 0.665\n",
      "37 2.0425 (7, 7, 5) 48 51 used, sum_intensity> 0.266\n",
      "38 2.0836 (8, 0, 8) 12 16 used, sum_intensity> 0.308\n",
      "39 2.1078 (9, 5, 5) 120 93 used, sum_intensity> 0.294\n",
      "40 2.1159 (4, 10, 4) 48 2 used, sum_intensity> 0.056\n",
      "41 2.1477 (10, 6, 0) 48 50 used, sum_intensity> 0.371\n",
      "42 2.1712 (9, 3, 7) 72 19 used, sum_intensity> 0.11900000000000001\n",
      "43 2.1790 (10, 2, 6) 48 3 used, sum_intensity> 0.07\n",
      "44 2.2099 (8, 8, 4) 30 23 used, sum_intensity> 0.231\n",
      "45 2.2328 (7, 7, 7) 56 12 used, sum_intensity> 0.098\n",
      "46 2.2705 (2, 2, 12) 72 52 used, sum_intensity> 0.231\n",
      "47 2.2928 (5, 7, 9) 96 20 used, sum_intensity> 0.168\n",
      "48 2.3295 (12, 4, 0) 24 16 used, sum_intensity> 0.112\n",
      "49 2.3512 (9, 9, 1) 24 5 used, sum_intensity> 0.07\n",
      "50 2.3584 (4, 12, 2) 72 1 used, sum_intensity> 0.042\n",
      "51 2.3870 (8, 10, 2) 48 22 used, sum_intensity> 0.112\n",
      "52 2.4082 (7, 1, 11) 120 5 used, sum_intensity> 0.098\n",
      "53 2.4153 (10, 6, 6) 24 2 used, sum_intensity> 0.056\n",
      "54 2.4432 (4, 4, 12) 24 4 used, sum_intensity> 0.084\n",
      "55 2.4639 (3, 1, 13) 120 5 used, sum_intensity> 0.091\n",
      "56 2.4708 (4, 10, 8) 48 2 used, sum_intensity> 0.084\n",
      "57 2.4981 (2, 6, 12) 48 2 used, sum_intensity> 0.056\n",
      "58 2.5184 (9, 5, 9) 48 5 used, sum_intensity> 0.07\n",
      "59 2.5518 (8, 8, 8) 8 6 used, sum_intensity> 0.056\n",
      "60 2.5717 (13, 5, 1) 96 3 used, sum_intensity> 0.084\n",
      "61 2.5783 (12, 4, 6) 48 1 used, sum_intensity> 0.07\n",
      "62 2.6044 (8, 6, 10) 84 2 used, sum_intensity> 0.042\n",
      "63 2.6239 (5, 3, 13) 96 2 used, sum_intensity> 0.056\n",
      "64 2.6304 (10, 10, 2) 48 2 used, sum_intensity> 0.056\n",
      "65 2.6560 (0, 8, 12) 24 1 used, sum_intensity> 0.042\n",
      "67 2.6814 (8, 12, 2) 48 3 used, sum_intensity> 0.084\n",
      "70 2.7563 (12, 8, 4) 48 1 used, sum_intensity> 0.042\n",
      "71 2.7747 (1, 15, 1) 120 1 used, sum_intensity> 0.042\n",
      "72 2.7808 (10, 8, 8) 48 2 used, sum_intensity> 0.056\n",
      "74 2.8232 (15, 3, 1) 48 1 used, sum_intensity> 0.042\n",
      "75 2.8292 (10, 10, 6) 72 1 used, sum_intensity> 0.042\n",
      "76 2.8708 (3, 15, 3) 104 1 used, sum_intensity> 0.042\n",
      "77 2.8767 (6, 8, 12) 48 2 used, sum_intensity> 0.042\n",
      "78 2.9002 (4, 14, 6) 96 1 used, sum_intensity> 0.042\n",
      "86 3.0373 (8, 8, 12) 48 1 used, sum_intensity> 0.042\n",
      "87 3.0540 (1, 15, 7) 120 1 used, sum_intensity> 0.042\n",
      "88 3.0595 (14, 8, 4) 96 1 used, sum_intensity> 0.042\n",
      "90 3.0981 (15, 7, 3) 72 1 used, sum_intensity> 0.028\n",
      "91 3.1253 (12, 12, 0) 36 1 used, sum_intensity> 0.042\n",
      "93 3.1470 (12, 2, 12) 24 1 used, sum_intensity> 0.084\n",
      "95 3.1845 (3, 17, 1) 192 1 used, sum_intensity> 0.042\n",
      "Using for refinement: 6088 npks, forref 4066 range(0, 96)\n"
     ]
    }
   ],
   "source": [
    "# choose 2D peaks to refine with\n",
    "\n",
    "refine.setpeaks(cf_2d)\n",
    "\n",
    "# or load from disk:\n",
    "# refine.loadpeaks()"
   ]
  },
  {
   "cell_type": "code",
   "execution_count": 17,
   "id": "6cae5494",
   "metadata": {
    "execution": {
     "iopub.execute_input": "2025-01-22T12:11:25.740571Z",
     "iopub.status.busy": "2025-01-22T12:11:25.740196Z",
     "iopub.status.idle": "2025-01-22T12:11:26.076215Z",
     "shell.execute_reply": "2025-01-22T12:11:26.075445Z"
    },
    "papermill": {
     "duration": 0.347738,
     "end_time": "2025-01-22T12:11:26.080711",
     "exception": false,
     "start_time": "2025-01-22T12:11:25.732973",
     "status": "completed"
    },
    "tags": []
   },
   "outputs": [
    {
     "data": {
      "text/plain": [
       "(<Figure size 640x480 with 3 Axes>,\n",
       " array([<Axes: xlabel='d-star', ylabel='sum intensity'>,\n",
       "        <Axes: xlabel='omega', ylabel='dty'>], dtype=object))"
      ]
     },
     "execution_count": 17,
     "metadata": {},
     "output_type": "execute_result"
    },
    {
     "data": {
      "application/vnd.jupyter.widget-view+json": {
       "model_id": "3e163826ce734eecb38e7238fb13951f",
       "version_major": 2,
       "version_minor": 0
      },
      "image/png": "[encoded data removed]",
      "text/html": [
       "\n",
       "            <div style=\"display: inline-block;\">\n",
       "                <div class=\"jupyter-widgets widget-label\" style=\"text-align: center;\">\n",
       "                    Figure\n",
       "                </div>\n",
       "                <img src='data:image/png;base64,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' width=640.0/>\n",
       "            </div>\n",
       "        "
      ],
      "text/plain": [
       "Canvas(toolbar=Toolbar(toolitems=[('Home', 'Reset original view', 'home', 'home'), ('Back', 'Back to previous …"
      ]
     },
     "metadata": {},
     "output_type": "display_data"
    }
   ],
   "source": [
    "# plot the peaks you selected\n",
    "\n",
    "refine.iplot()"
   ]
  },
  {
   "cell_type": "code",
   "execution_count": 18,
   "id": "f1354e8a",
   "metadata": {
    "execution": {
     "iopub.execute_input": "2025-01-22T12:11:26.103340Z",
     "iopub.status.busy": "2025-01-22T12:11:26.102940Z",
     "iopub.status.idle": "2025-01-22T12:11:27.626861Z",
     "shell.execute_reply": "2025-01-22T12:11:27.626199Z"
    },
    "papermill": {
     "duration": 1.540409,
     "end_time": "2025-01-22T12:11:27.634280",
     "exception": false,
     "start_time": "2025-01-22T12:11:26.093871",
     "status": "completed"
    },
    "tags": []
   },
   "outputs": [
    {
     "data": {
      "application/vnd.jupyter.widget-view+json": {
       "model_id": "90c671c060a84afdaf949b4eaaa2b925",
       "version_major": 2,
       "version_minor": 0
      },
      "image/png": "[encoded data removed]",
      "text/html": [
       "\n",
       "            <div style=\"display: inline-block;\">\n",
       "                <div class=\"jupyter-widgets widget-label\" style=\"text-align: center;\">\n",
       "                    Figure\n",
       "                </div>\n",
       "                <img src='data:image/png;base64,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' width=640.0/>\n",
       "            </div>\n",
       "        "
      ],
      "text/plain": [
       "Canvas(toolbar=Toolbar(toolitems=[('Home', 'Reset original view', 'home', 'home'), ('Back', 'Back to previous …"
      ]
     },
     "metadata": {},
     "output_type": "display_data"
    }
   ],
   "source": [
    "# set whole-sample mask to choose where to refine\n",
    "\n",
    "refine.setmask(manual_threshold=manual_threshold, doplot=True)"
   ]
  },
  {
   "cell_type": "code",
   "execution_count": 19,
   "id": "378c7093",
   "metadata": {
    "execution": {
     "iopub.execute_input": "2025-01-22T12:11:27.656602Z",
     "iopub.status.busy": "2025-01-22T12:11:27.656245Z",
     "iopub.status.idle": "2025-01-22T12:11:27.662565Z",
     "shell.execute_reply": "2025-01-22T12:11:27.661719Z"
    },
    "papermill": {
     "duration": 0.016568,
     "end_time": "2025-01-22T12:11:27.663597",
     "exception": false,
     "start_time": "2025-01-22T12:11:27.647029",
     "status": "completed"
    },
    "tags": []
   },
   "outputs": [],
   "source": [
    "# generate a single-valued map to refine on\n",
    "\n",
    "refine.setsingle(refine.pbpmap, minpeaks=min_unique)"
   ]
  },
  {
   "cell_type": "code",
   "execution_count": 20,
   "id": "d5e0726b",
   "metadata": {
    "execution": {
     "iopub.execute_input": "2025-01-22T12:11:27.682005Z",
     "iopub.status.busy": "2025-01-22T12:11:27.681537Z",
     "iopub.status.idle": "2025-01-22T12:11:27.762816Z",
     "shell.execute_reply": "2025-01-22T12:11:27.762246Z"
    },
    "papermill": {
     "duration": 0.097766,
     "end_time": "2025-01-22T12:11:27.768578",
     "exception": false,
     "start_time": "2025-01-22T12:11:27.670812",
     "status": "completed"
    },
    "tags": []
   },
   "outputs": [
    {
     "name": "stdout",
     "output_type": "stream",
     "text": [
      "Getting gvecs...\n",
      "Running test function twice for the first 6088 peaks to guess speed...\n",
      "This is because we get speed advantages with peaks on consecutive frames\n",
      "First time to trigger NJIT\n",
      "Now we time\n",
      "I estimate roughly 0.0006892895051278173 seconds for all peaks in self.icolf\n",
      "That's 1.9146930697994926e-07 hours\n",
      "Lexsort...\n",
      "Running numba computation on 39 threads, may take a while!\n",
      "xpos_refined column added to self.icolf\n",
      "Saving self.icolf to disk with new column\n"
     ]
    }
   ],
   "source": [
    "# compute diffraction origins - these will be added as a column to refine.icolf\n",
    "# will then save the new column to disk to avoid re-computation\n",
    "\n",
    "refine.get_origins()"
   ]
  },
  {
   "cell_type": "code",
   "execution_count": 21,
   "id": "a36e2a23",
   "metadata": {
    "execution": {
     "iopub.execute_input": "2025-01-22T12:11:27.794207Z",
     "iopub.status.busy": "2025-01-22T12:11:27.793846Z",
     "iopub.status.idle": "2025-01-22T12:11:27.956266Z",
     "shell.execute_reply": "2025-01-22T12:11:27.955475Z"
    },
    "papermill": {
     "duration": 0.176004,
     "end_time": "2025-01-22T12:11:27.961615",
     "exception": false,
     "start_time": "2025-01-22T12:11:27.785611",
     "status": "completed"
    },
    "tags": []
   },
   "outputs": [
    {
     "name": "stdout",
     "output_type": "stream",
     "text": [
      "Launching Numba parallel refinement on 39 threads\n"
     ]
    },
    {
     "name": "stdout",
     "output_type": "stream",
     "text": [
      "Saving refined map to disk\n"
     ]
    }
   ],
   "source": [
    "# run the refinement\n",
    "# if compute_origins took more than a couple of minutes to run, I suggest setting use_cluster=True below\n",
    "# otherwise if you asked for lots of cores and RAM on this Jupyter instance, you can run it locally (use_cluster=False)\n",
    "\n",
    "refine.run_refine(use_cluster=use_cluster, pythonpath=PYTHONPATH)"
   ]
  },
  {
   "cell_type": "code",
   "execution_count": 22,
   "id": "48fbc7de",
   "metadata": {
    "execution": {
     "iopub.execute_input": "2025-01-22T12:11:27.986420Z",
     "iopub.status.busy": "2025-01-22T12:11:27.985823Z",
     "iopub.status.idle": "2025-01-22T12:11:28.138220Z",
     "shell.execute_reply": "2025-01-22T12:11:28.137555Z"
    },
    "papermill": {
     "duration": 0.167901,
     "end_time": "2025-01-22T12:11:28.143653",
     "exception": false,
     "start_time": "2025-01-22T12:11:27.975752",
     "status": "completed"
    },
    "tags": []
   },
   "outputs": [
    {
     "name": "stdout",
     "output_type": "stream",
     "text": [
      "Saving icolf to disk\n"
     ]
    },
    {
     "name": "stdout",
     "output_type": "stream",
     "text": [
      "Saving input map to disk\n",
      "Saving output map to disk\n",
      "Saving myself to disk\n"
     ]
    }
   ],
   "source": [
    "# make sure refinement is saved to disk\n",
    "\n",
    "refine.to_h5()\n",
    "\n",
    "ds.save()"
   ]
  },
  {
   "cell_type": "code",
   "execution_count": 23,
   "id": "59898675",
   "metadata": {
    "execution": {
     "iopub.execute_input": "2025-01-22T12:11:28.167177Z",
     "iopub.status.busy": "2025-01-22T12:11:28.166802Z",
     "iopub.status.idle": "2025-01-22T12:11:28.179051Z",
     "shell.execute_reply": "2025-01-22T12:11:28.178341Z"
    },
    "papermill": {
     "duration": 0.022607,
     "end_time": "2025-01-22T12:11:28.180205",
     "exception": false,
     "start_time": "2025-01-22T12:11:28.157598",
     "status": "completed"
    },
    "tags": []
   },
   "outputs": [
    {
     "name": "stdout",
     "output_type": "stream",
     "text": [
      "Done!\n"
     ]
    }
   ],
   "source": [
    "# We can run the below cell to do this in bulk for many samples/datasets\n",
    "# by default this will do all samples in sample_list, all datasets with a prefix of dset_prefix\n",
    "# you can add samples and datasets to skip in skips_dict\n",
    "\n",
    "skips_dict = {\n",
    "    \"FeAu_0p5_tR_nscope\": [\"top_-50um\", \"top_-100um\"]\n",
    "}\n",
    "\n",
    "dset_prefix = \"top\"\n",
    "\n",
    "sample_list = [\"FeAu_0p5_tR_nscope\"]\n",
    "    \n",
    "samples_dict = utils.find_datasets_to_process(ds.dataroot, skips_dict, dset_prefix, sample_list)\n",
    "    \n",
    "# manual override:\n",
    "# samples_dict = {\"FeAu_0p5_tR_nscope\": [\"top_100um\", \"top_150um\"]}\n",
    "    \n",
    "# now we have our samples_dict, we can process our data:\n",
    "\n",
    "for sample, datasets in samples_dict.items():\n",
    "    for dataset in datasets:\n",
    "        print(f\"Processing dataset {dataset} in sample {sample}\")\n",
    "        dset_path = os.path.join(ds.analysisroot, sample, f\"{sample}_{dataset}\", f\"{sample}_{dataset}_dataset.h5\")\n",
    "        if not os.path.exists(dset_path):\n",
    "            print(f\"Missing DataSet file for {dataset} in sample {sample}, skipping\")\n",
    "            continue\n",
    "        \n",
    "        print(\"Importing DataSet object\")\n",
    "        \n",
    "        ds = ImageD11.sinograms.dataset.load(dset_path)\n",
    "        print(f\"I have a DataSet {ds.dset} in sample {ds.sample}\")\n",
    "        if os.path.exists(ds.refoutfile):\n",
    "            print(f\"Already have PBP refinement output file for {dataset} in sample {sample}, skipping\")\n",
    "            continue\n",
    "        \n",
    "        if not os.path.exists(ds.pbpfile):\n",
    "            print(f\"Can't find PBP indexing file for {dataset} in sample {sample}, skipping\")\n",
    "            continue\n",
    "        \n",
    "        cf_2d = ds.get_cf_2d()\n",
    "        ds.update_colfile_pars(cf_2d, phase_name=phase_str)\n",
    "\n",
    "        if not os.path.exists(ds.col2dfile):\n",
    "            ImageD11.columnfile.colfile_to_hdf(cf_2d, ds.col2dfile)\n",
    "            \n",
    "        pmap = PBPMap(ds.pbpfile)\n",
    "        pmap.choose_best(min_unique)\n",
    "        \n",
    "        refine = PBPRefine(dset=ds, y0=y0, hkl_tol_origins=hkl_tol_origins, hkl_tol_refine=hkl_tol_refine, hkl_tol_refine_merged=hkl_tol_refine_merged, ds_tol=ds_tol, ifrac=ifrac, phase_name=phase_str)\n",
    "        \n",
    "        refine.setmap(pmap)\n",
    "        refine.setpeaks(cf_2d)\n",
    "        refine.setmask(manual_threshold=manual_threshold, doplot=False)\n",
    "        refine.setsingle(refine.pbpmap, minpeaks=min_unique)\n",
    "        refine.get_origins()\n",
    "        refine.run_refine(use_cluster=use_cluster, pythonpath=PYTHONPATH)\n",
    "        if not use_cluster:\n",
    "            # wait to complete locally, then save\n",
    "            refine.to_h5()\n",
    "        ds.save()\n",
    "\n",
    "print(\"Done!\")"
   ]
  },
  {
   "cell_type": "code",
   "execution_count": null,
   "id": "5c35821c",
   "metadata": {
    "papermill": {
     "duration": 0.007466,
     "end_time": "2025-01-22T12:11:28.196245",
     "exception": false,
     "start_time": "2025-01-22T12:11:28.188779",
     "status": "completed"
    },
    "tags": []
   },
   "outputs": [],
   "source": []
  }
 ],
 "metadata": {
  "kernelspec": {
   "display_name": "Python 3 (main)",
   "language": "python",
   "name": "python3"
  },
  "language_info": {
   "codemirror_mode": {
    "name": "ipython",
    "version": 3
   },
   "file_extension": ".py",
   "mimetype": "text/x-python",
   "name": "python",
   "nbconvert_exporter": "python",
   "pygments_lexer": "ipython3",
   "version": "3.11.6"
  },
  "papermill": {
   "default_parameters": {},
   "duration": 19.93705,
   "end_time": "2025-01-22T12:11:30.825549",
   "environment_variables": {},
   "exception": null,
   "input_path": "../ImageD11/nbGui/S3DXRD/pbp_3_refinement.ipynb",
   "output_path": "pbp_route/nb_out/pbp_3_refinement_out.ipynb",
   "parameters": {
    "PYTHONPATH": "../",
    "ds_tol": 0.004,
    "dset_file": "pbp_route/processed/Si_cube/Si_cube_S3DXRD_nt_moves_dty/Si_cube_S3DXRD_nt_moves_dty_dataset.h5",
    "hkl_tol_origins": 0.05,
    "hkl_tol_refine": 0.1,
    "hkl_tol_refine_merged": 0.05,
    "ifrac": 0.007,
    "manual_threshold": null,
    "min_unique": 20,
    "phase_str": "Si",
    "use_cluster": false,
    "y0": 24.24
   },
   "start_time": "2025-01-22T12:11:10.888499",
   "version": "2.6.0"
  },
  "widgets": {
   "application/vnd.jupyter.widget-state+json": {
    "state": {
     "05e9091ee3a34690951dbaa3634830f3": {
      "model_module": "@jupyter-widgets/base",
      "model_module_version": "2.0.0",
      "model_name": "LayoutModel",
      "state": {
       "_model_module": "@jupyter-widgets/base",
       "_model_module_version": "2.0.0",
       "_model_name": "LayoutModel",
       "_view_count": null,
       "_view_module": "@jupyter-widgets/base",
       "_view_module_version": "2.0.0",
       "_view_name": "LayoutView",
       "align_content": null,
       "align_items": null,
       "align_self": null,
       "border_bottom": null,
       "border_left": null,
       "border_right": null,
       "border_top": null,
       "bottom": null,
       "display": null,
       "flex": null,
       "flex_flow": null,
       "grid_area": null,
       "grid_auto_columns": null,
       "grid_auto_flow": null,
       "grid_auto_rows": null,
       "grid_column": null,
       "grid_gap": null,
       "grid_row": null,
       "grid_template_areas": null,
       "grid_template_columns": null,
       "grid_template_rows": null,
       "height": null,
       "justify_content": null,
       "justify_items": null,
       "left": null,
       "margin": null,
       "max_height": null,
       "max_width": null,
       "min_height": null,
       "min_width": null,
       "object_fit": null,
       "object_position": null,
       "order": null,
       "overflow": null,
       "padding": null,
       "right": null,
       "top": null,
       "visibility": null,
       "width": null
      }
     },
     "081ffbe3510a41ec9fea41ea3b95dde1": {
      "model_module": "jupyter-matplotlib",
      "model_module_version": "^0.11",
      "model_name": "ToolbarModel",
      "state": {
       "_current_action": "",
       "_dom_classes": [],
       "_model_module": "jupyter-matplotlib",
       "_model_module_version": "^0.11",
       "_model_name": "ToolbarModel",
       "_view_count": null,
       "_view_module": "jupyter-matplotlib",
       "_view_module_version": "^0.11",
       "_view_name": "ToolbarView",
       "button_style": "",
       "collapsed": true,
       "layout": "IPY_MODEL_8ffa6f09e354447ea7f6bae646d2d333",
       "orientation": "vertical",
       "tabbable": null,
       "toolitems": [
        [
         "Home",
         "Reset original view",
         "home",
         "home"
        ],
        [
         "Back",
         "Back to previous view",
         "arrow-left",
         "back"
        ],
        [
         "Forward",
         "Forward to next view",
         "arrow-right",
         "forward"
        ],
        [
         "Pan",
         "Left button pans, Right button zooms\nx/y fixes axis, CTRL fixes aspect",
         "arrows",
         "pan"
        ],
        [
         "Zoom",
         "Zoom to rectangle\nx/y fixes axis",
         "square-o",
         "zoom"
        ],
        [
         "Download",
         "Download plot",
         "floppy-o",
         "save_figure"
        ]
       ],
       "tooltip": null
      }
     },
     "1544f3e8626b4938b52cc7184ef01897": {
      "model_module": "@jupyter-widgets/base",
      "model_module_version": "2.0.0",
      "model_name": "LayoutModel",
      "state": {
       "_model_module": "@jupyter-widgets/base",
       "_model_module_version": "2.0.0",
       "_model_name": "LayoutModel",
       "_view_count": null,
       "_view_module": "@jupyter-widgets/base",
       "_view_module_version": "2.0.0",
       "_view_name": "LayoutView",
       "align_content": null,
       "align_items": null,
       "align_self": null,
       "border_bottom": null,
       "border_left": null,
       "border_right": null,
       "border_top": null,
       "bottom": null,
       "display": null,
       "flex": null,
       "flex_flow": null,
       "grid_area": null,
       "grid_auto_columns": null,
       "grid_auto_flow": null,
       "grid_auto_rows": null,
       "grid_column": null,
       "grid_gap": null,
       "grid_row": null,
       "grid_template_areas": null,
       "grid_template_columns": null,
       "grid_template_rows": null,
       "height": null,
       "justify_content": null,
       "justify_items": null,
       "left": null,
       "margin": null,
       "max_height": null,
       "max_width": null,
       "min_height": null,
       "min_width": null,
       "object_fit": null,
       "object_position": null,
       "order": null,
       "overflow": null,
       "padding": null,
       "right": null,
       "top": null,
       "visibility": null,
       "width": null
      }
     },
     "3e163826ce734eecb38e7238fb13951f": {
      "model_module": "jupyter-matplotlib",
      "model_module_version": "^0.11",
      "model_name": "MPLCanvasModel",
      "state": {
       "_cursor": "pointer",
       "_data_url": "data:image/png;base64,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",
       "_dom_classes": [],
       "_figure_label": "Figure",
       "_image_mode": "full",
       "_message": "",
       "_model_module": "jupyter-matplotlib",
       "_model_module_version": "^0.11",
       "_model_name": "MPLCanvasModel",
       "_rubberband_height": 0,
       "_rubberband_width": 0,
       "_rubberband_x": 0,
       "_rubberband_y": 0,
       "_size": [
        640.0,
        480.0
       ],
       "_view_count": null,
       "_view_module": "jupyter-matplotlib",
       "_view_module_version": "^0.11",
       "_view_name": "MPLCanvasView",
       "capture_scroll": false,
       "footer_visible": true,
       "header_visible": true,
       "layout": "IPY_MODEL_928a27fa49db4b138542007140ec75cb",
       "pan_zoom_throttle": 33.0,
       "resizable": true,
       "tabbable": null,
       "toolbar": "IPY_MODEL_40b0d3cea85d41979a3ab97439c22e7f",
       "toolbar_position": "left",
       "toolbar_visible": "fade-in-fade-out",
       "tooltip": null
      }
     },
     "40b0d3cea85d41979a3ab97439c22e7f": {
      "model_module": "jupyter-matplotlib",
      "model_module_version": "^0.11",
      "model_name": "ToolbarModel",
      "state": {
       "_current_action": "",
       "_dom_classes": [],
       "_model_module": "jupyter-matplotlib",
       "_model_module_version": "^0.11",
       "_model_name": "ToolbarModel",
       "_view_count": null,
       "_view_module": "jupyter-matplotlib",
       "_view_module_version": "^0.11",
       "_view_name": "ToolbarView",
       "button_style": "",
       "collapsed": true,
       "layout": "IPY_MODEL_e5531dec26624603b4a8d31032e9c4c2",
       "orientation": "vertical",
       "tabbable": null,
       "toolitems": [
        [
         "Home",
         "Reset original view",
         "home",
         "home"
        ],
        [
         "Back",
         "Back to previous view",
         "arrow-left",
         "back"
        ],
        [
         "Forward",
         "Forward to next view",
         "arrow-right",
         "forward"
        ],
        [
         "Pan",
         "Left button pans, Right button zooms\nx/y fixes axis, CTRL fixes aspect",
         "arrows",
         "pan"
        ],
        [
         "Zoom",
         "Zoom to rectangle\nx/y fixes axis",
         "square-o",
         "zoom"
        ],
        [
         "Download",
         "Download plot",
         "floppy-o",
         "save_figure"
        ]
       ],
       "tooltip": null
      }
     },
     "546beb3f917d4d4a980f8c21eb8a02be": {
      "model_module": "jupyter-matplotlib",
      "model_module_version": "^0.11",
      "model_name": "ToolbarModel",
      "state": {
       "_current_action": "",
       "_dom_classes": [],
       "_model_module": "jupyter-matplotlib",
       "_model_module_version": "^0.11",
       "_model_name": "ToolbarModel",
       "_view_count": null,
       "_view_module": "jupyter-matplotlib",
       "_view_module_version": "^0.11",
       "_view_name": "ToolbarView",
       "button_style": "",
       "collapsed": true,
       "layout": "IPY_MODEL_5d40eb8054a548bd95d505851f01eb12",
       "orientation": "vertical",
       "tabbable": null,
       "toolitems": [
        [
         "Home",
         "Reset original view",
         "home",
         "home"
        ],
        [
         "Back",
         "Back to previous view",
         "arrow-left",
         "back"
        ],
        [
         "Forward",
         "Forward to next view",
         "arrow-right",
         "forward"
        ],
        [
         "Pan",
         "Left button pans, Right button zooms\nx/y fixes axis, CTRL fixes aspect",
         "arrows",
         "pan"
        ],
        [
         "Zoom",
         "Zoom to rectangle\nx/y fixes axis",
         "square-o",
         "zoom"
        ],
        [
         "Download",
         "Download plot",
         "floppy-o",
         "save_figure"
        ]
       ],
       "tooltip": null
      }
     },
     "5d40eb8054a548bd95d505851f01eb12": {
      "model_module": "@jupyter-widgets/base",
      "model_module_version": "2.0.0",
      "model_name": "LayoutModel",
      "state": {
       "_model_module": "@jupyter-widgets/base",
       "_model_module_version": "2.0.0",
       "_model_name": "LayoutModel",
       "_view_count": null,
       "_view_module": "@jupyter-widgets/base",
       "_view_module_version": "2.0.0",
       "_view_name": "LayoutView",
       "align_content": null,
       "align_items": null,
       "align_self": null,
       "border_bottom": null,
       "border_left": null,
       "border_right": null,
       "border_top": null,
       "bottom": null,
       "display": null,
       "flex": null,
       "flex_flow": null,
       "grid_area": null,
       "grid_auto_columns": null,
       "grid_auto_flow": null,
       "grid_auto_rows": null,
       "grid_column": null,
       "grid_gap": null,
       "grid_row": null,
       "grid_template_areas": null,
       "grid_template_columns": null,
       "grid_template_rows": null,
       "height": null,
       "justify_content": null,
       "justify_items": null,
       "left": null,
       "margin": null,
       "max_height": null,
       "max_width": null,
       "min_height": null,
       "min_width": null,
       "object_fit": null,
       "object_position": null,
       "order": null,
       "overflow": null,
       "padding": null,
       "right": null,
       "top": null,
       "visibility": null,
       "width": null
      }
     },
     "65859c9136094bf09ff4d007133d06b2": {
      "model_module": "@jupyter-widgets/base",
      "model_module_version": "2.0.0",
      "model_name": "LayoutModel",
      "state": {
       "_model_module": "@jupyter-widgets/base",
       "_model_module_version": "2.0.0",
       "_model_name": "LayoutModel",
       "_view_count": null,
       "_view_module": "@jupyter-widgets/base",
       "_view_module_version": "2.0.0",
       "_view_name": "LayoutView",
       "align_content": null,
       "align_items": null,
       "align_self": null,
       "border_bottom": null,
       "border_left": null,
       "border_right": null,
       "border_top": null,
       "bottom": null,
       "display": null,
       "flex": null,
       "flex_flow": null,
       "grid_area": null,
       "grid_auto_columns": null,
       "grid_auto_flow": null,
       "grid_auto_rows": null,
       "grid_column": null,
       "grid_gap": null,
       "grid_row": null,
       "grid_template_areas": null,
       "grid_template_columns": null,
       "grid_template_rows": null,
       "height": null,
       "justify_content": null,
       "justify_items": null,
       "left": null,
       "margin": null,
       "max_height": null,
       "max_width": null,
       "min_height": null,
       "min_width": null,
       "object_fit": null,
       "object_position": null,
       "order": null,
       "overflow": null,
       "padding": null,
       "right": null,
       "top": null,
       "visibility": null,
       "width": null
      }
     },
     "6e8f9f7c5be34a3b83c8cd2e983bba91": {
      "model_module": "@jupyter-widgets/base",
      "model_module_version": "2.0.0",
      "model_name": "LayoutModel",
      "state": {
       "_model_module": "@jupyter-widgets/base",
       "_model_module_version": "2.0.0",
       "_model_name": "LayoutModel",
       "_view_count": null,
       "_view_module": "@jupyter-widgets/base",
       "_view_module_version": "2.0.0",
       "_view_name": "LayoutView",
       "align_content": null,
       "align_items": null,
       "align_self": null,
       "border_bottom": null,
       "border_left": null,
       "border_right": null,
       "border_top": null,
       "bottom": null,
       "display": null,
       "flex": null,
       "flex_flow": null,
       "grid_area": null,
       "grid_auto_columns": null,
       "grid_auto_flow": null,
       "grid_auto_rows": null,
       "grid_column": null,
       "grid_gap": null,
       "grid_row": null,
       "grid_template_areas": null,
       "grid_template_columns": null,
       "grid_template_rows": null,
       "height": null,
       "justify_content": null,
       "justify_items": null,
       "left": null,
       "margin": null,
       "max_height": null,
       "max_width": null,
       "min_height": null,
       "min_width": null,
       "object_fit": null,
       "object_position": null,
       "order": null,
       "overflow": null,
       "padding": null,
       "right": null,
       "top": null,
       "visibility": null,
       "width": null
      }
     },
     "8b345d1c46ca4e45aa7d8ddb3f9ae708": {
      "model_module": "jupyter-matplotlib",
      "model_module_version": "^0.11",
      "model_name": "MPLCanvasModel",
      "state": {
       "_cursor": "pointer",
       "_data_url": "data:image/png;base64,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",
       "_dom_classes": [],
       "_figure_label": "Figure",
       "_image_mode": "full",
       "_message": "",
       "_model_module": "jupyter-matplotlib",
       "_model_module_version": "^0.11",
       "_model_name": "MPLCanvasModel",
       "_rubberband_height": 0,
       "_rubberband_width": 0,
       "_rubberband_x": 0,
       "_rubberband_y": 0,
       "_size": [
        1000.0,
        500.0
       ],
       "_view_count": null,
       "_view_module": "jupyter-matplotlib",
       "_view_module_version": "^0.11",
       "_view_name": "MPLCanvasView",
       "capture_scroll": false,
       "footer_visible": true,
       "header_visible": true,
       "layout": "IPY_MODEL_1544f3e8626b4938b52cc7184ef01897",
       "pan_zoom_throttle": 33.0,
       "resizable": true,
       "tabbable": null,
       "toolbar": "IPY_MODEL_546beb3f917d4d4a980f8c21eb8a02be",
       "toolbar_position": "left",
       "toolbar_visible": "fade-in-fade-out",
       "tooltip": null
      }
     },
     "8ffa6f09e354447ea7f6bae646d2d333": {
      "model_module": "@jupyter-widgets/base",
      "model_module_version": "2.0.0",
      "model_name": "LayoutModel",
      "state": {
       "_model_module": "@jupyter-widgets/base",
       "_model_module_version": "2.0.0",
       "_model_name": "LayoutModel",
       "_view_count": null,
       "_view_module": "@jupyter-widgets/base",
       "_view_module_version": "2.0.0",
       "_view_name": "LayoutView",
       "align_content": null,
       "align_items": null,
       "align_self": null,
       "border_bottom": null,
       "border_left": null,
       "border_right": null,
       "border_top": null,
       "bottom": null,
       "display": null,
       "flex": null,
       "flex_flow": null,
       "grid_area": null,
       "grid_auto_columns": null,
       "grid_auto_flow": null,
       "grid_auto_rows": null,
       "grid_column": null,
       "grid_gap": null,
       "grid_row": null,
       "grid_template_areas": null,
       "grid_template_columns": null,
       "grid_template_rows": null,
       "height": null,
       "justify_content": null,
       "justify_items": null,
       "left": null,
       "margin": null,
       "max_height": null,
       "max_width": null,
       "min_height": null,
       "min_width": null,
       "object_fit": null,
       "object_position": null,
       "order": null,
       "overflow": null,
       "padding": null,
       "right": null,
       "top": null,
       "visibility": null,
       "width": null
      }
     },
     "90c671c060a84afdaf949b4eaaa2b925": {
      "model_module": "jupyter-matplotlib",
      "model_module_version": "^0.11",
      "model_name": "MPLCanvasModel",
      "state": {
       "_cursor": "pointer",
       "_data_url": "data:image/png;base64,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",
       "_dom_classes": [],
       "_figure_label": "Figure",
       "_image_mode": "full",
       "_message": "",
       "_model_module": "jupyter-matplotlib",
       "_model_module_version": "^0.11",
       "_model_name": "MPLCanvasModel",
       "_rubberband_height": 0,
       "_rubberband_width": 0,
       "_rubberband_x": 0,
       "_rubberband_y": 0,
       "_size": [
        640.0,
        480.0
       ],
       "_view_count": null,
       "_view_module": "jupyter-matplotlib",
       "_view_module_version": "^0.11",
       "_view_name": "MPLCanvasView",
       "capture_scroll": false,
       "footer_visible": true,
       "header_visible": true,
       "layout": "IPY_MODEL_6e8f9f7c5be34a3b83c8cd2e983bba91",
       "pan_zoom_throttle": 33.0,
       "resizable": true,
       "tabbable": null,
       "toolbar": "IPY_MODEL_ce75ecee25714394a6157dcd0a95c221",
       "toolbar_position": "left",
       "toolbar_visible": "fade-in-fade-out",
       "tooltip": null
      }
     },
     "928a27fa49db4b138542007140ec75cb": {
      "model_module": "@jupyter-widgets/base",
      "model_module_version": "2.0.0",
      "model_name": "LayoutModel",
      "state": {
       "_model_module": "@jupyter-widgets/base",
       "_model_module_version": "2.0.0",
       "_model_name": "LayoutModel",
       "_view_count": null,
       "_view_module": "@jupyter-widgets/base",
       "_view_module_version": "2.0.0",
       "_view_name": "LayoutView",
       "align_content": null,
       "align_items": null,
       "align_self": null,
       "border_bottom": null,
       "border_left": null,
       "border_right": null,
       "border_top": null,
       "bottom": null,
       "display": null,
       "flex": null,
       "flex_flow": null,
       "grid_area": null,
       "grid_auto_columns": null,
       "grid_auto_flow": null,
       "grid_auto_rows": null,
       "grid_column": null,
       "grid_gap": null,
       "grid_row": null,
       "grid_template_areas": null,
       "grid_template_columns": null,
       "grid_template_rows": null,
       "height": null,
       "justify_content": null,
       "justify_items": null,
       "left": null,
       "margin": null,
       "max_height": null,
       "max_width": null,
       "min_height": null,
       "min_width": null,
       "object_fit": null,
       "object_position": null,
       "order": null,
       "overflow": null,
       "padding": null,
       "right": null,
       "top": null,
       "visibility": null,
       "width": null
      }
     },
     "ce75ecee25714394a6157dcd0a95c221": {
      "model_module": "jupyter-matplotlib",
      "model_module_version": "^0.11",
      "model_name": "ToolbarModel",
      "state": {
       "_current_action": "",
       "_dom_classes": [],
       "_model_module": "jupyter-matplotlib",
       "_model_module_version": "^0.11",
       "_model_name": "ToolbarModel",
       "_view_count": null,
       "_view_module": "jupyter-matplotlib",
       "_view_module_version": "^0.11",
       "_view_name": "ToolbarView",
       "button_style": "",
       "collapsed": true,
       "layout": "IPY_MODEL_65859c9136094bf09ff4d007133d06b2",
       "orientation": "vertical",
       "tabbable": null,
       "toolitems": [
        [
         "Home",
         "Reset original view",
         "home",
         "home"
        ],
        [
         "Back",
         "Back to previous view",
         "arrow-left",
         "back"
        ],
        [
         "Forward",
         "Forward to next view",
         "arrow-right",
         "forward"
        ],
        [
         "Pan",
         "Left button pans, Right button zooms\nx/y fixes axis, CTRL fixes aspect",
         "arrows",
         "pan"
        ],
        [
         "Zoom",
         "Zoom to rectangle\nx/y fixes axis",
         "square-o",
         "zoom"
        ],
        [
         "Download",
         "Download plot",
         "floppy-o",
         "save_figure"
        ]
       ],
       "tooltip": null
      }
     },
     "e5531dec26624603b4a8d31032e9c4c2": {
      "model_module": "@jupyter-widgets/base",
      "model_module_version": "2.0.0",
      "model_name": "LayoutModel",
      "state": {
       "_model_module": "@jupyter-widgets/base",
       "_model_module_version": "2.0.0",
       "_model_name": "LayoutModel",
       "_view_count": null,
       "_view_module": "@jupyter-widgets/base",
       "_view_module_version": "2.0.0",
       "_view_name": "LayoutView",
       "align_content": null,
       "align_items": null,
       "align_self": null,
       "border_bottom": null,
       "border_left": null,
       "border_right": null,
       "border_top": null,
       "bottom": null,
       "display": null,
       "flex": null,
       "flex_flow": null,
       "grid_area": null,
       "grid_auto_columns": null,
       "grid_auto_flow": null,
       "grid_auto_rows": null,
       "grid_column": null,
       "grid_gap": null,
       "grid_row": null,
       "grid_template_areas": null,
       "grid_template_columns": null,
       "grid_template_rows": null,
       "height": null,
       "justify_content": null,
       "justify_items": null,
       "left": null,
       "margin": null,
       "max_height": null,
       "max_width": null,
       "min_height": null,
       "min_width": null,
       "object_fit": null,
       "object_position": null,
       "order": null,
       "overflow": null,
       "padding": null,
       "right": null,
       "top": null,
       "visibility": null,
       "width": null
      }
     },
     "fb2c5a3cd43c4e2199dd0ba0e7469cd6": {
      "model_module": "jupyter-matplotlib",
      "model_module_version": "^0.11",
      "model_name": "MPLCanvasModel",
      "state": {
       "_cursor": "pointer",
       "_data_url": "data:image/png;base64,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",
       "_dom_classes": [],
       "_figure_label": "Figure",
       "_image_mode": "full",
       "_message": "",
       "_model_module": "jupyter-matplotlib",
       "_model_module_version": "^0.11",
       "_model_name": "MPLCanvasModel",
       "_rubberband_height": 0,
       "_rubberband_width": 0,
       "_rubberband_x": 0,
       "_rubberband_y": 0,
       "_size": [
        640.0,
        480.0
       ],
       "_view_count": null,
       "_view_module": "jupyter-matplotlib",
       "_view_module_version": "^0.11",
       "_view_name": "MPLCanvasView",
       "capture_scroll": false,
       "footer_visible": true,
       "header_visible": true,
       "layout": "IPY_MODEL_05e9091ee3a34690951dbaa3634830f3",
       "pan_zoom_throttle": 33.0,
       "resizable": true,
       "tabbable": null,
       "toolbar": "IPY_MODEL_081ffbe3510a41ec9fea41ea3b95dde1",
       "toolbar_position": "left",
       "toolbar_visible": "fade-in-fade-out",
       "tooltip": null
      }
     }
    },
    "version_major": 2,
    "version_minor": 0
   }
  }
 },
 "nbformat": 4,
 "nbformat_minor": 5
}