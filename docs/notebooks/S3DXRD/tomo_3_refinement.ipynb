{
 "cells": [
  {
   "cell_type": "markdown",
   "id": "bbc4bc96-cbc7-436a-a174-c99388869cbb",
   "metadata": {
    "papermill": {
     "duration": 0.011519,
     "end_time": "2025-01-22T10:35:27.454952",
     "exception": false,
     "start_time": "2025-01-22T10:35:27.443433",
     "status": "completed"
    },
    "tags": []
   },
   "source": [
    "# Jupyter notebook based on ImageD11 to process scanning 3DXRD data\n",
    "# Written by Haixing Fang, Jon Wright and James Ball\n",
    "## Date: 12/10/2024"
   ]
  },
  {
   "cell_type": "markdown",
   "id": "831932fc-8a7f-4509-8042-47a8b542a68c",
   "metadata": {
    "papermill": {
     "duration": 0.005611,
     "end_time": "2025-01-22T10:35:27.467851",
     "exception": false,
     "start_time": "2025-01-22T10:35:27.462240",
     "status": "completed"
    },
    "tags": []
   },
   "source": [
    "This notebook will try to perform a point-by-point strain refinement from your tomographic-derived grain shapes.  \n",
    "\n",
    "### NOTE: It is highly recommended to run this notebook on a Jupyter server with many cores and a lot of RAM.  \n",
    "The compute_origins() function in particular runs locally and can be compute-intensive for large datasets.  \n",
    "If this is a big scan (e.g 100 million + 2D peaks), you should definitely refine on the cluster rather than locally."
   ]
  },
  {
   "cell_type": "code",
   "execution_count": 1,
   "id": "94b89030-fdb2-47d2-bc26-3e5cfb0d6509",
   "metadata": {
    "execution": {
     "iopub.execute_input": "2025-01-22T10:35:27.478208Z",
     "iopub.status.busy": "2025-01-22T10:35:27.477599Z",
     "iopub.status.idle": "2025-01-22T10:35:27.499070Z",
     "shell.execute_reply": "2025-01-22T10:35:27.497829Z"
    },
    "papermill": {
     "duration": 0.03024,
     "end_time": "2025-01-22T10:35:27.501989",
     "exception": false,
     "start_time": "2025-01-22T10:35:27.471749",
     "status": "completed"
    },
    "tags": []
   },
   "outputs": [],
   "source": [
    "import os\n",
    "\n",
    "os.environ['OMP_NUM_THREADS'] = '1'\n",
    "os.environ['OPENBLAS_NUM_THREADS'] = '1'\n",
    "os.environ['MKL_NUM_THREADS'] = '1'"
   ]
  },
  {
   "cell_type": "code",
   "execution_count": 2,
   "id": "324210ec-acd1-49de-aed0-0ec90b119249",
   "metadata": {
    "execution": {
     "iopub.execute_input": "2025-01-22T10:35:27.520787Z",
     "iopub.status.busy": "2025-01-22T10:35:27.520183Z",
     "iopub.status.idle": "2025-01-22T10:35:27.527974Z",
     "shell.execute_reply": "2025-01-22T10:35:27.526843Z"
    },
    "papermill": {
     "duration": 0.017991,
     "end_time": "2025-01-22T10:35:27.529527",
     "exception": false,
     "start_time": "2025-01-22T10:35:27.511536",
     "status": "completed"
    },
    "tags": []
   },
   "outputs": [],
   "source": [
    "exec(open('/data/id11/nanoscope/install_ImageD11_from_git.py').read())"
   ]
  },
  {
   "cell_type": "code",
   "execution_count": 3,
   "id": "80809290-53e9-48a0-bb4a-6a5ed3ef5b1f",
   "metadata": {
    "execution": {
     "iopub.execute_input": "2025-01-22T10:35:27.540733Z",
     "iopub.status.busy": "2025-01-22T10:35:27.540153Z",
     "iopub.status.idle": "2025-01-22T10:35:27.952574Z",
     "shell.execute_reply": "2025-01-22T10:35:27.951437Z"
    },
    "papermill": {
     "duration": 0.421538,
     "end_time": "2025-01-22T10:35:27.955722",
     "exception": false,
     "start_time": "2025-01-22T10:35:27.534184",
     "status": "completed"
    },
    "tags": [
     "parameters"
    ]
   },
   "outputs": [
    {
     "name": "stdout",
     "output_type": "stream",
     "text": [
      "# Setting path via: \n",
      "sys.path.insert(0, /home/esrf/james1997a/Code/ImageD11 )\n"
     ]
    },
    {
     "name": "stdout",
     "output_type": "stream",
     "text": [
      "# Running from: /home/esrf/james1997a/Code/ImageD11/ImageD11/__init__.py\n"
     ]
    }
   ],
   "source": [
    "# this cell is tagged with 'parameters'\n",
    "# to view the tag, select the cell, then find the settings gear icon (right or left sidebar) and look for Cell Tags\n",
    "\n",
    "# python environment stuff\n",
    "PYTHONPATH = setup_ImageD11_from_git( ) # ( os.path.join( os.environ['HOME'],'Code'), 'ImageD11_git' )\n",
    "\n",
    "# dataset file to import\n",
    "dset_file = 'si_cube_test/processed/Si_cube/Si_cube_S3DXRD_nt_moves_dty/Si_cube_S3DXRD_nt_moves_dty_dataset.h5'\n",
    "\n",
    "# which phase to refine\n",
    "phase_str = 'Si'\n",
    "\n",
    "# default options for the single-valued map (shouldn't need to modify this)\n",
    "default_npks = 20\n",
    "default_nuniq = 20\n",
    "\n",
    "# refinement tolerances\n",
    "hkl_tol_origins = 0.05\n",
    "hkl_tol_refine = 0.1\n",
    "hkl_tol_refine_merged = 0.05\n",
    "ds_tol = 0.004\n",
    "ifrac = 7e-3\n",
    "\n",
    "# use cluster for refinement or run locally?\n",
    "use_cluster = False"
   ]
  },
  {
   "cell_type": "code",
   "execution_count": 4,
   "id": "663985d7",
   "metadata": {
    "execution": {
     "iopub.execute_input": "2025-01-22T10:35:27.974437Z",
     "iopub.status.busy": "2025-01-22T10:35:27.973239Z",
     "iopub.status.idle": "2025-01-22T10:35:27.981288Z",
     "shell.execute_reply": "2025-01-22T10:35:27.980282Z"
    },
    "papermill": {
     "duration": 0.017275,
     "end_time": "2025-01-22T10:35:27.982713",
     "exception": false,
     "start_time": "2025-01-22T10:35:27.965438",
     "status": "completed"
    },
    "tags": [
     "injected-parameters"
    ]
   },
   "outputs": [],
   "source": [
    "# Parameters\n",
    "PYTHONPATH = \"../\"\n",
    "dset_file = \"tomo_route/processed/Si_cube/Si_cube_S3DXRD_nt_moves_dty/Si_cube_S3DXRD_nt_moves_dty_dataset.h5\"\n",
    "phase_str = \"Si\"\n",
    "default_npks = 20\n",
    "default_nuniq = 20\n",
    "hkl_tol_origins = 0.05\n",
    "hkl_tol_refine = 0.1\n",
    "hkl_tol_refine_merged = 0.05\n",
    "ds_tol = 0.004\n",
    "ifrac = 0.007\n",
    "use_cluster = False\n"
   ]
  },
  {
   "cell_type": "code",
   "execution_count": 5,
   "id": "8f4b91e0-7a83-462b-85cb-27f65721ff93",
   "metadata": {
    "execution": {
     "iopub.execute_input": "2025-01-22T10:35:27.995163Z",
     "iopub.status.busy": "2025-01-22T10:35:27.993888Z",
     "iopub.status.idle": "2025-01-22T10:35:30.699328Z",
     "shell.execute_reply": "2025-01-22T10:35:30.698129Z"
    },
    "papermill": {
     "duration": 2.715131,
     "end_time": "2025-01-22T10:35:30.702680",
     "exception": false,
     "start_time": "2025-01-22T10:35:27.987549",
     "status": "completed"
    },
    "tags": []
   },
   "outputs": [],
   "source": [
    "# import functions we need\n",
    "\n",
    "import os\n",
    "import concurrent.futures\n",
    "import timeit\n",
    "\n",
    "import matplotlib\n",
    "%matplotlib ipympl\n",
    "\n",
    "import h5py\n",
    "from tqdm.notebook import tqdm\n",
    "import numpy as np\n",
    "import matplotlib.pyplot as plt\n",
    "import matplotlib.cm as cm\n",
    "from matplotlib.colors import Normalize\n",
    "\n",
    "from xfab.symmetry import Umis\n",
    "\n",
    "import ImageD11.columnfile\n",
    "from ImageD11.sinograms.tensor_map import TensorMap\n",
    "from ImageD11.sinograms.point_by_point import PBPRefine\n",
    "from ImageD11.peakselect import select_ring_peaks_by_intensity\n",
    "from ImageD11.sinograms import properties, roi_iradon\n",
    "from ImageD11.sinograms.sinogram import GrainSinogram, build_slice_arrays, write_slice_recon, read_slice_recon, write_h5, read_h5, write_pbp_strain\n",
    "from ImageD11.grain import grain\n",
    "from ImageD11 import cImageD11\n",
    "\n",
    "import ImageD11.nbGui.nb_utils as utils"
   ]
  },
  {
   "cell_type": "code",
   "execution_count": 6,
   "id": "20ff052b-cca8-4310-8b29-4c82e0e513c8",
   "metadata": {
    "execution": {
     "iopub.execute_input": "2025-01-22T10:35:30.722785Z",
     "iopub.status.busy": "2025-01-22T10:35:30.721768Z",
     "iopub.status.idle": "2025-01-22T10:35:30.772257Z",
     "shell.execute_reply": "2025-01-22T10:35:30.771506Z"
    },
    "papermill": {
     "duration": 0.06067,
     "end_time": "2025-01-22T10:35:30.774563",
     "exception": false,
     "start_time": "2025-01-22T10:35:30.713893",
     "status": "completed"
    },
    "tags": []
   },
   "outputs": [
    {
     "name": "stdout",
     "output_type": "stream",
     "text": [
      "dataroot = \"/home/esrf/james1997a/Code/ImageD11/test/tomo_route/raw\"\n",
      "analysisroot = \"/home/esrf/james1997a/Code/ImageD11/test/tomo_route/processed\"\n",
      "sample = \"Si_cube\"\n",
      "dset = \"S3DXRD_nt_moves_dty\"\n",
      "shape = ( 41, 3620)\n",
      "# scans 41 from 1.1 to 41.1\n",
      "(41, 3620)\n"
     ]
    }
   ],
   "source": [
    "# USER: Pass path to dataset file\n",
    "\n",
    "ds = ImageD11.sinograms.dataset.load(dset_file)\n",
    "   \n",
    "sample = ds.sample\n",
    "dataset = ds.dsname\n",
    "rawdata_path = ds.dataroot\n",
    "processed_data_root_dir = ds.analysisroot\n",
    "\n",
    "print(ds)\n",
    "print(ds.shape)"
   ]
  },
  {
   "cell_type": "code",
   "execution_count": 7,
   "id": "2d1b9af4-89a7-4dff-b258-cc2f77db5ee3",
   "metadata": {
    "execution": {
     "iopub.execute_input": "2025-01-22T10:35:30.792684Z",
     "iopub.status.busy": "2025-01-22T10:35:30.792054Z",
     "iopub.status.idle": "2025-01-22T10:35:30.803995Z",
     "shell.execute_reply": "2025-01-22T10:35:30.802937Z"
    },
    "papermill": {
     "duration": 0.021698,
     "end_time": "2025-01-22T10:35:30.805416",
     "exception": false,
     "start_time": "2025-01-22T10:35:30.783718",
     "status": "completed"
    },
    "tags": []
   },
   "outputs": [
    {
     "data": {
      "text/plain": [
       "{'Si': <ImageD11.unitcell.unitcell at 0x14c43e2476d0>}"
      ]
     },
     "execution_count": 7,
     "metadata": {},
     "output_type": "execute_result"
    }
   ],
   "source": [
    "# load phases from parameter file\n",
    "\n",
    "ds.phases = ds.get_phases_from_disk()\n",
    "ds.phases.unitcells"
   ]
  },
  {
   "cell_type": "code",
   "execution_count": 8,
   "id": "8722e04a-a23f-4af3-8530-a90874e27e64",
   "metadata": {
    "execution": {
     "iopub.execute_input": "2025-01-22T10:35:30.855427Z",
     "iopub.status.busy": "2025-01-22T10:35:30.854909Z",
     "iopub.status.idle": "2025-01-22T10:35:30.862782Z",
     "shell.execute_reply": "2025-01-22T10:35:30.861595Z"
    },
    "papermill": {
     "duration": 0.02397,
     "end_time": "2025-01-22T10:35:30.864985",
     "exception": false,
     "start_time": "2025-01-22T10:35:30.841015",
     "status": "completed"
    },
    "tags": []
   },
   "outputs": [
    {
     "name": "stdout",
     "output_type": "stream",
     "text": [
      "[ 5.43  5.43  5.43 90.   90.   90.  ] 227\n"
     ]
    }
   ],
   "source": [
    "# now let's select a phase to index from our parameters json\n",
    "\n",
    "ucell = ds.phases.unitcells[phase_str]\n",
    "\n",
    "print(ucell.lattice_parameters, ucell.spacegroup)"
   ]
  },
  {
   "cell_type": "code",
   "execution_count": 9,
   "id": "01a2b143-ed90-4817-92ac-bd78dea2c73c",
   "metadata": {
    "execution": {
     "iopub.execute_input": "2025-01-22T10:35:30.883054Z",
     "iopub.status.busy": "2025-01-22T10:35:30.882421Z",
     "iopub.status.idle": "2025-01-22T10:35:31.340768Z",
     "shell.execute_reply": "2025-01-22T10:35:31.340001Z"
    },
    "papermill": {
     "duration": 0.471436,
     "end_time": "2025-01-22T10:35:31.343562",
     "exception": false,
     "start_time": "2025-01-22T10:35:30.872126",
     "status": "completed"
    },
    "tags": []
   },
   "outputs": [
    {
     "name": "stdout",
     "output_type": "stream",
     "text": [
      "Read 9134 2D peaks\n"
     ]
    }
   ],
   "source": [
    "# Import 2D peaks\n",
    "\n",
    "cf_2d = ds.get_cf_2d()\n",
    "ds.update_colfile_pars(cf_2d, phase_name=phase_str)\n",
    "\n",
    "print(f\"Read {cf_2d.nrows} 2D peaks\")"
   ]
  },
  {
   "cell_type": "code",
   "execution_count": 10,
   "id": "55bf5dc8-a25d-4b09-b1d8-e55b1c6d07b6",
   "metadata": {
    "execution": {
     "iopub.execute_input": "2025-01-22T10:35:31.362329Z",
     "iopub.status.busy": "2025-01-22T10:35:31.362013Z",
     "iopub.status.idle": "2025-01-22T10:35:31.375458Z",
     "shell.execute_reply": "2025-01-22T10:35:31.374353Z"
    },
    "papermill": {
     "duration": 0.021649,
     "end_time": "2025-01-22T10:35:31.376743",
     "exception": false,
     "start_time": "2025-01-22T10:35:31.355094",
     "status": "completed"
    },
    "tags": []
   },
   "outputs": [],
   "source": [
    "# import grainsinos\n",
    "\n",
    "grainsinos = read_h5(ds.grainsfile, ds, phase_str)\n",
    "grains = [gs.grain for gs in grainsinos]"
   ]
  },
  {
   "cell_type": "code",
   "execution_count": 11,
   "id": "ec5ff57a-0a7f-44cd-b437-eb4cc4e2ea25",
   "metadata": {
    "execution": {
     "iopub.execute_input": "2025-01-22T10:35:31.387628Z",
     "iopub.status.busy": "2025-01-22T10:35:31.387338Z",
     "iopub.status.idle": "2025-01-22T10:35:31.395716Z",
     "shell.execute_reply": "2025-01-22T10:35:31.394669Z"
    },
    "papermill": {
     "duration": 0.01463,
     "end_time": "2025-01-22T10:35:31.396887",
     "exception": false,
     "start_time": "2025-01-22T10:35:31.382257",
     "status": "completed"
    },
    "tags": []
   },
   "outputs": [],
   "source": [
    "# import slice reconstructions\n",
    "\n",
    "tensor_map = TensorMap.from_h5(ds.grainsfile, h5group='TensorMap_' + phase_str)"
   ]
  },
  {
   "cell_type": "code",
   "execution_count": 12,
   "id": "094fef49-3c33-4d23-8f6e-8605b72f1b78",
   "metadata": {
    "execution": {
     "iopub.execute_input": "2025-01-22T10:35:31.406773Z",
     "iopub.status.busy": "2025-01-22T10:35:31.406070Z",
     "iopub.status.idle": "2025-01-22T10:35:31.484919Z",
     "shell.execute_reply": "2025-01-22T10:35:31.484284Z"
    },
    "papermill": {
     "duration": 0.089054,
     "end_time": "2025-01-22T10:35:31.490237",
     "exception": false,
     "start_time": "2025-01-22T10:35:31.401183",
     "status": "completed"
    },
    "tags": []
   },
   "outputs": [
    {
     "data": {
      "application/vnd.jupyter.widget-view+json": {
       "model_id": "184d535a19c54d838b8132cb93e76a40",
       "version_major": 2,
       "version_minor": 0
      },
      "image/png": "[encoded data removed]",
      "text/html": [
       "\n",
       "            <div style=\"display: inline-block;\">\n",
       "                <div class=\"jupyter-widgets widget-label\" style=\"text-align: center;\">\n",
       "                    Figure\n",
       "                </div>\n",
       "                <img src='data:image/png;base64,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' width=640.0/>\n",
       "            </div>\n",
       "        "
      ],
      "text/plain": [
       "Canvas(toolbar=Toolbar(toolitems=[('Home', 'Reset original view', 'home', 'home'), ('Back', 'Back to previous …"
      ]
     },
     "metadata": {},
     "output_type": "display_data"
    }
   ],
   "source": [
    "tensor_map.plot('phase_ids')"
   ]
  },
  {
   "cell_type": "code",
   "execution_count": 13,
   "id": "08715524-4a8e-41bb-9d67-165523980f6b",
   "metadata": {
    "execution": {
     "iopub.execute_input": "2025-01-22T10:35:31.507996Z",
     "iopub.status.busy": "2025-01-22T10:35:31.507328Z",
     "iopub.status.idle": "2025-01-22T10:35:31.519136Z",
     "shell.execute_reply": "2025-01-22T10:35:31.518237Z"
    },
    "papermill": {
     "duration": 0.020379,
     "end_time": "2025-01-22T10:35:31.520319",
     "exception": false,
     "start_time": "2025-01-22T10:35:31.499940",
     "status": "completed"
    },
    "tags": []
   },
   "outputs": [],
   "source": [
    "# make a PBPMap from our TensorMap\n",
    "\n",
    "pmap = tensor_map.to_pbpmap(z_layer=0, default_npks=default_npks, default_nuniq=default_nuniq)\n",
    "# fills voxels that have grains with npks = 20 and nuniq = 20"
   ]
  },
  {
   "cell_type": "code",
   "execution_count": 14,
   "id": "33282e98-4e2c-4805-a2b2-468d6949e554",
   "metadata": {
    "execution": {
     "iopub.execute_input": "2025-01-22T10:35:31.531976Z",
     "iopub.status.busy": "2025-01-22T10:35:31.531709Z",
     "iopub.status.idle": "2025-01-22T10:35:31.743225Z",
     "shell.execute_reply": "2025-01-22T10:35:31.742566Z"
    },
    "papermill": {
     "duration": 0.222339,
     "end_time": "2025-01-22T10:35:31.748359",
     "exception": false,
     "start_time": "2025-01-22T10:35:31.526020",
     "status": "completed"
    },
    "tags": []
   },
   "outputs": [
    {
     "data": {
      "application/vnd.jupyter.widget-view+json": {
       "model_id": "1c2c9169a6604449a3727a89c1b04f55",
       "version_major": 2,
       "version_minor": 0
      },
      "image/png": "[encoded data removed]",
      "text/html": [
       "\n",
       "            <div style=\"display: inline-block;\">\n",
       "                <div class=\"jupyter-widgets widget-label\" style=\"text-align: center;\">\n",
       "                    Figure\n",
       "                </div>\n",
       "                <img src='data:image/png;base64,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' width=1000.0/>\n",
       "            </div>\n",
       "        "
      ],
      "text/plain": [
       "Canvas(toolbar=Toolbar(toolitems=[('Home', 'Reset original view', 'home', 'home'), ('Back', 'Back to previous …"
      ]
     },
     "metadata": {},
     "output_type": "display_data"
    }
   ],
   "source": [
    "pmap.choose_best(1)\n",
    "pmap.plot_best(1)"
   ]
  },
  {
   "cell_type": "code",
   "execution_count": 15,
   "id": "f8feef60-367b-478a-9ce4-8a94e3cedd60",
   "metadata": {
    "execution": {
     "iopub.execute_input": "2025-01-22T10:35:31.765199Z",
     "iopub.status.busy": "2025-01-22T10:35:31.764910Z",
     "iopub.status.idle": "2025-01-22T10:35:31.769592Z",
     "shell.execute_reply": "2025-01-22T10:35:31.768814Z"
    },
    "papermill": {
     "duration": 0.012045,
     "end_time": "2025-01-22T10:35:31.770774",
     "exception": false,
     "start_time": "2025-01-22T10:35:31.758729",
     "status": "completed"
    },
    "tags": []
   },
   "outputs": [],
   "source": [
    "# set up a refinement manager object\n",
    "\n",
    "y0 = grainsinos[0].recon_y0\n",
    "\n",
    "refine = PBPRefine(dset=ds, y0=y0, hkl_tol_origins=hkl_tol_origins, hkl_tol_refine=hkl_tol_refine, hkl_tol_refine_merged=hkl_tol_refine_merged, ds_tol=ds_tol, ifrac=ifrac, phase_name=phase_str)"
   ]
  },
  {
   "cell_type": "code",
   "execution_count": 16,
   "id": "9b4fe817-5794-459b-9974-9d70624af3a8",
   "metadata": {
    "execution": {
     "iopub.execute_input": "2025-01-22T10:35:31.783392Z",
     "iopub.status.busy": "2025-01-22T10:35:31.782861Z",
     "iopub.status.idle": "2025-01-22T10:35:31.788778Z",
     "shell.execute_reply": "2025-01-22T10:35:31.787769Z"
    },
    "papermill": {
     "duration": 0.013918,
     "end_time": "2025-01-22T10:35:31.790100",
     "exception": false,
     "start_time": "2025-01-22T10:35:31.776182",
     "status": "completed"
    },
    "tags": []
   },
   "outputs": [],
   "source": [
    "# tell it which point-by-point map we are refining\n",
    "\n",
    "refine.setmap(pmap)\n",
    "\n",
    "# or load from disk:\n",
    "# refine.loadmap()"
   ]
  },
  {
   "cell_type": "code",
   "execution_count": 17,
   "id": "9372bfa0-4dfc-4727-a927-0d3b55c46875",
   "metadata": {
    "execution": {
     "iopub.execute_input": "2025-01-22T10:35:31.803105Z",
     "iopub.status.busy": "2025-01-22T10:35:31.802537Z",
     "iopub.status.idle": "2025-01-22T10:35:31.809359Z",
     "shell.execute_reply": "2025-01-22T10:35:31.808255Z"
    },
    "papermill": {
     "duration": 0.014906,
     "end_time": "2025-01-22T10:35:31.810737",
     "exception": false,
     "start_time": "2025-01-22T10:35:31.795831",
     "status": "completed"
    },
    "tags": []
   },
   "outputs": [],
   "source": [
    "# set the mask from minimum peak values\n",
    "# anything greater than 0 should be accepted\n",
    "\n",
    "refine.mask = pmap.best_npks > 0"
   ]
  },
  {
   "cell_type": "code",
   "execution_count": 18,
   "id": "839ddf32-a6eb-46c5-8725-d1b400acc44c",
   "metadata": {
    "execution": {
     "iopub.execute_input": "2025-01-22T10:35:31.823774Z",
     "iopub.status.busy": "2025-01-22T10:35:31.823094Z",
     "iopub.status.idle": "2025-01-22T10:35:31.830331Z",
     "shell.execute_reply": "2025-01-22T10:35:31.829292Z"
    },
    "papermill": {
     "duration": 0.015223,
     "end_time": "2025-01-22T10:35:31.831607",
     "exception": false,
     "start_time": "2025-01-22T10:35:31.816384",
     "status": "completed"
    },
    "tags": []
   },
   "outputs": [],
   "source": [
    "# generate a single-valued map to refine on\n",
    "\n",
    "refine.setsingle(refine.pbpmap, minpeaks=1)"
   ]
  },
  {
   "cell_type": "code",
   "execution_count": 19,
   "id": "006c33da-97be-434a-b68a-05477814f42f",
   "metadata": {
    "execution": {
     "iopub.execute_input": "2025-01-22T10:35:31.844487Z",
     "iopub.status.busy": "2025-01-22T10:35:31.843925Z",
     "iopub.status.idle": "2025-01-22T10:35:41.952456Z",
     "shell.execute_reply": "2025-01-22T10:35:41.951780Z"
    },
    "papermill": {
     "duration": 10.120352,
     "end_time": "2025-01-22T10:35:41.957623",
     "exception": false,
     "start_time": "2025-01-22T10:35:31.837271",
     "status": "completed"
    },
    "tags": []
   },
   "outputs": [
    {
     "name": "stdout",
     "output_type": "stream",
     "text": [
      "I will delete an existing refined peaks H5 file if I find it on disk!\n",
      "Waiting 10 seconds for you to interrupt this if you are unhappy\n"
     ]
    },
    {
     "name": "stdout",
     "output_type": "stream",
     "text": [
      "Continuing\n",
      "To disable this prompt, set prompt_del=False when calling setpeaks()\n",
      "0 0.3190 (1, 1, 1) 8 74 used, sum_intensity> 18.963\n",
      "1 0.5209 (2, 2, 0) 12 117 used, sum_intensity> 15.729000000000001\n",
      "2 0.6108 (3, 1, 1) 24 220 used, sum_intensity> 39.375\n",
      "4 0.7366 (4, 0, 0) 6 65 used, sum_intensity> 12.159\n",
      "5 0.8027 (3, 3, 1) 24 223 used, sum_intensity> 7.231\n",
      "6 0.9022 (2, 2, 4) 24 216 used, sum_intensity> 19.971\n",
      "7 0.9569 (5, 1, 1) 32 259 used, sum_intensity> 13.139000000000001\n",
      "8 1.0418 (4, 4, 0) 12 117 used, sum_intensity> 6.58\n",
      "9 1.0895 (1, 5, 3) 48 437 used, sum_intensity> 7.252\n",
      "10 1.1050 (2, 4, 4) 24 2 used, sum_intensity> 0.07\n",
      "11 1.1647 (2, 6, 0) 24 201 used, sum_intensity> 9.723\n",
      "12 1.2076 (5, 3, 3) 24 173 used, sum_intensity> 4.067\n",
      "13 1.2216 (2, 6, 2) 24 3 used, sum_intensity> 0.056\n",
      "14 1.2759 (4, 4, 4) 8 68 used, sum_intensity> 3.0100000000000002\n",
      "15 1.3152 (7, 1, 1) 48 377 used, sum_intensity> 3.731\n",
      "16 1.3781 (4, 2, 6) 48 340 used, sum_intensity> 3.297\n",
      "17 1.4146 (3, 1, 7) 72 463 used, sum_intensity> 2.226\n",
      "18 1.4733 (8, 0, 0) 6 51 used, sum_intensity> 1.988\n",
      "19 1.5074 (3, 7, 3) 24 143 used, sum_intensity> 1.778\n",
      "21 1.5627 (0, 6, 6) 36 230 used, sum_intensity> 1.561\n",
      "22 1.5949 (1, 5, 7) 56 292 used, sum_intensity> 1.19\n",
      "23 1.6055 (6, 6, 2) 24 1 used, sum_intensity> 0.042\n",
      "24 1.6472 (4, 8, 0) 24 168 used, sum_intensity> 2.275\n",
      "25 1.6778 (7, 5, 3) 72 327 used, sum_intensity> 1.0150000000000001\n",
      "27 1.7276 (6, 6, 4) 24 100 used, sum_intensity> 1.043\n",
      "28 1.7568 (1, 3, 9) 48 187 used, sum_intensity> 0.721\n",
      "29 1.8044 (8, 4, 4) 24 85 used, sum_intensity> 1.351\n",
      "30 1.8324 (1, 7, 7) 72 182 used, sum_intensity> 0.497\n",
      "31 1.8781 (6, 2, 8) 72 229 used, sum_intensity> 1.19\n",
      "32 1.9050 (7, 7, 3) 72 125 used, sum_intensity> 0.23800000000000002\n",
      "33 1.9139 (10, 2, 2) 32 2 used, sum_intensity> 0.056\n",
      "34 1.9749 (9, 3, 5) 48 64 used, sum_intensity> 0.42\n",
      "35 1.9835 (6, 4, 8) 48 4 used, sum_intensity> 0.056\n",
      "36 2.0174 (2, 4, 10) 48 100 used, sum_intensity> 0.665\n",
      "37 2.0425 (7, 7, 5) 48 51 used, sum_intensity> 0.266\n",
      "38 2.0836 (8, 8, 0) 12 16 used, sum_intensity> 0.308\n",
      "39 2.1078 (5, 5, 9) 120 93 used, sum_intensity> 0.294\n",
      "40 2.1159 (4, 10, 4) 48 2 used, sum_intensity> 0.056\n",
      "41 2.1477 (0, 6, 10) 48 50 used, sum_intensity> 0.371\n",
      "42 2.1712 (7, 3, 9) 72 19 used, sum_intensity> 0.11900000000000001\n",
      "43 2.1790 (6, 2, 10) 48 3 used, sum_intensity> 0.07\n",
      "44 2.2099 (8, 4, 8) 30 23 used, sum_intensity> 0.231\n",
      "45 2.2328 (7, 7, 7) 56 12 used, sum_intensity> 0.098\n",
      "46 2.2705 (2, 12, 2) 72 52 used, sum_intensity> 0.231\n",
      "47 2.2928 (5, 9, 7) 96 20 used, sum_intensity> 0.168\n",
      "48 2.3295 (12, 0, 4) 24 16 used, sum_intensity> 0.112\n",
      "49 2.3512 (1, 9, 9) 24 5 used, sum_intensity> 0.07\n",
      "50 2.3584 (2, 12, 4) 72 1 used, sum_intensity> 0.042\n",
      "51 2.3870 (10, 8, 2) 48 22 used, sum_intensity> 0.112\n",
      "52 2.4082 (7, 11, 1) 120 5 used, sum_intensity> 0.098\n",
      "53 2.4153 (10, 6, 6) 24 2 used, sum_intensity> 0.056\n",
      "54 2.4432 (12, 4, 4) 24 4 used, sum_intensity> 0.084\n",
      "55 2.4639 (1, 13, 3) 120 5 used, sum_intensity> 0.091\n",
      "56 2.4708 (10, 8, 4) 48 2 used, sum_intensity> 0.084\n",
      "57 2.4981 (2, 6, 12) 48 2 used, sum_intensity> 0.056\n",
      "58 2.5184 (9, 5, 9) 48 5 used, sum_intensity> 0.07\n",
      "59 2.5518 (8, 8, 8) 8 6 used, sum_intensity> 0.056\n",
      "60 2.5717 (13, 1, 5) 96 3 used, sum_intensity> 0.084\n",
      "61 2.5783 (12, 6, 4) 48 1 used, sum_intensity> 0.07\n",
      "62 2.6044 (6, 8, 10) 84 2 used, sum_intensity> 0.042\n",
      "63 2.6239 (5, 3, 13) 96 2 used, sum_intensity> 0.056\n",
      "64 2.6304 (2, 10, 10) 48 2 used, sum_intensity> 0.056\n",
      "65 2.6560 (8, 12, 0) 24 1 used, sum_intensity> 0.042\n",
      "67 2.6814 (8, 12, 2) 48 3 used, sum_intensity> 0.084\n",
      "70 2.7563 (12, 4, 8) 48 1 used, sum_intensity> 0.042\n",
      "71 2.7747 (1, 1, 15) 120 1 used, sum_intensity> 0.042\n",
      "72 2.7808 (10, 8, 8) 48 2 used, sum_intensity> 0.056\n",
      "74 2.8232 (1, 3, 15) 48 1 used, sum_intensity> 0.042\n",
      "75 2.8292 (10, 10, 6) 72 1 used, sum_intensity> 0.042\n",
      "76 2.8708 (3, 3, 15) 104 1 used, sum_intensity> 0.042\n",
      "77 2.8767 (6, 12, 8) 48 2 used, sum_intensity> 0.042\n",
      "78 2.9002 (14, 4, 6) 96 1 used, sum_intensity> 0.042\n",
      "86 3.0373 (12, 8, 8) 48 1 used, sum_intensity> 0.042\n",
      "87 3.0540 (7, 15, 1) 120 1 used, sum_intensity> 0.042\n",
      "88 3.0595 (4, 8, 14) 96 1 used, sum_intensity> 0.042\n",
      "90 3.0981 (3, 15, 7) 72 1 used, sum_intensity> 0.028\n",
      "91 3.1253 (12, 0, 12) 36 1 used, sum_intensity> 0.042\n",
      "93 3.1470 (12, 12, 2) 24 1 used, sum_intensity> 0.084\n",
      "95 3.1845 (17, 1, 3) 192 1 used, sum_intensity> 0.042\n",
      "Using for refinement: 6088 npks, forref 4066 range(0, 96)\n"
     ]
    },
    {
     "data": {
      "text/plain": [
       "['s_raw',\n",
       " 'f_raw',\n",
       " 'omega',\n",
       " 'dty',\n",
       " 'Number_of_pixels',\n",
       " 'sum_intensity',\n",
       " 'spot3d_id',\n",
       " 'sc',\n",
       " 'fc',\n",
       " 'xl',\n",
       " 'yl',\n",
       " 'zl',\n",
       " 'tth',\n",
       " 'eta',\n",
       " 'ds',\n",
       " 'gx',\n",
       " 'gy',\n",
       " 'gz',\n",
       " 'isel',\n",
       " 'dtyi',\n",
       " 'sinomega',\n",
       " 'cosomega']"
      ]
     },
     "execution_count": 19,
     "metadata": {},
     "output_type": "execute_result"
    }
   ],
   "source": [
    "# choose 2D peaks to refine with\n",
    "\n",
    "refine.setpeaks(cf_2d)\n",
    "\n",
    "# or load from disk:\n",
    "# refine.loadpeaks()\n",
    "\n",
    "refine.icolf.titles"
   ]
  },
  {
   "cell_type": "code",
   "execution_count": 20,
   "id": "0166325e-2716-492c-a39d-a0ea3b8680b0",
   "metadata": {
    "execution": {
     "iopub.execute_input": "2025-01-22T10:35:41.980196Z",
     "iopub.status.busy": "2025-01-22T10:35:41.979581Z",
     "iopub.status.idle": "2025-01-22T10:35:42.410026Z",
     "shell.execute_reply": "2025-01-22T10:35:42.409340Z"
    },
    "papermill": {
     "duration": 0.446172,
     "end_time": "2025-01-22T10:35:42.415000",
     "exception": false,
     "start_time": "2025-01-22T10:35:41.968828",
     "status": "completed"
    },
    "tags": []
   },
   "outputs": [
    {
     "data": {
      "text/plain": [
       "(<Figure size 640x480 with 3 Axes>,\n",
       " array([<Axes: xlabel='d-star', ylabel='sum intensity'>,\n",
       "        <Axes: xlabel='omega', ylabel='dty'>], dtype=object))"
      ]
     },
     "execution_count": 20,
     "metadata": {},
     "output_type": "execute_result"
    },
    {
     "data": {
      "application/vnd.jupyter.widget-view+json": {
       "model_id": "15085c7b771a4b7e890fd52096942fc5",
       "version_major": 2,
       "version_minor": 0
      },
      "image/png": "[encoded data removed]",
      "text/html": [
       "\n",
       "            <div style=\"display: inline-block;\">\n",
       "                <div class=\"jupyter-widgets widget-label\" style=\"text-align: center;\">\n",
       "                    Figure\n",
       "                </div>\n",
       "                <img src='data:image/png;base64,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' width=640.0/>\n",
       "            </div>\n",
       "        "
      ],
      "text/plain": [
       "Canvas(toolbar=Toolbar(toolitems=[('Home', 'Reset original view', 'home', 'home'), ('Back', 'Back to previous …"
      ]
     },
     "metadata": {},
     "output_type": "display_data"
    }
   ],
   "source": [
    "# plot the peaks you selected\n",
    "\n",
    "refine.iplot()"
   ]
  },
  {
   "cell_type": "code",
   "execution_count": 21,
   "id": "22f5c297-a8b9-4d89-9f86-366cb7144adb",
   "metadata": {
    "execution": {
     "iopub.execute_input": "2025-01-22T10:35:42.434702Z",
     "iopub.status.busy": "2025-01-22T10:35:42.434315Z",
     "iopub.status.idle": "2025-01-22T10:35:42.501170Z",
     "shell.execute_reply": "2025-01-22T10:35:42.500765Z"
    },
    "papermill": {
     "duration": 0.075954,
     "end_time": "2025-01-22T10:35:42.502511",
     "exception": false,
     "start_time": "2025-01-22T10:35:42.426557",
     "status": "completed"
    },
    "tags": []
   },
   "outputs": [
    {
     "name": "stdout",
     "output_type": "stream",
     "text": [
      "Getting gvecs...\n",
      "Running test function twice for the first 6088 peaks to guess speed...\n",
      "This is because we get speed advantages with peaks on consecutive frames\n",
      "First time to trigger NJIT\n",
      "Now we time\n",
      "I estimate roughly 0.0007884147483855486 seconds for all peaks in self.icolf\n",
      "That's 2.1900409677376348e-07 hours\n",
      "Lexsort...\n",
      "Running numba computation on 39 threads, may take a while!\n",
      "xpos_refined column added to self.icolf\n",
      "Saving self.icolf to disk with new column\n"
     ]
    }
   ],
   "source": [
    "# compute diffraction origins - these will be added as a column to refine.icolf\n",
    "# will then save the new column to disk to avoid re-computation\n",
    "\n",
    "refine.get_origins()"
   ]
  },
  {
   "cell_type": "code",
   "execution_count": 22,
   "id": "7cde5eb5-ce0f-49b5-a6cb-4761f16cee32",
   "metadata": {
    "execution": {
     "iopub.execute_input": "2025-01-22T10:35:42.518606Z",
     "iopub.status.busy": "2025-01-22T10:35:42.518283Z",
     "iopub.status.idle": "2025-01-22T10:35:42.665555Z",
     "shell.execute_reply": "2025-01-22T10:35:42.665055Z"
    },
    "papermill": {
     "duration": 0.160298,
     "end_time": "2025-01-22T10:35:42.670692",
     "exception": false,
     "start_time": "2025-01-22T10:35:42.510394",
     "status": "completed"
    },
    "tags": []
   },
   "outputs": [
    {
     "name": "stdout",
     "output_type": "stream",
     "text": [
      "Launching Numba parallel refinement on 39 threads\n"
     ]
    },
    {
     "name": "stdout",
     "output_type": "stream",
     "text": [
      "Saving refined map to disk\n"
     ]
    }
   ],
   "source": [
    "# run the refinement\n",
    "# if compute_origins took more than a couple of minutes to run, I suggest setting use_cluster=True below\n",
    "# otherwise if you asked for lots of cores and RAM on this Jupyter instance, you can run it locally (use_cluster=False)\n",
    "\n",
    "refine.run_refine(use_cluster=use_cluster, pythonpath=PYTHONPATH)"
   ]
  },
  {
   "cell_type": "code",
   "execution_count": 23,
   "id": "acbd5197-268c-48ab-b676-ac0c186b4533",
   "metadata": {
    "execution": {
     "iopub.execute_input": "2025-01-22T10:35:42.696164Z",
     "iopub.status.busy": "2025-01-22T10:35:42.695787Z",
     "iopub.status.idle": "2025-01-22T10:35:42.846927Z",
     "shell.execute_reply": "2025-01-22T10:35:42.846215Z"
    },
    "papermill": {
     "duration": 0.16287,
     "end_time": "2025-01-22T10:35:42.849203",
     "exception": false,
     "start_time": "2025-01-22T10:35:42.686333",
     "status": "completed"
    },
    "tags": []
   },
   "outputs": [
    {
     "name": "stdout",
     "output_type": "stream",
     "text": [
      "Saving icolf to disk\n",
      "Saving input map to disk\n"
     ]
    },
    {
     "name": "stdout",
     "output_type": "stream",
     "text": [
      "Saving output map to disk\n",
      "Saving myself to disk\n"
     ]
    }
   ],
   "source": [
    "# save refinement results to disk\n",
    "\n",
    "if not use_cluster:\n",
    "    refine.to_h5()\n",
    "\n",
    "ds.save()"
   ]
  },
  {
   "cell_type": "code",
   "execution_count": 24,
   "id": "32f475c8-968b-48b6-9840-83ef517144ac",
   "metadata": {
    "execution": {
     "iopub.execute_input": "2025-01-22T10:35:42.871814Z",
     "iopub.status.busy": "2025-01-22T10:35:42.871441Z",
     "iopub.status.idle": "2025-01-22T10:35:42.885526Z",
     "shell.execute_reply": "2025-01-22T10:35:42.884877Z"
    },
    "papermill": {
     "duration": 0.024867,
     "end_time": "2025-01-22T10:35:42.887478",
     "exception": false,
     "start_time": "2025-01-22T10:35:42.862611",
     "status": "completed"
    },
    "tags": []
   },
   "outputs": [
    {
     "name": "stdout",
     "output_type": "stream",
     "text": [
      "Done!\n"
     ]
    }
   ],
   "source": [
    "# Now that we're happy with our refinement parameters, we can run the below cell to do this in bulk for many samples/datasets\n",
    "# by default this will do all samples in sample_list, all datasets with a prefix of dset_prefix\n",
    "# you can add samples and datasets to skip in skips_dict\n",
    "\n",
    "skips_dict = {\n",
    "    \"FeAu_0p5_tR_nscope\": [\"top_-50um\", \"top_-100um\"]\n",
    "}\n",
    "\n",
    "dset_prefix = \"top\"\n",
    "\n",
    "sample_list = [\"FeAu_0p5_tR_nscope\"]\n",
    "    \n",
    "samples_dict = utils.find_datasets_to_process(ds.dataroot, skips_dict, dset_prefix, sample_list)\n",
    "    \n",
    "# manual override:\n",
    "# samples_dict = {\"FeAu_0p5_tR_nscope\": [\"top_100um\", \"top_150um\"]}\n",
    "    \n",
    "# now we have our samples_dict, we can process our data:\n",
    "\n",
    "for sample, datasets in samples_dict.items():\n",
    "    for dataset in datasets:\n",
    "        print(f\"Processing dataset {dataset} in sample {sample}\")\n",
    "        dset_path = os.path.join(ds.analysisroot, sample, f\"{sample}_{dataset}\", f\"{sample}_{dataset}_dataset.h5\")\n",
    "        if not os.path.exists(dset_path):\n",
    "            print(f\"Missing DataSet file for {dataset} in sample {sample}, skipping\")\n",
    "            continue\n",
    "        \n",
    "        print(\"Importing DataSet object\")\n",
    "        \n",
    "        ds = ImageD11.sinograms.dataset.load(dset_path)\n",
    "        print(f\"I have a DataSet {ds.dset} in sample {ds.sample}\")\n",
    "        if os.path.exists(ds.refoutfile):\n",
    "            print(f\"Already have PBP refinement output file for {dataset} in sample {sample}, skipping\")\n",
    "            continue\n",
    "        \n",
    "        if not os.path.exists(ds.pbpfile):\n",
    "            print(f\"Can't find PBP indexing file for {dataset} in sample {sample}, skipping\")\n",
    "            continue\n",
    "        \n",
    "        cf_2d = ds.get_cf_2d()\n",
    "        ds.update_colfile_pars(cf_2d, phase_name=phase_str)\n",
    "\n",
    "        if not os.path.exists(ds.col2dfile):\n",
    "            ImageD11.columnfile.colfile_to_hdf(cf_2d, ds.col2dfile)\n",
    "            \n",
    "        grainsinos = read_h5(ds.grainsfile, ds, phase_str)\n",
    "        y0 = grainsinos[0].recon_y0\n",
    "        \n",
    "        tensor_map = TensorMap.from_h5(ds.grainsfile, h5group='TensorMap_' + phase_str)\n",
    "        pmap = tensor_map.to_pbpmap(z_layer=0, default_npks=default_npks, default_nuniq=default_nuniq)\n",
    "        pmap.choose_best(1)\n",
    "\n",
    "        refine = PBPRefine(dset=ds, y0=y0, hkl_tol_origins=hkl_tol_origins, hkl_tol_refine=hkl_tol_refine, hkl_tol_refine_merged=hkl_tol_refine_merged, ds_tol=ds_tol, ifrac=ifrac, phase_name=phase_str)\n",
    "        \n",
    "        refine.setmap(pmap)\n",
    "        refine.setpeaks(cf_2d)\n",
    "        refine.mask = pmap.best_npks > 0\n",
    "        refine.setsingle(refine.pbpmap, minpeaks=1)\n",
    "        refine.get_origins()\n",
    "        refine.run_refine(use_cluster=use_cluster, pythonpath=PYTHONPATH)\n",
    "        if not use_cluster:\n",
    "            # wait to complete locally, then save\n",
    "            refine.to_h5()\n",
    "        ds.save()\n",
    "\n",
    "print(\"Done!\")"
   ]
  },
  {
   "cell_type": "code",
   "execution_count": null,
   "id": "58ebe56b-916c-4a57-a0ae-4471c09b80a0",
   "metadata": {
    "papermill": {
     "duration": 0.008132,
     "end_time": "2025-01-22T10:35:42.906513",
     "exception": false,
     "start_time": "2025-01-22T10:35:42.898381",
     "status": "completed"
    },
    "tags": []
   },
   "outputs": [],
   "source": []
  }
 ],
 "metadata": {
  "kernelspec": {
   "display_name": "Python 3 (main)",
   "language": "python",
   "name": "python3"
  },
  "language_info": {
   "codemirror_mode": {
    "name": "ipython",
    "version": 3
   },
   "file_extension": ".py",
   "mimetype": "text/x-python",
   "name": "python",
   "nbconvert_exporter": "python",
   "pygments_lexer": "ipython3",
   "version": "3.11.6"
  },
  "papermill": {
   "default_parameters": {},
   "duration": 19.220511,
   "end_time": "2025-01-22T10:35:45.533954",
   "environment_variables": {},
   "exception": null,
   "input_path": "../ImageD11/nbGui/S3DXRD/tomo_3_refinement.ipynb",
   "output_path": "tomo_route/nb_out/tomo_3_refinement_out.ipynb",
   "parameters": {
    "PYTHONPATH": "../",
    "default_npks": 20,
    "default_nuniq": 20,
    "ds_tol": 0.004,
    "dset_file": "tomo_route/processed/Si_cube/Si_cube_S3DXRD_nt_moves_dty/Si_cube_S3DXRD_nt_moves_dty_dataset.h5",
    "hkl_tol_origins": 0.05,
    "hkl_tol_refine": 0.1,
    "hkl_tol_refine_merged": 0.05,
    "ifrac": 0.007,
    "phase_str": "Si",
    "use_cluster": false
   },
   "start_time": "2025-01-22T10:35:26.313443",
   "version": "2.6.0"
  },
  "widgets": {
   "application/vnd.jupyter.widget-state+json": {
    "state": {
     "15085c7b771a4b7e890fd52096942fc5": {
      "model_module": "jupyter-matplotlib",
      "model_module_version": "^0.11",
      "model_name": "MPLCanvasModel",
      "state": {
       "_cursor": "pointer",
       "_data_url": "data:image/png;base64,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",
       "_dom_classes": [],
       "_figure_label": "Figure",
       "_image_mode": "full",
       "_message": "",
       "_model_module": "jupyter-matplotlib",
       "_model_module_version": "^0.11",
       "_model_name": "MPLCanvasModel",
       "_rubberband_height": 0,
       "_rubberband_width": 0,
       "_rubberband_x": 0,
       "_rubberband_y": 0,
       "_size": [
        640.0,
        480.0
       ],
       "_view_count": null,
       "_view_module": "jupyter-matplotlib",
       "_view_module_version": "^0.11",
       "_view_name": "MPLCanvasView",
       "capture_scroll": false,
       "footer_visible": true,
       "header_visible": true,
       "layout": "IPY_MODEL_65a99d8153df4c64bacfe0071478fcf9",
       "pan_zoom_throttle": 33.0,
       "resizable": true,
       "tabbable": null,
       "toolbar": "IPY_MODEL_2f528ecf7e4641a4b3367b311cc55133",
       "toolbar_position": "left",
       "toolbar_visible": "fade-in-fade-out",
       "tooltip": null
      }
     },
     "184d535a19c54d838b8132cb93e76a40": {
      "model_module": "jupyter-matplotlib",
      "model_module_version": "^0.11",
      "model_name": "MPLCanvasModel",
      "state": {
       "_cursor": "pointer",
       "_data_url": "data:image/png;base64,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",
       "_dom_classes": [],
       "_figure_label": "Figure",
       "_image_mode": "full",
       "_message": "",
       "_model_module": "jupyter-matplotlib",
       "_model_module_version": "^0.11",
       "_model_name": "MPLCanvasModel",
       "_rubberband_height": 0,
       "_rubberband_width": 0,
       "_rubberband_x": 0,
       "_rubberband_y": 0,
       "_size": [
        640.0,
        480.0
       ],
       "_view_count": null,
       "_view_module": "jupyter-matplotlib",
       "_view_module_version": "^0.11",
       "_view_name": "MPLCanvasView",
       "capture_scroll": false,
       "footer_visible": true,
       "header_visible": true,
       "layout": "IPY_MODEL_1c21bd8d6fff4583a6418a510b1b3f92",
       "pan_zoom_throttle": 33.0,
       "resizable": true,
       "tabbable": null,
       "toolbar": "IPY_MODEL_443ea26b599f46679f09ed10b2167c5c",
       "toolbar_position": "left",
       "toolbar_visible": "fade-in-fade-out",
       "tooltip": null
      }
     },
     "1c21bd8d6fff4583a6418a510b1b3f92": {
      "model_module": "@jupyter-widgets/base",
      "model_module_version": "2.0.0",
      "model_name": "LayoutModel",
      "state": {
       "_model_module": "@jupyter-widgets/base",
       "_model_module_version": "2.0.0",
       "_model_name": "LayoutModel",
       "_view_count": null,
       "_view_module": "@jupyter-widgets/base",
       "_view_module_version": "2.0.0",
       "_view_name": "LayoutView",
       "align_content": null,
       "align_items": null,
       "align_self": null,
       "border_bottom": null,
       "border_left": null,
       "border_right": null,
       "border_top": null,
       "bottom": null,
       "display": null,
       "flex": null,
       "flex_flow": null,
       "grid_area": null,
       "grid_auto_columns": null,
       "grid_auto_flow": null,
       "grid_auto_rows": null,
       "grid_column": null,
       "grid_gap": null,
       "grid_row": null,
       "grid_template_areas": null,
       "grid_template_columns": null,
       "grid_template_rows": null,
       "height": null,
       "justify_content": null,
       "justify_items": null,
       "left": null,
       "margin": null,
       "max_height": null,
       "max_width": null,
       "min_height": null,
       "min_width": null,
       "object_fit": null,
       "object_position": null,
       "order": null,
       "overflow": null,
       "padding": null,
       "right": null,
       "top": null,
       "visibility": null,
       "width": null
      }
     },
     "1c2c9169a6604449a3727a89c1b04f55": {
      "model_module": "jupyter-matplotlib",
      "model_module_version": "^0.11",
      "model_name": "MPLCanvasModel",
      "state": {
       "_cursor": "pointer",
       "_data_url": "data:image/png;base64,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",
       "_dom_classes": [],
       "_figure_label": "Figure",
       "_image_mode": "full",
       "_message": "",
       "_model_module": "jupyter-matplotlib",
       "_model_module_version": "^0.11",
       "_model_name": "MPLCanvasModel",
       "_rubberband_height": 0,
       "_rubberband_width": 0,
       "_rubberband_x": 0,
       "_rubberband_y": 0,
       "_size": [
        1000.0,
        500.0
       ],
       "_view_count": null,
       "_view_module": "jupyter-matplotlib",
       "_view_module_version": "^0.11",
       "_view_name": "MPLCanvasView",
       "capture_scroll": false,
       "footer_visible": true,
       "header_visible": true,
       "layout": "IPY_MODEL_b9a4997eca664546a44f67019bf20c9c",
       "pan_zoom_throttle": 33.0,
       "resizable": true,
       "tabbable": null,
       "toolbar": "IPY_MODEL_50bc2068b5d14d838def7db00cb96a1c",
       "toolbar_position": "left",
       "toolbar_visible": "fade-in-fade-out",
       "tooltip": null
      }
     },
     "2f528ecf7e4641a4b3367b311cc55133": {
      "model_module": "jupyter-matplotlib",
      "model_module_version": "^0.11",
      "model_name": "ToolbarModel",
      "state": {
       "_current_action": "",
       "_dom_classes": [],
       "_model_module": "jupyter-matplotlib",
       "_model_module_version": "^0.11",
       "_model_name": "ToolbarModel",
       "_view_count": null,
       "_view_module": "jupyter-matplotlib",
       "_view_module_version": "^0.11",
       "_view_name": "ToolbarView",
       "button_style": "",
       "collapsed": true,
       "layout": "IPY_MODEL_99a7cbd193e044008afd74664f2e37e9",
       "orientation": "vertical",
       "tabbable": null,
       "toolitems": [
        [
         "Home",
         "Reset original view",
         "home",
         "home"
        ],
        [
         "Back",
         "Back to previous view",
         "arrow-left",
         "back"
        ],
        [
         "Forward",
         "Forward to next view",
         "arrow-right",
         "forward"
        ],
        [
         "Pan",
         "Left button pans, Right button zooms\nx/y fixes axis, CTRL fixes aspect",
         "arrows",
         "pan"
        ],
        [
         "Zoom",
         "Zoom to rectangle\nx/y fixes axis",
         "square-o",
         "zoom"
        ],
        [
         "Download",
         "Download plot",
         "floppy-o",
         "save_figure"
        ]
       ],
       "tooltip": null
      }
     },
     "443ea26b599f46679f09ed10b2167c5c": {
      "model_module": "jupyter-matplotlib",
      "model_module_version": "^0.11",
      "model_name": "ToolbarModel",
      "state": {
       "_current_action": "",
       "_dom_classes": [],
       "_model_module": "jupyter-matplotlib",
       "_model_module_version": "^0.11",
       "_model_name": "ToolbarModel",
       "_view_count": null,
       "_view_module": "jupyter-matplotlib",
       "_view_module_version": "^0.11",
       "_view_name": "ToolbarView",
       "button_style": "",
       "collapsed": true,
       "layout": "IPY_MODEL_9957bb49065f484cb384c2897000e8e4",
       "orientation": "vertical",
       "tabbable": null,
       "toolitems": [
        [
         "Home",
         "Reset original view",
         "home",
         "home"
        ],
        [
         "Back",
         "Back to previous view",
         "arrow-left",
         "back"
        ],
        [
         "Forward",
         "Forward to next view",
         "arrow-right",
         "forward"
        ],
        [
         "Pan",
         "Left button pans, Right button zooms\nx/y fixes axis, CTRL fixes aspect",
         "arrows",
         "pan"
        ],
        [
         "Zoom",
         "Zoom to rectangle\nx/y fixes axis",
         "square-o",
         "zoom"
        ],
        [
         "Download",
         "Download plot",
         "floppy-o",
         "save_figure"
        ]
       ],
       "tooltip": null
      }
     },
     "50bc2068b5d14d838def7db00cb96a1c": {
      "model_module": "jupyter-matplotlib",
      "model_module_version": "^0.11",
      "model_name": "ToolbarModel",
      "state": {
       "_current_action": "",
       "_dom_classes": [],
       "_model_module": "jupyter-matplotlib",
       "_model_module_version": "^0.11",
       "_model_name": "ToolbarModel",
       "_view_count": null,
       "_view_module": "jupyter-matplotlib",
       "_view_module_version": "^0.11",
       "_view_name": "ToolbarView",
       "button_style": "",
       "collapsed": true,
       "layout": "IPY_MODEL_5fd1e9f1146c4b10a5c388ed80786a99",
       "orientation": "vertical",
       "tabbable": null,
       "toolitems": [
        [
         "Home",
         "Reset original view",
         "home",
         "home"
        ],
        [
         "Back",
         "Back to previous view",
         "arrow-left",
         "back"
        ],
        [
         "Forward",
         "Forward to next view",
         "arrow-right",
         "forward"
        ],
        [
         "Pan",
         "Left button pans, Right button zooms\nx/y fixes axis, CTRL fixes aspect",
         "arrows",
         "pan"
        ],
        [
         "Zoom",
         "Zoom to rectangle\nx/y fixes axis",
         "square-o",
         "zoom"
        ],
        [
         "Download",
         "Download plot",
         "floppy-o",
         "save_figure"
        ]
       ],
       "tooltip": null
      }
     },
     "5fd1e9f1146c4b10a5c388ed80786a99": {
      "model_module": "@jupyter-widgets/base",
      "model_module_version": "2.0.0",
      "model_name": "LayoutModel",
      "state": {
       "_model_module": "@jupyter-widgets/base",
       "_model_module_version": "2.0.0",
       "_model_name": "LayoutModel",
       "_view_count": null,
       "_view_module": "@jupyter-widgets/base",
       "_view_module_version": "2.0.0",
       "_view_name": "LayoutView",
       "align_content": null,
       "align_items": null,
       "align_self": null,
       "border_bottom": null,
       "border_left": null,
       "border_right": null,
       "border_top": null,
       "bottom": null,
       "display": null,
       "flex": null,
       "flex_flow": null,
       "grid_area": null,
       "grid_auto_columns": null,
       "grid_auto_flow": null,
       "grid_auto_rows": null,
       "grid_column": null,
       "grid_gap": null,
       "grid_row": null,
       "grid_template_areas": null,
       "grid_template_columns": null,
       "grid_template_rows": null,
       "height": null,
       "justify_content": null,
       "justify_items": null,
       "left": null,
       "margin": null,
       "max_height": null,
       "max_width": null,
       "min_height": null,
       "min_width": null,
       "object_fit": null,
       "object_position": null,
       "order": null,
       "overflow": null,
       "padding": null,
       "right": null,
       "top": null,
       "visibility": null,
       "width": null
      }
     },
     "65a99d8153df4c64bacfe0071478fcf9": {
      "model_module": "@jupyter-widgets/base",
      "model_module_version": "2.0.0",
      "model_name": "LayoutModel",
      "state": {
       "_model_module": "@jupyter-widgets/base",
       "_model_module_version": "2.0.0",
       "_model_name": "LayoutModel",
       "_view_count": null,
       "_view_module": "@jupyter-widgets/base",
       "_view_module_version": "2.0.0",
       "_view_name": "LayoutView",
       "align_content": null,
       "align_items": null,
       "align_self": null,
       "border_bottom": null,
       "border_left": null,
       "border_right": null,
       "border_top": null,
       "bottom": null,
       "display": null,
       "flex": null,
       "flex_flow": null,
       "grid_area": null,
       "grid_auto_columns": null,
       "grid_auto_flow": null,
       "grid_auto_rows": null,
       "grid_column": null,
       "grid_gap": null,
       "grid_row": null,
       "grid_template_areas": null,
       "grid_template_columns": null,
       "grid_template_rows": null,
       "height": null,
       "justify_content": null,
       "justify_items": null,
       "left": null,
       "margin": null,
       "max_height": null,
       "max_width": null,
       "min_height": null,
       "min_width": null,
       "object_fit": null,
       "object_position": null,
       "order": null,
       "overflow": null,
       "padding": null,
       "right": null,
       "top": null,
       "visibility": null,
       "width": null
      }
     },
     "9957bb49065f484cb384c2897000e8e4": {
      "model_module": "@jupyter-widgets/base",
      "model_module_version": "2.0.0",
      "model_name": "LayoutModel",
      "state": {
       "_model_module": "@jupyter-widgets/base",
       "_model_module_version": "2.0.0",
       "_model_name": "LayoutModel",
       "_view_count": null,
       "_view_module": "@jupyter-widgets/base",
       "_view_module_version": "2.0.0",
       "_view_name": "LayoutView",
       "align_content": null,
       "align_items": null,
       "align_self": null,
       "border_bottom": null,
       "border_left": null,
       "border_right": null,
       "border_top": null,
       "bottom": null,
       "display": null,
       "flex": null,
       "flex_flow": null,
       "grid_area": null,
       "grid_auto_columns": null,
       "grid_auto_flow": null,
       "grid_auto_rows": null,
       "grid_column": null,
       "grid_gap": null,
       "grid_row": null,
       "grid_template_areas": null,
       "grid_template_columns": null,
       "grid_template_rows": null,
       "height": null,
       "justify_content": null,
       "justify_items": null,
       "left": null,
       "margin": null,
       "max_height": null,
       "max_width": null,
       "min_height": null,
       "min_width": null,
       "object_fit": null,
       "object_position": null,
       "order": null,
       "overflow": null,
       "padding": null,
       "right": null,
       "top": null,
       "visibility": null,
       "width": null
      }
     },
     "99a7cbd193e044008afd74664f2e37e9": {
      "model_module": "@jupyter-widgets/base",
      "model_module_version": "2.0.0",
      "model_name": "LayoutModel",
      "state": {
       "_model_module": "@jupyter-widgets/base",
       "_model_module_version": "2.0.0",
       "_model_name": "LayoutModel",
       "_view_count": null,
       "_view_module": "@jupyter-widgets/base",
       "_view_module_version": "2.0.0",
       "_view_name": "LayoutView",
       "align_content": null,
       "align_items": null,
       "align_self": null,
       "border_bottom": null,
       "border_left": null,
       "border_right": null,
       "border_top": null,
       "bottom": null,
       "display": null,
       "flex": null,
       "flex_flow": null,
       "grid_area": null,
       "grid_auto_columns": null,
       "grid_auto_flow": null,
       "grid_auto_rows": null,
       "grid_column": null,
       "grid_gap": null,
       "grid_row": null,
       "grid_template_areas": null,
       "grid_template_columns": null,
       "grid_template_rows": null,
       "height": null,
       "justify_content": null,
       "justify_items": null,
       "left": null,
       "margin": null,
       "max_height": null,
       "max_width": null,
       "min_height": null,
       "min_width": null,
       "object_fit": null,
       "object_position": null,
       "order": null,
       "overflow": null,
       "padding": null,
       "right": null,
       "top": null,
       "visibility": null,
       "width": null
      }
     },
     "b9a4997eca664546a44f67019bf20c9c": {
      "model_module": "@jupyter-widgets/base",
      "model_module_version": "2.0.0",
      "model_name": "LayoutModel",
      "state": {
       "_model_module": "@jupyter-widgets/base",
       "_model_module_version": "2.0.0",
       "_model_name": "LayoutModel",
       "_view_count": null,
       "_view_module": "@jupyter-widgets/base",
       "_view_module_version": "2.0.0",
       "_view_name": "LayoutView",
       "align_content": null,
       "align_items": null,
       "align_self": null,
       "border_bottom": null,
       "border_left": null,
       "border_right": null,
       "border_top": null,
       "bottom": null,
       "display": null,
       "flex": null,
       "flex_flow": null,
       "grid_area": null,
       "grid_auto_columns": null,
       "grid_auto_flow": null,
       "grid_auto_rows": null,
       "grid_column": null,
       "grid_gap": null,
       "grid_row": null,
       "grid_template_areas": null,
       "grid_template_columns": null,
       "grid_template_rows": null,
       "height": null,
       "justify_content": null,
       "justify_items": null,
       "left": null,
       "margin": null,
       "max_height": null,
       "max_width": null,
       "min_height": null,
       "min_width": null,
       "object_fit": null,
       "object_position": null,
       "order": null,
       "overflow": null,
       "padding": null,
       "right": null,
       "top": null,
       "visibility": null,
       "width": null
      }
     }
    },
    "version_major": 2,
    "version_minor": 0
   }
  }
 },
 "nbformat": 4,
 "nbformat_minor": 5
}