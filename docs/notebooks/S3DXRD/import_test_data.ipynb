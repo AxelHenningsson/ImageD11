{
 "cells": [
  {
   "cell_type": "markdown",
   "id": "782e9eb1-2d14-462f-82c3-5e4d39def6a7",
   "metadata": {
    "papermill": {
     "duration": 0.007001,
     "end_time": "2025-01-22T10:34:38.653180",
     "exception": false,
     "start_time": "2025-01-22T10:34:38.646179",
     "status": "completed"
    },
    "tags": []
   },
   "source": [
    "# Jupyter notebook based on ImageD11 to process scanning 3DXRD data\n",
    "# Written by Haixing Fang, Jon Wright and James Ball\n",
    "## Date: 23/07/2024"
   ]
  },
  {
   "cell_type": "markdown",
   "id": "01e88b7a-cca7-427e-a7ca-86b46bc613bf",
   "metadata": {
    "papermill": {
     "duration": 0.003674,
     "end_time": "2025-01-22T10:34:38.663463",
     "exception": false,
     "start_time": "2025-01-22T10:34:38.659789",
     "status": "completed"
    },
    "tags": []
   },
   "source": [
    "\n",
    "# NOTE: These notebooks are under active development\n",
    "\n",
    "They require the latest version of ImageD11 from Git to run.\n",
    "\n",
    "If you don't have this set up yet, you can run the below cell.\n",
    "\n",
    "It will automatically download and install ImageD11 to your home directory\n"
   ]
  },
  {
   "cell_type": "code",
   "execution_count": 1,
   "id": "6f943f39-15ab-4bda-b0d9-38ed46f06b5a",
   "metadata": {
    "execution": {
     "iopub.execute_input": "2025-01-22T10:34:38.672198Z",
     "iopub.status.busy": "2025-01-22T10:34:38.671584Z",
     "iopub.status.idle": "2025-01-22T10:34:38.686123Z",
     "shell.execute_reply": "2025-01-22T10:34:38.685195Z"
    },
    "papermill": {
     "duration": 0.020889,
     "end_time": "2025-01-22T10:34:38.687969",
     "exception": false,
     "start_time": "2025-01-22T10:34:38.667080",
     "status": "completed"
    },
    "tags": []
   },
   "outputs": [],
   "source": [
    "exec(open('/data/id11/nanoscope/install_ImageD11_from_git.py').read())"
   ]
  },
  {
   "cell_type": "code",
   "execution_count": 2,
   "id": "7630a0b8-d900-47ca-bb87-6f54df591887",
   "metadata": {
    "execution": {
     "iopub.execute_input": "2025-01-22T10:34:38.696539Z",
     "iopub.status.busy": "2025-01-22T10:34:38.696188Z",
     "iopub.status.idle": "2025-01-22T10:34:39.160295Z",
     "shell.execute_reply": "2025-01-22T10:34:39.159061Z"
    },
    "papermill": {
     "duration": 0.472057,
     "end_time": "2025-01-22T10:34:39.163561",
     "exception": false,
     "start_time": "2025-01-22T10:34:38.691504",
     "status": "completed"
    },
    "tags": [
     "parameters"
    ]
   },
   "outputs": [
    {
     "name": "stdout",
     "output_type": "stream",
     "text": [
      "# Setting path via: \n",
      "sys.path.insert(0, /home/esrf/james1997a/Code/ImageD11 )\n"
     ]
    },
    {
     "name": "stdout",
     "output_type": "stream",
     "text": [
      "# Running from: /home/esrf/james1997a/Code/ImageD11/ImageD11/__init__.py\n"
     ]
    }
   ],
   "source": [
    "# this cell is tagged with 'parameters'\n",
    "# to view the tag, select the cell, then find the settings gear icon (right or left sidebar) and look for Cell Tags\n",
    "download_dir = 'si_cube_test'\n",
    "PYTHONPATH = setup_ImageD11_from_git( ) # ( os.path.join( os.environ['HOME'],'Code'), 'ImageD11_git' )"
   ]
  },
  {
   "cell_type": "code",
   "execution_count": 3,
   "id": "14e328a8",
   "metadata": {
    "execution": {
     "iopub.execute_input": "2025-01-22T10:34:39.180065Z",
     "iopub.status.busy": "2025-01-22T10:34:39.178680Z",
     "iopub.status.idle": "2025-01-22T10:34:39.185310Z",
     "shell.execute_reply": "2025-01-22T10:34:39.183996Z"
    },
    "papermill": {
     "duration": 0.015864,
     "end_time": "2025-01-22T10:34:39.187011",
     "exception": false,
     "start_time": "2025-01-22T10:34:39.171147",
     "status": "completed"
    },
    "tags": [
     "injected-parameters"
    ]
   },
   "outputs": [],
   "source": [
    "# Parameters\n",
    "download_dir = \"tomo_route\"\n",
    "PYTHONPATH = \"../\"\n"
   ]
  },
  {
   "cell_type": "code",
   "execution_count": 4,
   "id": "e86486f2-af6f-4922-8d46-39a2363b6989",
   "metadata": {
    "execution": {
     "iopub.execute_input": "2025-01-22T10:34:39.196426Z",
     "iopub.status.busy": "2025-01-22T10:34:39.195945Z",
     "iopub.status.idle": "2025-01-22T10:34:41.170157Z",
     "shell.execute_reply": "2025-01-22T10:34:41.168681Z"
    },
    "papermill": {
     "duration": 1.983308,
     "end_time": "2025-01-22T10:34:41.173876",
     "exception": false,
     "start_time": "2025-01-22T10:34:39.190568",
     "status": "completed"
    },
    "tags": []
   },
   "outputs": [],
   "source": [
    "# import functions we need\n",
    "\n",
    "import os\n",
    "\n",
    "import ImageD11.sinograms.dataset\n",
    "import ImageD11.sinograms.properties\n",
    "\n",
    "from ImageD11.fetch_data import si_cube_s3dxrd_dataset"
   ]
  },
  {
   "cell_type": "code",
   "execution_count": 5,
   "id": "b6bff1ff-55bb-4f4c-a1d3-44bfaa09c816",
   "metadata": {
    "execution": {
     "iopub.execute_input": "2025-01-22T10:34:41.191222Z",
     "iopub.status.busy": "2025-01-22T10:34:41.189571Z",
     "iopub.status.idle": "2025-01-22T10:34:41.198927Z",
     "shell.execute_reply": "2025-01-22T10:34:41.197449Z"
    },
    "papermill": {
     "duration": 0.020605,
     "end_time": "2025-01-22T10:34:41.202164",
     "exception": false,
     "start_time": "2025-01-22T10:34:41.181559",
     "status": "completed"
    },
    "tags": []
   },
   "outputs": [],
   "source": [
    "# Check that we're importing ImageD11 from the home directory rather than from the Jupyter kernel\n",
    "\n",
    "?ImageD11.sinograms.dataset"
   ]
  },
  {
   "cell_type": "code",
   "execution_count": 6,
   "id": "916141bb-d815-4450-887b-b1a9b25d37c7",
   "metadata": {
    "execution": {
     "iopub.execute_input": "2025-01-22T10:34:41.216570Z",
     "iopub.status.busy": "2025-01-22T10:34:41.215373Z",
     "iopub.status.idle": "2025-01-22T10:34:41.222121Z",
     "shell.execute_reply": "2025-01-22T10:34:41.220672Z"
    },
    "papermill": {
     "duration": 0.016038,
     "end_time": "2025-01-22T10:34:41.224325",
     "exception": false,
     "start_time": "2025-01-22T10:34:41.208287",
     "status": "completed"
    },
    "tags": []
   },
   "outputs": [],
   "source": [
    "# USER: change this as you like!\n",
    "\n",
    "if not os.path.exists(download_dir):\n",
    "    os.mkdir(download_dir)"
   ]
  },
  {
   "cell_type": "code",
   "execution_count": 7,
   "id": "ec14dfa1-532e-4dce-8fea-da93527daf42",
   "metadata": {
    "execution": {
     "iopub.execute_input": "2025-01-22T10:34:41.236475Z",
     "iopub.status.busy": "2025-01-22T10:34:41.235986Z",
     "iopub.status.idle": "2025-01-22T10:34:43.753419Z",
     "shell.execute_reply": "2025-01-22T10:34:43.752658Z"
    },
    "papermill": {
     "duration": 2.527205,
     "end_time": "2025-01-22T10:34:43.756409",
     "exception": false,
     "start_time": "2025-01-22T10:34:41.229204",
     "status": "completed"
    },
    "tags": []
   },
   "outputs": [
    {
     "name": "stdout",
     "output_type": "stream",
     "text": [
      "Downloading files!\n",
      "Downloading https://sandbox.zenodo.org/records/118843/files/Si_cube_S3DXRD_nt_moves_dty_sparse.h5 to /home/esrf/james1997a/Code/ImageD11/test/tomo_route/processed/Si_cube/Si_cube_S3DXRD_nt_moves_dty/Si_cube_S3DXRD_nt_moves_dty_sparse.h5\n"
     ]
    },
    {
     "name": "stdout",
     "output_type": "stream",
     "text": [
      "Downloading https://sandbox.zenodo.org/records/118843/files/pars.json to /home/esrf/james1997a/Code/ImageD11/test/tomo_route/processed/pars.json\n",
      "Downloading https://sandbox.zenodo.org/records/118843/files/geometry.par to /home/esrf/james1997a/Code/ImageD11/test/tomo_route/processed/geometry.par\n"
     ]
    },
    {
     "name": "stdout",
     "output_type": "stream",
     "text": [
      "Downloading https://sandbox.zenodo.org/records/118843/files/Si_refined.par to /home/esrf/james1997a/Code/ImageD11/test/tomo_route/processed/Si_refined.par\n",
      "Downloading https://sandbox.zenodo.org/records/118843/files/e2dx_E-08-0144_20240205.edf to /home/esrf/james1997a/Code/ImageD11/test/tomo_route/processed/e2dx_E-08-0144_20240205.edf\n"
     ]
    },
    {
     "name": "stdout",
     "output_type": "stream",
     "text": [
      "Downloading https://sandbox.zenodo.org/records/118843/files/e2dy_E-08-0144_20240205.edf to /home/esrf/james1997a/Code/ImageD11/test/tomo_route/processed/e2dy_E-08-0144_20240205.edf\n"
     ]
    }
   ],
   "source": [
    "# we will download a test dataset from Zenodo\n",
    "\n",
    "ds = si_cube_s3dxrd_dataset(download_dir, allow_download=True)"
   ]
  },
  {
   "cell_type": "code",
   "execution_count": 8,
   "id": "43c501e6-821c-4051-b09b-16267d7d98fd",
   "metadata": {
    "execution": {
     "iopub.execute_input": "2025-01-22T10:34:43.769923Z",
     "iopub.status.busy": "2025-01-22T10:34:43.769636Z",
     "iopub.status.idle": "2025-01-22T10:34:47.012258Z",
     "shell.execute_reply": "2025-01-22T10:34:47.010746Z"
    },
    "papermill": {
     "duration": 3.251025,
     "end_time": "2025-01-22T10:34:47.015265",
     "exception": false,
     "start_time": "2025-01-22T10:34:43.764240",
     "status": "completed"
    },
    "tags": []
   },
   "outputs": [
    {
     "name": "stdout",
     "output_type": "stream",
     "text": [
      "read ds /home/esrf/james1997a/Code/ImageD11/test/tomo_route/processed/Si_cube/Si_cube_S3DXRD_nt_moves_dty/Si_cube_S3DXRD_nt_moves_dty_dataset.h5 : 0.029655 /s\n",
      "Nscans 41\n",
      "Options {'algorithm': 'lmlabel', 'wtmax': 70000, 'save_overlaps': False, 'nproc': 39}\n"
     ]
    },
    {
     "name": "stderr",
     "output_type": "stream",
     "text": [
      "\r",
      "  0%|                                                                                                                                                                                                                                                                                                                                     | 0/79 [00:00<?, ?it/s]"
     ]
    },
    {
     "name": "stderr",
     "output_type": "stream",
     "text": [
      "\r",
      "  1%|████                                                                                                                                                                                                                                                                                                                         | 1/79 [00:01<01:40,  1.29s/it]"
     ]
    },
    {
     "name": "stderr",
     "output_type": "stream",
     "text": [
      "\r",
      "  8%|████████████████████████                                                                                                                                                                                                                                                                                                     | 6/79 [00:01<00:12,  5.66it/s]"
     ]
    },
    {
     "name": "stderr",
     "output_type": "stream",
     "text": [
      "\r",
      " 30%|████████████████████████████████████████████████████████████████████████████████████████████████                                                                                                                                                                                                                            | 24/79 [00:01<00:02, 27.28it/s]"
     ]
    },
    {
     "name": "stderr",
     "output_type": "stream",
     "text": [
      "\r",
      " 71%|████████████████████████████████████████████████████████████████████████████████████████████████████████████████████████████████████████████████████████████████████████████████████████████████████████████████████████████████                                                                                            | 56/79 [00:01<00:00, 71.19it/s]"
     ]
    },
    {
     "name": "stderr",
     "output_type": "stream",
     "text": [
      "\r",
      "100%|████████████████████████████████████████████████████████████████████████████████████████████████████████████████████████████████████████████████████████████████████████████████████████████████████████████████████████████████████████████████████████████████████████████████████████████████████████████████████████████| 79/79 [00:01<00:00, 47.14it/s]"
     ]
    },
    {
     "name": "stderr",
     "output_type": "stream",
     "text": [
      "\n"
     ]
    },
    {
     "name": "stderr",
     "output_type": "stream",
     "text": [
      "\r",
      "  0%|                                                                                                                                                                                                                                                                                                                                     | 0/39 [00:00<?, ?it/s]"
     ]
    },
    {
     "name": "stderr",
     "output_type": "stream",
     "text": [
      "\r",
      " 97%|█████████████████████████████████████████████████████████████████████████████████████████████████████████████████████████████████████████████████████████████████████████████████████████████████████████████████████████████████████████████████████████████████████████████████████████████████████████████████▉        | 38/39 [00:00<00:00, 2515.68it/s]"
     ]
    },
    {
     "name": "stderr",
     "output_type": "stream",
     "text": [
      "\n"
     ]
    },
    {
     "name": "stdout",
     "output_type": "stream",
     "text": [
      "9134 label and pair : 2.229553 /s\n"
     ]
    },
    {
     "name": "stdout",
     "output_type": "stream",
     "text": [
      ".......2621 connected components : 0.964887 /s\n",
      "write hdf5 : 0.012699 /s\n",
      "Trying to clean up shared memory\n"
     ]
    }
   ],
   "source": [
    "# Now label the sparse peaks to create a 2D peaks table \n",
    "\n",
    "ImageD11.sinograms.properties.main(ds.dsfile, options={'algorithm': 'lmlabel', 'wtmax': 70000, 'save_overlaps': False})"
   ]
  },
  {
   "cell_type": "code",
   "execution_count": 9,
   "id": "170d38bc-01b5-475a-9d36-e598eb81f078",
   "metadata": {
    "execution": {
     "iopub.execute_input": "2025-01-22T10:34:47.033741Z",
     "iopub.status.busy": "2025-01-22T10:34:47.033239Z",
     "iopub.status.idle": "2025-01-22T10:34:47.141880Z",
     "shell.execute_reply": "2025-01-22T10:34:47.140949Z"
    },
    "papermill": {
     "duration": 0.118423,
     "end_time": "2025-01-22T10:34:47.144360",
     "exception": false,
     "start_time": "2025-01-22T10:34:47.025937",
     "status": "completed"
    },
    "tags": []
   },
   "outputs": [
    {
     "name": "stdout",
     "output_type": "stream",
     "text": [
      "Dataset saved to /home/esrf/james1997a/Code/ImageD11/test/tomo_route/processed/Si_cube/Si_cube_S3DXRD_nt_moves_dty/Si_cube_S3DXRD_nt_moves_dty_dataset.h5\n"
     ]
    }
   ],
   "source": [
    "# Save dataset to disk\n",
    "\n",
    "ds.save()\n",
    "print('Dataset saved to ' + ds.dsfile) "
   ]
  },
  {
   "cell_type": "markdown",
   "id": "d2369d30-ba3d-4e8e-a5a0-62fbef4a78b7",
   "metadata": {
    "papermill": {
     "duration": 0.005619,
     "end_time": "2025-01-22T10:34:47.160657",
     "exception": false,
     "start_time": "2025-01-22T10:34:47.155038",
     "status": "completed"
    },
    "tags": []
   },
   "source": [
    "# DONE!\n",
    "No need to segment, go straight to notebook 1"
   ]
  }
 ],
 "metadata": {
  "kernelspec": {
   "display_name": "Python 3 (main)",
   "language": "python",
   "name": "python3"
  },
  "language_info": {
   "codemirror_mode": {
    "name": "ipython",
    "version": 3
   },
   "file_extension": ".py",
   "mimetype": "text/x-python",
   "name": "python",
   "nbconvert_exporter": "python",
   "pygments_lexer": "ipython3",
   "version": "3.11.6"
  },
  "papermill": {
   "default_parameters": {},
   "duration": 12.434979,
   "end_time": "2025-01-22T10:34:49.787487",
   "environment_variables": {},
   "exception": null,
   "input_path": "../ImageD11/nbGui/S3DXRD/import_test_data.ipynb",
   "output_path": "tomo_route/nb_out/import_test_data_out.ipynb",
   "parameters": {
    "PYTHONPATH": "../",
    "download_dir": "tomo_route"
   },
   "start_time": "2025-01-22T10:34:37.352508",
   "version": "2.6.0"
  },
  "toc-showcode": false
 },
 "nbformat": 4,
 "nbformat_minor": 5
}