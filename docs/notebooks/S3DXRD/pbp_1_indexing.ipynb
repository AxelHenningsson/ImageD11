{
 "cells": [
  {
   "cell_type": "markdown",
   "id": "ff65ad2b",
   "metadata": {
    "papermill": {
     "duration": 0.009706,
     "end_time": "2025-01-22T12:10:27.824414",
     "exception": false,
     "start_time": "2025-01-22T12:10:27.814708",
     "status": "completed"
    },
    "tags": []
   },
   "source": [
    "# Jupyter notebook based on ImageD11 to process scanning 3DXRD data\n",
    "# Written by Haixing Fang, Jon Wright and James Ball\n",
    "## Date: 12/10/2024"
   ]
  },
  {
   "cell_type": "markdown",
   "id": "05c50f38",
   "metadata": {
    "papermill": {
     "duration": 0.004433,
     "end_time": "2025-01-22T12:10:27.835019",
     "exception": false,
     "start_time": "2025-01-22T12:10:27.830586",
     "status": "completed"
    },
    "tags": []
   },
   "source": [
    "This notebook will try to perform a point-by-point index of the 2D peaks you segmented.\n",
    "The point-by-point results (usually saved to a .txt file in the sample PROCESSED_DATA folder) are multi-valued (we can find multiple UBIs at each map voxel).  \n",
    "You can view the results of the point-by-point process 'live' by running the next notebook (pbp_2_visualise).  \n",
    "That notebook will also allow you to save a single-valued version of the pbp map to H5, ParaView XDMF and MTEX CTF.\n",
    "The UBIs we find from the PBP index should have reasonably accurate orientations, but the strains are likely to be poor.  \n",
    "To get much better strains, slightly better orientations and possibly better grain shapes, you should run pbp_3_refinement\n",
    "Then run 4_visualise to convert the refinement results to an accurate single-valued map with good strains."
   ]
  },
  {
   "cell_type": "code",
   "execution_count": 1,
   "id": "3fddddfd",
   "metadata": {
    "execution": {
     "iopub.execute_input": "2025-01-22T12:10:27.844610Z",
     "iopub.status.busy": "2025-01-22T12:10:27.843991Z",
     "iopub.status.idle": "2025-01-22T12:10:27.857312Z",
     "shell.execute_reply": "2025-01-22T12:10:27.856509Z"
    },
    "papermill": {
     "duration": 0.020023,
     "end_time": "2025-01-22T12:10:27.858811",
     "exception": false,
     "start_time": "2025-01-22T12:10:27.838788",
     "status": "completed"
    },
    "tags": []
   },
   "outputs": [],
   "source": [
    "import os\n",
    "\n",
    "os.environ['OMP_NUM_THREADS'] = '1'\n",
    "os.environ['OPENBLAS_NUM_THREADS'] = '1'\n",
    "os.environ['MKL_NUM_THREADS'] = '1'"
   ]
  },
  {
   "cell_type": "code",
   "execution_count": 2,
   "id": "e74ed155",
   "metadata": {
    "execution": {
     "iopub.execute_input": "2025-01-22T12:10:27.871105Z",
     "iopub.status.busy": "2025-01-22T12:10:27.870501Z",
     "iopub.status.idle": "2025-01-22T12:10:27.878141Z",
     "shell.execute_reply": "2025-01-22T12:10:27.877034Z"
    },
    "papermill": {
     "duration": 0.017641,
     "end_time": "2025-01-22T12:10:27.880375",
     "exception": false,
     "start_time": "2025-01-22T12:10:27.862734",
     "status": "completed"
    },
    "tags": []
   },
   "outputs": [],
   "source": [
    "exec(open('/data/id11/nanoscope/install_ImageD11_from_git.py').read())"
   ]
  },
  {
   "cell_type": "code",
   "execution_count": 3,
   "id": "5244ba47",
   "metadata": {
    "execution": {
     "iopub.execute_input": "2025-01-22T12:10:27.892261Z",
     "iopub.status.busy": "2025-01-22T12:10:27.891703Z",
     "iopub.status.idle": "2025-01-22T12:10:28.212835Z",
     "shell.execute_reply": "2025-01-22T12:10:28.211582Z"
    },
    "papermill": {
     "duration": 0.329954,
     "end_time": "2025-01-22T12:10:28.215555",
     "exception": false,
     "start_time": "2025-01-22T12:10:27.885601",
     "status": "completed"
    },
    "tags": [
     "parameters"
    ]
   },
   "outputs": [
    {
     "name": "stdout",
     "output_type": "stream",
     "text": [
      "# Setting path via: \n",
      "sys.path.insert(0, /home/esrf/james1997a/Code/ImageD11 )\n"
     ]
    },
    {
     "name": "stdout",
     "output_type": "stream",
     "text": [
      "# Running from: /home/esrf/james1997a/Code/ImageD11/ImageD11/__init__.py\n"
     ]
    }
   ],
   "source": [
    "# this cell is tagged with 'parameters'\n",
    "# to view the tag, select the cell, then find the settings gear icon (right or left sidebar) and look for Cell Tags\n",
    "\n",
    "# python environment stuff\n",
    "PYTHONPATH = setup_ImageD11_from_git( ) # ( os.path.join( os.environ['HOME'],'Code'), 'ImageD11_git' )\n",
    "\n",
    "# dataset file to import\n",
    "dset_file = 'si_cube_test/processed/Si_cube/Si_cube_S3DXRD_nt_moves_dty/Si_cube_S3DXRD_nt_moves_dty_dataset.h5'\n",
    "\n",
    "# which phase to index\n",
    "phase_str = 'Si'\n",
    "\n",
    "# filter the columnfile to discard weak peaks\n",
    "minpkint = 5\n",
    "\n",
    "# point-by-point parameters\n",
    "hkl_tol = 0.025\n",
    "fpks = 0.9\n",
    "ds_tol = 0.004\n",
    "etacut = 0.1\n",
    "ifrac = 5e-3\n",
    "y0 = 0.0\n",
    "symmetry = \"cubic\"\n",
    "foridx = [0, 1, 3, 5, 7]\n",
    "forgen = [1, 5, 7]\n",
    "uniqcut = 0.85\n",
    "use_cluster = False"
   ]
  },
  {
   "cell_type": "code",
   "execution_count": 4,
   "id": "bb78bae7",
   "metadata": {
    "execution": {
     "iopub.execute_input": "2025-01-22T12:10:28.232929Z",
     "iopub.status.busy": "2025-01-22T12:10:28.231635Z",
     "iopub.status.idle": "2025-01-22T12:10:28.240610Z",
     "shell.execute_reply": "2025-01-22T12:10:28.239320Z"
    },
    "papermill": {
     "duration": 0.019779,
     "end_time": "2025-01-22T12:10:28.243573",
     "exception": false,
     "start_time": "2025-01-22T12:10:28.223794",
     "status": "completed"
    },
    "tags": [
     "injected-parameters"
    ]
   },
   "outputs": [],
   "source": [
    "# Parameters\n",
    "PYTHONPATH = \"../\"\n",
    "dset_file = \"pbp_route/processed/Si_cube/Si_cube_S3DXRD_nt_moves_dty/Si_cube_S3DXRD_nt_moves_dty_dataset.h5\"\n",
    "phase_str = \"Si\"\n",
    "minpkint = 0\n",
    "hkl_tol = 0.025\n",
    "fpks = 0.9\n",
    "ds_tol = 0.004\n",
    "etacut = 0.1\n",
    "ifrac = 0.005\n",
    "y0 = 24.24\n",
    "symmetry = \"cubic\"\n",
    "foridx = [0, 1, 3, 5, 7]\n",
    "forgen = [1, 5, 7]\n",
    "uniqcut = 0.85\n",
    "use_cluster = False\n"
   ]
  },
  {
   "cell_type": "code",
   "execution_count": 5,
   "id": "dafb8a49",
   "metadata": {
    "execution": {
     "iopub.execute_input": "2025-01-22T12:10:28.258621Z",
     "iopub.status.busy": "2025-01-22T12:10:28.258122Z",
     "iopub.status.idle": "2025-01-22T12:10:31.278831Z",
     "shell.execute_reply": "2025-01-22T12:10:31.277295Z"
    },
    "papermill": {
     "duration": 3.030947,
     "end_time": "2025-01-22T12:10:31.282126",
     "exception": false,
     "start_time": "2025-01-22T12:10:28.251179",
     "status": "completed"
    },
    "tags": []
   },
   "outputs": [],
   "source": [
    "import numpy as np\n",
    "from matplotlib import pyplot as plt\n",
    "%matplotlib ipympl\n",
    "\n",
    "import ImageD11.sinograms.point_by_point\n",
    "import ImageD11.sinograms.dataset\n",
    "import ImageD11.sinograms.properties\n",
    "import ImageD11.columnfile\n",
    "\n",
    "import ImageD11.nbGui.nb_utils as utils"
   ]
  },
  {
   "cell_type": "code",
   "execution_count": 6,
   "id": "cfa87458",
   "metadata": {
    "execution": {
     "iopub.execute_input": "2025-01-22T12:10:31.299799Z",
     "iopub.status.busy": "2025-01-22T12:10:31.298972Z",
     "iopub.status.idle": "2025-01-22T12:10:31.348004Z",
     "shell.execute_reply": "2025-01-22T12:10:31.346547Z"
    },
    "papermill": {
     "duration": 0.060421,
     "end_time": "2025-01-22T12:10:31.351136",
     "exception": false,
     "start_time": "2025-01-22T12:10:31.290715",
     "status": "completed"
    },
    "tags": []
   },
   "outputs": [
    {
     "name": "stdout",
     "output_type": "stream",
     "text": [
      "dataroot = \"/home/esrf/james1997a/Code/ImageD11/test/pbp_route/raw\"\n",
      "analysisroot = \"/home/esrf/james1997a/Code/ImageD11/test/pbp_route/processed\"\n",
      "sample = \"Si_cube\"\n",
      "dset = \"S3DXRD_nt_moves_dty\"\n",
      "shape = ( 41, 3620)\n",
      "# scans 41 from 1.1 to 41.1\n",
      "(41, 3620)\n"
     ]
    }
   ],
   "source": [
    "# USER: Pass path to dataset file\n",
    "\n",
    "ds = ImageD11.sinograms.dataset.load(dset_file)\n",
    "   \n",
    "sample = ds.sample\n",
    "dataset = ds.dsname\n",
    "rawdata_path = ds.dataroot\n",
    "processed_data_root_dir = ds.analysisroot\n",
    "\n",
    "print(ds)\n",
    "print(ds.shape)"
   ]
  },
  {
   "cell_type": "code",
   "execution_count": 7,
   "id": "67594171",
   "metadata": {
    "execution": {
     "iopub.execute_input": "2025-01-22T12:10:31.368962Z",
     "iopub.status.busy": "2025-01-22T12:10:31.367765Z",
     "iopub.status.idle": "2025-01-22T12:10:31.473241Z",
     "shell.execute_reply": "2025-01-22T12:10:31.472286Z"
    },
    "papermill": {
     "duration": 0.115248,
     "end_time": "2025-01-22T12:10:31.475985",
     "exception": false,
     "start_time": "2025-01-22T12:10:31.360737",
     "status": "completed"
    },
    "tags": []
   },
   "outputs": [],
   "source": [
    "# USER: specify the path to the parameter file\n",
    "\n",
    "par_file = os.path.join(processed_data_root_dir, 'pars.json')\n",
    "\n",
    "# add them to the dataset\n",
    "\n",
    "ds.parfile = par_file\n",
    "\n",
    "ds.save()"
   ]
  },
  {
   "cell_type": "code",
   "execution_count": 8,
   "id": "93e98218",
   "metadata": {
    "execution": {
     "iopub.execute_input": "2025-01-22T12:10:31.494587Z",
     "iopub.status.busy": "2025-01-22T12:10:31.493367Z",
     "iopub.status.idle": "2025-01-22T12:10:31.504874Z",
     "shell.execute_reply": "2025-01-22T12:10:31.503757Z"
    },
    "papermill": {
     "duration": 0.022103,
     "end_time": "2025-01-22T12:10:31.507526",
     "exception": false,
     "start_time": "2025-01-22T12:10:31.485423",
     "status": "completed"
    },
    "tags": []
   },
   "outputs": [
    {
     "data": {
      "text/plain": [
       "{'Si': <ImageD11.unitcell.unitcell at 0x14a6466af190>}"
      ]
     },
     "execution_count": 8,
     "metadata": {},
     "output_type": "execute_result"
    }
   ],
   "source": [
    "# load phases from parameter file\n",
    "\n",
    "ds.phases = ds.get_phases_from_disk()\n",
    "ds.phases.unitcells"
   ]
  },
  {
   "cell_type": "code",
   "execution_count": 9,
   "id": "ad7659eb",
   "metadata": {
    "execution": {
     "iopub.execute_input": "2025-01-22T12:10:31.524342Z",
     "iopub.status.busy": "2025-01-22T12:10:31.523226Z",
     "iopub.status.idle": "2025-01-22T12:10:31.530995Z",
     "shell.execute_reply": "2025-01-22T12:10:31.529603Z"
    },
    "papermill": {
     "duration": 0.018074,
     "end_time": "2025-01-22T12:10:31.533065",
     "exception": false,
     "start_time": "2025-01-22T12:10:31.514991",
     "status": "completed"
    },
    "tags": []
   },
   "outputs": [
    {
     "name": "stdout",
     "output_type": "stream",
     "text": [
      "[ 5.43  5.43  5.43 90.   90.   90.  ] 227\n"
     ]
    }
   ],
   "source": [
    "# now let's select a phase to index from our parameters json\n",
    "\n",
    "ucell = ds.phases.unitcells[phase_str]\n",
    "\n",
    "print(ucell.lattice_parameters, ucell.spacegroup)"
   ]
  },
  {
   "cell_type": "code",
   "execution_count": 10,
   "id": "dc067e99",
   "metadata": {
    "execution": {
     "iopub.execute_input": "2025-01-22T12:10:31.543259Z",
     "iopub.status.busy": "2025-01-22T12:10:31.542276Z",
     "iopub.status.idle": "2025-01-22T12:10:32.011659Z",
     "shell.execute_reply": "2025-01-22T12:10:32.010678Z"
    },
    "papermill": {
     "duration": 0.477483,
     "end_time": "2025-01-22T12:10:32.014313",
     "exception": false,
     "start_time": "2025-01-22T12:10:31.536830",
     "status": "completed"
    },
    "tags": []
   },
   "outputs": [],
   "source": [
    "# We will now generate a cf (columnfile) object for the 2D peaks.\n",
    "# Will be corrected for detector spatial distortion\n",
    "\n",
    "cf_2d = ds.get_cf_2d()\n",
    "ds.update_colfile_pars(cf_2d, phase_name=phase_str)\n",
    "\n",
    "if not os.path.exists(ds.col2dfile):\n",
    "    # save the 4D peaks to file so we don't have to spatially correct them again\n",
    "    ImageD11.columnfile.colfile_to_hdf(cf_2d, ds.col2dfile)"
   ]
  },
  {
   "cell_type": "code",
   "execution_count": 11,
   "id": "fa49c93f",
   "metadata": {
    "execution": {
     "iopub.execute_input": "2025-01-22T12:10:32.031977Z",
     "iopub.status.busy": "2025-01-22T12:10:32.031787Z",
     "iopub.status.idle": "2025-01-22T12:10:32.036647Z",
     "shell.execute_reply": "2025-01-22T12:10:32.035716Z"
    },
    "papermill": {
     "duration": 0.013005,
     "end_time": "2025-01-22T12:10:32.038086",
     "exception": false,
     "start_time": "2025-01-22T12:10:32.025081",
     "status": "completed"
    },
    "tags": []
   },
   "outputs": [],
   "source": [
    "# filter the columnfile to discard weak peaks\n",
    "\n",
    "cf_2d.filter(cf_2d.Number_of_pixels > minpkint)"
   ]
  },
  {
   "cell_type": "code",
   "execution_count": 12,
   "id": "d93cc134",
   "metadata": {
    "execution": {
     "iopub.execute_input": "2025-01-22T12:10:32.046650Z",
     "iopub.status.busy": "2025-01-22T12:10:32.046326Z",
     "iopub.status.idle": "2025-01-22T12:10:32.123721Z",
     "shell.execute_reply": "2025-01-22T12:10:32.122655Z"
    },
    "papermill": {
     "duration": 0.084606,
     "end_time": "2025-01-22T12:10:32.126292",
     "exception": false,
     "start_time": "2025-01-22T12:10:32.041686",
     "status": "completed"
    },
    "tags": []
   },
   "outputs": [
    {
     "name": "stdout",
     "output_type": "stream",
     "text": [
      "0 0.3190 (1, 1, 1) 8 79 used, sum_intensity> 13.545\n",
      "1 0.5209 (2, 0, 2) 12 125 used, sum_intensity> 11.235\n",
      "2 0.6108 (1, 1, 3) 24 skipped\n",
      "4 0.7366 (0, 4, 0) 6 skipped\n",
      "5 0.8027 (3, 1, 3) 24 232 used, sum_intensity> 5.165\n",
      "6 0.9022 (2, 2, 4) 24 skipped\n",
      "7 0.9569 (1, 1, 5) 32 276 used, sum_intensity> 9.385\n",
      "8 1.0418 (4, 4, 0) 12 skipped\n",
      "9 1.0895 (1, 5, 3) 48 skipped\n",
      "10 1.1050 (4, 2, 4) 24 skipped\n",
      "11 1.1647 (6, 2, 0) 24 skipped\n",
      "12 1.2076 (5, 3, 3) 24 skipped\n",
      "13 1.2216 (2, 2, 6) 24 skipped\n",
      "14 1.2759 (4, 4, 4) 8 skipped\n",
      "15 1.3152 (1, 1, 7) 48 skipped\n",
      "16 1.3781 (4, 6, 2) 48 skipped\n",
      "17 1.4146 (3, 1, 7) 72 skipped\n",
      "18 1.4733 (8, 0, 0) 6 skipped\n",
      "19 1.5074 (3, 7, 3) 24 skipped\n",
      "20 1.5186 (4, 6, 4) 24 skipped\n",
      "21 1.5627 (6, 6, 0) 36 skipped\n",
      "22 1.5949 (1, 7, 5) 56 skipped\n",
      "23 1.6055 (2, 6, 6) 24 skipped\n",
      "24 1.6472 (0, 8, 4) 24 skipped\n",
      "25 1.6778 (7, 3, 5) 72 skipped\n",
      "26 1.6879 (8, 2, 4) 48 skipped\n",
      "27 1.7276 (4, 6, 6) 24 skipped\n",
      "28 1.7568 (3, 1, 9) 48 skipped\n",
      "29 1.8044 (8, 4, 4) 24 skipped\n",
      "30 1.8324 (1, 7, 7) 72 skipped\n",
      "31 1.8781 (2, 6, 8) 72 skipped\n",
      "32 1.9050 (3, 7, 7) 72 skipped\n",
      "33 1.9139 (2, 2, 10) 32 skipped\n",
      "34 1.9749 (3, 9, 5) 48 skipped\n",
      "35 1.9835 (4, 6, 8) 48 skipped\n",
      "36 2.0174 (2, 4, 10) 48 skipped\n",
      "37 2.0425 (7, 5, 7) 48 skipped\n",
      "38 2.0836 (8, 8, 0) 12 skipped\n",
      "39 2.1078 (9, 5, 5) 120 skipped\n",
      "40 2.1159 (4, 4, 10) 48 skipped\n",
      "41 2.1477 (10, 6, 0) 48 skipped\n",
      "42 2.1712 (7, 9, 3) 72 skipped\n",
      "43 2.1790 (10, 6, 2) 48 skipped\n",
      "44 2.2099 (8, 4, 8) 30 skipped\n",
      "45 2.2328 (7, 7, 7) 56 skipped\n",
      "46 2.2705 (12, 2, 2) 72 skipped\n",
      "47 2.2928 (9, 7, 5) 96 skipped\n",
      "48 2.3295 (0, 4, 12) 24 skipped\n",
      "49 2.3512 (9, 1, 9) 24 skipped\n",
      "50 2.3584 (4, 12, 2) 72 skipped\n",
      "51 2.3870 (2, 10, 8) 48 skipped\n",
      "52 2.4082 (1, 11, 7) 120 skipped\n",
      "53 2.4153 (6, 10, 6) 24 skipped\n",
      "54 2.4432 (12, 4, 4) 24 skipped\n",
      "55 2.4639 (13, 1, 3) 120 skipped\n",
      "56 2.4708 (4, 8, 10) 48 skipped\n",
      "57 2.4981 (2, 12, 6) 48 skipped\n",
      "58 2.5184 (5, 9, 9) 48 skipped\n",
      "59 2.5518 (8, 8, 8) 8 skipped\n",
      "60 2.5717 (1, 5, 13) 96 skipped\n",
      "61 2.5783 (4, 6, 12) 48 skipped\n",
      "62 2.6044 (10, 6, 8) 84 skipped\n",
      "63 2.6239 (13, 3, 5) 96 skipped\n",
      "64 2.6304 (10, 2, 10) 48 skipped\n",
      "65 2.6560 (12, 0, 8) 24 skipped\n",
      "66 2.6751 (9, 9, 7) 72 skipped\n",
      "67 2.6814 (12, 8, 2) 48 skipped\n",
      "68 2.7066 (4, 10, 10) 96 skipped\n",
      "69 2.7253 (1, 7, 13) 96 skipped\n",
      "70 2.7563 (4, 12, 8) 48 skipped\n",
      "71 2.7747 (1, 15, 1) 120 skipped\n",
      "72 2.7808 (8, 8, 10) 48 skipped\n",
      "73 2.8051 (6, 0, 14) 24 skipped\n",
      "74 2.8232 (15, 3, 1) 48 skipped\n",
      "75 2.8292 (6, 10, 10) 72 skipped\n",
      "76 2.8708 (3, 15, 3) 104 skipped\n",
      "77 2.8767 (6, 8, 12) 48 skipped\n",
      "78 2.9002 (14, 4, 6) 96 skipped\n",
      "79 2.9177 (15, 1, 5) 168 skipped\n",
      "80 2.9466 (16, 0, 0) 6 skipped\n",
      "81 2.9638 (9, 13, 3) 96 skipped\n",
      "82 2.9695 (4, 12, 10) 48 skipped\n",
      "83 2.9923 (2, 8, 14) 96 skipped\n",
      "84 3.0092 (7, 7, 13) 48 skipped\n",
      "85 3.0149 (14, 6, 6) 24 skipped\n",
      "86 3.0373 (8, 12, 8) 48 skipped\n",
      "87 3.0540 (1, 7, 15) 120 skipped\n",
      "88 3.0595 (4, 14, 8) 96 skipped\n",
      "89 3.0816 (12, 6, 10) 48 skipped\n",
      "90 3.0981 (7, 15, 3) 72 skipped\n",
      "91 3.1253 (12, 0, 12) 36 skipped\n",
      "92 3.1416 (1, 17, 1) 96 skipped\n",
      "93 3.1470 (12, 12, 2) 24 skipped\n",
      "94 3.1684 (14, 8, 6) 120 skipped\n",
      "95 3.1845 (1, 17, 3) 192 skipped\n",
      "Using for indexing: 712 npks, minpks, forgen 76 68 [1, 5, 7]\n"
     ]
    }
   ],
   "source": [
    "cosine_tol=np.cos(np.radians(90 - ds.ostep))\n",
    "\n",
    "pbp_object = ImageD11.sinograms.point_by_point.PBP(ds.parfile,\n",
    "                                                    ds,\n",
    "                                                    hkl_tol=hkl_tol,\n",
    "                                                    fpks=fpks,\n",
    "                                                    ds_tol=ds_tol,\n",
    "                                                    etacut=etacut,\n",
    "                                                    ifrac=ifrac,\n",
    "                                                    cosine_tol=cosine_tol,\n",
    "                                                    y0=y0,\n",
    "                                                    symmetry=symmetry,\n",
    "                                                    foridx=foridx,\n",
    "                                                    forgen=forgen,\n",
    "                                                    uniqcut=uniqcut,\n",
    "                                                    phase_name=phase_str)\n",
    "\n",
    "pbp_object.setpeaks(cf_2d)"
   ]
  },
  {
   "cell_type": "code",
   "execution_count": 13,
   "id": "8717b1ef",
   "metadata": {
    "execution": {
     "iopub.execute_input": "2025-01-22T12:10:32.145031Z",
     "iopub.status.busy": "2025-01-22T12:10:32.144085Z",
     "iopub.status.idle": "2025-01-22T12:10:32.476193Z",
     "shell.execute_reply": "2025-01-22T12:10:32.474942Z"
    },
    "papermill": {
     "duration": 0.342305,
     "end_time": "2025-01-22T12:10:32.479589",
     "exception": false,
     "start_time": "2025-01-22T12:10:32.137284",
     "status": "completed"
    },
    "tags": []
   },
   "outputs": [
    {
     "data": {
      "application/vnd.jupyter.widget-view+json": {
       "model_id": "9c8dd6ad323b4a42818fee1a5f96f547",
       "version_major": 2,
       "version_minor": 0
      },
      "image/png": "[encoded data removed]",
      "text/html": [
       "\n",
       "            <div style=\"display: inline-block;\">\n",
       "                <div class=\"jupyter-widgets widget-label\" style=\"text-align: center;\">\n",
       "                    Figure\n",
       "                </div>\n",
       "                <img src='data:image/png;base64,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' width=640.0/>\n",
       "            </div>\n",
       "        "
      ],
      "text/plain": [
       "Canvas(toolbar=Toolbar(toolitems=[('Home', 'Reset original view', 'home', 'home'), ('Back', 'Back to previous …"
      ]
     },
     "metadata": {},
     "output_type": "display_data"
    }
   ],
   "source": [
    "fig, ax = pbp_object.iplot()"
   ]
  },
  {
   "cell_type": "code",
   "execution_count": 14,
   "id": "c40210d7",
   "metadata": {
    "execution": {
     "iopub.execute_input": "2025-01-22T12:10:32.497877Z",
     "iopub.status.busy": "2025-01-22T12:10:32.497398Z",
     "iopub.status.idle": "2025-01-22T12:10:58.701274Z",
     "shell.execute_reply": "2025-01-22T12:10:58.700777Z"
    },
    "papermill": {
     "duration": 26.213422,
     "end_time": "2025-01-22T12:10:58.702251",
     "exception": false,
     "start_time": "2025-01-22T12:10:32.488829",
     "status": "completed"
    },
    "tags": []
   },
   "outputs": [
    {
     "name": "stdout",
     "output_type": "stream",
     "text": [
      "{'cosine_tol': 0.0008726643147667022,\n",
      " 'ds_tol': 0.004,\n",
      " 'forgen': [1, 5, 7],\n",
      " 'hkl_tol': 0.025,\n",
      " 'hmax': 5,\n",
      " 'minpks': 68,\n",
      " 'uniqcut': 0.85,\n",
      " 'y0': 24.24,\n",
      " 'ymin': -400.0000639988327,\n",
      " 'ystep': 20.000003199941638}\n"
     ]
    },
    {
     "name": "stdout",
     "output_type": "stream",
     "text": [
      "Done   1.975 %, average grains/point   1.00, 0.560 /s/point, total 22.4 /s\r"
     ]
    },
    {
     "name": "stdout",
     "output_type": "stream",
     "text": [
      "Done   3.951 %, average grains/point   1.00, 0.284 /s/point, total 22.7 /s\r"
     ]
    },
    {
     "name": "stdout",
     "output_type": "stream",
     "text": [
      "Done   5.926 %, average grains/point   1.00, 0.191 /s/point, total 22.9 /s\r"
     ]
    },
    {
     "name": "stdout",
     "output_type": "stream",
     "text": [
      "Done   7.901 %, average grains/point   1.00, 0.144 /s/point, total 23.1 /s\r"
     ]
    },
    {
     "name": "stdout",
     "output_type": "stream",
     "text": [
      "Done   9.877 %, average grains/point   1.00, 0.116 /s/point, total 23.2 /s\r"
     ]
    },
    {
     "name": "stdout",
     "output_type": "stream",
     "text": [
      "Done  11.852 %, average grains/point   1.00, 0.097 /s/point, total 23.3 /s\r"
     ]
    },
    {
     "name": "stdout",
     "output_type": "stream",
     "text": [
      "Done  13.827 %, average grains/point   1.00, 0.084 /s/point, total 23.4 /s\r"
     ]
    },
    {
     "name": "stdout",
     "output_type": "stream",
     "text": [
      "Done  15.802 %, average grains/point   1.00, 0.073 /s/point, total 23.5 /s\r"
     ]
    },
    {
     "name": "stdout",
     "output_type": "stream",
     "text": [
      "Done  17.778 %, average grains/point   1.00, 0.066 /s/point, total 23.6 /s\r"
     ]
    },
    {
     "name": "stdout",
     "output_type": "stream",
     "text": [
      "Done  19.753 %, average grains/point   1.00, 0.059 /s/point, total 23.7 /s\r"
     ]
    },
    {
     "name": "stdout",
     "output_type": "stream",
     "text": [
      "Done  21.728 %, average grains/point   1.00, 0.054 /s/point, total 23.7 /s\r"
     ]
    },
    {
     "name": "stdout",
     "output_type": "stream",
     "text": [
      "Done  23.704 %, average grains/point   1.00, 0.050 /s/point, total 23.8 /s\r"
     ]
    },
    {
     "name": "stdout",
     "output_type": "stream",
     "text": [
      "Done  25.679 %, average grains/point   1.00, 0.046 /s/point, total 23.9 /s\r"
     ]
    },
    {
     "name": "stdout",
     "output_type": "stream",
     "text": [
      "Done  27.654 %, average grains/point   1.00, 0.043 /s/point, total 23.9 /s\r"
     ]
    },
    {
     "name": "stdout",
     "output_type": "stream",
     "text": [
      "Done  29.630 %, average grains/point   1.00, 0.040 /s/point, total 24.0 /s\r"
     ]
    },
    {
     "name": "stdout",
     "output_type": "stream",
     "text": [
      "Done  31.605 %, average grains/point   1.00, 0.038 /s/point, total 24.1 /s\r"
     ]
    },
    {
     "name": "stdout",
     "output_type": "stream",
     "text": [
      "Done  33.580 %, average grains/point   1.00, 0.035 /s/point, total 24.1 /s\r"
     ]
    },
    {
     "name": "stdout",
     "output_type": "stream",
     "text": [
      "Done  35.556 %, average grains/point   1.00, 0.034 /s/point, total 24.2 /s\r"
     ]
    },
    {
     "name": "stdout",
     "output_type": "stream",
     "text": [
      "Done  37.531 %, average grains/point   1.00, 0.032 /s/point, total 24.2 /s\r"
     ]
    },
    {
     "name": "stdout",
     "output_type": "stream",
     "text": [
      "Done  39.506 %, average grains/point   1.00, 0.030 /s/point, total 24.3 /s\r"
     ]
    },
    {
     "name": "stdout",
     "output_type": "stream",
     "text": [
      "Done  41.481 %, average grains/point   1.00, 0.029 /s/point, total 24.3 /s\r"
     ]
    },
    {
     "name": "stdout",
     "output_type": "stream",
     "text": [
      "Done  43.457 %, average grains/point   1.00, 0.028 /s/point, total 24.4 /s\r"
     ]
    },
    {
     "name": "stdout",
     "output_type": "stream",
     "text": [
      "Done  45.432 %, average grains/point   1.00, 0.027 /s/point, total 24.5 /s\r"
     ]
    },
    {
     "name": "stdout",
     "output_type": "stream",
     "text": [
      "Done  47.407 %, average grains/point   1.00, 0.026 /s/point, total 24.5 /s\r"
     ]
    },
    {
     "name": "stdout",
     "output_type": "stream",
     "text": [
      "Done  49.383 %, average grains/point   1.00, 0.025 /s/point, total 24.6 /s\r"
     ]
    },
    {
     "name": "stdout",
     "output_type": "stream",
     "text": [
      "Done  51.358 %, average grains/point   1.00, 0.024 /s/point, total 24.6 /s\r"
     ]
    },
    {
     "name": "stdout",
     "output_type": "stream",
     "text": [
      "Done  53.333 %, average grains/point   1.00, 0.023 /s/point, total 24.7 /s\r"
     ]
    },
    {
     "name": "stdout",
     "output_type": "stream",
     "text": [
      "Done  55.309 %, average grains/point   1.00, 0.022 /s/point, total 24.7 /s\r"
     ]
    },
    {
     "name": "stdout",
     "output_type": "stream",
     "text": [
      "Done  57.284 %, average grains/point   1.00, 0.021 /s/point, total 24.8 /s\r"
     ]
    },
    {
     "name": "stdout",
     "output_type": "stream",
     "text": [
      "Done  59.259 %, average grains/point   1.00, 0.021 /s/point, total 24.9 /s\r"
     ]
    },
    {
     "name": "stdout",
     "output_type": "stream",
     "text": [
      "Done  61.235 %, average grains/point   1.00, 0.020 /s/point, total 24.9 /s\r"
     ]
    },
    {
     "name": "stdout",
     "output_type": "stream",
     "text": [
      "Done  63.210 %, average grains/point   1.00, 0.020 /s/point, total 25.0 /s\r"
     ]
    },
    {
     "name": "stdout",
     "output_type": "stream",
     "text": [
      "Done  65.185 %, average grains/point   1.00, 0.019 /s/point, total 25.0 /s\r"
     ]
    },
    {
     "name": "stdout",
     "output_type": "stream",
     "text": [
      "Done  67.160 %, average grains/point   1.00, 0.018 /s/point, total 25.1 /s\r"
     ]
    },
    {
     "name": "stdout",
     "output_type": "stream",
     "text": [
      "Done  69.136 %, average grains/point   1.00, 0.018 /s/point, total 25.2 /s\r"
     ]
    },
    {
     "name": "stdout",
     "output_type": "stream",
     "text": [
      "Done  71.111 %, average grains/point   1.00, 0.018 /s/point, total 25.2 /s\r"
     ]
    },
    {
     "name": "stdout",
     "output_type": "stream",
     "text": [
      "Done  73.086 %, average grains/point   1.00, 0.017 /s/point, total 25.3 /s\r"
     ]
    },
    {
     "name": "stdout",
     "output_type": "stream",
     "text": [
      "Done  75.062 %, average grains/point   1.00, 0.017 /s/point, total 25.3 /s\r"
     ]
    },
    {
     "name": "stdout",
     "output_type": "stream",
     "text": [
      "Done  77.037 %, average grains/point   1.00, 0.016 /s/point, total 25.4 /s\r"
     ]
    },
    {
     "name": "stdout",
     "output_type": "stream",
     "text": [
      "Done  79.012 %, average grains/point   1.00, 0.016 /s/point, total 25.4 /s\r"
     ]
    },
    {
     "name": "stdout",
     "output_type": "stream",
     "text": [
      "Done  80.988 %, average grains/point   1.00, 0.016 /s/point, total 25.5 /s\r"
     ]
    },
    {
     "name": "stdout",
     "output_type": "stream",
     "text": [
      "Done  82.963 %, average grains/point   1.00, 0.015 /s/point, total 25.6 /s\r"
     ]
    },
    {
     "name": "stdout",
     "output_type": "stream",
     "text": [
      "Done  84.938 %, average grains/point   1.00, 0.015 /s/point, total 25.6 /s\r"
     ]
    },
    {
     "name": "stdout",
     "output_type": "stream",
     "text": [
      "Done  86.914 %, average grains/point   1.00, 0.015 /s/point, total 25.7 /s\r"
     ]
    },
    {
     "name": "stdout",
     "output_type": "stream",
     "text": [
      "Done  88.889 %, average grains/point   1.00, 0.014 /s/point, total 25.7 /s\r"
     ]
    },
    {
     "name": "stdout",
     "output_type": "stream",
     "text": [
      "Done  90.864 %, average grains/point   1.00, 0.014 /s/point, total 25.8 /s\r"
     ]
    },
    {
     "name": "stdout",
     "output_type": "stream",
     "text": [
      "Done  92.840 %, average grains/point   1.00, 0.014 /s/point, total 25.9 /s\r"
     ]
    },
    {
     "name": "stdout",
     "output_type": "stream",
     "text": [
      "Done  94.815 %, average grains/point   1.00, 0.014 /s/point, total 25.9 /s\r"
     ]
    },
    {
     "name": "stdout",
     "output_type": "stream",
     "text": [
      "Done  96.790 %, average grains/point   1.00, 0.013 /s/point, total 26.0 /s\r"
     ]
    },
    {
     "name": "stdout",
     "output_type": "stream",
     "text": [
      "Done  98.765 %, average grains/point   1.00, 0.013 /s/point, total 26.0 /s\r"
     ]
    },
    {
     "name": "stdout",
     "output_type": "stream",
     "text": [
      "26.195844411849976 seconds 0.012936219462641963 s per point\n",
      "26.19144606590271 seconds 0.012934047439951956 s per point without setup\n"
     ]
    }
   ],
   "source": [
    "if use_cluster:\n",
    "    bash_script_path = utils.prepare_pbp_bash(pbp_object, PYTHONPATH, minpkint)\n",
    "    utils.slurm_submit_and_wait(bash_script_path, 15)\n",
    "else:\n",
    "    pbp_object.point_by_point(ds.pbpfile, loglevel=3)"
   ]
  },
  {
   "cell_type": "code",
   "execution_count": 15,
   "id": "ee2c4891",
   "metadata": {
    "execution": {
     "iopub.execute_input": "2025-01-22T12:10:58.719130Z",
     "iopub.status.busy": "2025-01-22T12:10:58.718765Z",
     "iopub.status.idle": "2025-01-22T12:10:58.828482Z",
     "shell.execute_reply": "2025-01-22T12:10:58.827808Z"
    },
    "papermill": {
     "duration": 0.12026,
     "end_time": "2025-01-22T12:10:58.830521",
     "exception": false,
     "start_time": "2025-01-22T12:10:58.710261",
     "status": "completed"
    },
    "tags": []
   },
   "outputs": [],
   "source": [
    "ds.save()"
   ]
  },
  {
   "cell_type": "code",
   "execution_count": 16,
   "id": "87728fc8",
   "metadata": {
    "execution": {
     "iopub.execute_input": "2025-01-22T12:10:58.854716Z",
     "iopub.status.busy": "2025-01-22T12:10:58.854441Z",
     "iopub.status.idle": "2025-01-22T12:10:58.867017Z",
     "shell.execute_reply": "2025-01-22T12:10:58.866362Z"
    },
    "papermill": {
     "duration": 0.023431,
     "end_time": "2025-01-22T12:10:58.868795",
     "exception": false,
     "start_time": "2025-01-22T12:10:58.845364",
     "status": "completed"
    },
    "tags": []
   },
   "outputs": [
    {
     "name": "stdout",
     "output_type": "stream",
     "text": [
      "Done!\n"
     ]
    }
   ],
   "source": [
    "# Now that we're happy with our indexing parameters, we can run the below cell to do this in bulk for many samples/datasets\n",
    "# by default this will do all samples in sample_list, all datasets with a prefix of dset_prefix\n",
    "# you can add samples and datasets to skip in skips_dict\n",
    "\n",
    "skips_dict = {\n",
    "    \"FeAu_0p5_tR_nscope\": [\"top_-50um\", \"top_-100um\"]\n",
    "}\n",
    "\n",
    "dset_prefix = \"top\"\n",
    "\n",
    "sample_list = [\"FeAu_0p5_tR_nscope\"]\n",
    "    \n",
    "samples_dict = utils.find_datasets_to_process(ds.dataroot, skips_dict, dset_prefix, sample_list)\n",
    "    \n",
    "# manual override:\n",
    "# samples_dict = {\"FeAu_0p5_tR_nscope\": [\"top_100um\", \"top_150um\"]}\n",
    "    \n",
    "# now we have our samples_dict, we can process our data:\n",
    "\n",
    "sbats = []\n",
    "for sample, datasets in samples_dict.items():\n",
    "    for dataset in datasets:\n",
    "        print(f\"Processing dataset {dataset} in sample {sample}\")\n",
    "        dset_path = os.path.join(ds.analysisroot, sample, f\"{sample}_{dataset}\", f\"{sample}_{dataset}_dataset.h5\")\n",
    "        if not os.path.exists(dset_path):\n",
    "            print(f\"Missing DataSet file for {dataset} in sample {sample}, skipping\")\n",
    "            continue\n",
    "        \n",
    "        print(\"Importing DataSet object\")\n",
    "        \n",
    "        ds = ImageD11.sinograms.dataset.load(dset_path)\n",
    "        print(f\"I have a DataSet {ds.dset} in sample {ds.sample}\")\n",
    "        if os.path.exists(ds.pbpfile):\n",
    "            print(f\"Already have PBP file for {dataset} in sample {sample}, skipping\")\n",
    "            continue\n",
    "        \n",
    "        ds.parfile = par_file\n",
    "        ds.save()\n",
    "        \n",
    "        ds.phases = ds.get_phases_from_disk()\n",
    "        \n",
    "        cf_2d = ds.get_cf_2d()\n",
    "        ds.update_colfile_pars(cf_2d, phase_name=phase_str)\n",
    "\n",
    "        if not os.path.exists(ds.col2dfile):\n",
    "            ImageD11.columnfile.colfile_to_hdf(cf_2d, ds.col2dfile)\n",
    "            \n",
    "        cf_2d.filter(cf_2d.Number_of_pixels > minpkint)\n",
    "        \n",
    "        pbp_object = ImageD11.sinograms.point_by_point.PBP(ds.parfile,\n",
    "                                                            ds,\n",
    "                                                            hkl_tol=hkl_tol,\n",
    "                                                            fpks=fpks,\n",
    "                                                            ds_tol=ds_tol,\n",
    "                                                            etacut=etacut,\n",
    "                                                            ifrac=ifrac,\n",
    "                                                            cosine_tol=cosine_tol,\n",
    "                                                            y0=y0,\n",
    "                                                            symmetry=symmetry,\n",
    "                                                            foridx=foridx,\n",
    "                                                            forgen=forgen,\n",
    "                                                            uniqcut=uniqcut,\n",
    "                                                            phase_name=phase_str)\n",
    "        \n",
    "        pbp_object.setpeaks(cf_2d)\n",
    "\n",
    "        if use_cluster:\n",
    "            # get the sbat and submit them all at once\n",
    "            bash_script_path = utils.prepare_pbp_bash(pbp_object, PYTHONPATH, minpkint)\n",
    "            sbats.append(bash_script_path)\n",
    "            # utils.slurm_submit_and_wait(bash_script_path, 15)\n",
    "        else:\n",
    "            # do it locally\n",
    "            pbp_object.point_by_point(ds.pbpfile, loglevel=3)\n",
    "        \n",
    "        ds.save()\n",
    "    if use_cluster:\n",
    "        utils.slurm_submit_many_and_wait(sbats, wait_time_sec=60)\n",
    "\n",
    "print(\"Done!\")"
   ]
  },
  {
   "cell_type": "code",
   "execution_count": null,
   "id": "2f91ba79",
   "metadata": {
    "papermill": {
     "duration": 0.008164,
     "end_time": "2025-01-22T12:10:58.888736",
     "exception": false,
     "start_time": "2025-01-22T12:10:58.880572",
     "status": "completed"
    },
    "tags": []
   },
   "outputs": [],
   "source": []
  }
 ],
 "metadata": {
  "kernelspec": {
   "display_name": "Python 3 (main)",
   "language": "python",
   "name": "python3"
  },
  "language_info": {
   "codemirror_mode": {
    "name": "ipython",
    "version": 3
   },
   "file_extension": ".py",
   "mimetype": "text/x-python",
   "name": "python",
   "nbconvert_exporter": "python",
   "pygments_lexer": "ipython3",
   "version": "3.11.6"
  },
  "papermill": {
   "default_parameters": {},
   "duration": 34.826351,
   "end_time": "2025-01-22T12:11:01.517735",
   "environment_variables": {},
   "exception": null,
   "input_path": "../ImageD11/nbGui/S3DXRD/pbp_1_indexing.ipynb",
   "output_path": "pbp_route/nb_out/pbp_1_indexing_out.ipynb",
   "parameters": {
    "PYTHONPATH": "../",
    "ds_tol": 0.004,
    "dset_file": "pbp_route/processed/Si_cube/Si_cube_S3DXRD_nt_moves_dty/Si_cube_S3DXRD_nt_moves_dty_dataset.h5",
    "etacut": 0.1,
    "forgen": [
     1,
     5,
     7
    ],
    "foridx": [
     0,
     1,
     3,
     5,
     7
    ],
    "fpks": 0.9,
    "hkl_tol": 0.025,
    "ifrac": 0.005,
    "minpkint": 0,
    "phase_str": "Si",
    "symmetry": "cubic",
    "uniqcut": 0.85,
    "use_cluster": false,
    "y0": 24.24
   },
   "start_time": "2025-01-22T12:10:26.691384",
   "version": "2.6.0"
  },
  "widgets": {
   "application/vnd.jupyter.widget-state+json": {
    "state": {
     "3b611066ad2b49499573f4d3fcb60023": {
      "model_module": "@jupyter-widgets/base",
      "model_module_version": "2.0.0",
      "model_name": "LayoutModel",
      "state": {
       "_model_module": "@jupyter-widgets/base",
       "_model_module_version": "2.0.0",
       "_model_name": "LayoutModel",
       "_view_count": null,
       "_view_module": "@jupyter-widgets/base",
       "_view_module_version": "2.0.0",
       "_view_name": "LayoutView",
       "align_content": null,
       "align_items": null,
       "align_self": null,
       "border_bottom": null,
       "border_left": null,
       "border_right": null,
       "border_top": null,
       "bottom": null,
       "display": null,
       "flex": null,
       "flex_flow": null,
       "grid_area": null,
       "grid_auto_columns": null,
       "grid_auto_flow": null,
       "grid_auto_rows": null,
       "grid_column": null,
       "grid_gap": null,
       "grid_row": null,
       "grid_template_areas": null,
       "grid_template_columns": null,
       "grid_template_rows": null,
       "height": null,
       "justify_content": null,
       "justify_items": null,
       "left": null,
       "margin": null,
       "max_height": null,
       "max_width": null,
       "min_height": null,
       "min_width": null,
       "object_fit": null,
       "object_position": null,
       "order": null,
       "overflow": null,
       "padding": null,
       "right": null,
       "top": null,
       "visibility": null,
       "width": null
      }
     },
     "3b6ae128a7594377b4d77458d369bd3e": {
      "model_module": "@jupyter-widgets/base",
      "model_module_version": "2.0.0",
      "model_name": "LayoutModel",
      "state": {
       "_model_module": "@jupyter-widgets/base",
       "_model_module_version": "2.0.0",
       "_model_name": "LayoutModel",
       "_view_count": null,
       "_view_module": "@jupyter-widgets/base",
       "_view_module_version": "2.0.0",
       "_view_name": "LayoutView",
       "align_content": null,
       "align_items": null,
       "align_self": null,
       "border_bottom": null,
       "border_left": null,
       "border_right": null,
       "border_top": null,
       "bottom": null,
       "display": null,
       "flex": null,
       "flex_flow": null,
       "grid_area": null,
       "grid_auto_columns": null,
       "grid_auto_flow": null,
       "grid_auto_rows": null,
       "grid_column": null,
       "grid_gap": null,
       "grid_row": null,
       "grid_template_areas": null,
       "grid_template_columns": null,
       "grid_template_rows": null,
       "height": null,
       "justify_content": null,
       "justify_items": null,
       "left": null,
       "margin": null,
       "max_height": null,
       "max_width": null,
       "min_height": null,
       "min_width": null,
       "object_fit": null,
       "object_position": null,
       "order": null,
       "overflow": null,
       "padding": null,
       "right": null,
       "top": null,
       "visibility": null,
       "width": null
      }
     },
     "810cca226c5748b1950272f0a96101ca": {
      "model_module": "jupyter-matplotlib",
      "model_module_version": "^0.11",
      "model_name": "ToolbarModel",
      "state": {
       "_current_action": "",
       "_dom_classes": [],
       "_model_module": "jupyter-matplotlib",
       "_model_module_version": "^0.11",
       "_model_name": "ToolbarModel",
       "_view_count": null,
       "_view_module": "jupyter-matplotlib",
       "_view_module_version": "^0.11",
       "_view_name": "ToolbarView",
       "button_style": "",
       "collapsed": true,
       "layout": "IPY_MODEL_3b6ae128a7594377b4d77458d369bd3e",
       "orientation": "vertical",
       "tabbable": null,
       "toolitems": [
        [
         "Home",
         "Reset original view",
         "home",
         "home"
        ],
        [
         "Back",
         "Back to previous view",
         "arrow-left",
         "back"
        ],
        [
         "Forward",
         "Forward to next view",
         "arrow-right",
         "forward"
        ],
        [
         "Pan",
         "Left button pans, Right button zooms\nx/y fixes axis, CTRL fixes aspect",
         "arrows",
         "pan"
        ],
        [
         "Zoom",
         "Zoom to rectangle\nx/y fixes axis",
         "square-o",
         "zoom"
        ],
        [
         "Download",
         "Download plot",
         "floppy-o",
         "save_figure"
        ]
       ],
       "tooltip": null
      }
     },
     "9c8dd6ad323b4a42818fee1a5f96f547": {
      "model_module": "jupyter-matplotlib",
      "model_module_version": "^0.11",
      "model_name": "MPLCanvasModel",
      "state": {
       "_cursor": "pointer",
       "_data_url": "data:image/png;base64,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",
       "_dom_classes": [],
       "_figure_label": "Figure",
       "_image_mode": "full",
       "_message": "",
       "_model_module": "jupyter-matplotlib",
       "_model_module_version": "^0.11",
       "_model_name": "MPLCanvasModel",
       "_rubberband_height": 0,
       "_rubberband_width": 0,
       "_rubberband_x": 0,
       "_rubberband_y": 0,
       "_size": [
        640.0,
        480.0
       ],
       "_view_count": null,
       "_view_module": "jupyter-matplotlib",
       "_view_module_version": "^0.11",
       "_view_name": "MPLCanvasView",
       "capture_scroll": false,
       "footer_visible": true,
       "header_visible": true,
       "layout": "IPY_MODEL_3b611066ad2b49499573f4d3fcb60023",
       "pan_zoom_throttle": 33.0,
       "resizable": true,
       "tabbable": null,
       "toolbar": "IPY_MODEL_810cca226c5748b1950272f0a96101ca",
       "toolbar_position": "left",
       "toolbar_visible": "fade-in-fade-out",
       "tooltip": null
      }
     }
    },
    "version_major": 2,
    "version_minor": 0
   }
  }
 },
 "nbformat": 4,
 "nbformat_minor": 5
}