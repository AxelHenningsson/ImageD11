{
 "cells": [
  {
   "cell_type": "markdown",
   "id": "8deabe5b",
   "metadata": {
    "papermill": {
     "duration": 0.012107,
     "end_time": "2025-02-24T08:22:10.911439",
     "exception": false,
     "start_time": "2025-02-24T08:22:10.899332",
     "status": "completed"
    },
    "tags": []
   },
   "source": [
    "# S3DXRD processing first step: dataset creation, segmentation and peak labelling\n",
    "\n",
    "Written by James Ball, Haixing Fang and Jon Wright\n",
    "\n",
    "Last updated: 21/02/2025\n",
    "\n",
    "Outside ESRF: download [install_ImageD11_from_git.py](https://github.com/FABLE-3DXRD/ImageD11/tree/master/ImageD11/nbGui/install_ImageD11_from_git.py), and update the path in the next cell:"
   ]
  },
  {
   "cell_type": "code",
   "execution_count": 1,
   "id": "fbd76936-7fac-4b03-99eb-2e1651ac4dd5",
   "metadata": {
    "execution": {
     "iopub.execute_input": "2025-02-24T08:22:10.918953Z",
     "iopub.status.busy": "2025-02-24T08:22:10.918345Z",
     "iopub.status.idle": "2025-02-24T08:22:10.933246Z",
     "shell.execute_reply": "2025-02-24T08:22:10.932495Z"
    },
    "papermill": {
     "duration": 0.020346,
     "end_time": "2025-02-24T08:22:10.934716",
     "exception": false,
     "start_time": "2025-02-24T08:22:10.914370",
     "status": "completed"
    },
    "tags": []
   },
   "outputs": [],
   "source": [
    "exec(open('/data/id11/nanoscope/install_ImageD11_from_git.py').read())"
   ]
  },
  {
   "cell_type": "code",
   "execution_count": 2,
   "id": "c3bddb80-39f9-4cd7-9cc1-59fc8d240c24",
   "metadata": {
    "execution": {
     "iopub.execute_input": "2025-02-24T08:22:10.942443Z",
     "iopub.status.busy": "2025-02-24T08:22:10.942193Z",
     "iopub.status.idle": "2025-02-24T08:22:11.247627Z",
     "shell.execute_reply": "2025-02-24T08:22:11.246865Z"
    },
    "papermill": {
     "duration": 0.31207,
     "end_time": "2025-02-24T08:22:11.250248",
     "exception": false,
     "start_time": "2025-02-24T08:22:10.938178",
     "status": "completed"
    },
    "tags": [
     "parameters"
    ]
   },
   "outputs": [
    {
     "name": "stdout",
     "output_type": "stream",
     "text": [
      "# Setting path via: \n",
      "sys.path.insert(0, /home/esrf/james1997a/Code/ImageD11 )\n"
     ]
    },
    {
     "name": "stdout",
     "output_type": "stream",
     "text": [
      "# Running from: /home/esrf/james1997a/Code/ImageD11/ImageD11/__init__.py\n"
     ]
    }
   ],
   "source": [
    "# this cell is tagged with 'parameters'\n",
    "# to view the tag, select the cell, then find the settings gear icon (right or left sidebar) and look for Cell Tags\n",
    "\n",
    "PYTHONPATH = setup_ImageD11_from_git( ) # ( os.path.join( os.environ['HOME'],'Code'), 'ImageD11_git' )\n",
    "\n",
    "# Experts : update these files for your detector if you need to\n",
    "maskfile = \"/data/id11/nanoscope/Eiger/eiger_mask_E-08-0144_20240205.edf\"\n",
    "e2dxfile = \"/data/id11/nanoscope/Eiger/e2dx_E-08-0144_20240205.edf\"\n",
    "e2dyfile = \"/data/id11/nanoscope/Eiger/e2dy_E-08-0144_20240205.edf\"\n",
    "detector = 'eiger'\n",
    "omegamotor = 'rot_center'\n",
    "dtymotor = 'dty'\n",
    "\n",
    "# Default segmentation options\n",
    "options = { 'cut' : 1, 'pixels_in_spot' : 3, 'howmany' : 100000 }\n",
    "\n",
    "# EXPERTS: These can be provided as papermill parameters. Users, leave these as None for now...\n",
    "dataroot = None\n",
    "analysisroot = None\n",
    "sample = None\n",
    "dataset = None"
   ]
  },
  {
   "cell_type": "code",
   "execution_count": 3,
   "id": "7731a878",
   "metadata": {
    "execution": {
     "iopub.execute_input": "2025-02-24T08:22:11.263000Z",
     "iopub.status.busy": "2025-02-24T08:22:11.262704Z",
     "iopub.status.idle": "2025-02-24T08:22:11.268105Z",
     "shell.execute_reply": "2025-02-24T08:22:11.267125Z"
    },
    "papermill": {
     "duration": 0.010522,
     "end_time": "2025-02-24T08:22:11.269356",
     "exception": false,
     "start_time": "2025-02-24T08:22:11.258834",
     "status": "completed"
    },
    "tags": [
     "injected-parameters"
    ]
   },
   "outputs": [],
   "source": [
    "# Parameters\n",
    "maskfile = (\n",
    "    \"/data/id11/inhouse2/test_data_3DXRD/S3DXRD/FeAu/pars/mask_with_gaps_E-08-0173.edf\"\n",
    ")\n",
    "e2dxfile = (\n",
    "    \"/data/id11/inhouse2/test_data_3DXRD/S3DXRD/FeAu/pars/e2dx_E-08-0173_20231127.edf\"\n",
    ")\n",
    "e2dyfile = (\n",
    "    \"/data/id11/inhouse2/test_data_3DXRD/S3DXRD/FeAu/pars/e2dy_E-08-0173_20231127.edf\"\n",
    ")\n",
    "detector = \"eiger\"\n",
    "omegamotor = \"rot_center\"\n",
    "dtymotor = \"dty\"\n",
    "options = {\"cut\": 1, \"pixels_in_spot\": 3, \"howmany\": 100000}\n",
    "PYTHONPATH = \"../\"\n",
    "dataroot = \"/data/id11/inhouse2/test_data_3DXRD/S3DXRD/FeAu/RAW_DATA\"\n",
    "analysisroot = \"/data/id11/inhouse2/test_data_3DXRD/S3DXRD/FeAu/PROCESSED_DATA/20250221_JADB/pbp_route\"\n",
    "sample = \"FeAu_0p5_tR_nscope\"\n",
    "dataset = \"top_200um\"\n"
   ]
  },
  {
   "cell_type": "code",
   "execution_count": 4,
   "id": "5726795e-91cf-40cf-b3a9-b114de84e017",
   "metadata": {
    "execution": {
     "iopub.execute_input": "2025-02-24T08:22:11.277647Z",
     "iopub.status.busy": "2025-02-24T08:22:11.276608Z",
     "iopub.status.idle": "2025-02-24T08:22:12.471441Z",
     "shell.execute_reply": "2025-02-24T08:22:12.470500Z"
    },
    "papermill": {
     "duration": 1.202177,
     "end_time": "2025-02-24T08:22:12.474502",
     "exception": false,
     "start_time": "2025-02-24T08:22:11.272325",
     "status": "completed"
    },
    "tags": []
   },
   "outputs": [],
   "source": [
    "# Import needed packages\n",
    "%matplotlib ipympl\n",
    "import pprint\n",
    "import numpy as np\n",
    "import ImageD11.sinograms.dataset\n",
    "import ImageD11.sinograms.lima_segmenter\n",
    "import ImageD11.sinograms.assemble_label\n",
    "import ImageD11.sinograms.properties\n",
    "import ImageD11.nbGui.nb_utils as utils\n",
    "from ImageD11.nbGui import segmenter_gui"
   ]
  },
  {
   "cell_type": "code",
   "execution_count": 5,
   "id": "a2245f5b-b3ad-404c-b52b-9fc2fcba7fea",
   "metadata": {
    "execution": {
     "iopub.execute_input": "2025-02-24T08:22:12.490100Z",
     "iopub.status.busy": "2025-02-24T08:22:12.489585Z",
     "iopub.status.idle": "2025-02-24T08:22:12.496667Z",
     "shell.execute_reply": "2025-02-24T08:22:12.495600Z"
    },
    "papermill": {
     "duration": 0.014574,
     "end_time": "2025-02-24T08:22:12.498031",
     "exception": false,
     "start_time": "2025-02-24T08:22:12.483457",
     "status": "completed"
    },
    "tags": []
   },
   "outputs": [
    {
     "name": "stdout",
     "output_type": "stream",
     "text": [
      "dataroot = '/data/id11/inhouse2/test_data_3DXRD/S3DXRD/FeAu/RAW_DATA'\n",
      "analysisroot = '/data/id11/inhouse2/test_data_3DXRD/S3DXRD/FeAu/PROCESSED_DATA/20250221_JADB/pbp_route'\n"
     ]
    }
   ],
   "source": [
    "# Set up the file paths. Edit this if you are not at ESRF or not using the latest data policy.\n",
    "if dataroot is None:\n",
    "    dataroot, analysisroot = segmenter_gui.guess_ESRF_paths() \n",
    "\n",
    "if len(dataroot)==0:\n",
    "    print(\"Please fix in the dataroot and analysisroot folder names above!!\")\n",
    "    \n",
    "print('dataroot =',repr(dataroot))\n",
    "print('analysisroot =',repr(analysisroot))"
   ]
  },
  {
   "cell_type": "code",
   "execution_count": 6,
   "id": "f92ff08b-5ff4-4a44-8f26-4286acf529a2",
   "metadata": {
    "execution": {
     "iopub.execute_input": "2025-02-24T08:22:12.507078Z",
     "iopub.status.busy": "2025-02-24T08:22:12.506521Z",
     "iopub.status.idle": "2025-02-24T08:22:12.529576Z",
     "shell.execute_reply": "2025-02-24T08:22:12.528515Z"
    },
    "papermill": {
     "duration": 0.03029,
     "end_time": "2025-02-24T08:22:12.532005",
     "exception": false,
     "start_time": "2025-02-24T08:22:12.501715",
     "status": "completed"
    },
    "tags": []
   },
   "outputs": [
    {
     "name": "stdout",
     "output_type": "stream",
     "text": [
      "Samples:\n",
      "\t .ipynb_checkpoints\n",
      "\tFeAu_0p5_tR_nscope\n"
     ]
    }
   ],
   "source": [
    "# List the samples available:\n",
    "segmenter_gui.printsamples(dataroot)"
   ]
  },
  {
   "cell_type": "code",
   "execution_count": 7,
   "id": "187950bd-18b5-4bd4-80da-2a0c7a984b11",
   "metadata": {
    "execution": {
     "iopub.execute_input": "2025-02-24T08:22:12.544179Z",
     "iopub.status.busy": "2025-02-24T08:22:12.543207Z",
     "iopub.status.idle": "2025-02-24T08:22:12.548958Z",
     "shell.execute_reply": "2025-02-24T08:22:12.547823Z"
    },
    "papermill": {
     "duration": 0.012994,
     "end_time": "2025-02-24T08:22:12.550567",
     "exception": false,
     "start_time": "2025-02-24T08:22:12.537573",
     "status": "completed"
    },
    "tags": []
   },
   "outputs": [],
   "source": [
    "# USER: Decide which sample\n",
    "if sample is None:\n",
    "    sample = 'FeAu_0p5_tR_nscope'"
   ]
  },
  {
   "cell_type": "code",
   "execution_count": 8,
   "id": "400a9642-81d1-4a2c-bc20-9762fcad5d65",
   "metadata": {
    "execution": {
     "iopub.execute_input": "2025-02-24T08:22:12.559289Z",
     "iopub.status.busy": "2025-02-24T08:22:12.558274Z",
     "iopub.status.idle": "2025-02-24T08:22:12.565951Z",
     "shell.execute_reply": "2025-02-24T08:22:12.564932Z"
    },
    "papermill": {
     "duration": 0.013329,
     "end_time": "2025-02-24T08:22:12.567221",
     "exception": false,
     "start_time": "2025-02-24T08:22:12.553892",
     "status": "completed"
    },
    "tags": []
   },
   "outputs": [
    {
     "name": "stdout",
     "output_type": "stream",
     "text": [
      "Datsets:\n",
      "\t top_200um\n",
      "\ttop_250um\n"
     ]
    }
   ],
   "source": [
    "# List the datasets for that sample:\n",
    "segmenter_gui.printdatasets( dataroot, sample )"
   ]
  },
  {
   "cell_type": "code",
   "execution_count": 9,
   "id": "c9f1d713-0fe0-4f32-963f-969084b0a0d3",
   "metadata": {
    "execution": {
     "iopub.execute_input": "2025-02-24T08:22:12.575528Z",
     "iopub.status.busy": "2025-02-24T08:22:12.575070Z",
     "iopub.status.idle": "2025-02-24T08:22:12.580023Z",
     "shell.execute_reply": "2025-02-24T08:22:12.578997Z"
    },
    "papermill": {
     "duration": 0.011366,
     "end_time": "2025-02-24T08:22:12.581675",
     "exception": false,
     "start_time": "2025-02-24T08:22:12.570309",
     "status": "completed"
    },
    "tags": []
   },
   "outputs": [],
   "source": [
    "# USER: Decide which dataset\n",
    "if dataset is None:\n",
    "    dataset = \"top_100um\""
   ]
  },
  {
   "cell_type": "markdown",
   "id": "1a329268-ba97-4405-8573-45475144c437",
   "metadata": {
    "papermill": {
     "duration": 0.004068,
     "end_time": "2025-02-24T08:22:12.590077",
     "exception": false,
     "start_time": "2025-02-24T08:22:12.586009",
     "status": "completed"
    },
    "tags": []
   },
   "source": [
    "## Example demo to see how a frame is segmented for one dataset:"
   ]
  },
  {
   "cell_type": "code",
   "execution_count": 10,
   "id": "ad077c4b-39cc-4b90-9637-33c32f12e364",
   "metadata": {
    "execution": {
     "iopub.execute_input": "2025-02-24T08:22:12.598938Z",
     "iopub.status.busy": "2025-02-24T08:22:12.597851Z",
     "iopub.status.idle": "2025-02-24T08:22:13.789572Z",
     "shell.execute_reply": "2025-02-24T08:22:13.788707Z"
    },
    "papermill": {
     "duration": 1.198179,
     "end_time": "2025-02-24T08:22:13.792349",
     "exception": false,
     "start_time": "2025-02-24T08:22:12.594170",
     "status": "completed"
    },
    "tags": []
   },
   "outputs": [],
   "source": [
    "# create ImageD11 dataset object\n",
    "ds = ImageD11.sinograms.dataset.DataSet(dataroot=dataroot,\n",
    "                                        analysisroot=analysisroot,\n",
    "                                        sample=sample,\n",
    "                                        dset=dataset,\n",
    "                                        detector=detector,\n",
    "                                        omegamotor=omegamotor,\n",
    "                                        dtymotor=dtymotor\n",
    "                                       )\n",
    "ds.import_all()  # Can use scans = [f'{scan}.1' for scan in range(1,102)] )\n",
    "ds.maskfile = maskfile\n",
    "ds.e2dxfile = e2dxfile\n",
    "ds.e2dyfile = e2dyfile\n",
    "ds.save()"
   ]
  },
  {
   "cell_type": "code",
   "execution_count": 11,
   "id": "106c6c7f-5e18-4cd7-b9a2-ca27ead7531f",
   "metadata": {
    "execution": {
     "iopub.execute_input": "2025-02-24T08:22:13.809878Z",
     "iopub.status.busy": "2025-02-24T08:22:13.809506Z",
     "iopub.status.idle": "2025-02-24T08:22:15.359204Z",
     "shell.execute_reply": "2025-02-24T08:22:15.358376Z"
    },
    "papermill": {
     "duration": 1.560622,
     "end_time": "2025-02-24T08:22:15.364431",
     "exception": false,
     "start_time": "2025-02-24T08:22:13.803809",
     "status": "completed"
    },
    "tags": []
   },
   "outputs": [
    {
     "name": "stdout",
     "output_type": "stream",
     "text": [
      "Using frame 488 from scan 138.1\n"
     ]
    },
    {
     "data": {
      "application/vnd.jupyter.widget-view+json": {
       "model_id": "27f37003213e4312930417bd5160d4f7",
       "version_major": 2,
       "version_minor": 0
      },
      "text/plain": [
       "interactive(children=(IntSlider(value=1, description='Cut:', max=200), IntSlider(value=3, description='Pixels …"
      ]
     },
     "metadata": {},
     "output_type": "display_data"
    },
    {
     "data": {
      "application/vnd.jupyter.widget-view+json": {
       "model_id": "5a65a60c9cf44b3b9d3a1b5b0777fcdb",
       "version_major": 2,
       "version_minor": 0
      },
      "image/png": "[encoded data removed]",
      "text/html": [
       "\n",
       "            <div style=\"display: inline-block;\">\n",
       "                <div class=\"jupyter-widgets widget-label\" style=\"text-align: center;\">\n",
       "                    Figure\n",
       "                </div>\n",
       "                <img src='data:image/png;base64,iVBORw0KGgoAAAANSUhEUgAAA+gAAAH0CAYAAACuKActAAAAOXRFWHRTb2Z0d2FyZQBNYXRwbG90bGliIHZlcnNpb24zLjguMCwgaHR0cHM6Ly9tYXRwbG90bGliLm9yZy81sbWrAAAACXBIWXMAAA9hAAAPYQGoP6dpAACEQ0lEQVR4nO3dd3xUVf7/8fcASSCBDARIk64iUgVUmtJbpAhWQBEQUVdAWWJjWUWwoLgg+xV1XcUKiK4CFooSqiyJIoIKKOJSXQkgJQSEEOD+/uCX2Ux6Mndm7r3zej4e83jAnZM7p917zueeO3dchmEYAgAAAAAAQVUu2BkAAAAAAAAE6AAAAAAAWAIBOgAAAAAAFkCADjhQZmamHn74YfXs2VM1a9aUy+XSE088UWBal8tV6KtRo0aedD///LMefPBBtW7dWlWrVlVMTIw6dOigDz/8MEClKrvVq1fL5XL5Na/vv/++mjRpokqVKsnlcmnz5s1++yxfPPHEE3K5XH7bf96+tm3bNj3xxBPavXt3vrSdO3dW06ZN/ZaX0igqn2W1bt063XXXXWrdurUiIiLkcrlM3X9x6tWrp+HDh/tt//7qS8OHD1e9evVM328wLVmypNBzcFndddddatq0qapWrapKlSqpYcOGeuihh/T777+XeZ/16tVT3759TcwlSmr48OHFjsMAQkOFYGcAgPkOHz6sf/7zn2rRooUGDBig119/vdC0qamp+bZ99dVXGjdunAYOHOjZ9sUXX2jx4sUaOnSorrrqKp09e1bvv/++br75Zk2ePFmPP/64X8piB4cOHdLQoUPVu3dvvfzyy4qIiFDDhg2Dna2gSE1NVa1atTz/37ZtmyZPnqzOnTtbOujyRz5XrFihlJQUtWzZUtHR0Vq9erUp+y2phQsXKjo6OqCfaYbHHntMDzzwQLCzYaolS5bopZdeMjVIP3nypO6++25dcsklqlixor755hs9/fTTWrJkiTZt2qTw8HDTPguBUalSJa1cuTLfNgChhQAdcKC6devq6NGjcrlc+v3334sM0Nu2bZtv26uvviqXy6WRI0d6tg0aNEijR4/2WjFLSkrS77//rueee06PPPKIIiIizC2ITfz888/Kzs7W7bffrk6dOgU7O0FVUH8KVY899pgmTZokSfrb3/4W8AC9ZcuWAf08s1x88cXBzoItvPfee17/79q1q6pUqaL77rtP69atU9euXYOUM5RVuXLlOIcC4BZ3wIlybo0ri8zMTP3rX/9Sp06ddMkll3i216hRo8B9Xn311frjjz905MiRIvf71ltvyeVyafny5RoxYoRiYmIUFRWlfv36aefOnfnSp6SkqFu3boqOjlZkZKQ6dOigFStWeKX55ZdfNGLECF166aWKjIzURRddpH79+umHH34otpzHjx9Xr169FBcXp6+//lrShZXwu+++W7Vr11ZERIRq1qypDh06KCUlpdD9DB8+XNdcc40k6dZbb5XL5VLnzp0973/yySdq166dIiMjVaVKFfXo0SPfXQuF3dJb0C3ELpdLY8aM0bvvvqvLL79ckZGRatGihT777LN8f7948WJdccUVioiIUP369fW3v/2t2HqRpJdeeknlypXTwYMHPdumT58ul8ul0aNHe7adP39e1apVU3Jyslf+clYJ33rrLd18882SpC5dunj65VtvveX1eRs2bNC1116ryMhINWjQQM8++6zOnz9fbD7Pnz+vF198UVdccYUqVaqkqlWrqm3btvrkk08KzE9uuW//Lmk+S6tcOfOH2OHDh6ty5craunWrunXrpqioKNWsWVNjxozRH3/84ZU27y3u9957rypWrKiNGzd6tp0/f17dunVTXFyc9u/f79n+/vvvq127doqKilLlypXVq1cvbdq0qdj8rVy5Up07d1b16tVVqVIl1alTRzfeeGO+vBVXxrzHQ2n6fXFeeeUVtWjRQpUrV1aVKlXUqFEj/eUvf/G8X9pz1RtvvKEWLVqoYsWKiomJ0cCBA/Xjjz96leell17ylCPn5Y+vO9SsWVOSVKGCb+svy5YtU6tWrVSpUiU1atRIb7zxRr40W7Zs0fXXX69q1aqpYsWKuuKKK/T222973jcMQ3FxcV7njHPnzqlatWoqV66cDhw44Nk+Y8YMVahQQceOHZP0v37+008/qVevXoqKilJCQoKeffZZSVJaWpquueYaRUVFqWHDhl6fK104l993331q3LixKleurNjYWHXt2lVffvmlV7rdu3fL5XLpb3/7m2bMmKH69eurcuXKateundLS0jzp3n33XblcrgLvOJsyZYrCwsL022+/laKGAaBwBOgAvMyfP18nT57UXXfdVaL0q1atUs2aNRUbG1ui9CNHjlS5cuU0b948zZw5U19//bU6d+7smZhJ0pw5c9SzZ09FR0fr7bff1gcffKCYmBj16tXLK0j/7bffVL16dT377LNatmyZXnrpJVWoUEFt2rTR9u3bC83Dr7/+qmuuuUZ79uxRamqqrr76aknS0KFDtWjRIj3++OP64osv9Prrr6t79+46fPhwoft67LHHPJPvZ555RqmpqXr55ZclSfPmzdP111+v6Ohovffee5o9e7aOHj2qzp07a926dSWqr4IsXrxYs2bN0pQpU/TRRx95goLcwcOKFSt0/fXXq0qVKpo/f76ef/55ffDBB3rzzTeL3X/37t1lGIZXXaekpKhSpUpavny5Z9s333yjY8eOqXv37gXup0+fPnrmmWckXQj6U1NTlZqaqj59+njSpKen67bbbtPtt9+uTz75RElJSZowYYLmzJlTbD6HDx+uBx54QFdddZXef/99zZ8/X/379y914FNcPs+fP6+zZ88W+zp37lypPressrOzdd1116lbt25atGiRxowZo1dffVW33nprkX83c+ZMXX755brllls8x9vkyZO1evVqzZkzRwkJCZIu9OPBgwercePG+uCDD/Tuu+8qMzNT1157rbZt21bo/nfv3q0+ffooPDxcb7zxhpYtW6Znn31WUVFROnPmjM/lLkm/L878+fN13333qVOnTlq4cKEWLVqkP//5zzp58mS+tCU5V02dOlUjR45UkyZNtGDBAv3973/X999/r3bt2mnHjh2SLpwjbrrpJkny9K3U1FRPfZ87d65E/auwi1Znz57VyZMn9e9//1uPPfaYrrnmGnXo0KHEdZLXd999p+TkZP35z3/Wxx9/rObNm2vkyJFau3atJ8327dvVvn17bd26Vf/3f/+nBQsWqHHjxho+fLimTZsm6cLFiK5du3pd4Mw5Z1SsWDHf+SXn+SY5srOzdcMNN6hPnz76+OOPPeeGv/zlLxo2bJjuvPNOLVy4UJdddpmGDx/udeEp54LxpEmTtHjxYr355ptq0KCBOnfuXOCdLC+99JKWL1+umTNnau7cuTp58qSuu+46ZWRkSLpw8TU+Pt5zrs9d96+++qoGDhyoxMRESb6dL06dOqX4+HiVL19etWrV0pgxY4q9+A3AgQwAjnbo0CFDkjFp0qQSpW/Tpo1RtWpV49SpU8Wmfe211wxJxt///vdi07755puGJGPgwIFe2//9738bkoynnnrKMAzDOHnypBETE2P069fPK925c+eMFi1aGFdffXWhn3H27FnjzJkzxqWXXmr8+c9/9mxftWqVIcn417/+ZWzatMlITEw0rr32WuPw4cNef1+5cmVj3LhxxZYlr9z7z53fxMREo1mzZsa5c+c82zMzM43Y2Fijffv2nm3Dhg0z6tatm2+/kyZNMvKepiUZcXFxxvHjxz3b0tPTjXLlyhlTp071bGvTpo2RmJjo1Y7Hjx83YmJi8u2zILVq1TLuvPNOwzAMIysry4iKijIeeeQRQ5KxZ88ewzAM4+mnnzbCwsKMEydOeOUvd1/717/+ZUgyVq1ale8zOnXqZEgyvvrqK6/tjRs3Nnr16lVk/tauXWtIMiZOnFhkusL6ft26dY1hw4aVKJ857VDcq6A2zPH8888bkoxdu3YVmd/iDBs2rMBj7umnnzYkGevWrSu0jIZhGDt27DCio6ONAQMGGCkpKUa5cuWMv/71r5739+7da1SoUMEYO3as199lZmYa8fHxxi233OLZlrd/fvjhh4YkY/PmzT6XMW9dlrTfF2fMmDFG1apVi0xT0nPV0aNHjUqVKhnXXXedV7q9e/caERERxpAhQzzbRo8eXehxl3McFPfK25aGYRipqaleaa677jqvOiqtunXrGhUrVvQc44ZhGKdOnTJiYmKMe+65x7Nt0KBBRkREhLF3716vv09KSjIiIyONY8eOGYZhGK+//rohyZPuqaeeMho1amT079/fGDFihGEYhnHmzBkjKirK+Mtf/uLZT04//+ijjzzbsrOzjZo1axqSjG+//daz/fDhw0b58uWN8ePHF1qus2fPGtnZ2Ua3bt282nXXrl2GJKNZs2bG2bNnPdu//vprQ5Lx3nvvebZNmjTJCA8PNw4cOODZ9v777xuSjDVr1nilK8v5YsaMGcaMGTOML774wvjiiy+MiRMnGpGRkUajRo2MzMzMQssGwHn4DjoAj61bt+qrr77S6NGjVbFixSLTLl26VKNHj9ZNN92ksWPHlvgzbrvtNq//t2/fXnXr1tWqVas0ceJErV+/XkeOHNGwYcN09uxZr7S9e/fWtGnTdPLkSUVFRens2bOaNm2a5syZo19++UXZ2dmetLlvMc3x+eefa8SIEerbt6/eeuutfN+Zv/rqq/XWW2+pevXq6t69u1q3bq2wsLASly237du367ffftO4ceO8bnWuXLmybrzxRr366qv6448/FBkZWep9d+nSRVWqVPH8Py4uTrGxsdqzZ4+kCw+P2rBhg+677z6vdqxSpYr69euX73bQgnTr1s2z8rV+/Xr98ccfGj9+vGbPnq3ly5dr5MiRSklJ8dwGXVbx8fGeOxhyNG/evNin4C9dulSSvG6f9Ze77767RE+2DuQzGPIeR0OGDNHEiRO1atWqIldPL7nkEr322mu69dZbtWzZMl177bVeXwH4/PPPdfbsWd1xxx1ex1/FihXVqVMnrVq1qtB9X3HFFQoPD9fdd9+t++67T9dee60aNGhQ9kLmUVy/L4mrr75as2bN0uDBgzVo0CB16NBBNWrUKDBtceeq1NRUnTp1Kt+T8mvXrq2uXbvm+0pOYV599VVlZmYWm66gfDZr1kwbNmzQH3/8oc2bN+vZZ59Vjx49tHLlyjKdW6QL7VinTh3P/ytWrKiGDRt61fPKlSvVrVs31a5d2+tvhw8frqVLlyo1NVW9e/f23F2TkpKiESNGaPny5erRo4cuvfRSz0p7amqqTp48me9OHJfLpeuuu87z/woVKuiSSy5RhQoVvJ6vEBMTU2A/+Mc//qF//vOf2rZtm7KysjzbC3oqep8+fVS+fHnP/5s3by5JXvv805/+pKlTp+q1117TxIkTJUmzZs1Ss2bN1LFjR0+6sp4v/vznP3v9v0ePHmrZsqVuuukmvfbaa/neB+BcBOgAPGbPni1Jxd7e/vnnn+uGG25Qjx49NHfu3FJ93z0+Pr7AbTm3ked8LzHnltCCHDlyRFFRURo/frxeeuklPfLII+rUqZPnu4133XWXTp06le/vFi1apFOnTulPf/pTgcHU+++/r6eeekqvv/66HnvsMVWuXFkDBw7UtGnTCsx3UXLKk3Mba26JiYk6f/68jh49WqZJdPXq1fNti4iI8JT56NGjOn/+fKF1XRLdu3fX22+/rR07dnieRJ7zPc6UlBQNGTJE69ev90xUy6q4shTm0KFDKl++fKnbpSzi4+NL9BUOf/58XW4VKlTIV2859VDU1zFy9OnTR3FxcTpw4IDGjx/vFZjkHH9XXXVVgX9b1PfqL774YqWkpGjatGkaPXq0Tp48qQYNGuj+++835ansZe0ruQ0dOlRnz57Va6+9phtvvFHnz5/XVVddpaeeeko9evTwSlvcuaq4Yzz310GKcskll8gwjGLTFVT3UVFRuvLKKyVJHTt2VJs2bdS2bVu9+uqrZQ7oSlLPhw8fLrTcOe9LFx5YmtMvbr31VqWmpio5OVmXXHKJ7r//fm3fvt3z9Zn27dt77SsyMjLfheLw8HDFxMTk+9zw8HCdPn3a8/8ZM2YoOTlZ9957r5588knVqFFD5cuX12OPPVbgxdu8Zc4ZH3KXOS4uTrfeeqteffVVPfroo9q6dau+/PJLvfrqq15/a+b5YuDAgYqKivL6PjwA5+M76AAkSWfOnNG7776r1q1b64orrig03eeff64BAwaoU6dO+uijj0r9Uz7p6ekFbsuZIOWsEr344ovasGFDga+4uDhJF76rfscdd+iZZ55Rr169dPXVV+vKK68s9HeAX3jhBSUlJSkpKUlffPFFvvdr1KihmTNnavfu3dqzZ4+mTp2qBQsWlOm3pHPKk/vBWzl+++03lStXTtWqVZN0YYUq9wpPjrL+nnG1atXkcrkKreuS6Natm6QLK185q14521esWKG1a9cqKyur0O+f+1vNmjV17ty5YssTERFRYN2WJJDNkfMQqOJegXr6+NmzZ/PlP6ceCgqu8rr33nuVmZmpJk2a6P7779fRo0c97+Ucfx9++GGBx95XX31V5L6vvfZaffrpp8rIyFBaWpratWuncePGaf78+aUtpt+MGDFC69evV0ZGhhYvXizDMNS3b998K7DFnauKO8YLW5nPq1u3biXqX3feeWex+7ryyitVrlw5/fzzzyX67LKqXr16oeWWvFf7c84Za9as0fnz59W5c2ddfvnlnosYKSkpuvbaa029A2XOnDnq3LmzXnnlFfXp00dt2rTRlVdeWaI7FYrywAMPaN++ffr44481a9YsVa1aNd+dFmafLwzD8MsDJwFYFyvoACRdeNr477//rilTphSa5osvvtCAAQN0zTXXaNGiRWWaUM2dO1c33nij5//r16/Xnj17PKv2HTp0UNWqVbVt2zaNGTOmyH25XK58eVi8eLH++9//ej2BPkfFihW1YMEC3X777erfv7/ef/99XX/99QXuu06dOhozZoxWrFihf//736Utpi677DJddNFFmjdvnh588EHPasnJkyf10UcfeZ7sLl142vbBgwd14MABz8WHM2fO6PPPPy/150oXVtWuvvpqLViwQM8//7xnFSozM1OffvppifaRkJCgxo0b66OPPtLGjRs9D1Hr0aOH7rnnHs2YMUPR0dGFrrTmKGglygxJSUmaOnWqXnnllSL7bL169fT99997bVu5cqVOnDhR4nxa8Rb3uXPn6v777/f8f968eZLk9QsCBXn99dc1Z84cvfHGG+rUqZNatWqlESNGaNGiRZKkXr16qUKFCvrPf/7jdZyWVvny5dWmTRs1atRIc+fO1bfffqtBgwaVeX/+EBUVpaSkJJ05c0YDBgzQ1q1bVbduXc/7xZ2r2rVrp0qVKmnOnDmeXwGQLjyEcuXKlV53AeXuX3l/19qXW9zzygmCCzr/malbt25auHChfvvtN8+quSS98847ioyM9PqpsO7du+uf//ynZs6cqbZt23q+ppCzjw0bNnjOL2YpaGz4/vvvlZqamu+2/NJo3bq12rdvr+eee05btmzR3Xffne8rPmaeLz788EP98ccf/PQaEGII0AGHWrp0qU6ePOmZ+G3btk0ffvihJOm6667Ld2v17NmzValSJQ0ZMqTA/a1bt04DBgxQfHy8/vKXv+T7jnDjxo0VHR1dbL6++eYb3XXXXbr55pu1b98+TZw4URdddJHuu+8+SRe+o/3iiy9q2LBhOnLkiG666SbFxsbq0KFD+u6773To0CG98sorkuT5LnmjRo3UvHlzbdy4Uc8//7xq1apV6OeHhYXpvffe01133aWbbrpJ77zzjgYPHqyMjAx16dJFQ4YMUaNGjVSlShVt2LBBy5Yt0w033FBsufIqV66cpk2bpttuu019+/bVPffco6ysLD3//PM6duyY5+eCpAtPCH788cc1aNAgPfTQQzp9+rT+7//+z6engj/55JPq3bu3evTooeTkZJ07d07PPfecoqKiSvxU4G7duunFF19UpUqVPN9rrl+/vurXr68vvvhC/fv3L/bnnJo2bSpJ+uc//6kqVaqoYsWKql+/folWeoty7bXXaujQoXrqqad04MAB9e3bVxEREdq0aZMiIyM9z0UYOnSoHnvsMT3++OPq1KmTtm3bplmzZsntdpc4n4mJiV5BSEkdOnRIa9askSTPT/8tXbpUNWvWVM2aNdWpUydP2s6dO2vNmjUlutU5PDxc06dP14kTJ3TVVVdp/fr1euqpp5SUlOT5yb+C/PDDD7r//vs1bNgwjRgxQtKF4/6mm27SzJkzNW7cONWrV09TpkzRxIkTtXPnTvXu3VvVqlXTgQMH9PXXXysqKkqTJ08ucP//+Mc/tHLlSvXp00d16tTR6dOnPT/PFaw7LfIaNWqUpz8nJCQoPT1dU6dOldvtznexqbhzVdWqVfXYY4/pL3/5i+644w4NHjxYhw8f1uTJk1WxYkVNmjTJs69mzZpJkp577jklJSWpfPnyat68ucLDw3XZZZeVuhyfffaZXnvtNfXv319169ZVdna2vvnmG82cOVOXXHJJvq8puVwuderUqcAnmJfFpEmT9Nlnn6lLly56/PHHFRMTo7lz52rx4sWaNm2a1/HVtWtXuVwuffHFF159p3v37ho2bJjn32bq27evnnzySU2aNEmdOnXS9u3bNWXKFNWvXz/fs01K64EHHvD8pGZOX8itLOeLPXv2aMiQIRo0aJAuueQSuVwurVmzRjNnzlSTJk1K/KsqABwiuM+oA+AvdevWLfTpsXmfJL13716jXLlyxh133FHo/op7Mm1BT7/OLefJyF988YUxdOhQo2rVqp4nIO/YsSNf+jVr1hh9+vQxYmJijLCwMOOiiy4y+vTp4/Wk9KNHjxojR440YmNjjcjISOOaa64xvvzyS6NTp05Gp06dPOkKesr6+fPnjfvvv98oV66c8dprrxmnT5827r33XqN58+ZGdHS0UalSJeOyyy4zJk2aZJw8ebLIshW0/xyLFi0y2rRpY1SsWNGIiooyunXrZvz73//Ol27JkiXGFVdcYVSqVMlo0KCBMWvWrEKf4j569Oh8f1/QE7s/+eQTo3nz5kZ4eLhRp04d49lnny1wn4X5+OOPDUlGjx49vLaPGjXKkGT83//9X76/UQFPTZ85c6ZRv359o3z58oYk48033zQM48LTq5s0aZJvH4U91T6vc+fOGS+88ILRtGlTIzw83HC73Ua7du2MTz/91JMmKyvLePjhh43atWsblSpVMjp16mRs3ry5wPoqLJ9lldMvCnrl7p+GYRitW7c24uPji93nsGHDjKioKOP77783OnfubFSqVMmIiYkx/vSnP3k9Td8wvPvEiRMnjEaNGhmNGzfO159Hjx5thIWFeT1Nf9GiRUaXLl2M6OhoIyIiwqhbt65x0003GSkpKZ40eftSamqqMXDgQKNu3bpGRESEUb16daNTp07GJ598UtIq85SxoKe4l7TfF+Xtt982unTpYsTFxRnh4eFGYmKiccsttxjff/+9J01pz1Wvv/665zhzu93G9ddfb2zdutUrTVZWlnHXXXcZNWvWNFwul89P9P/xxx+Nm266yfPU9YoVKxqNGjUyHnrooXy/TpGZmWlIMgYNGlTsfuvWrWv06dMn3/a851TDMIwffvjB6Nevn+F2u43w8HCjRYsWhR4zLVu2NCR5nfv++9//GpKM6tWrG+fPn/dKn9PPC8pHQeeMvPnOysoyHnzwQeOiiy4yKlasaLRq1cpYtGhRvr6V8xT3559/Pt8+CzqX5ew7IiLC6N27d4FlLYsjR44YAwcONOrVq2dUqlTJCA8PNy699FLj4Ycf9jwRH0DocBlGCS7XA4CP3nrrLY0YMUIbNmzwPNQIwIWvHsTExGjmzJnFPpV++PDh+vDDD/Pdog/zOO1ctWTJEvXt21ffffedZyUfZffpp5+qf//+Wrx4sddT5gHALNziDgBAEK1du1YXXXSRRo0aFeyswIFWrVqlQYMGEZz7aNu2bdqzZ4+Sk5N1xRVXKCkpKdhZAuBQBOgAAARRnz591KdPn2Bnw+/OnTtX5HfsXS6X10++lVZx3y0uV65cSD4N+/nnnw92Fhzhvvvu07///W+1atVKb7/9dsB+VhFA6OEWdwAA4Hc5D8IrTN26dbV79+4y7Xv37t2qX79+kWkmTZqkJ554okz7BwAgUAjQAQCA323fvr3InxOLiIgo823YZ86cyfdzenmV9Wn8AAAEEgE6AAAAAAAWEHpfxgIAAAAAwIII0AEAAAAAsAACdAAAAAAALIAAHQAAAAAACyBABwAAAADAAgjQAQAAAACwAAJ0AAAAAAAsgAAd8MFbb70ll8vleVWoUEEJCQkaNGiQduzYEezsSZJcLpeeeOKJYGcDAIAiffXVVxo4cKDq1KmjiIgIxcXFqV27dkpOTg521gLujz/+0BNPPKHVq1ebvu/Vq1fL5XIVu++cOc7u3btNzwOAwlUIdgYAJ3jzzTfVqFEjnT59Wv/+97/19NNPa9WqVfrpp59UrVq1oOYtNTVVtWrVCmoeAAAoyuLFi9W/f3917txZ06ZNU0JCgvbv369vvvlG8+fP1/Tp04OdxYD6448/NHnyZElS586dg5KHPn36KDU1VQkJCUH5fCBUEaADJmjatKmuvPJKSRcG0nPnzmnSpElatGiRRowYEdS8tW3bNqifDwBAcaZNm6b69evr888/V4UK/5ueDho0SNOmTQtizkJXzZo1VbNmzWBnAwg53OIO+EFOsH7gwAHPttOnTys5OVlXXHGF3G63YmJi1K5dO3388cdef3vzzTerSZMmXtv69esnl8ulf/3rX55t3377rVwulz799NMi85L3FvecW9ZWrlypUaNGqXr16oqOjtYdd9yhkydPKj09XbfccouqVq2qhIQEPfjgg8rOzvba5+TJk9WmTRvFxMQoOjparVq10uzZs2UYhle6rKwsJScnKz4+XpGRkerYsaM2btyoevXqafjw4V5p09PTdc8996hWrVoKDw9X/fr1NXnyZJ09e7bI8gEA7O/w4cOqUaOGV3Ceo1y5/NPV999/X+3atVNUVJQqV66sXr16adOmTfnSvfbaa2rYsKEiIiLUuHFjzZs3T8OHD1e9evU8aXbv3i2Xy6Xnn39ezz33nOrVq6dKlSqpc+fO+vnnn5Wdna1HH31UiYmJcrvdGjhwoA4ePFimPA0fPlyVK1fWL7/8ouuuu06VK1dW7dq1lZycrKysLE9+cgLjyZMne75Gl3vc3LFjh4YMGaLY2FhFRETo8ssv10svvZQvTz/99JN69+6tyMhI1ahRQ/fee68yMzMLboQ8CrrFvXPnzmratKlSU1PVvn17VapUSfXq1dObb74p6cKdEK1atVJkZKSaNWumZcuWee3zl19+0YgRI3TppZcqMjJSF110kfr166cffvgh3+dv3bpVPXv2VGRkpGrWrKnRo0dr8eLFBd6en5KSom7duik6OlqRkZHq0KGDVqxYUaJyAlZDgA74wa5duyRJDRs29GzLysrSkSNH9OCDD2rRokV67733dM011+iGG27QO++840nXvXt3bdu2Tfv375cknT17VmvWrFGlSpW0fPlyT7qUlBRVqFChzLe+3XXXXXK73Zo/f77++te/at68eRo1apT69OmjFi1a6MMPP9SwYcM0ffp0vfjii15/u3v3bt1zzz364IMPtGDBAt1www0aO3asnnzySa90I0aM0MyZMzVixAh9/PHHuvHGGzVw4EAdO3bMK116erquvvpqff7553r88ce1dOlSjRw5UlOnTtWoUaPKVD4AgH20a9dOX331le6//3599dVX+S4M5/bMM89o8ODBaty4sT744AO9++67yszM1LXXXqtt27Z50v3zn//U3XffrebNm2vBggX661//qsmTJxf63euXXnpJ//73v/XSSy/p9ddf108//aR+/fpp5MiROnTokN544w1NmzZNKSkpuuuuu8qUJ0nKzs5W//791a1bN3388ce688479cILL+i5556TJCUkJHgC25EjRyo1NVWpqal67LHHJEnbtm3TVVddpS1btmj69On67LPP1KdPH91///2e2+KlC4sEnTp10pYtW/Tyyy/r3Xff1YkTJzRmzJiSN0wB0tPTNWLECN111136+OOP1axZM915552aMmWKJkyYoIcfflgfffSRKleurAEDBui3337z/O1vv/2m6tWr69lnn9WyZcv00ksvqUKFCmrTpo22b9/uSbd//3516tRJ27dv1yuvvKJ33nlHmZmZBeZ9zpw56tmzp6Kjo/X222/rgw8+UExMjHr16kWQDnsyAJTZm2++aUgy0tLSjOzsbCMzM9NYtmyZER8fb3Ts2NHIzs4u9G/Pnj1rZGdnGyNHjjRatmzp2f7LL78Ykox33nnHMAzDWLdunSHJePjhh4369et70vXo0cNo3759sXmUZEyaNClfnseOHeuVbsCAAYYkY8aMGV7br7jiCqNVq1aF7v/cuXNGdna2MWXKFKN69erG+fPnDcMwjK1btxqSjEceecQr/XvvvWdIMoYNG+bZds899xiVK1c29uzZ45X2b3/7myHJ2Lp1a7HlBADY1++//25cc801hiRDkhEWFma0b9/emDp1qpGZmelJt3fvXqNChQr5xrDMzEwjPj7euOWWWwzDuDA2xcfHG23atPFKt2fPHiMsLMyoW7euZ9uuXbsMSUaLFi2Mc+fOebbPnDnTkGT079/fax/jxo0zJBkZGRmlypNhGMawYcMMScYHH3zglfa6664zLrvsMs//Dx06lG/8ztGrVy+jVq1ans/PMWbMGKNixYrGkSNHDMMwjEceecRwuVzG5s2bvdL16NHDkGSsWrUq375zy5kv7Nq1y7OtU6dOhiTjm2++8Ww7fPiwUb58eaNSpUrGf//7X8/2zZs3G5KM//u//yv0M86ePWucOXPGuPTSS40///nPnu0PPfSQ4XK58o3/vXr18sr7yZMnjZiYGKNfv35e6c6dO2e0aNHCuPrqq4ssI2BFrKADJmjbtq3CwsJUpUoV9e7dW9WqVdPHH3+c71a9f/3rX+rQoYMqV66sChUqKCwsTLNnz9aPP/7oSXPxxRerXr16SklJkSQtX75czZo10+23365du3bpP//5j7KysrRu3Tp17969zHnu27ev1/8vv/xySRceCpN3+549e7y2rVy5Ut27d5fb7Vb58uUVFhamxx9/XIcPH/bc9rdmzRpJ0i233OL1tzfddFO+evnss8/UpUsXJSYm6uzZs55XUlKS174AAM5UvXp1ffnll9qwYYOeffZZXX/99fr55581YcIENWvWTL///rsk6fPPP9fZs2d1xx13eI0XFStWVKdOnTyr49u3b/d8ZSu3OnXqqEOHDgXm4brrrvO6nb6ocVGS9u7dW6o85XC5XOrXr5/XtubNm+cbawty+vRprVixQgMHDlRkZKTX51133XU6ffq00tLSJEmrVq1SkyZN1KJFC699DBkypNjPKUpCQoJat27t+X9MTIxiY2N1xRVXKDEx0bM9p55yl+vs2bN65pln1LhxY4WHh6tChQoKDw/Xjh07vOZCa9asUdOmTdW4cWOvzx48eLDX/9evX68jR45o2LBhXnVx/vx59e7dWxs2bNDJkyd9Ki8QaDwkDjDBO++8o8svv1yZmZl6//339eqrr2rw4MFaunSpJ82CBQt0yy236Oabb9ZDDz2k+Ph4VahQQa+88oreeOMNr/1169bNc3tbSkqKevTooWbNmikuLk4pKSm69NJLderUKZ8C9JiYGK//h4eHF7r99OnTnv9//fXX6tmzpzp37qzXXnvN853xRYsW6emnn9apU6ckXfg+oSTFxcV57a9ChQqqXr2617YDBw7o008/VVhYWIF5zZmYAQCc7corr/Q8xyU7O1uPPPKIXnjhBU2bNk3Tpk3zPNvlqquuKvDvcwLswsagnG05X0XLrTTjoiTP2FjSPOWIjIxUxYoVvbZFRER4jbWFOXz4sM6ePasXX3wx39fPcuSMmYcPH1b9+vXzvR8fH1/s5xQlb31IF+qkuHqSpPHjx+ull17SI488ok6dOqlatWoqV66c7rrrLs/8oai8523PnLq/6aabCs3vkSNHFBUVVYKSAdZAgA6Y4PLLL/dMKLp06aJz587p9ddf14cffugZNObMmaP69evr/fffl8vl8vxtzkNhcuvWrZtmz56tr7/+Wl999ZX++te/SpK6du2q5cuXa8+ePapcuXJQntA+f/58hYWF6bPPPvOaYCxatMgrXU4QfuDAAV100UWe7WfPnvVMnHLUqFFDzZs319NPP13gZ+a+Ig8ACA1hYWGaNGmSXnjhBW3ZskXShfFCkj788EPVrVu30L/NPQbllZ6ebmo+S5onM1SrVk3ly5fX0KFDNXr06ALT5AS21atXL7CsZpe/NObMmaM77rhDzzzzjNf233//XVWrVvX8v3r16iVqu5y6f/HFFwudExV0kQawMgJ0wA+mTZumjz76SI8//rhuuOEGlStXTi6XS+Hh4V7BeXp6er6nuEsXAnSXy6XHHntM5cqVU8eOHSVdeIDcQw89pD179qhjx46Frjj7k8vlUoUKFVS+fHnPtlOnTundd9/1SpeT5/fff1+tWrXybP/www/zPZm9b9++WrJkiS6++OKg/248ACDw9u/fX+Dvbefc9pxzobZXr16qUKGC/vOf/+jGG28sdH+XXXaZ4uPj9cEHH2j8+PGe7Xv37tX69etNvfBb0jyVRkREhCR5rSpLF1bfu3Tpok2bNql58+aeVeqCdOnSRdOmTdN3333ndZv7vHnzTMljWbhcLk/ZcixevFj//e9/dckll3i2derUSX/729+0bds2r9vc58+f7/W3HTp0UNWqVbVt2zafH34HWAUBOuAH1apV8zzJdN68ebr99tvVt29fLViwQPfdd59uuukm7du3T08++aQSEhK0Y8cOr7+PjY1V06ZN9cUXX6hLly6KjIyUdCFAP3LkiI4cOaIZM2YEo2jq06ePZsyYoSFDhujuu+/W4cOH9be//S3fgNukSRMNHjxY06dPV/ny5dW1a1dt3bpV06dPl9vt9rrlb8qUKVq+fLnat2+v+++/X5dddplOnz6t3bt3a8mSJfrHP/6hWrVqBbqoAIAA6dWrl2rVqqV+/fqpUaNGOn/+vDZv3qzp06ercuXKeuCBByRJ9erV05QpUzRx4kTt3LnT89yXAwcO6Ouvv1ZUVJQmT56scuXKafLkybrnnnt000036c4779SxY8c0efJkJSQkFPjTbWVV0jyVRpUqVVS3bl19/PHH6tatm2JiYlSjRg3Vq1dPf//733XNNdfo2muv1Z/+9CfVq1dPmZmZ+uWXX/Tpp59q5cqVkqRx48bpjTfeUJ8+ffTUU08pLi5Oc+fO1U8//WRa2Uurb9++euutt9SoUSM1b95cGzdu1PPPP59vjM/Je1JSkqZMmaK4uDjNmzfPk/ec9qtcubJefPFFDRs2TEeOHNFNN92k2NhYHTp0SN99950OHTqkV155JeDlBHxBgA74ydixYzVr1ixNmTJFgwcP1ogRI3Tw4EH94x//0BtvvKEGDRro0Ucf1a+//lrgwN29e3f98MMPXt8zr1Onji699FLt2LHDp++f+6Jr165644039Nxzz6lfv3666KKLNGrUKMXGxmrkyJFead98800lJCRo9uzZeuGFF3TFFVfogw8+UO/evb1uZUtISNA333yjJ598Us8//7x+/fVXValSRfXr1/dMdAAAzvXXv/5VH3/8sV544QXt379fWVlZSkhIUPfu3TVhwgTPA8ckacKECWrcuLH+/ve/67333lNWVpbi4+N11VVX6d577/Wku/vuu+VyuTRt2jQNHDhQ9erV06OPPqqPP/7Y84A3s5Q0T6Uxe/ZsPfTQQ+rfv7+ysrI0bNgwvfXWW2rcuLG+/fZbPfnkk/rrX/+qgwcPqmrVqrr00kt13XXXef4+Pj5ea9as0QMPPKA//elPioyM1MCBAzVr1ixdf/31ZhW9VP7+978rLCxMU6dO1YkTJ9SqVSvPT+DllpiYqDVr1mjcuHG69957PXmfMmWKhg0b5jWHuP3221WnTh1NmzZN99xzjzIzMz0Prcv92/GAXbgMwzCCnQkAoWP9+vXq0KGD5s6d6/OTZAEAKI1jx46pYcOGGjBggP75z38GOzsopbvvvlvvvfeeDh8+XOTt/YCdsYIOwG+WL1+u1NRUtW7dWpUqVdJ3332nZ599VpdeeqluuOGGYGcPAOBg6enpevrpp9WlSxdVr15de/bs0QsvvKDMzEzPLfOwrilTpigxMVENGjTQiRMn9Nlnn+n111/XX//6V4JzOBoBOgC/iY6O1hdffKGZM2cqMzNTNWrUUFJSkqZOnZrvJ2YAADBTRESEdu/erfvuu09HjhxRZGSk2rZtq3/84x9q0qRJsLOHYoSFhXm+9nb27FldeumlmjFjBhdX4Hjc4g4AAAAAgAWY9whLE7z88suqX7++KlasqNatW+vLL78MdpYAAAAAAAgIywTo77//vsaNG6eJEydq06ZNuvbaa5WUlGT6UzYBAAAAALAiy9zi3qZNG7Vq1crrtwovv/xyDRgwQFOnTg1izgAAAAAA8D9LPCTuzJkz2rhxox599FGv7T179tT69evzpc/KylJWVpbn/+fPn9eRI0dUvXp1uVwuv+cXAOBchmEoMzNTiYmJKlfOMjeaOQ5jOQDAX+w8llsiQP/999917tw5xcXFeW2Pi4tTenp6vvRTp07V5MmTA5U9AEAI2rdvn2rVqhXsbDgWYzkAwN/sOJZbIkDPkfeKuWEYBV5FnzBhgsaPH+/5f0ZGhurUqaN9+/YpOjra7/kEADjX8ePHVbt2bVWpUiXYWXE0xnIAgL/YeSy3RIBeo0YNlS9fPt9q+cGDB/OtqksXftcyIiIi3/bo6GgGdSCPpAbJWrpzerCzAT/wpW3pF4W7sflfJOW/aAxzMZYDAPzNjmO5JW7IDw8PV+vWrbV8+XKv7cuXL1f79u2DlKvASGqQHOwswOEIwpzLl7b1JbA3I42VffT9M8HOAgAACFGWCNAlafz48Xr99df1xhtv6Mcff9Sf//xn7d27V/fee2+p95UzObTDJJHgCYCdlOScxXkNAACgbCxxi7sk3XrrrTp8+LCmTJmi/fv3q2nTplqyZInq1q1b6n3lTA6ZJAIAAAAA7MIyK+iSdN9992n37t3KysrSxo0b1bFjx2BnyRbscKcAAN9wnAMAADifpQJ0lI2ZdwpYPQiwev4Af7HKHUEcgwAAAP5DgA4vVgkCCmP1/PnCTs9OyMuOeS4pJ5etLEpzDFJ3AAAApeMyDMMIdiZ8dfz4cbndbmVkZPDTLABMw0+RhSbGlOCg3gEAZrHzmMIKOmAzrEoGDsE5AAAAAokAvQgEQrAigkYAAADAmQjQi0AgFDz+uDjCBZfQRLsDAADALgjQUaBgP7As5+KImZ/PBZfQRLsDAADALgjQSylUVuNygppgBTc59Uxw5R+l7cdO7/dOLx8AAADswXFPcb/1iskEdQCAMrPzk1/tjHoHAJjFzmOK41bQCc5Lz2qrh1bLT6jL3R52a5tA59du9QMAAABrcdwKut2ukAAArIUxJTiodwCAWew8pjhuBR1AYPCkfQAAAMBcBOgAysQfXyfhKyrm4EIHAACAPRGgA/AgsHMGLnQAAADYEwG6hREswV8K+517Aruy43i1HtoEAADYDQG6hREsmYvJ+v8E+3fufWHVdrRjXTodbQIAAOyGAB2W4e/Ay1+TdasGjE5F0AUAAACnIkD3EcGZeewaeNk13wg+zh8AAADIjQC9FAqaTBOcWROBD8oi0P3GCucPpx0rTisPAAAILS7DMIxgZ8JXdv4hegRfUoNkSwRKAKyBMSU4qHcAgFnsPKawgo4ScfKqFME5UDqF/QoAAAAAfEOAjhLxRxDL5N5eAtle9A1rs/OvAAAAAFgZAbqFhFpQwuTeXgLZXvQNmCHUzqkAAMD+CNB9YPbkj6AEgRSo25QJkhAMPFsCAADYkeMDdH8GB0z+fEPg5h+XPDtDTR98odh0gbpNmeMEZcU5AkCoKulYDsB5eIq7DbEyBAD+E2pjilVQ7wAAs9h5THH8CroVcCs8UDYFHTusqpqL+gQAALAOAvQAIKCGP4RCYFXQscPxZK5g1ae/+m8oHBcAAMC5CNBhCibFpWNGfRGo0u/szF/9l+MCAADYGQE6TMGkuHTBIvVlDuoRAAAATkKAboJQXMULxTIXh2CxYPQVAAAAoGQI0E0QioGZlctMQGgtVu4roYJjAgAAwB4I0AOECXLglDQgpE1QlML6hx37DRdJAAAA7IEAPUCYIFsPbYLCJDVILrR/0G8AAADgLwToAJBHQUG4HVfOAQAAYC8E6HAks4IpM4MyOwV4dsproLByDgAAAH8jQC8hApaSsUo9mRVM+bKfvHVhpwDPTnlF6RR0jFrluLWKG5v/JdhZAAAAIcplGIYR7Ez46vjx43K73crIyNCtV0wmuADgaEV9Rx6+yz2mREdHBzs7IYN6BwCYxc5jik8r6FOnTtVVV12lKlWqKDY2VgMGDND27du90gwfPlwul8vr1bZtW680WVlZGjt2rGrUqKGoqCj1799fv/76a5nyxKQVrAZaH23kG85zvqH/AQAAq/IpQF+zZo1Gjx6ttLQ0LV++XGfPnlXPnj118uRJr3S9e/fW/v37Pa8lS5Z4vT9u3DgtXLhQ8+fP17p163TixAn17dtX586d8yV7CFEEL9ZHG9mTUwJb+h8AALAqnwL0ZcuWafjw4WrSpIlatGihN998U3v37tXGjRu90kVERCg+Pt7ziomJ8byXkZGh2bNna/r06erevbtatmypOXPm6IcfflBKSoov2QNCilWDJ6vmK1CcVH4CWwAAAP8y9SFxGRkZkuQVgEvS6tWrFRsbq4YNG2rUqFE6ePCg572NGzcqOztbPXv29GxLTExU06ZNtX79+gI/JysrS8ePH/d6WU0wJuVOCgRClS9taNXgyar5CpRQLz9QGDuM5QAABJppAbphGBo/fryuueYaNW3a1LM9KSlJc+fO1cqVKzV9+nRt2LBBXbt2VVZWliQpPT1d4eHhqlatmtf+4uLilJ6eXuBnTZ06VW632/OqXbu2WcUwjRmT8tIGawQC5gv0RQ9/tCEXbhBM9D8Uxg5jOQAAgWZagD5mzBh9//33eu+997y233rrrerTp4+aNm2qfv36aenSpfr555+1ePHiIvdnGIZcLleB702YMEEZGRme1759+8wqhl8RcNuPE9rACWXwBzMCRycHn2aVjf6Hwth1LAcAwJ9MCdDHjh2rTz75RKtWrVKtWrWKTJuQkKC6detqx44dkqT4+HidOXNGR48e9Up38OBBxcXFFbiPiIgIRUdHe73M4O/JNhNVwDrMOB6dekzzM24IBH+N5QAA2JlPAbphGBozZowWLFiglStXqn79+sX+zeHDh7Vv3z4lJCRIklq3bq2wsDAtX77ck2b//v3asmWL2rdv70v2So0JKazGySu0sK5Anwvp5wAAABf4FKCPHj1ac+bM0bx581SlShWlp6crPT1dp06dkiSdOHFCDz74oFJTU7V7926tXr1a/fr1U40aNTRw4EBJktvt1siRI5WcnKwVK1Zo06ZNuv3229WsWTN1797d9xL6iIkjgomLRiiMk85N9HMAAIALfArQX3nlFWVkZKhz585KSEjwvN5//31JUvny5fXDDz/o+uuvV8OGDTVs2DA1bNhQqampqlKlimc/L7zwggYMGKBbbrlFHTp0UGRkpD799FOVL1/et9KZwO4TRytM4q2QB8Afgtm37X5u8hXnFQAA4EQuwzCMYGfCV8ePH5fb7VZGRgbfYQMA+IQxJTiodwCAWew8ppj6O+iAE7AyVzbUm3XRNgAAAPZAgA7kEeq3DpcV9WZdtE3huHgBAACshAAdAHIhYLMPM9qKixcAAMBKCNABGwhm0BgKAWvuMhKw2QdtBQAAnIYAHbYVCoFjjmAGIqEQBDmtjKF0bAAAADhJSAXoTFrtp6g2c1pQZXccX9Zh9WODvgIAAFAwRwfoeSeBVp+0Ir+ythkBgP916/i01/85vlBS9BUAsIa8YzmA4HN0gM4kMHTZre3teEFhxdqJwc5CmdixrgEA8Ae7juWAkzk6QIc15A6I7BwclSbvpS2n3S4oFMTstvVXX3FCXQMAAMCZCNADyM7BqS9yB0R2Do5Kk/fSltMJfcPstrVrX3FCWwIAACA4CNADyK4BB/xv6c7ptlmBRtGccpzTfwAAAAKPAD0XO09I8+bdzmUJVaxAw0pCrf9wzgQAAFZAgJ6LnSekefNuRlmYsCIUWK2fWy0/ocLO538AAOAcBOgoVGkmrKEeVIRq+Z1QbqsFZsXlxwl1DgAAgIIRoMMUVgtyAs1f5bd6MBbq7R4M1DkAAIBzEaAjoKwecFoNdzEAAAAAoYMAHQHF6p//ULf+xQUQAAAA+BsBOgDTODmI5QIIAAAA/I0A3eGcHDDZSai0A0EsgilUjjMAAOBcBOgOR8BkDXZrh9yBTrCCHoIt+wpW29ntOAMAAMiLAB0wkVOCytyBji9Bjy/1QbBlX7QdAABA2RCgo0hOCTgDhcDEmx3rw+p93ur5AwAAQNkRoKNIdgyw4BzBCEat3uetnr9AscLXMAAAAMxGgA4EWFKDZAKKEuJ34EsmFMtu1tcwAAAArIQAHZbj9GBj6c7plg4o7Fr/Vq5Tfwtm2YPdX4L9+QAAAGZydIDOxM13vtRhWf+WVdPgCuVAtzTs/nR7s/YT7P4S7M8HAAAwk6MDdKtM3OwcRJ6pFVPmvw1E/VuljRF6gtX3zPpcjh0gdHTr+HSwswAAKCFHB+hWYeeJcPivR4KdBQA2YucLkoBTrVg7MdhZAACUEAE6imTniwsAAi8Y5wwuCgAAAKcgQA8hTGIBOBEXEgEAgFMQoIcQJ05iuehgLuoTVkA/BAAAoYoAHbbmxIsOBckdsBT2bzOESn2agSDSf+iHAAAgVBGg+8BqP3cEcxTXHsFor9wBS2H/9pVV+6FV81XSui8s/yUpl1XLDgAAAP9wGYZhBDsTvjp+/LjcbrcyMjIUHR0d7OwAAGyMMSU4qHcAgFnsPKawgo6QwEpk6PFnm9OfyiZY9UZ7AQAAuyBAR6nYdaLLd1qtL6dvmdXHStvmpflc+lPZBKveaC8AAGAXBOgoFSa6gWfXiyKlldO3COLsK1T6KgAAgL/4FKA/8cQTcrlcXq/4+HjP+4Zh6IknnlBiYqIqVaqkzp07a+vWrV77yMrK0tixY1WjRg1FRUWpf//++vXXX33JFmALBQUzBW2zW+BIkJafv+vEKnVut74KAABgNT6voDdp0kT79+/3vH744QfPe9OmTdOMGTM0a9YsbdiwQfHx8erRo4cyMzM9acaNG6eFCxdq/vz5WrdunU6cOKG+ffvq3LlzvmYN8BszAqKCghknBDhmlqFbx6dN21cw+btdndBvAAAAYEKAXqFCBcXHx3teNWvWlHRh9XzmzJmaOHGibrjhBjVt2lRvv/22/vjjD82bN0+SlJGRodmzZ2v69Onq3r27WrZsqTlz5uiHH35QSkqKr1mzPausilmB1erCqgGRmfVkhTpfsXZisWmskM8cVsoLAAAA7MfnAH3Hjh1KTExU/fr1NWjQIO3cuVOStGvXLqWnp6tnz56etBEREerUqZPWr18vSdq4caOys7O90iQmJqpp06aeNKHMqkFgMDi5Lsz8PWwz68kudW6lfFopLwAAALAfnwL0Nm3a6J133tHnn3+u1157Tenp6Wrfvr0OHz6s9PR0SVJcXJzX38TFxXneS09PV3h4uKpVq1ZomoJkZWXp+PHjXq9Qwiqds5QkqCPwA+A0oT6WAwBQEJ8C9KSkJN14441q1qyZunfvrsWLF0uS3n77bU8al8vl9TeGYeTblldxaaZOnSq32+151a5d24dS2E/eYI2A3T5oKwC4INTHcgAACmLqz6xFRUWpWbNm2rFjh+dp7nlXwg8ePOhZVY+Pj9eZM2d09OjRQtMUZMKECcrIyPC89u3bZ2YxbIfVVfugrQDgAsZyAADyMzVAz8rK0o8//qiEhATVr19f8fHxWr58uef9M2fOaM2aNWrfvr0kqXXr1goLC/NKs3//fm3ZssWTpiARERGKjo72egEAAPtgLAcAIL8Kvvzxgw8+qH79+qlOnTo6ePCgnnrqKR0/flzDhg2Ty+XSuHHj9Mwzz+jSSy/VpZdeqmeeeUaRkZEaMmSIJMntdmvkyJFKTk5W9erVFRMTowcffNBzyzwAAAAAAKHCpwD9119/1eDBg/X777+rZs2aatu2rdLS0lS3bl1J0sMPP6xTp07pvvvu09GjR9WmTRt98cUXqlKlimcfL7zwgipUqKBbbrlFp06dUrdu3fTWW2+pfPnyvpUMAAAAAAAbcRmGYQQ7E746fvy43G63MjIyuEUOAOATxpTgoN4BAGax85hi6nfQAQAAAABA2RCgAwAAAABgAQToAAAAAABYQEgG6EkNkoPyt/7ga36sVh44U6j3s1AvPwAAAEqGh8QBsIykBslaunN6sLOBEMeYEhzUOwDALHYeU0JuBb20K1msfNkXbWc/BOcAAAAIZSEXoJc2ACBg8GanoDen7QKZ57yfZaf6spuS1i1tAAAAALsIuQDdDqwcUNjxgoXZeS6qffJ+VlGfbeV2toPC6jZvvdqxzwIAACA0EaBbEAGFtZU0MCzrfuAb6jV0cJELAAA4DQF6kJg5sWSSGjhJDZLVdvD0AuucwBAILI45AGXVdjDnDwDWRIAeJGZOLK08SXXaxYMfp9TQycEZwc4GEFROO64BhJZ6c6YylgOwLAL0AAu1ia2VLx6UxcX/PK/Yv0U4rlwFCbW+WhTqwlso9H8AzpUzlgOAFRGgBxgTW3tbsXaiVqydGBIBG331f+xYF5c+MyPYWQiYUDgeAZgnZywHrC6UxnL8j8swDCPYmfCVnX+IHrCipAbJtgxKATMwpgQH9Q4AMIudxxRW0IEAscMq37X9n1e3jk/rx8k1eIAOAAA2lDOW13t3KmM5YEME6ECA2GFFOvzYGYX/ekR9m/ygcxEuW1xUKKlAlKVbx6f9/hkAABQl/NgZrVg70TOWA7AXAnQETCACJCcFlEXxtZyF/X3Od/J+HNdEG94ab4uLCiUViLLwnUYAQLDlHcsB2AvfQQffN4YHfQFgTAkW6h0AYBY7jymsoIOAzEauGu7fp3mGWl8IlTsurKSwOqctAIQKf4/lAOyNAB2W5dQJuy/lcuqtasFq60BdkHBqXy6Lwuo8mBeHaB8AgeTUsRyAOQjQYVlWWs01cwKft1y+7NvOgUVSg2TPQ9XMamur1oeV+jIusGpfAQC74QGpgLn4DrpFOeW7wE4pB0qONreu0rZNqLalE8cUO6DeAQBmsfOYwgq6RTllUuyUcqDkrNTm/lwlNWPfgV7FLW3bWKktAQAAQgEBug+CeYskt2fCbE7sU/4MMM3YNwFwfk7shwAAACVFgO6DYE6umdj7T2kCBCcFE6Hap67t/3yws4BcQrUfAgDKjrEcTkKAjnycFHSWRWkCBIIJ+/vyk4eKfN8fx0OoH2NWRtsAgP0UN5YDdkKAjnwIOkuHCb3/lLZu/dEWoXQ80JdDq70BAID1EKCHGCbg5mNC7z9OeahZ3uPOqvm0ar4AAABCBQH6/2flwNWfv8GNwlm5T8BeOO4AAABQEgTo/5+VJ9BWzpuTWbneQ/XiQaiWGwAAAKGBAB2OUZLgzckBnpPLlsPKF01grlDozwAAAHkRoMM0wZ5Q5w3eCsqPUwK8gsrhlLIhsIJ93BaG/gwAAEIRATpMY+aE2oyggQm+M1k1oLSrpTunU6cAAAAWQYBeAkxezVWS+ixJcE27hCarXQhyAoJ0AAAAayBALwFfAwImvt7MCrBYIbcnKx0P9KH/8VddWKm9AQAArI4APQAIAoD/sdrxQADpX1ZrbwAAACsjQLc5ggtroB2sp6RtQgAJAAAAqyBALyUzAjEzgzk7BxdOCmrt3A7BUlD7O/HYcFI/t5rS1i1tAQAArM6nAL1evXpyuVz5XqNHj5YkDR8+PN97bdu29dpHVlaWxo4dqxo1aigqKkr9+/fXr7/+6ku2/MqMSb+VA4dATmCtUg8IjsJ+Ks5pQRT93H9KW7e0BQAAsDqfAvQNGzZo//79ntfy5cslSTfffLMnTe/evb3SLFmyxGsf48aN08KFCzV//nytW7dOJ06cUN++fXXu3DlfsoYSCIXf0rZDsFdYHu2Qd3/gKe3ORXsAAAAUzacAvWbNmoqPj/e8PvvsM1188cXq1KmTJ01ERIRXmpiYGM97GRkZmj17tqZPn67u3burZcuWmjNnjn744QelpKT4kjUEiNUn3FZ+MnXOPgrLo9MulgQDdWgttAcAAEDRTPsO+pkzZzRnzhzdeeedcrlcnu2rV69WbGysGjZsqFGjRungwYOe9zZu3Kjs7Gz17NnTsy0xMVFNmzbV+vXrzcoaTJY7OA3VCXdpyl1YMB/IurP6hRSrob6ci7YFAABWZlqAvmjRIh07dkzDhw/3bEtKStLcuXO1cuVKTZ8+XRs2bFDXrl2VlZUlSUpPT1d4eLiqVavmta+4uDilp6cX+llZWVk6fvy418tu7DxJtGpQbtU69Wd98aTy0ivJsxeoL+sx6/guqm2teg5xKieM5QAAmM1lGIZhxo569eql8PBwffrpp4Wm2b9/v+rWrav58+frhhtu0Lx58zRixAhPwJ6jR48euvjii/WPf/yjwP088cQTmjx5cr7tGRkZio6O9q0ggMMkNUgm4ARK4fjx43K73YwpfsZYDgDwFzuP5aasoO/Zs0cpKSm66667ikyXkJCgunXraseOHZKk+Ph4nTlzRkePHvVKd/DgQcXFxRW6nwkTJigjI8Pz2rdvn++FCEF5V4tYPXImgnNn47iFXTGWAwCQnykB+ptvvqnY2Fj16dOnyHSHDx/Wvn37lJCQIElq3bq1wsLCPE9/ly6ssm/ZskXt27cvdD8RERGKjo72eqH08gZuBHKA/XDclg0XNoKPsRwAgPx8DtDPnz+vN998U8OGDVOFChU820+cOKEHH3xQqamp2r17t1avXq1+/fqpRo0aGjhwoCTJ7XZr5MiRSk5O1ooVK7Rp0ybdfvvtatasmbp37+5r1mCyskxomQTDKuiLyI0LGwAAwIp8DtBTUlK0d+9e3XnnnV7by5cvrx9++EHXX3+9GjZsqGHDhqlhw4ZKTU1VlSpVPOleeOEFDRgwQLfccos6dOigyMhIffrppypfvryvWQuoUJj8l2VCyyQYVlFYX7TqsWvVfAEAAMB/THtIXDDZ+SEApcHDvsxjtbq0Wn6AUBYqY4rVUO8AALPYeUwx7WfW4LviVswI4MrO6j+jZbX8AAAAAAg8AnQLCVSQFoq3zhIAFywU+wIAAABgVQToAWaFgMiXYNUK+Yd5QuXChZn91irHgFXyAQAAAPMQoAeY3QMiu+e/KAQ8zmVmvzVzX770Oascixw3AAAA5iFA90FSg2Qmpw5ilYAHocMJfc6fZeD8CgAAQg0Bug+W7pzuiAk24G8EWigLzq8AACDUEKCj1K4aPoOAKw/qo2gEWgBgLVcNnxHsLAAACkCAjlLb8Nb4YGehUMEKlJ0YgNrhooMd8ggAVmTlsRwAQhkBus2FWkCa1CBZ3To+Xej7VnmAVzC1HWxOHdjhooMd8ggAyK+osRzmjeUA7IcA3eYCFaBYZSA9UytG5Sb/HpD82DX4q/bVb8HOgu3Z9eIMABTFKmN5t45PB2wst6u09xiHgFBFgF4Kvk7a7TzpD//1SNA+O3e9/bdTpP5xyXydvKhi0PJjdXa9sGAlpalDs45rO58fCuK08gBOsGLtxGBnQRJjOQAUxWUYhhHsTPjq+PHjcrvdysjIUHR0tKn7TmqQTMBjMaHUJqFUVsAq/DmmoHDUOwDALHYeU0J6Bb0kKzwER9YTSm0SSmU1Gyu4AAAAsJuQDtBLEvwwyUegtbp7hq4aPoPv5hWipMekFS9ulDTvnHcAwN4YywGUVUgH6CURjEm+2ZNzM/ZHwBAY3To+rfjbd+uZSf/U8QaVgp0dS7Ji4F1SJc27Vcroz+OecwoAp2IsB+ALAvQAC8Zt9VaZ7KNoSQ2SdbxBJf28P1YPb7tRknWeuGsmuwVmdsuvmTh3AEDp5R3LAaA0eEgcYCE5D4W7tv/z+vKTh4KdHSAkMaYEB/UOp2EsB4LHzmMKK+iAReReqXX6gN583Au69JnQ+G5eMFfgQ3n1HwCCjbEcQFkQoCOkdOv4tKlBS1n3VdDfLd05PSRuKU5qkKxzXY7pxUGv60zV8GBnx++C2aa+fDbBPQCrIiC0hlAay4FAIkAPQVaceAcqT79dG6kztWJM219ZA6BQCMQLs3TndMXMrqyH/2+U41cXcjOrjwfqWHFKH7Xi+Q6Ab367NjLYWYAUkmM5EAh8Bx1FyvlOtBOU9rtgTip7MJS0/vxZz7ShM/m7XRlTgoN6R0nwvW4AJWHnMYUAvYyCMfEn2PAW6vUR6uW3E9rKXuw8qNsZ9Q4AMIudxxRucS+jkk62zby90uwJvt1v/Qz1gGfpzum2b8NACXY9hXpfBQAAQMkQoPuZlSfmVs4bSsYubRjqAXKwyw8AAAB7CMkAnad/womsHASasdofqPL543OCfYEAAAAA9hCSAfqKtROLfN/KgY7TlaTuS9s+odKeVg8Cfc1foMoXzHr0Z18NleMAAADAznhIHADYHA+hMxdjSnBQ7wAAs9h5TAmpFXRfVpBYfQKcI9DHc1KDZL9+JsE5AACAM4RUgO7LJJYJMEJJ7mDSiRenAn08L905XTuH1wroZwIAAHNdNuWFYGcBISCkAnQAJZM7gC0qmC1p8O7EIL+0tj/+52BnAQAA+ICxHIFAgA6gzEq6Es0dKAAAAEDxCNDhd6yeAgAAAEDxCNCDLBSCV6f+bBUg0ccAAABgHgL0IOPWX/+ifkNPoANm+hgAAADMEhIBOitc5qAeYQf+DJgDeQxwvAEAAISekAjQWeEyB/WIUBfIY8CMp+eXFBcDAAAArCEkAnQ4G8EFQo0vFwoKOl64+AYAAGANBOgB1K3j06VKH4zA09+f6Y/9E1wAJXemVkyws2AKLswBAEJVaWMK2EuRAfratWvVr18/JSYmyuVyadGiRV7vG4ahJ554QomJiapUqZI6d+6srVu3eqXJysrS2LFjVaNGDUVFRal///769ddfvdIcPXpUQ4cOldvtltvt1tChQ3Xs2DFTCmglK9ZOLFX6YASeJf3Msk6OCaaBwMp7rJ68qGKQcmIuziUAgFDllLEcBSsyQD958qRatGihWbNmFfj+tGnTNGPGDM2aNUsbNmxQfHy8evTooczMTE+acePGaeHChZo/f77WrVunEydOqG/fvjp37pwnzZAhQ7R582YtW7ZMy5Yt0+bNmzV06FCTivg/VlhxsUIezGDG5NhOdWGnvAK55T1W096jLwMAYGeM5c7mMgzDKFFCl0sLFy7UgAEDJF1YPU9MTNS4ceP0yCOPSLqwWh4XF6fnnntO99xzjzIyMlSzZk29++67uvXWWyVJv/32m2rXrq0lS5aoV69e+vHHH9W4cWOlpaWpTZs2kqS0tDS1a9dOP/30ky677LJi83b8+HG53W5lZGQoOjq6LPUAwCaSGiSbvnrqj30Ggl3zbXWMKcFBvQMAzGLnMaXM30HftWuX0tPT1bNnT8+2iIgIderUSevXr5ckbdy4UdnZ2V5pEhMT1bRpU0+a1NRUud1uT3AuSW3btpXb7fakAYAc/ghI7Rrk2jXfuXF3CgAAwP+UOUBPT0+XJMXFxXltj4uL87yXnp6u8PBwVatWrcg0sbGx+fYfGxvrSZNXVlaWjh8/7vWyIyam/lNY3VLnsDM799/C8u6EiwwoG6eM5QAAmMnnp7i7XC6v/xuGkW9bXnnTFJS+qP1MnTrV80A5t9ut2rVrlyHnwbd053RbT7itrLBJP8GAM4XKcZS3/9qp3IE69uxUJ6HOKWM5AABmKnOAHh8fL0n5VrkPHjzoWVWPj4/XmTNndPTo0SLTHDhwIN/+Dx06lG91PseECROUkZHhee3bt6+sxQg6O0+488qbdzuXxR+oD/9xwoWXshw/Tii32agT+3DSWA4AgFnKHKDXr19f8fHxWr58uWfbmTNntGbNGrVv316S1Lp1a4WFhXml2b9/v7Zs2eJJ065dO2VkZOjrr7/2pPnqq6+UkZHhSZNXRESEoqOjvV5OYefJZd6827ks/kB9oCgcPwg1Th7LAQAoqyID9BMnTmjz5s3avHmzpAsPhtu8ebP27t0rl8ulcePG6ZlnntHChQu1ZcsWDR8+XJGRkRoyZIgkye12a+TIkUpOTtaKFSu0adMm3X777WrWrJm6d+8uSbr88svVu3dvjRo1SmlpaUpLS9OoUaPUt2/fEj3B3Q5YOQUAa+B8DAAArKzIAP2bb75Ry5Yt1bJlS0nS+PHj1bJlSz3++OOSpIcffljjxo3TfffdpyuvvFL//e9/9cUXX6hKlSqefbzwwgsaMGCAbrnlFnXo0EGRkZH69NNPVb58eU+auXPnqlmzZurZs6d69uyp5s2b69133/VHeYMyOXP6ShgTXoQC+rkzOP18DAAA7K3Ev4NuZXb+nbuChNpvG4daeQFYm9PGFLug3gEAZrHzmOLzU9xhPisGq/5cPbRiec3Cqqu5glmftCUAAAD8jQAdJeKkp80HUiAvPoRCmyzdOV3dOj4dtM8uTii0AQAAAPyHAL0ITLYL5+RV72Awo6/50iZ26usr1k4MdhYKxXEBAAAAXxCgF8Guk207BVtWV5q69KXeg93Xgv35CB2cnwAAAApHgB5k/pis2iHYsuIkPW+ech5eV9K82qHeS8uK7QR74+syAAAAheMp7gAA5MKYEhzUOwDALHYeU1hBBwAAAADAAgjQAQAAAACwAAJ0AAAAAAAsgAAdAAAAAAALIEAHAAAAAMACCNABAAAAALAAAnQAAAAAACygQrAzAFhNUoNknakVo13XV1L9j09pxdqJwc4SAAAopW4dn2YsB2A7rKDDspIaJJdom9mfs3TndK1YO1E7k8cXO6D7Iz9msGq+AAAIlJKO5QBgJS7DMIxgZ8JXx48fl9vtVkZGhqKjo4OdHQCAjTGmBAf1DgAwi53HFFbQAdhat45PBzsLpgjE3SEAAACwNgJ0mMapwYBTy+UUTrl1cenO6bbYJwAAAPyHAB0evgaiTgsGcuqjuHKZEcBb9SKAVfNVGCvl10p5AQAAgD2EfIAerEm0FSfvgQqwy1L2pAbJAa2zpAbJJa4PM+rNqhc3rJqvwhSU33qz/haEnBRdd1Y8/gEAsKpgjeVAMPCQONhKaQJnq7Fz3u2oW8enHXP7OwKLMSU4qHcAeTGWo6zsPKaE3Aq6v1euWBnzLzsHuHbOux0xoNsL504AQF6M5QhFIReg+ztIIgjLj4m3eXVAXaIodu4f/jh32rk+AABAaAq5AB2BV5aJd6C/c15UPsyQUwc8iA/+xPfevXG8AAAAuyFAt5BQnEAXZunO6UGfXPvjO+O590d7F466MV+wjycAAAAUjwA9AEoabDCBtpYztWI8beePgNGM9nZqIGvFY6GounZqOwCA3XXr+HSwswAApUKAHgBWDDZQvN39Knn+bdU2DES+cgefJQ1EnRiwFlXXVu0fVuPEfgHA2nKP5QBgB/zMWinxU1nmoj7tiXZzDtoyPzv/NIudUe8AALPYeUxhBb2UmMiWTnErZlarz7z5ZcWvYMFuN9rFPMFuSwAAAPwPAXoptR3MZDZHSYIku03+7fQQN6vnz5/s1q/KKpTbGPAnxnIAgFVxiztCErf1AigMY0pwUO8AALPYeUxhBT3IWCELDrOCc9ovMAJRz2Z9Bn0CAAAAZUWAXkpmT75Zxc3PTgEO7RcYgahnsz6DPlEydjrOAQAAAoUAvZSYfPtPzoSdOgbBW+nYsb44zgEAAPIjQLcBO06+y4IJu3P42mfpC6VDfQEAADgDAboNMPkuWqhcwLCaouqdPls2penL9HsAAADnIUCHpZQl6CAYDA7q3XylqVPqHwAAwHlCJkAPxdUmO5aZoAOwjrKeQ+x47gEAALCCIgP0tWvXql+/fkpMTJTL5dKiRYs872VnZ+uRRx5Rs2bNFBUVpcTERN1xxx367bffvPbRuXNnuVwur9egQYO80hw9elRDhw6V2+2W2+3W0KFDdezYMdMKKRUf+DlxQhlKwa4T2w9Fs1ub2y2/UtnPIaF07gEAADBTkQH6yZMn1aJFC82aNSvfe3/88Ye+/fZbPfbYY/r222+1YMEC/fzzz+rfv3++tKNGjdL+/fs9r1dffdXr/SFDhmjz5s1atmyZli1bps2bN2vo0KE+Fq10mFDaWzDaz44BV1HsVh5/tLk/64BzDAAAAIpToag3k5KSlJSUVOB7brdby5cv99r24osv6uqrr9bevXtVp04dz/bIyEjFx8cXuJ8ff/xRy5YtU1pamtq0aSNJeu2119SuXTtt375dl112WakKBASK0wIup5WnLKgDAAAABJOp30HPyMiQy+VS1apVvbbPnTtXNWrUUJMmTfTggw8qMzPT815qaqrcbrcnOJektm3byu12a/369WZmD7nYbbUU9kZ/AwAAAIpX5Ap6aZw+fVqPPvqohgwZoujoaM/22267TfXr11d8fLy2bNmiCRMm6LvvvvOsvqenpys2Njbf/mJjY5Wenl7gZ2VlZSkrK8vz/+PHj5tVjJDBSiECKdT7W1KD5JCvAyAvxnIAAPIzZQU9OztbgwYN0vnz5/Xyyy97vTdq1Ch1795dTZs21aBBg/Thhx8qJSVF3377rSeNy+XKt0/DMArcLklTp071PFDO7Xardu3aZhQDKDVWhq3Dym2xdOd0dev4dLCzAVgKYzkAAPn5HKBnZ2frlltu0a5du7R8+XKv1fOCtGrVSmFhYdqxY4ckKT4+XgcOHMiX7tChQ4qLiytwHxMmTFBGRobntW/fPl+LERBWDiBQNoWtivrS1nbrJ1bJb1lXqAP1U2Ir1k4s0+eYmQfASuw6lgMA4E8+Beg5wfmOHTuUkpKi6tWrF/s3W7duVXZ2thISEiRJ7dq1U0ZGhr7++mtPmq+++koZGRlq3759gfuIiIhQdHS018sOuMXVXP4ITszapy9tbbd+Yrf85mXnnxKzQh6AsrLrWA4AgD8VGaCfOHFCmzdv1ubNmyVJu3bt0ubNm7V3716dPXtWN910k7755hvNnTtX586dU3p6utLT03XmzBlJ0n/+8x9NmTJF33zzjXbv3q0lS5bo5ptvVsuWLdWhQwdJ0uWXX67evXtr1KhRSktLU1pamkaNGqW+ffta5gnurFJZkz9WTHPvk3YHfMdxBAAAUHJFBujffPONWrZsqZYtW0qSxo8fr5YtW+rxxx/Xr7/+qk8++US//vqrrrjiCiUkJHheOU9fDw8P14oVK9SrVy9ddtlluv/++9WzZ0+lpKSofPnyns+ZO3eumjVrpp49e6pnz55q3ry53n33XT8Wu3SCuUrF5NYcueuxpO3J6mR+RfXHnPfos0ULtfqx2+/VAwAABJPLMAwj2Jnw1fHjx+V2u5WRkeG3W+TK+hRmnt6MQKPPORdtGxiBGFOQH/UOADCLnccUU38H3cns/D3V0irJ6hQrWNZlxz7nVGYfJ3ZrW84TAAAApUOAjnxKEgTYLVCAeUIx6CprmUP9OClp+UOxTwEAABQk5AN0JobwVVKD5JDqR2YHnXaou9KU2Q7lsZpQv5ABAACQIyQC9JI+tTvQmMj7prj6C1T9Lt053bIBhlP6mJ3KkdMX7JRnAAAAWENIBOhWDZ6smi+7BBbF1Z9V6zeQ7FAHdshjWTi1XHnZ5XwBAABgByERoKN0nBZYEEBYS7eOT5e4TXLSOa1POokd2oZzAAAAsAsCdAdg8lk0OwQQwRbIPrRi7cRS/RY9/ds31B/nAAAAYB8E6A7gj8knk3rzWblOrRzAWDlvduDv+rNyvwYAALAbAnQUiKDIfKFYp3YP3uye/0AIxX4NAADgLwToAPzG7sFboPPPBQEAAIDQRoAOWFy3jk8HOwsIELtf0AAAAIBvQjJAZ5UqsMys71BsuxVrJyqpQXJIlh0AAAAIJSEZoNtllcopAZmZ9W2XtjPb0p3Tiyx7IPtK7s9ySh8FAAAArCAkA3S7CNVg1ClKE7z6Guj62ldK8/k5n8Wt9wAAAIC5QiZAN2uljxVDa7Jiu9jpAktZ8lqa3zMHAAAAULyQCdDNCiQISKzJ7u1i9fxb8QKIP4RKOQEAAGBNIROghzonBh5OLJNV+XIBoVvHp9X0wRdMzI052g7OXyarXygBACAY7DSWA3YXUgF6KAd0Tgw88pYplNvXysJ/PaItf/tzsLPhpVvHp5X2Hv1F4rgBABRvxdqJlhvLJTGWw5FCKkB3YpBaUnaehJc076HcvlZmxXZZsXZisLNgGVZsHzPY+ZwHAABCV0gF6KEk7+TUzpNwM/Nu10n7tf2fD3YWHKEs7W/XPhPq7HzOA+BMjOUASoIA3aaKCxqKm5yGatBh10n7l588FNTPd0p/KUv727XPWA0/ywcg1AV7LAdgDwToNuVr0EDQgdLwpb84JbiHb/haAQAAQPEI0HMhkADMFwoXg5x+7nB6+QAAAKyCAD2XQAYSTHgLV9q6MbMufd2XVdv1quEzAvI5wWy7YHL6RQinlw8A7CBQYzmA4HIZhmEEOxO+On78uNxutzIyMhQdHR3s7AB+k9QgmWApF+oD/sCYEhzUOwDALHYeU1hBB2yEYNQb9QFfOOUODgAA4BwE6HAEJtrO0Opue9++Rz+0Fy7wAID57D6WA8FGgG5BTPJLz8oTbdqz5L795/hgZ8EnVu6HAAAEgt3HciDYCNAtiEm+s4Rae5blQXFcxCgcdQMAABA6CNAdzE4T+0Dm1U71YkclvSCR0w5Ld04PuYsYpUHdAAAAhA4CdAez08Q+kHnl5/SswU79EwAAAAgEAnQHIii0DoJQILg4HwIAADshQM/DCZO5sgaFTii7leStT+q3YL7USyjVaSiV1UxcJAMAAHbiMgzDCHYmfGXnH6KH/yQ1SHbM5NxJZQkFtJe9MaYEB/UOADCLnccUVtBRYnZbwbNigFTWOrRiWVA42gsAAABlQYCOEvNn0GGF4D8QeSBwg79Y4RiyI+oNAABYCbe4AwCQC2NKcFDvAACz2HlMYQUdjmWFlTEr5AEAAACAPRQZoK9du1b9+vVTYmKiXC6XFi1a5PX+8OHD5XK5vF5t27b1SpOVlaWxY8eqRo0aioqKUv/+/fXrr796pTl69KiGDh0qt9stt9utoUOH6tixY6YUEKGrtLeT+yOYdsIt7VxkgFPRtwEAgNUUGaCfPHlSLVq00KxZswpN07t3b+3fv9/zWrJkidf748aN08KFCzV//nytW7dOJ06cUN++fXXu3DlPmiFDhmjz5s1atmyZli1bps2bN2vo0KFlKhATLpRVIINpO/VTJ1xkKAk7tYnV2aUuQ6VvAwAA+yjxd9BdLpcWLlyoAQMGeLYNHz5cx44dy7eyniMjI0M1a9bUu+++q1tvvVWS9Ntvv6l27dpasmSJevXqpR9//FGNGzdWWlqa2rRpI0lKS0tTu3bt9NNPP+myyy4rNm9mf8eAn0gKDbQzgILY+Xtrdka9AwDMYucxxefvoK9evVqxsbFq2LChRo0apYMHD3re27hxo7Kzs9WzZ0/PtsTERDVt2lTr16+XJKWmpsrtdnuCc0lq27at3G63J02gEbTZT1KD5FKv2uVuZ7us+AEoO45zAABgdT4F6ElJSZo7d65Wrlyp6dOna8OGDeratauysrIkSenp6QoPD1e1atW8/i4uLk7p6emeNLGxsfn2HRsb60mTV1ZWlo4fP+71srtAThydOEldunO6TxdW7HxRxontWRBfyhmsOgqVtrELOx/nTuTEsRwAAF/5FKDfeuut6tOnj5o2bap+/fpp6dKl+vnnn7V48eIi/84wDLlcLs//c/+7sDS5TZ061fNAObfbrdq1a/tSDEswe+JYVGAQqpNUKwRLZc0D7elbOYNVR6HSNkBZOHEsBwDAV6b+zFpCQoLq1q2rHTt2SJLi4+N15swZHT161CvdwYMHFRcX50lz4MCBfPs6dOiQJ01eEyZMUEZGhue1b98+M4the3y3umBWqJOy5sEKeQeswgoX2+A7xnIAAPIzNUA/fPiw9u3bp4SEBElS69atFRYWpuXLl3vS7N+/X1u2bFH79u0lSe3atVNGRoa+/vprT5qvvvpKGRkZnjR5RUREKDo62utlNcGcQBLMOQ8BCfA/nOOcwQ5jOQAAgVZkgH7ixAlt3rxZmzdvliTt2rVLmzdv1t69e3XixAk9+OCDSk1N1e7du7V69Wr169dPNWrU0MCBAyVJbrdbI0eOVHJyslasWKFNmzbp9ttvV7NmzdS9e3dJ0uWXX67evXtr1KhRSktLU1pamkaNGqW+ffuW6AnuVsUEEmbICcwD+RUIJymqnKFSBwAAALCPIn9mbfXq1erSpUu+7cOGDdMrr7yiAQMGaNOmTTp27JgSEhLUpUsXPfnkk17fIzt9+rQeeughzZs3T6dOnVK3bt308ssve6U5cuSI7r//fn3yySeSpP79+2vWrFmqWrVqiQph58foAwCshTElOKh3AIBZ7DymlPh30K3Mzg0A+3HCd/ydUAbAXxhTgoN6BwCYxc5jiqnfQQcCpbS3J5t5O3NpAlur3kYdiODcqmXH/9BGAAAA1sIKug2x+gkA/hNqY4pVUO8AALPYeUxhBT0Xu6wmEZxbj136DkIPfRMAAMA+CNBzIfBFWVm179gxOLNjnq3Mqn0TAAAA+RGgw5FKGuQ5PRgMZnBW1roloDSf0/t5SVEPAADA6vgOOmAing8A2B9jSnBQ7wAAs9h5TGEFHTARwbkz+LLSyiotAAAAyooAHTCRv4Oz4vZPcGgOXy60cJHGfGXp1yX5G44XAABgNQTo8EmwJrhWm1jn5CdvcHZt/+dN/Zzigj+7BIdWaz9YV1m/NlKSv7HL8QIguMweywGgKATo8ImZE9zSBG1Wm1gXlp/KW9IDnBPryt2+Vms/WBd9BUCwffnJQ8HOAoAQQoAOy3DiRLy4MoXSSrIT2xcAAAAwEwG6w4VSAGhHBK3/Q18FAABAqAuJAN0JE/9A/Ka0E+oJ9sXdBgAAAAh1IRGgB2KV0t/BQyDKwGourIz+CQAAAKcLiQA9EAgeAPtidR4AAABWQIAOIORxgQ0AAABWQIAOAAAAAIAFEKADAAAAAGABBOgAAAAAAFgAAToAAAAAABZAgA4AAAAAgAUQoAMAAAAAYAEE6AAAAAAAWAABOlBGSQ2Sg50FW6LeAAAAgIIRoANltHTn9GBnIWDMDKpDqd4AAACA0nBUgH5j878EOwuOwkpn2Tmt7ooLqp1WXgAAACAYXIZhGMHOhK+OHz8ut9utjIwMRUdHBzs7AAAbY0wJDuodAGAWO48pjlpBBwCnS2qQzB0LAAAADkWADpQRQRKCYenO6Y79Hj/HFAAACHUE6A7ApDY4nBokAcESiGOK8yUAALAyAnQHIFAESo4AzT/sUq+cLwEAgJURoKPU7DIRd6JQrnuzyk6A5h/UKwAAgO8I0FFqTpiI2zXQ9Ufd26UunNDvAAAAgKKEVIBul0AE/kew9z+56yL3MdJ2MHUEAICdMZYD9hNSATpBmTVx4SQ4Cqr33MdI2nvObZdQ7XPBKHeo1jUAWIGTx3LAqVyGYRjBzoSv7PxD9IDdJDVI5mIXHI0xJTiodwCAWew8pjh2BZ1Vm7Kj7lCUooJz+g4AAABQdo4N0M1e4Ssu8HBSYMJvEaOsytp36A8AAABAMQH62rVr1a9fPyUmJsrlcmnRokVe77tcrgJfzz//vCdN586d870/aNAgr/0cPXpUQ4cOldvtltvt1tChQ3Xs2DHTCmmG4gIPbvktmZxAjPpCbvQH+AsXfwAAgJ0UGaCfPHlSLVq00KxZswp8f//+/V6vN954Qy6XSzfeeKNXulGjRnmle/XVV73eHzJkiDZv3qxly5Zp2bJl2rx5s4YOHepj0ayrW8en/f4ZVp2ULt05XRc/PyPY2QAQIrj4A/gHYzkA+EeJHxLncrm0cOFCDRgwoNA0AwYMUGZmplasWOHZ1rlzZ11xxRWaOXNmgX/z448/qnHjxkpLS1ObNm0kSWlpaWrXrp1++uknXXbZZcXmzWoPAeAhWsUrrI6ou9BAO8PKrDamhArqHQBgFjuPKaZ9B/3AgQNavHixRo4cme+9uXPnqkaNGmrSpIkefPBBZWZmet5LTU2V2+32BOeS1LZtW7ndbq1fv96s7AUUgUfxCqsjO9WdVe9SsAM7tTNCA8czAACwggpm7ejtt99WlSpVdMMNN3htv+2221S/fn3Fx8dry5YtmjBhgr777jstX75ckpSenq7Y2Nh8+4uNjVV6enqBn5WVlaWsrCzP/48fP25WMYqUs+rH6h8kgkzASXIfzzc2/0sQcxI6gjWWAwBgZaatoL/xxhu67bbbVLFiRa/to0aNUvfu3dW0aVMNGjRIH374oVJSUvTtt9960rhcrnz7MwyjwO2SNHXqVM8D5dxut2rXrm1WMYqUM4EjMPM/VrPsiXaDE3z0/TPBzkJICNZYDgCAlZkSoH/55Zfavn277rrrrmLTtmrVSmFhYdqxY4ckKT4+XgcOHMiX7tChQ4qLiytwHxMmTFBGRobntW/fPt8KUAoEIIFR2PfTg80KebAyLl4FB/0SdhTMsRwAAKsyJUCfPXu2WrdurRYtWhSbduvWrcrOzlZCQoIkqV27dsrIyNDXX3/tSfPVV18pIyND7du3L3AfERERio6O9npJgbktkQAkcPIGHVaoe1/zQCDlfCVpY7P7gRWOjZLiGECOwsZyAABCWZFPcT9x4oR++eUXSVLLli01Y8YMdenSRTExMapTp46kC98ZS0hI0PTp03Xvvfd6/f1//vMfzZ07V9ddd51q1Kihbdu2KTk5WZUqVdKGDRtUvnx5SVJSUpJ+++03z8+v3X333apbt64+/fTTEhXCn0/pK8n3zflOOgA4h52f/Gpn1DsAwCx2HlOKXEH/5ptv1LJlS7Vs2VKSNH78eLVs2VKPP/64J838+fNlGIYGDx6c7+/Dw8O1YsUK9erVS5dddpnuv/9+9ezZUykpKZ7gXLrwlPdmzZqpZ8+e6tmzp5o3b653333XrDL6pCSBd940rBDBrpIaJKvt4OIvSAEAAOsqbiwHYF0l/h10K7PzFRI4l13vrGg7eLrS3iMIR+hiTAkO6h0wD2M5Qp2dxxTTnuJuR2asBLKaiMLYMTiXVOiAbmZf9+dxwzEJAAh1BOeAfYVMgF7QpN2MAMquQRhQWmb2dX8eNyXZtz8uNnBhAAAAAL4KmQCdQBpWYPUgzur5K42iylLS80FJ6iNnX5xjAAAA4Cu+gw4AQC6MKcFBvQMAzGLnMSVkVtCtxi7f5w3kZwDFoR+WHXUHAABgfaygAwCQC2NKcFDvAACz2HlMYQUdAGBpZVn9544BAABgRwToJcBEz1mc1J5OKotVUcfBV5YH8BX2N7QnAACwMm5xd5CkBsk8SRoAfMSYEhzUOwDALHYeU1hBN1kwV2cIzuFvrD4CAAAA/kOAbjKC5NAUKoFrKPfvpAbJIdPOAAAACA4CdMAEoRy4hoqlO6dbop2vGj4j2FkAAAA+YCxHUQjQQxQrgWVj1Xqzar5gvg1vjQ92FvyGfgwACAVOHsvhOwL0EGWFlUA7slK95Q5mrJQviUALZWO1fgwAABBoBOhBQgCD0srbZ6wczFg5bwAAAIBVEaAHCQEMSmvpzulBv7Djj88PdpkAAAAAqyBAB2wk2Bd2/PH5wS4TAAAAYBUE6AAAAAAAWAABOmATTr0V3KnlAgAAAEqLAB2wCbNvBbdKYBxqt7iXpd5z/sYqbQYAAAD/IECHB5P/4jmpjkItMLaKstR7zt/QZgAAAM5GgJ6HkwKw0grm5N8u9U6AVHJ2aVOnox0AAADsgwA9DwIw85QmMKDeg8dfARxtGngFtSXtAAAAYB8E6PAbAgN7oJ0KZsaFi0CvXtOWAAAA9kaADgAFMCPYJWC2Bm7zBwAAdkGADtMxGYaZ6E9Fs+NKf6BxoQQAANgFATpM56/JsNODCBTMKcGVlb/r75Q6BgAAsDsCdNgGQQQKYpcLN/Tf0rNL2wIAAJiFAN2CmJQCJWdW4MtxZz1c1AAAAKGGAN2CmJTag5MCOquUJXc+/JWnwvYbqOPOKnUNAAAA63EZhmEEOxO+On78uNxutzIyMhQdHR3s7FhaUoNkLgAAQBEYU4KDegcAmMXOYwor6CGG4NyZWJUFAAAA7I8APYAIouAvXHgBAAAA7I8APYAKC6II3IOHujdP3roMZt3Srv5BvQIAAPgX30EPEL77DQD2YIcxxYmodwCAWew8prCCHiAE5wBgHdwNAAAArIgAvYxCdXIXquUG7IjjtXBcNAUAAFZEgF5Gdp/clXXibvdyI3SFYrDK8QoAAGAvhQboU6dO1VVXXaUqVaooNjZWAwYM0Pbt273SGIahJ554QomJiapUqZI6d+6srVu3eqXJysrS2LFjVaNGDUVFRal///769ddfvdIcPXpUQ4cOldvtltvt1tChQ3Xs2DHzSol8mLgj1OTu86EYrAMAAMD6Cg3Q16xZo9GjRystLU3Lly/X2bNn1bNnT508edKTZtq0aZoxY4ZmzZqlDRs2KD4+Xj169FBmZqYnzbhx47Rw4ULNnz9f69at04kTJ9S3b1+dO3fOk2bIkCHavHmzli1bpmXLlmnz5s0aOnSon4qMUOOvYMzM/ZZmXwSXvuMClW/ogwAAAP5R4qe4Hzp0SLGxsVqzZo06duwowzCUmJiocePG6ZFHHpF0YbU8Li5Ozz33nO655x5lZGSoZs2aevfdd3XrrbdKkn777TfVrl1bS5YsUa9evfTjjz+qcePGSktLU5s2bSRJaWlpateunX766SdddtllxeatJE/p69bxaa1YO7FElQIACF12fvKrnVHvAACz2HlMKfF30DMyMiRJMTExkqRdu3YpPT1dPXv29KSJiIhQp06dtH79eknSxo0blZ2d7ZUmMTFRTZs29aRJTU2V2+32BOeS1LZtW7ndbk8aMxCcAwBycBcAAACwohIF6IZhaPz48brmmmvUtGlTSVJ6erokKS4uzittXFyc57309HSFh4erWrVqRaaJjY3N95mxsbGeNHllZWXp+PHjXi8AgP0EK1Dmaw7Bx1gOAEB+JQrQx4wZo++//17vvfdevvdcLpfX/w3DyLctr7xpCkpf1H6mTp3qeaCc2+1W7dq1S1IMlBArS/AVfciZGj41w/R9EiiHLsZyAAg8f4zlMFexAfrYsWP1ySefaNWqVapVq5Zne3x8vCTlW+U+ePCgZ1U9Pj5eZ86c0dGjR4tMc+DAgXyfe+jQoXyr8zkmTJigjIwMz2vfvn3FFQOlEIgJMwGcsxF0+c6Kx8jPfx0f7CzAQRjLASDwGMutr9AA3TAMjRkzRgsWLNDKlStVv359r/fr16+v+Ph4LV++3LPtzJkzWrNmjdq3by9Jat26tcLCwrzS7N+/X1u2bPGkadeunTIyMvT111970nz11VfKyMjwpMkrIiJC0dHRXi/YCwGcuawYzME3S3dOt0y7WiUfcBbGcgAA8is0QB89erTmzJmjefPmqUqVKkpPT1d6erpOnTol6cJt6ePGjdMzzzyjhQsXasuWLRo+fLgiIyM1ZMgQSZLb7dbIkSOVnJysFStWaNOmTbr99tvVrFkzde/eXZJ0+eWXq3fv3ho1apTS0tKUlpamUaNGqW/fviV6gnsg5UxS7TRZtVNeUXZlveDhpP7hpLLksMqFLKvkAwAAwOkK/Zm1wr7//eabb2r48OGSLqyyT548Wa+++qqOHj2qNm3a6KWXXvI8SE6STp8+rYceekjz5s3TqVOn1K1bN7388ste3zU7cuSI7r//fn3yySeSpP79+2vWrFmqWrVqiQph58foA3aQ1CCZIA0hgzElOKh3AIBZ7DymlPh30K3Mzg0AALAWxpTgoN4BAGax85hS4t9BtxMn3uoKwJlC5XwVKuUEAADwhSMDdLvcisuENTCoZ+fzdxv7c/92OV/5KlTKCQAA4AtHBuh2wYQ1MMyuZwJ+6/H3scSxCgAAgEAgQAdKyanBGhceAAAAgOAiQA8BBF4oCadeeEDp+HK+4FwDAADgmwrBzgD8j8DLP3IHI9QxnMKXvsxxAAAA4BtW0AEfLN05vdCghNVEAAAAAKVBgA6/cVqAmrc8xa0WspoIAAAAoDQI0OE3TgtQnVYeQHLehTQAAAA7C9kAnUkp4BuOIftLapBcogtPtDUAAEBguAzDMIKdCV8dP35cbrdbGRkZio6ODnZ2AAA2xpgSHNQ7AMAsdh5TQnYFvSRYNQICh+MNBaFfAACAUEKAXoTibv1k4mgttIe98R1/ZzD7OKRfAACAUEKA7gN/TBwJMssuFCby9A9YXSgchwAAAP5SIdgZgDc7TW6v7f+8wo+dUfivR2yVbzujngEAZsoZy1esnRjsrAAARIBeZiV9+rGTffnJQ37/DOq5YNQLAMAMgRjLAQAlxy3uZURwFBjUc8F4PgIAAADgPAToIYbAzTr82RYE8HAy+i8AAHAqAvQQE+wV6aQGySWeXDt9Eh7Mtgh2PwB8Qf8FAABORYBuYVYMUH3N09Kd00s8uWYSDgAAACCUhFSAbsWAtygFBajBLkMoB83BrnsAAAAAzhZSAboTgkurlSGUglar1T0AAAAAZwmpAN3pghEsE7QCKA1/nKdC6UIhAABwNgJ0B3FasGy3Sbfd8hsqaJfCOeWintPOfQAAIHS5DMMwgp0JX2VkZKhq1arat2+foqOjg50dAEFyY/O/6KPvnwl2NoIilMtutuPHj6t27do6duyY3G53sLMTMhjLAQBmsfNYXiHYGTBDZmamJKl27dpBzgmAYHO7Xwp2FoImlMvuD5mZmbYb1O3s8OHDkhjLAQDmseNY7ogV9PPnz2v79u1q3Lixba+851zlsWv+JcpgFZTBGiiDNZSlDIZhKDMzU4mJiSpXjm+CBcqxY8dUrVo17d2713aTqRyhesxYDWWwBspgDaFaBjuP5Y5YQS9XrpwuuugiSVJ0dLRtO59k//xLlMEqKIM1UAZrKG0Z7Bog2lnOBMrtdodcf7MiymANlMEaKIM1hMpYbq/LCQAAAAAAOBQBOgAAAAAAFuCYAD0iIkKTJk1SREREsLNSJnbPv0QZrIIyWANlsAYnlCFUOKGtKIM1UAZroAzWQBnsxxEPiQMAAAAAwO4cs4IOAAAAAICdEaADAAAAAGABBOgAAAAAAFgAAToAAAAAABbgiAD95ZdfVv369VWxYkW1bt1aX375ZbCzJEmaOnWqrrrqKlWpUkWxsbEaMGCAtm/f7pVm+PDhcrlcXq+2bdt6pcnKytLYsWNVo0YNRUVFqX///vr1118DUoYnnngiX/7i4+M97xuGoSeeeEKJiYmqVKmSOnfurK1bt1om/5JUr169fGVwuVwaPXq0JGu2wdq1a9WvXz8lJibK5XJp0aJFXu+bVe9Hjx7V0KFD5Xa75Xa7NXToUB07dszvZcjOztYjjzyiZs2aKSoqSomJibrjjjv022+/ee2jc+fO+dpm0KBBliiDZF7fCWYZCjo2XC6Xnn/+eU+aYLZDSc6jdjgeUDzGcv9hLA9OGRjLL2As938ZGMv9X4ZAsn2A/v7772vcuHGaOHGiNm3apGuvvVZJSUnau3dvsLOmNWvWaPTo0UpLS9Py5ct19uxZ9ezZUydPnvRK17t3b+3fv9/zWrJkidf748aN08KFCzV//nytW7dOJ06cUN++fXXu3LmAlKNJkyZe+fvhhx88702bNk0zZszQrFmztGHDBsXHx6tHjx7KzMy0TP43bNjglf/ly5dLkm6++WZPGqu1wcmTJ9WiRQvNmjWrwPfNqvchQ4Zo8+bNWrZsmZYtW6bNmzdr6NChfi/DH3/8oW+//VaPPfaYvv32Wy1YsEA///yz+vfvny/tqFGjvNrm1Vdf9Xo/WGXIYUbfCWYZcud9//79euONN+RyuXTjjTd6pQtWO5TkPGqH4wFFYyz3P8ZyxnKzy8BYbo12kBjLHTeWGzZ39dVXG/fee6/XtkaNGhmPPvpokHJUuIMHDxqSjDVr1ni2DRs2zLj++usL/Ztjx44ZYWFhxvz58z3b/vvf/xrlypUzli1b5s/sGoZhGJMmTTJatGhR4Hvnz5834uPjjWeffdaz7fTp04bb7Tb+8Y9/GIYR/PwX5IEHHjAuvvhi4/z584ZhWL8NJBkLFy70/N+set+2bZshyUhLS/OkSU1NNSQZP/30k1/LUJCvv/7akGTs2bPHs61Tp07GAw88UOjfBLsMZvSdYJchr+uvv97o2rWr1zYrtUPe86gdjwfkx1juX4zlwS8DY/kDhf5NsMvAWH4BY7l12HoF/cyZM9q4caN69uzptb1nz55av359kHJVuIyMDElSTEyM1/bVq1crNjZWDRs21KhRo3Tw4EHPexs3blR2drZXGRMTE9W0adOAlXHHjh1KTExU/fr1NWjQIO3cuVOStGvXLqWnp3vlLSIiQp06dfLkzQr5z+3MmTOaM2eO7rzzTrlcLs92q7dBbmbVe2pqqtxut9q0aeNJ07ZtW7nd7qCUKyMjQy6XS1WrVvXaPnfuXNWoUUNNmjTRgw8+6HUl1Qpl8LXvWKEMOQ4cOKDFixdr5MiR+d6zSjvkPY869XgIJYzljOWlxVhu3XMXY3nw24Gx3Brt4IsKwc6AL37//XedO3dOcXFxXtvj4uKUnp4epFwVzDAMjR8/Xtdcc42aNm3q2Z6UlKSbb75ZdevW1a5du/TYY4+pa9eu2rhxoyIiIpSenq7w8HBVq1bNa3+BKmObNm30zjvvqGHDhjpw4ICeeuoptW/fXlu3bvV8fkH1v2fPHkkKev7zWrRokY4dO6bhw4d7tlm9DfIyq97T09MVGxubb/+xsbEBL9fp06f16KOPasiQIYqOjvZsv+2221S/fn3Fx8dry5YtmjBhgr777jvPrY3BLoMZfSfYZcjt7bffVpUqVXTDDTd4bbdKOxR0HnXi8RBqGMsZy0uLsdya5y7Gcmu0A2O5NdrBF7YO0HPkvnoqXWj4vNuCbcyYMfr++++1bt06r+233nqr599NmzbVlVdeqbp162rx4sX5DqzcAlXGpKQkz7+bNWumdu3a6eKLL9bbb7/teYBGWeo/WG00e/ZsJSUlKTEx0bPN6m1QGDPqvaD0gS5Xdna2Bg0apPPnz+vll1/2em/UqFGefzdt2lSXXnqprrzySn377bdq1aqVpOCWway+Y4V2kKQ33nhDt912mypWrOi13SrtUNh5tKDPt+vxEMoYy/2HsTz4bVAYp5y7GMut0Q4SY7lV2sEXtr7FvUaNGipfvny+KyIHDx7MdwUmmMaOHatPPvlEq1atUq1atYpMm5CQoLp162rHjh2SpPj4eJ05c0ZHjx71ShesMkZFRalZs2basWOH5wmwRdW/lfK/Z88epaSk6K677ioyndXbwKx6j4+P14EDB/Lt/9ChQwErV3Z2tm655Rbt2rVLy5cv97riXpBWrVopLCzMq22CXYbcytJ3rFKGL7/8Utu3by/2+JCC0w6FnUeddDyEKsZyxvLSYCy33rmLsdw6ZWAst0Y7+MrWAXp4eLhat27tuTUjx/Lly9W+ffsg5ep/DMPQmDFjtGDBAq1cuVL169cv9m8OHz6sffv2KSEhQZLUunVrhYWFeZVx//792rJlS1DKmJWVpR9//FEJCQme22Ry5+3MmTNas2aNJ29Wyv+bb76p2NhY9enTp8h0Vm8Ds+q9Xbt2ysjI0Ndff+1J89VXXykjIyMg5coZ0Hfs2KGUlBRVr1692L/ZunWrsrOzPW0T7DLkVZa+Y5UyzJ49W61bt1aLFi2KTRvIdijuPOqU4yGUMZYzlpcGY7m1zl2M5dZohxyM5dZoB5/58wl0gTB//nwjLCzMmD17trFt2zZj3LhxRlRUlLF79+5gZ83405/+ZLjdbmP16tXG/v37Pa8//vjDMAzDyMzMNJKTk43169cbu3btMlatWmW0a9fOuOiii4zjx4979nPvvfcatWrVMlJSUoxvv/3W6Nq1q9GiRQvj7Nmzfi9DcnKysXr1amPnzp1GWlqa0bdvX6NKlSqe+n322WcNt9ttLFiwwPjhhx+MwYMHGwkJCZbJf45z584ZderUMR555BGv7VZtg8zMTGPTpk3Gpk2bDEnGjBkzjE2bNnmeimpWvffu3dto3ry5kZqaaqSmphrNmjUz+vbt6/cyZGdnG/379zdq1aplbN682ev4yMrKMgzDMH755Rdj8uTJxoYNG4xdu3YZixcvNho1amS0bNnSEmUws+8Eqww5MjIyjMjISOOVV17J9/fBbofizqOGYY/jAUVjLPcvxvLglIGxPPhjSHFlYCxnLLci2wfohmEYL730klG3bl0jPDzcaNWqlddPnwSTpAJfb775pmEYhvHHH38YPXv2NGrWrGmEhYUZderUMYYNG2bs3bvXaz+nTp0yxowZY8TExBiVKlUy+vbtmy+Nv9x6661GQkKCERYWZiQmJho33HCDsXXrVs/758+fNyZNmmTEx8cbERERRseOHY0ffvjBMvnP8fnnnxuSjO3bt3ttt2obrFq1qsC+M2zYMMMwzKv3w4cPG7fddptRpUoVo0qVKsZtt91mHD161O9l2LVrV6HHx6pVqwzDMIy9e/caHTt2NGJiYozw8HDj4osvNu6//37j8OHDliiDmX0nWGXI8eqrrxqVKlUyjh07lu/vg90OxZ1HDcMexwOKx1juP4zlFzCWm1sGxnJrtEMOxnL/liGQXIZhGKVZcQcAAAAAAOaz9XfQAQAAAABwCgJ0AAAAAAAsgAAdAAAAAAALIEAHAAAAAMACCNABAAAAALAAAnQAAAAAACzg/wEdsw/2dlpkuQAAAABJRU5ErkJggg==' width=1000.0/>\n",
       "            </div>\n",
       "        "
      ],
      "text/plain": [
       "Canvas(toolbar=Toolbar(toolitems=[('Home', 'Reset original view', 'home', 'home'), ('Back', 'Back to previous …"
      ]
     },
     "metadata": {},
     "output_type": "display_data"
    }
   ],
   "source": [
    "ui = segmenter_gui.SegmenterGui(ds, **options )"
   ]
  },
  {
   "cell_type": "code",
   "execution_count": 12,
   "id": "70aa24d9-2df8-4a04-8cb7-0ea394217abc",
   "metadata": {
    "execution": {
     "iopub.execute_input": "2025-02-24T08:22:15.378350Z",
     "iopub.status.busy": "2025-02-24T08:22:15.378053Z",
     "iopub.status.idle": "2025-02-24T08:22:15.384059Z",
     "shell.execute_reply": "2025-02-24T08:22:15.383043Z"
    },
    "papermill": {
     "duration": 0.013086,
     "end_time": "2025-02-24T08:22:15.385498",
     "exception": false,
     "start_time": "2025-02-24T08:22:15.372412",
     "status": "completed"
    },
    "tags": []
   },
   "outputs": [
    {
     "name": "stdout",
     "output_type": "stream",
     "text": [
      "options =  {'cut': 1, 'pixels_in_spot': 3, 'howmany': 100000}\n"
     ]
    }
   ],
   "source": [
    "options = ui.getopts()"
   ]
  },
  {
   "cell_type": "code",
   "execution_count": 13,
   "id": "81929009-7445-434a-b19e-57bcd9e3e6a4",
   "metadata": {
    "execution": {
     "iopub.execute_input": "2025-02-24T08:22:15.397133Z",
     "iopub.status.busy": "2025-02-24T08:22:15.396297Z",
     "iopub.status.idle": "2025-02-24T08:22:15.519294Z",
     "shell.execute_reply": "2025-02-24T08:22:15.518502Z"
    },
    "papermill": {
     "duration": 0.131641,
     "end_time": "2025-02-24T08:22:15.521304",
     "exception": false,
     "start_time": "2025-02-24T08:22:15.389663",
     "status": "completed"
    },
    "tags": []
   },
   "outputs": [
    {
     "name": "stdout",
     "output_type": "stream",
     "text": [
      "options =  {'cut': 1, 'pixels_in_spot': 3, 'howmany': 100000}\n",
      "cut 1\n",
      "howmany 100000\n",
      "pixels_in_spot 3\n",
      "maskfile /data/id11/inhouse2/test_data_3DXRD/S3DXRD/FeAu/pars/mask_with_gaps_E-08-0173.edf\n",
      "bgfile \n",
      "cores_per_job 8\n",
      "files_per_core 8\n",
      "total files to process 275 done 0\n",
      "# Opened mask /data/id11/inhouse2/test_data_3DXRD/S3DXRD/FeAu/pars/mask_with_gaps_E-08-0173.edf  93.93 % pixels are active\n",
      "/data/id11/inhouse2/test_data_3DXRD/S3DXRD/FeAu/PROCESSED_DATA/20250221_JADB/pbp_route/FeAu_0p5_tR_nscope/FeAu_0p5_tR_nscope_top_200um/slurm/lima_segmenter_slurm.sh\n"
     ]
    }
   ],
   "source": [
    "# create batch file to send to SLURM cluster\n",
    "sbat = ImageD11.sinograms.lima_segmenter.setup(ds.dsfile, **ui.getopts(), pythonpath=PYTHONPATH)\n",
    "if sbat is None:\n",
    "    raise ValueError(\"This scan has already been segmented!\")\n",
    "print(sbat)"
   ]
  },
  {
   "cell_type": "code",
   "execution_count": 14,
   "id": "3827f616-bfae-45c1-969c-24da93886a4e",
   "metadata": {
    "execution": {
     "iopub.execute_input": "2025-02-24T08:22:15.536842Z",
     "iopub.status.busy": "2025-02-24T08:22:15.536613Z",
     "iopub.status.idle": "2025-02-24T08:24:16.350762Z",
     "shell.execute_reply": "2025-02-24T08:24:16.349626Z"
    },
    "papermill": {
     "duration": 120.836524,
     "end_time": "2025-02-24T08:24:16.367701",
     "exception": false,
     "start_time": "2025-02-24T08:22:15.531177",
     "status": "completed"
    },
    "tags": []
   },
   "outputs": [
    {
     "name": "stdout",
     "output_type": "stream",
     "text": [
      "Submitted batch job 21521104\n",
      "21521104\n",
      "Slurm job not finished! Waiting 60 seconds...\n"
     ]
    },
    {
     "name": "stdout",
     "output_type": "stream",
     "text": [
      "Slurm job not finished! Waiting 60 seconds...\n"
     ]
    },
    {
     "name": "stdout",
     "output_type": "stream",
     "text": [
      "Slurm job finished!\n"
     ]
    }
   ],
   "source": [
    "utils.slurm_submit_and_wait(sbat, 60)"
   ]
  },
  {
   "cell_type": "code",
   "execution_count": 15,
   "id": "5de23264-4c22-43fe-8be6-8cc54039ea2d",
   "metadata": {
    "execution": {
     "iopub.execute_input": "2025-02-24T08:24:16.378950Z",
     "iopub.status.busy": "2025-02-24T08:24:16.378354Z",
     "iopub.status.idle": "2025-02-24T08:24:40.370602Z",
     "shell.execute_reply": "2025-02-24T08:24:40.369532Z"
    },
    "papermill": {
     "duration": 24.001052,
     "end_time": "2025-02-24T08:24:40.373364",
     "exception": false,
     "start_time": "2025-02-24T08:24:16.372312",
     "status": "completed"
    },
    "tags": []
   },
   "outputs": [
    {
     "name": "stdout",
     "output_type": "stream",
     "text": [
      "Harvesting /data/id11/inhouse2/test_data_3DXRD/S3DXRD/FeAu/RAW_DATA/FeAu_0p5_tR_nscope/FeAu_0p5_tR_nscope_top_200um/FeAu_0p5_tR_nscope_top_200um.h5: 1.1, 2.1, 3.1, 4.1, 5.1, 6.1, 7.1, 8.1, 9.1, 10.1, 11.1, 12.1, 13.1, 14.1, 15.1, 16.1, "
     ]
    },
    {
     "name": "stdout",
     "output_type": "stream",
     "text": [
      "17.1, 18.1, 19.1, 20.1, 21.1, 22.1, 23.1, 24.1, 25.1, 26.1, 27.1, 28.1, 29.1, 30.1, "
     ]
    },
    {
     "name": "stdout",
     "output_type": "stream",
     "text": [
      "31.1, 32.1, 33.1, 34.1, 35.1, 36.1, 37.1, 38.1, 39.1, 40.1, 41.1, 42.1, 43.1, 44.1, 45.1, 46.1, 47.1, "
     ]
    },
    {
     "name": "stdout",
     "output_type": "stream",
     "text": [
      "48.1, 49.1, 50.1, 51.1, 52.1, 53.1, 54.1, 55.1, 56.1, 57.1, 58.1, 59.1, 60.1, "
     ]
    },
    {
     "name": "stdout",
     "output_type": "stream",
     "text": [
      "61.1, 62.1, 63.1, 64.1, 65.1, 66.1, 67.1, 68.1, 69.1, 70.1, 71.1, "
     ]
    },
    {
     "name": "stdout",
     "output_type": "stream",
     "text": [
      "72.1, 73.1, 74.1, 75.1, 76.1, 77.1, 78.1, 79.1, 80.1, 81.1, 82.1, 83.1, 84.1, "
     ]
    },
    {
     "name": "stdout",
     "output_type": "stream",
     "text": [
      "85.1, 86.1, 87.1, 88.1, 89.1, 90.1, 91.1, 92.1, 93.1, 94.1, 95.1, 96.1, 97.1, 98.1, 99.1, 100.1, 101.1, 102.1, 103.1, "
     ]
    },
    {
     "name": "stdout",
     "output_type": "stream",
     "text": [
      "104.1, 105.1, 106.1, 107.1, 108.1, 109.1, 110.1, 111.1, 112.1, 113.1, 114.1, 115.1, 116.1, "
     ]
    },
    {
     "name": "stdout",
     "output_type": "stream",
     "text": [
      "117.1, 118.1, 119.1, 120.1, 121.1, 122.1, 123.1, 124.1, 125.1, 126.1, 127.1, 128.1, 129.1, 130.1, 131.1, 132.1, 133.1, 134.1, 135.1, "
     ]
    },
    {
     "name": "stdout",
     "output_type": "stream",
     "text": [
      "136.1, 137.1, 138.1, 139.1, 140.1, 141.1, 142.1, 143.1, 144.1, 145.1, 146.1, 147.1, 148.1, "
     ]
    },
    {
     "name": "stdout",
     "output_type": "stream",
     "text": [
      "149.1, 150.1, 151.1, 152.1, 153.1, 154.1, 155.1, 156.1, 157.1, 158.1, 159.1, 160.1, 161.1, 162.1, 163.1, 164.1, 165.1, 166.1, 167.1, "
     ]
    },
    {
     "name": "stdout",
     "output_type": "stream",
     "text": [
      "168.1, 169.1, 170.1, 171.1, 172.1, 173.1, 174.1, 175.1, 176.1, 177.1, 178.1, 179.1, 180.1, "
     ]
    },
    {
     "name": "stdout",
     "output_type": "stream",
     "text": [
      "181.1, 182.1, 183.1, 184.1, 185.1, 186.1, 187.1, 188.1, 189.1, 190.1, 191.1, 192.1, 193.1, 194.1, 195.1, 196.1, 197.1, 198.1, 199.1, "
     ]
    },
    {
     "name": "stdout",
     "output_type": "stream",
     "text": [
      "200.1, 201.1, 202.1, 203.1, 204.1, 205.1, 206.1, 207.1, 208.1, 209.1, 210.1, 211.1, "
     ]
    },
    {
     "name": "stdout",
     "output_type": "stream",
     "text": [
      "212.1, 213.1, 214.1, 215.1, 216.1, 217.1, 218.1, 219.1, 220.1, 221.1, 222.1, 223.1, 224.1, 225.1, 226.1, 227.1, 228.1, 229.1, 230.1, 231.1, "
     ]
    },
    {
     "name": "stdout",
     "output_type": "stream",
     "text": [
      "232.1, 233.1, 234.1, 235.1, 236.1, 237.1, 238.1, 239.1, 240.1, 241.1, 242.1, 243.1, "
     ]
    },
    {
     "name": "stdout",
     "output_type": "stream",
     "text": [
      "244.1, 245.1, 246.1, 247.1, 248.1, 249.1, 250.1, 251.1, 252.1, 253.1, 254.1, 255.1, 256.1, 257.1, 258.1, 259.1, 260.1, 261.1, 262.1, 263.1, "
     ]
    },
    {
     "name": "stdout",
     "output_type": "stream",
     "text": [
      "264.1, 265.1, 266.1, 267.1, 268.1, 269.1, 270.1, 271.1, 272.1, 273.1, 274.1, 275.1, \n"
     ]
    },
    {
     "name": "stdout",
     "output_type": "stream",
     "text": [
      "Loading pixels: 1.1, 2.1, "
     ]
    },
    {
     "name": "stdout",
     "output_type": "stream",
     "text": [
      "3.1, 4.1, "
     ]
    },
    {
     "name": "stdout",
     "output_type": "stream",
     "text": [
      "5.1, 6.1, "
     ]
    },
    {
     "name": "stdout",
     "output_type": "stream",
     "text": [
      "7.1, 8.1, "
     ]
    },
    {
     "name": "stdout",
     "output_type": "stream",
     "text": [
      "9.1, 10.1, "
     ]
    },
    {
     "name": "stdout",
     "output_type": "stream",
     "text": [
      "11.1, 12.1, "
     ]
    },
    {
     "name": "stdout",
     "output_type": "stream",
     "text": [
      "13.1, 14.1, "
     ]
    },
    {
     "name": "stdout",
     "output_type": "stream",
     "text": [
      "15.1, 16.1, "
     ]
    },
    {
     "name": "stdout",
     "output_type": "stream",
     "text": [
      "17.1, 18.1, "
     ]
    },
    {
     "name": "stdout",
     "output_type": "stream",
     "text": [
      "19.1, 20.1, "
     ]
    },
    {
     "name": "stdout",
     "output_type": "stream",
     "text": [
      "21.1, 22.1, "
     ]
    },
    {
     "name": "stdout",
     "output_type": "stream",
     "text": [
      "23.1, 24.1, "
     ]
    },
    {
     "name": "stdout",
     "output_type": "stream",
     "text": [
      "25.1, 26.1, "
     ]
    },
    {
     "name": "stdout",
     "output_type": "stream",
     "text": [
      "27.1, 28.1, "
     ]
    },
    {
     "name": "stdout",
     "output_type": "stream",
     "text": [
      "29.1, 30.1, "
     ]
    },
    {
     "name": "stdout",
     "output_type": "stream",
     "text": [
      "31.1, 32.1, "
     ]
    },
    {
     "name": "stdout",
     "output_type": "stream",
     "text": [
      "33.1, 34.1, "
     ]
    },
    {
     "name": "stdout",
     "output_type": "stream",
     "text": [
      "35.1, 36.1, "
     ]
    },
    {
     "name": "stdout",
     "output_type": "stream",
     "text": [
      "37.1, "
     ]
    },
    {
     "name": "stdout",
     "output_type": "stream",
     "text": [
      "38.1, 39.1, "
     ]
    },
    {
     "name": "stdout",
     "output_type": "stream",
     "text": [
      "40.1, "
     ]
    },
    {
     "name": "stdout",
     "output_type": "stream",
     "text": [
      "41.1, 42.1, "
     ]
    },
    {
     "name": "stdout",
     "output_type": "stream",
     "text": [
      "43.1, "
     ]
    },
    {
     "name": "stdout",
     "output_type": "stream",
     "text": [
      "44.1, 45.1, "
     ]
    },
    {
     "name": "stdout",
     "output_type": "stream",
     "text": [
      "46.1, "
     ]
    },
    {
     "name": "stdout",
     "output_type": "stream",
     "text": [
      "47.1, 48.1, "
     ]
    },
    {
     "name": "stdout",
     "output_type": "stream",
     "text": [
      "49.1, "
     ]
    },
    {
     "name": "stdout",
     "output_type": "stream",
     "text": [
      "50.1, 51.1, "
     ]
    },
    {
     "name": "stdout",
     "output_type": "stream",
     "text": [
      "52.1, "
     ]
    },
    {
     "name": "stdout",
     "output_type": "stream",
     "text": [
      "53.1, 54.1, "
     ]
    },
    {
     "name": "stdout",
     "output_type": "stream",
     "text": [
      "55.1, "
     ]
    },
    {
     "name": "stdout",
     "output_type": "stream",
     "text": [
      "56.1, "
     ]
    },
    {
     "name": "stdout",
     "output_type": "stream",
     "text": [
      "57.1, 58.1, "
     ]
    },
    {
     "name": "stdout",
     "output_type": "stream",
     "text": [
      "59.1, "
     ]
    },
    {
     "name": "stdout",
     "output_type": "stream",
     "text": [
      "60.1, 61.1, "
     ]
    },
    {
     "name": "stdout",
     "output_type": "stream",
     "text": [
      "62.1, "
     ]
    },
    {
     "name": "stdout",
     "output_type": "stream",
     "text": [
      "63.1, "
     ]
    },
    {
     "name": "stdout",
     "output_type": "stream",
     "text": [
      "64.1, 65.1, "
     ]
    },
    {
     "name": "stdout",
     "output_type": "stream",
     "text": [
      "66.1, "
     ]
    },
    {
     "name": "stdout",
     "output_type": "stream",
     "text": [
      "67.1, 68.1, "
     ]
    },
    {
     "name": "stdout",
     "output_type": "stream",
     "text": [
      "69.1, 70.1, 71.1, "
     ]
    },
    {
     "name": "stdout",
     "output_type": "stream",
     "text": [
      "72.1, 73.1, 74.1, "
     ]
    },
    {
     "name": "stdout",
     "output_type": "stream",
     "text": [
      "75.1, 76.1, 77.1, "
     ]
    },
    {
     "name": "stdout",
     "output_type": "stream",
     "text": [
      "78.1, 79.1, 80.1, "
     ]
    },
    {
     "name": "stdout",
     "output_type": "stream",
     "text": [
      "81.1, 82.1, 83.1, "
     ]
    },
    {
     "name": "stdout",
     "output_type": "stream",
     "text": [
      "84.1, 85.1, 86.1, "
     ]
    },
    {
     "name": "stdout",
     "output_type": "stream",
     "text": [
      "87.1, 88.1, 89.1, "
     ]
    },
    {
     "name": "stdout",
     "output_type": "stream",
     "text": [
      "90.1, 91.1, 92.1, "
     ]
    },
    {
     "name": "stdout",
     "output_type": "stream",
     "text": [
      "93.1, 94.1, 95.1, "
     ]
    },
    {
     "name": "stdout",
     "output_type": "stream",
     "text": [
      "96.1, 97.1, 98.1, "
     ]
    },
    {
     "name": "stdout",
     "output_type": "stream",
     "text": [
      "99.1, 100.1, "
     ]
    },
    {
     "name": "stdout",
     "output_type": "stream",
     "text": [
      "101.1, 102.1, 103.1, "
     ]
    },
    {
     "name": "stdout",
     "output_type": "stream",
     "text": [
      "104.1, 105.1, 106.1, "
     ]
    },
    {
     "name": "stdout",
     "output_type": "stream",
     "text": [
      "107.1, 108.1, 109.1, "
     ]
    },
    {
     "name": "stdout",
     "output_type": "stream",
     "text": [
      "110.1, 111.1, 112.1, "
     ]
    },
    {
     "name": "stdout",
     "output_type": "stream",
     "text": [
      "113.1, "
     ]
    },
    {
     "name": "stdout",
     "output_type": "stream",
     "text": [
      "114.1, 115.1, 116.1, "
     ]
    },
    {
     "name": "stdout",
     "output_type": "stream",
     "text": [
      "117.1, 118.1, "
     ]
    },
    {
     "name": "stdout",
     "output_type": "stream",
     "text": [
      "119.1, 120.1, 121.1, "
     ]
    },
    {
     "name": "stdout",
     "output_type": "stream",
     "text": [
      "122.1, 123.1, 124.1, "
     ]
    },
    {
     "name": "stdout",
     "output_type": "stream",
     "text": [
      "125.1, 126.1, 127.1, "
     ]
    },
    {
     "name": "stdout",
     "output_type": "stream",
     "text": [
      "128.1, 129.1, 130.1, "
     ]
    },
    {
     "name": "stdout",
     "output_type": "stream",
     "text": [
      "131.1, 132.1, 133.1, "
     ]
    },
    {
     "name": "stdout",
     "output_type": "stream",
     "text": [
      "134.1, 135.1, 136.1, "
     ]
    },
    {
     "name": "stdout",
     "output_type": "stream",
     "text": [
      "137.1, 138.1, 139.1, "
     ]
    },
    {
     "name": "stdout",
     "output_type": "stream",
     "text": [
      "140.1, 141.1, 142.1, "
     ]
    },
    {
     "name": "stdout",
     "output_type": "stream",
     "text": [
      "143.1, 144.1, 145.1, "
     ]
    },
    {
     "name": "stdout",
     "output_type": "stream",
     "text": [
      "146.1, 147.1, 148.1, "
     ]
    },
    {
     "name": "stdout",
     "output_type": "stream",
     "text": [
      "149.1, 150.1, 151.1, "
     ]
    },
    {
     "name": "stdout",
     "output_type": "stream",
     "text": [
      "152.1, 153.1, 154.1, "
     ]
    },
    {
     "name": "stdout",
     "output_type": "stream",
     "text": [
      "155.1, 156.1, 157.1, "
     ]
    },
    {
     "name": "stdout",
     "output_type": "stream",
     "text": [
      "158.1, 159.1, 160.1, "
     ]
    },
    {
     "name": "stdout",
     "output_type": "stream",
     "text": [
      "161.1, 162.1, 163.1, "
     ]
    },
    {
     "name": "stdout",
     "output_type": "stream",
     "text": [
      "164.1, 165.1, 166.1, "
     ]
    },
    {
     "name": "stdout",
     "output_type": "stream",
     "text": [
      "167.1, 168.1, 169.1, "
     ]
    },
    {
     "name": "stdout",
     "output_type": "stream",
     "text": [
      "170.1, 171.1, 172.1, "
     ]
    },
    {
     "name": "stdout",
     "output_type": "stream",
     "text": [
      "173.1, 174.1, 175.1, "
     ]
    },
    {
     "name": "stdout",
     "output_type": "stream",
     "text": [
      "176.1, 177.1, 178.1, "
     ]
    },
    {
     "name": "stdout",
     "output_type": "stream",
     "text": [
      "179.1, 180.1, 181.1, "
     ]
    },
    {
     "name": "stdout",
     "output_type": "stream",
     "text": [
      "182.1, 183.1, 184.1, "
     ]
    },
    {
     "name": "stdout",
     "output_type": "stream",
     "text": [
      "185.1, 186.1, 187.1, "
     ]
    },
    {
     "name": "stdout",
     "output_type": "stream",
     "text": [
      "188.1, 189.1, 190.1, "
     ]
    },
    {
     "name": "stdout",
     "output_type": "stream",
     "text": [
      "191.1, 192.1, 193.1, "
     ]
    },
    {
     "name": "stdout",
     "output_type": "stream",
     "text": [
      "194.1, 195.1, 196.1, "
     ]
    },
    {
     "name": "stdout",
     "output_type": "stream",
     "text": [
      "197.1, 198.1, 199.1, "
     ]
    },
    {
     "name": "stdout",
     "output_type": "stream",
     "text": [
      "200.1, 201.1, 202.1, "
     ]
    },
    {
     "name": "stdout",
     "output_type": "stream",
     "text": [
      "203.1, 204.1, 205.1, "
     ]
    },
    {
     "name": "stdout",
     "output_type": "stream",
     "text": [
      "206.1, 207.1, 208.1, "
     ]
    },
    {
     "name": "stdout",
     "output_type": "stream",
     "text": [
      "209.1, 210.1, 211.1, "
     ]
    },
    {
     "name": "stdout",
     "output_type": "stream",
     "text": [
      "212.1, 213.1, 214.1, "
     ]
    },
    {
     "name": "stdout",
     "output_type": "stream",
     "text": [
      "215.1, 216.1, 217.1, "
     ]
    },
    {
     "name": "stdout",
     "output_type": "stream",
     "text": [
      "218.1, 219.1, 220.1, "
     ]
    },
    {
     "name": "stdout",
     "output_type": "stream",
     "text": [
      "221.1, 222.1, 223.1, "
     ]
    },
    {
     "name": "stdout",
     "output_type": "stream",
     "text": [
      "224.1, 225.1, 226.1, "
     ]
    },
    {
     "name": "stdout",
     "output_type": "stream",
     "text": [
      "227.1, 228.1, 229.1, "
     ]
    },
    {
     "name": "stdout",
     "output_type": "stream",
     "text": [
      "230.1, 231.1, "
     ]
    },
    {
     "name": "stdout",
     "output_type": "stream",
     "text": [
      "232.1, 233.1, 234.1, "
     ]
    },
    {
     "name": "stdout",
     "output_type": "stream",
     "text": [
      "235.1, 236.1, 237.1, "
     ]
    },
    {
     "name": "stdout",
     "output_type": "stream",
     "text": [
      "238.1, 239.1, 240.1, "
     ]
    },
    {
     "name": "stdout",
     "output_type": "stream",
     "text": [
      "241.1, 242.1, 243.1, 244.1, "
     ]
    },
    {
     "name": "stdout",
     "output_type": "stream",
     "text": [
      "245.1, 246.1, 247.1, 248.1, "
     ]
    },
    {
     "name": "stdout",
     "output_type": "stream",
     "text": [
      "249.1, 250.1, 251.1, 252.1, "
     ]
    },
    {
     "name": "stdout",
     "output_type": "stream",
     "text": [
      "253.1, 254.1, 255.1, 256.1, 257.1, "
     ]
    },
    {
     "name": "stdout",
     "output_type": "stream",
     "text": [
      "258.1, 259.1, 260.1, 261.1, 262.1, 263.1, "
     ]
    },
    {
     "name": "stdout",
     "output_type": "stream",
     "text": [
      "264.1, 265.1, 266.1, 267.1, 268.1, 269.1, 270.1, 271.1, 272.1, "
     ]
    },
    {
     "name": "stdout",
     "output_type": "stream",
     "text": [
      "273.1, 274.1, 275.1, \n"
     ]
    }
   ],
   "source": [
    "# label sparse peaks\n",
    "\n",
    "ImageD11.sinograms.assemble_label.main(ds.dsfile)"
   ]
  },
  {
   "cell_type": "code",
   "execution_count": 16,
   "id": "ddb029cd-7f66-4c91-abee-5f1723303360",
   "metadata": {
    "execution": {
     "iopub.execute_input": "2025-02-24T08:24:40.402401Z",
     "iopub.status.busy": "2025-02-24T08:24:40.401888Z",
     "iopub.status.idle": "2025-02-24T08:24:51.732416Z",
     "shell.execute_reply": "2025-02-24T08:24:51.731363Z"
    },
    "papermill": {
     "duration": 11.344007,
     "end_time": "2025-02-24T08:24:51.735197",
     "exception": false,
     "start_time": "2025-02-24T08:24:40.391190",
     "status": "completed"
    },
    "tags": []
   },
   "outputs": [
    {
     "name": "stdout",
     "output_type": "stream",
     "text": [
      "read ds /data/id11/inhouse2/test_data_3DXRD/S3DXRD/FeAu/PROCESSED_DATA/20250221_JADB/pbp_route/FeAu_0p5_tR_nscope/FeAu_0p5_tR_nscope_top_200um/FeAu_0p5_tR_nscope_top_200um_dataset.h5 : 0.041023 /s\n",
      "Nscans 275\n",
      "Options {'algorithm': 'lmlabel', 'wtmax': 70000, 'save_overlaps': False, 'nproc': 39}\n"
     ]
    },
    {
     "name": "stderr",
     "output_type": "stream",
     "text": [
      "\r",
      "  0%|                                                                                                                                                                                                                                                   | 0/313 [00:00<?, ?it/s]"
     ]
    },
    {
     "name": "stderr",
     "output_type": "stream",
     "text": [
      "\r",
      "  0%|▊                                                                                                                                                                                                                                          | 1/313 [00:01<08:44,  1.68s/it]"
     ]
    },
    {
     "name": "stderr",
     "output_type": "stream",
     "text": [
      "\r",
      "  1%|█▌                                                                                                                                                                                                                                         | 2/313 [00:01<03:56,  1.31it/s]"
     ]
    },
    {
     "name": "stderr",
     "output_type": "stream",
     "text": [
      "\r",
      "  2%|████▌                                                                                                                                                                                                                                      | 6/313 [00:01<01:00,  5.11it/s]"
     ]
    },
    {
     "name": "stderr",
     "output_type": "stream",
     "text": [
      "\r",
      "  3%|██████▊                                                                                                                                                                                                                                    | 9/313 [00:02<00:37,  8.11it/s]"
     ]
    },
    {
     "name": "stderr",
     "output_type": "stream",
     "text": [
      "\r",
      "  4%|█████████▋                                                                                                                                                                                                                                | 13/313 [00:02<00:24, 12.20it/s]"
     ]
    },
    {
     "name": "stderr",
     "output_type": "stream",
     "text": [
      "\r",
      "  6%|██████████████▉                                                                                                                                                                                                                           | 20/313 [00:02<00:13, 21.53it/s]"
     ]
    },
    {
     "name": "stderr",
     "output_type": "stream",
     "text": [
      "\r",
      " 11%|██████████████████████████▏                                                                                                                                                                                                               | 35/313 [00:02<00:06, 45.64it/s]"
     ]
    },
    {
     "name": "stderr",
     "output_type": "stream",
     "text": [
      "\r",
      " 15%|███████████████████████████████████▉                                                                                                                                                                                                      | 48/313 [00:02<00:04, 63.41it/s]"
     ]
    },
    {
     "name": "stderr",
     "output_type": "stream",
     "text": [
      "\r",
      " 19%|███████████████████████████████████████████▎                                                                                                                                                                                              | 58/313 [00:02<00:05, 46.10it/s]"
     ]
    },
    {
     "name": "stderr",
     "output_type": "stream",
     "text": [
      "\r",
      " 21%|█████████████████████████████████████████████████▎                                                                                                                                                                                        | 66/313 [00:02<00:04, 51.16it/s]"
     ]
    },
    {
     "name": "stderr",
     "output_type": "stream",
     "text": [
      "\r",
      " 25%|██████████████████████████████████████████████████████████▎                                                                                                                                                                               | 78/313 [00:03<00:03, 64.58it/s]"
     ]
    },
    {
     "name": "stderr",
     "output_type": "stream",
     "text": [
      "\r",
      " 28%|█████████████████████████████████████████████████████████████████                                                                                                                                                                         | 87/313 [00:03<00:03, 67.26it/s]"
     ]
    },
    {
     "name": "stderr",
     "output_type": "stream",
     "text": [
      "\r",
      " 31%|███████████████████████████████████████████████████████████████████████▊                                                                                                                                                                  | 96/313 [00:03<00:03, 66.44it/s]"
     ]
    },
    {
     "name": "stderr",
     "output_type": "stream",
     "text": [
      "\r",
      " 33%|█████████████████████████████████████████████████████████████████████████████▍                                                                                                                                                           | 104/313 [00:03<00:03, 52.33it/s]"
     ]
    },
    {
     "name": "stderr",
     "output_type": "stream",
     "text": [
      "\r",
      " 35%|██████████████████████████████████████████████████████████████████████████████████▋                                                                                                                                                      | 111/313 [00:03<00:04, 50.46it/s]"
     ]
    },
    {
     "name": "stderr",
     "output_type": "stream",
     "text": [
      "\r",
      " 40%|████████████████████████████████████████████████████████████████████████████████████████████▎                                                                                                                                            | 124/313 [00:03<00:02, 66.32it/s]"
     ]
    },
    {
     "name": "stderr",
     "output_type": "stream",
     "text": [
      "\r",
      " 42%|██████████████████████████████████████████████████████████████████████████████████████████████████▎                                                                                                                                      | 132/313 [00:03<00:02, 63.48it/s]"
     ]
    },
    {
     "name": "stderr",
     "output_type": "stream",
     "text": [
      "\r",
      " 45%|████████████████████████████████████████████████████████████████████████████████████████████████████████▉                                                                                                                                | 141/313 [00:04<00:02, 68.45it/s]"
     ]
    },
    {
     "name": "stderr",
     "output_type": "stream",
     "text": [
      "\r",
      " 48%|██████████████████████████████████████████████████████████████████████████████████████████████████████████████▉                                                                                                                          | 149/313 [00:04<00:03, 53.18it/s]"
     ]
    },
    {
     "name": "stderr",
     "output_type": "stream",
     "text": [
      "\r",
      " 50%|████████████████████████████████████████████████████████████████████████████████████████████████████████████████████▏                                                                                                                    | 156/313 [00:04<00:03, 51.04it/s]"
     ]
    },
    {
     "name": "stderr",
     "output_type": "stream",
     "text": [
      "\r",
      " 54%|█████████████████████████████████████████████████████████████████████████████████████████████████████████████████████████████▊                                                                                                           | 169/313 [00:04<00:02, 65.76it/s]"
     ]
    },
    {
     "name": "stderr",
     "output_type": "stream",
     "text": [
      "\r",
      " 57%|███████████████████████████████████████████████████████████████████████████████████████████████████████████████████████████████████▊                                                                                                     | 177/313 [00:04<00:02, 60.07it/s]"
     ]
    },
    {
     "name": "stderr",
     "output_type": "stream",
     "text": [
      "\r",
      " 59%|████████████████████████████████████████████████████████████████████████████████████████████████████████████████████████████████████████▉                                                                                                | 184/313 [00:04<00:02, 61.83it/s]"
     ]
    },
    {
     "name": "stderr",
     "output_type": "stream",
     "text": [
      "\r",
      " 61%|██████████████████████████████████████████████████████████████████████████████████████████████████████████████████████████████████████████████▏                                                                                          | 191/313 [00:05<00:02, 50.04it/s]"
     ]
    },
    {
     "name": "stderr",
     "output_type": "stream",
     "text": [
      "\r",
      " 63%|██████████████████████████████████████████████████████████████████████████████████████████████████████████████████████████████████████████████████▋                                                                                      | 197/313 [00:05<00:02, 47.00it/s]"
     ]
    },
    {
     "name": "stderr",
     "output_type": "stream",
     "text": [
      "\r",
      " 67%|█████████████████████████████████████████████████████████████████████████████████████████████████████████████████████████████████████████████████████████████                                                                            | 211/313 [00:05<00:01, 65.72it/s]"
     ]
    },
    {
     "name": "stderr",
     "output_type": "stream",
     "text": [
      "\r",
      " 70%|███████████████████████████████████████████████████████████████████████████████████████████████████████████████████████████████████████████████████████████████████                                                                      | 219/313 [00:05<00:01, 60.72it/s]"
     ]
    },
    {
     "name": "stderr",
     "output_type": "stream",
     "text": [
      "\r",
      " 72%|████████████████████████████████████████████████████████████████████████████████████████████████████████████████████████████████████████████████████████████████████████▏                                                                | 226/313 [00:05<00:01, 54.53it/s]"
     ]
    },
    {
     "name": "stderr",
     "output_type": "stream",
     "text": [
      "\r",
      " 74%|████████████████████████████████████████████████████████████████████████████████████████████████████████████████████████████████████████████████████████████████████████████▋                                                            | 232/313 [00:05<00:01, 43.63it/s]"
     ]
    },
    {
     "name": "stderr",
     "output_type": "stream",
     "text": [
      "\r",
      " 78%|█████████████████████████████████████████████████████████████████████████████████████████████████████████████████████████████████████████████████████████████████████████████████████▋                                                   | 244/313 [00:05<00:01, 54.50it/s]"
     ]
    },
    {
     "name": "stderr",
     "output_type": "stream",
     "text": [
      "\r",
      " 80%|██████████████████████████████████████████████████████████████████████████████████████████████████████████████████████████████████████████████████████████████████████████████████████████▊                                              | 251/313 [00:06<00:01, 49.92it/s]"
     ]
    },
    {
     "name": "stderr",
     "output_type": "stream",
     "text": [
      "\r",
      " 83%|████████████████████████████████████████████████████████████████████████████████████████████████████████████████████████████████████████████████████████████████████████████████████████████████▊                                        | 259/313 [00:06<00:01, 52.37it/s]"
     ]
    },
    {
     "name": "stderr",
     "output_type": "stream",
     "text": [
      "\r",
      " 85%|█████████████████████████████████████████████████████████████████████████████████████████████████████████████████████████████████████████████████████████████████████████████████████████████████████▎                                   | 265/313 [00:06<00:01, 42.26it/s]"
     ]
    },
    {
     "name": "stderr",
     "output_type": "stream",
     "text": [
      "\r",
      " 87%|███████████████████████████████████████████████████████████████████████████████████████████████████████████████████████████████████████████████████████████████████████████████████████████████████████████▏                             | 273/313 [00:06<00:00, 48.87it/s]"
     ]
    },
    {
     "name": "stderr",
     "output_type": "stream",
     "text": [
      "\r",
      " 89%|████████████████████████████████████████████████████████████████████████████████████████████████████████████████████████████████████████████████████████████████████████████████████████████████████████████████▍                        | 280/313 [00:06<00:00, 53.07it/s]"
     ]
    },
    {
     "name": "stderr",
     "output_type": "stream",
     "text": [
      "\r",
      " 91%|████████████████████████████████████████████████████████████████████████████████████████████████████████████████████████████████████████████████████████████████████████████████████████████████████████████████████▉                    | 286/313 [00:06<00:00, 42.52it/s]"
     ]
    },
    {
     "name": "stderr",
     "output_type": "stream",
     "text": [
      "\r",
      " 93%|████████████████████████████████████████████████████████████████████████████████████████████████████████████████████████████████████████████████████████████████████████████████████████████████████████████████████████▌                | 291/313 [00:07<00:00, 40.61it/s]"
     ]
    },
    {
     "name": "stderr",
     "output_type": "stream",
     "text": [
      "\r",
      " 95%|████████████████████████████████████████████████████████████████████████████████████████████████████████████████████████████████████████████████████████████████████████████████████████████████████████████████████████████▎            | 296/313 [00:07<00:00, 37.17it/s]"
     ]
    },
    {
     "name": "stderr",
     "output_type": "stream",
     "text": [
      "\r",
      " 97%|███████████████████████████████████████████████████████████████████████████████████████████████████████████████████████████████████████████████████████████████████████████████████████████████████████████████████████████████████      | 305/313 [00:07<00:00, 47.56it/s]"
     ]
    },
    {
     "name": "stderr",
     "output_type": "stream",
     "text": [
      "\r",
      " 99%|███████████████████████████████████████████████████████████████████████████████████████████████████████████████████████████████████████████████████████████████████████████████████████████████████████████████████████████████████████▌ | 311/313 [00:07<00:00, 38.04it/s]"
     ]
    },
    {
     "name": "stderr",
     "output_type": "stream",
     "text": [
      "\r",
      "100%|█████████████████████████████████████████████████████████████████████████████████████████████████████████████████████████████████████████████████████████████████████████████████████████████████████████████████████████████████████████| 313/313 [00:07<00:00, 40.67it/s]"
     ]
    },
    {
     "name": "stderr",
     "output_type": "stream",
     "text": [
      "\n"
     ]
    },
    {
     "name": "stderr",
     "output_type": "stream",
     "text": [
      "\r",
      "  0%|                                                                                                                                                                                                                                                    | 0/39 [00:00<?, ?it/s]"
     ]
    },
    {
     "name": "stderr",
     "output_type": "stream",
     "text": [
      "\r",
      "  5%|████████████                                                                                                                                                                                                                                | 2/39 [00:00<00:01, 18.78it/s]"
     ]
    },
    {
     "name": "stderr",
     "output_type": "stream",
     "text": [
      "\r",
      " 26%|████████████████████████████████████████████████████████████▎                                                                                                                                                                              | 10/39 [00:00<00:00, 53.76it/s]"
     ]
    },
    {
     "name": "stderr",
     "output_type": "stream",
     "text": [
      "\r",
      " 97%|████████████████████████████████████████████████████████████████████████████████████████████████████████████████████████████████████████████████████████████████████████████████████████████████████████████████████████████████████      | 38/39 [00:00<00:00, 141.06it/s]"
     ]
    },
    {
     "name": "stderr",
     "output_type": "stream",
     "text": [
      "\n"
     ]
    },
    {
     "name": "stdout",
     "output_type": "stream",
     "text": [
      "19112858 label and pair : 8.407690 /s\n"
     ]
    },
    {
     "name": "stdout",
     "output_type": "stream",
     "text": [
      "..................."
     ]
    },
    {
     "name": "stdout",
     "output_type": "stream",
     "text": [
      "........................"
     ]
    },
    {
     "name": "stdout",
     "output_type": "stream",
     "text": [
      "........................."
     ]
    },
    {
     "name": "stdout",
     "output_type": "stream",
     "text": [
      ".........................."
     ]
    },
    {
     "name": "stdout",
     "output_type": "stream",
     "text": [
      ".........................."
     ]
    },
    {
     "name": "stdout",
     "output_type": "stream",
     "text": [
      ".........................."
     ]
    },
    {
     "name": "stdout",
     "output_type": "stream",
     "text": [
      "........................."
     ]
    },
    {
     "name": "stdout",
     "output_type": "stream",
     "text": [
      ".........................."
     ]
    },
    {
     "name": "stdout",
     "output_type": "stream",
     "text": [
      "..........."
     ]
    },
    {
     "name": "stdout",
     "output_type": "stream",
     "text": [
      "3304692 connected components : 2.371540 /s\n"
     ]
    },
    {
     "name": "stdout",
     "output_type": "stream",
     "text": [
      "write hdf5 : 0.341861 /s\n",
      "Trying to clean up shared memory\n"
     ]
    }
   ],
   "source": [
    "# generate peaks table\n",
    "\n",
    "ImageD11.sinograms.properties.main(ds.dsfile, options={'algorithm': 'lmlabel', 'wtmax': 70000, 'save_overlaps': False})"
   ]
  },
  {
   "cell_type": "markdown",
   "id": "3db1c3e1-e812-4098-a3ab-a7a10b7cab4c",
   "metadata": {
    "papermill": {
     "duration": 0.127,
     "end_time": "2025-02-24T08:24:51.882050",
     "exception": false,
     "start_time": "2025-02-24T08:24:51.755050",
     "status": "completed"
    },
    "tags": []
   },
   "source": [
    "# Finished segmenting!\n",
    "\n",
    "You can now choose between two different indexing routes: tomographic (tomo) and point-by-point (pbp).  \n",
    "Tomo gives you better grain shapes, but can't handle highly deformed samples.  \n",
    "Point-by-point can only give you convex grain shapes (less accurate) but can handle high levels of deformation.  \n",
    "Both techniques will join back together during the strain refinement stage (notebook 3).  \n",
    "Therefore notebooks 4 and onwards should work from either the tomo or pbp route."
   ]
  }
 ],
 "metadata": {
  "kernelspec": {
   "display_name": "Python 3 (main)",
   "language": "python",
   "name": "python3"
  },
  "language_info": {
   "codemirror_mode": {
    "name": "ipython",
    "version": 3
   },
   "file_extension": ".py",
   "mimetype": "text/x-python",
   "name": "python",
   "nbconvert_exporter": "python",
   "pygments_lexer": "ipython3",
   "version": "3.11.6"
  },
  "papermill": {
   "default_parameters": {},
   "duration": 165.069106,
   "end_time": "2025-02-24T08:24:54.516794",
   "environment_variables": {},
   "exception": null,
   "input_path": "/data/id11/inhouse2/test_data_3DXRD/S3DXRD/FeAu/PROCESSED_DATA/20250221_JADB/pbp_route/FeAu_0p5_tR_nscope/FeAu_0p5_tR_nscope_top_200um/0_segment_and_label.ipynb",
   "output_path": "/data/id11/inhouse2/test_data_3DXRD/S3DXRD/FeAu/PROCESSED_DATA/20250221_JADB/pbp_route/FeAu_0p5_tR_nscope/FeAu_0p5_tR_nscope_top_200um/0_segment_and_label.ipynb",
   "parameters": {
    "PYTHONPATH": "../",
    "analysisroot": "/data/id11/inhouse2/test_data_3DXRD/S3DXRD/FeAu/PROCESSED_DATA/20250221_JADB/pbp_route",
    "dataroot": "/data/id11/inhouse2/test_data_3DXRD/S3DXRD/FeAu/RAW_DATA",
    "dataset": "top_200um",
    "detector": "eiger",
    "dtymotor": "dty",
    "e2dxfile": "/data/id11/inhouse2/test_data_3DXRD/S3DXRD/FeAu/pars/e2dx_E-08-0173_20231127.edf",
    "e2dyfile": "/data/id11/inhouse2/test_data_3DXRD/S3DXRD/FeAu/pars/e2dy_E-08-0173_20231127.edf",
    "maskfile": "/data/id11/inhouse2/test_data_3DXRD/S3DXRD/FeAu/pars/mask_with_gaps_E-08-0173.edf",
    "omegamotor": "rot_center",
    "options": {
     "cut": 1,
     "howmany": 100000,
     "pixels_in_spot": 3
    },
    "sample": "FeAu_0p5_tR_nscope"
   },
   "start_time": "2025-02-24T08:22:09.447688",
   "version": "2.6.0"
  },
  "widgets": {
   "application/vnd.jupyter.widget-state+json": {
    "state": {
     "07776966fdb548f39d73a9c86cda513a": {
      "model_module": "@jupyter-widgets/controls",
      "model_module_version": "2.0.0",
      "model_name": "IntSliderModel",
      "state": {
       "_dom_classes": [],
       "_model_module": "@jupyter-widgets/controls",
       "_model_module_version": "2.0.0",
       "_model_name": "IntSliderModel",
       "_view_count": null,
       "_view_module": "@jupyter-widgets/controls",
       "_view_module_version": "2.0.0",
       "_view_name": "IntSliderView",
       "behavior": "drag-tap",
       "continuous_update": true,
       "description": "Cut:",
       "description_allow_html": false,
       "disabled": false,
       "layout": "IPY_MODEL_4d522206d05b49b28fb44d176446f239",
       "max": 200,
       "min": 0,
       "orientation": "horizontal",
       "readout": true,
       "readout_format": "d",
       "step": 1,
       "style": "IPY_MODEL_d65e20cfe75c4f94a04ffed3ec89c98b",
       "tabbable": null,
       "tooltip": null,
       "value": 1
      }
     },
     "1b387b4d909544ebb2e78e7346efbb97": {
      "model_module": "@jupyter-widgets/base",
      "model_module_version": "2.0.0",
      "model_name": "LayoutModel",
      "state": {
       "_model_module": "@jupyter-widgets/base",
       "_model_module_version": "2.0.0",
       "_model_name": "LayoutModel",
       "_view_count": null,
       "_view_module": "@jupyter-widgets/base",
       "_view_module_version": "2.0.0",
       "_view_name": "LayoutView",
       "align_content": null,
       "align_items": null,
       "align_self": null,
       "border_bottom": null,
       "border_left": null,
       "border_right": null,
       "border_top": null,
       "bottom": null,
       "display": null,
       "flex": null,
       "flex_flow": null,
       "grid_area": null,
       "grid_auto_columns": null,
       "grid_auto_flow": null,
       "grid_auto_rows": null,
       "grid_column": null,
       "grid_gap": null,
       "grid_row": null,
       "grid_template_areas": null,
       "grid_template_columns": null,
       "grid_template_rows": null,
       "height": null,
       "justify_content": null,
       "justify_items": null,
       "left": null,
       "margin": null,
       "max_height": null,
       "max_width": null,
       "min_height": null,
       "min_width": null,
       "object_fit": null,
       "object_position": null,
       "order": null,
       "overflow": null,
       "padding": null,
       "right": null,
       "top": null,
       "visibility": null,
       "width": null
      }
     },
     "27f37003213e4312930417bd5160d4f7": {
      "model_module": "@jupyter-widgets/controls",
      "model_module_version": "2.0.0",
      "model_name": "VBoxModel",
      "state": {
       "_dom_classes": [
        "widget-interact"
       ],
       "_model_module": "@jupyter-widgets/controls",
       "_model_module_version": "2.0.0",
       "_model_name": "VBoxModel",
       "_view_count": null,
       "_view_module": "@jupyter-widgets/controls",
       "_view_module_version": "2.0.0",
       "_view_name": "VBoxView",
       "box_style": "",
       "children": [
        "IPY_MODEL_07776966fdb548f39d73a9c86cda513a",
        "IPY_MODEL_2f3db68fc98f4f3280fdcf43b6b37bf0",
        "IPY_MODEL_9311690402cc47a5bc4c9c54d8bf8c65",
        "IPY_MODEL_793ed9b7f2c84db69f2f65e687174325"
       ],
       "layout": "IPY_MODEL_d19e9ce69ebd450c947d8797808f0fbf",
       "tabbable": null,
       "tooltip": null
      }
     },
     "2f3db68fc98f4f3280fdcf43b6b37bf0": {
      "model_module": "@jupyter-widgets/controls",
      "model_module_version": "2.0.0",
      "model_name": "IntSliderModel",
      "state": {
       "_dom_classes": [],
       "_model_module": "@jupyter-widgets/controls",
       "_model_module_version": "2.0.0",
       "_model_name": "IntSliderModel",
       "_view_count": null,
       "_view_module": "@jupyter-widgets/controls",
       "_view_module_version": "2.0.0",
       "_view_name": "IntSliderView",
       "behavior": "drag-tap",
       "continuous_update": true,
       "description": "Pixels in Spot:",
       "description_allow_html": false,
       "disabled": false,
       "layout": "IPY_MODEL_dda15d7bbbe34175b34feb91286b11ed",
       "max": 20,
       "min": 0,
       "orientation": "horizontal",
       "readout": true,
       "readout_format": "d",
       "step": 1,
       "style": "IPY_MODEL_7b407c2ac94347c5a1db0a3dd932e300",
       "tabbable": null,
       "tooltip": null,
       "value": 3
      }
     },
     "4047623924804e9cb3dfb39e3f8b6821": {
      "model_module": "@jupyter-widgets/base",
      "model_module_version": "2.0.0",
      "model_name": "LayoutModel",
      "state": {
       "_model_module": "@jupyter-widgets/base",
       "_model_module_version": "2.0.0",
       "_model_name": "LayoutModel",
       "_view_count": null,
       "_view_module": "@jupyter-widgets/base",
       "_view_module_version": "2.0.0",
       "_view_name": "LayoutView",
       "align_content": null,
       "align_items": null,
       "align_self": null,
       "border_bottom": null,
       "border_left": null,
       "border_right": null,
       "border_top": null,
       "bottom": null,
       "display": null,
       "flex": null,
       "flex_flow": null,
       "grid_area": null,
       "grid_auto_columns": null,
       "grid_auto_flow": null,
       "grid_auto_rows": null,
       "grid_column": null,
       "grid_gap": null,
       "grid_row": null,
       "grid_template_areas": null,
       "grid_template_columns": null,
       "grid_template_rows": null,
       "height": null,
       "justify_content": null,
       "justify_items": null,
       "left": null,
       "margin": null,
       "max_height": null,
       "max_width": null,
       "min_height": null,
       "min_width": null,
       "object_fit": null,
       "object_position": null,
       "order": null,
       "overflow": null,
       "padding": null,
       "right": null,
       "top": null,
       "visibility": null,
       "width": null
      }
     },
     "45c1440d65184b0f8dfc98de9e09b215": {
      "model_module": "@jupyter-widgets/controls",
      "model_module_version": "2.0.0",
      "model_name": "SliderStyleModel",
      "state": {
       "_model_module": "@jupyter-widgets/controls",
       "_model_module_version": "2.0.0",
       "_model_name": "SliderStyleModel",
       "_view_count": null,
       "_view_module": "@jupyter-widgets/base",
       "_view_module_version": "2.0.0",
       "_view_name": "StyleView",
       "description_width": "",
       "handle_color": null
      }
     },
     "4d522206d05b49b28fb44d176446f239": {
      "model_module": "@jupyter-widgets/base",
      "model_module_version": "2.0.0",
      "model_name": "LayoutModel",
      "state": {
       "_model_module": "@jupyter-widgets/base",
       "_model_module_version": "2.0.0",
       "_model_name": "LayoutModel",
       "_view_count": null,
       "_view_module": "@jupyter-widgets/base",
       "_view_module_version": "2.0.0",
       "_view_name": "LayoutView",
       "align_content": null,
       "align_items": null,
       "align_self": null,
       "border_bottom": null,
       "border_left": null,
       "border_right": null,
       "border_top": null,
       "bottom": null,
       "display": null,
       "flex": null,
       "flex_flow": null,
       "grid_area": null,
       "grid_auto_columns": null,
       "grid_auto_flow": null,
       "grid_auto_rows": null,
       "grid_column": null,
       "grid_gap": null,
       "grid_row": null,
       "grid_template_areas": null,
       "grid_template_columns": null,
       "grid_template_rows": null,
       "height": null,
       "justify_content": null,
       "justify_items": null,
       "left": null,
       "margin": null,
       "max_height": null,
       "max_width": null,
       "min_height": null,
       "min_width": null,
       "object_fit": null,
       "object_position": null,
       "order": null,
       "overflow": null,
       "padding": null,
       "right": null,
       "top": null,
       "visibility": null,
       "width": null
      }
     },
     "5a65a60c9cf44b3b9d3a1b5b0777fcdb": {
      "model_module": "jupyter-matplotlib",
      "model_module_version": "^0.11",
      "model_name": "MPLCanvasModel",
      "state": {
       "_cursor": "default",
       "_data_url": "data:image/png;base64,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",
       "_dom_classes": [],
       "_figure_label": "Figure",
       "_image_mode": "full",
       "_message": "",
       "_model_module": "jupyter-matplotlib",
       "_model_module_version": "^0.11",
       "_model_name": "MPLCanvasModel",
       "_rubberband_height": 0,
       "_rubberband_width": 0,
       "_rubberband_x": 0,
       "_rubberband_y": 0,
       "_size": [
        1000.0,
        500.0
       ],
       "_view_count": null,
       "_view_module": "jupyter-matplotlib",
       "_view_module_version": "^0.11",
       "_view_name": "MPLCanvasView",
       "capture_scroll": false,
       "footer_visible": true,
       "header_visible": true,
       "layout": "IPY_MODEL_4047623924804e9cb3dfb39e3f8b6821",
       "pan_zoom_throttle": 33.0,
       "resizable": true,
       "tabbable": null,
       "toolbar": "IPY_MODEL_e9246a06a8cd45c59242a55aa0c480c6",
       "toolbar_position": "left",
       "toolbar_visible": "fade-in-fade-out",
       "tooltip": null
      }
     },
     "793ed9b7f2c84db69f2f65e687174325": {
      "model_module": "@jupyter-widgets/output",
      "model_module_version": "1.0.0",
      "model_name": "OutputModel",
      "state": {
       "_dom_classes": [],
       "_model_module": "@jupyter-widgets/output",
       "_model_module_version": "1.0.0",
       "_model_name": "OutputModel",
       "_view_count": null,
       "_view_module": "@jupyter-widgets/output",
       "_view_module_version": "1.0.0",
       "_view_name": "OutputView",
       "layout": "IPY_MODEL_1b387b4d909544ebb2e78e7346efbb97",
       "msg_id": "",
       "outputs": [],
       "tabbable": null,
       "tooltip": null
      }
     },
     "7b407c2ac94347c5a1db0a3dd932e300": {
      "model_module": "@jupyter-widgets/controls",
      "model_module_version": "2.0.0",
      "model_name": "SliderStyleModel",
      "state": {
       "_model_module": "@jupyter-widgets/controls",
       "_model_module_version": "2.0.0",
       "_model_name": "SliderStyleModel",
       "_view_count": null,
       "_view_module": "@jupyter-widgets/base",
       "_view_module_version": "2.0.0",
       "_view_name": "StyleView",
       "description_width": "",
       "handle_color": null
      }
     },
     "92e10796edcd46a483205dcc9788cd2e": {
      "model_module": "@jupyter-widgets/base",
      "model_module_version": "2.0.0",
      "model_name": "LayoutModel",
      "state": {
       "_model_module": "@jupyter-widgets/base",
       "_model_module_version": "2.0.0",
       "_model_name": "LayoutModel",
       "_view_count": null,
       "_view_module": "@jupyter-widgets/base",
       "_view_module_version": "2.0.0",
       "_view_name": "LayoutView",
       "align_content": null,
       "align_items": null,
       "align_self": null,
       "border_bottom": null,
       "border_left": null,
       "border_right": null,
       "border_top": null,
       "bottom": null,
       "display": null,
       "flex": null,
       "flex_flow": null,
       "grid_area": null,
       "grid_auto_columns": null,
       "grid_auto_flow": null,
       "grid_auto_rows": null,
       "grid_column": null,
       "grid_gap": null,
       "grid_row": null,
       "grid_template_areas": null,
       "grid_template_columns": null,
       "grid_template_rows": null,
       "height": null,
       "justify_content": null,
       "justify_items": null,
       "left": null,
       "margin": null,
       "max_height": null,
       "max_width": null,
       "min_height": null,
       "min_width": null,
       "object_fit": null,
       "object_position": null,
       "order": null,
       "overflow": null,
       "padding": null,
       "right": null,
       "top": null,
       "visibility": null,
       "width": null
      }
     },
     "9311690402cc47a5bc4c9c54d8bf8c65": {
      "model_module": "@jupyter-widgets/controls",
      "model_module_version": "2.0.0",
      "model_name": "IntSliderModel",
      "state": {
       "_dom_classes": [],
       "_model_module": "@jupyter-widgets/controls",
       "_model_module_version": "2.0.0",
       "_model_name": "IntSliderModel",
       "_view_count": null,
       "_view_module": "@jupyter-widgets/controls",
       "_view_module_version": "2.0.0",
       "_view_name": "IntSliderView",
       "behavior": "drag-tap",
       "continuous_update": true,
       "description": "log(howmany):",
       "description_allow_html": false,
       "disabled": false,
       "layout": "IPY_MODEL_b61222b000f74e54ab98a5cd6a2c89ca",
       "max": 15,
       "min": 1,
       "orientation": "horizontal",
       "readout": true,
       "readout_format": "d",
       "step": 1,
       "style": "IPY_MODEL_45c1440d65184b0f8dfc98de9e09b215",
       "tabbable": null,
       "tooltip": null,
       "value": 5
      }
     },
     "b61222b000f74e54ab98a5cd6a2c89ca": {
      "model_module": "@jupyter-widgets/base",
      "model_module_version": "2.0.0",
      "model_name": "LayoutModel",
      "state": {
       "_model_module": "@jupyter-widgets/base",
       "_model_module_version": "2.0.0",
       "_model_name": "LayoutModel",
       "_view_count": null,
       "_view_module": "@jupyter-widgets/base",
       "_view_module_version": "2.0.0",
       "_view_name": "LayoutView",
       "align_content": null,
       "align_items": null,
       "align_self": null,
       "border_bottom": null,
       "border_left": null,
       "border_right": null,
       "border_top": null,
       "bottom": null,
       "display": null,
       "flex": null,
       "flex_flow": null,
       "grid_area": null,
       "grid_auto_columns": null,
       "grid_auto_flow": null,
       "grid_auto_rows": null,
       "grid_column": null,
       "grid_gap": null,
       "grid_row": null,
       "grid_template_areas": null,
       "grid_template_columns": null,
       "grid_template_rows": null,
       "height": null,
       "justify_content": null,
       "justify_items": null,
       "left": null,
       "margin": null,
       "max_height": null,
       "max_width": null,
       "min_height": null,
       "min_width": null,
       "object_fit": null,
       "object_position": null,
       "order": null,
       "overflow": null,
       "padding": null,
       "right": null,
       "top": null,
       "visibility": null,
       "width": null
      }
     },
     "d19e9ce69ebd450c947d8797808f0fbf": {
      "model_module": "@jupyter-widgets/base",
      "model_module_version": "2.0.0",
      "model_name": "LayoutModel",
      "state": {
       "_model_module": "@jupyter-widgets/base",
       "_model_module_version": "2.0.0",
       "_model_name": "LayoutModel",
       "_view_count": null,
       "_view_module": "@jupyter-widgets/base",
       "_view_module_version": "2.0.0",
       "_view_name": "LayoutView",
       "align_content": null,
       "align_items": null,
       "align_self": null,
       "border_bottom": null,
       "border_left": null,
       "border_right": null,
       "border_top": null,
       "bottom": null,
       "display": null,
       "flex": null,
       "flex_flow": null,
       "grid_area": null,
       "grid_auto_columns": null,
       "grid_auto_flow": null,
       "grid_auto_rows": null,
       "grid_column": null,
       "grid_gap": null,
       "grid_row": null,
       "grid_template_areas": null,
       "grid_template_columns": null,
       "grid_template_rows": null,
       "height": null,
       "justify_content": null,
       "justify_items": null,
       "left": null,
       "margin": null,
       "max_height": null,
       "max_width": null,
       "min_height": null,
       "min_width": null,
       "object_fit": null,
       "object_position": null,
       "order": null,
       "overflow": null,
       "padding": null,
       "right": null,
       "top": null,
       "visibility": null,
       "width": null
      }
     },
     "d65e20cfe75c4f94a04ffed3ec89c98b": {
      "model_module": "@jupyter-widgets/controls",
      "model_module_version": "2.0.0",
      "model_name": "SliderStyleModel",
      "state": {
       "_model_module": "@jupyter-widgets/controls",
       "_model_module_version": "2.0.0",
       "_model_name": "SliderStyleModel",
       "_view_count": null,
       "_view_module": "@jupyter-widgets/base",
       "_view_module_version": "2.0.0",
       "_view_name": "StyleView",
       "description_width": "",
       "handle_color": null
      }
     },
     "dda15d7bbbe34175b34feb91286b11ed": {
      "model_module": "@jupyter-widgets/base",
      "model_module_version": "2.0.0",
      "model_name": "LayoutModel",
      "state": {
       "_model_module": "@jupyter-widgets/base",
       "_model_module_version": "2.0.0",
       "_model_name": "LayoutModel",
       "_view_count": null,
       "_view_module": "@jupyter-widgets/base",
       "_view_module_version": "2.0.0",
       "_view_name": "LayoutView",
       "align_content": null,
       "align_items": null,
       "align_self": null,
       "border_bottom": null,
       "border_left": null,
       "border_right": null,
       "border_top": null,
       "bottom": null,
       "display": null,
       "flex": null,
       "flex_flow": null,
       "grid_area": null,
       "grid_auto_columns": null,
       "grid_auto_flow": null,
       "grid_auto_rows": null,
       "grid_column": null,
       "grid_gap": null,
       "grid_row": null,
       "grid_template_areas": null,
       "grid_template_columns": null,
       "grid_template_rows": null,
       "height": null,
       "justify_content": null,
       "justify_items": null,
       "left": null,
       "margin": null,
       "max_height": null,
       "max_width": null,
       "min_height": null,
       "min_width": null,
       "object_fit": null,
       "object_position": null,
       "order": null,
       "overflow": null,
       "padding": null,
       "right": null,
       "top": null,
       "visibility": null,
       "width": null
      }
     },
     "e9246a06a8cd45c59242a55aa0c480c6": {
      "model_module": "jupyter-matplotlib",
      "model_module_version": "^0.11",
      "model_name": "ToolbarModel",
      "state": {
       "_current_action": "",
       "_dom_classes": [],
       "_model_module": "jupyter-matplotlib",
       "_model_module_version": "^0.11",
       "_model_name": "ToolbarModel",
       "_view_count": null,
       "_view_module": "jupyter-matplotlib",
       "_view_module_version": "^0.11",
       "_view_name": "ToolbarView",
       "button_style": "",
       "collapsed": true,
       "layout": "IPY_MODEL_92e10796edcd46a483205dcc9788cd2e",
       "orientation": "vertical",
       "tabbable": null,
       "toolitems": [
        [
         "Home",
         "Reset original view",
         "home",
         "home"
        ],
        [
         "Back",
         "Back to previous view",
         "arrow-left",
         "back"
        ],
        [
         "Forward",
         "Forward to next view",
         "arrow-right",
         "forward"
        ],
        [
         "Pan",
         "Left button pans, Right button zooms\nx/y fixes axis, CTRL fixes aspect",
         "arrows",
         "pan"
        ],
        [
         "Zoom",
         "Zoom to rectangle\nx/y fixes axis",
         "square-o",
         "zoom"
        ],
        [
         "Download",
         "Download plot",
         "floppy-o",
         "save_figure"
        ]
       ],
       "tooltip": null
      }
     }
    },
    "version_major": 2,
    "version_minor": 0
   }
  }
 },
 "nbformat": 4,
 "nbformat_minor": 5
}