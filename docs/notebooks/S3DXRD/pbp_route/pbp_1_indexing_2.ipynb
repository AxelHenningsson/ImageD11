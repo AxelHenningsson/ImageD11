{
 "cells": [
  {
   "cell_type": "markdown",
   "id": "b0990551",
   "metadata": {
    "papermill": {
     "duration": 0.009193,
     "end_time": "2025-02-24T08:30:07.214835",
     "exception": false,
     "start_time": "2025-02-24T08:30:07.205642",
     "status": "completed"
    },
    "tags": []
   },
   "source": [
    "# Point-by-point mapping notebook  \n",
    "__Written by Haixing Fang, Jon Wright and James Ball__  \n",
    "__Date: 21/02/2025__"
   ]
  },
  {
   "cell_type": "markdown",
   "id": "21db5d4d",
   "metadata": {
    "papermill": {
     "duration": 0.002618,
     "end_time": "2025-02-24T08:30:07.222836",
     "exception": false,
     "start_time": "2025-02-24T08:30:07.220218",
     "status": "completed"
    },
    "tags": []
   },
   "source": [
    "This notebook will try to perform a point-by-point index of the 2D peaks you segmented.\n",
    "The point-by-point results (usually saved to a .txt file in the sample PROCESSED_DATA folder) are multi-valued (we can find multiple UBIs at each map voxel).  \n",
    "You can view the results of the point-by-point process 'live' by running the next notebook (pbp_2_visualise).  \n",
    "That notebook will also allow you to save a single-valued version of the pbp map to H5, ParaView XDMF and MTEX CTF.\n",
    "The UBIs we find from the PBP index should have reasonably accurate orientations, but the strains are likely to be poor.  \n",
    "To get much better strains, slightly better orientations and possibly better grain shapes, you should run pbp_3_refinement\n",
    "Then run 4_visualise to convert the refinement results to an accurate single-valued map with good strains."
   ]
  },
  {
   "cell_type": "code",
   "execution_count": 1,
   "id": "80750e9f",
   "metadata": {
    "execution": {
     "iopub.execute_input": "2025-02-24T08:30:07.229891Z",
     "iopub.status.busy": "2025-02-24T08:30:07.229313Z",
     "iopub.status.idle": "2025-02-24T08:30:07.242750Z",
     "shell.execute_reply": "2025-02-24T08:30:07.242099Z"
    },
    "papermill": {
     "duration": 0.018562,
     "end_time": "2025-02-24T08:30:07.243812",
     "exception": false,
     "start_time": "2025-02-24T08:30:07.225250",
     "status": "completed"
    },
    "tags": []
   },
   "outputs": [],
   "source": [
    "import os\n",
    "\n",
    "os.environ['OMP_NUM_THREADS'] = '1'\n",
    "os.environ['OPENBLAS_NUM_THREADS'] = '1'\n",
    "os.environ['MKL_NUM_THREADS'] = '1'"
   ]
  },
  {
   "cell_type": "code",
   "execution_count": 2,
   "id": "946b2283",
   "metadata": {
    "execution": {
     "iopub.execute_input": "2025-02-24T08:30:07.251904Z",
     "iopub.status.busy": "2025-02-24T08:30:07.251660Z",
     "iopub.status.idle": "2025-02-24T08:30:07.255449Z",
     "shell.execute_reply": "2025-02-24T08:30:07.254826Z"
    },
    "papermill": {
     "duration": 0.010176,
     "end_time": "2025-02-24T08:30:07.256988",
     "exception": false,
     "start_time": "2025-02-24T08:30:07.246812",
     "status": "completed"
    },
    "tags": []
   },
   "outputs": [],
   "source": [
    "exec(open('/data/id11/nanoscope/install_ImageD11_from_git.py').read())"
   ]
  },
  {
   "cell_type": "code",
   "execution_count": 3,
   "id": "81243687",
   "metadata": {
    "execution": {
     "iopub.execute_input": "2025-02-24T08:30:07.264715Z",
     "iopub.status.busy": "2025-02-24T08:30:07.264403Z",
     "iopub.status.idle": "2025-02-24T08:30:07.631999Z",
     "shell.execute_reply": "2025-02-24T08:30:07.631019Z"
    },
    "papermill": {
     "duration": 0.37408,
     "end_time": "2025-02-24T08:30:07.634528",
     "exception": false,
     "start_time": "2025-02-24T08:30:07.260448",
     "status": "completed"
    },
    "tags": [
     "parameters"
    ]
   },
   "outputs": [
    {
     "name": "stdout",
     "output_type": "stream",
     "text": [
      "# Setting path via: \n",
      "sys.path.insert(0, /home/esrf/james1997a/Code/ImageD11 )\n"
     ]
    },
    {
     "name": "stdout",
     "output_type": "stream",
     "text": [
      "# Running from: /home/esrf/james1997a/Code/ImageD11/ImageD11/__init__.py\n"
     ]
    }
   ],
   "source": [
    "# this cell is tagged with 'parameters'\n",
    "# to view the tag, select the cell, then find the settings gear icon (right or left sidebar) and look for Cell Tags\n",
    "\n",
    "# python environment stuff\n",
    "PYTHONPATH = setup_ImageD11_from_git( ) # ( os.path.join( os.environ['HOME'],'Code'), 'ImageD11_git' )\n",
    "\n",
    "# dataset file to import\n",
    "dset_path = 'si_cube_test/processed/Si_cube/Si_cube_S3DXRD_nt_moves_dty/Si_cube_S3DXRD_nt_moves_dty_dataset.h5'\n",
    "\n",
    "# which phase to index\n",
    "phase_str = 'Si'\n",
    "\n",
    "# filter the columnfile to discard weak peaks\n",
    "minpkint = 5\n",
    "\n",
    "# point-by-point parameters\n",
    "hkl_tol = 0.025\n",
    "fpks = 0.9\n",
    "ds_tol = 0.004\n",
    "etacut = 0.1\n",
    "ifrac = 5e-3\n",
    "y0 = 0.0\n",
    "symmetry = \"cubic\"\n",
    "foridx = [0, 1, 3, 5, 7]\n",
    "forgen = [1, 5, 7]\n",
    "uniqcut = 0.85\n",
    "use_cluster = False\n",
    "\n",
    "# EXPERTS: Can specify par_file as a parameter if you want\n",
    "par_file = None"
   ]
  },
  {
   "cell_type": "code",
   "execution_count": 4,
   "id": "0b1d4e9c",
   "metadata": {
    "execution": {
     "iopub.execute_input": "2025-02-24T08:30:07.646734Z",
     "iopub.status.busy": "2025-02-24T08:30:07.646378Z",
     "iopub.status.idle": "2025-02-24T08:30:07.652706Z",
     "shell.execute_reply": "2025-02-24T08:30:07.651659Z"
    },
    "papermill": {
     "duration": 0.01186,
     "end_time": "2025-02-24T08:30:07.653957",
     "exception": false,
     "start_time": "2025-02-24T08:30:07.642097",
     "status": "completed"
    },
    "tags": [
     "injected-parameters"
    ]
   },
   "outputs": [],
   "source": [
    "# Parameters\n",
    "par_file = \"/data/id11/inhouse2/test_data_3DXRD/S3DXRD/FeAu/pars/pars.json\"\n",
    "phase_str = \"Au\"\n",
    "minpkint = 5\n",
    "hkl_tol = 0.03\n",
    "fpks = 30\n",
    "ds_tol = 0.008\n",
    "etacut = 0.1\n",
    "ifrac = 0.002\n",
    "y0 = -16.0\n",
    "symmetry = \"cubic\"\n",
    "foridx = [0, 3, 5, 7]\n",
    "forgen = [0, 5, 7]\n",
    "uniqcut = 0.85\n",
    "use_cluster = False\n",
    "PYTHONPATH = \"../\"\n",
    "dset_path = \"/data/id11/inhouse2/test_data_3DXRD/S3DXRD/FeAu/PROCESSED_DATA/20250221_JADB/pbp_route/FeAu_0p5_tR_nscope/FeAu_0p5_tR_nscope_top_200um/FeAu_0p5_tR_nscope_top_200um_dataset.h5\"\n"
   ]
  },
  {
   "cell_type": "code",
   "execution_count": 5,
   "id": "8f8aac13",
   "metadata": {
    "execution": {
     "iopub.execute_input": "2025-02-24T08:30:07.663474Z",
     "iopub.status.busy": "2025-02-24T08:30:07.662633Z",
     "iopub.status.idle": "2025-02-24T08:30:09.986329Z",
     "shell.execute_reply": "2025-02-24T08:30:09.985388Z"
    },
    "papermill": {
     "duration": 2.331699,
     "end_time": "2025-02-24T08:30:09.989435",
     "exception": false,
     "start_time": "2025-02-24T08:30:07.657736",
     "status": "completed"
    },
    "tags": []
   },
   "outputs": [],
   "source": [
    "import numpy as np\n",
    "from matplotlib import pyplot as plt\n",
    "\n",
    "import ImageD11.sinograms.point_by_point\n",
    "import ImageD11.sinograms.dataset\n",
    "import ImageD11.columnfile\n",
    "\n",
    "import ImageD11.nbGui.nb_utils as utils\n",
    "\n",
    "%matplotlib ipympl"
   ]
  },
  {
   "cell_type": "markdown",
   "id": "01097b9d",
   "metadata": {
    "papermill": {
     "duration": 0.005162,
     "end_time": "2025-02-24T08:30:10.004508",
     "exception": false,
     "start_time": "2025-02-24T08:30:09.999346",
     "status": "completed"
    },
    "tags": []
   },
   "source": [
    "# Load data\n",
    "## Dataset"
   ]
  },
  {
   "cell_type": "code",
   "execution_count": 6,
   "id": "ca32dd47",
   "metadata": {
    "execution": {
     "iopub.execute_input": "2025-02-24T08:30:10.011572Z",
     "iopub.status.busy": "2025-02-24T08:30:10.011003Z",
     "iopub.status.idle": "2025-02-24T08:30:10.058724Z",
     "shell.execute_reply": "2025-02-24T08:30:10.058033Z"
    },
    "papermill": {
     "duration": 0.053135,
     "end_time": "2025-02-24T08:30:10.060409",
     "exception": false,
     "start_time": "2025-02-24T08:30:10.007274",
     "status": "completed"
    },
    "tags": []
   },
   "outputs": [
    {
     "name": "stdout",
     "output_type": "stream",
     "text": [
      "dataroot = \"/data/id11/inhouse2/test_data_3DXRD/S3DXRD/FeAu/RAW_DATA\"\n",
      "analysisroot = \"/data/id11/inhouse2/test_data_3DXRD/S3DXRD/FeAu/PROCESSED_DATA/20250221_JADB/pbp_route\"\n",
      "sample = \"FeAu_0p5_tR_nscope\"\n",
      "dset = \"top_200um\"\n",
      "shape = ( 275, 1448)\n",
      "# scans 275 from 1.1 to 275.1\n"
     ]
    }
   ],
   "source": [
    "ds = ImageD11.sinograms.dataset.load(dset_path)\n",
    "print(ds)"
   ]
  },
  {
   "cell_type": "markdown",
   "id": "cbf478cc",
   "metadata": {
    "papermill": {
     "duration": 0.004729,
     "end_time": "2025-02-24T08:30:10.070066",
     "exception": false,
     "start_time": "2025-02-24T08:30:10.065337",
     "status": "completed"
    },
    "tags": []
   },
   "source": [
    "## Parameters\n",
    "Specify the path to your parameter file"
   ]
  },
  {
   "cell_type": "code",
   "execution_count": 7,
   "id": "8a9977c4",
   "metadata": {
    "execution": {
     "iopub.execute_input": "2025-02-24T08:30:10.076458Z",
     "iopub.status.busy": "2025-02-24T08:30:10.076131Z",
     "iopub.status.idle": "2025-02-24T08:30:10.172118Z",
     "shell.execute_reply": "2025-02-24T08:30:10.171197Z"
    },
    "papermill": {
     "duration": 0.100755,
     "end_time": "2025-02-24T08:30:10.173397",
     "exception": false,
     "start_time": "2025-02-24T08:30:10.072642",
     "status": "completed"
    },
    "tags": []
   },
   "outputs": [],
   "source": [
    "if par_file is None:\n",
    "    par_file = os.path.join(ds.analysisroot, 'pars.json')\n",
    "ds.parfile = par_file\n",
    "ds.save()"
   ]
  },
  {
   "cell_type": "markdown",
   "id": "eeb24c8c",
   "metadata": {
    "papermill": {
     "duration": 0.004242,
     "end_time": "2025-02-24T08:30:10.181516",
     "exception": false,
     "start_time": "2025-02-24T08:30:10.177274",
     "status": "completed"
    },
    "tags": []
   },
   "source": [
    "## Phases\n",
    "If the parameter file was a json, we can access the unit cells via `ds.phases.unitcells`"
   ]
  },
  {
   "cell_type": "code",
   "execution_count": 8,
   "id": "b452d901",
   "metadata": {
    "execution": {
     "iopub.execute_input": "2025-02-24T08:30:10.190131Z",
     "iopub.status.busy": "2025-02-24T08:30:10.189722Z",
     "iopub.status.idle": "2025-02-24T08:30:10.198833Z",
     "shell.execute_reply": "2025-02-24T08:30:10.198183Z"
    },
    "papermill": {
     "duration": 0.013957,
     "end_time": "2025-02-24T08:30:10.199837",
     "exception": false,
     "start_time": "2025-02-24T08:30:10.185880",
     "status": "completed"
    },
    "tags": []
   },
   "outputs": [
    {
     "data": {
      "text/plain": [
       "{'Au': Au | [ 4.005  4.005  4.005 90.    90.    90.   ] | 225,\n",
       " 'Fe': Fe | [ 2.8694  2.8694  2.8694 90.     90.     90.    ] | 229,\n",
       " 'CeO2': CeO2 | [ 5.41143  5.41143  5.41143 90.      90.      90.     ] | F}"
      ]
     },
     "execution_count": 8,
     "metadata": {},
     "output_type": "execute_result"
    }
   ],
   "source": [
    "ds.phases = ds.get_phases_from_disk()\n",
    "ds.phases.unitcells"
   ]
  },
  {
   "cell_type": "code",
   "execution_count": 9,
   "id": "63e43a98",
   "metadata": {
    "execution": {
     "iopub.execute_input": "2025-02-24T08:30:10.207171Z",
     "iopub.status.busy": "2025-02-24T08:30:10.206902Z",
     "iopub.status.idle": "2025-02-24T08:30:10.211582Z",
     "shell.execute_reply": "2025-02-24T08:30:10.210791Z"
    },
    "papermill": {
     "duration": 0.010222,
     "end_time": "2025-02-24T08:30:10.212888",
     "exception": false,
     "start_time": "2025-02-24T08:30:10.202666",
     "status": "completed"
    },
    "tags": []
   },
   "outputs": [
    {
     "name": "stdout",
     "output_type": "stream",
     "text": [
      "Au | [ 4.005  4.005  4.005 90.    90.    90.   ] | 225\n"
     ]
    }
   ],
   "source": [
    "ucell = ds.phases.unitcells[phase_str]\n",
    "print(ucell)"
   ]
  },
  {
   "cell_type": "markdown",
   "id": "2220d733",
   "metadata": {
    "papermill": {
     "duration": 0.003699,
     "end_time": "2025-02-24T08:30:10.220204",
     "exception": false,
     "start_time": "2025-02-24T08:30:10.216505",
     "status": "completed"
    },
    "tags": []
   },
   "source": [
    "## Peaks"
   ]
  },
  {
   "cell_type": "code",
   "execution_count": 10,
   "id": "c6c34218",
   "metadata": {
    "execution": {
     "iopub.execute_input": "2025-02-24T08:30:10.228757Z",
     "iopub.status.busy": "2025-02-24T08:30:10.228088Z",
     "iopub.status.idle": "2025-02-24T08:30:14.969250Z",
     "shell.execute_reply": "2025-02-24T08:30:14.968409Z"
    },
    "papermill": {
     "duration": 4.7486,
     "end_time": "2025-02-24T08:30:14.972341",
     "exception": false,
     "start_time": "2025-02-24T08:30:10.223741",
     "status": "completed"
    },
    "tags": []
   },
   "outputs": [
    {
     "name": "stdout",
     "output_type": "stream",
     "text": [
      "Loading existing colfile from /data/id11/inhouse2/test_data_3DXRD/S3DXRD/FeAu/PROCESSED_DATA/20250221_JADB/pbp_route/FeAu_0p5_tR_nscope/FeAu_0p5_tR_nscope_top_200um/FeAu_0p5_tR_nscope_top_200um_peaks_2d.h5\n",
      "Reading your columnfile in hdf format\n"
     ]
    }
   ],
   "source": [
    "cf_2d = ds.get_cf_2d()\n",
    "ds.update_colfile_pars(cf_2d, phase_name=phase_str)\n",
    "if not os.path.exists(ds.col2dfile):\n",
    "    # save the 2D peaks to file so we don't have to spatially correct them again\n",
    "    ImageD11.columnfile.colfile_to_hdf(cf_2d, ds.col2dfile)"
   ]
  },
  {
   "cell_type": "code",
   "execution_count": 11,
   "id": "54639268",
   "metadata": {
    "execution": {
     "iopub.execute_input": "2025-02-24T08:30:14.989024Z",
     "iopub.status.busy": "2025-02-24T08:30:14.988757Z",
     "iopub.status.idle": "2025-02-24T08:30:17.287154Z",
     "shell.execute_reply": "2025-02-24T08:30:17.286144Z"
    },
    "papermill": {
     "duration": 2.304411,
     "end_time": "2025-02-24T08:30:17.289219",
     "exception": false,
     "start_time": "2025-02-24T08:30:14.984808",
     "status": "completed"
    },
    "tags": []
   },
   "outputs": [],
   "source": [
    "# filter the columnfile to discard weak peaks\n",
    "\n",
    "cf_2d.filter(cf_2d.Number_of_pixels > minpkint)"
   ]
  },
  {
   "cell_type": "code",
   "execution_count": 12,
   "id": "0c99c301",
   "metadata": {
    "execution": {
     "iopub.execute_input": "2025-02-24T08:30:17.304732Z",
     "iopub.status.busy": "2025-02-24T08:30:17.304457Z",
     "iopub.status.idle": "2025-02-24T08:30:19.203783Z",
     "shell.execute_reply": "2025-02-24T08:30:19.203020Z"
    },
    "papermill": {
     "duration": 1.909123,
     "end_time": "2025-02-24T08:30:19.206445",
     "exception": false,
     "start_time": "2025-02-24T08:30:17.297322",
     "status": "completed"
    },
    "tags": []
   },
   "outputs": [
    {
     "name": "stdout",
     "output_type": "stream",
     "text": [
      "0 0.4325 (1, 1, 1) 8 127755 used, sum_intensity> 55.226\n",
      "1 0.4994 (0, 2, 0) 6 skipped\n",
      "2 0.7062 (2, 2, 0) 12 skipped\n",
      "3 0.8281 (1, 1, 3) 24 104173 used, sum_intensity> 13.542\n",
      "4 0.8649 (2, 2, 2) 8 skipped\n",
      "5 0.9988 (0, 4, 0) 6 17562 used, sum_intensity> 7.386\n",
      "6 1.0884 (3, 1, 3) 24 skipped\n"
     ]
    },
    {
     "name": "stdout",
     "output_type": "stream",
     "text": [
      "7 1.1166 (4, 0, 2) 24 32549 used, sum_intensity> 7.694\n",
      "8 1.2232 (2, 4, 2) 24 skipped\n",
      "9 1.2974 (5, 1, 1) 32 skipped\n",
      "10 1.4124 (4, 4, 0) 12 skipped\n",
      "11 1.4772 (1, 3, 5) 48 skipped\n",
      "12 1.4981 (6, 0, 0) 30 skipped\n",
      "13 1.5792 (0, 2, 6) 24 skipped\n",
      "14 1.6373 (3, 3, 5) 24 skipped\n",
      "15 1.6562 (2, 6, 2) 24 skipped\n",
      "16 1.7299 (4, 4, 4) 8 skipped\n",
      "17 1.7831 (1, 5, 5) 48 skipped\n",
      "18 1.8005 (6, 0, 4) 24 skipped\n",
      "19 1.8685 (4, 2, 6) 48 skipped\n",
      "20 1.9179 (5, 3, 5) 72 skipped\n",
      "21 1.9975 (8, 0, 0) 6 skipped\n",
      "22 2.0438 (3, 3, 7) 24 skipped\n",
      "23 2.0590 (4, 4, 6) 48 skipped\n",
      "24 2.1187 (0, 6, 6) 36 skipped\n",
      "25 2.1624 (5, 5, 5) 56 skipped\n",
      "26 2.1767 (6, 6, 2) 24 skipped\n"
     ]
    },
    {
     "name": "stdout",
     "output_type": "stream",
     "text": [
      "Using for indexing: 282039 npks, minpks, forgen 62 30 [0, 5, 7]\n"
     ]
    }
   ],
   "source": [
    "cosine_tol=np.cos(np.radians(90 - ds.ostep))\n",
    "\n",
    "pbp_object = ImageD11.sinograms.point_by_point.PBP(ds.parfile,\n",
    "                                                    ds,\n",
    "                                                    hkl_tol=hkl_tol,\n",
    "                                                    fpks=fpks,\n",
    "                                                    ds_tol=ds_tol,\n",
    "                                                    etacut=etacut,\n",
    "                                                    ifrac=ifrac,\n",
    "                                                    cosine_tol=cosine_tol,\n",
    "                                                    y0=y0,\n",
    "                                                    symmetry=symmetry,\n",
    "                                                    foridx=foridx,\n",
    "                                                    forgen=forgen,\n",
    "                                                    uniqcut=uniqcut,\n",
    "                                                    phase_name=phase_str)\n",
    "\n",
    "# make icolf filename phase-aware\n",
    "icolf_filename = ds.icolfile.replace('.h5', f'_{phase_str}.h5')\n",
    "grains_filename = ds.pbpfile.replace('.txt', f'_{phase_str}.txt')\n",
    "\n",
    "pbp_object.setpeaks(cf_2d, icolf_filename=icolf_filename)"
   ]
  },
  {
   "cell_type": "code",
   "execution_count": 13,
   "id": "39ea026e",
   "metadata": {
    "execution": {
     "iopub.execute_input": "2025-02-24T08:30:19.222273Z",
     "iopub.status.busy": "2025-02-24T08:30:19.221950Z",
     "iopub.status.idle": "2025-02-24T08:30:21.061343Z",
     "shell.execute_reply": "2025-02-24T08:30:21.060676Z"
    },
    "papermill": {
     "duration": 1.854285,
     "end_time": "2025-02-24T08:30:21.072131",
     "exception": false,
     "start_time": "2025-02-24T08:30:19.217846",
     "status": "completed"
    },
    "tags": []
   },
   "outputs": [
    {
     "data": {
      "application/vnd.jupyter.widget-view+json": {
       "model_id": "33c6867c671c4ba6ac2677e9a9d694fc",
       "version_major": 2,
       "version_minor": 0
      },
      "image/png": "[encoded data removed]",
      "text/html": [
       "\n",
       "            <div style=\"display: inline-block;\">\n",
       "                <div class=\"jupyter-widgets widget-label\" style=\"text-align: center;\">\n",
       "                    Figure\n",
       "                </div>\n",
       "                <img src='data:image/png;base64,iVBORw0KGgoAAAANSUhEUgAAAoAAAAHgCAYAAAA10dzkAAAAOXRFWHRTb2Z0d2FyZQBNYXRwbG90bGliIHZlcnNpb24zLjguMCwgaHR0cHM6Ly9tYXRwbG90bGliLm9yZy81sbWrAAAACXBIWXMAAA9hAAAPYQGoP6dpAAEAAElEQVR4nOydeXwU5f3H37Nn7oRwBALhFuQmBFBA7pIQ/SneVq3VelSReiSAgHhf3FnaClq1Vttqa+vdKiAeHApWQQ4BQRQQkJtA7uw5vz+GXXaT3WR3s9kk5Pt+vfYFmZ155pmZnWc+870eRVVVFUEQBEEQBKHZoGvoDgiCIAiCIAjRRQSgIAiCIAhCM0MEoCAIgiAIQjNDBKAgCIIgCEIzQwSgIAiCIAhCM0MEoCAIgiAIQjNDBKAgCIIgCEIzQwSgIAiCIAhCM0MEoCAIgiAIQjNDBKAgCIIgCEIzQwSgIAiCIAhCM0MEoCAIgiAIQjNDBKAgCIIgCEIzQwSgIAiCIAhCM0MEoCAIgiAIQjNDBKAgCIIgCEIzQwSgIAiCIAhCM0MEoCAIgiAIQjNDBKAgCIIgCEIzQwSgIAiCIAhCM0MEoCAIgiAIQjNDBKAgCIIgCEIzQwSgIAiCIAhCM0MEoCAIgiAIQjNDBKAgCIIgCEIzQwSgIAiCIAhCM0MEoCAIgiAIQjNDBKAgCIIgCEIzQwSgIAiCIAhCM0MEoCAIgiAIQjNDBKAgCIIgCEIzQwSgIAiCIAhCM0MEoCAIgiAIQjNDBKAgCIIgCEIzQwSgIAiCIAhCM0MEoCAIgiAIQjNDBKAgCIIgCEIzQwSgIAiCIAhCM0MEoCAIgiAIQjNDBKAgCIIgCEIzQwSgIAiCIAhCM0MEoCAIgiAIQjNDBKAgCIIgCEIzQwSgIAiCIAhCM0MEoCAIgiAIQjNDBKAgCIIgCEIzQwSgIAiCIAhCM0MEoCAIgiAIQjNDBKAgCIIgCEIzQwSgIAiCIAhCM0MEoCAIgiAIQjNDBKAgCIIgCEIzQwSgIAiCIAhCM0MEoCAIgiAIQjNDBKAgCIIgCEIzQwSgIAiCIAhCM8PQ0B1oyrhcLg4dOkRiYiKKojR0dwRBEARBCAJVVSkpKSE9PR2drnnawkQA1oFDhw6RkZHR0N0QBEEQBCEMDhw4QIcOHRq6Gw2CCMA6kJiYCGg/oKSkpAbujSAIgiAIwVBcXExGRobnOd4cEQEYBkuWLGHJkiU4nU4AkpKSRAAKgiAIQhOjOYdvKaqqqg3diaZKcXExycnJFBUViQAUBEEQhCaCPL8lC1gQBEEQBKHZIQJQEARBEAShmSECMAyWLFlC7969GTJkSEN3RYgQnWd+0NBdEARBEISoIQIwDKZMmcKOHTv4+uuvG7orgiAIgiAIISMCUBAEQRAEoZkhAlAQBEEQBKGZIQJQEARBEAShmSECMAwkCUQQBEEQhKaMCMAwkCQQQRAEQRCaMiIABUEQBEEQmhnNXgAaDAYGDhzIwIEDuf322xu6O4IgCIIgCPWOoaE70NCkpKSwefPmhu6GIARN55kfsG/uJQ3dDUEQBKEJ0+wtgIIghI7MnCIIgtC0adICcM2aNVx66aWkp6ejKArvvvtutXWWLl1Kly5diImJISsri7Vr1/p8X1xcTFZWFhdddBGrV6+OUs8Foeki4k8QBKHp06QFYFlZGQMGDODZZ5/1+/0bb7zB/fffz+zZs9m0aRMjR44kNzeX/fv3e9bZt28fGzdu5Pnnn+fXv/41xcXF0eq+IAiCIAhCg9CkBWBubi5PPfUUV155pd/vCwoKuO2227j99tvp1asXixcvJiMjg+eee86zTnp6OgB9+/ald+/efP/991HpuyAIgiAIQkPRpAVgTdhsNjZu3Eh2drbP8uzsbNatWwfAqVOnsFqtABw8eJAdO3bQtWvXgG1arVaKi4t9PoIgCIIgCE2Nc1YAnjhxAqfTSVpams/ytLQ0jhw5AsB3333H4MGDGTBgAP/3f//H73//e1JTUwO2OWfOHJKTkz2fjIyMej0GQRAk5lAQBKE+OOfLwCiK4vO3qqqeZcOHD+fbb78Nuq1Zs2aRn5/Piy++yIsvvojT6eSHH36IaH8FQRAEQRDqm3PWAtiqVSv0er3H2ufm2LFj1ayCwWI2m0lKSmLq1Kns3LmTjRs3RqKrgiAIgiAIUeWcFYAmk4msrCxWrlzps3zlypUMHz68Tm0vWbKE3r17M2TIkDq1IwhC40DczIIgNDeatAu4tLTUxwW7d+9eNm/eTGpqKh07diQ/P5+bbrqJwYMHM2zYMF544QX279/PXXfdVaf9TpkyhSlTplBcXExycnJdD0MQhAZExJ8gCM2RJm0B3LBhA5mZmWRmZgKQn59PZmYmjzzyCADXXXcdixcv5oknnmDgwIGsWbOGDz/8kE6dOtVpv2IBFITo0hRFWlPssyAIzYcmbQEcM2YMqqrWuM7dd9/N3XffHdH9igXw3ETm2G28NMXrEuk+uwVlUzwXgiA0Ppq0BbChEAugIESXpmhN6zzzgybZb0EQmgciAMNgypQp7Nixg6+//rqhuyIIgiAIghAyIgDDQCyAgiAIgiA0ZUQAhoFYAAVBEARBaMqIABQEQRAEQWhmiAAMA3EBC4IgRAZJlBGEhkEEYBiIC1gQBEEQhKaMCEBBEIRmSCQsb2K9E4SmiwhAQRAEQRCEZoYIwDCQGMBGTFkZKIr2KSsLerNYWyX75v1fyNs1BLG2yrCOMSRqOY9R6UN97S/QsYX52wl7fyFuG2urjFiXPJa7cPt2Zrt98/5P+38kzl2obVRdv659CGV773WPHYvI9a1x22id37oeVzT2IUSMqArAVatWRXN39YbEADYd6uKiEveWIAiCcK4SVQE4ceJEunXrxlNPPcWBAweiuWuhmSLzpgqCIAhCdaIqAA8dOsR9993H22+/TZcuXcjJyeFf//oXNpstmt0QmhHnmhXvXDseQRAEoWGIqgBMTU3l3nvv5ZtvvmHDhg307NmTKVOm0K5dO+699162bNkSze4IzYC6WADFeigItdPr4eUN3YWwCfeFqikfsyC4abAkkIEDBzJz5kymTJlCWVkZL7/8MllZWYwcOZLt27c3VLcEwYNY2wRBEIRzlagLQLvdzptvvsnFF19Mp06dWLFiBc8++yxHjx5l7969ZGRkcM0110S7WyEhWcBNh7qIOLEACoIgCOcqURWA99xzD+3ateOuu+6iR48ebNq0ifXr13P77bcTHx9PRkYGc+fOZefOndHsVshIFnDToS4irjFaAEWUCkLD892TExu6C4JQZwzR3NmOHTv44x//yFVXXYXJZPK7Tnp6Op999lk0u9Vs6TzzAxEUTYzOMz8gtqE7IQgRojG+ZAVDr4eX811Dd0IQ6khULYCPPvoo11xzTTXx53A4WLNmDQAGg4HRo0dHs1uUl5fTqVMnpk2bFtX9NjQi/gRBaK7URXyKBVA4F4iqABw7diyFhYXVlhcVFTF27NhodsWHp59+mgsuuKDB9t9QROrtuzG/xUsMoCAI/qjL/S1ZwMK5QFQFoKqqKIpSbfnJkyeJj4+PZlc87N69m507d3LxxRc3yP7PBc5VodSYha0/mlp/BV/k+gmCEE2iIgCvvPJKrrzyShRF4ZZbbvH8feWVVzJp0iRycnIYPnx4yO2uWbOGSy+9lPT0dBRF4d133622ztKlS+nSpQsxMTFkZWWxdu1an++nTZvGnDlzwj00oZFzrorTcxURQYJQHbE4CvVBVARgcnIyycnJqKpKYmKi5+/k5GTatm3Lb3/7W/7+97+H3G5ZWRkDBgzg2Wef9fv9G2+8wf3338/s2bPZtGkTI0eOJDc3l/379wPw3nvv0aNHD3r06FGn4xMaL83JBdzU+isIDYm8bAjNnahkAf/lL38BoHPnzkybNi1i7t7c3Fxyc3MDfl9QUMBtt93G7bffDsDixYtZsWIFzz33HHPmzOHLL7/kn//8J//+978pLS3FbreTlJTEI4884rc9q9WK1Wr1/F1cXByR4zhXONeyiiN9POfa+fHmXD42QWguSHZz8yLqWcDRivWz2Wxs3LiR7Oxsn+XZ2dmsW7cOgDlz5nDgwAH27dvHwoULueOOOwKKP/f63tbLjIyMej2GpkajEADx8aCq8GiS9v8gqTDF0HnGf7VtGygeNVgqTDGgqlp/vfoaUYuG+zwGOB/uPri/r+9rX3V/dSLQsdVyzBHfX4jbVphiItenuvbtzHadZ/xX61ckzl2obcTH03nGf8/eB3XtQwjb+4wXbdpE5PrWtG1Efv9B7MtnP+EcVzDH471OXc6dUGfqXQAOGjSIU6dOAZCZmcmgQYMCfiLJiRMncDqdpKWl+SxPS0vjyJEjYbU5a9YsioqKPJ8DBw5EoqvnDOeCS6U+jyHSIqlRCO565lz4TQmCIDRG6t0FPGnSJMxmMwCXX355fe+uGlWzjgNlIt9yyy21tmU2mzGbzSxZsoQlS5bgdDoj1c0mjdv91xwESV2ob5dyQ55/7740hDtYXNCCIAihUe8C8NFHH/X7//qmVatW6PX6ata+Y8eOVbMKCnVj39xL5AEseGiI34H89oRwaSpjV2PsZ2PskxA8UY0BPHDgAAcPHvT8/dVXX3H//ffzwgsvRHxfJpOJrKwsVq5c6bN85cqVYZWc8eZcmQs4UjeuexCItLuuId1/TcH1WPX6NYU+C0Jj41wVMDIeCLURVQF4ww03eOb5PXLkCL/4xS/46quvePDBB3niiSdCbq+0tJTNmzezefNmAPbu3cvmzZs9ZV7y8/N56aWXePnll/nuu+/Iy8tj//793HXXXXU6jiVLltC7d2+GDBlSp3YamkgPEI0mxu2x5Ij2IxLUx2Dsr81g9xPUeiGcx2CulTyQzi3Olet5rhyHIIRKVAXgtm3bGDp0KAD/+te/6NevH+vWreP111/nlVdeCbm9DRs2kJmZSWZmJqAJvszMTE8m73XXXcfixYt54oknGDhwIGvWrOHDDz+kU6dOdTqOc8UCGCm8Y78aBY8V+fwZjlCqDzEbDYtdRPtd5TwKgjfnquVMEJoLURWAdrvdkxDy8ccfc9lllwFw/vnnc/jw4ZDbGzNmDKqqVvt4i8m7776bffv2YbVa2bhxI6NGjarzcTRWC2CjEWB1pM7HEcBy5d1ubQ+vc8mdHTaPJZ/9nMH7OMI5piZ5HgS/yLWMDnKehfoiqgKwT58+PP/886xdu5aVK1cyceJEAA4dOkTLli2j2ZU6IRbA+qXOloVaLFcNNaCGst/a1q3rMQRtjXysqMbz6d6u6va1/d1UqetxnCvnQTj3kN9m8yOqAnDevHn86U9/YsyYMVx//fUMGDAAgPfff9/jGhaih7cIqIs4qa+BI+x2q1gAG8pVVdXiWLUfdelXXY8puBjAM8LvzPmsS3xhsDGC4R5XU3l4BTq+uvS/qRx7TZwLx9AYkfMq1ERUBeCYMWM4ceIEJ06c4OWXX/Ys/+1vf8vzzz8fza7UicbqAg6VUFyi3kRSyPjD3a/6Em6RaDcS7s/G9ND3e06CENLBLAu2r3XJJK+P30q4Qram9vy50OtaSkNi8c5t5PoK9UVUBSCAXq+nRYsWPss6d+5MmzZtot2VsDkXXcBNzQIYSXdqOG2EOij7e8hHS7QEs07A2L4QrX+hrtuYaTRZ7TVQVVQ2VUTkNA/Ohd/quURUBeDRo0e56aabSE9Px2AwoNfrfT5C06UmK0aoN727nUg9FGqzSEVjUArHutXgg6VX7F9N1zZYcRzM9WwULuAaRG99ZW43+LVuYCTpKjDn0rHAuXc8TZmoCsBbbrmFb775hocffpg333yTt99+2+fTVDhXXMCRnEYs2tasUPZXV+tdJLapOlWav36Fs896HUyrZP8G2lewLt/aXJ1BW7MaYZ1HqNu1CPf+CTeO91xHLIqCUDtRFYCff/45r732GpMnT+byyy9n0qRJPp+mwrngAo6k6yjSdQCDiQGsSWRUpaqFJZhjj7TV0LsPkXg4hWNlq01QV/u+SvZvfcVOBn1e3MKvvusTPlYEjyUHHfNYG4FibSN1PiNtMT8XEDEsCLUTVQGYkZGBqqrR3KUQgHBi2Gr6LlLWOu/1w2lz39xL/AqEmvrg77vajjcaVsRgLIXhJFz4sxr5PSYvS1uoSUKREk+h7DMYwo1lDNZqGwqRfmES0SMIQihEVQAuXryYmTNnsm/fvmjuVogAtVkuwrU8BbvP2vCXuBDydiF8H0j0BkymwPdBHal6cqG4t/0Ja2/rUU0WwFCFUzBWr9osf/UtaGpsP4jah+HsL9BvJhJJNmIBFBoCefFoukRVAF533XWsWrWKbt26kZiYSGpqqs+nqXCuxACGQsjuwyrfh7OvcJImwgncD7Xv/lxu7n3XJnZqarc2QsnwDfbcBRJqQMixdrW55UO5Dn7XDVGU1cnNX8UFHCm3fX26/wVBEEIh6hbAF154gZdffplnn30Wi8Xi82kqnAsxgFWpy1tcMMH9oRBMYLs/QRXOAzacKeHCdQHX1m4garO41pSJG4wIcm9fWwxgIMK1XtXUx4B1CUMQpeFc20Dfh/oSEeg4a7pWdaWpWWLqs78iks8NmtpvuqlhiObObr755mjuTqgnarJ01Uf7ta3rTUO5E6vuy1/Nv3CTQMIRnO5tAmUiB9V2kDGA3scWqhgM6XrVIEijaVkLtpxNjfGV9YCInrNE65wLQlMm6oWgf/zxRx566CGuv/56jh07BsDy5cvZvn17tLvSrAnHRRhIwERaXAUjCkKNQwyU6BFOPFVN+w704IlEQkGoJT9COb5IxCX6a9d7WW0P5KCzgP0QybhKzdJY5LusFoL9vdTnvROJtsTiIgjNh6gKwNWrV9OvXz/+97//8fbbb1NaWgrA1q1befTRR6PZlXOGaA7YgVx29WEB9Nd2IAHks/8AIiGSD8faBJy/74N58NfFLezv75rWCeRCr4lg3fHey72FWW3HHJQwrlKbsDbCjk318zsK9jiq/l3bMYZzXr0RS1d1aotLFpoG8tuuX6IqAGfOnMlTTz3FypUrMZlMnuVjx45l/fr10exKnWjMSSDhWixqLKtSy7L6HGhrs2BVT1zwXwImlOMLtF9/br1wky3CKZNSk2ioap31ZxGrqa+1ibWaXGrB/JYCbR8oM7lamzE3nP0jgMgPNWwgmGsXSbdwoG1C/W1WJVLW2/raR0MIsebuAq7LOa+v6xVOuyLi65eoCsBvv/2WK664otry1q1bc/LkyWh2pU405iSQUB4a4Q6QoQbE1wV/VqsarUoBLDd1cbd6t1O1bEq42bzhWPuCibsMJKSqCtagrKlBUpMYDXT93N+HZP1yi/sqIj9UK18oxxjsbz1Uq1yg34+/33gwfYuE2AnbWloLwb4oNaaHfWPqS2NFzlHTJ6oCMCUlhcOHD1dbvmnTJtq3bx/NrjRbgnn4+ls/lPaDtS4G217VdiL1Zl9TO4EsgN7fhxqT591ObXGC/paHcy2qWg0DWdyCbS+UdWqy3rr75n0uAoUYeIhQfce6uNqD3W8w4s37PERqv/VFKNbk2rZtCjRn66HQfIiqALzhhhuYMWMGR44cQVEUXC4XX3zxBdOmTePXv/51NLtyzhDqQFXrQzZMgnFPBtOGPytRoHWqth+MNbC2ttwEI9Cquk0Dbee9vC7nPRjB6U981ybK/H1fF8tZMELdn6s66HPj57oGOu5IWKurnhN/L0/hvAzUdK4D7ScQkRAs9SV6gokvrbr/hhaNwbzICEJTJ6oC8Omnn6Zjx460b9+e0tJSevfuzahRoxg+fDgPPfRQNLsCQElJCUOGDGHgwIH069ePF198Mep9qCvhWIWguiAJJAyCHbi9H47hPkj8uThr61+17b3dg2f+Hwm3ZiCCjZGsiwUllH5UFaOhuqkDCdVQxF+wgq4uFl1/xxlOn6vHkPqKS38W80hcu9ruk9rEYaD1I9G3cNoIJ8yipv02tAVULIC1U9/nSIR3/RNVAWg0GnnttdfYvXs3//rXv/j73//Ozp07+dvf/oZer49mVwCIi4tj9erVbN68mf/973/MmTOnScUiQt1vwmCsNG4CDfKRulG9XYKBXJf+XIY+eD/Az/w/km/zwViU/PU90taNQLFjgfoUaLuqy+rqOg1G6Hqfo1CsXLXt01sIRuo3GawgDlWw+Wsz0Dr16bIOhWDiGoMlEpbZULcN120tYtA/ItCaPlEVgE888QTl5eV07dqVq6++mmuvvZbzzjuPiooKnnjiiWh2BQC9Xk9cXBwAlZWVOJ1OVFWNej8aM6EOhHV5+FZNWPBe7v1gr9EqWPn62T8CZATX9Hegdmta33t5IGtoKOfRn2ANJVbMe5tghGJQfasyNVqohOKiDcpy550VHCRBvbwEmWASzm8klH65lwdqK1yRE6zAr024V6UmIR/smFBXoRWOCA+l3VC/i+Q2glAfRFUAPv74457af96Ul5fz+OOPh9zemjVruPTSS0lPT0dRFN59991q6yxdupQuXboQExNDVlYWa9eu9fn+9OnTDBgwgA4dOvDAAw/QqlWrkPvRkIQ6mATjWg3UdjADbLiDb1XREozVzp8lsDZhEElXrD/LmT+BGqqIDtatXLXtquvWxbpWbX/ewjqENgJZ0Go6J0FZxsLsT63LgogvrI1ghGZt4q6+YnUDEWmR472dv+sb6MUlXCud936qjh3uT33EVIYz3jV2i2Jj758QOaIqAFVVRVGUasu3bNlCampqyO2VlZUxYMAAnn32Wb/fv/HGG9x///3Mnj2bTZs2MXLkSHJzc9m/f79nnZSUFLZs2cLevXt5/fXXOXr0aMj9aEgi4QIO1ppR14dSbfsJN47JZ8D3sQAGnzUa1r68HizBrO+9TaDvAy0Ll3DFS7WHa8wNURMj9eFGDXbdqhbAusQp1kRt7UZKuNf3dm5qE5D+xhF/faiLSAvmZSjUmErvbZsLzelYmztREYAtWrQgNTUVRVHo0aMHqampnk9ycjITJkzg2muvDbnd3NxcnnrqKa688kq/3xcUFHDbbbdx++2306tXLxYvXkxGRgbPPfdctXXT0tLo378/a9asCbg/q9VKcXGxz6ehqcnaVNP6dUnWqC9qezDURueZH1QpGBx47thIUts5ryluMVjrVziWkbq44yNBsPsOxyrr73zWZKEON6arxnCDOpzbYO/XQKIo0sIxULv+xFttbvvaPAV1dRWHQygvAVWPORLXubZlgtAQREUALl68mIKCAlRV5fHHH8disXg+zz//PJ9//jlLliyJ6D5tNhsbN24kOzvbZ3l2djbr1q0D4OjRox4RV1xczJo1a+jZs2fANufMmUNycrLnk5GREdE+h0OoFopQBmr3OlUHz2Dj5kIVLaGKn1r7H2ELYG3xfzURqgsqnH3U6zZhiun6fqAHSyC3uI8wjLkhpFlGaroParN4BftbCGRlDlYQBkNN93iw4RiRFDqRejENV/RXpTG+LAtCJIiKALz55pu55ZZb+Oyzz5g8eTI333yz53P99dczbNiwiO/zxIkTOJ1O0tLSfJanpaVx5MgRAA4ePMioUaMYMGAAF110Eb/73e/o379/wDZnzZpFUVERCxcupGfPnnTv3j3i/Q4Ff6Ip0JtrTVahYF0jwcT+1eQ6qes+Qt42whbApvzmXmfRHqSYjppQrSHW05/YDiTAfe6XAHGF4VimghFN4bbnpiYrVUCRG6ILtLb9ei8LNhSirnHCwfbLX1hJbfsOxlIY6WsrCA1FVGMAR48ejV6v5/vvv+fzzz9nzZo1Pp/6oGrMoXccYlZWFps3b2bLli1s3bqVyZMn19iW2WwmKSmJqVOnsnPnTjZu3FgvfQ6W2gazUGPTgqUm4eAtBEPZh/d2wYqVqt81lLXJn6gIJL6jSSQfVMEmXQTj0vT+N5htwiEYq1nVZYFEZSBxU5frWl+iMJz1QxFkNVkug3X91iaoa7tOoVghw0kwqq3tYFziNSHWRKGxEFUB+OWXX9K9e3d69erFqFGjGDNmjOczduzYiO6rVatW6PV6j7XPzbFjx6pZBUNlyZIl9O7dmyFDhtSpnfogEoN8JPYf7Jt2VeoyoFa3AEbGBRxOIkWwLkPvbSJNXV4Qqq0bRtkVf0RaDAcrJOoiBGoTLJG2etbHvRqq4KpLjGE0rm0w91c0+lEf2wlCtIiqALzrrrsYPHgw27Zto7CwkFOnTnk+hYWFEd2XyWQiKyuLlStX+ixfuXIlw4cPr1PbU6ZMYceOHXz99dd1aqeuhDNwB5ONF6i9UCxK4VonwhGwoYiKhnz7DsZyGsng/oZ4AEUrCzXUMjD1eS6CtXoGu00k+lqfWb3B7LM+BHPVuMTaPAz1ZZ0LNv6yPizHghBJoioAd+/ezTPPPEOvXr1ISUnxSahITg7dWlNaWsrmzZvZvHkzAHv37mXz5s2eMi/5+fm89NJLvPzyy3z33Xfk5eWxf/9+7rrrrjodR2OxAPobYKqKtGBjgwK1H8ryUNfx7kckBNC+uZfUKgwiLaTqEuDvr/26PhTCyXCNJKG8lESiL5EU9P5+O03RXed939cl1COc/Ya7LJT2g/UeREpk1yZsQ3FJB2o3UoioFEIhqgLwggsu4IcffohYexs2bCAzM5PMzExAE3yZmZk88sgjAFx33XUsXryYJ554goEDB7JmzRo+/PBDOnXqVKf9NrQFsKZBrqqFrzYxEsx3VcVZJERkoH3VZQDrPPODWl2VkR50w3H31ifhPthqbTeMwsuebevDvX3mOtf3A6+ulrBAbTQWYRno9xtOO97/uqmv46xru+G8aAYbVxrM93WOyW3gUB/h3CCqAvCee+5h6tSpvPLKK2zcuJGtW7f6fEJlzJgxqKpa7fPKK6941rn77rvZt28fVquVjRs3MmrUqDofR0NbAKu6QOpiPQklVs89ANbFyhSpgStUV3Zt+w8XfwLbn+W1LtbU+iIksRihGMDGgl/RHnNDRDLHm5oVxt9vNZz7sTaPhL+/g+lb1fsp0EttsGI23PCUQEQiqzlUROgJkSCqAvCqq67iu+++49Zbb2XIkCEMHDiQzMxMz79NhYa2AILvgOuv3EHVdf3hHlhrilPx51YJ1WUbSKzVxfUZSbdpfRCspeBciwdqKg+mgOe7jolDoVi86/tchRsTG6n4vUgcX2P6PdUkPIMh2HjfunCujCNCdIiqANy7d2+1z549ezz/CqERrHgI90HgHvC8B6xwrAOBxFogYRiuNbAhHhbNZcCNVBmYpkh9WZjr+1wF8+IViFBdl8EkZUQCf/uJ5D7rM1M/nKSUSPchWjSVfjZ3oioAO3XqVOOnqdDQLmA3VQWae5m/9QJ97+1Oriooa4p5icQNHmkrXkMNOqFaUZoi55oLOBSa2rX0jtX1F7frTaSPrT7aC/blMBJCPZwxKVhh5z6WuoyhjckiWhNNpZ/NnXoXgO+//z52u93z/5o+TYXG4AIG/0KttjfxYGJpQnHT1jWOpapbpK5tNgT1aXUQ/FOXpJTmRF2TqkKlvt2akbL+hZqcVts6TSHpSxCqUu8C8PLLL+fUqVOe/wf6XHHFFfXdlXOOqnWx3P8PNis1mESF2kRiuMkNVa2XzXkga87HHi51tUiey6K7vpIWIrHvxkIwL7P+xrhIZfxXHaeDdZ/X9oLfWH7XTeV30NypdwHocrlo06aN5/+BPk6ns767EjGi5QIOJ7YvVFePv0GoPhIsAg1akciEa4yDTWMZiAX/NMbfTLRozsceiGDDXQKNuaGOZ3UV6d77bMreE6FhiWoM4LlCtFzAwVjR6hL3Eq71rmrMYKBt6yN2p2o/6rJ9fSIDsSA0LfyNj/U5hoXrzq5qmQwkBuuChLU0D0QANlFqeuMM5S3Un2Uu2Kzh2jLmahOI3uvWhWD7KwiC4I9A41Ko3pBgXp6DXbc2Ih2TLTQ/RAA2QWrLJqtL3F5dSrz4+7u29aOFDIyCEBrN6aWpJgtafQi1mpbXtk/3+B9oPJexTggWEYBh0NBlYPzV5/OmtgEnlAGptiLS4dAYg5YFQfClOQoJf2NTsJnANa3rT2AGM7aGU65GxlQhWEQAhkFjLANTFX+DVzAxhVXX87d9XQsvS9CyUFekDIzQGAlVNLo/gUpiBWq/pn00hjG1MfRBqJ0GEYDHjh1j27ZtdZ4L+FwnWBdBTXF1wYo+9zbBBCaHk8Fb3wOCvPU2L5pzYWohOoQ6ZgXzsl1X0RZoH/U5g0k47cl43DSIqgDcuHEjffv2pV27dvTv37/JzgUcLepyU/uLA/RX6iCY7ULtWyTWDxV542xeiAVQaIzUVCHBH3UZFyOxDxk3mzdRFYC/+c1v6NGjB+vWrfOZA1jmAq4/GkuSRn3UFhQEQWhMhFsUuq7bhlsztr5ezGWMbxoYormzvXv38vbbb9O9e/do7jbiLFmyhCVLljTq4tXBxgXWtRBzONuHu50guNkXc4NYAYVGRyTHtWDjCIMRgf4SBaNhfRQaN1G1AI4fP54tW7ZEc5f1QrSSQMItE1BTe8G4joNpO9QsYIkJEQRBqI53THVt42ow9Qpr20+gdkKhruXChMZBVAXgSy+9xMsvv8zjjz/OW2+9xfvvv+/zEYInGCEXDHUpzFzXGTwEQRCaM1UtccEm9wUilG3CSTwJddua+iU0PFF1Aa9bt47PP/+cZcuWVftOUZSou1QPHDjATTfdxLFjxzAYDDz88MNcc801Ue1DTdRWDiCYjN1Qqe3tM1z3sYg+IZKI+1c4Vwg0poYzZgYzAUCwFSLc6wYqjh2qi1pofETVAnjvvfdy0003cfjwYVwul8+nIeLpDAYDixcvZseOHXz88cfk5eVRVlYW9X5Ei2DeDkPJGAtlbkwZBIRIImVghHOR+hgnvV3LVWcRCcWiGI44DaUuYiDEeFB/RFUAnjx5kry8PNLS0qK524C0a9eOgQMHAtCmTRtSU1MpLCxs2E4FSTg3Y20zfURy8Kkp+1jEoCAIQnXqS+z4SwIJN24wlClDQ7E2BkKeF/VHVAXglVdeyWeffRax9tasWcOll15Keno6iqLw7rvvVltn6dKldOnShZiYGLKysli7dq3ftjZs2IDL5SIjIyNi/YsUkRoUQpmovD6RNzpBEIToEWgqunDqwgabTFh1f+Eiz4v6I6oCsEePHsyaNYtbbrmFRYsW8Yc//MHnEyplZWUMGDCAZ5991u/3b7zxBvfffz+zZ89m06ZNjBw5ktzcXPbv3++z3smTJ/n1r3/NCy+8ENZx1ReReHvy115t64T6dicIgiCERyTG93DG7FAtgMGsV5fZogIhFsD6I+pZwAkJCaxevZpnn30Wi8Xi+SxevDjk9nJzc3nqqae48sor/X5fUFDAbbfdxu23306vXr1YvHgxGRkZPPfcc551rFYrV1xxBbNmzWL48OHhHlq9EOx0QoGCdINZFoprNlI3otzQgiAIGpEIj6lrjF1dM32rxgr6czkLjY+oCsC9e/cG/ER6JhCbzcbGjRvJzs72WZ6dnc26desAUFWVW265hXHjxnHTTTfV2qbVaqW4uNjnU5/UVBeqtknBw7mha3tri9RNLIOBIAjnMo25RFawVsBQ3Lg1eavqEqMeyvZC6ERVAEaTEydO4HQ6qyWcpKWlceTIEQC++OIL3njjDd59910GDhzIwIED+fbbbwO2OWfOHJKTkz2faMQL1iUFXxAEQYg+TWl8rs3TFIo719+6dalJG8r2QuhEtQ7grbfeWuP3L7/8csT3qSiKz9+qqnqWXXTRRbhcrqDbmjVrFvn5+bz44ou8+OKLOJ1Ofvjhh4j2N1KISBQEQRAC4X5GRKL2a9XkEm+LoNslHIwHSsRedImqBfDUqVM+n2PHjvHpp5/y9ttvc/r06Yjuq1WrVuj1eo+1z82xY8fCLkNjNptJSkpi6tSp7Ny5k40bN0aiqwGpi4gT8ScIgiCES9XnT21Zw1UFXKgJJ4Ged/Isqz+iKgDfeecdn89///tf9uzZwy9/+UsuvPDCiO7LZDKRlZXFypUrfZavXLmyzskeS5YsoXfv3gwZMqRO7dRGoBtKbghBEAQhHPwVZ64tdi/Y0i91TWgRC2B0afAYQJ1OR15eHhaLJeRtS0tL2bx5M5s3bwa0JJPNmzd7yrzk5+d75h/+7rvvyMvLY//+/dx111116vOUKVPYsWMHX3/9dZ3aqY1As2nITSIIgiCES6hZum7rX6jGh0hMFyrPu/qjwQUgwI8//ojD4Qh5uw0bNpCZmUlmZiagCb7MzEweeeQRAK677joWL17ME088wcCBA1mzZg0ffvghnTp1qlN/o2kBBInnEwRBECJDsLOABNomkLWwLgkgNa0rz776I6pJIPn5+T5/q6rK4cOH+eCDD7j55ptDbm/MmDGoqlrjOnfffTd33313yG3XxJQpU5gyZQrFxcUkJydHtG1/1DStmiAIgiBEmlBj8gLNGhIskgQSfaJqAdy0aZPPZ+vWrQAsWrQorELQDUW0LIA1ZVZV/V4QBEEQgiXSz4+6zFwl4q9hiKoFMJLzADck0bIA1pZFJZbA6nSufL2huyAIgtDoCXZiAG/qMxxJRGD0iaoFsKKigvLycs/fP/30E4sXL+ajjz6KZjfqTLQsgFXxl71Vn/sRBEEQzm0iPcVnuM8niXWPPlEVgJMmTeKvf/0rAKdPn2bo0KEsWrSISZMm+czP29hpiCzgaLqA5SYUBEE4twnXVVsf67rXD3YOeyEyRFUAfvPNN4wcORKAN998k7Zt2/LTTz/x17/+lT/84Q/R7EqTJVC2lSAIgiAESzSfI3URcfKcqz+iKgDLy8tJTEwE4KOPPuLKK69Ep9Nx4YUX8tNPP0WzK3Ui2mVg3NRWiV0QBEEQGhOhuHYDxR0K9UNUBWD37t159913OXDgACtWrCA7OxvQpmdLSkqKZlfqRLRdwFXnbPReXtebQ24uQRAEoa4EygIONrkj0PNMLID1R1SzgB955BFuuOEG8vLyGD9+PMOGDQM0a6C7mLNwFn8m+lDnVwx2H4IgCIJQV8KtWCFZwNEnqhbAq6++mv3797NhwwaWL1/uWT5+/PiwpoJr7sjNIgiCIDRGgnk+1TbDSLDtCOER9ang2rZtS2ZmJjrd2V0PHTqU888/P9pdCZuGKAMjpnFBEAShqRDM8ylYkSjUD41iLuCmRrRiAL2JRHCsvEkJgiAIDY2IusaBCMBGTH1N1SMIgiAIjYlIx7cLtSMCsBHjfRNEywUsVkJBEAQhWs+C2oo/yzOp/hAB2Ijx/uFH641I3rwEQRCE+qzJF6i0WbD9ECKDCMAmRtUbRYpDC4IgCNEk2Lp+tX1fVQiGuy8hPKJaB/BcYcmSJSxZsgSn01nv+6paRd1dK0mmgxMEQRCiSSjPnZrWkedW40AsgGEQrSxg95tR1XiISKXXh7OuIAiCINQFt/UvGA+WiMX6QwRgI8fftG/BmNYD3TRST1AQBEFoSAJZEuVZFF2avQC84ooraNGiBVdffXVDd6Ua/ty/ta1f23ehTrdTH9ZBsTgKgiA0LSI5bled574+9iHUTrMXgPfeey9//etfG7obQVFVxFU1ofu7kQJZ/GoyvVfNPm6Im1IGAkEQhMgT7tgarHUulPa9ny/+nmOhtieERrMXgGPHjiUxMbGhuxER/GUIeyeN1CQWgxGMte0v0Pc11XQK1Ia4AhqezpWv+3wEQWiaRLqkWE3Pg1Asev76VXUbeRbUH01aAK5Zs4ZLL72U9PR0FEXh3XffrbbO0qVL6dKlCzExMWRlZbF27drod7QO1Ca8vG+amqx1/qyHVduqadvarIY19c29PFAfatt/qOs0NE2hj4IgNB/CsaoFK/Kqfh/OS36wHikhsiiqqqoN3YlwWbZsGV988QWDBg3iqquu4p133uHyyy/3fP/GG29w0003sXTpUkaMGMGf/vQnXnrpJXbs2EHHjh09661atYpnn32WN998M6T9FxcXk5ycTFFREUlJSZE6LEEQBEEQ6hF5fjfxOoC5ubnk5uYG/L6goIDbbruN22+/HYDFixezYsUKnnvuOebMmRPy/qxWK1ar1fN3cXFx6J0WBEEQBEFoYJq0C7gmbDYbGzduJDs722d5dnY269atC6vNOXPmkJyc7PlkZGREoquCIAiCIAhR5ZwVgCdOnMDpdJKWluazPC0tjSNHjnj+zsnJ4ZprruHDDz+kQ4cONRZ3njVrFkVFRZ7PgQMH6q3/giAIgiAI9UWTdgEHg6IoPn+rquqzbMWKFUG3ZTabMZvNUZ0KThAEQRAEIdKcsxbAVq1aodfrfax9AMeOHatmFRQEQRAEQWhOnLMC0GQykZWVxcqVK32Wr1y5kuHDh9ep7WjNBSwIgiAIglAfNGkXcGlpKT/88IPn771797J582ZSU1Pp2LEj+fn53HTTTQwePJhhw4bxwgsvsH//fu6666467VdcwIIgCIIgNGWadB3AVatWMXbs2GrLb775Zl555RVAKwQ9f/58Dh8+TN++fbFYLIwaNSoi+5c6QoIgCILQ9JDndxMXgA2FtwXw+++/b9Y/IEEQBEFoaogAFAFYJ+QHJAiCIAhND3l+n8NJIIIgCIIgCIJ/RACGwZIlS+jduzdDhgxp6K4IgiAIgiCEjLiA64CYkAVBEASh6SHPb7EACoIgCIIgNDtEAIaBuIAFQRAEQWjKiAu4DogJWRAEQRCaHvL8FgugIAiCIAhCs0MEoCAIgiAIQjNDBGAYSAygIAiCIAhNGYkBrAMSQyAIgiAITQ95fosFUBAEQRAEodlhaOgONGXcxtPi4uIG7okgCIIgCMHifm43ZyeoCMA6UFJSAkBGRkYD90QQBEEQhFApKSkhOTm5obvRIEgMYB1wuVwcOnSIxMREFEWpcd3i4mIyMjI4cOBAs403aOzINWrcyPVp/Mg1atzI9TmLqqqUlJSQnp6OTtc8o+HEAlgHdDodHTp0CGmbpKSkZn/jNXbkGjVu5Po0fuQaNW7k+mg0V8ufm+YpewVBEARBEJoxIgAFQRAEQRCaGSIAo4TZbObRRx/FbDY3dFeEAMg1atzI9Wn8yDVq3Mj1EbyRJBBBEARBEIRmhlgABUEQBEEQmhkiAAVBEARBEJoZIgAFQRAEQRCaGSIAI8jSpUvp0qULMTExZGVlsXbt2hrXX716NVlZWcTExNC1a1eef/75KPW0+RLKNVq1ahWKolT77Ny5M4o9bj6sWbOGSy+9lPT0dBRF4d133611G7mHokeo10fun+gyZ84chgwZQmJiIm3atOHyyy9n165dtW4n91DzRQRghHjjjTe4//77mT17Nps2bWLkyJHk5uayf/9+v+vv3buXiy++mJEjR7Jp0yYefPBB7r33Xt56660o97z5EOo1crNr1y4OHz7s+Zx33nlR6nHzoqysjAEDBvDss88Gtb7cQ9El1OvjRu6f6LB69WqmTJnCl19+ycqVK3E4HGRnZ1NWVhZwG7mHmjmqEBGGDh2q3nXXXT7Lzj//fHXmzJl+13/ggQfU888/32fZnXfeqV544YX11sfmTqjX6LPPPlMB9dSpU1HoneANoL7zzjs1riP3UMMRzPWR+6dhOXbsmAqoq1evDriO3EPNG7EARgCbzcbGjRvJzs72WZ6dnc26dev8brN+/fpq6+fk5LBhwwbsdnu99bW5Es41cpOZmUm7du0YP348n332WX12UwgBuYeaBnL/NAxFRUUApKamBlxH7qHmjQjACHDixAmcTidpaWk+y9PS0jhy5IjfbY4cOeJ3fYfDwYkTJ+qtr82VcK5Ru3bteOGFF3jrrbd4++236dmzJ+PHj2fNmjXR6LJQC3IPNW7k/mk4VFUlPz+fiy66iL59+wZcT+6h5o2hoTtwLqEois/fqqpWW1bb+v6WC5EjlGvUs2dPevbs6fl72LBhHDhwgIULFzJq1Kh67acQHHIPNV7k/mk4fve737F161Y+//zzWteVe6j5IhbACNCqVSv0en01S9KxY8eqvV25adu2rd/1DQYDLVu2rLe+NlfCuUb+uPDCC9m9e3ekuyeEgdxDTQ+5f+qfe+65h/fff5/PPvuMDh061Liu3EPNGxGAEcBkMpGVlcXKlSt9lq9cuZLhw4f73WbYsGHV1v/oo48YPHgwRqOx3vraXAnnGvlj06ZNtGvXLtLdE8JA7qGmh9w/9Yeqqvzud7/j7bff5tNPP6VLly61biP3UDOnARNQzin++c9/qkajUf3zn/+s7tixQ73//vvV+Ph4dd++faqqqurMmTPVm266ybP+nj171Li4ODUvL0/dsWOH+uc//1k1Go3qm2++2VCHcM4T6jWyWCzqO++8o37//ffqtm3b1JkzZ6qA+tZbbzXUIZzTlJSUqJs2bVI3bdqkAmpBQYG6adMm9aefflJVVe6hhibU6yP3T3SZPHmympycrK5atUo9fPiw51NeXu5ZR+4hwRsRgBFkyZIlaqdOnVSTyaQOGjTIJ/3+5ptvVkePHu2z/qpVq9TMzEzVZDKpnTt3Vp977rko97j5Eco1mjdvntqtWzc1JiZGbdGihXrRRRepH3zwQQP0unngLhtS9XPzzTerqir3UEMT6vWR+ye6+Ls2gPqXv/zFs47cQ4I3iqqeifgUBEEQBEEQmgUSAygIgiAIgtDMEAEoCIIgCILQzBABKAiCIAiC0MwQASgIgiAIgtDMEAEoCIIgCILQzBABKAiCIAiC0MwQASgIgiAIgtDMEAEoCIIgCILQzBABKAiCIAiC0MwQASgIwjmHe4Kjxx57zOfvcPnvf/9L165dGTJkCN9//33I219xxRW0aNGCq6++uk79EARBiBQyFZwgCOccS5cuxWAwsHv3bvR6Pbm5uYwePTrs9nr06MHSpUvZvn0769ev55///GdI23/22WeUlpby6quv8uabb4bdD0EQhEhhaOgONGVcLheHDh0iMTERRVEaujuC0OwpKCjggw8+4JNPPuH3v/89v//97/nvf/9LZmYmxcXFAbcrLCxk8ODBfPbZZ3Tq1Kna9ykpKaSlpXHy5EliY2NrbMsfWVlZrF27Frvd7rPtTTfdxAUXXMDvfve7kNoTmiaqqlJSUkJ6ejo6Xf054CorK7HZbAG/N5lMxMTE1Nv+haaBWADrwMGDB8nIyGjobgiCIAhNiAMHDtChQ4d6abuyspIunRI4cswZcJ22bduyd+9eEYHNHLEA1oHExERAu5mTkpIauDeCIAhCfZN94x/46LV7w9q2uLiYjIwMz7OjPrDZbBw55mTvxk4kJVa3MhaXuOiS9RM2m00EYDNHBGAdcLt9k5KSRAAKgiA0A778z0N1biMaIUOxCSqxCdUdfHZx+glnkCxgQRAEQTjHsKvOgB+AIUOG0Lt3b5YsWdLAPRUaCrEACoIgCEIVRly9kC/enBbRNsfd/seItlcTLlRcVLf2uZd9/fXX4rlq5ogFUBAEQWiWdJ9vCfhdpMUfwKcv3RPxNgPhwIXdz8eBK2p9EBo3IgAFQRCEc46htxTQLz+wwAP44YG8iO83t0s+E/vXPU6wrjhVNeBHEEAEYL0xNntetWUjrlnUAD0RBEFoHpz/uMUzzn71Sj7fFpwVeBOGPxWVPizbW8DyrdHZV03YUQN+BAEkBjAijLpnCSbFjKoDvQ2cRtC3MTL0lgKMpS5On6dn+5w8TncLTm9P7DMbpcLKsj0L67nnAsDEAQ+zfMuTEWvvgpsK0DlUz+8B4It/T41Y+4LQ3Bl5+QLWvju92vIuL+xh2c/+4+xWrtOscjlDHmfF149GpB8Thj/labex4VS1j7/lggBiAYwItgRQXNDy3e9osfE4rb44ypd/z+erV/L54s1pbJ+jvYVun5tHv2lnXRJ9Zlro/aCFYTcsIrfdlLPtpSdSnNXO83fWHYHdGGMmVrc01sTEgY+EtH5DMTH5VnKGPO7XkurN+Y9Z6PziAi668qxYnjjgYSb2f4iJybfWuO3oi+eTM/gxj/hzn8vcnjMZN2FuWP0eft0iHLEK1hQdlak6irrosCYpjLhmEaMuW8C48Wfb9f5/TYzJnR9WXwThXCC3ffW4OX/iDwgo/rxxi7/cLvk1ruceey66KvCLeGMVfwAOFOx+Pg5k1ipBQ2YCqQPFxcUkJyfTbdYzuNLMdP6vjU9XzvR8PzZ7HqUdjKTsLK9xoJjYbza2Nol8+om2ba+HLVR0cGIs1KPqIOMTG4qq8unKmZz/uAVUSNnt4svXImNV6j3bwo6nIx8LEwl+MeppPl4zO6RtcttNYdlh/6UNJqbeQcWw80Cn4DQpxBy3Ytx9CGvvDD79ZCYTLnoaxebEFaMPeb+gufnL2upwGsFl0l4MdA5I+smJqoCxTAvAXrXsgRrbGXn5ApwmHY5YBXORE2OJ0/P7EITmwMSBj7B88xOev7OHPclH6x+O2v5HXzwfZ6yOz98KPRkkt/09fsWo+5lRVFRUbxm47n1s2J5Ggp9C0KUlLgb3OVqvfRCaBiIA64D3zXzJzS/gMigoTpXP3/Y/YOQMfowVGx7z+92IaxaF5Sa88FcFlLVRsKZC4n6wJUHsCZWvXjn7dpvbdRqV3Vvz2UcztL+75LNsb4FPOxP7zWb5t0+HvP+6MPKKhcSt/JYVpa+Sk3AzK0pfrbZObo8ZqEYDy7cH17dAA2+19dpNobJ/R8rTjKCC3qqiuFSsKTrijjmJ37g/qHaqMuBeC04zOOLAZQZcYD4NxjJosasSawsjLoOCqgdTiYvV/6luybjwxkU4zQqqDlx6BZ1TxVChUtZOx7cLfYX62Jx5fLZiRsD+jB83h08+nRXycQiCoIVzxJx0sPrDml/YaiO3xwyWfT8vqgJw3fZ2AQXg8D6HRQAKIgDrQqRv5n7TLLRdX0bReXEUdVOwJ7uIPawj7ohKwiE7xzJNbJ9b3VI37PpF2BJ1bHzh7Hd9H7CguKC4tx1duZ4OH7sCuk3GjZ/rY12qKUYmUjEv48fOwXiqAvYeRDGZWHb8eb/r5aZNRrU7WF74YrXvhl+3CEOFC6dJwVzk4NOVM8lJuBn7Bb0wrNnMR/Z/Btz/hIuextrSRGWKnthCJ7YEHdYUHfZ4SNzvYt2/Qhfjw25YhDVZhz0O7AlnBWDCz9r3TjOggqEcdA4VY5mKqdjBquW+Am7QnZrL32XUtlFUqEzV4gl1Nmix20lFSz3mIheKCypb6NA5VGJPOiltZ8BU4sJlUDBUqqx7Q2IPhebJ6IvnhyXcRl6+gIqWepL22Th1vpn4I86wrICghbIsL3rZ83c0BeDn29IDCsCL+h6iR48e6PV6pkyZwpQpU/y0JJzrSBJIBLiq53RWHv4TuV3ysXdshXHPUZYd+H3I7bitOwPutRD/M3zz8FRyW9/lI45ysh7l5/EptPjewdp3p5Pb/h7UsV084i8n5kYKb8hi28u+8S3D1i3ivLkW7IkuMla6cMTqWP8PTRwoVd4BlO9/CtjHSMW86KxOKjISiTse72NpG5s9z2OpBFh29DlyM+6rtv248XOhpRFHjA7VAC6DNtD5syL6bDdhLp+unIlh1wGsw7qh6tEscjoteQcXJG0vDOuY1r8+laG3FFDZQkFxgTNGxXRawZqkuYENleCIgbgTTpwmBUOlC51dZfy4ObgMOs9xx51wUtxRjz0BUEBxgt4KqgEc8XCin56Egyouo4LDrFkvnWaFkg4GnCaIKQRbgoLOCaMvXYA9ThOIptMOcSMLzYZwrXY6p3YPFnUzo7NrVnhvcrIeZcXGx/1uW9WT4S3+AMbe9WxYfQoHG3psfsL8bWdiAKUQtCAWwDpQH29zuWmTWXb0udC36zkTyitQkxL8ukuHXb/II/jcTBzwMMU9UzgyQsGVYif5GxPp//weV1ExtlH9fYRYpBl9yXysLQzEH7JiPFleaxZubs+ZLNvlmzQx+uL52JL1qHqFmJOOWuPqfNpLm0zFoC5YW+gxlbjApXKqp5HU7+whtQNa8siq5TMYecVCylvpqUwFx5nEIMWhCTjzaUDRLHhOM5hKVAyVKjqHir7C5fOwGnHNIk711KGvAGtLUBXNCqg4tY+xGOxJYCgDVad9p7ODIxZMxZrlMGm/k5IOepQzNV/1lZrQV5wQc9pFcYYe0ERp4oHQj1kQGhu5Xad5KicMvbkAe7zCpqW+HpPsYU+iP3KqWghMVS68cRHlbXQYyiG20EXSlmOoJwpRO6VjT43l009mMuhOC9/8yX/stHscr/oCH00L4CffdiTejwWwrMTF+H77xQUsiAWwsRGO+AOqiaOqrP/HVHI73s+y/YvJ7Xg/alGxz9vpqMsWsOb9PPg9DL92EWXtdJz/uIWdj+Z5XClVB7O6oLOr6Gwqpn0nay13M37cHD6pKv4umY/LrENxgssQOKkiYExgfDz6SieGcgWXHoyVLqwtwJakD/lYVi2fwajLFuCM0eGM0Sx1bgxlYLBqfYw5paK3ae9bilMl8dNdfl3b9jgF8ymwJWrCzlCqCT59hZZYYkvRlrvMmtjTl2tCUG8FW7Im9gp76dHZNMujzobWL0VBbwWnScF1po+2BCjpYGT0pQvQ2Vy4TDq/cYmC0NixdWrJ8OvOxM8atJesqgRKInF7HkZfugBrkg57nI7kfU70lS4Up4p69DiOgd35ePWDnqzgsg6Q22sWrgOHULp0QN170GP9c4/j7vEyt/VduCoqNC9DlLCpeoyqHwugKlnAgoZYAOtANN7mwmVi8q0o6Wks+25O4O9bt2TZDwt8lo+8YiFr3/GNdxl0l4XYE05sSTpavrWN4ol96hxbdtGVC7En6Ig56QCdQtz3J2sUsSOuWYQ9TiHhoA3VoPDZihkMubUAW4JCzCmV2OP2arF0/qye3owf8wz6cgf646dZtreA7gsKaP2NWuM2AdsaNwdripHyNnpsiWiuZaOW/GEog6T9dmK3HmDZz38k2/hLKi7JChiTOeLqhVS01GNL1pJ6FBVQIe4o2OPBfqb9mOPa/0GzNKpntKvi1Cx7hvIzsYh6SNrvorKFDsWlteFeV2+FFrts1c4dhB9DJQjRIHvoEyh2J7qDR6u9mA78nQUU2PzHmqsbDLthEU6jwlevaiEz7t/8Bb8uwKXX7hPFBV+/XHPJGDe5vWYFHHMhuhbAD7Z2JT6x+gttWYmTS/rvaZTPLSG6iACsAw0tAP0VQx18ewGtVx2uJuxCxS2exubMwxmjI/67Eyz7/mxNvon9H2L/ZS1J2uvCaVbQOSDmpAOdQ/XJSh2bM4+YzfuqWTYv/FUBOptK0ortPpbIftMsnljI3LTJ4FIpGdkdZ4xCzAkH9gQ9xlInn32kuVwBjMUOXCYd5W0MJB6wBp31mttuCuWDO2MosWMsLGffFS1xxkC79Q5K2xkCuncCMfrSBZS10eMyKpS31Vy16KA0s5K9N2p9cmcD1sTg2woob6tgKAenCYzlgHrW3as4tf/b4zULH6pmZXQLO5fhjLtY1ZZpSSeaGLXHa2IRnSZQFYe2zxY/ODEV2bG2MAYMeHfHTwpCJInU78qdzHbBTZr7V29TAwq3qrHG3gy/bhHr3pjKqMsWUNregMsAqTusQcXPdl6yCH1LK+3/YWTNe9M9FRfciXXRFIDvbDkvoAC8YsBuEYCCCMC6EC0B2G+ahcQDrlqtbhP7zK6xXMrE1DtYXvhiNbdobsZ91ZJWRl+6gJjDZVhbxeKM1WNL1FHeSvFMreT9pjvshkWsf30qE1PvoPyiHhwfYCD2GDUKqEGTLcSecJGwrzRgxrE7oHrchLmYDxZR1iPVE5AdqNSOm1GTFlDSwcCmJWf7kNtjBs6UeI5dkEhFa00g7Xw0z7N+Raqek/2BtpXsuf5Bz3ZZd1jY+GL1Yxk1aQHFHQ0k/2j3WMqG3bAIY5kLW6IenU2tlk3sdsO7mZh8K0pykmfZiGsWYY9XsMcpHhewsUzra+xJLRtxyK0FGCpVFAda1nEi2uROCjhjNYuf4tLiAe3xZxJIzlgkVZ3mEkanlaoxnda+jzml1ZUcfcl89JUuj5U1ECOvWEh5a71P5rkgRJsRVy/kizfPjgWjLltAWVsDTjOYT/v3DPgj2/hLPrL/k3Hj52I6UoK9dTwVaWYqWunQW1Xijzo9oRF1sYxHUwC+taVHQAF41YDvRQAKTXMmkDlz5jBkyBASExNp06YNl19+Obt27fJZR1VVHnvsMdLT04mNjWXMmDFs377dZx2r1co999xDq1atiI+P57LLLuPgwYPRPJSg+HZhXo3iL3uYlkBx+BetfKrmT7jIVwwqrVKB6tXyrT3aVZunOHbPaVZseIzYPYUkfHuU//01nw7/3ueZIWPZd3Pol29hYp/ZrH/9TDZxagpr3p/Od0/m1Sj+ctMmYy5yYU1SUOxO3++8qvO742k+XTkTa3oya96bjqHCxedvT2PkFQsZkzufcRPmcuGvCsj6rYUxufMZcfVChi5/kJO9fMUfwLLv51HaJR6dDezJKon7VAZNtjA2ex76ShdJeyvRVyroDS6f7Vr/61u/x7Hmvels/mOez8Ng/etTWfPedIylTko66sjJepRx4+cyfuwcBt9WgJqqDbhDb9aC0JcXvcyeOzrR42kL/aZaiD1aieKE2JMudA4t5u+bP+VhLnJ5LHNfv5zP+tensu5fU0nab6PFTjvxR11abKBVE35u8ac4z1j6XJqYVJyaSFR1mvUv4ZALU6mKI1Zh+LWLWP3BA3z6yUycZt+hYWLqHT5/G8q16zbi6oWMmlQ3a7PQvHCPV/4YcfVCcmJuBIKbKcdb/A2/dhFr3p9O7EknhnIVa4qCyxzcI85dMsoZo6O4Tyon+sdiS9BeNk0lqk9cbFMJi7CrBmx+PnZVQv8FjSZpAZw4cSK//OUvGTJkCA6Hg9mzZ/Ptt9+yY8cO4uPjAZg3bx5PP/00r7zyCj169OCpp55izZo17Nq1i8RELXBq8uTJ/Oc//+GVV16hZcuWTJ06lcLCQjZu3IheX3syQG1vcyOuXoipxOljSfGuC1W10r0/Jox4ipVfhFd6ZdyEuZiOltY6MXlux/uhopJlx5/3KUidE3MjKypfY8zEeZRkmGi5rdQTRO1eb0zufGI37GHZ8efJvNtCyo82jMU2CvvE0+qrQs++qx7H6EsXoLO6iNl5mLLM9tgSdHz52lRGfTKdI6eTsJ6KocUWA6UZcN4rx1m24xlGXLMIVdGSLBL3lqMrrsTWNtGva2b0pQtQ7K6g3v4DnRNvS13PJy3sejiP3I73c+jyTmz5Q57H8jngXgtb/pDH6EsXEHughKLeyWfiFe3EHClDNepZ8fWjjMmdjzNGhz1e58lazu05E2dqvOe89nrEgvnU2dilsdnzsCUbQFWJ/7kC/fFilv2w4GxiTtpkMBiwd2/H/uxYEveB4lKJOe2iJEN/JulDE4BOI6BoiSI6h+YqNhVrWcYxp1SSfrLhiNPjNCrEFNr55NNZjL5kPqs/qP7AG3SXBb1VJe6og9gvdlYrdyEI4TD64vnEfb0HV4c0dCdOh1VOa+TlC6hsoccZo5C4387xTCMtt2lls6oW3O8zw0JZXyu9nikCp0sbBw/8nlGTFqDYVcrSDVrmfZlmzffnLen7gIVWW/3H0boZfFsB1hYKdmcluxY/GBUL4Oub+xLnxwJYXuLkhoHbGsQCWF5eTq9evbjmmmtYuFDmum9omqQArMrx48dp06YNq1evZtSoUaiqSnp6Ovfffz8zZmg3pdVqJS0tjXnz5nHnnXdSVFRE69at+dvf/sZ1110HwKFDh8jIyODDDz8kJyen1v36E4AD77HQ4ntbNfeZu1RIqIQTH+N+aHf+6zwSt5qqzR6RfeETfPSlNifwL0Y/E1Tdwtx2U7D2zfD0Zfh1mqvy65fzGTdhLsUdTWz4s2a9m5h6B/sn96bTm0c9iR1Dby7wBFqD5gJWnGCoULHHK5waWYl5dwy2HhXo98diLIUdT/n2e9SkBVSm6DFUVC+g7HZv+8M96A+8x0LSTw4MZU6cMTq/wsabvtMtbFug9eH8xy203uyksoWOr1/O5/xHLex83Ld/mXdbcMagzSxiA3ORypd/P3vMfWZqgenuuaFBs3hau7fxuca53aeDXl8tKSYn81EKByZT0VrBVALfPJfHxD6zUX/cx4rK18jNuA81JYFjF7WiuKtKmw0qtgSFilYKxnLN9asawJqiWRbd7mCdTat9ZiwBY7lK/CGbj6h2x1a5XwhAc3Xb4xQUJ3z9l+AC5AXBTb98iyecxM2FNy4i5dtTtb6wBmL0pQtY/Z/pjL50gVaOqYVC0n4nX7w5zW+8dG2MHzeHko5m9NbwEsP8EU0X8CubBgQUgLdkbmkQATh79mx2795Nx44dRQA2ApqkC7gqRUVFAKSmai7OvXv3cuTIEbKzsz3rmM1mRo8ezbp16wDYuHEjdrvdZ5309HT69u3rWacqVquV4uJin09VNv8xz0f89ZlpYdgNi4jdfqjGYxg3Ya724EcTHp2fX8iEEU9R1s4UzCnwYfUHDzBm4jxwnS0unTP4MXo+oc0w4RZ/AB+vftBH/A24T1tn1KQFDJps8bhhDl/dHWfM2cEkaUchpmIXE/vMxmXQseHP+do+geWFL9LpjUOUnd8S0BJKTuRUapl5aKVZdDaV1l+cwFjm4pvn89h74yx2PpZHl5e05AdHbPXjcsTo0NtVdE6VVctnMPqS+Z7v/Im/UZctILfrNM1SOXEem/+Yx5r3p/PpJzNR9YpnsvfcXlqChvvv0Rdr7ertZ121Ox/NY/+lLsrTNLdQVfGXk3Azm5bmsbUgj62WPDYtyfOIv4mpd5DbdRqJB1wkHFSZOPARctMmMzZ7Hsv2FvDpypn0fNLCoDstdH5xAfuuT2fZrrkMv24R4ybMZcII7YG4YtPjfP2XfLbNzyPlB6u244OHUc7vBsCyA79HOVaIsUwl/oDC8UzturT4wYnODgmHHbj0EHNCKx2jr9RiA3X2M2VljJr1sLytkW4LteO+4KYCjzu49P8yyUm4mfHj5hB73E7SXltExN+oyxYwbvzcoFx+Qv3g/s1Hi6rib9SkBXz52lQqOiV7wkzcrmB/jLy8etiB06Qw+HYte9dpVjCVgiNWx/hxczzi76IrF9LzSUtQfXSadBgqVFyGmsumeIfdNCZcqi7gpyHYvXs3O3fu5OKLL26Q/QvVafIWQFVVmTRpEqdOnWLt2rUArFu3jhEjRvDzzz+Tnp7uWfe3v/0tP/30EytWrOD111/nN7/5DVar1ae97OxsunTpwp/+9Kdq+3rsscd4/PHqFeCrvkmNvGIhCbsKsbVN9Klzlz3sSZRNOz1WlJro9PJ8frr1AU9GWk1cdJUWkH+6p0r71U7WvjudgfdYKB9TSuKKBL+B+uHU9Ks6rRHABb8u4PggMJ1WiD8EG1/IIyfhZg7+biDl7V0k/KSj5baz7pHcnjNBp3Dw4jakL9nAisrXqlkHPX1sNwXi43C0SaasQyzFnXRaYWS9issA8QcUzMUqG17y3bbvAxYy/rGPwrGd+N9f8z3zHOd2ncbuyemoekj7UqWom46kfS6StxYGPdewT/+6TgODPmBWb27ru6B1Kst2PAPAL0Y9zcdrZgPadHvOOCMfr36QkVcs1OqNudQaEy/87sPLVT02Zx77/s+AokL8Ph2tv7Xy6cqzBWtHXrEQQ5kTFKhMNVDWTkfcUW06OfMpBxWtjVSmKhjLVC2zuFLl+CCFH6fmk/VbC63f+JblRS+T22sWO+9uRfwB7fyFM22eIACMyZ1PzDothOCCXxfwv7/W/EIx9OYCjo508tPt1a15gyZbiDnpQm9zUdxZy95N+snFF/+eyohrFlGSoWOrl/AMlMwx6C4LpR2gzTdOPn97Glm/1eb3TvjZ6Uk+m9hnNsqxk0GNod4Zx9G0AP7pmyxiE6rH+1WUOrhz0MaQ+rBmzRoWLFjAxo0bOXz4MO+88w6XX365zzpLly5lwYIFHD58mD59+rB48WJGjhzp+X7SpEksWLCAdevWsW3bNrEANgKavAXwd7/7HVu3buUf//hHte8UxffNTVXVasuqUtM6s2bNoqioyPM5cOCA57s+s7S3ypysRzndVU9pjxZ88uksj/i78FcFfD/ZyIrK1xib4ysYqgZFj7xiIcYTRn4x6mlMRVqdjmHX+yZp5PZ+kGE3aMscMQoxp1yk7FI4nqnd8Jv/mEfblGJO9/Cv75cdf56+D/i+Ced2vD/geQFQYsw+f3crKOBYtpXk7xVSd7hovf4Eoy9dQMW4vmQ89y1775lKhw+PE7vjMENuLaDvdAt7f5nGT1e2IfaEyolfD6ZbQQEtP/y+2r4G3Wnh6OXdwelENepY96+pbFuQR4dPbbTYAXvy8rEnQtxxJ1l3+B5H+tpS9t3SWZvhA7C3SmBs9jxKMtsS/7PCj/n5GKwuWm214zIqPuJv/BhNrOUMfszvOXDvK/vCJ1i2ZyGO1ol+LQC53aez7PjzqEeOe5bZE430eMrCiGsWoVjtfLz6QbIvfAJbgo5Vyx4g5rvDjMnVLDE5WY9qAhgtTik3bbLf/hRdmEH2UC2ONGb3cfbeM5U9907l24I8jOu/06woZ+7yte9M47OPZlDexojTpNBqixW9VZsdxJZsQNVD/GEXxV0UYk9q7u6UXQp9ZmoPwIO/7ccvRj1Ncd9WtPlaYdv8PHQObSq7SDPi6oViEWwi1MV6uGrZA9izzmPUZQuIP2zzu86Y3Pn0z7NwwU3ai2JV8ZfbVRNljhgwn3ags6uYilWMJVDeRvvxV6bosCX6tusy6xiTO58Lb/QdW5P32Pj+oTw+f3saoy+ZT9I+G6ZiFb31bHKYvXU8P/22JyOuXsiA+6tbFMfmzGPQnRb651k41cPEgHstDL6tgIm/DD2mMVzsZxI+/H1CpaysjAEDBvDss/6nsnvjjTe4//77mT17Nps2bWLkyJHk5uayf/9+AN577z169OhBjx496nRMQmRp0hbAe+65h3fffZc1a9bQpUsXz/I9e/bQrVs3vvnmGzIzMz3LJ02aREpKCq+++iqffvop48ePp7CwkBYtWnjWGTBgAJdffrlfS19V/L3NZQ99go++eoQhvymgsA+0+Ub1ZMkGy9iceRR1MdHmixOcymzJ//6aT87gx1ix4TEAT22pif0fYvnWpxh98XyKuhm1KceKtHIeADf973a2v9KHpH12iroaafvhAZbtLfCJ2evxtBaLt+uRPAbfVkDL1zb6tVCOzdbqAeqtLo+VavyYZ/hk1YPktr4L1Wbj8C39MJapqIriUzbFXXZm4oCHWb7lSQbdZcERCxVpkLxbJeWHSk72jaWou0rMCYWMj4pxmfQYCss8pWZGXrEQVBVjiRO91Ynhp2M+rushtxZwfKyNYeftYeOnvUjYD/FHHDjNOhyxmlUr8ZOdWAd357OPZjA2ex6OOJ3fuKCLrlrI529Nqx4wPstC+pqysJJyxo2fiz3JgC1Bh7nYyZr3tP0O/J2Fzc/WkDFdpW7ghIueRr9jH8sLX/SJyRtx9UJ+/j8n+27Rrs3oS+ajt7n8xo/mZD7K0REptPvkGMu+m+OxDNqStKnjrClanOPY7HlYWxgwljixpehZ//pUBt9WQOJBO0VdTBjLNUtssEVyw2X0pQtwmpSA9QmF4Mke9iQfrX/Yc++Gyy9GPY3LqK+xNl4wXoZh12uxxOYiFb3Nhb5SG1+8vQ398y1UtoLvHwy+5NDoSxdQ1MlA/BEnervKqfM00dP2y3J0lXZsqbGc6GvCWAY6Z3UvQm2MGz+X4i4mSjsoxJygxnvYHUMLMKHTFD7evzQqFsA/bLwwoAXw3qwvOXDggE8fzGYzZrO52vpVURSlmgXwggsuYNCgQTz33Nl6r7169eLyyy9nzpw5zJo1i7///e/o9XpKS0ux2+1MnTqVRx55xM8ehGjRJAWgqqrcc889vPPOO6xatYrzzjuv2vfp6enk5eXxwAOaid9ms9GmTZtqSSB///vfufbaawE4fPgwHTp0CDkJ5IJLn8SojyHhy72UD+5MSQcDpe2h21+PVHMPZt5tQW9TMVTikyAAmrA7NiHDx2XrLwnEnVHr/vf8Ry0kHNRiVZxm2PIHbfsJq/LQ3xvP8q1PnZnq7azYqTrnsHvaN+/2QXO5JO638slnszzCc8B9For6ONBV6En7n0rcYRvHsmIo7eRC1at0ec8ZtCvTXevvgpsKiDnt9Cm30Hu2llRhbeug1zOHWba3gNxes1ANOg5c0ortc30H3dz292jJE/sX031BAT9Mzye394NUdExm1fIZHsE09OYCdA6Vko462nxjo6ydka9eyecXo55mz5WxtNqExyXtFoOd/zIfpVTP3num+uzP0aUthl0HPA+6C39VUO26uhl5xUIcsQouvcL//qat4y3s/dE/30LscdWzflV6PGPxPBh7z7aw4+k8LvxVAaoOzKedKA6VuG2HfDKaA10DN31mWTyJKt3nWUjaAwarylevaH0YN2EuqqJQ1NWEywineztRkuyeYtee8xNgXuvcLvkcH9/B70M3J+ZGHMP7UtnShKnYgWn1Vo/IdbvSRk1a4BHQQv3hznIHGHpLgef6e1N1ju7aZt9xi6Hh1y1C51A9on7UpAUoLnAZFM9MRAPusxB/2MWJgTqcJpXkHxUSDzpqnKpw/Lg5PoXgB99WwIY/59P7Ic1K551YNvzaRVS20NFid6VnG3ciSW1UFdC/GPU0FWkxHB+ow1gCrbb772c0XcALN1wUUABOG/x5teWPPvoojz32WK3tVxWANpuNuLg4/v3vf3PFFVd41rvvvvvYvHkzq1ev9tn+lVdeERdwI6FJCsC7776b119/nffee4+ePXt6licnJxMbq2UPzJs3jzlz5vCXv/yF8847j2eeeYZVq1ZVKwPz3//+l1deeYXU1FSmTZvGyZMn61QGJrfnTI6OTcMerxXazVhRwkdfhfaWMzZnnkdAZQ97Et2u/Z4khz4zLLTeYiP2++Mcuqw9+grQ21RUHVS00lzX2+dpg9yQZQ8St7RFwAHN7Yq2x+s97o2aMmMnpt7B4V/3xlAGRd3BFesiabeOVlvKccQbMX38jaeeVlVR4V2kOrf79BpnKsn6rQVjuYqhXKv5lzlFs1J+8/zZwbvPLAsdLBuCiqesdhwDHqa8U5KvNfPMVG6fvz2Nzq/MY98tM+i2sABDhcKuh/Po+vsCaFNJm/+aPRZWNxf+qoBjWeBqZWPfTYEtIr0esWAqgi2/P3scEy56mpWfz/a7vltADZpswR6rFYPeaskj2/hL9Od19cQWuhmbPY/C80202G1n1bIHfET/oDstJB6q+eFZlX5TLaTscaJzqMR9d4yjE9JxmrT+j5qkWVhMpSqGCpXYY3ZOnW/2yXzObTeFZYeXkJP5KCs21W5RB6000qn+KRgqVOJ+rmDlOv/W1jG58wPO/+yNO/5R0AgnG9bNhTcu4svXpnLBTQU+LyRVLeVVGXCfxec376bvdAuKC1K/s+OM1VHZQlftpWDoLQVUtlAoa6+S+JMScGo3dwFoQ4X2sjQ2ex6OeD2OGIXYE3aKOpupaA07njm7/cjLF+AyKJiLHGHNROLPiupt7XMzMfUOlLatccWbce35iY8L/xIVATj/65EBBeADQ9ZGzAJ46NAh2rdvzxdffMHw4cM96z3zzDO8+uqr1Wr0igBsPDRJARgoRu8vf/kLt9xyC6BZAR9//HH+9Kc/cerUKS644AKWLFlC3759PetXVlYyffp0Xn/9dSoqKhg/fjxLly4lIyMjqH64b7ThOU/gaBNPaTsFFIgphLhjDr8D7S9GPU1lazPGUieOOD0VLXWkbi3lo68e0R7gvUw4zWfmkS3VZmnwFj5Qvfo9aINwcUcdxlJI2WOlqLOZExfaafU/I4kH7KCqnkSMX4x+hkMXxZJwUMXaQqG0o0r6WhcxxyrZc0Uc5/3lJKrJgO5YYbWi0W46P7cQ00k9ifvBlgixJ1SKJ5VScSoGXbmemGM69JVQ2seG8YgJZ6cKWi+LIeaUk7gtP7Ns/2L6zLRUs+INubWAr1/OJ7fnTA7lpFE5poTWf4+jqKuelB+dOI0KlS11fPNc6A/1nKxHWbHRvxBxWzfHTNTq7plPO4j57jAnx3bEEatwqo+Ltj2PU7Y8jeJuLmKO6+i4vITi7gmkfPgdO5/uSUrHIiq/TmXnY2dmS2l9F2rbliilFZRkaslIzhgFY6nLI8zc7nF/ZTGqztgybvxcytqbiDti9zuN1diceSguFVuigZ+vtNP+bSOmkvAebh5r770Wivo66LBCc8G654oeP+YZVKMOe7ze53fefZ6F8xbuYtnx56u9BFStreiPnMxHsabFYT5RUaNl1PuYUQk4rZcQGv7KVY2bMJeK1sZqoSz+kigu+HUBsccdmD/bUuPL2bjxc6lIMwJa8fT++RbMp1VUBWILXR4r4Jjc+RwcY8RcqNWyjDum+szbq7i0cc0tSt0WPzduC3ppBwWdDb5d5OtdOTDOTOtNLoylTs+xTBjxFMcGx/sVrcGQOcVC/BEnxhInjjgdxjKnlun/hAWntZIfn4lOHcBnvhpLjB8BWFnq4MGhn4Xdh0ACcN26dQwbNsyz3tNPP83f/vY3du7cGfaxCPVLkxSAjQX3jTbg18+gJMRQ0Qpij8OmpWcEQO8HcZmN8N0PQVmqhl+3CJ1dpby13mO1qG16N9DctOYiJ6e7GdBbtXiU4dct4thVFZg3xZO+pozDI+IxlkFlKnR+6Qfs56VjTzASe6iUsi5JGIu1eLnVHz5Abpd8XKmJ6I4XeR7YOZmPsufaFJwxKvoO5cTHWSkujiUpqYJKqxG7XQ+qQmpyKadL47CXG1GKDaT1OIHdpcP8SiqmYiex+075nSzd2zLR5Y+L6PShk31XKKRsNbD52Ty6vDaHhMRKyr9PJu6IQsIhF4l7yz0FlL3PRWFvBdWgkvY/lbJ0HTGFKv/7a77n7bwmF6Jb4HiT22MGBy9rS1mGijPeSdpavU/W8sB7LMQfcXFwopPUjUaKzneRvkpFUbUZMz5boZWsqUw1oHOqGMtc2jyh7aagWm1UDu2OPUHPF2+ejTvsM8tC4gGVFl8cBIeTskEdqEzRk7S3AlWv45PP/M93PPqS+agGBadRmwvV2+0fDDkxN1I5YSCr/zNdK49TaaVoSHusKToqW2ovJq2+dVLYU0+rrfaAsyIMvaWA+EO+QnXYDYswlbiI/eJ7lhe+6Ndd6LZ6esc3Buqn+/u6TM11rpPb+8FqlmJ/+LOo9s+z0P69nz2JbG7cHooxufPR2Vx8+slMLrxxEcnvbfUIfn8VA3z61XMmR36RRlk7yPi0kpN9YnAZoeV2rYZqv6kWOrx9gJOjO1DcRcFlhKQfVVp/epBlewv8tjngfgtxx1ykfH7A50Vj5OULON3NgDO2em3R0Zcu4ERfA+bTBHypDObFxZsxE+fhMuuwJeqrhYNMaHlr1CyAT341LqAAfHjop/To0QO9Xs+UKVOYMmVK0O3X1QUsNB6afBZwY8Bl1D6OOK1+3dCbC7jgpgLUI8dZsenxoN2U9jgFVa+QtuwnQBMjwZQnSThkwx6v0wbJ/Q7GTJzH0SEKsV/Fk7zHxdEL4tE5tKm/vnsyj8NXd2fPFbEUTSlh59Q4DuTAif5mYo6VM+yGRbhSNPGnFml1DkdfMp/vp8Vg72DFFePCfjyG0m2pxGyLxf55KsqmRFx2HYbdsaQ+bELdG0+bT42oRpXiCjMVa1uRuKeUkgwjJ4a1ZvSlmvv3gpu0zOCczEdJ2HHCczxt18O+y3XgUGj7t2/pvHQhcd/G4PwyBVORQovdDpxGhY/WP8zE5Fs9WXi5XafRYlsRzjgXqduhqKsOawsob6Uw6E6LxzWz5r3p1TJXh1+rZQK6xd/QWwroPt9Cv3wLu+9Io6S7E7WVle6vOVBUPLXKcrtr08F98e+p/HSb9gDdc+9UPn97GjqHSsy2g/R80kJ5GwMxJx2YCx2eadSWHV7C8sIXcZl0KGcSDN2utO1zztQRrLSy99bOrHlvOl+9ms/Ha2ZT3tbEqMt8XegT+2luZJ1dK+Gic8Ka96d7sooDZdQOmmxh6C1nH6grKl/zuImXfTeHsv7tWPevqcQdd9Jyu4PWmx2sfWcaGcsKccRVmS6uv+au7f2gha9eya9mlYs5obmgCy/rBeARf+4sZoCKzM6eftSE9/fNXfy5s8X9EYz4AzAfK6u2bKslr5r4AyhNNzLgfgurlj3guae+fG2qj7W3tplhlu2ai96qYiyFY5kxoELST04csToy77YQe0Ll+LgOJBywYSwGVC0Ewi3+3FNG9n3AQs8nLQz5jbbcmqRj2f7FWtIYmvt17bvTSfnRoc2BXYW4Hwoxn4aK1loohz/c0ze6cdd2DcSq5TMo6mTAUOFixDWLfKZRfGvv4hrPSySxqzrsqt7PR7tvv/76a3bs2BGS+POHyWQiKyuLlStX+ixfuXKlj0tYaHzIpIARwGUAT8SgCmXpCvGHVQ78tne15As33m/mE/vMpjIjCWdnEzYFnG21gtZuMdI/T7Mwrf/HVHLTJuMqKoa+56H7+ThqqxTs3VvQYu0BnOM7oqiaCNB1Kqc41URCdiGVG9Lo9tw+KnudcUOatPg95yeptLBqrpWi81R235iEK97JsaxkYo+kYEuBbv98hph+scTuMOKMAUM5WFNVnPEuyts6oExPXHoppm+TcRlh36RkEn+CE4OgS4/DHCtJpKyDkxVfPwpob+NugaFzqGxbcCZeLOM+z7npfO8uio+mkxRbyc4/9qTNJzq+ejWPvg9YiD2scuBaBz3nacW/lbZtaPfXHWT/70k+OvOwmjjgYVxxJk4MisOQVoFuS3w19+onn87y1AcEWPevqZ7p4/ZdDzGXWfnhykcYNWkBJf1UVBVwKpzqaaawn4uWm82aBeuHBR5rR26PGbTZfxCWavtwH6f7+7E583DpFXBqRvfMuy0kHnTgiNVhqPSdfzgn61EOjUmhZF4G+37t2/eqVrNBky0kdk4hJ+tR1NZx2BJ1xB2za1bVM1adQNmaNbnScxJuJj69LcNuWMTxYXp+eODsusu3nC1d5J4Kzz2DgzvOKifhZhS93iMG3ILQWKYdvzsW1DtGdtXyGVx01UIcsTrK2ijVrptQnWWHl1Rb5l17zh+jL55PUVejJ3u1amiE98w6I65eyMm+etr+T4stNZWqQRcAd1vbcxJu5sitAz0JagDWFAXFBcZy7e+iznp0Tq1AefxhO84YHZ9+MpNBky1YW2oJIu6SMzGHjwKwbf6ZeOdbC9BbtZls4OzY6T4GVaegP1PyNSfhZnSpLTg+oSOxPVMxlqm02GXF9O1P/g+iipNMcUJRl+q2E28raqttlT7JKA1BoKLP7mVDhgwJ2gJYWlrKDz/84Pl77969bN68mdTUVDp27Eh+fj433XQTgwcPZtiwYbzwwgvs37+fu+66K7IHJUQUcQHXAbepfdAvn8baIZbyDirGIoWEg2A+7eLYYJ3PQxP8u0bcwcSZUzRBUNzRwOY/5tHjKQvfP1S9nIp3EPbEAQ9TmZ7IvutdmOLtOO16lP2xxB2BhJ9dHB2q0OFTB+ZCKyVd4kCFIyPQpiur0KFzQGrWMY4cTcZ4yIw9xQlxTnSnDbha2OmYfpIymwmHU0eP1BNsP5ZGWWEc5sNGbUBVtQG7sjXEHTnrwslJuJnjvxpIaUfo8nYRujIrrhiTTzLAiGsWEXe4sloSRNd/PINhTyz2JBdxh3SejNSJybeyL68fXf51HGdyLI44I7YUA/pKFxWtDSTuq+STVQ8y4F4LsYUqTiMcH+Ug9X9GTCWuaskbE4Y/RWnnWJ/Ypn7TLJS1V+nx2DZsg3t4hFOPpyzYWriIP6ijsrWK+aSCvkKbSaPVtzbOf3ob6/86iNKOKj9ODfxwdMdYDbjfwpbFeZ5rfuhGKz9cq1nQus+z8MOMPE9/kvY5KWunxxGDZ2o6b4beUkDMKa20zJjc+eitThwx+rAtY+7yHTlDHqe8Qzxr35nGqElawLy+0lXrFHpQPRsT/LvXQUsucBkVvnolv9rcw4NvK6DlG1t8rEuByLzb4gm/EKqTm3EfanGJZ/xxC/CaMtH7zLCQtsFKeVuj5/656MqF6BwqLqOCscQZdvxl74csOE3a+JG814XepmJN1qEq4DJp8/iu/uABRlyziJN9dCTt06zbX72az/ixczxhEDmDH6O4RyIVqTqM5WrAskRDflPgV7gO+U0B8YftGEsdfhOy+k3TylZ992Twv63soU/gTDB67gH3uD/efC2f2v4dFRfwzPW5mBOM1b63ltqZO2xZSH1YtWoVY8eOrbb85ptv5pVXXgG0QtDz58/n8OHD9O3bF4vFwqhRo+p0LEL9IhbACOA0KxgqQGdVSNqnEntSexhfcFMBoy9dQMyhUirTE1AcKquKXq5WHsMRb2DAfRZ0gKpoRZy7z7PQcpdK1h0WTvVR6bjCQfH/dWVi6h2U3NWbHs9Y0Flh55YnmZh6BzFDe+OIN5PygzbXq6Ecjl5ZyY/XzWbE+oXE7T/G+vV/pMvf59D2QxPrX5/K+Y9Z0FvhyJ6WmAr1JO6D1B2VKC6Vj9afHdR7PWLBlqTybenZBIf++RYMZfDNn/I88VgXXbXQk1Xr/cAe/9EzfLLhMXJ7+2bMud2dVbNEW38Yg97qoiRDR+yJs+8nu5aeR5sVKst2PMOIaxaht7qwJun4ukp9uHarCzkxpIU2EbwChZlOTC0r6PXO4yTEWDEZnBSWxmGc5cSgr6TbP5+Bn2OIO6+IpJxKTA4D++7vR/o6zWQwbsJcGGOGBAfl6QbUZAfDR33H0YpEvt3amYrBDsqPZ6D+4hQP9FgN5Gvxc04Xhy5ui8ugicTKVANqK21A3rJYO4+blmj/jpq0gEGfWSjs7yT9G4WeT1qobG+n/6QDHH61C7rck7R8LhnQ4uTs52fw8WrtfFpTFL56RbM26q3OOlkevGu36fYdZu3XZ+q4qYT0sHf3wf3bGH3JfNaeEXa5Gfex7MDvPeWG3MJi2A2LqOxkZODvLCTvteOI1RFvVVlR+ioX/qqA2ON2YnYcCjhv9bku/rzLMwWLzxzZsTEs9z53RSUAKHZnwO23z8vjoqsW0mLTSY+FS1/pQm93URlrrBYG4D3bTW3EnIDyNEj4WSVhf4XPsV144yLPi8AX/9bGqvhDdlDOWDfPiL/RF8+HNnGsf30qPZ+0YPox8P5syWeTB91xjGNz5mHtbaKwj5Efp80g67eWajMnVZ1LvTbGTJyH2jrG50XGemFP+k218MXxl0hO/ndI7YWLU9Xh9GMB9LesNsaMGUNttqK7776bu+++O+S2hYZDLIB1wLsMzKXXP8+xLCPfPVFzJqc37hIgY7PnUdzJxOmeWq0re+5plFUplF9YRsv/xHHy0nLSXzNT3kqPsUJFZ1M9WcDuh8KFNy5Cbz27fNqW61g44I2gj8VdsiPg9xn3ceCXnX0sUP5qFIbbflXGTJxHaXujT0YfwPjP8jn0WQaOOLAnOYk7qKe8k5NWX+uIP+wgbsNejl7Rg/K2sPOxPE9dvtx2U6js15HC3iaKBtkw/2TC2tbBvjs04TThoqc5MjQOBdhakEfPJy0YyqGirUrSDwqnezlp07WQ4i9bY2uh4kq2g1WPqVUFAC6nguO0mbj9Bipbq8QeUtDZtfmEK1uBtaULY5GO5B+rWyjcdfvc02C5MxnHjZ+LtYWB0luK4KNUSjurOFIc6Iu19zbTaQVrSxexR3W0/Z+VsnamGqfS6vynhey7s+ZiyjlDHve4691xg59+MtOTaOGvzEWouEWCO9PY+zzobCq2JIWKVgpxx3zPldtSNeTWApxGhbQ1x/wmFFWl3zRLyA/xxkJuxn1U9k73vFjVlMkO/osv53ad5jeWD87MeLNzb60W1pyYGym7OJOET3awvOhlhl+7iKKuOtI2WsPKMgctdMGaDLHHVZwxCokHHKx5f7pP2Izbhdw/38LWgjwG3qNZDb2zed0Mu2ERMSccPi8pbtE64hqt7mDcsk2sqHyN/nkWtlryuOjKhXz+9jSfbT0F9qtYo/0x/LpFKE5t3O37gMXjkg4U+hPNOoD3f3FZQAvg4hHvh50EIpw7SBJIhFj9wQMYtRdqxkycx0VXaQPunju70vMJC+PGzyUn5kYuumohYyZq9fcOjI8jN20yFW2MlHUAZ5wLRyyUHE5EcUHi6ngSbj3IefcdprStAYNVm9rIVOwkN20yE5Nv9ezfVOriizeneRIiNswYBNQ8obo3yw4v0eauDfT9gd+T8fezMSDDr1vEqfPMdP/XUz7TpuW2m+JJBqjaPuATEJ2TcDOjJmnJDNnDniRnyONMHPgIuR3vZ3+OEZ1DqyGW22MGoy9dQN8HLPy0oQNxhyH2GJhP6Ene62LfndNwGRRWf/AAy44+hyMOkn9UOf8xCy3W7KfXwxZOj+nKif4mYk6q9Jp1EFWBXg9q5oLc3g+y8vPZfFuQR5sN5fR9QBN/rbY52HNfPpv/mIfiVDhdGoveCnvuy6fFVyaMp/S4fkzAVhjDL7rtInvQNlQFknYrVLR3UT60AmsKdPpvMT3+UkziPihrq9D5+YX0eMZCpz/PZ9CHD1F0VQmGm45y3lwLg+6y4DIpjM2eR1m6Cb1dZcv/PQk6+DE/n7i9RmKOKTiTHDhiYe89U4k5CdZkAylvb/Gc24kDfLOjAbq+6aj1d+AWf6AJP7fYc7uTwxV/vxh9Jt61/0MeC9GyvQUMuvPsNFoxJx3YkjTX3/a5eR7x556qa8WGx8ge9iQt39rGN3/K8xF/Wb+tPh2Xm28XaoIeqDYNY2Onom97j/ib2P+hGsUfgLNLOgN/d2ZaykztWvoTf+7xacWGx9DFx9XY5rgJcymZNIjP357G8qKXOf9xC/YEhe1z8zjdtfa6cd6MvnQBPZ/QfuemEhXVABv+nI/OhkcwrXl/Orndz/z/vemMvnQBjljNVRt3zOUj/jLvtniOJfa4HdPxcp/9xW4/BGhWRGOpA+fQ3uR2ycdcpNk97AnaI9BceFY4umNZgwl1WPfGVJJ2FALQfunms8llZ4yN7rG+IXCpSsAPRC4JRGi6iACMADk3/AEAU7HKuPFzqWxp4MhQPRdduZBdj+Sx65E8zHtPsKLyNT5/axpHh5g4b44FVQ+YzcQes5O+xoqxWI/ODphc2EYXk7bmBLY/pHPs/7prc7OmKGxZnMdnH83QXMid0intpBW+dpc1cbsW3bW8VlS+5hFoA+6z0K2gwPNg8Ca3/T0ey0GgeWe9LXjr3pjKpqV5/HDtQ6zY8JhnruJlh5ewfOtTnvk5vRl96QJKxp/PiKu1AfvYzQNZ8950JqbeQXm7WHC5WL75CZbtX0y7dSqxxx1s+X0ey76fx4FxegzlEHdY4eQIGzGFKon7VQ6PURk3YS5pb2nFRrOHPemZOaPLG8dYtn8x3z2Zx/p/TCX2hFaCpWxwR5L2qZ7j9c6U/HjNbLbNz2P7nDz05U4u/JVWC6/HqyXYrQaMpdp6JZ2h/SobPzyQR/sVCjtn9+WTVQN48NdvcN3dK0n7EmI3xhJzEg6PTGLvlSnEnHbR8b8nMZ3QYy6EmENGyja0JOH9RE5/3JbdM/MwVKiczNIeRv/7Wz6l7TRrX8r3dgbcb0FRtSSLmING0Kn0ftDCqd4uKlrp2ffXboAW2+hO0hibffYBFMhSE+5crjVlQlbFEacdh/vhCpqg8S7SHLv9EMYylaIuJs+yPjMsPrGbujKrTwytOwN24wt55GbcR/88/0Jw18PaftxiauTl2otHl2eDP4aGwBmjDdHjJsz1OXf+yO0+HWe8ltjR9Q+LqhXf9k608p5Wr+psLVVfHoo7mYgptAPaPbzzUU2cj82Z57l+VbPS3Qy+rYAhv9Gy/fvnWTjZy0Dbrx0kHHKgr3ThOpM9t/HFPM9sHYCnUPyw6xex+j/TMZ+GmFNO7PEKw25YxMgrFjLs+kUk7bPjNGuCxqVXPMfsFl4VfdIZmz2P4dcu4uAYMx+vmc2yvQXEHdFehtwW86q1D2vCPV+4+7gPTWhN74csrCh9FdMPWnLKmvemk5s22addfy/G9Yn/DGDtIwggLuA64W3OHzv1z575b3NibuTInYNpt6qQkh4ptLpvL3ve7Ubb9WUYfvgZ1e7wxOXkpk3m9Lju2BJ1lOSUEv9pAkU9VLr9qxyXSc/+nBh2z/R1d2TdYfGZa9dNTsyNKHFxZ2N+AlC16PCw6xfhNCue6dC8Y3iqBtb3fsjiU0urtnpfbs5/1EL8YUg8YPfUDgtElz8uovUGhdRvTlI4qKVPzT23K3n0xfM51dOI0wTm0+CMOTvDRk0uL2+3tXftwdoSCLJ+a+HkcBsd/qPn87e0Qsim7ftZdvx5+uVbKBlgI2aPCXMRDLpxK1/81JXWb8T5nSFh0J0W0EHauz+Aw8nuaT1xtLPSpk0xNqcek97JicIEXKVGdOV6TEWKZ5o+0CynnN/l7NzQ7aZQfFFXYk7aMO09zqFLM6hIA2MxOOPA2q2S1ivNVKYqOOKhzUYtw3LtO9P8ztLQb5pmAXWfj/Hj5mD67mBILvyq+Cte7s2Y3Pnai9NFLvbdNc3jonMny1TF+x5wJ9ZUnZEimLlox42fi8ukw3y8PKjC09HgF6Of8cR3VpvCsdcsXAcOBXTZBjtDSri4E0eGX7uI5PX7PfGY7qSMcePn4ojX4zQp6JxgS9RVC0twx0Bn3WEh7rj/gvluxk2Yiy3JQHEnPVvPjFnuEkzlbYzEHnegqCr6Mgcr152dHtNfQWvvc5M5xeKJv626TnkbA/Z4hbjjLvQ2V7WaoTlZj6I7eIzS4d2IO1BK8XmJnsz8qmPPoDstOOLAVKLNNzzoV8+w6bXZUXEB37nmqoAu4D+NektcwIIkgUSCq7rlsfH4nz1/n7oui9JOKt/dm4g+1srJld2IK4WVXzzkSXhwx1ItO/ocnZcuRDXbaftuPDGFdlp876oW7O0utQFwcrjdbz+q1k7L7TqNI7ntPQPdBb8uoMV/v+NbL4GYebeF0gE6us35Fl4Bl1HvGSizhz6BkpXoWXfozQWklro88+NmD3sS+4U98cf4sXM4cmGMJ4N35+NnB9seT2tv+mMmzsNQ7qgWNO6eb3f4dYt8xB+ctULqnCpbLf4Fm6tlot/lw65fRKzX394Pnk1L8+j00gK6/cPpV5zGH3Vw+oSRz9/K186P1xRQHd4/xNGKdKzJWomITX/tT7t9Dlb/50zW5Jnz5UZR4fSYck4O6cRPt56Nqxt2/SJcNxRxbdeN/NfYj/2k0uW8w5TZzPR8+wl2XfkInf48n5+qPPz9CbPRF89Hb3Whr3Sw8ouHGPnmAk73MOCIUzn62wqcO7SHj7f4y5xiwVCu8u2ZTMmB91hAhc01JJW4H7TexbV7PmFh1yO+16as7Vmrw5BbC2j51jafF4dVyx5g3IS56EtNDL69gBaHNQuNP/EHmsUot8cMln2v7T+3+3S++GGBjzBcdvx5zZrtUqsJwYkDHsaalsBndYxnrA/c4g/AafZ10iz7bo5PyEXVDN6qSRnBkJNwM47BPfkpN9aTfV6V7GFPakXXjdojQ29zsezA7z1z53rEX4KeNe9pcXw6mwtTlXbGjZ8LfTsB2jWcOFArATT82kWs+5fvy9LIyxfgSjagqNBy29kifu4XuIkDHmb5lic5/zELOx/Tlhm+PwhoFr2sOyzoHCqJB218unImxZ3OiqEWO60+++r9kAVzIZhTNfHqjNHcxkNvrl4b0JFoxjmoi09G+9jsedqc4nsWcv7bT6D7JpGU3S7MOmizrhD2H4aXYNXS35H8WnBJMnXFoerR+bH2OVSt5NTXX39dbyJUaBqIBbAOuN+0Or34MG3WplQTK90XFKA4FHbPOmsZ1HXK8Jk8HTTryKmeemKPgd6ukviTFZdJR3EnkycjbeA9Fs88mN3eeJofr9MGEbdFy51ZGYjcHjM4nN2Wzc/m0ethC53/ccjjZpk48BHYf9jHKvnjPT18StAEmiQ9t90UjlzZvdrbdG7H+ykalkHC/nKODklAb9dqzo3NngfKWVdcVfxZpLzFrzuGy53BF6gdf7gDvv2Rm3EfaotElm99ii5/n0PLVWZSX/3KM7fx8Ou0rOOq1opRkxaw/2on+26aydjseShOlSMXmKnoXYlaYaBb98OYbrBCShKHctpQngaOBBfGEh2KE1oPO8zBH9oQm1ZGRUkMupNGjCUKehsYLyxkRPpefi5P4eq0DXxf2Y6vCjuxe0sGppM64o5q0wR61zN04344DvydxTMzzKHxLvqcf4Dt33X0JIMMv24R696YyoW/KqCsjYLLRLXp+SCwhTSYQHmA3rMt7Hi6dgutN27rn1tQ9p1uocML3wZlcQ4G970TqAzKoLssxB91+i1dUx9UrQ4A1efZHTd+Li6jEtBl6RFqdcBfAoO/+z8n81EUVWX5Zq2Qtzvc4LOPZnisr97lgPxZ5Sb2f4jyLsmelwf3NRk/bg5FXc1seClfS+CwuyhLM5DygxVHvB7zf79ipSv4bNr+eVrySOxJldZrjrLs+3meewPOZKCn6LAnaNNvWlPAWALxx7S5rceNn8vRwWa2z8ujf54FY+kZt7XX7zoYopkE8ptV12JKqCrBwVZq4y9j/lWvfRCaBhIDGAE6vqbjq1fzueiqhVx01UJyM+4j824LF4z6jlZbtbetzCkWVlS+Vk38Afw8VsFYBqUZ8NUr+ZS3NXG6mwnz6bPFgb0nQTcYtbIN/fMsnrfhmsQfgGrWplQbecVCOr/0g0f8AVRkJPq6jc1mT7/dVB383TF+qtXmEX/jxs+lzwzNurds/2LWvTEV/elytvwhTxN/OVpx2s9WzPCJTfPGW/z1maHFDem9DJ6frZiB4lDpl2/h4BhtcBs3YW7AKv7efP72NIbcWn29IbcWUN6vPSgKXV9/Bv3PMdrMKR+3JXuYFkuX/OluEr7QkkZGX3I2Zm7Ne9PZd9NMht5SgCNOK1y745k8ur4MbT7XU/5ie5YdXsKy7+awZXEeu2fl0XY9tNriImE/HPuqHehUKopi6NX5EKpBxXwKbrz+E4oOJnNe7DFSTBV8VdKNv349jEP/6YTplI74w6C3quR2yfeIv375Z2Oo3DGA7gdc4p5S0j/RsX1fe5K/0zNosrauodLFuAlz+fLv+XxbkOcj/no8Y6HPe4/R573HaLWljNyM+8jtPt0z6wJoRce9z4c3E0ZoMWujJi1AOVNpZNj1i3C0TQE0Qe62sPxi1NOMyZ3v+V1kD33Cx/qX9VsL2xbkYb2gp896gfDM1NLxfp/l3vGO7nvHLf7G5M5nbM48z0w13zyfx4GLzxSt7hJc4eNQ8I7Jg+qxeLldp3ni2zx9/mQmsd8f91nWfcHZ62FN9U3KqFp6yU3OkMDJJFXF37jxc6vd/9kXPsGKTY+fFX/ue/tMIkX5hVo86iefzvLE47nF3/mPnv2dqiYDa96b7okLdl+TPVeaiDvmZOjNBRR10aGzq6T8YNUsogpBiz93gkj8ERdJB1yUpSsc+UVbxuTO99wbAE6Tgi1Zq+tpSwKdHVwm7R676MqFOOP0bJ+nrd96cyUnB2k/6B1P5zFuwlyGX9f4Ykkdqj7gRxBALIB1ourb3MSBj3gGxEF3WijrAC12Vi9ADL5v2UNuLcBpUkj7zx5IiOfksDZ89UrgB063fz5Dm/fNmE470VtrjqeD6m4ib0ZcswhHjOIpLF2Vvg9YKO3qZN9d/q0gE1PvoPKC84jdfshnvkx3rJA3oy9dAE4Vl0khYcthv3N65gx+jBOZyX5jHD3tnClJMvLyBVS20PP1X/I9FlB3/JRP/TMIWL5k4oCHKemR4rGyuC0duV2n8fPl7T1xR4FwWyfHTZhLeZoJU4nTJ2bIu/zNhTcu8vtbcAsOl0HxsTat2Nub+1++A+PQU9x23jqe2zGKTjfs4tDdg6lsoz2kdj2cx5DfFGBPUHxeEkZfMh99pYvTPcwUDrey7ybt2Hs+aSH1OxfHBivEHVRotc2Gy6yjJN1AaUdIX2vjZG9TtRk4xk2Yy8HRZpyxKol7FcrbQuyJsy5af7F63nXr3HGnI69YiDVJV81a7sa7DI373MRtPsiyA79n5BULiV+9i5Lx53vmS269yaa5gGsotwS+1jXvONdx4+fijNOjr3TWWM7EXX7F3T+3+zkccnvO9Psi6I+qpZYmjHjqTJ3OhxlyawGxJ5w+gs3tih99yXwUF5hPVHjOZ00xkTkJN/uNK3Qft7/frnsb7/hOd5F677maJ4x4CluqmdX/me65DzW37ZlZPH5TQEUrhZhClVYbTrF8y5OMzZ6HLdlARaom+MzFLsyFjmoWxPHj5lDe1uQp5j5Bdw0rXf9m+LWLUFwqh0fq6PShndL2RmJPOnGYdSR/thtMRs/vZdgNiyjpoE3H6E5KqWirEn9QwVAJKT/YfDwNub1m4dq7H9DCbgbdZSHlx7PlcCYm34r1gp589pE2B7iqVzCWOCjqaibl7S18cvqvUbEA3vDpDQEtgK+Pe11iAAURgHWhqgAccmuBp3RFbrspqOUVnJrUl6JuCu1XVWL4eifHfzWQNmtPsHz70x6RcuGvCrAlKigObS5h7+mSvHG727paCtiTl8+gyRacRkj+yYHO6vIMjiOvWEj83mKPGHUz4F6LNlPFtHy6/HERe++ZysTUOzh2XW/0Vu1nYCp2kfTFXoiNxdqtFUcHmT1vvm7Gj5vD4eExKA7IWH6K0q5JKCrE/ncD+tQW1S0ZZx6+48bPRTUoPoNp9tAnPFOBDb25gK9ePfvwGJszj5j9p33KfYzNnoczVofiUFn9wQN0X1BAq82qX2HljbuOWPawJ3HEGT1icOLARyjvlKhl7QVwTXrXXuv84gLarq4+yXu/fAutv7XiMuiCCsKvKiDcrr5Bky1881we3RcU0Pk/FXy8ZjZDbyngxEC4eux6PlkyHL1NxWWA4i4K543cy64vu+AyqvT4SyEnhqYSd9zpOT/9pmnzqhpLXZzupiftGyv2eD0VrfSeOYOtyQoxp7RZFmJOOijpZKTl1jLPQ9tNVVHtzcT+D7H7llR+zD97XrwD7d0xXmNz5qGzOvlk1YOMumwB9gQdp87T0WK3C1OJi6JOmqV6/JhnKE83ex7sbmHuFhDjxs/FvHUfR67tSWmGZlH1BOJ7hUN4T7kIVJtdxzt20d/f1a5b2mQO/bIHbdcVU5EeV+O6oTAmdz6nuxl9rFL+8E4Q+cWopzEUW6lsG0/Mz8UoNie29GTPDBnudl0mpdZ+jrx8AfF7i1GOnKh2/w6/dhF6W/XwBzdVXcFAtfCMvtM1C+6YifNwxOlJWLULOqSxfOtTDLjfQmUqxB2FmELtOvZ62ELSPhVjuYvSdD0pu22oRh0lHQw+0xe6f2MT+z8EB4/y8y29SdnrRFXg2CA9bb9y+Ahkb/Gfk/UouqJyjo9pR1k7rW6n+56wJUGrrU7MRQ6/LwYTU+9g1+Pno7MquMwqe++ZyoirF3JigN7z0j9m4jwUF/w8yuT5zUXTBXztJzdhivcjAMts/Gv838QFLIgArAvuG23gTU+TckSP4lQxb/vJM4D2m2o5kwnnO41Q1YDnqkkCE/vMZvl235gub/r/5xG2XvqENpjGa1mpY3PmYU02kLzhMMv2LPSxRrpxD8JV41bcwnX0JfP56ToXulMm0r5UUfUKST+W8dH6h8ntOROKS6olHNQ252hV3DGApi92oJhMHkERbPZioAKrteF+UHgLzlBwu5i//Hs+vWdbNHeRTivc/c1zeQz8nYWY02o1YRjoGCpb6Pnq1Xxyez9I2XktsMfpMJW6qrna3OVK4j7exk9TB6K3QfKPLoq66Gj5nfZw6/qPZ3AVmlFjnSTuNLJtvlYwtzIVkvapOOIU4o46cRkUTvXUkXhA5atX8hnymwKPe/3Lv+d7pvgyVDgp7mTi1PnQw7LXr2WtqoDN7TmTA5PSaPG9g4QvftQSMM6IrwH3WzAVa0WdB95jQWeH5L02ijqbSDxgp7iLkZKO4Eh20v5jPNaknKxHsafG+jyA3ZYt929lbLZ2D1SN0/MWSh7rXeaj2Ftp7XnHLrrvR3cB7rpY9+rCyMsXoLOpOOJ0ATOmfzHqaYxHimvsn/c9OW7CXE53M/PN8zULS+8x54JfF/hk7g67fhEo+EyZCFqMpM6hZbd6447787ZeVo0hdMcyqnoFR6yOEwO00kjubFl3P2KP2SnuZPIpF+RN/3wL7ZZuQJeYyLLjz3teEC78VQEOM6BA3DEnptM2Pl4z2xPz6p6WsKulgJSdCjqnSnFXBcWpxf6hanMUxx11Yjjzcuzuf1WPSk7CzRRdPgBrskLyjzZi9xdxcmgr9FaV5A+3+8Ssjpj4JOtWPBIVAXjNJ7/G6EcA2sts/Ht8/VohhaaBxABGAJde4ViWidIOJo5feh7n/fspctMm8+2iPLYszqPTf04BZ+ORqma7uQwKOUMeZ2z2PH4x6mmWb3/aJ84KNBdbbtdp5KZNJjPtZwbfVoDiAmuyjhHXLMIZo2Pdv6aybM9Cej9k4fCYFtX66YzRsnN3PJ3nqQV40VULqWilMGrSAk71MNL5HzrMJxTW/2Mqjhg8AeXLds3VikX38s0Ijfl2v6cWW2736Ywf8wzZQ32Fpxt3nFBFayMrSl/1sSa5H+juGmTuNkF7ELgp6uKbuD749gJ6PRK4CLDn2M+ERqkmvd86iLUVbP3y7/nY4hUu+LU26fwPD+ShtymUpWvnMOVHO+WtFU+Gc02seX86qe9uA7QahGvem46hUkWxuxg3fq5PQe61706nvLWB478aSOutTrbPyaOilQ7HBSUeIbzn+gdp9zl0ek/LXuzy9zmk7rCiGqA0Q6FkXBmdZuyi/4zNVPaspOyKYrq98TTGcpWS9gq2BIUhvynAmqzDWKpZPBL32+m0zMayn//ImNz5DLrTopWfQauDdul/vqLzX7XYy94PWVi2ay7b5uex9t3pHjejM1nLuW73l2+JPaHFTCkuaPltGYpD5Zs/5aEaFexx0HqLiw4faXPAgvaysmLj49WsL6XpRlYte4CLrlromalk7TvTPP93xwZ6Z9IeH5Ki7dvpxLTxR3Jb30XMJ1u46MqFjLh6oed+3PBnTZCHI/4uunIhQ2+pOQ51yG8KPHF/w25YVK0otapTKG9rIPH70wELWxsPnqrWv9yM+5jY52xm6WcfzWD8mGcYdsMi7AkGTCWuqs34bt/6Lp8XTm/xN/qS+ZRk6DCd9p0uLjdtMt88n+cRa+6Ywu4LCvjk01lMHPgIn66cSfawJxlwr4XV/5nuU7jeZdJR2cpIWTsDJwboURzgMuBpb/h1i4g55cQZoyPpJ5vPvr2LyZtPq6yofA1XRQWZd1uwJxm44NcF2OMUbMkKjliFY1kG9v1fHGMmzmPdG1MZddkCbIk6Bk220Ha9SuIBO6pOIeaE1qapBFxGzfULmvBzh4UA6A4c9enPitJXUVwqm5bksWr5DJbteIavXsln/T+msrzoZXKyHmX0JfOZ2Gc2y/7lG/dZnzhc+oAfQQCxANYJ95tW56efxmzViv5ufjZPq5G17SQVnVJqtGqNmzCXk73N6BwQf8SpWV9KtTIkY3PmUdnS4PPW3Xe6hbKOLlSjSqsNmna3JSok79VqaVW1JI7Nnsfh4SZ2PpbHsOsXUdRFh2qAzn//mZLMtpS11eM0a1OVtdrs8tT18o7d6rxkEe0+x+NeC5XOf51Lj6U2XGYDH69+0DP9nXt6rol9ZqP+dJCDvxvoN/u0Kv7KRfij6lt6nxkWOnxS5DcWctj1i/wen9slPH7cHFRFwRmjoyTDSEUbLbZTUbVSERNGPMWJAfF+s2T7PmDBGYNnisDc7tMp79ma1R88wKA7LagGKOqpTRPXaqsLVYGYk3YOTrbz/dWaGO6Xb6HFDw5sSXpUHVS2UCjNUGn7P5Uv/j3Vx+XpPpbuCwqI73WKfw34M9d/qz14C48nEr/DRGUblZSdCvYEMFSCLQFQIP6IivXMfKnxR1zorS5iD5SyYpP2cnJwrInkH1VabTjN8s1PeGpA5nbJB5OJZbvmMuKaRZS31pHygw2dTXP1uhl5xUKODNWT8r1Kq1UH2T05A1dGBYY9scSeyWswFal8/ZfqVlTv6+623vV+0MKOZ7Tz6i8T2vt+mJh6B9Yh3SlrZyTxJyumfcdZtreAobcU+MTbhmNhzu05E/XIMV9LzzWLMBfafeJOq/7Oqk7rlttzJsdGp9Fq4+laZ/wIllGXLUBnVwOOQ1XjAnPTJlOe1cUz88uguyzY47XfSdVMf/f1d0+36M4898ZdH9Dz97g5GNZtY0Xla4yatICfLoXYgwYccdrLQcouFUOlSnlrHS4jtH/pbNa3v3s/e9iTlHSJI3nbKUp6pFDURU/ZgEoSNsfgMmrWvNhCl2ccvejKhVpijQKGcpdWNkfVXqQNFSpOs4KqB32lSsu3t3H8un5sfCHP57fkHd8Y7HiUdYcFewIkflcaNQvgpR/dFtAC+J/sP4sFUBALYCSIP6DQ9is7phKVUZMWYE3RwclTmNduB7S6d31mVX+jL08zoa+ElN02FBfYEvUcucDM+LFz+GzFDM+g5c5E7fDhCfbeM5X4vXqS9towlagYS8GeoM06orOrnuzHIb8p4LOPZrDzsTw6L13I+n9Mpay7nZiTcHxcOvZ4HZuW5NFitwNDKZzqqcN6fjtGX7rApwbhvilTWf+PqTVmXfaeHdjqte/XM/noy0fQ2ZyMHzeHY4PiuPDGRZ65WSs7JrOi9FU6fFzEiKsXemZyyB76hM+MJO7aZ1WzIgOhO3zSd4FCwEQY74fy0FsKPNM5ueMBTQdP8+knMyltb8SaDG02aH7TL/49ldyu09CfrsBl0oRabk9fi9W2+Xk+80Mv+2EBset3A/DNn/LYtCSPPfdOZdfDecQdqmDdv6ZiPnia769+mL7TLfR62IICnO5uQHGpOE1QkabNiIKqkvVbC+UDO3jaN1Rq73M/TM/Hvj6VN4oGU7QzFZPeSbeORynr7MTZ2k5ZBzzTVRnLwFABhb0VDBUqqTutJCzbSkmGgSOjUhj4OwuHRppI+V4l/qhTE38DH/E8mA9NOlva6It/azPEfPbRDEo6x9BnpoXMuy10XrqQuH0l6CvBmqJg7d6GpB+h7TtmbBlWTvezUzTAji1JoV++xWPRc+P9kDUXWhk3fi47nsmjyx8XMeyGRdXEH/jOdrG88EVMJ8pJOGDjxIAYTwKS4tRi2MZNmMuoSVpMYrAZv+5pFpftmsvyopc1C1/7ezznoWrSkft3lhNzIxP7zebIiBTPdxP7P4QzNZ5WX9cs/vpOt3gsh96WsEDY47WXlkAsO/68j/Xw+KXnEff1Hs/fhgot3tRhxjNtoxvFpIkLd9iDrVV8tfa9xR9oWcFu8WSP05H2uR6dAwxlYDqtZeOu/8dU2v19BzGFKsuLXmbkFQsZcJ8F8+nqUxl+tP5h1r8+le9vS+XIMB2tvrWRttyM06RZFB2xmocGtBcCnVNF1WnWVlWvsP71qZiKnCQesFPRUsERB8ZSFZdBoWxcb2JPapbPkg56jyfCu96qP/Hnbel0k7TfRqutVmJ/Lq32XX1R21RwQ4YMoXfv3ixZEn6Bd6FpI4WgI4D5tPbQdWc2jrx8AScuOY+YQidd/rgItb2D1v+tbnbX2VTsbRVO9jWR8LOL2ON27LEmz6DpthC43bCqSbtc2+flMWrSAko66DBUwOn2Con7dZiLXHz6vhb/UtZJ8by17rtbixH8acUM8BqbcjIfxdEtEVWvza1b1MVMzCn/7qKqcX7uxI6Rly8gJs3/z8h7lpDTPeP9ZjaXnZnqrKo4K+0Sjy6jm+dv9/fGsrP9y4m5kRO/HkxMoZMv3pzGxAEP8/2MWLq8pPBJlbg1xeuwqgaoTxjxFPqSSpZvfcrTR+/kAVdiDKBNNzbgPgtx3x3xCIifL29P+ooTVLSG9M/tLNs1N+AsA7m9ZlHZMQXbuJ4MutOCucRFRUvN8nB8mIPkodoDtGhga4Zft4iWpU4tkSPfgqkEylvpMFSCuRAq2oA9UY/LCBtf0KbTU1q3pGJkG3IGP8bJgUkY4xRee2csJhuor7XmwPkKA0b9iEnn5EBaCkf2tCRptx7FCQmHXJS113GqF4AJU4v+fo/BzeExLRh0p4Vv/pRHi12aIK6aSWo+7eSrV7ysaXdDn5kWrKnw82Qb1uMGzMf0KMVGkn7UoerAngj2BDjZ1+zJsHYnLI0f8wyfrHrQcz+MHzeHvZ/OgnsCdlM772cysU9mJtPq61O0fek7cv+tZQ2f6qXwv79pgmts9jx0NpXKHmmAbxKLtyVr/Lg5WrJAVi/PdV323Rwfy6W/mn5uC6BbQHhPKVbbNG+Dby9gw0v5bFtw9posL3zRJ3HJO+PcjdOseF4M/SUz5KZNRs1I8/wdd9x5dkrI3g9iH9va813VRJJlx5/3JM1cdOVCPj8jeAPtqyqxJ+yc7m7GZdRCNFwmaLnjjMhzOok7qv3fHd857PpF9HzSQvwhOJnlQLHq2DdFE2Cd/6sVe2YqnvnQXSbOhMlo08etf2uap+qB9iKpY+QVC9EpoBoUYk6rxB13UtlCjzNG22/Wby1ceOMiWpx0oOoVRl22AMeZcBvAr9XT2xI8bsJcTvYxs+XMeKNZ58KbejFUHC4diqu6jcdxZpkUghbEAhgB7AkKq5Y9wAU3FTBuwlx0dhVbggKKwt57prLvlhmeoO6eT5y1lhkrtLkwVZ3mytVZnejtKsNuWERux/txmX3f3Pf/Xwrjx84ht/09uPQKsSdVKltBwgEVnR1sCTq6/fMZYk7Yab3J7mMBqVow2V0PzZ6gw2nG82asc6h0X1DAyCvOZsN6x8flxNxIj7ee5OCNPei2sICSDANp7/+gtXnJfB/LjfdAGKisTasPdvtdvu6NqZ7+98+3eGICSzL0nnmHV1S+xsYX8jzntqJ9IntueNBTeNbN+Y9pbtgeT1uY2G82iktl+HWLPOVXDmTHYz9jvRg/9kzGsc3OiKsXau6ejY8zNmceF964iKT9Tk5f2F6bX/S6RWwtyGP59qdJOAguo0L2sCerCaehNxcwNmceqtmIzurEVOKkpAscHusi/rATnf3MvMAdVHrPtrDujakkbz7O6g8eYOKAh7G1AFuy5qo/fb5KWXsVR4ILcyEk/6i9fKg2G9gd2OMUXDFGNryUT+pOG7YUF7HHIP5nG4n74NCfu3Jg6XnY3m5D6lY9rb610mZDGU4TOM0qjhYONryUj7HCRecXF9DjGQsjL1/A0Fu030SfGRa6z9OSOv6fvfcOj6M81/8/M7NdvVmucu+9V1yxpYVQAgQSICEBnJgQgleyXDC9uagshBBISAgklBAIJRyQZONecTfGvXfL6tLuasuU3x+vdqS17OScE8L5nvPzc126LEurLbOz8z7v/dwlfXcDAL72TU18i+bv2onPUd9Z/DwqZAER2xd/ChI+iyfxoELqPp344zLhRMFRlVRwlgsVZlQNf/yhPHr97RlOXu9g7J1FJsLS0mD40sdpWdGmyNZggGFQ5nuTxkGdAIg/ickJXbVsHqtL5pqfFXtdMzumvmuzv55mV1ixagHBDPGzlir1aAUHdyF7xJMmmuju8FArmkHL8bg784Hmc6+pWiJ8lwotQHgTtlStl5x/2fS9A+i/wEs4QUKzSQTatEYBZ4x6msDwrmguK+5e4jVHm7zs+Hso2fc8htS0eZLFCL+lf2C/R8S1bMqMJTEG65dr/qJTjJYViVNwVOvIYdCtBmqCjq+9he7vPcfZmQNxHa0GhACr60tFJK89wcHHPCQdDXPy/nz6vFZnPldJNXBnzBJIYY2BEgaa3j45AvZqFXeveUTiJCRdXHNDSRKOi0HWfDaXtZ/ks/X1XFx7y9Gs0G6Z4PnZfDrheBlfRyu+9lZCSQqS0SwKq++THHPNi05KJt5YwJi7igglWUjdH77iufnvrH+GAF6tq/W/EgFcu3YtBQUFbN++nfPnz/PRRx9x8803m783DIOnnnqK3/3ud9TU1DB69Ghefvll+vfvb94mFAoxZ84c3n33XRobG5k2bRq/+c1v6Nix42Ue8R/X+qIHGf2jYhy1wkvM3eEhApld0axSDF8EoMO65ggi1SGDDHIIavqApDlwVmnE7Tkf46kXrcb2GhVDHHy16iV6LPUiaWJsEkyVsNUL4rJi0fC3c5D24dcxasZo5um58VY6rgqhJVlo7BSP6pCanO+FDYJmk4ikqsStaW7Mguli8Zg2dREroq/lVvHPqB8Xc3xWDwDWfDaXSdct5dqJzxFKs6NZJRo6ytjrDex1xmVzcS9FSS6tnNSZfFX9GjTx651VBpvezYvZeU8f9yz+jk6CWVZG/7CY1O2VJnrn7j2f9AHpBJNlMtZfRM1IoKGjjbjzEeq72hh3RxHtKyOsWLmA6eOeJZzpYMzdxShD2yLpBgH3UCbdUEBDNxvV40IYIQVLvYy13obegl6z4xXhxxe3r9782Zi7iwm0kWi/raqVqnvwL73olRY2fNAaZRv2gBfNnck13y3E6bKhhAQyJungvCChOiHYVkeNA6NpvCXZbDQMaYvqhNPTXAx7wIvUxYbFBw1dAcmOrUHYU4jGVyGUJFExyA7YCSeBowISdlgYuM+LtYOF3q/WcugniTgqQqz7WNACBj/sxXYKqgaBo8YFCPFEy6SQkT8pZuvahXQvKmbG2GdY1yKZQrNDwmmNcKKMrd5AVsV7qoQldKsY2aUcjBBOUsiOv4cDv+pPm3UWDv3xMeGtmSkRvn0gU6ctpqGzja2v55qxX3FXYDNnO+5C7pqF1D8NqUIIslaXzGXM3cVYFJArawGxaLtO1pvnVXS0OeauIur7iL3y2B8Ukfz1WQDiD9Vc/gER74uZ1XwJz27GmKeJJNqxbdyHzz2IDe/nofsDyJFY9N1M5mlC9ibnLMG554ypym7poxlF21tu+pKO6TR0kNFsEH+hNbIfVcNf1v5IVclJnUnihF7UdbEg6aA0apRtfYIZY58hlO4g8D0NY78F3S7HJH6Yzyl1Jhfu7Ee7ZRdYdqlwJWMWoet6gSTG8BggB2VsPoNes8+BqqF1b4+793w2Rz0Tm5Be28Z9ADT0TALEuW87cMY8xmPuKkLSxfVMUsHeIPi6JYeWMHymF90G9noDSSeG7pIdfw/BKQPEsT24mGtuLsBqgK1BJ+ISnESrX0cO6djqxcm28b08U7g24dZCrDRZ7zhllDD42wnLJenyg5V/a2mGhGS0xni0qw3g1Wqq/5UIoN/vZ/Dgwfz617++7O+XLl1KcXExv/71r9m6dStt27Zl+vTpNDQ0mLeZPXs2H330EX/5y19Yv349Pp+P73znO2iadtn7/Gf15Z9yTZuA89/tRn0XCclonc/bmNG8E1cdEoYMmg0Sj4nbx20/ZV7YcwYuFHmsCEQlab+CbhEX7CNzPWTs0rHXCoI2kkA4Ov7WytY/5iIlJVI7oo35WCtXzGd1yVwOPepBc8hY/RqROBnNAR2nnSKcBKoLGjrKdH3fiFHobn4rl4k3FrBi5QJmjIlV+G55I5d2G8Im8tCQZaUx00H8xqOoLok9xR4STkXM5m/wL5sR0OkTmpuiGWOfYcR9xQyb5aV7YTF9HxO3K61+zUzvmHRDAUpIoHeRFCcTbi1k4o0FIEskrTqMpdEg+f3tEGxWDZZPzWT93+aQvrmKkoOLWb5+IVv/KJqGHa94kCOGydVavvFR1n00h81v5bLh/TzquihUDlBwnPOx4xUPnT60kLTXQrv1Oh3WBrEKAIIxdxcz2b2UtJ21MebXKVvKSd0fuaylT/v3j5g8SCAmoWTHKx4ydgRY99EclFMXsfih63sVuMpBCYu0AqVRRg5Bu3XiSVR+ty8Juy6Q9bdzHHjKg6SJDUEkRcNRKVItApkyk24owJCgMU2YOTf0UWnoo2L1QeJJncZ0Cc0O1oBB2fan6PmWn8P327jmu4X0W+gVaHU8WOsl/JkKE28sYMR9xTECmK1/zCU7/h46l4YJJwuUbNgs8X4mnNGIO95A6s4atv0+FyWso4QNHDWCz4ok0Gh7rQZ9u3Hy3rnmaDXxZJgOn10g4UwE286jqE6JPk956feIyP81ZMk8jqPuKWbCrYWMvbNIJPDsX4QSMdAbmjlYm9/KxRowOH5fF0Cosy8d5wFsfjsPQxbjPqtf59yt4vaNnZNb3TZaJ25pXmSjjUlURb1s8+PYqgKU+d5kw/t5ZI94EjnORShN7CiiPEIQSH0UwVxdOu+KZteXxuNNyV5CJE5CiQgETLXLuHtcXtwS6p7eSrlfFnyb0urXCKYKmkE4GTPzedmmxzBkaFdiBcMQWcCXyYsurX6NXb/2XFZVXZPdC9UpYa/TkTSQVQlLo0DmSs6/TEnFq0SS7Ca3tCVPUU6IBzCvKUb3jgSGdTbV85pNQlfAEhCflWCyzKqyeUy4pRBJN8xUGltD7LU+OKk/rs1H2faHXMb+oIh1H+cTTlBwbTvBxvfyxO0NAyWkE2hjNTmB/m6iEV3/tzmsWjYPx7kGVJdMOF4i/pwmJizqt6+1vIoAXq1/Vv8rG0C3282zzz7LLbfc0up3hmHwwgsvsHDhQm655RYGDBjAm2++SSAQ4J133gGgrq6OP/zhDxQVFXHttdcydOhQ3nrrLfbs2cMXX3zx33pOLYm/jlpxkfG1l/+hvUh0HOGsMEAC50UVIyMFd7sH6fOkWDCTTqiM/mExtb2cRBLg6wIPJcfEwqZbwLCIhd6IjpITBairpyWRtLeWMXe1jiiSdGhMtxBKEujAkbNtBAqYgjk2ubTW/j2fiTcVUN+9NdF71bJ5hBNkBv9SOOJbgjrIMlveyGX6hOdi+IO7f+Vh4BwvA/O8qC4L2fH3MOwBL+FkO7pNYserHo7OyWX/Mx7cHR6i9zNeIi6Jrr8u4vRUBatPExfj/adZ/7c5hJIVjt7mpNrdi8Z0Cd93hnL8ng50f+85uryxhJoJQXou9nJgdjK9n/bi7vAQ1058jvG3FZIz+DHiTvuv+P7sKfLQfn2Qgw+56PJb4RumWyGcKKM6FFwVBtlrZlPVX+L4rRI1A5OZPv5ZOv++gB5LvNQPyuDMFCsD5nrJ6b+Qfo94GXF/MT0Xeyk5/7I5Rrrm5gKSDwTIHvmU+X5Zj14AoOTsS2g2uDghg8TjYey1BgmnDCx+CWsAagYIDk/ae7upGduOk99vz6h7iom7oJJ8OIzzrFjAR/24mMQTGqpdonyEUF12+90JunxocGJmPl8v9aA6BArX2E6n/NowQx/0EspwkrLNSk1PhbjzBppdnHMJpwzSdwkrmqqpzaj2DOv3cXebg5wQTyjJgrMJLdvxqoecpHvxt1Uo2/kU1UNTcGfNNkeO4XhJ5F4bgq5gSFDXSyz0UVHO6lKBaDsPV1Ba/Ro7X/Zw4AkP+5730OcJL3VdFIKpEoNyvYRSJJP8HxVNOM/6zTH1mLvFWN5Wr9L1lUNXPAda1tlrU6nuY0HSBLcrEiebY9uWfL6xdxbR841Qq79vOSKPCj3cHR5CaoxgBEO41h0y3/NoRdW40coZ/JgpiPpHtapsHoYMVr+BrIlmJ9g9HaCVwGbl8vmgNDcFLYVMqkP83NoEbLuO1zF12mKURh1HtQrSP28mBnm8ZuRf9PGj6KqkiwuO3NSotizVJXjTPZZ6YzZR4d4dYm5XtvUJLH7VbLStfgNLI0gGWH2ghA2mTluMrU5FMkR8oRwxkMOG2ZRPdi9Ft0qEhnRh6INeHNUqE24tJJgimQ240qgTShLP6cs/5/Lln3K55ruF6BbJpNSMvLeY+j7JyGEhJAmkKyhBYbD/z+ILv+lSdfmKX1frasH/0hHwP6rjx49z4cIFZsyYYf7MbrczadIkNm7cyM9+9jO2b99OJBKJuU379u0ZMGAAGzduJDs7+7/8uOFRvWL+7yoHZ6UWk9vp7vAQie3SzP8nHQ9TGWdr8umSqepvpdN+H+U39yD+jIGW6MRWHWLNp2JMMfqHxWYagxI0CCcICwNJFU2grIld6IRbC4mTQTpTweYmRGOyeykVswJYv0giKcrrkYT603HQgSGLEHRkaOhkM81gp8xYIlRzVpm1LYxcR/+oGFuDjuqUhKLOCnHlOr4ONiQN/Nd1x50xi+UtRl+Trl+KozzAnm1PMuQhL2em2ojcNIgTDwpxheoUvCKrXzS+xqjO2Goh0A7koHDclzSRA9zwlBCIJO+t48s/PUWv572E0zQaekHnv0dY80QzYiDMX5ue+yUe0KN/KBamaFRZyxr8Sy/JToW+j52lZlJnxqwrRs+SSDgVYsXKBQz5hZeySS/ApKY/uD/2vgc/7KXbhw00tnMRbptAYzudYIZEwnHoXlSMo5NYPNd9nG8a04LgpGk92uFu9yAn7u9BeGgj/norlaMl4g9L2GvF2MyQweoTs6Voc5Ez6FFKv3qWYT/zorpAViH+jIESNlj/ofDLS98jDKEP5nUmbbdAmQJtLSSeDBN3USH1IChBiYtDms1vJ91QgGqXsNfBmRwDQ7EQSk5g8MNenPEOOv9hKSfvm8uyyF/EuZ41m/jjDTQOEIv1tZOe54u6102vvC1v5DL+e6LZbWl1JIfFSD/Yw0XqxvNAM9cvaiZ8acTg0J97aXNWJe6AQHkH5nkJZkA4QcZ1Aar62xj9w2L8U5Po/bSXg497sNVryBGdcJIV5OYF0Z01GwyjVba2vVqMqv1tJVIOhQmmWklae4yS8y8zw/p9VkT+YopUNr0jTKWvFK8WrZzUmUhxLrRkJ8v3NiN4l8baRUUVk3OWsPoyCCVgWrEMzPMKE2M/YBECEIBQsmJyEC9VJ88Y+wy6rVmkpiW5zLFz0rEw1X1tGIrgL3c5dppItwFXTAUZ9jMvlqARE/X3ldfDgHyvac4dfXxXhYhNHDzbi9rkAyhpzTvQKFB1ZG7z53LIL7xkXIKmufs9gtGuWcyw8a95jLi/mLBNamp+BcofbdaUkKAeWBsilPnexN3pYYITs7AEDVYub0qZOVPLqoOLY7KjJc3AWa2huZqPlWv5Hqq/NxhLUGw87EAwVUZ1CM6urQ6Sj2pgiOnI0I++HQEIgGFIGJdB+4wWKuCrUXD//67/cw3ghQsCOcnMzIz5eWZmJidPnjRvY7PZSElJaXWb6N9frkKhEKFQ886+vr6Z7xVKsphcn0CGsBMItFWQ1Uwm3FpIQweF3WdfYtjPBLLnzprNqlMvMO6OIhJ3XMA/MBNbg8Sp73ei3cbGGCPbqdMWo8YpWOwypdWv0ecJL+0bVCJRjydZLJyGLBozR9jg3KRkUg/EMeGWQjEeVnX23vQk3CQQEUMWF9hwEiaSaEjN3wddEpNzluDYdsQcB/df4G1aCDUURSKUKOOsVKnpbRV/a5WQdAPdLpHx9i5KfG+S7biLkwtGYK+B3Z81oxm7XvLE8IZ2v/jPPQABcl5dyJ5lz5nHsKyJK6kEAYeGYteo7iMMiEfeW0w4XsIlw/jbCqkYpmCrFdYs0YpmILds/mZYv0/ND0fR7ssq9Dg7OB2odrGQdP64mV+469eemHg0d7c5BPq0wbn5MOGh3dm9Yj5TZizBVhdBs8mk7JWxBA0sjTq7f5XHpOuWmirKlkkWhl0x3/9rvlvI+QQn8RXQZkeIbkt2s/O3g0k4aZC+4hTYrKZiedSPi4lck0bvZ7yEhqugSrjOKkTiJSKGhLvvAlY2CRaiTcXIe4tpbGPBXqsTTrZgSCKJY+JNBdjrhGo38aROsJMFWQV7rU7mWplQUhORPk1QGORGhcG/9JKxK0DFMBfaHZ2x+SDQRoxjbWk23D3yCee0FxFmVQE27H2OaVMXEUqxmtw1S6MYxZvvdwslebQZjea9RstebxBKUpC7pghuZRyE0zRcpxXhdeiHiuGCa+u8KBrGBEk0lhNvLMAINVMGotzbSTcUEHE2qz3FGFUCA9OfMyrwUHp2A+D0tU7zfnSbFNP8Rb01+z3qZd+zHpMbPOqeYtI2lcfw8ErOvmSeFy0zrHWbaFSjqTnR/GV35gNsLn+FSTcUsOfTfNEols5j2tRF1PR0CNRWkXD3yEdLT0AprzVpJu4e+UgJLtQkmznFUDIzMNKTAYHuD/uZF0MB14VYFDPbcReHCoaRsU0i5as65Mpadpx+kcnupSIacXcI+1cnKKl4NUa9HK2E9UcBYbui2YSJuWQIcQsOO5GRGa3+5rJReXUNGJ2SYhpuXZGaxCXN41fdIjUl3RjoVrBUCEpQsF97Nr+dx9g7xYZk5Yr5JmJpaWweE7dqnK3fZ1nkL2aetL0mimYaxFcZGIps8qpDSTLOKp2d351L0o+vnPL0TZYq/G4u/3OuqoCv1v/BBjBa0iWjCcMwWv3s0vpnt1m0aBFPPXV5j66W0U1KCIJNQF9DJwtJxyLs/pX4vW4TNgWZHdJw955PaFIm5dkdSDwe5tSt0K5Ewnqq0ryvKdlLWBXNrR0oUK0DTzXnq9p1g1CSbNodOCt1QokyrkoDq19FddlwVEdiFJNKREcJiTG1pIIsgS68UdEcEHAKcYmkQ8O0PvRf4MVRCWkXVRo6WojEyU1GqganchSs9WLh9iWLhSb+NEiK2CVfyoFsWVrTgtbSyPifoSZSS9/yOKe5GO5/2tO08D3CtFefZ2CeF/8QA92iIxkKqQdCdH/xqCk6GTDXi2YHZyUknIpgWCSCyYJjyT2jiCvXCHVIJJRiIWlLLdv+kEvn15eiOtPp9mIxg0ccZd+KHhxswZVsSaQf/SOhmrUaBitWLqDLq4U4LggxR8o+cY5Fx3uXIj7LNjfDlOs+mkP/BV4sQWGNsnLEG0x8uoD6LAsH8juR+aVEyqrjwlj7jVyunfQ8bf96irqpPYWgxyX4fDV9JGp+nk6PgmJstRKdj1xkxP3FOGp1ZM1As0rY61QMSWLGqKdZu+VxRv24GMsFkQ+c+Ok+qm8fTF03GVsD2HwG4QQJax1YLNBr/EnOd0vkSP9k2na5SNWONqhjG4gcjyeYKqFEJEqOFDD2B0V8sXYh7oxZjP5RMalHyqnN6Wye3wndkxmQ7yX+nBCsXMptA8zmL9o0XRq/N+wBL41tZBrb6sSdFjnDtYaMv6uK5aSFnb/x0H+e2IhV97HgPN8s/Or2QjFySCIrKMblzeed4CbafBKBjKZF1RcQyFvThuDQox6GPeAlc00FO/Y9jztrttlQWioF91BqGnNGPxdpa8+gtkvFcqb5Mw9CjRv97EebdWt9hIk3FmBRBerruqgz4ZZCgt/pybQpi7BI4nqh22XG3VGEf0C0+RObO/XYCeQzNkqaHnv6+GdZfqSAKTOWYK2PXPZYg7gOGIqw5wHMyDw5I53jD7UWdp34gcGJH4lrVJTSMGPM0+Z5nT30Ccp2PkVJ+Su4e81DGp8pGjK/ONfCXTKwHblwud5F3NfYZ0wrIHfmAzQO7YLjXAOlLa4boumTQBVeiAAYBrZ6A90mIYcNCDQCzQ4JloDOuDuKUMIGcQHR+Fl84Zgm3J01G726hobrBrEx8hcmXbeUYHsbVr8uOJchcY3ydZSx1xgEMiWCqcJz9dLkl393/TME8Gpdrf9zDWDbtm0BgfK1a9fO/PnFixdNVLBt27aEw2FqampiUMCLFy8ybty4K973ggULyG0Rdl9fX0+nTp3IueNFNpaIC9KMUU9jGRCPtUE4ygfagmazMvHGAk7PkOl0SvBIgm0cyEniwmFr0KntYSPrbyrWhjB6aoL5GOFEC2PuLkZXYEsLs9seS720ixhE4mST8K+EhbmqIYMlZFDf1YGl0SCYamXsnUVYAjqRNItAM1wSyKJxC9lBdRoYVqBJaZp0XMWx+wSn8nuSvtugprdE1XCJbu+H0G0ydV0F6peyV8IaMPC1kwhnikQLW4NBYHJf3N3moJ87j5yWSsnZlxiYKxR4Vp8wmHU6FUbeW0xqm2QAcoY83qr5i440o6UfO2mibiX7F+HOmi3sMI4Xs7pUXMhb2mtcqWx1EGgvmtjKgVYzhSSK4k7OWYJj/zkcYDanJ++dy/TfP0vaulqClngOHroyatkyTgvgxKzmDcLU6YtN9POa7xbify2JEfeLaL/05SdBkmJU4Fl/OoZ/eBZxu87iLp3P2oOLGf2jYo4/lIf76VkYHdqYghLrqUqTCzXhlkLs9UaMf5uJqDWdStFzK5woUTlIIdwtiBFwMvpHxYSSJQwLgBVpbF9kFdrsCF8x+/nFA9fyq/3XkeRopMJmoB+PR+niJ21oLbV/60iXPy0mOa3JOqUFNSBapXuew917Pq6Tdsp2io1WTupM/JN6N4/HWyS8tFKuNpUSNHBUSEiahKP68urz9uv8DHnIS7gtNLZ34e49n5KDizk2u+l9u+Ql6lYI2UVWbNwFnSG/8JLWPwtVWEQKxLQixI6Nj5oWSi3fw6iYwbjEDtSId7J846OXNZ+ONiZRW5Xank6c1RpGSCzgm97Jw50xC2VkNyz1QaoHJyHpTeKypsdR40EJNKG1N4yKOReiClglpCFHLi9+G3F/MYZViDU0u2iktv1BPNfy73SJue347xURSpRItdiY/O5SMAxcTSPolpuacIZQj0+buogVh5Yw6sfFSE32f7pFwn7GB+EwjprLPyelonnyUlL+ClOnL465Rkydthijux1JB2ujYYo9Nnwwh7F3Fgn3hHoNvSK26Y7/qhyjts5E9HOS7kXu0BZ7ZZ15HdLaprKs6X2deGMBzpW7Cd4+nPUfzmFQrrfJ0F9CHl9L46ZkESunNNEXyubFTI3+3aVdwQdQu8oBvFpN9X/uTOjatStt27Zl+fLl5s/C4TBr1qwxm7vhw4djtVpjbnP+/Hm+/vrrf9gA2u12EhMTY74ASt8T+Y5Tpy3m3OQEHDU6Scd1Ap00Di30oFuFiOL4L/JY+0k+X/4pFyWoo9uEVUB1bwuhVJFz29DJTtn2p0wituqUhJeXXYpRih6Z68Hi1wRsJwn+H3oTqbpJ5ak6JOJP+gm0UajvLFPbw0I4USYSJ1Ry1QM1Gpsm5Va/hL1Swl4jIavQ0NFCxXd6ktq/EtUp0XarSpdPdGp72KnPsorHbOLtGLLIz0w4JuOoEiNBJahTcqyQ4PQhGBkp5KTOZE+xh72LPaQcDosxclDHWaURbC+ghahFx7jbi8gZJBYnqaou5j2IqhPNFIZTL1ByvJhrbha+W1G16eVq6rTFZiLLjt966PK3Kra8mUvWB+fM20Qbk6i9SqSbOEA5SffS5beFLN/4KCXHCq+YFxtVcEYTWWJ+15RssnL5fBrTbUy4tRDVKZH4K3HOVE0PcviXnWMah5zUmdSN70J9lgXinNQPymD6uGep7isx6YYC6qb2pHpIsnn7mvHNaNb6D+e0Mu9tifIMzPWy+a1ctryZy66XPBx83EOHj6ykbbOgWQXio1mFQCMSb0F1SJyeZmPEfeI8nD7+WVOgAfBwny84mpdLcEl7lM5+bHUS4QonJ/d0oCELDFUmmCGazuz4e8ge8aSgKLSoxq4pyBerzf/7J/Yifv0Rpk1ZxOCHvTGG4ZfLdAYxcpNVcX4mnIow6frWvCvlwEl2veTh0EIPaz/Jx6ioovfTXnIGP2Ym2/R9TCSYDP+pF0ujiBWTdGGuvOvXHsIpNrb9PpfxtxWy9pN85LDKtROfY91Hc8ws70vPA2ug+fuJNxbA2YuCOtC3LdnDhcVK9ognhUjpkkSJ7a95sAR0MDAzhY02aaz5fC7yqXLSPt7PljdyTZVrOFk0f44acX1Y+0l+zPNxZ8wiJ3Um1mPlNHQTn8Fsx13iq0lokv7+11gChqB3XCIQk8PNPxiY5yVx+3lkFRw1OqtL5rK6dB5qvBLDowNw7D4BNHM7t7yRi9KEjKpOmdK9zxEa0BlLEwp3qWiFxmDMf+1HLppiDhCjWqtfxxoQ0YoWX3MjafXryKqB5pBRxzTbgk2dvpiSY4WUVr9mHiMpKRE1xUXJ8WKzwYxa54C4pgenDSbhRCPjbytEUgVSrMZDcG+yuJEBzirdpC98m2VcQQF8FQG8WtH6X9kA+nw+du3axa5duwAh/Ni1axenTp1CkiRmz57N888/z0cffcTXX3/Nj3/8Y1wuF3feeScASUlJ3HfffeTl5bFixQp27tzJ3XffzcCBA7n22mv/289r5Yr5fL3UQ9zRWuq6ySTvVRh3RxF7F3tMNfC1EwX0EolXUEI69toImduCuC6IRqoxTWL894pMxACjaRFOpJVCd9WyeShh4VMlaULtJqsCXVNdwnOtfEwC/g7gz9Lo8d0jVA/RqOshUd9dgniVcLuIUBJbxOIm6YIXaK83qBpqIL2XTpuSE2YjIcQmgkcDIsM4mCKZrvtIUc6LheE/9WKvDMLxMzG2MqvK5iFrwott7Sf52KpDwrPw7EtMuqGAjX/NMy+4vlFN48HBj8WYU1+8bwS9nvWazci6j/Op7SFTPUSjy5+W0HORl0EeL5NuKDAXkJUr5qPZhBil9zNeqoanAiKezZ0xyxwLgvA0xOnAWuHD3Xs+/qn9cJxXmDZ1EdPHP2tyhK6d9LxpUeHOmo2RLDYFK5fPZ/QPi00bH4DA8K6AWGRVp+BQBlNkwkkWgskyrh1OOq4UUEi0US2tfg1LSMfSaFA5JoPEbWdZvvFRuj23izWf5iOrBqFEicEPi9u3XJRblrtHPkN/7qXfQq+5wO0p9jDmriIm3lTADOv3yem/kIT91Wz/nQdntY4lCLpdNIL+tgrbf+fhyDwP2/6Qy6QbCjjpjuPUdAf9HvUyZcYS3D3ymT7uWZznfBy67TECnSO06VKNtV5CbRfCWmUh/SsNV3mYg0sHcvBncZyd0rwYjf5hMTW9bBiNQcbdIUaHrtJdNA7vSsVQh8kTjTZGUZQwWtFNQ/wF1VyMdYsk3stLyujaPqaBlNJT6Vq0h3PTUvF3i+Duu4DkIzpxJxXiz0aQVBGzZ68zsNXrjLu9CFtNmCkzlpj0D1+XeKznagFM65ooeufOfICcpHuJP6OZBspr/56P3juLkmOFrPl8LoGsBGr6xlG27Uk2fDCn1Ug223GXyPSVmlHpqDq2flIPIkO6MeqeYuIvqMJ6JCTev3CCQKUm3FJoPp8pM5YI7ke7NpScfhFrU5NUFnwbOSHBbLSlzAzzuiI3UyUZcX8xGf9x2NyIaXZo7JXBljdz2fjXPIY85GXCLYXUd7KYUXRR0U9J+SvifMmYxYyxzwgxjCZ4loYszgf7uTqUgPgsXMq9a0mXmHRDAeEuGaCqMerocIKMv51MOEGK+Xs5LPiGhiJh239a3Md1S1m5fD45/ReSkzrTPEYlp14glC4Q60sjHs3zRjPwd3AQTFVIPKWihAySjhq4zkPCaQNXhd4k8vv2S0NCMy7zxdUG8GqJ+l/ZAG7bto2hQ4cydOhQAHJzcxk6dCiPPy52Z3PnzmX27Nn8/Oc/Z8SIEZw9e5Zly5aRkNA8WvV6vdx8883cfvvtjB8/HpfLxaeffoqitI5s+2f13XY/o8ufljDphgIG5HuRAiH2LvZgyMIodNgDXnM8Wd/VSffiYioHKQTaWFFdCpZNXyNpBoknNXQbJK4/ZtpK6BaxkNlrDGy+1ov75rdycVaqJJ4ME2grUT5JpaGz+ID7O4C/PdDHh6Ve4fAnPYg/omCvEmkLSTvsJOwRF2c5IppMOSzI3l/+KZeMbRKOGo2S0y8y6p5iqvpbcV0UJqi2enFRk3Rw1BhNF2/Ro+pWaEyXabPuIsdujkcd3B135gNMdjcjAWs+zWfYA166vrWIcLKNQ7My6fW8l8YHa3j66xvZc7ojt278OZU/8tP/kyc5+oNUNKuItxv7gyKsfoNOK4PoFomRJY8w/rZCspb5ODFrDt3f0OnyH36+8npY82k+tgvN/o+aA07eodNmuxoT3VVS8SqZO0JMX+3B3WseU7KXsG9emkAbIirrPppD19eOsWLlAuTdh9nyZi45Qx7n/FgnF69Jp8tvCkHTKN37HIM8InHkyz/nmovmlOwl2GtCQnHrHoq9TsNQhKeer4NM4glxw4ZOVvrP8xIZ4WP4T0WjEI6XCSUJkmaUvB8dlYeSZKx+gzbbhJ2N6my+uPd9zEvPReI+So4UsPM3HvY950GzyWYizea384jbU446cQjBTon4e6Yw5u5i1n00xzQal3SxcEZ9z2aMeRrnhkN0/91J2m1SST6ss2rZPEqOFLB846OU7nqaPk95sV200rg8A4sfEnfZ0W1wdorE+Z+HsNYp9C2ujuGQJZwK4u8IJ37Zj6TVIl2mLPg29Z1tqC6BWE6dvhi9dxdANBRR7zd3xizqBgg6h2oXyLrqEMez5XkXrbLtT5lIY07qTEoOLSE0ujdfFXs4ed9cSvYvIuGon/jzBpF4BUMWUY/OKo1wQrM4ZNUy4Y3Xb6GXuLONUNd8rrXMzjWCIS7eORDVKdN+vYABJ12/lIsjBPLm7j2fdR/NIZwoma8pWtHNRpQ3eGmqD0DCyoM0ZthQHWJjIelNGc9+cFUYJJyKIBnCrHjSDQXYtx2hpPwVpAY/7swHYprkkopXGf+9IibeWEDDgAyUkNGEnDV7GabtrKOk/BXzOXX+o3i/Rv+wmGsnPocchrpuCkpIbBi7vlSEpBmi8eu7gEiCQknFq6guK6XVr5F0QiX1YNg8rsa5chq6umJe4+Wyjy+MtCCHNcqCb8egw8lHQ+wp9LDzNx76Peo1r6fhREVML8LNTdn58eIaGMxKorT6tZjHcZ4S3M2GAelMyV7SCo00rDKJH+0g5UAAyYCtr+diq9ex+g3sNSpWn5h0XIqCfhsV5QBe7utqXS0AyTCMy0MGV+uflsh1TKL3w8/TYTdCbXvwnLCVUFVCAzqxcvl8hj3gZccrTRyzrNnUj+poogbu3vMJ9Erj1PdVjt+1gLF3FpFwxI9y/BwlFa8y5q4iGtNk/B3FCGr/Mx76POWl6x9OUnLqBZF7qUPdiBBJO+xmw5H6vdOcXdPJJHBrtuaRraNSmEdrNvGcQykQSTSIOy1hSKKh0y0SukWIVlwXBY/G19aCzaej2SSqcxpJWOcCqUk9bIWGXhq2tEas2+OFTYkEWR9dINxeGKWG0mzEle0xm5eo0nHgHC9WnxgdYYDVp6G6ZDZ8MMfMQAWh5N3wwRymj38WSTdMIjgIhNCQZcp2PiVscD7baS5O7g4PobdJRXdaOfmdOA494mHIL7wxisJLuYZRorqpsL1HpHpEEsHiEyNvJWwQd16oaBpTlRjrC4B+C710enEX9TcMYtO7eXT541Js56xYG0Ab1YCyJYHGdgZagkrKTiuGLOxdghkQiTdI+wpS9tZzbmISDd11UvfIpO9oYNmWx5l4YwG+9hZ2vOphxH3F2Ot0Nnwwh4FzvMgq7H5BvLZJ1y1t5SV3uXJ3mwMWhZpRmVwcCek7xeg3mC7OGyUAzmqDLW/kmnYso39UjBIy8LWX+crbmg855u5i6roKYrwhQcIZnXCiTH03g8Sj4r7bbI9wboIVSYMuf6/j+M1JdH+nwlRag2hkdas4b6Pn8t4lHsZ/r8jk9/Vb6KXdpiArVi6g24vFJB8Qil3XRQ3XuUAMB82dMQu9oQG5XWZMmsaEWwqJ+3xnK+HStMnPYztaTv2YLBo6yvg6G2SVqTjO+yjdFWugHP2sj/pxMfVdJBKPG1T3k2i/UTVHsI0ZVlS7RNq2KtQUF5JqIDdG4PAJMxkk+nxaRqz9o8pJupfApL7i85ykIKsG4XgZR42O1SdM3zd8MIcpM4RIRLVLMcK1S2tK9hLqutgIJwmf0vizEVSXjKt0V8zxmTJjCauWzRPUB6eDUOc0IgkKtd0spO0Lo7oU6rooGIowGpc1g5peCknHdAxZILTJ++sp2/ak+ZkD8VlP/PI0wX7tsdaHUY6cBVmKSQ7KdtxF5JqBKAE1JtHj0qxv8/ZN2epRy6WxdxZhr1axr99nXpMm3VCArnBFmxsQnpqXRltGOaQt65qbC1j3cX7MeRpdM+rq6v5tCtzoY/R/Lx/FZW/1ey0QYu8dBf/W53C1/nfU1QbwX6joBy1rybM4Qi5SDujU9JFJOWiYysSoJcOl5e41D/3cBSRFITCpL3EHq7gwLRNnlU7SysOXJcmPuK+YQDsJJQANvTUs9TI9f3+R89MziSvXqe8kY/ULG5dIXJNBdFNToTcFkES5gla/WEyjWcRyRIhI/B0hbY+IPgqliNFO3DkD1SVR21/4WaXsUQilIPh+diF0AbDXiGbBWWlgCegk7q0i3DYR647DlNa9LsZGnxzCCIep/u4AfB0lEk4aJsrpKldRnTKhZAFMJ5wOYzvXEGMCO8P6fWSXi9K618l23IXvhmGE4yWUsEiPkCMCsVn/4ZzLHvtuLxSTcFxi94sepk1ZRCTBQvlICwcfu7ygY/qE57CcraLkeDHuDg+hZbUxG88ZY55GOVdtcvamTVnE6ekO2m2IsOazuUyZsYRAphVZMwRhP/MBSspfEQbLKZB0VKeum4wSRMS6yeCsgFCyOLbx51QsjRrnxtuRNEj/WouxiwHR4FX3sZJ0QiPhq3IuzGhvpnK0tKiJik5yBi6ktIWYKFo5Sfdi9MwinObEkITp8tCfe8331lEt3teIU0KJGERcEqkHgqgORYholrQ+fpOuX0pVPyuRRIEqO2p0ktedouT0i+SkzqT8B/2oHhah74v1lF+TRqPwKRaIY6RZcJI98inkyjoMl5MTt6ejugyO5Ddl7GbMIjSoS6sx4ah7hKgmdfXJVp5+0RHypSPWlmr0Vsen6biN/lGxQNmShaL74GMeRv+wmGCqOKfGf6+I+E93cP6BEWZTnO24i/rvDiP5i8OcnNkbRw1k/HFbTCMVfewJtxbGxLlFn+/lkj5Wlc3jmpsLkDVwHak2M4knu5cKU/gkBc0mseWNXLNRmzJjCZpDJu5wNXqcPQY1a1kj7i9GCUHFMEjZL5F4IoytuhG5qp5gr8yYBmvsnUUxXo5TZizh4lAb8ecMIvGSSV1RwgaBNsIiK/mIwZd/ysXddwFEVEqOFAjkrVNbSnc/w7TJz9PYxo6zMowc0swGLyfpXgxNMxu2qdMWm1YzLaulcvfSmjp9MapLwZClVp+nyTlLQJIwLFIr3l5O0r00TuhzWUrBZR+nKX5T0gQvW1ckPv3LrG+tAez3l7lXbAD3fX8pvXr1uuoD+P/z+j+nAv6fqLiTMsHeOpIOnT/3ceT2OMZ/T4w8KscIr76oAa27hzCyLTm0hJwhj6M7rTguNFIzsg2SAVUDZPztepMz5HEqRqZQNUQnY3sTqV2Gfc96cPddQOBACpF4iWDnFFQn+DNl9hR7mDHmaWr6xWMJCKWvIYnRrhoHut3AkA0yelZhGFC9P52E4xKaDULpYK+CDmsiBFMVNDvY6hGcPrtEOAnijyroNtE4ymFozBD/6naDhOMCMZQjgrNo1UGPd2Ct8lN1ywDG/qCIuHqN0KAuRBItOKs0LI3i4hhOlDEkCGRasDQKfqEcMfC3tWFpsMfYaUSNhkGMxKIjqUvVw9kjn8IRao4WGHdHEYnLD3Cs+jWTK2at9LFi1XNirNMEJuYMXAhnL2IEApQF30YKa5QcLzYX4ZE/KTZtWzSHxVQEAgTa2jj0iMfkRUXVslNmLGHc7UVsLH+F7BFPsnPbk/R50suFceA6J8j61gZIOazR0EFY0cSfVzk9XUYJCNV2979W4O+RwtRpi3E+cQ7f4o6C/K+KpAfJAD3JRc1gjfG3FWKr11jVNM6S0lNZcWjJZZu/Ib/wUtdHh+f606foLL5BiVj9BtkjnkQaLpBbOSI2CrYGjWCKBd0m0WZzLZXDklHCBpFEwW09M83FgSc8zBj7DMqxcwSu64nVT5PqUjTB0fFaS04o98HAOV6yyho4MzVBGIn3ibBq8TyGPuhl59YnmHhTgUCg68BeLZnKbxLiWbliPoM8XsKJwvQ67qJG2tfnY9A98/aA1r8blgu15CTdi5SWCn4/el09jTOGAM2oadR+BYRC+ZrvFqJYJZwVKoknDHwdxa4qdctFTt4qxEKu80GzsRs2y8uOVz2UBd+m99NeNr37Ktkjn6Js6xO4S3PN83Lje3mE+gjHgrjPdnJpNU7ow5QZS5BVnRUrF4gGr8lCSdKb/RHH3V6EoyaC86uTBEZ1w9bQLD6InovRf3OS7qXsMrYv7h75BHpnkNwQQbcqGLKNLW96GD7TS0pQJZSeSSjFYl7HINbI293uQVadf5lBHi+hJOEQoFlF4lHC6TCuCoW6zhacFyOM/14RcQlOlMr6VueEElBJPBQknOaisa3D/LnRqzNlW5u5m0qjitqrWfgUNa5ffYXmD0Qjptlk02Zm0vVL8XWwImkGelcbStBAiQiRztq/i+PXf4EX46GB7Hv2P+dXOvGmArRUK8EUmfjzqvk+fNsqYP6BCviqD+DV+l/JAfx/rVIORej5Zx+b3s1j2abHsAQkXOeDrP9wDgeebLpgNNEujHgnOUn3ktN/If4uCdT1iKOhRxzVfST87QRSpzpF0Lm10eDEg3lsfT0X58UIShPBX3fYWPP5XJSIQSjZQpsdITI319HtxWIeeucDUu85RU0/aGwD9T0M1OE+QbIOSnQbcJaqveloH2eQ+rVA8Kw+cJ0XljDhRAVDkXBWNZOXdYswWg6lipFwKAWUiEAR7XUQd1q8OEtQIIyOGh1LQATH+3ok46zWSNpXi6+DFeuX+9FsEsEUBdUhEYmXhaDEEGNCS6OOoYjx1Jd/ziXYxhmjigUxbomqIMt8b1Lme5Op0xfHKAF1m4KW4MDddwHuTg+TcKTeXGD0OLErliprgViSeeme56i4rR9GUyZ01RDBGy2te53RPywmnCCBouDuPZ9zE4Xx79gfCPWxpbEplSP4dowa2JAxuU1RxOXAkx56/tmPvRbizor3wFYXEYHzPmhMVUjZK2NYDXQbVI5JR1INanvY0R5IYM3nc8kZ8jhqnNI02pdAkrBWK6TPPoHjdC29nvcSuKYXeoJYQBt6C46cu4cYRU6f8BztPjvN8V/k0afoLEZdA/FnIuhWiXCak0C7psbSCvZaAzmk09DZQFcEhy6cCPY6DXsNfLF2IQee8ND3cS+Vg+Opm9SDYKrYFNjrDNOWJDSyR8x7Odm9lCkzltDxzYMs2/w4jf2CZL1xCEdSkEEeL1afwYC5Xk5lC+TRUS3OFT09STR1TVYwX3k9dH31EK4KDd0imc1eVIRTcryYSdcv5dqJz5lKbqOnEGCUlL+CnJZK3JfH6PHXZ3FuOCDOi6ZUiGgpQR1bgxinrlo2T1AWaLJ4afp8R+Kb99Q7XvUw6YYChjzkpeOqIGPvLKJqUIL5fECYpwPYth9tPncyZsVk8675bC7+9lZTmY5hUNXHQo8lXtb+PZ8JtxaSHX8P1f1kGjOs1F/TnWCKIsb0Pyym17NeM4O7z1Ne83yONuNRAVF2/D2gKLi2HCOcbKO2px3dIs7vxJNhlEYVwyoTTJVbpbFEq+T8y4z/XpH4LAcN1CbEWIzuZeo7WUg+GkGOCHsepbrBfA/dWbOb70gGydeI5pCJP1DT/Nne0zq2T7fKTB/3LJOuX0okQUGNEydb9tAnBMLYVONuLyIn6V7CSRY2vJ+HpImIuChC6aoUn3lJB9UOqkMm23EXfR/3sneRp1XzF1X1X67WfpLPhvfz2P47DxGX/K3HwAEYxpW/rtbVgqsN4DdSSlg3d6XZ8fdwaKGH5esXmiao7k4Pk3TEYOS9xZTuepqKOwZyaGYap7MlLmaHUO0Smsug64c1pO4zyNwSwl4bMcfIQx/0cuJWmfxn3qLz60spn5BM//leTmfDuSkGx39icGCWyOj95Wf3cGR7Fum7DA484aHTCo1Dtz5G1vIgCadgxZRijublolsFYXlPoQclYuDLMmjMFKIVq180YapTQrMLY2vNLrzzJLVJXSiLpjA6YpbD4l97nfjb1aXzcLd7EOeFIM4VX1M1LIX0P23D5x4kHsMnYuSsPsEFctTq2HwGqkOgglOnLxZmtpkWJl23NIbIX3JwMSWnX2SG9fvimDvuYuXy+cipKS3fFmG+W+/D8AfwdUs0VYJKbYCcgQvNBIhJ1y9l2Cwv7h5ilx5XrqJdMxiAhNPNKOKXf85l9688Qh2Ylcz+p8WCsOndPHa86jF5Q5NzlhDu1Z7JbqEuvBwFAISlhBISI3BDgfoudpQwNPTU2PrHXFQn6G1CqPGaQHo+n4ujRudstpiVhtrEEb/xKM4KHV97mbJtT6KEYO/G7qgHj9B+bZi4jUdp6J5Ij4JiJENwnEqOFFDTy86ZPLW5EUlLpLT6NewXGpAjBr4OVuzVTXzHOuH9Zi8PoDsM2r21j4F5XhrbGkgGZG4JmKhnykEde50umrUaAyUsaAHBFIkuvy1Ec8gMyvWaNikYwpKjcYRI00hZ76Ck/BUO3PI4gXZCePH1Ug8nfj6H1L/uRreIRBYpomEkuOjycrMQhIR4InGyOdabeGOBmTgDopGKxFvN4x9OFQ38mLuLOX1XN3R/gCO3PyqQ3ntFVnDVwCYVaMYsnDuOo1slVKcsxDwZzYKxhFNiVT2VY2XkT4rpXljMsJ95CSfIWH0GK1YtoK6LLNT3NIspkj/9GoCqm/uKx8maTUnFqzR2iBVAbHkjF9v2o0x2LyUSr5ByWOXIPA/jbytEs0sEpwzA4oe4syE2fDCHYIpknrMZuzTa7BDCkwNPeJhwa2EMPaD9hyfIGbiQMt+bopmNd5nIVzhRGBmHExWqBySw5tN8rH5xLYt+/lqq5wE2vJ+HGkeTMbLgye541YPmkE2LmrrudvNcdPeaR87AhZSceoHskU/hzphFsI0TdINzE6zUD0hFzmrK/7U0N9jZjruQwyorVj/C8o2Psuazuaz/2xxzhF628ylzLA5iE1Za9zr2WpVRPy42OZCyZrD9dx78mRY0m3Bi0OwSsmZQFnybLm+d5XIVGtQ55v/Rz0D0+2tuLmDUPcXoFoG8jv1B61z2f2fpuoSuy5f5uioCuVqirjaA30DZj5ab30dHkYMf9rL57TzcnR7m0MOdSdlbj+qU6P2Ml9peBhnbIemAglRlx99OImUfVA9Jpr6zxPGfGJSPsDPu9iK6/Hkx/ik+LNUWCh67m36PnSbphIqtAdpskmm7Qeb43Qs4eX8+6TvBdU7GeV4ilCzTf56XM5MUMb6QJBJPqaYaraUAYuvrubTdrBN/ymDYz7woYaH6y1h5jt0veNjxWw8pBzVh4OyHuAsGjtomiwOf+BdZ2NHUdpfNLaZeU4sWZ6HmtsHoVony+0dgSILcHk5oUir6tCZEUFg2qC6hdg0lW9n4Xh4ZX1bhPOdjdclcskc8iTvzAdztBF/l0rSRymlZgOC+WSoaCHRPJdyrPZFBXbEENILtRJNsnCunsUsy4aEiT9i15RjJh0MmqhHIUKjq58Dd4SFhu3FJ5Qx61BwNtqyBuV6Td2g7cgHHxgOtPcwuqbQvq1CammcQaJvjvHhdSgiO372AEz+fY5LOI/ESe4o9TJv8PJJmUFL+Cg0dRZMBTd53J0RaxurSeZRUvErC0XriTkvYasUoKid1Jjtf9tDm904mXb+ULr8tpGzbk/R6zou/ezK6VVAOkAQv1HXRYNJ1Synb+RRtvpQ4c18/UvdHUBN1gikK/o4OzswewZQZS5pERxKSZghbIANsPp2vvB5O/GwOhizxVbEHS8jA3TWXi8NtnJ4u05huof8CwY2cYf0+7k4Pc2Suh7F3FpmNe5nvTeq7ScSfiyCdvUjpV8+iBCX2F3UVvD5F5N0OnONl+E+9BFMUwcOyistc9ogncW09Jr6Pv4eGLNEMbn5LNJk1t4mmP6f/Qra+nktDJ6tAHBHK2JLyV1j793zs9RqSbpC6r9nULxopmL4T0v/jEHFnJXb81sOmd/JIX3OOEfcVs+95D50/8+Puu8A8d0vrXmeyeylbX89lsnupiXYrLSLI3J0eZvhML6GRPVBdMqqz+bK94YM5bHonT6jd66FqgJOp0xaTdEKNuc3y9QuZNvl5Jt5UgOqQ0Pp2NhHAktMvYhw/w7g7isiOvwetbQoj7isWVI8mXz8kibjzEcbdXkT86TCuctV8DZfyP8fdXiSU3ydVZBX87SyMu6MI1SGRdDxMfZaVcHzz6NqorBYm4JkPULb1CfTGRpwrvybSMYUer5wEg2ZRkCpeV07qTGFZU+37h5+vKKo4JXuJUCD3mseqsnnEnRMbu5Ur5lPT08Zk91JUF1gCEBHMByS9KaXnCobjkTjFjI9zZz5g+gpOvLGAutuGozpF9COSxMQbC8wJzrdVxj/4ulpXC642gN9InVqabH4fte6oGxGi9zNejv20Cx3WaQQ6xRN/TsNZDkfn5JK64RxxF3QcF8Vi25gh4W8nEeiskrLBQfIRHVu9SvIWO+3+aKf9BlWEo+uC1xN/TsNZrZljx8nupdgadFzlwrPLWSE4iUlHJOQQ1Hex0dDeguqSTU/CSyv1T1tw1Ir7V51S82im3yPE/8dO4s9rZOwOseXNXNKXn2TD+3m4LkSQdNjxigdHtUqbXaq5sy4Lvk0w1YqzQiX+vIo1IMjQhgxKRORx1ne2gSTyQNPLjpsB8FHVnBQSF/zJOUso2/Ykuj9AyfmXcWfNRrLbYywb0kvFGM3o2p5IuyTs1UEiiRYk3aC2uxV0gSwaoRDOk3VYv9wvLEAqXsXfwcaEWwrJdtzFtt/nsuvXHkrOvsSwWV4G5cYiHC3VwtEaf1shNh/NaF+8i4YZ/Skf2ZqEHS13uwcxjp4QyS1BwZUyZFBdIoNXu8yfJp4QWdSqy8LKFfPpXlyMP0uIdCbeVNDE1Wu+xE+4tRAkidQDYUIpAj2JIj9rPpvLms/mcuJn4v3q/sJBMAyRZW0XZuG2eoMv/5xrKom//HMuqgv87S04zyhY/QbJOyvZu9iDbpdpTJOp7SFhzz2HEjZwVovzOFrx64VdyKZ38ig5Xsy+5zx0+kLHEjSw+iCUahCaPozDv+jC2B8IcYFc6ydniFDxKo2C9xUl/fd8+mtO/Ggeddf1p3yy4OHFndcFL7a9xIUxdlOwIB0+Zf5dZLRINgHo94iXHku8pK09J5rSiQJhresuxaRR9H7aKziTXS3UdbNRObgZpYs2+qFkieqcXqYA5JqbCyg5VihG9IAcUgl1TOLcvQPFhqbTw+Ymo+VmQwmJz/W4O4qovLYz21/zEEyzYAmIMfS6j/NNVHzq9MUMeUgopTEEuhZMbkYnJ9wirJNWrH6EuEPVaHaJ5RsepWFaH3IGP8a1E5+jzPcmtnqN4KT+BDMcOGr1JvsfRPSdYRBKtaCEdUIpFiGEsFhix7ZNtfGveWhNh0bSMD1KlTDUdbOBDK5Kg1E/FiiwZLWQk3Qvep3gx0VpHYG2DkpOvcDGv+aZ6HxZ8G2uubmA0urXcPdd0Ko5i24OoxVtqFeVzWPVsnmEOyaL/7dIs9n1aw+VA62oDiHAksPC3zT+QFWM52DLmnhjAZE4Gatfp+ciL6EBnZHDOjmpM9FsEvYalU3v5rHxvTzTm7Oh03/dYuxfKUOXrvh1ta4WXG0Av5Fq+4oQeswY+4y5aLsO2pFUoRJ0nguw7qM5VPVXqO2n4e7wEOXTOyCrBq4LBr4uGvFnDdAhaZ+F+LMqCcv2IkcMUg6G8be1UNPDwua38ziU352uvy4ikKFQ09NCIF1h+Ewv4QTF3N45qwyCaXLTCM7AEoJQikQwQ3COqvrbGHVPMZNzljDZvZTJOUuw+jR83x1JdR+ZXs95qe4rC8+w65eipsZRFnybhM0nsVY3MvqHxaZa0lbdiOqU6POUFzmiI6nNzUe24y4iLglrQwTXjlPEnVebxp3iAuSo1oXJbEQITQLDsnBWayapfEr2Eqito3TX02ZjVeZ7k+ny9yg59QKlda9jBAK4OzwkRmfnXwagsUM85SOclI9KQLdIVPd3kXxcJZBpQXMoyBnpIMuU+d6ktPo1xtxVhKNKJWF/FdU/GM7oHxWb5s6WRoOvisViPurHxcwY08zNapkwseGDOWz/nVCBjr+tkPLJbfC1k+n0u30AprFxyyo5/zLhSYOE8CVo0Ob9fUIJXA5Jx3Tavyn+tiW3MZqesObzuYz+YTFHc3Pp9mEjkXjhfxdsq1HTW8Ld7kFG/6iYM9PglDsJNU5pZfvRcvGeMmMJesdMlJCBs8pA0g1sPkzUItpsTLqhgITThiD3O8HaoHJuRhu6vVhMdU8L9V0h0jfAiU1ZWH06G97PI9BGIG3TpizCaJ/R6jhIOtjqVHa95KHHG1W4vj5Hzz9cYNO74jw4c3N7pPIqQCjcDVlqFpM0CRmSVwqT8+njn2Xz23noCqBDmx0RE6UprXud4T/1MjDPSzjZYooA9j0vDK5LjhWiny/HWaEx6sfFKGE4mdN8iTz4uAdrwMB1USf+vGairgDITeeDIXisY39QxIRbCk1agBrX9FoPn6Kqn52kE5rY0LQVZuQtE1UA9CaRx8b38tj6x1wmXbcUR6WKEtLM+482jDW97Fh9BpE48HWC7b/zkLbsKAPyxcZFMqBykCzQrP2LSP/iFCA2WaG28ehWkdah2yQ0h4yhSITjxbjWWa3jrDIwFOEvuO7jfBIO1+Hu9DAHftW/FT8XYFCu17RSibsQJu5ChHUfzcES1Ek4q5JyMEjc2bCJapeUv0Jp3eut7HccVRHcGbOYOm1xDOfQnyk2Mi3Hu2Ylx4oaop+7EfcXM/62QqGET7qXye6lphhs4k0FBNMhmG5gyEKQpTmky98/QmHub2uhMU3G195C4nFoyLJxyh3H6Z/1A4S34Ng7i5jsXoqjKsLav+ejWeGa2S9f9j7/HWXoUtMYOPbragN4taJ1tQH8BurCA2HG3F1MTd845CbKWPu1AQyL4O+duTaRKTOWkPWbfXT7SKVuQhccNbpQozkkHBUKcsQg9ZBGwmkdJaRz9v6BXBxmR3XJ1PUQub3DZ3pxVEi4OjXQmA7BVLEgOmo0Eg/Wsv7DOUgGBNIFd89RrRNOEKiSEgLXBYNgqgwSxJ0XyF00sqm2h038ThaiD90CDR0V6rpaqentZNqURYT6dEA+d5HUL1uMvLc9yZY3cjnwhIcVKxeYCN6k65Yi2e1E4oQ4wTeqM5F4sQOWI0LpG46XSTgVRnUIG5dgsoIS1Lnm5gImXb+UVWXzMIKhVsd7uf4+IBqjxuwhnLq7GyfvFnwcd6eHcVxoJPGkRvJxlYStZ0g6GiYcLxPIkLBVh0DXTf82d6eHSd5VjXPTYcJtE9n6x1xS15+jdO9zTJu6CN2CyXXa8kYuyzY/zsifFDNlxpIYO4jxtxUyeLYXJayTsPIgmR8cpN2qShqm9WH0D4vZ+F6zUnLSDWIxmzJDWHnY64S9TnBUDyRdpDds/GueidRdqnCOVnTsaD1RQdIxnYTD9dgrFZKPGJScf5kv/5RLn5drsNfA6Ryh+B1xv0Bd3F1zYxbvVcvm4euRiGaXiMRJWBuF95scERub1SVzcWfMwt9GIZwgoSuSsAuKV2i3spJjD+fiqDVwXoROb1jp8UY51X0sZlLLZPdSguk2pIvVuPs9grvTw2YiyZpP802E7Kw7Hd+wDvj7CBRu4k0FWBtEszzhlkJstWA7WUlp9WtMuqHATNapm9yDpP0KR2930fWtRWKMJ4OvvQWrr9n0N/FkmORjGsFkGdUhMeQXTQKIJv5WWfBtXB9+yZY3cum8aBsnHmz2GRxzdzHOKg1/W3HZdF1UmTZ1EUMe8nJ2ol2gY6nCnFu3Ch5ZtNpsE+NivXcXdr/oIX7zcYY85KW+ZzyDf+mloZOdXs96zbhHW2XATL+ZdEMBKBKrls1DDmpIqkEwpfnSnXQ0TDhJYu8SD7ZaoVitdHfn6wIPI+4vprabwuEFHhPNMhLizL81JLDvO42sGqh2WTxnQ1BArH4dJayz+a1crD6NHa96RO7u7mcoOf0iJ++da57HLeurYg+ZOwS8qlvE85w6fTFrPs1HigglsylooTVqF30vVq6Yj9EmDV9HW8wmyFl9+WQNd9ZsqK4V99FEG4h+7rb9PhfdJh4zPKIXqkumsWMifZ70UtPdgq0eXOclM5JOs0mm0AzEtcbk+Eni+hiJh4hL+FJaQgYd1obIevskcZ9sI2OH2MiuLpnLyhXzmXRDAZZGqBvXeNnn/u+oq0bQV+uf1dUG8Bso9UAigQwJe60YPYFQRXZcFWTnyx7izxgE0y2UVr/GyuXzCabK2OpVIvEStnoDa5244LhKdqJboaanjdRDKo4ag8Z0BVe5UIZqDghmGPhrnGTsjmD1iVFFfZbCqe+kMnXaYiRdIIChZKgaoNBmmx9JB1e5TiRe2DHsKfQQSrbEjEHizmuCr2Jg8r9UJ6QeDCEZoNllNJeCf3Q3Grulxrz+aJD9lBlLzFHhms/nImWkkXQsghxSsdar2Gsj2HxCJLLuozlsf82DbpXY/poHDHBUqawqmydQkyi4oigx5OqWFZg+kLidZ9m7xEPn1w6aXmrLtjyO61xQWOB0ayMSShQJqx/CSTZKzr6Eu92Dogk6/SIN/VKRnA6sOw4DmGOlFSsXYAkaMdYzIGK+osfO3elhsh13seGDObT//ILIlQ0EMNqlI1XWsuH9PGwtGpCJNxWAJl7cqmXzmDptMXGr9rPp3TxWl87DUS1EIeNvK2TalMsjEJdWyakXCMdLlO18CjkMqkNwjgBCHRNpbANJ+xV2/dpD9VSRo9rSIiVaG97PY93H+SLbuU5jzWdzqesqm76Haq+OpO71EX9WI5wgsendPOL/Yyf+HilMuqGAra/nknRCw75uLyUHF5O5LYhkCARqdclcMdZPTODQfemUnH6RxgwrOf0X0ut5L5WDBEpo9QkleihZIXvEk2hWwaUbkO/l4jCF9K9D5nNf82k+5yaIWePG9/KwBCG9dyUJSY2mv6QlaKAEm4+/5hAiEVkVn6ek4xG6/aqIqruGm42+paMQHJQF36bX86JB7FRay+a3cln7ST5xF3RUh8TqkrmsWLlA5Cg/5kF1KdjqRRpLpCnqL1pfrF0oYsvSHEIY0OBj10sebA26eX9ZywJsfT2XLr8txFAUSnc/IwQtmsGaT/OZOm0x4TQ7vo42c9Iw6sfFyBGRIgQih9bfWSPr/iMMnOMlbXcDHX6/J+Z9VtNcZvOt22XQRSOv2SUkDZNnaPWLLN1J1y9lzWdzcfeez8rl87nmZnFuTZuyyPQXjFJfohVMVhj2My+N6RYMWURDQjNFouW1J4rcR8s0cM+aTene59jyZi6y02n+Xrdy+YpEqJssVObBNrEimlH3FCNpQvCDLBrfxgwLrgtg8wG6OB80G/iyDAwJDH8gxmaqLPg2Xd9ahKQJUZwcEXQNyRDWMv52NkpOvUD9HaNQnXJMznUgXZhh2w84+bbq6gj4av2zumoE/S9U1HBzwtQnWbfiCSbnLMHX0YrqlExlpxwR9iqReMEvafulMAke/EsvrkodX1sZW4NAJi4OtdF+vZ+6ni4SToXQLQJJuDDGihyGzG0RKgdYUcJg9RuieWzUqelpIZQMqQd0GjrKJJzRaegg83WBh+njn8VS0UDJoSWMubsYR5XgEkYbNXfGLEoqXsXdbQ5VE9ujhA0ujANLg4yzQggADEnEdH2x5pH/9LGZOn0xkmYQSraSsLcSPd6O7rDSmOnA6hckel97W0x6RjQZJFo5SfcSHNeH8+OstF8Xjlk04PLJDdmOuygLvs2Msc+IdAVNo3TPc0y6oYBQooyzUkUO66xY1WwPkZM6E9q1iTGcvtJz+q/UjLHPEMxwoIR0k4cWXTCvVNH0gEvrn/2du8NDVE/tihISPMuWiOPwn3rRLWKzsP7DOXR7oZhjs5uMlJvMqd0ZswgO7cqqZfNMIcuEWwq5MFoh6agYK0Zr7J1F+NrLwmzcBocWtkhUGfwYpbufMf8/4dZCDAls9ZoYI6Yo2OrE92v/nm8+fo+lXtTMMJ0+kok7WsuFSelY/YYZ1zd9wnMsXy/G8n0f82Krh90vepiSvYRQsiXm9Q7M9WJthPouoqGUdGi7JUT5cDvpeyKoThndJhFIl9n9KyGoWbH6ESbcUojrfKPZ8E4f/yyB9k4Sv66ksXOy2bxEEyUufc+mZC9Bs8vU9LIQf043m2jzPbrEaDrqLenuNofaMe1i/PRapge1rGu+W0h9lkLiKWEKPnX6Ys5MtpO5VcV12odc42/Fixv2My87fuuJ8dOE1mbJLc+9ye6lGBYJ58m6y3Je/1G5+y7g5K1tLuuZF20m/6s16bqlqC6Z+OMN1PZLMtHvljVjzNNm4ks0NahlTbilEFkzWPtJvmmMDsIqKBIPcecN/G0l7LVgr9dJ3nwe7NZWo+BRPy5Gs0poDrFZliMGqkMi/asAX6xdyPCfCk/KxjbQYXUEuWnDV93XhlzdyK4/L/xWjKA7v/YYssvR6vd6IMjJmc98q0kgDQ0NTJ06lUgkgqZp/PKXv2TmzNbRflfr262rCOA3UJIuPuCrS+cJAcFLHjq8c4iObx9h94setv/OQ+JJjYOPe8yLX7s39xBxSbT90k/SiRCOY5V0fHmXaXoaTrSgOUS4bigrjOsCVPcRzV/8OR1bg4ES1gmkK1h9wn7DUaWSvidCxClhbRIo+js4waKIBT5FIpiqxESDRUnxeooYC9X0lLFXyhiKyFJV7QLRaMwQPMcoZ/DSapl7OiDfSyTeQkMnO/52CuenZ3JxTDIVQ+No6Ci4ipF4C2lfHAcw7XJ8bS1ih4644JfWvc7qkrl0XBW8bPOz/sM5MKAngMnNizaDytkqpDqfaXysBDUc1RpyWMe6WyhBo4kQkqIgXawScWiX1KXNX3R8e7mKjoyiiKXqsrL27/km+gH8wyYOIH7TMcbcVdSKEyar/zhQvuTsS9gaNJSIgb1Wjfnd9t95sNcb2BrEz6PNX/aIJ81orZKKV83ndnG4jSnZS7A1qOh2w8wpjpYSNEg9qHLgKQ9dF+2K+Z3UlK8LosGwNmgoYYNVy+axumQuiYcaWPPZXHMEaERUJl2/lCNzPVguWqkaYKF0z3PYfEZMVvPy9QuZMfYZBuR7Sdur0WZ7gCEPeVlVNo9AhlC8D/z7EwzK9ZK2P0KbjdUgGziqIeuVfaxcPh9/vzCGInhumlXQJHIGP0Zjpp1hD3hJ2FvJsk2PmR6Oyzc8aoqRgulWhjzkpfMflnJkro3+80TeMzTHhtkqRR6sEhT5zWs+m8uwWc3I2KUpI1H+YsmxQuLOCGTWnTUbd98FpBwU/4/6GEZLVoVdk/OCGCXad52g7RaVdR/nU7b9qcsqVhPOiLlmYGB7k7c69EEv9sMXyBn8GNkjniR7+BMYcrNFTW13qxjZVtSYApcoauju9DBDH/TS7xGvyZVtWSX7F7Vq/q75rnhekTiF8bcVMvTnXhOl/mflzpiF6+tzbPhgDmXbn2rV/EVHyFGPRRCIf/ZwYc3V+fWljLqnWAjPLBJTZiwhnGhh6rTFpiuCEoTGdAmrD+q7AQb4Brc1m7+obdHIe4sxpGa00FGlk/HJITJ2+rGeqADE581WD2l7DJSITjhBoaGTFd2C8BH9lsowroAA/g+MgF0uF2vWrGHXrl18+eWXLFq0iKqqqm/9eVyt2LraAH4DZTvf2oqgpPwV0MWi7c6Y1SreqbTudeLOqVwcGYevg41z17cnMH0g8asOIqtNcVhhXXi/JYSovTaAr6tO8uEIkTiJiEuivrOFcJJI8tCtIvVjdclcXJUaiccjjP5RMUlbz1Ky73kOPN6TXS95uHCNQec/CAJ0tMmYeFMB1YOSCGQIriFSk/efQxgMazbBaxr8sJczk62c/E7rAJmWjVLH0kpBwkcgoJLRbHOiuqC6nw1DBt+ozoz9QRG6VWLE/cVkfnhQ8OEQqSDRRtO25+QVj33ZtieZ7F6K1NQgRZs6FDlmzBmJU7D4I5yd7DC5ddEFWO+YKRph++VnS9GGAEAO6UydtpgBc72thR0uMd4xhvQW/zbx2qLco5ZehleqwPCu2Ot1E50ArqjavrSc5UGhQDxTb6pmoxWOk1pZ17SMARs+02uKJcJJUDFINPxypHXzGchUTAuPqBVItIIDs8zvV66YTzhR8DqjTcT5iUmMuqfY9OorrX7N3BQpQclsHJwVsU0swLJNj5F6UCWYKrN8/UKSjkUY5BGZzmkHVOQVyXxV7MG59xyGRSZlP+x82YOUKfiEskUTdABJLMSRRCjd/Qwb38vD1mCYWa6XKj9L9i8SPDi/QcpOKwnrXTR20Dl8T1rM7fxdhE9eJKFZPLPjVU+rJmnS9Utx9xNourtrLmN/UGQ2D3VjO0FlDZEEC2N/UMSulzy4OzxkGjiv+TSf9F06lYPiTb5g9LPX0meuJW3Cuekwk3OWCA5uU5OXciAkhFS7n6Fs25OUbX/KzB0u871pGneXnH+ZlSvm4+42h4ZO4pwoOf0iO1/2sO95Twxq3tJ0eZAntnFd95GIZtz41zw2fDCH5KNhqntbRJb5Farrr8XrKal4FaPuygka0RFyS89OSRdm5V1eLaTPy362vJnLmk/zMWTBpZR0cX6u+XwulkbDjM1UnRB3DoKpMi37pK1/zMXd4SG2vp6LJWQgaSIzPRInUVLxKpJuoDUJeoY+6MXmE2rtQBuroOBUaOY06Nuq/5c4gIqi4HKJsXwwGETTNK4OH//n62oD+A2UluQQF/UWpGHANC0tqXhVKGqvi20AQqkW2mwLkHSkkd0vejgzTSI4SnBYGtMUanvaGDzbi311AskrXEiqxMkbZeLORdAcEqoD6nprhBMhlCQRaGtl8MNeartbqOljJZgsUTGtI6N/VEznz8SCalgMEg5YKZ+QRlV/B0N/7qWho4WKkTpqvNjVKo2AITzgdJsQmqhOiaTjwnw2q0Qzyf2Xq4qx6WgOGVk18HcQySGGLHgzGKKpaOigUN9ZEYHwCsSVa/jHdce1+yxTpy1G1kB1KYy5u5jAmO4mx6jlIjN9vBhNrS6Zi79zPNACVTleHIOixX99Eevxixx4ovVYqmznU+QMfszc7UebSHdXkVVacvYl3N3mMPhhL6uWzWPlivm03RyIGTsCZgNhKOJjFR371neW6PKnJawuEfFiI+4rpsdSgSZFF/Gp0xaT7bgL1/4LZnMVVbrqNjmmIbxSRRJsqA6J0r3PmSIXaEJYpWYUI1ruXs1o5PbXPDgqxTlyZK4HR42BZpPJ2GnQmG6L+buUg0Hz/b80o9ZxuDzm/9ExXBTx+6rYw5Y3RdMz8ifFzQ070HZLc9Pn+uqsiTi1rOreFhNFicQrxJWL5vTcBAVbg8G0KYsoOfUCh36ciK+DuN2J77UB4Nidj6BbJOx1GslHwqQc0Ll2kvCXi5quj/1BETmpMxk2y0uXN2Ib762vC3ugXS95OPbLPI7OiUWiEtYfpctvCtEt4KzSTMFNyyYpO/4ewkkKJfuex535AKEebUj6fK85mt34Xh611/Yk7qvzbHo3Txgkn33JPG+7vlREdT+ZHb/1sPX1XIw2ogl1t3vQVE0P/6lX2KU0oW50aovqUkzLKHfGLHP0O2XGEkb/UDgCRBNFQPCIW1bJsUISTodjBBtRAU7OkMfFeLnFqDT6vkRr/PeKYgzRV5XN4+sCD7tfEK9r2uTnyY6/J+b++7xcaX5v9OgkbteCF9ty6gC08ux0Z8zixKw55rh+/G2FWPxNaR+GeO2j7hHpPraGpgSQOHENxBDXvGhlO+4yNwYRV1M0ZwQSzgh0vL57HP4sFxNvLKDNm7vQLRLhBJE37GuvUNvdgm6BYOye4d9bhnTlr/9irV27lhtuuIH27dsjSRIff/xxq9v85je/oWvXrjgcDoYPH866detifl9bW8vgwYPp2LEjc+fOJT09/b/7yq7WN1RXG8BvoDSX8MXSa2pjft4SSVj/tznNvLt2D5Iz+DEk3WD5+oWEUm1MnbYYW41MdV8blkbhweW6qCOHwVmli6g0Gay1Cg1ZVuLPqdh84ChXcFSLi5chQ/LhCOl7QqTvCaGEhBI47mwYzSFIyWlbLVgaBZHaVm8QiRd/l3BMQQ6Ji1pjW2GHoATE/8XFUAhB3FmzcR2rYdsfWnNwopV0PIRmFbtoZ7loKCPx4jGdVc1CEyUkLD3CiRKSahBOUNAvVmC70EDSIR/rP5wj+DV2ifjzojko2b/IbAyiAfFAjOIyWi2bppIjBWC5sg9X6e5nTNREakLySo4XY8jiI1JyrJDdLzY3j9X9mknmOakzGeTxmotn9HlFG6x9z3k48SPxvWaV2faHXI7M9XDyvrlUDjPoXlhMY6aV+luGcXF6J6ZOW8y0qYuovrEv7k4PY21QYxqlS2vc7QIpsdaHiD8TNhvH6L8JJ4NIujhGU7Kbm5qSQ7ENTpT/B0I1GcgUvnMtF8LhP/Vy9B7Z9NC7tC4Vl1zz3UI0pyzoDGCmdmx6N4/UPfXogWYz5ag4BgTKFEUso00yQOoh1XzsxK+r2fROHlOnL6bTFxHSvqzCWiU8A40Elf3PeBh3exH7n/bQc5HYQGz4YA6SZhBMt6I6JKz7TsU83+T1pwgP7U4oBVyHbWSPeJIp2UsuSw+4tA7n9eLEz+cIsVGCTEbZSfo+Lh536IPi3zLfm+b6W1L+CiuXz49poifeVMCmd/MwElzC7+6S7GbDrpOxSxyAXs97OXxvGu5e82KEFFG+pjXqv2gY2OpUpKbDGxrUxbxtMF1sUg2rzPq/zTEV59GGGMSYvHtRsfDsjHMxbbJomr9YK5DN0l1PU3LqhX8YjRZf8pX5fVREAs2fkZo+ToIT+5uvIyd1JrqreeNhci5boEZX4uaOv60QS1A36S3R0hwyoVQLE24tZM2n+axaNo+48xFS94eF6EyPXpOaNr5y83kfnDrY/D6cICGrBtX9JI7+QGbS9UtJ2VGJZIBrzX6qbxe3NWSxMdetkHRMFZzw1qYG/776Bp2g/X4/gwcP5te//vVlf//ee+8xe/ZsFi5cyM6dO7nmmmtwu92cOtX8+UpOTmb37t0cP36cd955h/Ly8sve19X69upqA/gNVCTOwvjvFdFw3aCYnw//qbeVOs7dI5+S8y/TmJVIOE5m+E+9+NpbqBpoJ/GYQVy5TjhBFgiYQ6RiBFNk7PU6thqJ+FOAAReHWGjMAGu9IBvrFqjpLVExxCrEIxaZpBNhAm0UsfhKwg4m7qKGbhOom7+9IDI3toFIXPO4VnfqSAY0tjMIponmMmqPUHLqhSv6Y0Vr5fL5yGqTTUK8GCVLqsgKjjQlfYQThMeeEhKJEXXdrGAYXPjpCC5MSedUdgLDf+pFdUjIGqAbTLilkIk3FrBy+XwmuwWvB8RiYW9h2AtcNoHjcsrXliV3FihDy8U0it5MuqHAbAKmTlts5ryCGGN2+OSsuXiazVqLsdXoHxYz+ofF6HY5Bgnu+lGEo3NySfpsr0iN2FFHbQ87Nb0cqA4J34hOrFi1AN+0fkydvhh35gOmxUW0ojnD9d3jQBbPJ3voE8Ijse8CGro4cVUIG48oKgnEIGzZI8UC2xKlCbSRUII6W97MZfz3RJO5/XceUjc1i3fcHR5q1ZxGx5sgmpC1n+SbyEt0UR57ZxG6wxqjsG7JTY1y1bp5i9n6enMzsvaTfORw7Huzcvl8VpXNQ090IEU0fN0SkXzCpHjjX/OYPv5ZDi9obt4rBltxVEbY9odcGq6JzSYuOf0ioVSryH59zkPZtidZVTYvhlvn7vAQw2e2Hl1mlYnV3QAsAZ2S0y+acYE7X/aQM3Ahw2Z5zUZsYK6X7BFPMv42cd8D53hxnvUz8aYCpFof6z7ON1HsaON84qf5rPs4n0nXLaXdJpXMLw2O3tOW0T9qfW5rrqa0ka+eRY1TUO1io9VS+BHIkKnrLuHacuyy/FZ3h4co3f0MR/NyyVh3kUDfNqxY/QjuDg8x8aYC87zJGfI4pKWY3pKOqtgdQvSzMTlnSYzISY8TnOcdr3qaN8g98imtfo3zk5Jj7mPSdUsJpcai0SZa34KmseGDOTF+pCA+v0rIYPNbuURcMlOnL2aye6kYBxvi8W0NgqoSiYeGzgaBTMlEhFuem7YGA12RcF0A+zkraz6bS+XodOLK9lBa9zrOKo2IUyKQKQkHBZtAwNU4cS381kqXrvyFEIu0/AqFrtydut1unn32WW655ZbL/r64uJj77ruP+++/n759+/LCCy/QqVMnXnnllVa3zczMZNCgQaxdu/abeZ1X679d/1ID6Pf7v6nn8b+6gqky9toI/nZyDFqx/XcenFUa7t7NF9yLU9qTM/gx1nyaT8bmSlSHUPRKqmiyJE38Xw4bKBGh9JUMqOsiY68VF5BwovgA26vB1iD+lSOQckCYKlf1s6I5ZGp62prQOxldETvg+iwFOSzQOM0u/jUU8aU5mlC6swqaw0AOC+sUzQaaFUKJEtkjnqTfo2LhurS5jdak65aiW0VTaa8Few1Y/SJmyRIUqR97l3jY8kYuG/+ah6yK1xxKlpuQKoEQisQJiUC6sAUJJclY/JqIxUpRkFWDEfcXU1r9GrpVHJOJNxUw/rbCGJ+xaF1KqL+0oiPclsR9EA2fIUPD0LZMzlliLqDRUa078wEzogqgcXwfU90arS//nEvcuTC6IlIe+s8Xj7FyxXzG3FVEad3rjLujiKrBibgqNUIpQl1Y31lh2ANe0yevpPyVGO5etNwdHmLz23moTYt+2c6nkBMSMM6VoyvChiLaMIOIO4sibNdOfM7MsobmRTX9qwjhJIvwn6wKM/qH4u+dVU2jxG5zwGY1EaxR9xTj7jWP+v7Nc67osVq5Yn4ML23TO3mmqvdy5WtvZXLOEo55RPPX9zEvPd9/lrE/KCLYwks6e+gTpgBo2abH0OPsSLqBkaiaY9VA+2brjZyke9n3vMil7fZiMes/nMOYu4WvY3b8PfR93EttN9m0NgIxKoyaBoNA9re/1ppKEEwTHNK4iwbrPs5n2M8uSZDZ8xy2Bp3qvjLDZnkJpYGaYDfH5HsKPcgnLxBMVgj1bMvg2V5UpyIycyte5ZrvFppj/DWfz2XNp/ls/GsenT/zk7r6FF1eERuksT8oYuJNBfjaCXRv4k0F1HcWojI53DyazR75FOEkOPCkB//obub5bL7u7CUYLYyVSw4upqG9RdAlzr7E2k/yzfPGUCRK9j1vHvOokXXL+wJMRax5zNrFcWlFTZ+jBuwj7y0WqTkWiYSd52KPad3rjLi/GN+ozjHvWdRzNFpySCeUJDF1+mJkzWDl8vk4T9RwzXcLWVU2j+EzRZKKs9LAXg1JhyWcFQbJ60+ZnOFoxZVrAtU7odJxjWiatv4xlzLfm7h7zSOUqKBbm6y7bJDxVYTGNAVJxWz+v40yjCt/AXTq1ImkpCTza9Gi/5zt1KUVDofZvn07M2bMiPn5jBkz2LhxIwDl5eXU14sNcX19PWvXrqV3797//Rd3tb6R+pcawMzMTO69917Wr1//TT2f/5UVTpAoH2En0BZqe0pMun4pk65byvCZXqr6Kxy7K5N+j3oZOMdL4skwtQOSAWjoncLuX3lwVKnYGgxsDQIlkVWDUJJ4a2TNwNYg0hl0i/Dzk3TR+BkKhBMh8bQYi7nKVVIOq6Tti+Bvq4CEEHREDGTVwNdOwl5nCI5LUySbZgP0FpY1TbYZloBkxjg5Kw2UCMgayPWN7HvWw7nJSTHWIC2NWg2LhKVRXGV0SxMhXgZJEwbQUV+8STcUmAuDpIvHN+QmorQkGkjdIo5BOF5Y4lQNtGOv15vEKRK6VWLog14CbRRTlGH165dV27b7+MR/6v2018fyl1aumI9qF5xGSW/mIUZRmZLyV4h0ae5KXAcuxjR/UeRQcwmvNWTRDEdf/+a384TNhVMi8USY9X+bgxxBmGjrovm2+rXL5g9H77/k7Eu4M2bhPBcgp/9Cpk1dREnFq5TWvU4kXqCuLS13pBajtOgoL1rRhm7N53OxBHWRCnKiylRfOqrC5PRfiG9Qpomq9lvoJeW97dSOaENNr9aXlez4e1olPVyuTGW2buDce47eT3vp/YyXtlvCHP7eo6a33oRbCrnmu4WoyQ6Uo6IpcLd7kPpeCWh2GVq8hRvezzMRxehrW/dxPr2fPSTelyaEpsz3Jvuf9uDvH6Z8Rif6Peql36NeHEcqqBidFvP8QGRCt2xqo6NyS0BnUK6wXolWdDy6+e080vbo7HjVQ/wpODehGRLq9byXkopXqRokzrndL3gIJyqUj7Aw9s4i8/yLcl+jtXzjoxjJ8Zx4YA5r/55PJE7i1C06rgpNIF+NOkoI5LCB/cBZ8+/Ktj6Bo0qM6XWr1ArJXVU2D1+fFPH+NSlqk06EY2x+zPtqYYsD4Np/sdV9Aa3OYXvNlVGnnNSZuPsuIG1HLSXnX0bSDAg0MubuYibdIDZ6o39YzLbf57LuozmUHG/mlOqX6NQkQ1i11Ha3E46TmTJjCSX7F7HuozlMuqFAGOrXipMmem0FMOobYtJ/AFSHjKtCJxInU99Z5AiPv62QnKR7KTm0BGdFBJtPRHK6LjZ5LNrENU6/Mgvlm69/ggCePn2auro682vBgn/OM75cVVZWomkamZmZMT/PzMzkwoULAJw5c4aJEycyePBgJkyYwC9+8QsGDRp0ubu7Wt9i/UsN4LvvvktdXR3Tpk2jV69eLF68mHPnzv3zP/w/VvY6gw6rfRxe4CFtr0E4UUF1yWx/zcP+pz0cfNxD2l6N+HOiMdn8dh4D8r1s+EAo49Z8PpctbwqTWTliYPWpoglMkAklyIKj16RwC6bKqA7RQFj9sKfIg2vdIXOEsu7jfFaXzCXhVIRdL3mIxIES1JHDBhm7wyhhA72J5Cy1+HJeFD+z+gRnT1LBUSUMohvTJHa/4CH5oJ+Tt7clZ9Cj7CmMRUCiI54pM5YQSm4ylTXERc/qN7AEDJxVGqkrj5uK6DWf5rOqbB6WgGhudSvQJBaRNMHD0a3g6xC9rybvwwYNzQa2Bh2r3zC/wgkS9Z3Elf9SG5XJ7qWmDUfLcVHLii7SLf3YoguKtVGY4jrO1JkIV0uOUUwT5feTk3Qv2UPFohkdH0oRnc1v57Fy+Xx2/8qDHBbN1YB8L5EEBc0mhDxDf+7F6gdXpS64khFo6CTQpUuFRNH7zxn8GJG+nZBPXaB073NE4i2m+lRXwBowzNQLQIgQmhpY87UOedwURURLWF5IMSPQFSsXEOyUiK9D8yq77zkPZcG32fROHtYWovhJ1y9lsnspF+4dwiCPl4G5/xiFDY/oBUDcBZX60Z04+LgwWY42EDt+60EJCAugdR/NwdIQoqTiVSG4SEkicX89smqA32Ie/6EPelGdsZc6d79HKKl4lck5S3BdUHFsPGA2iVl/kwmmw75nPex71kOgfyZVwzUm3lSA0TPLRANLv3o2pqmtalrPdItk71rcQAABAABJREFUolfm8W6xIUjacIJsx13s+K2HTl+Ig9XNW8yhRzzkpM4kfbcYg467owglbHDgCQ/Ja06w5tN8tryZSzDDTv/5Xob+vPlYVo0QCtSxdxax7fe5ZH5hZd1HczBkkbcdyBQbQbVrWwbmepl0/VK6/KYQJWQIY+yIYTbHUQXvNTcXkLBe5GvLjeL6s6psXqvkj8tVyZECkUN9mWrZNGuO1o4CZrVrQ8n+RQTbCpRwzWdzwWbD1qDha2dhwwdzWlnCRF9DoE1s5nl9Z1vTZMHAUKAhS3yesuPvQQlopBwMsumdPBJOhs3rjxIxCI/qxbLNj8c0gRvezxPelg068WcirC6ZiyVkYIRCuDNmoboUNKtIN7LX61j8GrLW7En5bZVkXPkLYNq0aYwZM4Y///nPJCYmYrdfObf8P/V4UuzUxTAM82fDhw9n165d7N69m6+++ooHHrgyX/RqfXv1LzWAN9xwA3/72984d+4cDzzwAO+++y6dO3fmO9/5Dh9++CGqegWm+P+xWv2bX5jmsZvfyiXxiA8kiWE/8zLh1kJmjBWO/pveyTPRo45/EDmvq0vnMen6pfR93MuMsc8Q9/lOVi6fj71eJ+Gcyo7filGpbpORDOHNZwkikL2wwah7ijl3T79Wz0lzyEy6oYC4coNVZfNY8/lcIgkKEadE3PnmJlAJiWZSCYOjBkJpAukDcFQbbPhgDh3fPQIIb719z3oo/epZc9Q9/ntFJsEdhJBAV8QIV7ND/HmV5NXH2PJmLus+zjeFMVNmLGHqtMVMyV6CZIjEBluDgatcR3VBKFUIUSRNNIFhIfIl/myEUIqCo0ZnwwdziDsfJu68sMaRdMEr9LW3UNXPwdg7i0wlZNSKBVrbfJg/L4/lq7jbPdiMhjXFlR2/PYNQ8iXNRMasmFzdcP8sSuteR75QGXM7wyoWpSkzluDuISwpDEni6wKRiOK6KJBcWRUIRmOqeBxHlUBzQIyPL1dSTQPVfV2E+2Xh7vQwlkaNQPdk8TsdIk4JpQlsGfKQl0G53lYked1h4Ys1j5j+bJNzliBrgr826fqlJmdw3O1C0Zl0NIy7w0Mm39LdQ6RVpO8JmmisY81eVJeMNWDwlddDmx2NZgMx+OHWzWB0ZGxp1AhkxsIl0cYrnNysaJarfbizZrPt97kQDFO28ykiLnHcDLv4+50ve2JMgd1Zs02KwOrSeZydZOXgyz1xnq5n+Ewvaz/JZ99zHlNluubTfE7MmiNGntueNI2Ru3mLcWc+wLCfeRk2y4u1oSlqLEEyhQ4tVevDZnkZdU8xkR7tKAu+zbQpizgzVZzY0VF3afVrxJ8KUnKkgPiTfsLxwuPQNzKLnIEL6fpSEaevg/S9Kjt/42HYA16z0Zp4Y4G5efnyz7mMvbMIKdL8OarrqlDby8meYuFHeuLncwg10UnW/r15/PuVV7x2zSYTGN6V8bcVUjlaKDanTl9s0i3M43mp+0FTrf/bnBjRUbRaNs22c3Ux4/XopmXcHUUmx1NzyLh7z8fdI5/60Z1Y+0m+OX3o+9jlNxTt3zkYw2fVrRLhZKjvItDwbb8Xx7tx6gAMi4RmE9xc+77TWBoF0ippIuEjO/4eUwwGAjGNbgijj7Hm03zKgm8TGtKFxjQxfXGVq+ZYPeFkBEP5dhvAf4YAbt26lX379vHggw/+kzv6x5Weno6iKCbaF62LFy+2QgWv1v9b9Y2IQNLS0vB4POzevZvi4mK++OILbrvtNtq3b8/jjz9OoKXS7/8HVbb1CTa8n0fmqgvIqmFykAY/7OXIj9rQ5c+LOfh0H0DkzBqKhBwWHKay4NtMvKmAcIKMr60Fd6eHmXhTAYF0Bc3adFGyCDPeLW/ksuXNXL7yxqINwx7w0tBRIZii4KgSeaWTrlvK+r/Nwd9BQokYWAKYFzl7jfg7fzvxfdx5nYzdqrm7jooiovyekfcW09BZov98Lxvez2Pny+Lxx/6giMk5S0xFshIUpP2S8y+3snhYtWwe1g17WFU2j+SDfqx+oXQOZAjEM5IqEkt0q9ixynpUMWzBdTFCws4LzLB+H/uZOlaVzcNVoaFbJEG2bmp2xBhVZuKN/zjNI6qWbVXWWF/ADR/MIZxsmONts+JdaO1TzTG4pU6Y+EZ6dYi9nWagxinodpnqse1YXTKXVctE4sbmt3IJJSmoTglHjS7G4YpoooOpMlafaABbEvhjKs5JxvY6sZh1TGfl8vkE2ihMuKUQ3SrMgC1Bg5zBj9F2ZaWJUEXjzwCqBgoj3bV/z2fE/UKwEh1ZqS6FlcvnM+n6pUi6weBfegmlWKiZ3MV8TqGuadh2HgVD2Jm4uwlVafkIBWeleP62vacItLVyzc0FJB+OkJN072XVo+XDHaTuD8b8rPSrZ+n9tJduvz9JdX/ReJy5pQMYhrAhaUIpdSvIEYllmx9n4k0FZiMXfX9KTr0gxonA0J97iaRHaP+xldKvno3h9kXPmSuZfx/z5FJS/gqZK86RfDRE5/+oI3v4EzirdVPo4O8pkLmJNwoRwpY3c1FdAvVasWoBalwzyhzdSNnOC67Uss2P46jVMKxCgV+65zmOP5RH32fOsObTfHo/7SX5UIj1f5sjhDKSEJZEBSGGJMzjA21h3/Mevir2EExtbt56LvKiRJobuD5Pirxjd9emaYRqoNskIapoOuVXLp/fKsnjUoPrlrWqbJ553E3RVotRc8nBxUiB5jFwtOnb+F6e2diu+zif/bnplBwpMBt5dw9xfKMI6qUV3dxE0UbXRU1MNarFtXPwL8WxNhSJVWXzWF06zxR6xF3UxHShQcPaEEGy2UwEFCB+y0mcGw7FNM1R9DgSbxHcagvUd7Yy8t5ilIhOTW+reU361uobVAH/o7LZbAwfPpzly5fH/Hz58uWMGzfum32wq/WN1jfSAF64cIGlS5fSt29f5s+fz2233caKFSvwer189NFH3Hzzzd/Ew/xb6p95F/1XasxdRUyZsUSMvXKWUHJoCWs/yWf93+Yw+kfFBNoJtC3rfYWun0SYdN1SlORkXOsPCb4e4iLZmCrGgZaQQf3oTk2pBeIGsg7WQDPfaHLOkpgL6pi7i0k5GMRRYxBKFHml58c6CGRa6POEl5SDOrZaQWLO3BJm/9MedrzqQQkZtNmlsvsFD0mrj8Rc3ABTtJA94km2vp7LgSc87F0c23huejePcJIFyWiK/mo6u3L6L6TM9yZq+UVTNQjNSIAhS6z9JJ+kv2zBWS2ELJIq0kh0qxhhajYhitjwvhihNgxpi5KcTMn+RYz9QRGNqQrWgIEcMZCblHyNaTLheIlAhtLKTDm6gACtSN4gFim9TXLMz6ZOW4yhGDSmX/KxCQh3V6mbUBFLqk5O6syY6LwxdxeDIqE6ZSRV8JFANBfrP5zDxJsKiD8TxurTsVdHSDgdweozSDkYIfFEGN0iMfpHxa3MpKNec8a5cuT6RuwHL7Bs02NMzlmCrd5g/YdzUEKiEdDsEOiSaC6y2Y67YlS4llDzyiBHRAMUt2o/0yY/j2YT48U1n81lwwdzSD0g6ASy2nwsVy6fT2n1a4STrfRf4DUbssMLPJSPavbETN5XT103C2s+n4uhaZSUv2KiiMNnenH3yMdRbWA7HIsoABx83EPVlCyOzhE5znsKPZScfjEm4sxRraFbxWtZ+0m+2cipIwTp3N0jn5J9YtSthA3ijlpJ2F/T6rFAII1rPs1nsltwek1vvRZVckQo09UEOw3dE6npodDvEdGIRT9Ha/+ez9Y/5jI5Zwm6VTKV3KrLwOjRiS5/WkybzbWCm3ZwsTmGbUxVcFSApUWe8UV3F/NYWKsb6fOEl/7zvTjLdpF4SsPXTjLfw8TTOm12qXQvLKbXs17iLhhMnyDe/+7v1aBZReZtzqBH6fKrfWIj0qON2MgZokEa/cNiGtP+a95xLT0mo/SQLW/m0nOxl6pbBrQ6fperlub5fRfHUouifxOdvOQMfuyy91EWfBt31myURh1HFVj8glKx+1cepsxYgnwJol5y/mVCSQpKyGDN53MJthHG8Wqyw0Qnw73bt7pm+NtaGH9boZkKpTrE5nrr67noFpnU/WEsjcYV7ZP+LaX/gy9g5MiR9OvXj5dffvlK92CWz+dj165d7Nq1C4Djx4+za9cu0+YlNzeX3//+97z++uvs378fj8fDqVOnmDVr1j+416v1P13/UgP44YcfcsMNN5CVlcU777zDgw8+yNmzZ3nrrbeYMmUKd911F3/5y19YvXr1N/R0v9n6z3gX/WfqphkFTLp+KfZajUi8QiReIZwo1JOjf1gsxqUGpOw3cF2AYKqCbpGp72LFP7Y7kUFdUV2imUv9+GuCaRL+DoL75m+nUDlYQXOIxk+XoaafTl1vg36PeDlxk8KJ2QPpUSAI0JvfymXFygWE4yUST4urzb7nPIQTJQ485WHje3ms+Xwuexd78HW0mgvN1tdzm1Gy1GTT5iJ60ev4wjYA5JMXGPXj1pYTURRh43t5OCpVVKeMGicuhqe/k86Yu4oI3DI6Rm0aLUt5HQBKcjKNaWKUK0WkGM6MGtfs9ZeTOpP41QfRegiELXnlEdI3V5D08W7s9TpWn+AKRnmFkTiJi8NtMZykYLd0coY8Ts6gR3F3eCiGlwTCeFY+Xc60KYvMMV50bBhMj0UxSEtBt1vMNJKq4SmUVr9m3ibbcReb3xJJBBgGulUi0pRaZfGrXPPdQnHsZcE7WrliPsE0C4YsobpkfB0FEvnln3Jbmd1GR1lGr84EeqdjJMebi7e9TmXijQVYgqKpNiSJus7NnKuWo7jxtxWC0YySReLFay2tex05omP16zHcSM0hE3fSRyBDpuRIARNvLGDEfcVMvKmAho4Kexc1bw6G/MJL91dPmirssm1P0u53uxgw10vVHcIzLYoi2nw6oa5pbPuDaPCiaFZL9PhSgv+lZSgScqS5wY6WL6tJcOFvnkhs+30usiqQp8nupfRY6mVAvlC5j7ujiLRP9gPCZNhRo5kJJkCrtBXrRR+BNjLOSoN9z3v48k+tvTIlQzSD0QQbJDg/MZm+804jn7loipdS94cZeW8xki5MpVuODhvbNH9ftvMpOhftIjAwyMHioVQMUbDXit9dHClhCWgYskS7jTrd/3AaX3uJ5esXMm3y86ZZuKQoHJrvMpualcvn09jGSn1nBUmHYIpk0kIuV5dD0A3r5d+kw/M9bP1jbowX4KV1ud/9MwunS4UpLd+bklMvsObzuSQdjxB/QcXSqJM99AlWLROo36QbCmJMpTe/lWsijVH7oqN3WpDUJhT78IWY0b47azbBVHGtlnTBCY8/r5N4Msy424twbDzA6tJ5bH09F0fNtykD/sdG0P+VEfC2bdsYOnQoQ4cOBUTDN3ToUB5/XBznO+64gxdeeIGnn36aIUOGsHbtWj7//HM6d+7873t9V+tfrn+pAfzJT35C+/bt2bBhA7t27eIXv/gFycnJMbfp1q0bCxde2e7hf7L+K95F/6jquzmp7WGltruVSJxMOEHC31Ym0FY0H43pEqpDCBkaM8CfKVHV10rCWRVLowaShL0aAm2tXPzBQHSrMF5WguLLUSUyeRvbQCQJEo/ItFtv4KgCJSDTcVWAI/m5MYaykgFn7ojQ50mx6LY0MY5W/FmVwFhh5dOS36XHO9j+moecwY+ZaFFZ8G1yUmdy+se9CSU3owG9nxH3H+zbnrF3FtHrOS9rPp/Lpnfz0G0GE24tJP68wea381qFs0crupsvqXhVoIZN10jdIhrAcMcwcljsqK/5biFSeiqS3Wbu/pFlSvYvosz3JvGrDuKsVIm7qGGvNwgnCE5daFCAhg5injlslhclqCKVV6EmO9Gy2rR6TvK5SozMNKyVPkr2LxLNowSGYqDZL0nACEeQwxo0+Jkuf4/4MxFyUmdy7r6B5rEDgRBrNom6rhZUp0AUV6xcwLqPBAIYiVOo62ph4k0FOKpUM8N12+9zWfOZSBGZnLOEyTlLWqUgBDOcuPaWo8U7zHFdMM1COFEh5WsflqDB9tc8JB8V99kSAQVhXKw6JROtaRkWYFhkdIskeFhNimbJADSDtn/eA0BdVwu6TfgGWhoN09sOIPlImJJTL9Dur4fM80wf3JOvl3pIOharAt30bh7VfewmShVtolp6M6btqmv1frV8vJbIUXVvi5keEYmTcPddgG9M15i/jbsgDtjqkrkcmetBt4kmVdKh6ua+9J/vxZ012zx/TUXxrqdjrJD0RAftPjlBMFWiy28KzYxraG5qHCdqzGOwumQukgod/nKEkvMv4xvbjbF3FtHthWJO/0SlMU2YpCNJWPxiMzdgrrAraVllvjc5ftcC04S6vpvgHtorJZAlgskykTgZNCEqmpyzBFt5A+5e85BV8bk7ducjDPuZ18ziliMGzkqDQLpC20312Gsv37jkpM68LIJu2GIbwEvH/C29AFuKkbr8phDXF1/H3PYf5W9frrIddyGdr4jh5YIQkaz9JB9dkSjb2TyJUILaFSkikQRxzej7+AkwDGHJ1CY5xgv17G2d0W1grzVQAhqui4JusWrZPBw1ERpm9DdvG03b+TZK0q/8Bf81BHDy5MkYhtHq64033jBv8/Of/5wTJ04QCoXYvn07EydO/De9sqv1TdW/1ACeP3+e3/72t4wcOfKKt3E6nTzxRGvU53+6/jPeRZdWKBRqZZ4JYmGx+gyC6YKzFU4UQfNKEEJJYjFVnRBMFpFDceUG9joD1S5jrQ1hO1GB1QcJp0I4qnUsftFo2OoNHLU6yYciJJ3QiTsLHdYESfs6xIb389jxWw+aw6B8pItez3rpsdRL76e99H3Mi3RjJdYjThLHVJjP/9IL4uqSuRy5/VGmj3uWcKK4YG/8ax7yifNMuLUQKayai1224y58U3rT8fNKQsni76ePfxZrvRgNVvexUTVANse+4+4oErYHFolQosT42wqF39plSOHRMWb/eV4STwqjajksYa8TRteO4zbh0G8RmaLU1UNKkokKxRg3V7/G6pK5zZxJXZhOK0ddaA7R/MWVa1jLGzDapGI9XWVyL1saI+sNPiLpcea4RGnUaehkxbAZ6PbYxfDsje1FMxoMsVx/H9UlU1r9Gplf+mPscSRDCGyi9jYrV8w3f7/2k3ysfo20vSGUoOBD6jbBaRxzVxGjflyM0qhxcYSN1aXz0C2Smd0bVZLr586zfOOjrCqbx6qyeQQyZKGY7BrHtt/nMmyWl4vDrbj7PUJjzwyGzRI2JxNvLKBihBifg1jUHU0Lfnb8Peg2mQ0fzKFucAZnbhaoq+vr82gJNkrrXhejNBWSjoZZVTaPiEuKafajRPlo8kVO6kzUONHFrFjV2npi10seDLkZWRp3e5HZ8Lp75FO2XUT3RVM2ABqyxELtzprNhFsKzezpPYUe8zFUJ+bCHRWiTJ2+GM0mTNunTVlETupMUg9oDJsl+K1bX89l72IPJadeINtxF1Oyl9CQZRXNcKeHTTFC9vAn8GW5qBubxZ4iDyd+PofNb+eZ52i04TGcNtMKZcbYZ5Ajknn+Oi80krzuFG03Gri+FOdrzdAIhgRnJwr0MuGMTrCNRpc3xfPPSbrXfC3uDg+xd5GHnr86Rsn+RaR/HaGqj4VAW4mK64KUnHqBDv9xgdWl8yjZvwhf/wx0qzi+M0Y9TZu/7GlOAJEE8hdJAH9WHKGk2BFwdGR/ueYPQK6sjfn/pQIrEPZFM8Y+Y0Zl5vRfyImfN6eRRCsqpLgUpb9SlQXfxgiGYmgBLStxf7VpbA6trWncmQ+YCKISNsyM5ZJDS9jxige5xh8Tq5hyMEKgo4bqlPB1srGqbB62uoh53xvezzMpKErk21SB/OP6pkQgV+t/b/1LDWBCQgIXL15s9fOqqioU5ds0PPqv13/Gu+jSWrRoUYxxZqdOgvOlOqC+m0QkwTBzSsNJoNubdlxGU56uSzSF9loNJIg/HUC+UE3J8WJk1UCzK1gbdez1Bin7BFcl4WANkm6ghIX4QLfIWDcI1GXkvcUgG+wp8tBuU4TOpUGsDdDYSaXyXBL2WnD8Rvh43bPlPi58pzPDf+pl6vTFzBj1NOO/V8TwmV7OTo4jkKGYEU/BoV2JP1BD9cgMHGv2ihdvsWBt0Cjd+xy6BYb9zIvlfC1pB1Q2vZOHYYHub1wg4SQMyvUSbFLKBjJk4s9p6FYJf6ZE5UAbwx4Q/KjoRTF1r5/sEU+iOcDWoNLYTkeL01HtYFibMoktwoEfAFnGsMhona6sMIs7H0EJC/TPsAhRSjhJNF+aTYLGIIZVMUdLOUn3mguBO/MBpG6dqOtq58x1Qv3YmGER3ES7hiGL5zHh1kIR4VcnkE61dycm3lSAvUZc/P0dnJT53hRCh6zZ6BZxDIyo5Q3ELHYrl89HcyjCf62DlfosC7JqYK/R2PJGLvXdnKR9LRCE9X8TqvJpUxexunQeOakzMYb2iTkGzipDeMCFmz0ZM3ar4AuwumQuO171kPWbfaz9ez5Jh2XT+6y0+jVs9Zr5/KLHJWnXRfY0iUdKjhebQopVy+ax82UPgbbiRbV//8hl35Mo0lNa/RqOk5fn3EWrum/zSHLjX/NwrRaj2PM57XFnzaZ09zPsf9pjImvRjNWSUy+w/sM5rZr0lpy0uKO12C/6zWNurzOoGaCzYtUCjHCYYLLMjlc9uHuIxI2oorks+DYVg2zseMWDlhrXbCvU6WFq+ycRTpDM0TmI5rnl5gSAiGYq6JdteswUBYy7vQgkiZLTL+JvKxNJEudt3DFxTDO3RBj6oJdN7+Rhr1TI+pvMwFwvNTcOoL6LSMfwj8gCQO0iPhdrPpuLvRZs9SCfcdCjoJhI22Zj53UfzaGxrUHC4XqC7Zw0jm8+f2wNOkpQbGhreiooLfQ47swHrixG+ifVksNacqyQZZseE4bcf5uDFGlGxy4dr7vbPfj/sffm8VHV9/7/85zZM5N9I0AgBAj7vsgihEVIRq8Lrq1LtaitSq1MAAEBRWTPMlrrVq3VtrbXW3utetuwCLKIKCiLyBbZtxCyJ5PMfs7vj0/OyUwStLeLv/Z+eT8ePIDJZJYzZ87n9Xm/X0sUZSFyY9W2xt1RjJrTXbcBAvSOMoB0qYbm1MsvfaUVL7VmaYdVdv5+DqXlLzD0UbcweD9RxO5ftY73t/75ceKPGmju1HJtQVglRarctU2QN6VN+/afWJIqISkd/PkbsoCv1P/N+rsAoKp2PBbw+/2YzeYOf/avVt/kXdS2Fi5cGGWcefbsWQCau6gklKmYG4TFgIrwfJIDouNj9Aq7FftFFUlVMXoVkr+oRwqJuKi8kUux1YQJW2Xqehip7ylhalYxeRSk8ipsZ+ppTjFgCKoEYw2s971FnuNedr9eQNzXYtX2JxioHGIl5UAA6wUjmX+RMfigeoCR3qvdXLo7BSQhpvCmmKgaFov9bBP1vSEYC35nPSdvttDj+WJq+5jxZcYRNoNvsiBsn31sKOcnmRk0141iUVGN4gJ+foLoHCYcD1ExuRMJX/tpzFaoHaRgvSSTcDyIqSmMJ0PGnyhAiC8RavpLnJphoM8zbo4+YOHctHgMAWhOMxF7XMZ+0oD9okrSoTByUAC5up4S424vJtCnC96ucajGVq+vyJGmM/1hFLNM0CFC27WupGKExmwFX4KMcqmSUJzwvZp4YyHr6l8n9/pCcq8vJNC/G6rFRPL+BjLfu0judWvZ9WYB9otB1ICM0SMsdj7+41w2b1pA6vYK7CcaUWWwnfPo4o/YE42AGBeXnnkWxSAWY6klc7RtOVMfak1jkMDYrOJLlKGFe2itDrH9T0KQMO3qFUyZupqQ1cDk6Ws483B/AgmtPl5Tpq0m7rgAOQZvmNH3lWCvUIQqO6IzondwlBZ7oZbXEbS3ZPdGpNiUlq0h+1kBXq6+pSgqYQNax7WV1/XsMLs4ynbG8M2XHsfFkD76y1nu5uTcQQyc56a5E2BuXUS1zlrIIa5FWa+2jgvb5h5rEXKNOQkQFAB3yrTVWGqC9Pq94AWGRvUl5dNqRj5QQvX4DJo6G4kpFwfG2WuePj7T6Qe0qmCrRimoMjpHdr3nzagx8LTxy1l3cAUNPVqvL9aWBv0n/zWHM9MdTJhRREyVwpGnhN+htRr8CTL12SaMzSrO/k9wdImLbe/P40CJi6R1ZXzxCxeT8tfoY0wpqDB5+hp6vr2CtHWnMDWpHJtXwLF5BdQMaM2wBjB4xTh023vziNl9guEPuZk+ZhlbP5iHyauScEwh7oyCN11YrvRf5Eb1+Rn5QInegW3rJxl5TNpWJIdVA+UnHisQ51OvZL3rqwOwy5SclEie494oUZlWcYdrBdf4cOtGJDJ1prTiJUI2YWGlddEvVyF7ayNj3/Muzt+V02GiUNIhIahL/awGEGI+Q4AoikCfZe72ArJ/Zn1HKuAr9e9b30Kn7rh+9rOfAQI8vfbaazgcDv1n4XCYbdu20bdv38v9+r9E/S3eRRaLpUOzzNQvVEJJAvnJQS39QizyQTuYG8Q411IX6jChIpBko2KkEVNjq32KJ0PmQImL8bcVE3PeS0xVKwF99L0lKN8T5HnH+ZYVSRKiiVCMgSNLXS3u/uLxMjf6KS1bw7BH3MSfDLL1L4/jzJildyd6FpVg3BSPORkCiQq2KgXb3lOcm5yDN1mcIodWuBj5gHDdz362RLd+Ofa4+Nt+oIJt70UrJMfdUSw8yBQRj+UoV6nvKWOpEaA47QsJbzIkfG0kbFJbOJIy5gaVps4S/nhJCGYMIlIORQgbgnEmzHUB/CkWXWUZqSQsrXhJ+JUZjChGofyDlpi7ShmTV43qJmgLZ2QUVt6Ip5ACIU7f3olDy11kvVREV7sBU5UBKRx9Xxo9NA5NI+7DI6yreZVrcldSNdhGSkz0bj+mIgQSNHc26aBUqxEPuvmi8mXyrHex3vcWiUea8aVaCFklAg5xZ2NzWBhtpxhRTIJTaj3n0flM08YtZ8hP3ZgbVXyDLKhGC8FYcQ6YGkAOtwoj2sZ+hS0i+9fZbyE1zhwdzKk2sZEbf2sRO96Zi8ErHiOSZweC3yipwkT789cK4DXa1aT8NWxZNx9n5mNRAGHqlFVs2tw6Ch72iJtOh6uoHZXG5Lw1dG3JdTU2B9mwcwmD6twMme1m/7Pi3Buw0I3STXwPTj3Y8r5U4eEWWRo3MnI8vXnjAkb9sATHeXHf+mwLn3cwlobLq1VBgN/BBW6MXmH2DQLwfbpDeNxdM3EFwSQLk/PWkF1WQVZ6IbZzRpLKW0eCaXtDbHt/Hv2WuJl4YyGJBiEsiLkUjjrek5xrdSBVk59D1m9W4xhkYfS9JXgyJdT8WD2DuI9pGT2erhWqY1XFkhPH5Lw1eFOM1PWWMbfGVesA/ZrcleQPWsSnB1Zw1T0lmJoV4k+o+ng4q88a4j+X8HYN4cyeS/3k3vpjXHVPSZQ585i7S1rHym2PZ9kaBhW4OVDi4uM/zmX0fSVsvcxIubT8BWHefWgleY57ke0xSGYz6zoQlWk+jet9b3H1LUVRxy5v1NOs3/0UB4pbOdFTpq5u19HUzlHte6od8y9LXAyb5dbPZa2sB88xbfxyNraIUeKPNXNxrJ3krwL6fY4+6WLMDdEpLv/MiuT7tb0dBAfQYDAwa9asK2Pg/0frbwKAbneLh5Kq8vLLL0eNe81mM1lZWbz88suX+/V/iYr0LpoxY4Z++8aNG7nxxhv/V48lhUV8WFNXWe9WGfwqjrvPE2f2c+7XPTH6wzr4mz56GRt2PcmQ2W7iT4YIpJmQwpC+y8umLU8w2OUm5Us/Q3/iJr4pjC/dGqU+3PVmgc4tMgRUxt1ejEFRCcYY8CWKoPOKXAsxFQKQNvQQi7hI1RCgJHI01b00wOZNC+i3xE3OL+sACPbNpMvHIcqvMjJl2mo2b1xA/LGWFpGs0uP5YjK2i84FEJUUoZXjdBMbPm0d5Uy8oRApLBOIE8fIkyEilUxNCiGbTNAuYb+goBrB1CRhalJRDRLetBb/LBlq+piJOxumOcOqe+N1VIpRJu5siIZMIbjQzHC1uLlvLQVUi4nu/3kBlkPXjSKOTQ6LnOSoCoVFZJrJyHTT9zAlJJBxCLCKzcLYO4vZ+bs5BGMNfPL2HPovdhN0RD+E5j8n92gZ48UYCdlkAnYJe0WICTcVsv0ywETLHd74yWL9swLR4djxB/H5DCpw6wrEKKDbAjhTvhKJBpSI15t73VqqBpro1uLR1lbA0/PtFRy/o7WrkrjlFLWTezDyfqFc9aZK+JMg6ZCK45yfTZsXtnIBI8Bf/tAn2dSm2xN7LkRp2Rr9vQwucBM2QXOLGloKQ8bGKrHg7liMpRY9A1l73+o0hbreJgYXuEk4HmLbe/MwtNjcaO9Zq92/KiDbLbp2n/8yGqwM/3F0pNvUSSsxHz3ffrQLmOuF2GnCTYUYfArNvWMYeb94XP/IGCz1KvHHg5SeLCHrF4WY66FymMzY7xcTd6QBpYeQhme9dozm4d2p7WtsMQWXcPYooPRkCYMK3MS3GF07c+aTYLfiOGfl+B1hvips/Yz6P+Hm0EoX0pexrNvvYshjbvY/5+Kqe0r0VBVnl0dpHNOq0syPn8mRwn7EDbfhS7Ex8cZCzJKIkPPHy/p169QP5jN8hxtLhZGq3M5R41At5hFEx/BwBPi7+uYiqgcYiD2jkrzhOKXlLxBuTcLTTakvV+rFlnZpnyxKv3ia/PiZXDNxBYY9Ze14gyBAm+NCI85e82gcks7Hf5wb5UIwaI6bpCNBVIeByXlr+Gj9fEbfW4LjXIDNZ58jf9Ai/GNTyL1uLVtLH9fPR2+ayF3PH7SI+oFJeJNl9rUxl9+4Y3HU/yfcVEjMun2Yx/bmO6sIy5d2tyM4gHFxcR3c4Ur9v1KSerk57l9RkydP5t13322n/P13qbfffpt77rmHl19+mbFjx/KLX/yCV199lYMHD/5V8vWGhgbi4+Opr69nxk0vcGa6lc7bgygmCVWWMDeG9MX4mokrUEwGwhaZrX95nLyRSwnGW/Wd5/QxywgkWKjvaWbvCy5GzSyhoYekm5fue769infy9DXU5phJOuzH09VMyCqhmCHudIiG7kZMHpWgXWLfz8Xvjr63JCoPNrLG3F1C4voyiHUQzExCleDsNBtli8Tv5g9ahDcrgZo+RpozVDI+UQjEysjfr+TTPGE03djNROJRH+cnWcl67hCnHu3Pkadd7XbLIBav0rI1eufI01kmbBEjL1tVmIZuBuJPh2nsYiAUIwyqLQ0K3mSRiGLyqMI7UW3N7lUMELfjpL44T5m6msZuZvwJIgUABUyNkHAiFKVCbFv5SQ9S+x/9SDhYj9zoo7RsDeNvFXmp1QNlgnEKJx+dE/U7V/2ghKTSMkorXyZ/0CLUk+faLUpTpq6mrpcFX6rouB1d0nJshyzpMF918vQ1eLqaiD0bwHLsUodWGHkjnkKuaaT0ZAnjbysmbtsxSEogkBFHTV8rqgHsFxUsda2k9I5q9L0l+qLszJgFJlOHJPpea9xkbhZij0gg5cx8jPpx3bBWBb+VH9bnGbf+3juq/KFP6iPArFcLSf3EoIOMvk+7sZ+HtPfKCAzoRvlP/fhOx2Gpkuj+31VIVTWUVrxEr7Vujj3uIj9+JuvqX6dncQmqAU7Mjj7/J95QyLb354lF/s+P0/cpN95uQfo8tEf3SMwfsgQkicbe8cR9cqpdksyIB92k7q5FMRvZsEtseJz9FlJ6eJX+94QZRVT3M5D+RUAHYAA9fruK2D1WmjtB5x0h7F+WE+qSTDDWhKezEUkRGbXaBtCZPRfVYdW7XFHHbcAi1h1cwVU/KCHueDMbdyxm6KNuPJnQc9k+QqP6UtPfin1GOQZ3CjV9TJi8UD0qSP+lFzr8vHOvXUt9TxNNXYSFS2S3dtAcN51f+ByMRuiXjbdzDNvem9euwwvoAEvbrDi7PEqgdwZnr7Fh9InYvchydptN6ZlnO+xWA/rnevXNRXz839Gbk8nT1xB0GHBsOqSr9SfMKOLcFIm+y4/hG5qFpKgoBgl/opGYigCbNi9s91iTnGvxdDFS1weOzSto9xwdTXOc2XOjNsPaCNhaE+bSSAMxR318+cYT1NfX/9PAl7Yu9Vi2Atlqbfdzxefj5JOL/qmv4Ur9e9T/ugNYUND6RRg2bBjLll2eq1FS8s3eTf9/1x133EF1dTXLli2jvLycgQMH/k3eRYNf+DlZZgPGZlDMMgGHzGe/KRBB9svcdP9LIx9++iTTrl7B5k0LcObMZ33ZGqaPXsaQx9x0fvc0F2/pjqVeqINBCB5MDRKKRYC/iTe2T7P4aMN8Jt5QiD/RSCBOQjGJLkTQLrPveQEi/UIDwqT8NQR6mxn+kJs9L4uL7bBH3JiahXDFIkPz6GwsNX6M9T482XFkfNpKylYcVoyNQQ4UzWPoT9z6WGVy3hqmL32GrTuXMPRRN3W9rfR4+RjYrGT9dxUDfG66nRC8mKlTVhGMNWL0hAn1S2Hs94v59PdzcKY+hL1fJpdGxhB/MiBG6WEDNX2Ep1nYKjI8jV6FpMNBPJlmjD61hUungASeDCOo4L2pl34h92SaCcVI2CsUgg4Zc6MAjt8E/kDw4qZdvQK50QdNzUyZthqj1YDPJmM/DzXpSjsQE3esWR+hBTrFYqlyRI3Dcq8vRHUYUFu+cZFdSPXoCf3fkaDqow0iJjBsklHrBZ9w4Dw3XxW2Pu/6L57WPcliy+qomd5bf87JeWvwppoIxkiYGiUau0XzcqdMXY2kqgRjjex6r1Vpud73FtdMXEFHpRpUrGfqyI+fidQzC2fmY6gNjayrf52B89x88nY0+OvovL0c+NPGbJH8r05bZGr6Swyc56bL85/TIz6OSzfm4BmbTShG5tBNEV3RZ9A5d+YWpxgNAPR+vZpA51iY3Xp3Z+pDbNM+szjRQbRWw5GnH4f7I97z8TOs97zJtPHL24E/Z/8n+OJQdH4yCLXxtPHL2diiOt7+7lz6LXFHgT+Ak3cvhLvFv7NeKqLPhXgujomh06fNhC0mbNUKsl9h2CNu0v/zEGqPzqz/Qoz88wcsQrpULVS0Nxfx8cEVDC5wk1QZoqmLDWefBXSymgjbLdAnC+POr5ByRvLxNWuZsmo1cWfC1PQzEHPSRN3VQtA2bJa7pVOuYqlX2NGSjjHmrmL6PuXmSMSoPmwDz38MI+6zs5S2dNbG3F3Cpy3ds3UHVohpxAgLB9e3KsHzhz7JxRnZZGyuxOizEXeyfZtKA6NtwZ8z/WGqrutNSlICzszHsFe2xi3mjVyKXNeEpbKaj+pfjzqHt787lxE/covzxibj+PE5As93wVIbwuAJCiV1bLRwURuzOzMfgzaXjI82zGf8rUXEfXEBJSlWKNPjZxIYmcOQx9xI02swvJck+JnOtTRlGOn160oau7QHZP+0ioh9a3f7lbpS/A0ikL1790b9ee2113jllVfYsmULW7Zs4Re/+AW//OUvdcfwf/X6R3gX2S5K1Pc0owxt5MIEGVtViPG3FTPO+SUJx1TOOGOFD9Yn+wDBfQHYsOtJ9j8nLCZ8KVCXI1SiIx8oIWxuiUELCV5NZPV9upVYHHTI+BNkwmZhN2MICi+1gY+7Bdej5bte11tYqQRjWj3T9r7oIun9wzpvsbGriQ07l6DYTCBBwCFEFhNmCLWewRdqsQURjzl10krCFlknxO973oXRp3J6Zi8u3JbNsbtTiD+pcGpNDONvK2bT5oXU9jbi6WqmaoCRpk4tSuFR2ci+MIlHglQPMFM10ExDLwXHeZEPbGqEUIzExauM+JJN7HqjgPgD1UiKiskTwtQYIuG4n/iTAUJWqOlnYNztxS3KWZWavnJL5F0rwP62Ml6oRbFbKZ+RLWLVUg2YPSKnWApJrd27FrGDodGr/+7mjQsoLX8higtlbAphrg0Qey7UYvPT+lxSTAz5g8Q4NXI0CUJhuPUvjyNZxEGPBH9alR5ehTP1IdbtfwY5rJKz3M0k51rCVpmQRVAG5LCqW5boz6uqhM2yDtDykx7Ec/1wAD7ctqjDrN74YxKlh1cJYCUDoZAOskKOdnf/xgi+trWl9HHykx5k4o2F9FkmzJgTt5/FUi3e93rfW5RWvETMpRD2jw6LbO1e86IUvp++NYcRP3KTdDiaHrDu4ApMNd6o2zTAPil/DQmflTPqhyUdRnVpnVxjbftIy0CaeNPOLo+2U6a2HQNK33LqnXp4LjXL/KTu9bPx40WoMly4NkTQYWDviy7W1byqgz8Ab/d4SitfZsxdxRibxfv9ssSFudqH/byX0qOrWbf/GYwny/XfMzWrDH/IzeZNCzAEVbpubqL7zw6w83dzmDZ+OY1ZKntedhGyScRtP65bzNiqQvT41WkGznPrCl1jM8QdqqF+bDf9NVmrxaZx3QEBvjZvXBCVGOTsNhupvJJOvzlA1ZgUDD50zmTbyr02OvUmz3EvpRUvidi7lvQdZWR/xt9WjDN7Lk3dHAS7JOrn44fbFjHqhyXkrBTnki8R7KcasdaEqHivm0jlUeD81Fg+2jBf39TmjXo6yni8cnprQ2DAfDfdX19L36VugnZZODhcFBvcytsHoZhlYi4p2H8VT+zZIONvLWJL6ePsfr2A+kHJhC3fnQhEUi//B/53PoBX6v9m/V0j4JKSErZs2cKbb75JYqJoNdXW1vLDH/6QCRMmMGdOx1/s/yultdpH3bSc5l4xyGHwJYHtEnjGN8M5G44zQhmsEdYj65qJK/hwm1j4hz/k1r0D7ZfChM0SnrvraaiNoY/bi6dnLEGHzK43BKjIT3qQwIieBB1GGrsaCMQJcm/yoRBSSCUQbyDmYoDaHCtp26uQvH6Rm4oAQhrXKevVQjpvFBeluMM1NPVMYPuf5uHstxBftwTkgLDHcPZ/gkCnWDZtXsiAhe6opAcQ+cN7XhKilaBdwhBQMdeHqetpovP/nKf0RBFTpq2mobsYVQfihEgmEC+UsZ0+aSIYZ8JS7WP97qcYOM9N0tEQIasw1pZDwpri4/+eq3ORJswoQvYreobn+FuLCNplTE0KO96Zi7PPAs5fm46kCjGOwQfedAh38WE7bNXHThNuKtS7gtpoJz/pQaSUJB2sDypw4yhXaMiSacoJkrHBQMLmYx36m0WOMCPL2WcBNaPT8CVJeLqrHG/ppkcKci5X+UkPogYCrPe8qY/HOqppV68gZDfiTTURUx7Q6QiGoKKPf/s96dZFAqNmlhCySbqoRyttbN+WAxfJK9REQVpphP7LVe9VbjrtEmKmsd8v5tJNPlLft+oAIM9xb4dcrm+rqZNWgixFCUmuvqWI2D0XKD1ZgjP1oWgFckRFdsRB2LHYz3vbgbfca9fq51lkRR4P7TvQUTm7PMqF27L168DlDJQBnD0KOHV3JvEnFHyJMnVDQsQdMpKxrQ7JFwKjzLr9z5A/eLE+Ch5zVzFxJ5qRj57h0h39Sd90kdKyNfroVau2HeTLVf/FbpIPhrFd9BKKMWG5UK97KI69sxhPZ5mgA44sbX2siTcUYv/iTFSXdPrYZ6IU05E18oESzA0qn/zXHMbfWoQhKGyL5JCCFFKEubokoUoSVUPtpO71IAVCyOcuceF7OWRsreXkLYkY/IIisvcFl/BWbPBRMSmFlL1NbPxkMbnXriVkN+i2RY2ZBkJWxPUlRsYfJ9PUWYg08hz3UnXnUKqHhUnaJ66rjX2D9F96nos3ZBE2Q8PQAJ3/YiQQK9HYXaL7nxvxdLMTv++STmuxNCgoBqFSn3hDIapBEubqDU3s2LT0OxkBZy9ZiaGDEXDY5+PEM//cMfSV+veov2s7UlxczKpVq3TwB5CYmMjy5cspLv5mef3/pfInifFi0qEAiUdV9v/MxfE7FnF8TgFxZ8IY/OgJCtfkinFR/tAnqRosLBmuukd0/EBk2Nb2NhC2SHx5/TISdlkomxnH7cvXUTExRN7W2fR8e4W+eJgaQhibVVSDIMc3pxqo621i5+/mUN/DgqlJZd3BFZSeKBJ+YEGwl4eYOkVczLv/SVyAJUWFM+U4dhwXL6SugcZMk26i2zAgmapBVvKTHiQY29r5cubMp2dxib7wGX3Cd27n7+ZgveRFMULzAKGq3rxxAbFng8SfCBJ3WuFAsYtQjErXN48iB0L4E42EHOJAGPwiMkvrYComkVYx9s5iDOcrmT56GdvfnSsUzekPM/HGQup6GghZRXzauDuK8XdLIPacguO8QkyFStwZRSwWx6yEhzeS9VIROSvcKMbWkYjG6zkxtz+qzYwzYxaTnGsxBMBWFSQQB0gt3mAR4E/zips6ZRVSvUf/vNtWc7okckKDrc9ZWv4CzvSHv9HbbF3Nqzo4uhz4c2bMYuPHi/ho/XxslYKLGrYKzqkUVvVYNQ38gYgAjAR/2mswNYhWWCT4A4j7+IRujKuBv2Gz3Ayb5cbS0Gok3VF9vVAYPDszH2Pn7+dw/I5FUd0fuVP7RJbI0jzkIrszAJu2PMGmzQuZeEMh/Re7yR+yhNhPT6PGiu+XBv601zXd9D39dyPBnzNjFk0ZMht3LGb66GgAv/Uvj+tG4c4+C3SPOUOgdXyZ/j+n9OPRtkrPP6+Dv7yRS/Xvb1tzdhAei4efcWGtCdNpew2mKiMNvRRG/uoAh10JnL4hCWhVuw55zI0qS2zYuYR1Na+Sss+jb1w08KdlDwc7WO/bpnSA4OTJAYUNO5dgavCjnGyNx9z5uzkcKHIhB4U1jkZB2Pb+PErPP0+e4156/HYVzv5PsGHnEvoscwufw5aaOnkVk6evoSFLImiXyLPeRezhWra9Nw/r4QuEbAYasm0YzlcTthrZ+MliOr13ArnBR32/eEorXiKxLIjkDXB0iYtDy12kb6siP+lBwjYjUl0De19wcWmkHYCYk7Xs+MMcPv7vuXz833PZ/5yLbr8/ja3Ch60iSMylMElHFEbfW4LcKY200lNkboC40wHS9vlJ3m2ibkI3Eo4F+NLtQq41ISlCtNJ5e4ANnz7JJ/81h+Y+KTi7zcbcqLD1g3mcnSYz/Mdu0XFTVc5NFT6o31ldsYG5Ut9SfxcAbGhooKKiot3tly5dorGx8e956H+rMjUqJBz3Ywgo+NqEpm9/dy6O8yEqpnXBmTOfilE2sXPft0wXZzSnSTRnCGsUe4VK2hd+qoaIjkkgDhynZF795XWYK0zIt/o4fsciuv9yLce/L1M+3oI3TRImxS2UPWu1+IbbqsMYfSrOnPk4uzxKyCaAlC/ZqHdLtv5ZdDV0lafNijP9YdRmL6kbzuBMf5jBBW6slX5iLinUXduPQEIYKU4oFkvL1nB8TgHOLo+Kx/tgHv5YmfG3Fgm7hRJXFI+nrpeZrX95nITSIziz59L7ma8orXwZucGLpS6MP1EoPS31KhNuKiRskQhbJRSj6CpWDZYpK+iBt0sMV99cRH78TEorXsJ+8BLmRrDWKlQNBkttCPOuMnb8YQ5xW77GWqtgCCikfKkQf0wlHJIxJAbwdwoStsq6tx6IBbHnmxVItY2EsjPYUvo4pmaVpk5moSIOS0zOWxMFRD55WwAZxSjGQh2poqkTxDTFHD0OzLPeRWnFS9/a/XKmPtTOX2+afJv+78gu4kfr57Nl3Xya0o1cfUsRviRTu2xabRMQWfq482Q5QLvc56bRWez8fXRnP3V3I2mf1ev2Eh11tqaPfYbpY5/h4z/O1QUCbXmGofT49m86onQPuZZzr21te38eh5a7WLf/GVSvL0oo4ew2W7fo0cQdbau0/AVSvvQxbdxyGnvZ24Ezy1fC91NxWHTrHW3EPWXaav19aYBa+060LdUoLrs5y93QMoDRVMjQGjW3pfRx1u1/hq8XujCk+HhrxzgSMxpIOdAmTkwVHFnNE6+jjtv6z5eKu3bgz99RFxtarw3rdz/VjpoAgpt7dFYGRx9Oof8TraB3vedNTt69kNIWbmSPdwRdAwTv1NPVwqURZpCFT+p631s0DBCgFkkiEGfA3Khw4ZYszBeFT83FG7M5e0MKAbvEVfeUYPCHKT26Wk8k4fwl1tW8SmOmBWRZf30A/s7R51X/J9xUT+7Ghp1LuDjGQnO6gaBNIvkvZagxFhrGdKOxi4Et6+ZzfqIFU7MQjDSnmxjxI8GRDFklbDUqzeniepV7fSGEVerHZhKyCmV38n7hfVqfZaS+h5GUPRK26u8OfX1bFNyVulJ/FwCcMWMGP/zhD3nnnXc4d+4c586d45133uH+++/n5ptv/ke9xn/5stSFqc2xcGmolbhTrRdnrdOw7f15OMqFtcWBIpe+MOUPWiQEBl4IW1WCdmjIkrg03ILU4tlm8IE8uYaH7v8AU796Dhf1oPtrhZy+/3H6L7+EuU5EXMlBASwCN9bRmCmRe30hddlGJEWltGwNpeefxxAQX/6QVYrKks1PelCQ+h12VE+TcMJvMS8urXiJL0tcbNryBHJQJXHbGVSrMLB2pj9Mzxahz+n7sunzjJsJM4rY84pLB5Rjv19Mr8IS3ahZWxzX1bxK6Ykina/T3CeFQKwBo1dcnWw1YRSj1OKLqGJqUlGMErGnwNQgcfFOH9X3NHHKNYis36zm8ONpGH0qckgl88MggXgjZ2aJLN7avBzkoEowRkYKq8SdaObY7Ys5/r0n6LLegKezxIUJJipGx5Cf9GDrghgMsnHHYkbNLMFWFcaXLCL+pLCEN8WI0uhpdy58tGE+zh4dK639A7sTNovPQDMldvaaF7W4dmSqq31GpZUvo4bDUcBko/KHdveN7CSavCof/3EuO96ZGxV1B0SNTCNr9L0lOpjc9UZBdHxfm/XrmokrUKwG1n++tEP+HIhudzCuNbtZA5UfbltE/8Vuhj/sZrrpe5SPFx0bjXcWWZrh94SbCik9urrdz9vWuppXmT5GdPHyrHcR6Cm60JpJd0c1ZepqavsK1LDzd3MoPfOs3t2CCIAty+QnPUie415yr1vLkNnuDtXVbQUjWm349Emmj1lG2WKXDhpPuMQmSlMja6V9lsfvWETGdol91z2DYpTo8VYreN//MxdNGXKUxQmIrp/22eUnPcjUyau+1QJJ6xRerq6+pXVjk/mhlxOuAvqsOUX3/FMA9H3KLUQTEdXcIx5vsoHxtxaxedMCPvtNAQdXuVCMkLT+a0DYSV19SxEXbu7Ozt/PIWSV2P+sC3/neCbMKGLviy4OrnKx5xUX9T1bx/2a4lzbdCRvPq0fU1tlSwKOufVNZ/16NUgQUyFO1m4/P4C5USX5rS8I9+pC+eRkrNUBTM0qIx8oIfa0cFIwNYl4xprBCqoBrHVhrLVigz3sETeEVbb+5XFq+st4U2TkkADlyYdDJBwLYq1V8ceLcfa/Sl3hAF6pvwsAvvzyy1x33XXcfffddO/ene7du3PXXXfhdDp58cUX/1Gv8V++DEGFQCyYPdCYKWSezvSHkfv1AsSCZ/C333YFUx0EHcKnzuiVkMKCPxiKET5T1kpoHBQk+GkSRZuuo6kmBtkUJjGjgUFz3VRM74KtRsV+AX1hTnzZgdEHp29TaOwXwh8fKTcVNiiO88Eocv66mleRkpMI9uzEmUf6dzjCy096EHNDWIwfW57rwvdyOF5QQN7IpXT7cy1Hl7jY/u5cXdAAcOGaMMfmFUSZ6Eb+HISVCUDIJiGHxHEKWWWMfhWDX6h9FZPwGNvzsosjT7voNacKxwexInGlxgwmlcrR4nfDVpmLVwlV9ICFbmIqAiAJoB677yLGivroN6eKRAZbpYpnUh9x08VL+oK/+/UCPBlG9j/rQjGroEp8+tacdh27aeMEsO/IrgXgfK4FUzM4zqn6LrytuXAkVy1yNBccko2z22zkpESCWakdPr5W2uuaPH0N9vOtRrSXs4DRatwdxeQNewrHuQD5Q5+kZ5F4Hx+tn68v6s2p0S0k07laZF+YaVevoLZv6+KmjYkBJH8wahHWeKwgRo17XnKxIfifGJuFXUf1QHPU44y9s1i/LeasR5D0+18eyOUnPSioFl8cEsfD9xabPlrYYQ61Vs7Uh9i8aQExFWEkVW1N8Kipa3df+UKVPpJv6mTUR7sD57Uf/UbWmLuK9dfg6W5v181VUxLY+mcxatbA+nrPm0yYIUDXzt+JzuuOd+aS8+Mj9F0qnm9wgRt/IvqmTvtd1WTQR8Dral6Nyl3WutdalJ5WWqfwcmU/3brpqc+2MnXKKkrPP8/xbVkAHHnaRcOYboy/rVhPzLh4lZH094+185I018O5u3P0683Hf5xL4pGA+L0WoLR50wK2vzuXHj8vZuQDJYy7vZhOn7ae05ECIGfGrCj7GbllL277WvgH5jnuhbCMpVZcIwAa8gcQiJVY73uLDTuXsP85F2GzTFMnCcf5EIpBWHF5OhuQQyrxR2TM9RKVg4w0pxq4eJVE3KkgwVgDo2aWkPZFCNXQGgbg6WykrqcJS71C3JmwvsH9LurbOoBXsoCv1N8FAGNiYnjxxReprq5m79697Nmzh5qaGl588UXsdvs/6jX+y5c3xYS5Uahwtbza0oqXWPelSGZI/KqBpgxTVL5l7rVr8XSxiJQGj+DvhS1CrGCpFV9SS71K1/+RUSWwn5XJ6FLLiKyzNNTbaOgfJO5UgLAZmtPBP9ZD0wA/lcNMGJsgbZMJwpJQzAFDZrupGaTgyez4PQQzk/hw2yIxQutghLeu5lWUFgWbFJRxZsxi/3Ni4Vv/+VKkQIixdxbj7PKorgCcPnoZfV8SyskRD7rJG/YUk5xrWXdgBVOnrNIBjnypDnONH1OTQrAlesl+tgl/vIFgjBj/mppEd2/YLDe5163l4n90R5UhsSzEiccKyHxfJv6wAXNjiJhzTXTdGqbzx34UI5x+IMy29+ahSuDrnYqvZ4r+vgwBEd+VdDiA2aPoPmDr6l/XO1Hjby0iEN+S12pQQRF8tN6rWhd8Z8YsNn6yuMPulVbdn/kMxSgUzeb6y95NL+/wHvq/N320ELW+gWBWKqbjFwUPrQPO4PQxy/TF/aMN86M8+a66p4Rp41vHoiMfKInqCtrPeTn+/QQ2b1pAKN7K8bkF+s+1hbWtUXLpiSI27HoSY2UjXbcI02hnl0eJe3dP630Or8J2qu4b3+vY7xcTdAjKRMYv9um37/z9HJ1zBsL2Zv3up/Tx4vSx7f0T1UAAU3l9u1HvR+vnM/DxiM8s87HWEWJLvFzsV5Vs2LlE5yZqtiXOjFn6cW0emkn/Re6o45E3cqkurhgy2x3VYdfq07fm6IAsftsJvfutleYFuXnjAjZvXECvteI5tr87t91nLfXsxpGlLqaPWYY/QShyz080kPVSkQ70vZ1ao/q09xmyK4x40K1vbrb/aV6HfNWRD5S08nwjqA4aQMy9bi3NnSSMn3zF6HtLKFvcksoy382OP8xhxx/m4E0TNJZgdx+V1/Vs9xzWGkj90k9Tbh/9Nl+yEW8q7dJDTv5EJMx88l9zdE/RnJVuSsvW4Ow2m/z4mXiHdNO5uFOmrdZpFnWjOwFw5GcDiN9nIvFrP6bGMNPHLBPUDVV0ibXasm4+5gZoTjeKtJ3aMIEEKJ+skHA8iO0SIIEvUUKxqBiCCp+8PYfdrxdgbAqz73kXNf1lLLUhwiZIOBZAMbTQbOTvuAN4hf93pb6h/qYkkLZlt9sZPHjwP+Kh/i0raJeREJ07x8VW+4m8EU+xP8K2Qaux3y8mnGokZJVAkgm1xHOGbaCEwFYJ8V83E4w1gSRh8In4sU/zVjHygRLUISqGFD8XJtoIZPqJ22uh6YydmBoJSy0ggz9eIuasgaxXC+nxBwV7opHGLBEX5+liovtrhXTaaqAxUyL+lIIpwcSIB92k/c8x6iZls/P3cxj7/WIx+pAgbJYJJhnEQuQeSGn5C1EqxJoRKVirQ1Fjr2CCRRdVaEkXWmkjnP5PuMno1YlgnBFjs4KpSWzbFbOBT39bwPjbitGuWlJIxdissvXPj7dTdupGuS23O3vNo3FwOoefEcrAKa+tZuvGBUzOW4N13ymG/9hNfY6KvYcRZGGTE1OhMOJHbr74hYt+T7rJOnyh5bVIWOrA8e5uGDsaNUahYqSJ9N1hRs0swehVSWhJ/ejIHFarDcH/ZNgsN8ZmFUvdN1+JJ+etYUuEcS5Ac24/TA1BlIzkDjs1zi6PsuH883p3bLrpexi6Z+pdxqph8NlvWtWtmohDO2aRyldtVBrZNcwf+iQV4xNJ+DqA9esKmgdmsPWDeUyYUYQxK5H6LNGl62j0ue7AiqgIs7a18/dzGDBfAJ7Izmr/RW4Orbi8arUxK6bdbR1xKQcscHNwtYuv1rr0SLHzt2VhrREjvL0trzmUIviFkQp9TdE9/Mctpr5bD9Ip0E9P54DozllHin8Q6l7NM660/AXG3VFMY6ZM6l5/h+bZWszi8B+7Sc/sHPWzE3ckMfq+EhK/Ok5CzhCaUyThMekIMeSnbvb/TFi5aL6OlnN1AKhGtd13sSO+amScnwYWNUV4/uDFWE+cJdkwsB03MD7C0y/9c5HAMn3MMjZ82tp91FTyIRt4upjZ9UaBruyPP9rIp28tJX/wYsonJ9P5/bMEu6Xw4dYnolJunOkPU1bxklA5n3mWCTOKaE414E8Qz7F54wLyB4jPz3HaS+71hZgmmIRXq0HCduQC/pwMhv/YTdLhZtb73hK5114fl/K6k3gmQCDWgDfLgMEvk1CmYPIYqc+G9I9r8PSMJxAr81XhHIigemqfY+q+MJICcWdCqLJE0C54gZt/8RPi346egPyz6tui4K7UlfoOk6n/75Yqic4dgD++dUQW6dkV2RkyehVCVo1PpmL0Cg6fpVbsin0pUHGVHX+SEeuFRkIxAhxefUsRcScD9Hg/SNwOG5YqiNtrQVLA2CRsBhSDMHH1Jwp7lfiDRnzJRhxnmkn6SpDA63tD8udGPvtNAYdWuqjPlqnpY6RmsMLFm3uBJEZx1mqRXRs2tXDxgqpYXFUxTlFPnNXf02e/KQCDxMQbCpk6eRVTpq3mzHSTvrPucKw8eDGHVrrY9NFCbOebCMYaMJ0QoqIPty3C2W02O/4wh/PXhqkeIFPXy0TK1guMv7WIxom9GP6wWJAju1rECl+20mOFWKsDLdm5VrwpJibMKBIdGKORPa+4OD6ngLAVvOkqihEcp5pI21ohjvMpVe96mevDfPELF003jhQXVb9M3CmVj/97LnEnfMT/5SBqnF2P/epIXKFVyApJ+2qjhBQdiQVMDWLMFUnQt23Yh6SCYo3OGNaEIBduyRZjsJbu2Ibgf0aNmDXbGW2kqNXJR0QHxpkzn/z4mXrnR1O6aq9x3b5lpO1q4KMN8yk9WULM8Vpyr13L9nfnohglko5E++y1LTnQ8crj7FHA6PtKOvQRjAR/GkDUatTMEnb+fg6Tp69h6uRVUedYJHdv8vQ1HFztYuydojukHZ8vS1zseqOAxK/9+jHc+Mlixn6/mA+3LRL2Mi2Ve91a0j4RpsPrPW+yeeMCyq/L1LmtWrUd60ZW6ckSLl2VoHNEP3l7Dt50VQcNE28sZMhPo9/jmLtL2POKS7dg0arsCfHa13veJGQRVlMnHivg1D0LsF9soUKYJR2glU/rON/820qjNYy+t6RVER5WkXp1Z9v70R6MAPHbW03NbefEuNhwqSHqPqpJXCNNHog9JeIlT9wigLd8toK8YU+h2C10fucEpSdL+HDrEwya46ZyiNhk5Y1cilLfwPjbivlo/XymTl5FyCahGiDulKJ/zlIojDNnPsazVVgqvRx73MUXr7rYsm4+gd6d2LxpAYllPhp6CGFe1bg0jj3cHcUMtb3NeLoaaO6sYvQKpwRjMzR2gzP/kYSlLsiuNwuYMnV1h9/fj/84l1CMzPY/zcNcH8BxIYAc/I7bb1dUwFfqW+oKAPwHlD9RCDDkUKsRatv6aMN8fYyjGiQkRZC3Yy4FMQRUVAkCseBPECBNDoI/Tvh9mZrE/89eq6CYJPzxRuLOhjhQ4sLcoCKFBedEDoC1TuXz1wo48rSL+ONBzPXCsuTY9+z4EySCsWCtguQvmwCxODZ3CeNPguR9Eukf17Dzd3OIOevBuv8U296bx4535hK/8ywJn5bj7PIohkYDss3Ges+bDHnMzeTpa3QVnMkTYtNHC9m8cQHH5xboC1DbsXKvNW5qhiXpICMYb8VaE0RNFAuBM/Uhwp2TmDx9DQl7TNgqwdygUnqiiB3vzCVkk3VCe80Agb6nTloJfr/+HB9ufYKPNsxn6wfzsNaE9C5hxQ3Z+n1UA9jPCZ/B5swYmnOS+fiPc6MUs1WDTAyb5cZxyoOxScKQ7AdJLIq+FDMXZg5CamiiRmhO9O5mW64jiN1329i3jjpmkUrO/PiZOLPnst73FsZ9x9j4cevjTnKuZaPyBybnraHT9rpv9BPUAJJ2HEb8yE2e414SyxSmTF1NU98U1tW/TvOkfuIzSbIxYUYR424vxjegK4AuNHBmPkbpoZXChidjFnJQRfZGn/tTJ0eDFo0HqFEhtL9LT5aQ/ElFhwpVaLVQytjZHCUwSCkVlkUfbZjPpo8Wsq7mVR18RwImrSurcegix30gukXG9FYLGg2ch2JbgfbWPz+uUxu02vdzlw6wnf2f0IHd5Lw1DFjQng+Ye91a9r7oovRkif5ZSGGp1UblvXns/5kAWRr4bEprPzLstSb6sVUjdN5cp/9fy+eWg8L02Zk9l30/dwkT5hZx2cQbC5k2fnmUylvjFEKrUGfjJ6IrHBkhKVXV6F3R0rI1USNk7fxz5szXN8DVE6O7l9o5JAdVNm15AmefBVhqRERgacVLlE9KYMPOJVTl9WD6mGXkrHSTus+PwS/O4fWfL0VOTWHHH4QRuC/FjP28n/R3jvLJf82hIVMmf8AivNnCxzOUmYLhtNhYatxU1SCOg6erhaR9taz7cjm7f1VAr58dw5ckDLMTvg7SaafKhVxBYfHHt3TVQhCMFcOzzZsWUHr++ZZJRXQ5PjoKgKHBy+aNC9pxIP/ZdUUFfKW+rf4uI+j/10sz3Oz705VIsVaMzRB/MqwvsJerKVNXs3nTAkY+UIKlTqEx00DQAcE4FftZCVOzSuyZIOZtX6KGw5yfcxVSGBKPhWlKM2AIqMKp/3QQT2cT3lQBQA1esNYK+xfHR0d10KWNTsbfVkxDd5m0Pb4oBejAx934UlXiTkj4WsBs4lGFxkyZr9aKBWn8rUXElPuo6xND3x8f4vCr/bHWKDSnG7CXh5ADapRRrrPLo2A26SOyyIizjmrqpJVUD7Sx7+et2cEDFrqJPaMQskk0d5J042ZtTNtR5VnvQk5LjfLKm3hDIfYjVdQPSyN+89dU3NKHlP0eNuxcwoCFbix1gAKxF0JRljXObrM5fXd3jD4BwPc9L7pI1QNkUveGqelvwJ+oohpV1PgQsilM3Cc2/IkQe1ol+dNLBDvFcfIGK71+W49iM1E+3k7mG0e5cGcfnUPZ1my5o3L2Wwg1dZRWvHTZY6nlK3/j46Q/TE1eb6Gs9iod5qxOzluDP8FIfbaML0Wly7Zwu0QPbUQ6ffQyvJ1tmBtCmCo97UBSZI2/tYiwRSJxw9ftjJmnTlnFxVFWDq5pb5R89S1FfPxHYR4d1TltY4gdmS/96VtzvtVYeshP3XT+sFLvCEYdp17zdHCn5c52VJEjeu2+ajhM5T1Do0yhB8x36+8tsi6Xi9xRBu4k51qMTUF9NO3sUQAmE/7uiaDQbow88oESUj/4Our19Xi+mJOPzol63XnWu5AsFtbVv/6NJuN/a33T91WrIT910/kPxygtf4H+f1qK409x7HqjgKmTVrJpi6AjDHvEzd4XXUydvArzxQYd5PdZ5qbTZ0EujjEhhcHYJKYfgTiRIOPs8ijBnp34cNsi8gcv5sg8B2kfmknedo7zN2XSeXMNgTR7hyKp8bcVoxjFZtxWLeg9Rr+KL9GAvTwACljKygn07oRqkNi8cQFX3VOCpII3WcKbBqYG8KWpmBolbMe97PvtPzeHV1uXcgpWYrB0YATt91FW8gQ5OTkYDAZmzZp1RQjy/2hd6QD+A0rEg4mRRkelqVy12rxpgcjhbVLxJhsIW4Vnla1CwugT/Jua/makmBg2BP9TgLsgGJvCpL75OUG7hNGr4ks2IqkqhoAwTpYUSCs9xcd/nKsvnvmDFhFu6bx4U4QvldLiQ6Z1JL9a66L3SxfY85KLQytd9HjlGDt/P4fM/6kkZ7mbvk+5sdSHOH57DLtfL+CzTQNILT3JiCVfMGTml5SPM2LwK1Fj7tLzz4Mkt3ZbjEbRyWoRfmijJa02bXmCjD+LkfKWdfOZMKMIW6VK4ofHWuwTBIDIvW6tMGOOqEEFrZ0LOTkJwtExYIpRomJyJz55ew6llS+z52WX3mFTZUARpq9tF9zSM8/S/fdnxXi+TuXqm4vY+bs5YuTuV+n0WYDYUxKJB2WkeiO2L200dRYq3/qeEocfS+HYTANSZjNHZ8dw/LYYjD6h9DV5xL7rrwF/2jHUFuxI8Bcp+vgm8KdZx5RWvMRnvy7AEGgP/py95pE/YBGeziaaU2Uc51Q67VQIm2VG3l+iGzFDy4g+9SF8nWxs/9M8QlYD4ThbO5NmQFe++uNlPn1rTjvwN2pmCZs2L8QQaL3vuppX9e6wFtFlCLTuVZ2pD7UDKtr71wQccudOHR+L/k/gTH8YXwpR4G9S/hr9+UuPFeLsNptJzrVU3zyw3WNocYptPfTW1b/Oes+bpP3ugHhvPxQboINrXOQPWdJuxCt1PDBg6wfz9AjIAQvcDC5w05xm5MNti/Tz4fSdmRyencq5XAu1fS2MvrcEZ/Zcsp8tEYbkSvvXZ2gW3/3DT/Uk+7mSluOUQfUt4j02juqq31ezhBnyU7f+fttW7rVrdYuey5XyDUzzYY+4cXZ5lP0/c+ndw5gP4nSleCRtYO+LLq76QQmbPlrImZvSGPDeUvo840Y1gu1cI5ICGZ8EyPzdCdJLT+vcan//LpSPj6Hv027qBieRstVM9WC46MykywcXUM1GNm9c0OEo1xBQRApRk0rYKrPjnbk0djUih1Qh1tm0ADXOwabNYuox4aZCPvtNAZ/+toD9z7koW+Si6wv76P6XAHGnRL7yd1VXVMBX6tvqCgD8B5SxSYx/Q9bW8VrUmOngsaj7T5m2mkAcBO0SYatQ8KECCvpFK+VLH3QVvB2DlxYLlwDrfW8Rez6M2aNirQrhjxOjDFUWILBpWFcm560hf9Ai0bk4sALVIDF1yipsVQomD4Rt4mOP7I74ekdYiyQK49TSQyspWyxsV5rTzRi7NHH99kfpN/E45b9IYP37o/nkbA96jD7DuYeDnMkzMWium6wXirn65iKaBqXr5Orq7w1BSk+FFkNYbbSklUao11Sn3iThpVU3tZdYQCSR8auYJF0RqpUWPzbkp25Urw/iWslkzi6PIofUy4IsxSRG+NpIp22VniyhuZPIQpVD4rWbGsB6wcNH6+cTfzJE4hEvXTeJtJGvF7rY/XoBR590ceqRucR+aSb+QzsoElKGD9v1FfR792lqp/kYve4JasYFyP5ZMQPmuxnxI7cu4LjqByUM/7Gb/KQHkTPSUS+0Gq5Hjtw2fPrkN459p0xdjTN7bjuwVDnEGOXpNvHGQkqPFRJKsWO/GMLcKNJlvMkG/HESthqlnYCjtPJlbGc9ODMfI5BgQAorUa9lwk2FTLyhEMUsc/UtRZiaVaZOWqmn4WglhQUoC5uFUlcDYZrZsn4/pXUzVVr5MkNmt4KpiTe0dOsGi/Nq2vjlqDGCMxYJXEGc16UVL3H0yehzYsu6+VGxac1DuiCFVXb/KlqRmme9i9iNh/T/t+W35o14Su8YRv5uxdVJ+ohX4w4aAlG/irP/E0Ih3222niV9cLVL8BVbxrDaBuDQCnGO9XzhGHtfcGGpD1N6oogTswvYtHkhlrr2YENTxp56ZC4nHitgROki/D1S2P268HvUwDa0Clv2/0z4ekb6W476oTg/G7ubqBxi1sf94+4oZuT9JUw3fU//Listk/SOlNF7X3RRev55nN1m62PvqqvC9HtSpMts/GSxnn0+ZdpqnZpxcJWLgzcu5egSFz3+UMfJW5M48pSLs9NMKNU1lJ55VvelrBpkIf64QtxJlU9/W4D9QoiMTxRiLoUJp8ZRn+MQ5//55+nzjJsBC8Xzjby/hJgTdZy/RqVmRhMN3SV6FZZgqwxj8ij6ZnbdwdautxYpGQmK13veRDVK+OMkHFuOtDsG/7S6wgG8Ut9SVwDgP6AUU4v4oqXxNPGGwqguTdtxXdgsY2yGmMow1lqVQJwYMSJDzKWWi7aiInkEQTpsFfYyvjThuyWHVIzNYSGaaBY/N3rF88tBlY/Wz2fdgRX6IrTt/Xmiw+JXiD+htBvnAVgPi+SH/PiZHY7EPv1tAWW3LsHzTFfK1vek053nhQl10MDZLd2wfOogfZcws465IFMxysCloUZ6FZZw7IfpVA9RCSfYQZYY+hM3V99cRO71hbqNh1JZzeh7S6jraWHk/SWYvMI4FVqOqypscqoHGrkmd6XeHYms/T9zEe7XPYr/VXr+eQw+cUwnzCiKEjaMvL8EucUcW5VF/mlHXB5jk0hl2Pa+OG5fFbpY/8XT5DnuJWiX2bTlCS6NMFIzoAVw9Vuog7QDxS7SNp7l1A8fp8vvTDRuTCfrpzUc/94TJN9bS/d3ZHr/xkPIDuEbaziyKJZe/7Uc+/kAqXsaqLu2H43DO1N9y0ChUqRj1SbQTpAALRylDu6vGoha7DXC/odbnxC2Q+VBVElsSEI2CaUNP0/vQt2UQOnZ57Cf93P81mgVx/Y/zcPoFbnWIauEHFQxegKoLVYYg+aKhXbXmwUEU+zEtBj3Wk/WtHu900cvQw4oyBeq9NuaOrcaZ2ufja5KH2DHmyn4pBpwzb2+PQCBy5sfb/1gHh9tmN+u+7Xe9xbr6l9nwHzBrwv3z9LFH/lJD9LYM7pF7exRwDW5K9n7gksHDVUTMpgydTW+ZDXqnDvnTGXT5oXtALtuVxNR+vuxx+DMmIWlRqDJ4Q+7GXtncYeec9ZKISyZcFMho+8r4QvnCipGWxg0101DdzO9V7eC6hE/ckcdm7qxXXRwJKniupd8oJlwDDRnCAW4qVnwlBtvHUVDd3FbQy/xOuyfniD32mgwDpD9bAmlZ57FfPQ8IOIpVVlszHKvW8uRp1piJusDUYkjU6auxtlnAZ6esXQrFZzmzh+HWe97iwHz3RhbNEnpnzURV1bPrjcKyH6uhLP3CH/U+h4Gap/0UjNARgqqOLvNJva0SnMXhUHvP0VdH4myJ+yYagyYP3WIWEpVIm7HSRF7V/ESgwrcjL6vpB2v1HbwAiMeFK918nSRx7z/Zy4ap/Rr9/7/WXWFA3ilvq3+ITYw/6+XYhZdDDliN5973VoBxjqwBdn658cZfV8JTWlGkFq/kOYGMDUpjJpZgpJjI+1C66qrSmDwKtRnW4g/7qc2x4ohqBJTGSboMKC2PI4cUsj6zWoSPrPoUXNa1fU0ErqMPaO24Kyrf123d+m11q1bUYBYsA9smE+/Je52nKhJ+WuwVHmpzYkn+WBI3wlHlrNwNqUVLzHu9mLdbw/Ezr723qHYqlpMoG0ShloFa40QuPgTBUA2+AU30ZtmwdwY5prcldRnW9n9qwIm3lDItvfnISlquwB6TSzi+PhYay7s4MWYBiQiqRKGAARiJdI+D+geY1OmriYYZ8SXKGNIaCXiTx+9DF8nG+cmG+gdChF7vIkp01ZzdOMCJk9fg6nOGwVAB811c+BkCdPHPsO2nUtEokfNq2JRqHiJET9yU5cdR/bzRzl/Tx/UviGkxDDnplhIPGoWYL8pzMd/nCusaV4sImO7RFMnmcRjIWLKqlGtJiEs8QfIG/YU6/c+zdg7i9n5uzk4uzyqi0wm5a/BVlZJ6YmiqEVgyGNuGJ/A2DuLsVaH2Lp+PqPvK2k5n8TxU8zRYgRtU2P0tHha9rHR4/1mpqwXfNNJ+WsI2wzgMBKyyUiK8HEMJNtQZYmRD5Rw4LVWVbLRaiQQK55DG+WOvq9EHwVK4TBySOXijF46Py6YEtQ/T2fGrKjuY/xJP83p5qgRezCm4/3ut5kfd0Ted2Y+hnxHFqUniuj7lBt7f6EAkkxG4o7UMuGmQv07oPFgJ+etoeb7OYy9s5iUzy/R3CcF1QhxW77WH/dAsYuB89xkvncxaqTfkU2MNsL39k7F1BAQHLf4mexp+W72Xxw9bp4ydTWhcRbkgBr1/Ty4ysWY9Qv5NC9atJP69gGOFPZj3O3FxFT42dliDTT63hJ2vVnA0J+4owRJ2mu6ZuIKgvFmEnZfYshsN1J3iemjl9E4tRe2iiAD5ruRg5D0dQjbtsOEiwUounC7MM4Pxcik7gvhSzJgCCj0W+Lm8DMuzk+OJeVgiKyXipCDEjEjLChXpWOrAn+CGJ1om9tIOxrjhRqUFDHVSDgsUWMWI2DbRWjYnYqlHs5NMaJcm4mc6sX2ZQzysQQMySCfFG4L9rxL1Ddb6T2/mYobezH+1iLidpzEcGsvDH6V9b63yI+fSdWtA/n8lwWUnn2OKdNWM/reEqzW1vNu468fJT4+evrxzypJjY6cjLz9Sl0puCIC+btKI9v2+8lKiLdiuyQ6cLV9JcIxCqYGGVODAGbxJ8OYPGG2rJtP7vWF+ONkTM0q/jiZpgxhs2JqEh3Anb+fw5Spq7Gcrka5eIkLPx6KyQOWBoW4d/ew3vcWo2aWsPt1AXzqs4wiaihBIqZC0VWAbavvUjcGP6Tv6th3LLK0kezIB0p0v7ixdxYTtEl8/ssCxt9a9I2qNmeXR2ke3o2GTCP1OSonZrd4zmXM4swPemFuBKNPxVqrcPZaFet5I7ZLYKtWRP6vCax1Ct4kA55uAmDHXIT4EwE+2jCfYbPcKM4azH9MZPevCuj7lJuYCoi5FMax6RCX7hyEpwskHlX57DcF5KxwU7ao/Rh49L0leFMkOm+uo75/HOZGBUu1H2Nlo74Aa4u5M2MWldf1xB8n4UuD+GMqikki8agPY73o1tb1FwuNYoK4U35M+06gdu+Mr6uDmj5G0vb48CeY+Pi/5zI5bw2W3ceEenXSSmr72JDDKlXjQyCpxCU3YViXqMfndVRDfuomZIembmGwi1ap+YyFmItQNyCMubbFcqMeOu9o1hfsQXPd+ihdG59ue38ek5xrkUMK3hQTYbNEIFaYcDsuBKPGo7nXrSXmRC1f35fGsfmCaF89rQf2C0GQQJUlGrJMootoFabmlnpFP2eGzHZH+eVNmFFE0C63MwD+tvNMq0jfPmgZFUsScnWDDsAGznOTdDTEtvfnkT9kia7Gzhv2FLIv0M5qpaMa9cMSbDVCFKOJU67JXUlTZwveFJmgAyw1oruvbXIiBS1R7+22YgGMgyrb3p/H6PtKsFWGoqLgQAhkgg6j3uVsWxNuKiTmrEdX3U4fvQxDTSNKgp1wjInK4THsf9alv978pAcJDs2OEoL1Wuumy5Ygni4mrHUKJk+YUIyMP07Wx9jTxi/n0gg78adDnHFKxJYZ6Ly9oV0E3fhbi6i4SubYvNbPcuKNhR1OHoCoa4wzey6n7upCME6l9yvlIMv69zD72RL6FJ+meWhXArEysSebCcaauXC1GWs1uqgq8nUYmxUaM03YqsNijN1rHoeeSMVQbyRn6VeceXQQQXuL60JGiO5/Ej6j3V8rxHLJSOerznP6UAaWGhlDMzjKVX0MrW228pMexDO5D/b1B741z3vEnSvZ8/vvRgTS75HLi0AOv/jEP/U1XKl/j7oCAP+O0r5oA3+0EiXBKuxaQuAoDxGyyFhrg+2UZZoycfytRXhTDRibVSpHqRgbZaSWEbIcbB1LIkEgScHQJGPyiFGvFBZ/O86JC7YcVmlOk/ClqaR+oeokeEDvjAEM/Ykba50atciOeNCN2aPo6soRD7rbGcVqNWXaaixfnaV5WHe2/uVx8uNncu7Hg1CMEHdGpamTJC6mYQjEq8SXCRWc0QvWGpWKq8N0XSdxcYxM0iH0lJJBc9z4UiFsUZEDEqH4MLb0JrwNVuQaE0pyEKnBiOyTkMLCskUOitHsV4Uu+j7t1sdEWk2dvIpNHy1k2vjlGE+Uc+KRXhxd4qL/YnermrjlvY540E3c6QByUCEYZ7zsQvXXlDP9Yc7+IAfHBSXqc2hbV99chLkxRH0PC47yEEGbTNz6g6yrf53xtxWjSsLOI/f6Qmp7GUk63NqdBCGcSP6smnUHV0QtrlOmraa6n4VOn9Rzfkq84DcmhMEewnLagsEP1nHVePYm0/PnxwhlZ+DpbiPgkPGmii60/aKCwa8QdMgEY0SHNNIWZ/jDbtL/fBrV08SR5X1I3S2TsuEklc4e2CvCGHxhfIkmDAEFX5JB8FMDYPCrfPL2HPIHLWqnFnb2WYDisER5Z+bHz6Q5t187wNZRaY+pKewn3lCI7UITkjeoc7T6P+Hm0Mro8yTrV2s59UMBuIY+6mbf8y79OH5bdJ4GqEDQCT7/ZQF51ruoeGBku+57RzU5bw2qLFE52BSlEJ4wo4jt785l2Cy3Dv6HP+Rmz8vi35Onr8F6pJzSM8/q/MPqG/u14yqOvbOYup4yaXuC1PQ1caDYRX7Sg0gmI2dm5pB0JIwUVrEfuoQSH8PXcy2k/Y+FhNIj1Dn74uks6+kmPUtKOF4gNn712QbMjRB7OiiuA20A7qiZYlOlOQhA9HVI69ZOzhOjUU2ZDJD1aiGGBgNKJz8Jn1hJLPNz8SoLgVgIdfYTc8SCP1HFWikRf1LB5FU4dSMY6w2k7BMeqzvemcuUqatRzDJVA018Vehi7PeLSdh2qkPLJWfmY5Sefa6danzUD0tAau2C28uDBO0G7GebOP0fcfiTFIxNMrEnaccxjuwAR5a2ZnwXALD/NwDAQ1cA4JXiCgD8u0r/oj28EjnGKtShXtGFAjD4lKjdvGZvAiJW7JP/msPAx90YAkIpZ/KgX+Rzr11LYzcTiklwnUR3S6Gmn4xiAlsFJB8MUNPfjLVGJWyGuj5g8EmY64Rq1ZsmYWxCJ57nLHdjrYbOH1YhXaqheWQPmtOMJH1Zj6+THUNAoWKkhW6vHdVHa2PuLiH+T/tRB/WivpcdVQZbTZigTcabKhNwCB8yxSw6PSaPGIVb6iB9w1n82WlR3UZn/yfw9EmisYuBoF0YXKNC50/8BO0GFKNE5VADgbQQhgYDpiYJX3oY2SejJAWgyciph1s7QpqdRVvbjDzHvRAKsd73FtfkrkQxy1wYZ+HI0y6c/RZGWUiELRDu4iPmKysHV3e8cI+7vRhfsowvGVIOhLAfqab06GrGfr8YOQQ7/tAe7HUEdKDFnqP0pL4Y5Y0S8WZaR2HoT8SIzFob3c3tu9RNj9dPU3rmWcZ+v5gLUxWkgIQckOn5jpeT18fQ5eOQAIxHgigmiaZORqw1YcpvDqBWW+j+lzDV/QQr/0CJi4GPu2nqpmC9JGPwgX9UEzNy9rP+9XFYa0UWc1OGTEJZMMrmR6vsnxVz4qfiNWqjvbR9wmZozN0l1GdL2C8IM11/vEynPxyF+Nh2GcgdldaFbmv/otU0+TY2Kn/o+Hdz5hPokoDpkicKAKZ8FWrXSZuctwbLuYYoMv+31ZSpq2nsZiZl05loK5r0h1E7pVzWVgSEUOKTt8X7yb12LdUDTKTt8+NLNOmf96ACN/YKsYmItJC56p4SzB6FYIyEL0lm3/Mu+ixz64KWcbcXE/t1A5fGJYjElmNi5J/1QjGnZs1h+thnKPuhlX7PnKP07HNRILPvUjdHlrYmpYDoJoZjjITsRhq7mfBOb8C2Po7U3+6Dvj308bmzy6PUTOnBZ78pYNgscR4kH/Dg7WTD5Al9I5jutdZN4hGVqmEqMRdk4k4rlE9UmT7yAJu2DIFML+FqCxhVEr40su/nLiZPX0PYJiMHVE59T8V6ytxuE6i9rgu3ZZN8oOOph7PPAgKd46NykrWkEq1yVroxesA4thY2J+K4oFDXU8bcCJm3n+DUu9m6EE2rydPXEIw18PEf50aBwe8SAA546PIA8ODLVwDglboCAP+u0r5ogx5YiRprRVIFVy+mUkUOC/6adqG/Jncljd2txFwM8tGG+eRetxZJgTP5RhynWlzsTys6kJh4QyH2z07oROPIC4y2c548fQ3mbV9Sc+cIVFnYx+ReuxZreRPnpyVE7cBBcIKSD7b3KexVWMKxeQWiC3O+vN0Yo+0YbsBCNwdXuZg6ZRWKUY7iOU68sRDb+n2s971F1ktFOlgbc1cxCaVHuHR7f/a87NK7AOPuKCbuaD1f352A44xE3dAglosmQjaVhKMSlgaFxi6ySCSxwOFnXEyYUUTlEINYrHoUcOb2TLp+WBfVPQIx8tM6GNDaeYhc4P7W0roFbT+b/21Fdnb015n5GGpiLKrFBIdP6J+HM3supSeKcKY/TLWzN94UibQ9Phq6W2jMkujxy9MoaQn6onz1LUUEYmVMHoWQTSbupFcfAWs8rmlXr2Djx4vIG7mUkzPiCWV7MZfZ8CcpJO+XsF8IgUEiZJHwphow+FW9c+vs/wQnb0+ly1Yf5rILHF7UnZQ9Mo5zQep7mlFlCJvB6AOjVyXpv/Zf9piNvL+EmMow296fx7BZbuKPB0CSMNf62PDpk1H3HX9bMZ4uMsYmSP2smnVfLm/XcckftIj6QUnEH6jRQXhkp3j8bcUdgnb9M+g1D9VujRoTa6pkZ/rDNI3J1ruukd+PPMe9VN41VO8IOfs/gXr+os6ZHXd7Mb4kmdgzQVSjhBRWqelroutfLkGDB5RoJfWYu0uozZFIPqgghVXxGfhUJCXanDnrlSL6vNaEJ8uBP07CUq9QMdpA4pHWz0s/NoMXc2yxlbjNdtI3X4RQGCXJwfrPl16WKjFt/HICSRZOzVDJyS4nUJiBddN+5NQUGkdnYq0KoBhlzk+yEH9MpbG7RMgGSJBQJl7D8IfceLqJFJPI0j6XBz6/j60ne5H4PzHU5UgE0kIQkkjeYyD+hJ/kZ06zuywL6ykzsadVjH6Vnb+bQ/9FblL3BVHMMiGrREOWTOxZFWt1iC2ljzP0UTcZ/3NWpwK0+6xbNhqjZpYghyDgkEjfWsW6gytaN36JEIyF1L0K3hSZxu6Q/rlC5VCZ7P+sItApFlWWaMw0YfRBU7rEgWKXTk3QzpFpPWfz4YnnvhsA+OOVGMwdAMCAj4OvXAGAV+oKAPy7Svui9XGtxIT4olnqVUxeFSkEYYtEMEYi4VjHu8/hD7mpGRJGig2iNpkw1hlAVjF4RbSTwQuHVroY9oib2PMhYraXsa7mVUbfK7hClcNMWGvAUq9g8ih6Z0MDJ9ooSSuNTK1lv4qMzifJ+tVaYr42tRuPaaWJKjriMuWNXIq3i11fDCO7nB1V/pAlSBcqKa18mbF3FlPTVyb98xBSWMXT2dSiaFZRJYnG7qLz6U8E2Q/2ClUXBeiPN3gx4VirnmPb92k3jrOqzimKeq0Ri7h+27eYBX9bRQoVvqk08Abox72j1zE5bw3NaSYujVZJ2SuRcLQZg8evA5HBLje+ZChb3PpZ5Y16GlRVB35TJ6+iIcvC7l8VROXVTryhEFNDEDmosHHHYkb9sITKiSFMF030/G0Vnr6JVPc3YPSKTnbsOZHlmj/0Sc7mJ2Kpg5pxfvr8zEfIYebcVBsjpx9i97luBKpsWC8Y8HYPEp/qYVj6efb850BsNULRqUrCj1E1gi8ZDi8Tr7//IjfNffyc+oH4fmT9ejXW4xay3qkifLjssh2+tsd/ytTVWA6dxTOmB9vfncv00cvwp9uiusJtzZgvBwKnTFuN5XwDpYdW6lSCSGNoECN8kyfcTuQ1ybmWi1eZUGXIfqEMpVsnQnYT/iQztos+qgfbSTjux5tiwpsiY25sPacjz8Wx3y/GmyyT8edo4JJ7fSGVg42YGkVnf8q01VgOnRdWKpmP0Tg6E3NDiLDVgDfJwK43RZ62FFZ1TmKkCbTWOdfe35DZbgJxIo/ccSGEfdcpvEO6sWXdfH3ToBkygxj3xp3yYz54htKKl/RR72CXG2Nzi8WSAzrtDuHJMGL0CrrKV4UuRt9bguNcgMohFgxBCNnEJEEd0UDAb8L4tQ1/1yC2BC+xNj+VXycTd1ymMVsh8YBMMFbE+WkA8qoflKAYwV4ewp9oQAqB0a/QlG6MMqJue42abvoeht7Z7TaFudcXErJIyCGVmj5GjF7hx9qcLpwXYk+KcxlZqOW7rWvWeahX/aAEOaRSPj1EzNdmpDAE4iHzj5V89MWq7wQADvzR5QHgV7+4YgR9pf5NAeCKFSv485//zL59+zCbzdTV1bW7z5kzZ5g1axabN2/GZrNx5513UlRUhNls1u9z4MABfvKTn7Br1y6SkpL48Y9/zJIlS5Ck9vFLHVVUBzDOKuxa6sHsUQmbJcyNCjEVgSiytVa5163F08WEpV6heqBM0qFWgQeIZAzFbOBMnglbheDTOFMfArOJ0/dmk1gW1rsOHaUGRD3XtWsJxhr0bqRW39YFATE2S/xadCbbktGd6Q+D3R5lMzL2+8XEH6zV7TjyBy/m1IxkOn/iFwHtgxYhXazWR8yTnGvZUvo44+4oxtSsUNfDiLVObel2yNgqFSrGgKVKGBOHrRKdPjj9v04r6L/ITdABPX9XxZnrU6LA7sQbCon5uEwHt1ow/V9TbcUHf2tp/LRIoDh5+poogKF1zkbNLCFlxyUCneNp7iQWF210OHXyKow7v9LPo0Fz3Jg8kPafwpg4MDInajOSe30hYbPEx3+cS9+lbtJ3B4n5/KQOEPo+7cbUINSpbZW2Wk24SQCjyqFGfD392A9ZMHrFQikpQhShGkQyQyAzAIpE3Jcm4k+FcXx+ltKzz9Hjt6ug1kzSARlPphDvhKzQnC5haoL9z7r0c+VyNfHGQppTDKiyhNEvgGckONc2QBDdtRv1w5Io/lzbdA8gSlk+8YZC6nsYCdqh6+ZGDMcvUFr5sp7QMm38cn1D0rbyHPfSPG0QckhcI5rTDFjqFT2m7nKlib60z8ybZKC+p8TRJ11MvLGQi1cZSTrUyu91Zsyi/NZeBGMg4bi4Vgz9iRtbjVDHGvwqH/9xrk4/AMh+rgRrpUTGDh/1PS1IYfAliU7WtPHLMZad4+x9fei6vpqww6p7eTrTH+biLTnsfVHY3NRO682lEWA/L+HprtB5q0ooRsabIunWQr40BSksoZgVkr406F3w/KQHUXIyOTstlvgTCvXZMll/rMTfJY5zuRYsteJ4KCbBzUv8OkTVACOOCyreJAlrnTiutqowchgM3jCKRe6Q19sRz3P4w25q+yucfHQOQ/5nCfZfJ4AEDd1lVEOL4X5IAFUUiKlSCdoE19lerqIYpFbBSc58gp3i8GRasVaHqO9ppqqvh3M/ffI7AYCDHrg8ADzw2pUO4JX6NwWATz31FAkJCZw7d45f/vKX7QBgOBxm6NChpKamUlxcTHV1Nffeey8333wzzz8veFcNDQ3k5OQwefJkFi1aRFlZGffddx9PPfUUc+Z888VYq0g+h3PmL/DHix19IFZk/RqCghfXUTcKBPixfV1J3ahOmOvDOsfKmfkYxNgoPbqaiTcU0tDdiOOCsAL5plgqrTRAqIkD8qx3IScmtFu8NauQqVNWcW6StZ0xrrZT1hZIZ7fZVF3TjYQjzRiaA0j1nnZjlUn5a7Bs+VIHIM7UhyA1icpxKXz+WkGHgKnPM26SDyhIikrFVTKdt4fxJhuIPRfAWB+gcmQsIZsQJ2jCijzHvVy8fygJXwfxdDURezb4jeAAWuO9rpm4gnOTY7DWiHi33OsLCVllHQznOe7l3Fs96BTXQFAxYFydjBRWOwTyeSOeajd6/t+Ws8ujKPUNSGYzkj1GENJHLmX950ujosKcGbOEKrKFOzh5+hoasszEnQqgmCS2/vlx/bPXAEsk3yzyGIy+r0TvzH3+y9bzUxvva5V7fSEoajtlqiZ60EqzDhpzd0mUyGjs94tRTBJhs+iIKyYh3lFMQsjT2AMcZ1q5r9PHPsOp6x30+EMd6/c+Tb8lgqMZ2fGEFqDQpxuVwx2YPCqOCwGCDiOOozWUT0kl8esA3hQjMZeCmHeVQY+uHP9eIgllKoE4MZ70pqsYM5uQJJVwSEY+ZiftizCO4w009orjQq5EwmFZ73ZBS3e1hwVVgthz0cro/ovcIse7xVvSlwKKWQgWUEVMoxxUSd7XwLkl0HQult6/80aBxcgue378TM4/OIiubx7lzP19sOZWIb2TTGN3ifTPBZdxcIGb+gFBEveZSN3TxMYdi5kybTXnJ1qiIuamj17GqcclDPsdOgjWhDUa523sncXEf1XL+WnJpO9u5sQMG+m7VBq7yjQN9XHyLnH+Tx+zDMVsoGJkDInHRZd47PeLSdh9ETXGwqmbk4kbU0llVSzxn1pJ/DqAKoEv2UhtHxl/ahgpJGGtFLxTa41K3MkAyOBLMuFNFjxnU5OKuUHEXloaFC4NNxB7WsWbLIRJqiw2JoMK3FgaxGME4o0EHTJNnSTs5cIBQNs4TJ6+hqYMU9To/NtqyrTVnLjZiO2CAYNfPKccFKKmoEN8f6QwmD3iMzf4VJBaBW5Tpq7GVO9j/edLGbDQTcYH5Ww6WPjdAMD7vwEA/vIKALxS/6Y+gE8/LRbcN954o8Ofb9iwgUOHDnH27Fk6dxZB5MXFxdx3332sWLGCuLg43nrrLXw+H2+88QYWi4WBAwdSVlZGSUkJBQUFf3UXEOC6GW4qpscRd1LsDBWTRDBGjAlMzdHdA410PWXaamr7Wzg1I43MvyhRBPvSs8+J2LTsuRh7piAHjQL8DVkSBf7yRi7lzLXxGD1gq1ZJ3lVJ6eFVbP1gHlMnr6JiipXhD7lJ75zRzgzYmf4wzd/PESO0NsBGA5mGlhgmo1+YpGI0RvGJpkxbHdVBADA1BvV/Txu/nMa8nChAIPvCOPssoPSoMLa96p4S0hvChE2S8IsLS9T1NOJPhJhLMiZFIegQu+5ArEzudWtpTjMSvnsotmqVhh5CKFM52MTIB0oImyUSjgUw13iRgmE8veIJOGR2vVmAEhsjlJ7bFpE34ikuTkggf8AitrYoabUOUvzIPnRZHUYKxdPcy4FkDmNsCnHVPSXU9xTj+WAfL11/baR5SPxlz4u/hmuo+fTljVzKOo1Qn/4wSm8RyaUt4hNuKmR7GwD/0Yb59F3qJuaSTE0/8VXe+sE8hvzUzf6dS4RpeIIQfOgZr03NgFA0hmIMVIw0MGS2m7BJKKrNDdGv73KdZQ385V5fSFV/Iwk5CTh7FPBpy4ZA66Lu/P0ccq9dK9SiAxa1E1poXTMt83XDziX0Xeqmvn8cA+e5MbfEHEJ0x7otFWHa+OUE7QbOXZvKgSIXeY57sXbuBI0eSutfF9FoodaFuc8yNydmF5D1UhG9+53n5K5uBBLDOI7Vf6PaGAkSD3nY8OmTZD9XoucOj7+1COkeDxnPWbg01EowVgBdywWJzr8vozq/N43dJfx9fSSUmUh5xQSDZPzJlqiHj3xfF+4fJKx6imBwgZvqqlhsnSUCiQq2zV8x7o5ivmwB92PuLiEQb2bAfDeBqYKHBwKUHlrhYsOuJ3Fmz+XczQ5y/vgMHHbQ86Iw1Zb84jtb00/G2BwvLKku1CGpNup6y/q4ftQPS0g60MCGz5fS/wk3XT9spGqYMNve+fs5OFMfYt2xQgbMd1Nd54A6M33uOkrFsmzCFiFaiTulUpkVgnqT4AiqYmMQSDAScMiELRLeVLDWQCBOIv6En5DdSF0PI1JIdCTDNtH9U0yCAkCyhL08xOZNC5jkXMvH/z2X0feW8NlvCui/2E2nUMt1rCnIrjfb01MmOddi2X4wigri7DUPb68Uwg4jsccNeFNFFxvQTemhNYJTMYCtTsHgF9zE3GvXolhkwikmNm9awGCXm4NuFw0LG4iP/3YB1D+iLmf6fMUI+kpp9W8JAL+tdu7cycCBA3XwB5CXl4ff7+eLL75g8uTJ7Ny5k9zcXCwWS9R9Fi5cyKlTp+jRo8df/Xx/ftdFXFycruwdeX8JhqCE/ZKKqUnRwd/424rZ27KA+eONum/V2C3FUeM+Z/rDOtDLH/oke1rGFOv2P9M6Zhq3HEluvThrNeSnbqH6lQR4GH9rkRAOtPD+NKsLNRgi46OaDhc7KcbGyPtLCPW3Cq5TSCWQnQaIbl3n7QGhcOtA2ScHwnr3T+tsaO/NmfkYUqckPP2S9ft/9psCcq8vZMc7cxl/WzGWaokv3S0digGLaO4ZLWYZf1sxlgaFj/84l9xr15LwwREapw9gxx/m6O/N2eVRMBhoHtgZ+/oDGHIHMObuEpqmJujed75Odt2Hzpk9l20ninD2KGDbZYjiQ3/iJpAACcdULo5X6DevAowGqoZkdnh/gEtXp5L1YhHxZQaCjpZQ+FSIPa2SeLiZjTsW6928yhHx9F7l5uuFrnbjR6BDS4lpV6+gx9GzNEzqTeaLB6DFxq7z22XwM7g01KqLLbSRefPILED49G1/d67osJmFce6wWW7qx3u58eOfsH9/Dyw1cmv3MYJLCGLcGrTL7LwMQNyw60nyByxCavay9WSJ4IZ1oLINThAGyo1ZVn0sa6kVeb5tu90a+ItUV2v2JMZj57E3JLH9TyuEvcrV/bF8fIj1njfp8XwxmbFGJBVdPXr0PZG1a+9iYOPDbq56vYTPfj0XHu74s3RmzEJp9BCeMIDzuVb6Pu0mpknClyiR/WwJqTEy3WY34OudTqfPmjiTbxcJQSPqONy3J7bzQpGf9nsTxvoGLo2IoesL+5BjHVHPEdml/7LExYCFbiy1kHLcT3OGGV+agrWrh6MlA4k70mownPjJBQLdkgg5THy9QHxmUyev4lCLunXqlFUYkxz4E6HnIxcorXiJqR+KzUnZg6lk/XoNPT6GxkwTKV8FaRiajqlRwhiRb777VwV6vNuhlS5YKQRpGgdPo3V02u1j05onuG7bT/nsy14YpskkHBFCt8b/8OD4NJZgLIRiVAIWYTLujxfcUzkkAIo3Tfxdm2PF1KSScDJERbIRY7MAX4F4QAJfomYLpYqJR6nogge6G5l29QoORRhVR3ZaI+kEYavcKrRq2bRVTcjQaQEj7y9BUkQXGwkUi+gCenoFsR83oRrB1AjeZBmjD+SQiv1CEGNzGMUoltgv3S7G31ZMbVqb7L9/Zl0u9u3fbuZ3pf5Z9X8SAF68eJH09PSo2xITEzGbzVy8eFG/T1ZWVtR9tN+5ePFihwDQ7/fj9/v1/zc0RLdLNB6WKosRcMgCYZPM1Cmr2LR5YRTfLlJV247/E8FTDCbZon6kgSvFamDT5sVRKtKJNxSy//15giPUTYTDe/qIbevZ+/oAYuQ5Zepq6m7rTzA6uUuv5uHdiT0nVHWqDE2djKR9cQalUxJHlzzR8S9pry+iG6gtaDX9zWLcbTEjV9SyvY1x7NYP5jFl2mocOw/T+KOhTLyxEGNzmOahSXhTZHqvcrekUahwtYT9rCw6lxFd05H3l5BwXnQyQlnpbNyxWAAIz5uM+JGbhh7Qc/UB+tncJBxXMBklrvpBCaYmBWtmkhAReJp1flXy5tOUnn0OEODPlyI88i7mBbCesKCkJCBX1XFwlUsHnvnxM6mZMZBdb4iUhOSvfXzxC7EA5yxv9R8EMerLeqWIPr9oZP0XT+PpBqn7FAa73HjTIemgSvyxJjbsXELOO89wQ++v+OP20ZhrW0GZpugdd3sx6+pf1/3MNADZkTrZUiUMq7XF7/Azro45pFeLvzQLlrajftmvEEpqkw8HUSNgrds3/rZiTIGO2w7GerEgRnL1tI5fR1SH/MGLqbqqdQPRZWuYCduLCE7rjblB2C9ZPj1KaGgvfVE/+egceFRsXiRVJeZkPXmOe0myx2DI7SXyXdPad/x7PF9M/FGZfT93UVr+AvlJD+qjRFVGB5hRry/pQchIw1xr50CJizF3lxDqIeljV62mTFvNes+bev6tM3tuh/zKLls8GE5coGZ6b+JOSFSPDGHYGUf2Xj+n88XxHzWzhN0t6vAuhu7QEoKjGlvf06bNC8mz3kXZ529BCybSsq2PF7Qc+x8IoHjqOguqDKl7VD2PeOqUVQTijPi6tl6bQGQ3t42p06gSVa9mkRgnUTskhCfTyC/ueYn7//AQ3pwQ9hNGwQE0iu4+MoTsEHNRjOit1aDIQhgih6BysBHU1i6cHBTj2LgzYQKxAghrPL9v4kODEPB8HEEXiRTKKTHi/WngL/f6QmIkkBQD3hRxPGVFWF/ZzppAFiNgxQRmn3hNwRiJps4mwhYJW6U4J8fdUYy1JkhKVev68c+uKx3AK/Vt9S8DAJcuXaqPdi9Xu3fvZuTIkX/V43U0wlVVNer2tvfR6JCXG/+uWrXqG19jnuNeglf1w5BpRjVIOhk9kjuW57gXyWzWRz0DH3fT9ZUDUYudmhird+za8s7yrHfBwN5sahkXpr93jNzzhdjONhJzppxJ+WuIOXCOiz/OJnVfmPgTEuNvLcLREkc04kE3X7RRJEeS1p3pDxMD+Ad3x5tswFYZIulQM+HM1HbKVWhPpI6MHmsancWk/DXsv4wqOLKrpD3GhJsEb3HCjCIsDQpyCCz1Eo6zgSjxgpazOXWKaHsFB1nbqY+1Y/rFL1zkLHfz9ZMD6bRTELSnj1lGffdYLuYq9H/iLJduzCE0sA+hGEg+GNLBH8C+n7tw5syntGwNudcXUn4VrN/7tJ5rqpkHS106seuNApzZc/Hf3SXKW8zWGmFL71VuEm7qR+9fN+v8waRDSjuRztTJq7hm4grSUm28O/4qLFkeJo45TvazJZgaJWLKhQLc20kWnMGzzzFt/HK+/oGVpD0GYi+EkP1Ky7kItrMNGKrrGbDALZTVIchee4CtEefepPw1VIw2k7Y3xNYP5okR7vWFWMuboiLTLqf0/vS3BVHnU37Sg+xoOdcn3lAIEtg/P6OfI7LX367TZwioDC5w09ArTMoemZTPqvWO37ovl+t5ugA1OUZhBv6UG8c5g+iA17/O5Lw15I1cSlN3h27WLIVpR/rPT3qQmIoefNgSc6a9ljF3l2DrLhN7PqzzPLXv7EcbhAVTJPjTvgf+kb2QA2FSDgb049FRbd64AGf2XKSuicDl85037FxC/uDFWKtDWGsgeX+AQCJcvMqCobuH8bcWsbtlMxnZOR53ezHxX54G0CkXbTPJaUP/njCjCMfJSo7PEd/JIbPd5Kx0k/Z5GHutj02bn2aSU5zzkSKajhwOJt5QiGyXUQwS5iojvowQD/z+YcIOBdt5I819A+AxIAdlkFRMdTLxJwR/2loNwRiw1qmYGxSaOhmIuSisZcIt+FM1gsEH5roQkmLUrbW8KcZ2HL9IE2qAj/97rrDZ2nceDLJ+DcqPn8n6+tejqBuBWBlfgqyDJjkMUhBCstioyEFhdSS15JWrsgCpRp/awnmVmDCjCMwSnkwzSgf5zP+sklQVqQOKf0e3Xan/N+tfRgRSVVVFVVXVN94nKysLq7WV1PrGG28we/bsdiKQJ598kvfee4/9+/frt9XW1pKUlMTmzZuZPHkyP/jBD6ivr+e9997T77N3716GDx/OiRMn/uoOYGZmZhSZdsKMInwJAmwpJglTs4rRq+iLEBBlRKyR/SPL2WcBNaPTBIH5MrYqetZrnwV4+qcgh1Ridp3g0g05epLH1Cmr8KaYhVGzQcLSwrVrG62lcbS0GvEjN1/8wiVI4euOoDY3R4lI2i7YGljVSvM6a+tv97+tvFFPI1+soX5cN+J3nb+sjxeIPFtrrYhp+musXUY+UELsmWCUyjb32rWEbTLGprB+zMfcVUxzmkwgXiw4mS8d4PRPB7Xr6ECrjYd2fJypD6F2TuXstUmAiOAz1XnbiUauyV3Jqf+w0uu3te1G8hNuKsSfYNA7ZIMK3IRtkHi0VQU+aI6bA8XRr0frOmvRWoefcemJCyN+5KZuiherLcDBG5eSP3gxZT9MotOnItouYW81yHRoYg3i86+4exBNUzwk/slO0ueVePomc+FqGWOT8Kz75O055F63lq1/fpxp45dj+OoEktVCacVLOPssINgpjvpsK00ZEsG41ixtxST+WKsg7oxC/K7zEAoLXmyL0KSj6vF8MWm7JBzn/JgPnUH1+am7fiC2ylahRt+lbnr8rjVjV6NTQKuIReMiXq7ailw6qrZZ1BC9MYJWADVt3HJdTfttzzXujmLiv7hIsEsigQQT5WOMZP93A7UDYi9rRTR5+hoUk0RdL5NOOdE2Xpogy9lnAY0DU/j4j3O5+pYiUMEfLxM2SzguhvTOmjP1Ieqn9I7aqGi8zMiNoHbuaXzdQKxE8kE/IYdo31UNMqIYwNczgLHcTMihEHNexp+iknBYwp8ouNSBWIg/Dv4E8VxSCCwNIvIyGAv282Jzp71mzeZGj26MuM5+U2nXr8tF9oHgbqOCqVnF01nC6BUcb2NzS5cyKMChHARjsxCCKEYJS52CHBZ53rV9zYSC//wUDk0EMuyuFZcVgex9658bR3el/j2q43T0/x8qJSWFvn37fuOfSPD3TTV27Fi++uorysvL9ds2bNiAxWJhxIgR+n22bdtGIBCIuk/nzp3bjYa1slgsxMXFRf1pW9vfnSuUgGFxAbPUh/VRi1aKo/V9rP98qUitiChvdhJJn1UAotMydXLrRSx/8GJyr12rq3c9/ZIxeUIiNs5oRDUKsnbudWsJxBkJ2iXCZuFlJeLlJMbdUczYO4v1xzT6wvq/8xz36p5Z8QdqWFfzKt7pQ6PGU21Hc5HgD8QofM/LYrT4t1TeiKfE4rz7KUrPPoccUvH1FuP53GvXkj+0fSfS3KjqI8C/xtdPMUnU9BXthDzrXeJGCcJmKQpwN6fLhC2QubEJ+0WVdfWvc/gZYcWSs9JNr7Vupk5aySTn2tbn7S64p6WVL7Nu/zMcXOXCVqmyedMC1n/xNONubz32+UOW8OHWJ+i2IRAF/qaPXoaz1zyCDgH+Jt5YyOTpa7BXKPgHN+PpbGDYI6ILmnBCvO+pU1bh7Dab/k+4BfjLmEXpiSIx5r1uLUqMuJ/jXJDj33sC9bN48gcswts9nhOuAj55ew5xZSI543LgD0By2Nn7ggu1zEHVUDifn0YwRuL4nAKOPukiftsJsn69msauQpjjS7PiH9OHqut6M/whN6dvTefcZBths0RiWZjs5fsoW+TiyNMuyha7iD0jBCnxH5+i9GSJ3o1tC/6mjWv9/8lH5/DZbwoIOYyiE9ajKzHlIt4PBGhVTFBaJjqD0EqnmD56mf7YiqX9WBtEpzA/6UESPvgKZ/rDUV3IydPXRN1X9vj0c6rPMvEZlZ5/nr5Lxb+njV/Ojnfmkue4l7C9/RAmP34mE28o1MFfvyfF75nrQ1zM60xzJwvb3ptHypcK63c/RW2f6InFJOdaEWOG6Ej5koxkfFSt//zYjzIZMtutv9fSo6v1DerHf5xLIFYmpiqMtVZBCqqMv1V0J0srX9bBnzNb3H9HBKdZ4wdqU4tQjAFrbZikowFUg0RzqoH6LCNSECy1YD1pJqYCLDXCYiWcGKI+R8XTL4ixCVSTqnfX5CA6qEIBFNEpHjLbHeVxCK182dLDq3D2WcCEGUX6d27a+NZzRruulla+zLTxy/GP7AUIXmnbstQpWGsVwmaJuNMKxmawVgvfV0NAiPBiz4Sxl4ex1insfr2AhGM+JBW8SQYqRpkx16s09gq3e+x/Wqnf8Oc7rrNnzzJp0iT69+/P4MGD+cMfvtnf80p9N/UvAwD/N3XmzBn27dvHmTNnCIfD7Nu3j3379uHxCMby9OnT6d+/P/fccw979+5l06ZNzJ07lwcffFAHbXfeeScWi4X77ruPr776infffZeVK1f+rxXAbSt/yBI+f62A5hQJa62KP96AwRfd9g8mWLj6liJh90IrYNEuoOY6P4GuCYC4mIccEYvEuQoMfoVxtxezafNC/AkG6rItKEaJiv/IBgXsF0M0dDcRiDVgvxgSzxkjgKBqFE73kbzDyDFzJHjyZsaLhexvOBx51ruQQt9+pZmct6bdbeu/eBo5MUH/vxRWqRhlZsACN/U9TfjT7O1+x1YVJhBnYOKNAnTmx8/E2b/jTs6IB4XXl/2iIox7fzSSEQ+6acw0oZgkfbQLgoh/cLWLjTsWs+sNkYXqzHyM3a8XUPaEi57/Vc+mLU9wbpKJrFeK6LfEzcXcZAES+izQFx6N1zbwcXdUvNu6/c/Q70k3pp2HRZehpTbsepJg5wQdBNj3nseXYsSXJCOfiMGQX41fTA85N1Xi6luKOD/BSumZZ3WPQw20917lJubABTptEeeRHFJxZszCWit4erZth6Oe99tK62R9vdDF8TkFxFSqxFwMcs3EFQz/sZtQz870fiXEnldcfP5aAdvfnYu1rIKEo82kf3iBQytcHFnqYs8rLna8M7cdYA9puqw4Rys476A66pxp55w3MxZjcxDzMbGRWlf/OqosbDnk5mgivqSI7+eUqav5aP38Vl5eRqs57oX7+rOu5lXW1b9OacVLKPWt/N+PNszXX+dV95RQPjWFxhuH0+P5Yo4+6WL4Q+JzTd0XYlCBWx+Py5mdMX9xPOq1OHsUgMHAtveFSAVaTbO3rJtPpw9OoxiFSjXugy/JH7SIrxeKnw+Z7SZ/yBK2lD6OrSZMrzVu/ElGrHVhjt/ZypvsttFH59+XcWZatAIZRHqMvTyIN8mApT7UkjUuuo+R1XZkrcoSpu0HmG76XtTtgVgDH62fT30Pc0tHTCXurAKyEEVJiujkGZsh8XMTBp+E0R5AvqYG2S+xcPbvUIwtwo8E0R32pQn6gsmjYK1WqRp8eSZT6dHVbH93rv6d04796HtLaOpiYehP3PrtH22YjzNjFscLCnBmzMLZp3W0/elbc/DHydiqwhj8KoaASvxxP6os1N6O8wEMPoWQTcLYFGbKtNWEbAZ2/GEOIRsklilcujpEXFnHG4x/RmkcwI7+fNdlNBp59tlnOXToEB9++CEul4umpqbv/oVcqaj6twSATz75JMOGDeOpp57C4/EwbNgwhg0bxueffw6AwWDgz3/+M1arlfHjx3P77bdz0003UVTUetGKj49n48aNnDt3jpEjR/LII49QUFBAQcE3j3e+rdbtfwZnv4UgC7PVxF0VWM416ODOmTELVZaE9UHvTlG/q41QZG8QuaUrt6X08ShSc/OEHMJWGUtdiIk3FKIYxMUxZJMxN6mk/ecBwlaZ2HMhzB6F2hwTqiR8q/zxMjt/N4fPfynSATQDX+21RZYz9SFUk8R631tYKv36jr9tte1eaiUnJtCUIS7M428tIve6tR3eL9JHLbIiO45yGA6tEEBs3/OuVrV0xALdlG7ks18X6OOqdfWvX9aC5YtXXVgvyShmiS2lj7P/Zy6+eNWFHFSxnw90mHmr1Y535tJwVavyVxvfh+LDxB80cPgZ8Rr9g7tTenS1vvCEzWJMHbLB8B+7ox7z8DIX6sCeeiYriA7Lh9sWkR8/kylTV3Pu1u4CtKsQTAmx59rlOM6p9Cwu4eRP5vDxH+eKnOP0hxky283gAjfjby0i+2fFGPxw/KHuVA9uMYZuDFBa/gJNnaH762upv3aA/rxj7yxmytTVOrcS2i/++u06uBXdzQ+3LSL9T2XU9rG1M0JW6xsxNAXaZQBPu7p9p9GbIUBcoFNce94aYpzatvKHPtkyrjcyYL6b8quMlI914BnRVd9oqQbBV2t7Xmif4eZNCxgy20351TZ6r3K3U+TmD2hVlAZyBzMpv3Xzst73FlffUsRnvykgZb+P+N3ldNopfha2iu+TN9lA5+1tfHYyxTVgyGy3GBOfLNHHkJoAAwQtxNnlUZRLlcSXeSg9ViiA85lyHXzuf9bFuv3PMGXaahq7GDk230VNX5maPkYydob0x9q0eSHEx5F0SBxnbRM2dsMCGrsYqB5oxtyo4OliQjFDQ7doE/lIYKT97if/NQc5LRV//gj9Z6ok3sOUaavZ84oLx4UQhoBKMEaioaeCo1xh/7Mu9rzsIuFEGKNXJf6YSpffWPAcTCLYOcCKw06assKMvuVLLLUtvnsK+JNUKocaiLkUFCKSy9TVN0cD1cnT19B/kZv4Y818+tsC0nfUiffU5VFx/LXPPDFet6oC4c0aUxnGm2JAMQnlsS/ZxO7XC7A0KoRiDMhhlcZMGX+iUVzLVdGVjzsT4pO355C824TyHbLuJfXyf77rysjIYOjQoQCkpaWRlJRETU3Nd/9CrlRU/VsCwDfeeANVVdv9mTRpkn6fbt268T//8z80NzdTXV3N888/H2X5AjBo0CC2bduGz+ejvLycp5566u/q/mlVengVB4pcBBwypWVrWHdwhQ7ulE4phC0yQZuEL9nMxBsLBYelpfIc9yJ5A2z8ZDETZhTp4GzK1NXiYqsK24KwTaahuxF/vISkQiBWQjHApe8NoindQNgiuGwxlxQUoyR+bpQY9oibUTNL2PGHOfqopKOg9tLKl7FdaCY/6UE2frL4siT1y41bS8tfwJckjuWOd+ay9c+PXxYsflspRikKkEQ+h1beNPSxdkfPk7NSgC5tdGe/0JqakJ/0ICCMu8Mx375Dr81pf59TD80V9jsIixTzJbG77fuUm0n5a0j5tJr9z7lwnFf1nNj8wYsZ/mM3I37kJmQ348x8TAcZ2vFeV/86mzctEF0TILEswKkH55Gz0k3yX8o4PqcVJIyaWcLRBb1JPuDnyxIXSBInfjqHI0tdlD3h4ti8Ag4UuzCcuEDeyKXYz4H5kokL14TptdZN7nVribngx+AP400V56Zm5Dz8YTe9V7vpv9hN9s+KyVnp5sIUleznSvQx4GCXm9KKl7A0qIz6YQn5Q58kz3oXudetZV3Nq4TtZvIHt4iNeojXLXvb22JYalrUloEw08csi+oSTx+9LIpLp9W6fcv49K05yCGVg2vEKLnrO6ep7m+g9OxzTJm6mnCMQt7IpXqHV/vcI0fJ+591cWi5C7Wn+Pwm3tAKWKVmr/7vj9bPj6IKTJm6GsdHR3Fmz6VilJXDczJQDBIjfuSm08ufU1r5svBOPHxC/51QsoNwrJVBBW72P+vq8H0BDHvETenR1ZSefx45uzuEWls4gZE5rPe9RX7Sg0yevobca9eyeeMCTM1ilY8/oRJ7VuHiD3xRj6lW1RB7yqe/l9zrC9k5fTVJRwM0dVFRjBL+BAlfMiQcC0YBKSVWUFjyByzCeqpWv93fp1PUZtXoU5hwUyFqyzXV5AmJES6Q/pmEL0FmxI/cDJjvpqG7gZiKEHJYfN/jToJcb+TWHvswp3lJtzTiyVJo6K2AAmqGD3+nEGenmjG0nELaqFr7PMRzio20Blo/2jCfQytcVA+yM/7WIj0asvT88zSMy2Lk/S3j39p68uNn6o/XOCqTi2NlAnEQUxEg6JBo6iTT/wk3Dd1E0kjYKnNwtUsHy1v/8jimL75GDorPQjFC4pFWn9R/eqmX6f79DQBw27ZtXH/99XTu3BlJkvjTn/7U7j4vvvgiPXr0wGq1MmLECLZv397hY33++ecoikJm5uUttK7Ud1P/MiKQf8eKTAJpywfMvb6QM3kyJ3/SunPWSOe51xdSn2UkbIbkgwEsW77E8x/DBClcvg1jcjJK907w1dcEcgcDrZ2yMXcVY6kLU99D5OYCmJrA3KAQiBV8NSThrm+tDhG2yqiyhDdJZs8rLkbeX4LjfJAt6+YzOW8NIZtM2CJjrQmiypL+PFOmrsZUJ8yUL0e8/6Zypj7E8dl9OgyW/9bfzZil54+CENbIAaVdGkVkDXnMTfIhP6oktctn1R+3RckLIvIJlSihiu6hCFEJGn2fdtPjjdZMVi1hpW19k4BgcIGb1L0+XRk8ZdpqPJ3NBOIk9j3vumz8nLPbbGpyuxG0S9grwmx/dy5Zb66h85+NNGTJeAYGSPzMrHcPNUJ7R9YuY+8sJmFvFRempxGKAW+aiprmJ3WjhV1vFOjkfUAXcHRUkdFpeda7YEAvQrEW6nJsxB/3Y/CFkIIKVSNiqctR6bP2OKEeGfjSLMLjLcVA7NkApjo/Ibup3THrv1hY5mhiiqlTVqFKEr5kU9T4/HI1efoamjuZ+OzX0e9J81lsW5oApK1oYOydxTSnyPo50VFpIi5N+NNviZusN05RevY5RvzIjaM8hKXSi6e7nfgvq6gbmkLCtlOUnn+e4T92E3s22K7jrJ2HA+e5sV9UozqBUc/dRuykvY9hs9zEnwgihVWCsQZ8iTJNGVJUDJ4/QVwXbFVhnT83/CE3QbugKwRjBcdNlaGuv8KJn/516Uha9Vsi/AsNfpDDKrbqMAavwvmJZlL3hanrZcBSK8QeJo8AnKoBYirDNHY1gCSeWzGCtVqldgAMvuo4Rknhi9OZKI0m4g8Z2f+sUPgjocfEaV6feda7aLxhOEG7RPKu6nYm5N+WWx5ZI37kRg6qNHUWFl9xpxWMXlW3kNEEJJGPOeqHJcRUhGjsZiL9L6epmdSNjT9/4LJrxj+qtHVpxG3LMZra8+ZDQR9f/GHx/+o1lJaWsmPHDoYPH84tt9zCu+++y0033aT//O233+aee+7hxRdfZPz48bzyyiu89tprHDp0iG7duun3q66uZsKECbz22muMGzfu736vV+rvq3/LDuC/QwViZSzVrYc3f+iTSDk9uPrmIoyNQUJWMHlANcms972lKzqNvXtSWvkykj+InJykc2igdVcrB1URmi4LQ1RrdSv4U1ryKoM2iYbuJvzxMoFYCZNX5eqbi5AUcUGeMKOIj9bPJ2iX8cfJbN64IGoca/nyFFXDE1AN0d0uZ7fZUf+feENh1ChML6MBxznxz2tyV0aRr7+t1GYvtqMV+v+3vzsXg08hf1B0hJzWyRlzVzFhi+hkXg78ATr4A7BfDGMIRO99HOWK3nGNHHkdecqlg7+r7inBk9HxHKctkBkw362PqS11qg7++i92s3njAna9WUDsOdGhiAR/428TncwpU1dTfmN3QjaJxKM+tr87l1EzS0jcZcZxqonU/QGM1iAhm+j+OTNm6YKcrR/MY9TMEoY94tZ5kfEH6yg9vIr9z7lIOKZwwlVA7BdWkj8Rx3rT5oUMmS06pYYOfPtGzSxh0Bw39T0lsl4QXcC620egmo0gSXzxCxebNy1g447FnJ8SS8ABJ1wFXLq+F5dG2lFMMtven8fu1wvYvHEBckUtzZ2ju/JTp6wibBYbqNPXOhh/WzFSSGHzpgXEXBQdK01cNPxhN2PuLok6J3sWlXB2qpnPfl2gvycQoNDUAeUof8gSfYOjgb9RM8VnvfN3c9qBv0jxB7SOj9fVv87EGws5/IwLX//O9PzPlXzxCxdbP5iHoaqRT96eQ+nhVVhqQ5Sef57po5ex5xUXtX1MjP1+9Ih9/8+EgOqrQheWhvaigaGPusXUoE9W1O0NfQUpdO8LLraUPs5HG+Yjh4SvnmJqvV/s5qP4E4RDgQb+cq9biy9Z8OyCsYDSwrdLAfspmdzroycVHZXWUQXhLxl3JoS5SSHpv/YjBVU+2jCf2NPgSzJg9AlFrblBRQ4h7IEqwtT0NdAwykfdwBC+FHF9a8ySUEwqe45058CGHGwxAbAqGLxCzW9shoSvVbr+poz4k2EGzXGTs8LNpfuFZVggXmLdwRVRHT1nl0ep6Wem/yI3+fEzGbAwmpbhTH0o6j2ZPQpJBxpILFOIO62IODhvmKtvKWLkA61je21jDcJL0J9owOxRKT3zLJb671AAwrdzABsaGqL+RDpctC2n08ny5cu5+eabO/x5SUkJ999/Pw888AD9+vXj2WefJTMzk5dearUm8vv9zJgxg4ULF14Bf/8idQUA/gPq2lueBVoBmrNHAWGTROb61hVn3T6hNPQlylQNtomg8qAIrI8sjXfS1CuR0vPP68Bwct4awlaZkE3Cm2rE6NV2x4LbFHMpjMmjIoeFLYGlQcHcKHI0DX4BdHyJQt2HAjGlexl7ZzH+BBlrbQcXJqOBuNMBfUQyfcwyANQksWPULpDb3p/X4S66tPwFwmZBVv9w6xOtPoOX4RJG1rr61wl0T4m6LWyV2ylTt/7lccbfVkzAIWOubx0BR3KULlf2kw2kfNpqO9RviRtrdaDDcXhUSegjlIk3FDLkseiFY8rU1fpCc3CNMBCeOmUVRm8r2Iw0hI40oc29di1X31yEuUGQmuSQwr7nXXzxCxf1PS0Me8Qt1IVfBzB4fNTmmOn+kgE5KEQ+tVOyo15L5SiFpCM+gnaZYY+4uTghiat+UIKzy6MY/GIVaBgUpHFQqn7s9j/r+v/aO+/4KMr8j3+mbEmyqSQkJIQQQHroID0kgSQrotg9UeFQFA8Q0whFBEUIIcmu/rDdeeJ5d/z0zoLlpwktdESQ3hSQFiAhIb1sn+f3x5OZ3c3uJqEKMu/Xa1+E2dnZZ/aZ8p1v+Xwx/Ik8VEerkBCXheFP5EEbnYrEYUsQvP4cDufR8OrZGWk4MT8FP/0zFet+XAjW7HwMHV2egiM5NCdx799ScPB/UsA3KYbKP/8W/I9UOi3bWDgPfD01YDt9cBo7Pk+Tekdz+04AsAv9+hRbsevfqVKXEwD4LT0VpzJTpMpc0WgxhPDwLrbnvI3RrqDpFhXOOXmjH8zBnlWp6PS2DtH/dk47SO73mtsuLfHjaM6kyY9DQnwWKropEbSOel60PeZB8PeWUhBK7lVC2yUD3JUaxE7IwSF9Cn781NW7Ju7j1m8yMGQyNUi1Xel51uaoEdu/TEddJ3ou9knVo9sbepT3pheTMdoVUt4mYyHgG6iEkUhBxYcI31wNECI9RFXdo4CiHtAU0fw6nxICv/NW2FSA70UBhKUVwu7yhUXqR3eVjJ+RD+dC4BlY1QzW1n0ieTkVBgIQWjjBECBoXzlUNTYo6wTUh3LQXCRgylRQlfCwqQjMAQL4eiD6aws6fkXlgchufyiLlKjtCDTcX4Po5DPQFJlRNLkrtn+Zjtp7bFDUUkNYYaCtJPuk6FFQvQqx99F5z7+4ElYfoKG9Db++2QsRm2ql+dJ2eAWVSV2RHDQNhhFdAdCHpysD/KV0B7+fL2JzQSYa2tLzzxFHcexdq9NAWBrVYCwEiZP+x+Pvd6NpyQCMjIyEv7+/9MrKalkyxx1msxl79+5FYmKi0/LExETs3LkTANXYnTJlCuLj4/HMM89c137J3DhuGyHoO5kfvnwFox/MQWVf6s3IP6ND4rAl4E5dlNYRwzXeZTZU+fNUL8pIL4YjH8mFqtLiVI27bU06hj9ONegU9QQkUgGzL9OoOs/AFEBPZJuCtiACaKGHwFEBVasXrfq1KQGLNwvOQuBbZEF1JyV8iwgKjaslzxBvoJ4vc2O7rG1r0lExrjO8S+xXNq6ygRp97ahh1lT6xRGxI0XgCYtT0v+44W9ivYdcwqYwgrN3rmgs76SZKIY6d3yehrikbFTeowTb6NFzTN72REMHXydxWHe6fiLJ/V4DzlxAQfUq+BSbUXkPnee6CNrOr99MPQ6809hiro0ChU1kcjYWznPxMIg46qdxFgGKOotk8GzYMp96qA4uwc9/T5Xy55p6OROHLcHZ+zUgHIvkvgsBQiD4qNA+3As2JUsfABjq0SEMUD2yI1grQfTqLATsVWP7l3Ts0auzoDijhiqChVc5QX24klYdDwh30rF0B1fvnMun7ZoJW5APjEM70Xy/ugZwfTqix2t6qao12X8qSCeaB5Tca4GkPcg2JvU3zYlrmm+67esMjB29FIrjRYDGG0TjBcFHBfZEERrG90ByrwXYfnQpYu9bAW+TgLpIJQ2Nr83EsD/loebpftj3QQq0IdNxdno3HF+SgtoIHh3/mY2un5qwbtdrGDUxB7XteZj9gQhvpdMxOPRpHZQ1NmxdPxc95+txbFkKhkzWobYTQdePyjF0Uh7UUQHwOnwBJ+a/jrjEbPyyLhNoRu8+LinbpTBKFDbOP5GNhPgs1EaqMPrBHOxoFEw/tIbq99WFc4hJ1UMVwePnv6ei/ww9NEoGFg1t9QfQhxafX67AFuYHTZERpjYqDHsqD2qeQWVXBqoqAAKDukigohe9TlX0ZKGqoNcYsXOLNM+d0nH+sQiE/mxCTYwKB99KwT3L9YistqKqqwr+vzmvH7i3DJUDgmH2ZVHfloF5ZDAaQmkhmyXQBtbMwKaxgfAcWBMDv1MsWAtQ2V0ldQLxLSK40hfo+L0Jtb/44XSUP4QxgCnKhM55OnhVcQhIKMGfdr2AyXnHkHN0HGrKvJEQl4Utm+YhOWgahj+RBz6CRcRGYMcXtFMMYPcCD3hJD0TacxrrO/nDpqQ6nAENAooei0TshBzs+y7DbQSkcONcjH4wB1WdeJC2DGqmdYFXGWC13DovYEudQIqKipxCwE1z5FvLlStXYLPZXLpvhYaGSp23duzYgf/85z/o06ePlD/4r3/9CzExMdf0nTI3BjkH8DoQcy06LVgGTY3aqQgABNTLQuw37FEP5ULggLoIjmpbNarHexJMjkvKhkXDoTaSg+aiID19xo9bDsIyKOujRJujFtRGKSBwAG8gUNYSCEoGZh+aq2JT05s+b2xso9SoVh/4q4lepB6gQsPqcisMITwdl5VAWW0DIxDJuyd2E3B3g7oamhNbFdH2mAdjZADUB886eVySBr+OtXsWYdTEHDAE4BtsKFw/F0Om6KCutKE6ipfmIHHYEpgCVajsrsAhXYpTyzxtz/mo6RkE72KjS7WqO/rO1kNzSYAxgIbZGQKnil1HHPMAxd9s2FN5qOrMuhiZIx/OhU3NQFVhpaGjxp7JQyflYdfqNIx4NBd+ey/B1KktCM+0+LuPeijXyaMIUK+ioS0PRT1BQ1uWhr6NnvMpxyRn4+zDLIJ3czAFMFCXE1h8GHiXuXYqccSxP69Ij4V6p312K5DcKd2pwCi570KcHx+ENsesYM0EVV0V8C2ygTCA9yUjWLMVjFUAY7YCZgtIRRUKKj6U+nCL++CYP6qos8IUoEBNFIuAU1bUtufhd96Kyq48Qnc3gD9yVjomxV7XUqV5o2iyOPYeC/XwO+ucl5fca4FTftmoiTnwLqrDhbEBAAsczUrBgJf02Pf+tQujx45fAbYxjDri0VzURtLeuV5XbGBtgMmPaumpqgSwVgLOJKA6WglTIA3pqsrp9cbiDYT+bEZFdyX8z1mhqLXC6sVhy/dzMPrBHJT15cHXUakVS7gZiotKcN1qIRz3lfJ5Rz6ci+1fpaPvK3q0+5h2MUoctgSV3X2gqCfSPMSk6cFagfB1pSgfEgLvyxbURShg0TDwvWBDTQd6HQw8acHlQQqwZkBziUBz0QSrmkNDGA/vMhuMARy8yizgjDbwdWaUDfaH1YtWZvd8VY+GKCsYIwvGxkBznhaZJDz7E9ae7Q5DkS+IvxU+x5WwegPKSiBiQzkKDr3pNs91yGQdSocKCDjGQVlL0Gbtb8gvfheJw5bg8hCN1ItYU2yDVc2goS0LVRXBno9TpbaJ3ZbopXaNA16ibSz5BrrOkIeWYs/XV5d/d7WI96UhDyzxmAO4+9uF1zwGhmGccgAvXbqEiIgI7Ny5E8OGDZPWW7p0Kf71r3/hl19+ueZ9kbm5yCHgG0DYz1ZUD6L5E8m9FkBRa6XeJQKAoTlL2sjZEHgq/2JVUx0rnxIb9n2QgjHJ2U7VhiKb1tIcHs5AK+rE3CQxXy/oVysawnhwRgLCAaZABjv/mwbeIDS2UaMeRlY06moEWL0Br3IBFj8e2nYzwJloMjMa+xezNgKzL4u69grUdrD3/RS9agLPSOFfsZITcBXD9YTQtRWVXwL1WDUNt7FnqbC3otaGrd9kgN98ACMfyQVhgdr2vPRkGzt+Bdb9uBBbfphDq2FBjWwxty7/2DLs+CIdFT3teoLaHs4t98R9i0vMhuaSAEWtFW23l1KjuvFncaczqKiisbaEuCyQklIAgPqKFYo6h22HTEd8wnIYA1k0tGXtIfTGAvRdq9NoK7xqK/LP6FC4ca5b469pD9amxh8AGNryVAw4gG3MWxIAlkFy0DTEj1sObeRsaT/ikrJh9uPBGjhUxFBtNsICPpcFeJU138TeGujtskxz0fnZ0uyvdFlHCLI3pB434k0UHFwCRR317m35YQ4OvpUCzihgxxfpWL/zVaz9eTHIqXPIP7YM+adyUFDxIWIn5EDh0GJrc0EmBj2ngzZkOryKG2D15sDX2+BTLEDz42m0OWrE1m8z0P77UhSN88blJ3sCoDfrNkcEbFqXiV7z9IhLzEbtACrqLRqu7XaZJOOvc54OfWfrUXB0Kfr/RY/ui/WIH7ccXpcMuDwsAEezU3A0q/H4a6XxJ1bbxiVmI37ccsSOX4Ex2hUQFAzq2isweKoOnIVAc5Get7WRHC4P4nA51orycUZU9ORwPplB6QAlKgZaUXePBeZwM0xBtLdu6F5q3Lb79zGcn0jnh/AMBj2vw5UYHoSjBiNnBHyOKcF0rYP5nAY+l6j3cMRjebCp6YF68K0U2vGmaybW/bgQvufNUtVtnxQ9go5bYPYHNf5KrSjrp8TPH6XCu0xAVScOVi+a7whCELrHDMIBtZEMzP4KGEJ4GIMYXB7EQ11uBSMAytOluNLfHwIHKGsIBj2ng8ABiis8An5hcfqVVPiUCFBXEPz8+iCYT/ph5JDjaBdWCXZYFUztLeDMwC/TAzBwml7qlewoWL/7k1REr7FB4Ok1+uKfuuDeZ6iYOW+gOZHqKgJDEAfORMAbAFMAg0HP6aScYtH46/S2Dop6AqsaMPsxSBzyBqze168y0VpaCgEPHjwYPXv2xLvvuvagvhqCg4PBcZzk7RMpLS118QrK3F7IBuANQOCAs8/SMJ4lxAeV3dQYG7sMm9ZlSjfuK2OjYNbQnBhVDTVIFHVWDJymR12EAla161SMmpgDm4IBbySwqll4ldto/lJjyEFQMPAusWLPx6ngzFQtv/8MPYwBNOxn8WGgqCdgzdRTsGt1GrxLaWu6bWvSAasNm9ZmYsfnafaKUUJzCy0awORvH4sow8KZBSn869ia7dx9Dlnm10n+r8vBuilCMA6g7fnE3qPrLJ8BoPlvqmoi5eIwNnoh1naxh3iHTLbLlcQlZkMbneqUGJ9/PMspvyn/DC2g2LQuE4YgFjXRSuQfz5I6EgBw0ZNLHPIGrgwMAABs3DSPFgY8kIPaDgrwDjlY+WUfoHDjXPgUWyE0TnvSoMUQOPvNYdua9BbzER17sIrdHwY979zFQHPRDIs3rbBsCAUsGg4NIRyY4CAod58AjCagnObhbVqbCTBAmwNAwC8MFeBVM2AEAkFhPz5HPeQaxhfD1iJxSdnw/81ZekR1ucEus9EIW2Qv9hG9sd5lznPf1EtjjOsNgBpLsfetoIUWDdTwSO67ELHjVyBk0yWAZVDT2QfGQA5VXRTYtToN8PHBxk3zqJzM8Sz8ujAF+9+jOYP73rdLeBzNonqTvvudb2qO7c5+S0uV2qvtf4+KWzeEKsFV1SPoOH0gdJcz51jM1CfFOTVg+1fpiE9YjupoJQrXz4XVm4MhmKZmcGbA55IFde14NISyMPsxUNYSeF0GwjbzCNzkBZ9LBOrLHIwhBKyBBVfDg7+sBF9PPy9ejwoqPsTZP8/BxsJ52PpNBgzBDBQ19Nw3trPBpm5sx1biDSHAiqruArzPVtNjiaEakMOeysPgP+tgiqLFJ2X9VajpqEBMqh5+52yw+HLwKgM0l8wQlAza7jMjIT4LXpctCDhto8UmoAb75oJM+J8V4F1KcKU3h4ZQBjYVLe5QVRhh9uPQEBOOkC+P4cA7KbD4MAjeW4XwnSacnJcieeRN/ix2/4OKj3coMOPHzb1QvSUUs7sXYt7w71HZ3wJ422AIBS48YUGnt3QwtOGkHNgB0/Wo6KkEQ4D6UCqtxVoJynvwMLYBDZGDegGNgRwVhD5jhXeZDYyNOGlFnp6dCkUdjQKpqgnW7X4NgcdrXY6Hm0VLOoB79uzBsWPHMGPGjOY31AJKpRIDBw7E+vXrnZavX79eLva4zZENwBvA2k9nS39v3DwfoV+fguKXImmZIYiDspYmUgfvLkfw/lrJ22L1AYxtGDSEsui5QC91DYidkIP6MB7V0TQUZ/JnUNeOx6a1mVBu3A8AUNZYQXiGCsRygNVb7KXKgHAM/IqsNG9QIKiO5hF73wqas9SY+9Y0j++nf6aCNwjwKhdgU9DwsZTf0piT52iUOBpYgkpwMT4AGrZ1xBxIQxKix9Nd/ow2YhaKRziHLvq+rIcxyJ6yOiY5G/c+o0NNFEeNm7bUgzngRT2sPo0trk7lSN/j2CBeVVqP/DM6qKoFJPtPlcZYF6508mTufy8FyX1ehU+pDcpaAm3P+dBcsjjJaIltxQBayfvzR86SHVu/zcCV0WZYvVx2E/Xt6PzHjl+BtT8vlgozmkP0VoheWIB6Ajfnz4H3FRt+/rv9+5M0k2Hy52kDextNvLd6M7B4M1SfsnoVhPahAGu/DFA5IPo3awUU9dTb4eiBdOdpbDrPm9ZmYsMWu4d01EO5sPmp0OY/9v7c2uhUCJF2D4GYk+pV2rxW2pbvMhA/bjn4Bhu2/DAHw5/Ig8WPx4hHc2k7PZZB/ulc5F9+H7tWp2H3P1Kl1AAx3NxUcsdT9bgn/cvSAc7Hp2jIKepsgNWGwo1zkew/FYXr5yIhLgvJ/V6TzhfHULlFA3TJ0aHje7no9LYOnd7Woby3Cj6X6cMhIxA0hDKobc+j6h7qBeTMBMY2tNjLpmRgDAHKBhFUdSMoGyTA2NkMwhPwdSz4BgaEJxAUdC7jxy2Xxpo0aDHixy1HfMJyhBwwI+AMTb5kfC0QOhpgChbAGRgwdRy6LfoFBYfehHepFVVdWPAmAdUdWZTFmVHVSYWxsctwODcF6koBbY5b4LPuMKqjWTBWwBioQHVHnuqR+itQuHEuFLU2nJxH5Y+SYxZg3MilVKT+76k4viQFR1akIOo/lxC48Tdw5y7Dpmbh/WuZFKo/+HYKCg68AUMIfYobOokacPveT0Fy0DR0WaFH4ca5OJWZgpBDVvw16yF8svAB+B1VoNvMY/C5SCDUKuH3GwNDEIPqjiw6fpAL/8cvoLq7DWZfAAxg9QEsPrSKmjMBde3pAyctsKO/f10ED7Mfh6KHbSi/tw0GPafDiMfyMOg5HerCORhDAFUVfUBZs9k50nAzYQTi8QVcnQewrq5O6rgFAGfOnJG6cQFAamoq/v73v2PVqlU4fvw4UlJScP78eUyfPr2Zrcr83sgG4A1gwv1N2iQVvwtzj0ipldPuT1Jh9qOdJxgbAVdtwKa1mdj+ZTp8i2w4siIFTGM+IGciNDfluwx4l9nAWumFhzAMlLUChj6twzrLZ7j3GR1M/jwIx6B2aBSsXoDZDzAEU0+P2Zd6kxiBGoSKOoKajgpJiHXYU3lI0kx2kaDY9nUGzBoGpNE7ZvOixhRf6yoRQDQOVg1HnIwPiUbh22T/qbQxvZKheVm19GbTtIJ4xKO5EKprEFFYj8RhS6SqwvAfLsHvlD2Oqtp+DKyVQFFHQ7KEBerb06dbi7f9sGYtBGO0zl1ICg68gX6z9FBV2VBQvQpr9yyS5qmpIVBw6E3URHEwBDHIP7YMFd0UMAfY3xcLApqSpJ6EmHQ9YifkQHNEBVUlcTKQhz+eB69yGwJ/FaSQjKNHzxNMY29b0XiPT1gOQ1sFRj+YI70HUA9cfWIM6tpzIAztS81ZAE2RGRZ71JVWeavtyd82NQfOQg1GMaTlfaX5xHVtdCrW7lkkddxwh7LSDJuKk7x3AAAvNdDorY1LzJa0FTlDM60dGhE42rM59j6aGyeGiQF7Ba1YNet2zC1Uo4uyRUkDF7m8F/XRCklrTuSQnv5/29cZktFoGNkdw57Kg/LEJRQceANQ8C7fHbmhDqcyUhG8j6UHL6FhxoYQHppLFpT141Db2Yaq4UZY1UB1FwZ1EbQYjB1ViYFTD8JnYDkEtQBV5xow/hbAyEJZwcIcTHuEWwOsMEabUduRQeH6uYhYWwYAsASqAQGo7qxCRQ8lLo7iYY02QDDwYM57QRNdDcIDnJFBxQM9cO+zOjS05dHmqA0CzyDwpADVORUCTpmwYct8jHooF8o6ATUdFFhb9wkCT9iw98MU7PxvGg6+nQLOJEh90RWb9uPeZ3UwhahRcHgp1m939iADAExmEJMZpt6RsHgxQDX1ng18QY9RE3PQY6Feamm5azUtBotLykZBxYfo9FUtYsevwPDH87DluwwEfboXO/+bhsO6FLBeXuDMBJ3+awXfQFDT2wLOBKiLOVysDICynIOgBCw+9KHJEEwNQJsK0vXG7EcfOC3e1GuqqBcQ9KMKinqqFdgQwsKn1IaqIWZoioCicSwGPa+7raqAr8YD+PPPP0sdtwBq8PXv3x+vvUYfpJ544gm89dZbeOONN9CvXz9s3boVP/zwA6Kiom7a/slcP7IBeAP47v9ck+M3bp7vlCjO2ADWTJB/bBnKh4RI8guKWhviErOhrCUI+8kEzSWLFPLa/mU6DulT4HXFBoWBNh0HIRj+eB5Ymz2Uawji4F1KoKxqNBY5Gg42+XHgzPQiZfFlpGrQe5/VweTLouKxviAs9bzEJWYjPmE5Rk3MgcmfAV8PKKvt3p7y/v5NdxFlQwLtuXNq90aCWLlZUL0KjI2gvDuPiu6cpInXFLE3rMVfiXU/LpQ8T/mncsDW243QuuQY/PhpGuojqBA2bwBCf7bCt8gCZR3t8dv/L3pszp+DhrY8es+hXg+xDduBlSmS1l2nt+yGmWMfYJGDb6XQgh00fleD26E777dxNbwvE5g1LNTl9KbnaCDv/G9aYwhJcBvu9kRTg7lw41wo6wRs/YbK8STEZ2Hwn3WoD1OgoS0HCPRGxpmpkVwbpXSRrRBD+fEJy2FVMeAbBCjqBTA2QFUtuPX4ObbhEz+fX/S2pJvmmFcF0POBsHASp84/tgxETY0iR8N7/c5XXVp4Afa5GaNdAYsv9Wgb2/BQ1NucfkMx7Oqo+wg453l68uxJYxCLgxq9oyMezZX0Bs8951pA4677jNmPw4//m4b8iyuh7TlfqjAVv3sc+xjW/bgQ2uhUsFYg+mszVOX0AW3vhynw+vEklJVAx28FaParoainfXMtvo2vPYHYsqEvGna3QeBBHvxWf2j2quF7gofmAoH/Ufrbqi8poD6rRNBRASMfyUVtjyAA1JtfuHEu1JUCvEsF+J4DcFkNvooDZwJM+wPBGRhY/QTUt2NQ2Y1BfTsGJn8WNhUDwlIZqspu9AFi25p0VHXmYfajWoqaXyud0gVYiw1bvsvA0Kd14CLb46d/pmLL93MQP2651FbQkfyityF06wCuwQqGEAgd29HtWAms3iyCjzR2+WjM1920NhOCks7Xul2vYcv3c+C34Rf0fFWPMwupJmCSehKEDqFQ1Qi0pWa1APVFBdSVBMZoM8yXvcAb0HjsA+ahdWiIEGDubIQxmMDYhsDq3ajB6gcoDDQFqKoTLWipjaDFXso6AsYiIPAnJdrurkbEJgJDGwa1HW5dL2AIxPPrKhkzZozb7lv/+Mc/pHX+8pe/4OzZszCZTNi7dy9Gjx59A3dG5mYgG4A3gIdiW9ZPEnN4Rk3MgTGIQUOo/cYnCraKXTuasuOLdOz6dyr4BprHR3gqUite7HgTwe5PaB4g4elTqtWL5n1ZNJD+bQhlUNOBg1XFgLVSzUCbkoGhDQdjMI/aKCWMQRz1ovnScPKIR3Mx6qFc+J6nVkPs+BVS8YHXFRuMkQEAAGJu+cJWuHEuOnxXhqNZKYha5b43cHLQNGjbzQBrdTWKbP52j+OOL9Jx7zM68PX0YswItEBlc/4cWr2cPwd+Zy0Yo10BQzCDIyuo3IfYhg0AbI15bT5FDO59lhoxW36YIxkxCfFZUlhS4KjhoWigBTcAFYV29DIlDlsCAJInjDMRKBoEGEIYqXMGYM8BY4RGpw/vOTHcsb0VYC/8mLVvEnospMasaFSNSc7GxsJ54BrzFAlLjwebmgrqmv3ob8Qb7Dmd2i4ZkmFTuHEudnyRTvtK1wlQVdO0haZt+AZOc+6TK24HABiVEqMm5sBrxwmXfWkIdc0TZTzIYogCxY4Yg3nEj1sOQUE9LFYfDl5XrNi0NtPJe6o6dhFJg193Kaxy7PLhieGP5zkZr+TAcYwb8SZ2fJHupDfYFHctER31/fKPLbO3wevwCuISs2F46F763hkddv8jFYZgJY4vSZGKCIxDuoAB7Qd+ODcFmgsEmks2hO4RoDkPeBcDvmcA78Y0SrM/9fIKPK0GBgN4ldL/s2bAFMBi+5fp2P5lunSMjnw4F3wD1eGjxws9vm1q+q9VQ89Dsx+tJDb0NdD2k1YaZfC6QqCsowZFUv9FICwQ+e1ltPn6OIyRfpJ4OWDPE93171TJCO41l4qie+rwUh/hBf7EBZj8GLCVNALAmRtD34Gs9PuJNO1+U1DxIY69mYITC1Iw+oEcrDWuxtq9r8OmoNGYHV+kw9q1AbUdGKjPKsHXcdTQ62SGwALWCz4g/hYo1FaMHHUUyx9aDcvQWlp80kA96wwAdSUNsytrG8WpDQQMATSXbKiI8cOOL9LBm2jxyq2C8dAKTswBvFFFIDJ3LrIBeAMo70tL6UXPQ9NQWOyEHHiVWaGsE8A3CDR/x5tBXGI2+r5Mb+JWLwY2FYvN+XOk5u6OVbaAPRleWSug30y95JkRux5oLglQXwHa7jfBq9wGr1IrAk/SCjrWTKVgDulTpBwvgafhYZuSegetakZqv8Q2ehLNfizq23LSzdvqzaEhTIHYCTlU1Lq3Ev1m6uFzlpdCnOKNVwzfxiVmS4ZSXbcgaENfQqfPiOQ1GTopD/EJyzEmmYZv8ovfhfKSa7I0Y7QiOWgaxo5eiphUPWxKwKeEQF1F4FVmg8WHxchHcqVQoqBiUR2tkEIeYthUNFZUlSYkjFmG+vZE+g1HPpILw7B7AABVXdSoC6eGOuHojbg2kkFDBDVafvpXKmA0YcSjuRg34k3JeM8vehsA9fJt/SYDrJmGrUTEHDDC0arc5uRdxLBmU1YOWI3jS1KcchA3F2QidvwK2BSAVcXA7E+9f4ISAENz+sQKZlFzMv9Ujotho6q2NbbmYrD9y3QQhlZ+i9+190PXilZR7zG/+F2oy0xupX4c8zBF2FpaKOLoURTRRs7GkCn0mBr6tA4//TMVFg0Pi4ZF8KEG7Pg8TSr4ccwlzb+4Emv3LAJvaL3mmnjsVnVh4X2EVpt3eksHYrNh/Y5XkThsCfrN0ksPCo5Gopj4L4ovNyVx2BIkqSfZ282dfwub1mU6aSsmDlviYgRtLsiEwNu7j+xZlYrtX6Zjx+dpOPBOCnwvUG+3xQfgjASa87TgS1VFjxvO1NiKzQKABfx/M0m/lXiMckZapGDxZmHxAViz/WFEWQUwNgZ8DUtll0xAyA9qBJ20grMQVHUDzD4MlI3dSqyBarAWwBgViIKKD6WcVv9TBqeKdcdjNuQgfbB0fMhIiMtCkmYytBGzsOOLdJC2baiVVU9d73XtGKgrbNizKtWpT7Qj8eOWIyHO2eDf+i192Bk4TY/tX6Vjc0Emes3VI+wLNUL3WvHL4hS0LzQj8CgD1PK0cjrQAqW3BTHtirHlWFekb34CploVOAugqiRgbEBNNxuMgTQszwiNbe0ar7Hb1qSDs1Cjv6aLIPVHvyUQ4vmFG1cEInPnIusAXgeOvYDv+/PfoCo3Y+Pm+bQlV/G7TnpQox/MgaLWio2F82jeko043fhFLTvReNFGp4JU17rcSGPvWwFBxaK2PYcDK69eVyw+YTnAOhdzjHg0F76namCI9IXFmwVrIbD4sLD4MFDWERCGtkIqHkpbOFm6GcCd8oLVl8CniKHCvYRWbwocg5/+RTWxeCPtlZnsPxWG0T2oHqHBBpuCem94owD1+gMwJvQFZxZQG6nEnlXUSBj+RB78C0/ajbaQ6bB1icC6HxcidkIOaiN4cCYC71IrwDJoCObAmwi8LlucvEEjH84F4Rgo6mzYnO9B+067wuU9bZcM5J/KoaG7Y8tw7zM6/PSvVPR9WQ9TG9oeTpzXrd9kIHZCDtTF9S45gaMmUjFYTbGAHz9Nc9G9GzxVB99z5mbz/7ShLyH/8vsY8KJe8mBqe8yDqb2/0zwmqSehdOogqKoFGIJZWDTU+8cI1BvImqlHyO+cWQolJ/tPBaNU2nMKxy2HTc3BrKF3MP8fjoLx9kJ+8bsY+IIee//W+mMu9r4V2PLDHOlfbcQsJ3Hnpv9vSlxiNhhCULh+rjRH7nocXyu9M/SIeP+A5L3r+7IeghJo//UlJwHzW4WoVRmXmA2bF+vUb3rIZB12f5KK2PEroN5y1K3HEaC/OSMQGNoqYNYwEJSAVQUE/GaDoGRg8mWlY2jcSJp7FzshBwJPowN1kQREAbBGhkYI1ASCkkBRw8K7GPA/a0V9W9rebOd/0jD6gRzwBhssGh42JYPLgxlEf2vAhq0LkBw0DYyCd9s9pTWIvZuT+i9CyegAtP25HjZvHhXdVQj9+AAsw3qgeJhKEhZ3JH7cckAAjMEK7PxPmnT+iuLjbHW9dB7G3rcC3ifKUD6ChpgV9QLMfix4A4GhDQvWCtRFNkYa7qnD5B4/4cNtY8AFmhAWVIOLF9qgf9dz+O2LLmASKuD7sT8uPWLG6afmY9hTeVBV2sBaBTAWAUaFFTs3LLolOoAj4xaD593oAFqN2L5p8U0dg8ydgewBvEFs/zKdGn+d0mGMoc2vTUH2MObWbzIkrwtRMDAEU8+SWHVKWKC+rUNjFqUSTFCAy/cQnlZxNm0h11oKN851kRfZ8UU6rH4qbPkug8pgMEDg4So0hFFvYE00g7p2HNr9aIW6DPDZ7QW/swRBh2i4ma+nIVKBY1AbRYs8ymNYXBrJYsCLtAUTaxbAG6hwMzgGZl8GW77LwFrjatrbmGPgW2TXmvPffRH5ZR9AG0El+vPLPoBNRWOvW77LgKbYKoVV68J46e+mhhThGChrrC4GXrL/VCTHLIA29CWwVkFqtyUiebQapV5++lcqBr6gh7KWOIVFxZu0xZuFsa2rFh4NA9ObCgBU3dtOei8uMRveZbZmjb+4xGwQI/XcOIav67oFSfMotp5ba1wNVbUAiw8r9VfljABjhSRfwze2BXTK0QsJkv4sXD8XAkd/tx8/TUNB9SpAQb2/bQ47iBm2Bo7BGO0KqQ2Y0K6N09v5F1eid4YevTNo9btjBXZCfBY2rcuU9lGcP0fjz9H7I+7PqIktG25iv+MjOSlYW/eJFPIPX3MWh3NTbrrx56kAZd8HKRgyRQdFjQn1jSkiPefTXrWi93TL93NwIqsPes3Tu81XBUO99D/9MxX+ZyzwukLAWSA9HCnr7c/7YuHFlu8yUBPFwRREvdKCtw2CFw0J20LM4BpYqK6IHmQGPiVWqCuo527rtxkoXD8XhAX8jlRAWc3A6k3HXvpYT5xKoa3UHOVRWsvJeSlIiMvCxbEBqLlHgMVXgUvDVTSf2ssLhevnOhl/jl52Mb9x53/SMPLhXMnzVlC9CuYQb8Cx7y3HwNgpGL5FJuz+JBWKOhvqwxlYfBhYfGnOIV8PWAJs8CvwwSdfJyB58EH4+xpQsTUMxMbgwL5OUNYSYEMQDEEcIj5XYvjjeVKRSuH6uajroMaluFvXfIshxOMLkEPAMnIruBuOo3dHDD2K7aN6zdPjaFaK05P9pnW0AwTfhkfAhhPAh9Sr5FNVjeLHu7psvzaSh+aiFRW9WHqzYxhsW5MuJVtzRgGMQHAlRgnNRcEpDykmXQ+rN6CopRISijog8IQZ9e0U2NOYn6MNmY7tzbR5A+DihUka/DrOjfeD13ErfvoX9dKcmN/oqeqSga5v6nFibSYVHm43A1zvSHjZ2/CCsRHURiolCZWxo5diwxkdkv2nUgOkEUWZvbeyGG6tba+QclrEi61jJ4gdn6e5CCYDQNX9vVA2gMFvaUuREJ8lCbQmDn0DpYN9Ebb6GKq03al2HGg4cm/R2xg6KQ+MlZE8uVt+mIP4hOXY6cGI25w/B31f0cPsR41X4qD151j4MOLRXCncO0a7gnpgNSz4AB6mpF4u2932tf33L6heJXnTODPAEIFKbmgYCCpQMXAzoKyhBqnVh5PCjwXVq1wErcVti/MshogdWxs6MuKxPEljEaBe5sKNc108de4qpo/kuPcoOrZFdMSxdZ6jB138LsffxZH+M/QIOm5EXXsVeBUjyYbsWp0mednFsCjQuo4114qnApQ+KXoc+kcqxo14E3v/loKBL+gR9f1p5DdpLXhmVprL+MT2i46aiV4HzsHLV4NdjS3kHH/TuMRsGIN5/Pi/aRijXQGNDwuAg1XNgCvnwRmpt7iWUYE3AkEnrdjyXQb6zdSDsBwO/k+K03VAPJ7ufVYH1kJPyIqRJsDKovvrevgNthv/XVbocWpO6zzJymPnEazqCN+LPBS1FoT+zGDL93Mw/EqeUwvGMcnZCDAL6PuyXpL8ETvr2NQM/M/aK8stvhw2XVwpdY/hGmwwBSmkY9jsxyPghACbioGyBlBXCDAGcgg8zIE3CFDUMdj2+QD4XiDwqbfhYhAHzXkGFTEEQpAJxMIidAsPrytWjH4wBywhtKtPiQnr35kF/wVXbwxfC4yNgGFcA3xi2sSePXtkD+BdjmwA3gAmxi9H4c/UUzRuxJtoCPeCuswE8rgS/WfoUfu4P3rN04NvAAb88CpsBW2gqCeSwVPZVYmqQWY0hHYDACcDEYBTmyvWApgCOFj8BFR34nFIl0Iveo35gPEJNElec1GAqpJe9MSLf1PpCnc01+NXZMt3Geicp8NvaamIH7ccjK8S6ivOXhrReHP0pkgiumOWQeWQn0U4xkk/T0wWL6he5XSTMUXYL1Zi9bLKm8WPn6ZJIcLEYUtQ29uucxI7IQdbHIwz0Wjz/3IfAjf4Iel/F2HjXruG3bpdVNbg3iqdUxW3aBzQEHnj7/DDHAz+sw57Gvt+Np03Ec5EE98BSP2KATpXNjWLLd/PgaC0G4Y2NQuTPwuBp3lFQbtL3W7XETGUytgIWAIoq2wwtFFI+V+MAJgCAJ/LxCn3rDlDZ8t3GRg4TW/P+eM5jH4gB5xRcDJe3Rl/Ix/OhaLeJhUqiXM4amIOOBNxDbmHTIelR6SLoDTg3OKuqfe66cNIv1l6KTWi/wy9JBAceMIE5cVqmLuHovJeM85Obr6tntClFR1rbjCilMyFeB9oO7wC86NRuPRoJ7frVo7vgWFP5YE30M49PxW9TY/FRk/4GO0KNCR1xu5/0P9vLJyH3hl6HMmhbRHRWYmaTgSjH8yBKZjHT/9KRXzCcrBmFXgjVRzwKrOAN9Ae5Hw9vZaIBhcAWLzo3MYlZsPqw2HbmnRYfBioztCnu7PPuH8oOjUnBT3n6xH0q63ZHtPaDq8ALAuvY8UQ+kXAHKSCTcnQtnpN8iUZYn9oSBz6Btbtek06RlWVNhjb2G914nf6Ha2gigoBvPSgWLiRFqTEJWVDfeAsSFgwrgwOlLQ0ORPB0awUqe0bQB9KTP48ajsxOPvMXMSk6iEoCJX8MgoAC/iuPwZwt7ACGKCdqNwleMlJXzKNyCHgGwBX2YCEMdQAXL/jVez4PA3lvb2gvswhbH0JTs2hLaECT1iw7743URdFUDbcio7v5aL3HD1YG8BfVqKuPUHCmGVI7rtQCusBtJggIT4L2m5zqYgnoTk6yhqC5L4LpapUgIZAWQuBTcXAFEgvek2f/JvS81W9lMAuym90W6J3KUJxJPobA/2+9XOxsXAe2hxz7vpAHEMsjYjFMcpzV8CfsXdYYJpJQ3W8uatK7R5AVSXtiOB92YzRD+ZIBoXFT+lUpFDTgXcKC3r/UoqEuCysNa5G/uX3sdbB+BOJnZCDoL30JuY4D9J4BUjFCeIN15PxBwB+Z2hoOzloGrzKzFLxS+HGudjy/RyMmpgjeS/jErNh1rBSuy3CAeZwVwkeT2z/Kh2qaius3ix4A8AKgLqcQFVFwBvhcsOtjacPHWKovSnKOodqbJ7H1m8zsGldJga+QEO3TSEcg9gJOfD9pQKb1mZiy3cZ0hwOnZQHrxKDJETrSH7ZB26NP8C98LRIUy/jgZUp0rHs2K+5cP1c1HdvA95AmjX+xAKhpkLRt5LjS1IAnkfExgqp04iIGOpW1dhQE0kfEkSPm6rGoR1e/hzs/kcq+v9Fj+GP56FXph6+F6mOqO9FK82fLWZg9uVgCGEw8pFcFG6ci4BT5sYHDwLWIsDiw4Azu/fIitelTesy7XNEAEt72hmkaRcUR/FyMbTae44eA15yPo5GPpKL2PErYOjZDkJYMGCjMj9mX/pgpKgjTl792PtWgLCMVLEvPsSJxSab8+dg179TpWufeE7X3xMAi4aqIIxJzpZSMUY+kgv1AdqHnPAsODMQdNwCv3NmgKGKAcoaG4Y/noehT+tgDFJAWWtD+FY6P4d1KWizvxpWHw6q4hooS2pRMbE3Cio+xMNR7s+zm0FLQtAyMrIBeAP4cv8b2LjZOYx24J1G7TjO/hOLuWMdvzchYi2HiEIg4JQN+95PwanMFPieY2D1VaCmWwAKqlc55ThtLJyH/F+XQ10hQFVtg6qKgW+RBQUHl+CQPgWx42k+0IjH8lB1jwrGQMYp/CviruPBsTftLbC2f5WOJPUk/LowxUleoSWa3iDWGle7rENqaGVv/hmdU/K/u5Zn7vKkmAa7UUk4BqGFJdhYOA81kTwGTqM3EdLoSBNz9Lwv28A32G+M+adzsXHTPCT1X+T0+4rCvwAAG4GhAzW6CpqE38x+AAgkz4p4I3IXZtZ2zcTIDXNw+UUjLWgIC4HylwtYW/cJEoe8Ia3nGLY0BdDevZyJQF0pgLXCo2aiO2LvWwGrN5XyISzN/+PM9KGBsHDRWxPDzp6KMfzW7KP70iXDKUTKWgkCTtucqm/F9odbvssAUbh6O3atTsO6Xa/BpmY9VsxeK44i2+KxLDJksg5jkqnQtKMcj6NBIvJ7FH+4I/90Y1cT0JCpiGjwbv0mg+brKexyM6Jx33O+HgNe1CO532sIOm7Ezv+mIehXK67EsKgLpx2F9qxKhe95G8p7MfA7Z/fEbVqXib1/S8GPn6ZhY+E8+F6wYt8HniMHTc/7kD1VYBsFyZue12J0YdhTeYjcYMLWbzJgCgJCt5RJ63TJ0aF0AAe+3orNBZm4kBiAkomd0BCqgKKepjY0hDCwObTOFJRU/qnpQ5iYcjBwmh5DJ+Vh07pMJKknoTaRplRs+zqD9sc2E1weokSy/1T0m6VHQzCHyrFdAACWAC/89M9UKKrN4EwCdnyeJqknqKqs2PXvVOz8Txr4Ogv8dp2X5qchUgOfc3XIP7YMBYeXSjmcxoHuPbo3hRaqgOUcQBk5BHwTYRwaGsQlZWOLG7mP+HHLkaSZjNLJ/UAUAF9vBV9vz19pirLaCkHB4Nib9twXwjFS7s+Oz9Mw9GkdGNu1yw1YRsS0uA5hGST7T4Wtdye7aG4LNDWmmiP/dK6U19T/L3qErTkFEhwgvV+4fi6GP5GHhPgssN3UUl9fQ1v6h3hj8iSjsna/s+fP6mPXqPP+pRTmqDZNPwIACDxlRVkf+2lTG6VEcswCqAzUy9fjNT00RYQaGgwD32kWmGN9YQogEBQBYKLoPjCCe/Hnnf9Noz2glSwV9DaTq6p83fLDHCnkP+qhXDSEcPAutTjdjB3DvtqIWYBK5TEvrWzKIPr9p3IwZIpOEoa2qhnsWWVPOyjcONep9RvhPT9bWrxZqSPNjaJpF5rolXk4M4saRu7kZ4DWpTvcDoj5co4h7UHP6aDQMCge7erNifwfWtkcn7AciioDDVc6PGSMeCwPMal6HP4iHQNe1Dt5hcVwuzin7nIqR03M8ZhruXbv6y12WRG93QAQ/VWtU0/tkP0ExSMFXOnnhW5L9Oi4oQrshVKcfbErbEoebQ7VoraTD0BoCghfZ4MQyDd7jjhGBBwfTGMn5EDFAg3BHMJ+MsM0tBsOrEyhD5MMPT5ropXQ9pyPEm0IAk7bkByzAH4hGihPlkgPRNrI2Vjf+LdYya3Zcx7mruEuYzn3IAtsbPbnuWHIOYAyLSF7AG8Aj9xDL2jDn8hz8ogwNkDwpsJrnrTeCtfPxZWn+oEzEpj9qOFS2k/tsTdp4ca5YBtP4JEP58LmxUnG3+gHchD9Th52/TsVCsO1u/nFUIg7r5YEw6CgelWrjb8kzWQn/S9HBv+Zem/Gjrb3SE0atFi6wO5/L4UKD7MsxsYuw9BJeei2RA//A2XYWDgP+95PQeiOCgBA0PrfnLat7fCKi5CxOB4A6JOqx8hHcp1+b1JVLeWuAc4ac1u/yYCq0r6dmo4MCg4vRWlcOOKSsnH8jRTJy2Tz94ZQfBm7/5EKQcnA7MeBtQrQds2UvBPuOkgIPG09ZQyioWD1+gNufzdpXxp1I6XPK1iMfiAH29akQ3PBIgleixhG2IuLSEigk/EnhhjFVABDCFAyhEdcYjZqohkp1GdTU89aXFK22ypm1uC+n++Y5Gz8+GmaU37ljWbEY3bjryVEjb07gf3vpkjC4F4V9AHC74Srp/XylH7o+G4eCjfOBXPmEvzX/oLolXaPq7rcjKBfLYgftxyaxy85eYWlXMsmczomOVs6D0TjTwypiqFXkZa6rDjSNNT+4/+mod12BtV9LVBVAGcnBqDk0a4IPmRFm4O1qOitgdmHBTgGdWE8GtopseOL9KuWBkoa/DosXiwYobFLDgOY/HmM0a4A4e2RBK9yAaSkDOGbq1DfloO5rS+NxjQWhCUqnkR+0duInZADbeRshH5zCkOf1uHUzE6o7qxy+s64xGwcney5XeINhzTzkpHBHagDePbsWSxZsgSFhYUoKSlBeHg4nn76aSxYsABKpVJa7/z585gxYwYKCwvh5eWFp556Crm5uU7rHD58GDNnzsTu3bsRFBSEF198EQsXLgTDtM474agD6Pgk1W2JHmG7rSgeyiP6qyqceSQAgb8Q8A2CR4+UqBd3WEefVge8pMe+91su2hg8VSdp54kMXTsPPtl+qO2gwu5/pEIb+hJMfaLchlqboo1OhfGeUNjULBR1Vre5P9qQ6bBFh7tcvMcNfxN1UV5QNAhO4RhtyHQq6dLo0WuO2Ak5UFSbwVgJWItN6tMLAMl9XkXBoTcxbsSbWL/jVQydlAffswbwl6uB+gbkF78rJW/nX35fehq/WuLHLYfAMRBULJjG3qWsleo2xiVlo6K7Et6ltMLasUhC1A4USRq0GLARsKUVsHRpB67BArakosXfYPSDOSjvycP7Mk3GFwtIbhTaDq8029XCkc551Dj3+43B/vfofsak6SHwtOtEwG9WKmbt4YGlKSMeywNrJRA4z95ZkeR+r9Eeuk0YMkUnheABqt8XcMoiyc04Mm74m+CrGpy8TH8UYsevAAj1+ooesNgJOajuyEuFMGIkoXOuDtHfGnB5iDcEBdDmmLXZvNWmiDp610tyrwUoOLrU4/uJQ95wua6MeDQXpQM52HwEdHunFPknsiUNQ1FhwbE6vDUkqSehfnx/GII4KOsFqK9YsWldJkY8mguLhmqh+n9zCCXP94OqkiBofwXtWlNR5aJrKF6XPBGXmA3Fpv0wjRuA7z6b7vaecSMR70txA+d51AHctDdL1gGUufM8gL/88gsEQcBf//pXHD16FHq9Hh988AHmz7eHn2w2G8aPH4/6+nps374dn332Gb788kukpdm9AjU1NRg3bhzCw8OxZ88erFy5Erm5udDpWp/35olfF6Zgy3cZYAQaEonYbKZ5JPWCkzfJMfnZ6s2COATkW2P8JQ1aDJ9iq8vyXUlZKIpXY/c/UpEcNA35l99HdUcVBr6gR58UPQa+oHfRvZMwmrBpXSYYK0FtB5XkEXL0BuaXfYB1u1+TcugGvqBH7zl6nE/2QXU0iwvxHO59VoekQYsxNnaZ21DbkMk69EnRo+tSPaJX5qH/DHtbsw1bF2D9zlfBNJgx9Gn7OE3tfAHY+7QGrjuJ9TteBfFWoaE/bTru6GkN+fcBlwRzMVeyOQrXz4XVm6NhSpbBuQdYabs2NYuDb6dIFdZWb1pxCbjJHztyEmv3vw6hXRuwZhsEFQ8S5Oe264UjhAF8iqnxp6x17nd6IxCNP3d5eNqIWU6FQqyFAWNjnAqNBB4gjRHzhmAOgsr1MiK2l2uK2ZcWGDjK4XjCnfEXk653Mv4A4OD/pMD7jN0tKx6ziUPewPqdr/4hjT8AMATzIAr6O3r/fBYAUNqPdxKIFw3z39JTsWHrAhzOTQFhgHMPEgx40Vl7UWwt6A5Rx/J6ac74A6hHsKks0Y4v0tF5+WG03yjgzKQwDJ6qkzQMS0b4IyaVtpPrNU/f4rklsta4Gtu/TIeiQYBVzTg9wFhVDGwqBsa43jj4Vgp2f5JKDbyqmmZFrd3llAJ0DtZZPnP7gHJTIQAEN687yuUjczO54zyA7sjJycH777+P06dPAwDy8/Nx//33o6ioCOHhNA/js88+w5QpU1BaWgo/Pz+8//77mDdvHi5fvgyVirrqly9fjpUrV+LChQut8gJ68gCKdHpLh9Ov0O4RXuUCCMt4fIoeMF0PizckD+DgqTqY/RgcfIv+X/Q09XxVD59LRPL63fssbZE16Dkdfv4oFfc+o4PFh0FDO9qxQ3XYC2Y/4J5Vl5H/KzXiRLmIcexjEEb3h7K0rsWbZPy45WBsBMqj50HaBuFCcjAaIgUEHmFhVQN+RTb4nK4GU1HTooerT4pekrxoiabenuSYBWBMVuSfsN+4tO1mgAQFtHhzkdZvwQM2/PE8WHwYqe+vwDNQVVNDjDMIYAgBYehNo0+qHuoK4mKUANRoE8rKwXaIgKmdHxib4PRbe/KGDPtTHm3dZiYAwzjJrFwNMel6j9I/jjlT2m5zpWOjKV2X6cFaaN/ZgN9MqO6oAhigrj3ANwDBR6kh3DQEJ3YvacoY7QqwZgGXRqukbirNMfyJPOz8T5qTJqS2UzqEII1bXcG7iZGP5Drl72mjU10Kt7Q95+O3p0Jw4tUUjHw4F9u/Skf3RXr88noK+qTqYfUCAk4JUuGM47mR3HehVIjye5EQnwXl4XMgYW1AVAqnORc7LgH0AdUUpEDNMzU4/MDrHr3Hjts1BSpg8WYBhrbX3LYmHUMm62BTMeCNBMZABgffTqEdTUKDkX88y8VDqY2cDaGyCmvrPnGShvFES/eMG4H4HfH95oLnVC7vW20mFB5Yjq5du4LjOMyYMUNuB3eX8ocwAF999VUUFBTg559/BgC89tpr+Oabb3Dw4EFpncrKSgQFBaGwsBBxcXF49tlnUV1djW+++UZaZ//+/RgwYABOnz6N6Ohol+8xmUwwOcib1NTUIDIyEiPjF2PbxkUu63fJ0eFUBjUMBk7TQ1UtgDcJbkMvfWfrYfEBAn6zX4zF9k+ORtAY7QpwJhs2Fs6DNnI2royLcgkBAzT0tX7nq9BGzAIxGF203hzH1hLaHvOQfzwLcUnZbnMZte1moPiRLvApsYG1Elg0HASe5kCqamzg6+zdLmLS9Qg5aELh+rnQhkyHtWt7mIJVLr9J0qDFYC+WATwvGZSeCmOSg6bBNKhLq8OQ7ohPWA6bioUhhAdnJrB4M+BNjd4uFvA7a6KFFU0S4B1/R1FjUBqXg4EXn7AcfIMF3IUrLRrIADXQGKuzXl6SZrLHFmDu6LpMD2Wlq9jygOl6mP1oe7DmdNgAu1fo+BK6jaFP60AYmvvoVUZvnKJY9rXibl4dxdMJAxxbZt+HYU/lUbkRHwZ1kQzCt5pQuHGupP8mQxn0vA4CzzilQXR/XY+wXRZYfFhUduNwbKn9PcdWgyKORta14CjMDFxd+oEjV3Psj41dhvJeXlLKQnPc+6wOPsVmFK6fiz4p9LxQ1NFz3vei4FSwAtBQOGsj0nJ3++PY4jAhPguKvSdRUL0Kwx/PQ22AGUc+nH9rDMC+mZ4NwIPZcghY5s4LATflt99+w8qVKzF9ut39XlJSgtDQUKf1AgMDoVQqUVJS4nEd8f/iOk3JysqCv7+/9IqMpGKxdREKtwUTnJF6EcckZ0NVLUBQUA+SO7yuCLCp4eSer+xBP7/7H6mSptbm/DlSXl5+0duwqdx7KglPq3TBsiBms8v7jsafo16XtptdCwugF96GLrRVmFvjLzoV8PHGgXdSsOOLdGz7OgO7/p0KZa0A3kjlR2o7KNHzVT2GPZUH/zM2VHZVYcgUHY4v64zKHt7wOX4FfWc7h5/YcyXIL34XQmWVtExZYUBSf2dDO9l/KgoqPgRrph66pgURgHuNu2T/qYhJtX8n4RkwBFBV22DxZsAItFpOWSPA+7JVqqptWv2orLL//i4hngvFkvZh4ca5YKwCiJ/GJcTVlLikbLAmAZzJ5rTc8QYo6tW1Bke5GwBQ1FPPZmVXe1y39xz34T+bCnAsJOQbBFg0tEgFjL3bTWsZxz4m/S0W52xal4kxydmISbOPQfT0HM1KcTL+es3TgzMRGANpr1ZFNXBOq8TY0Utl468JXuUCKnsJSBpoP2d+WZQCYxseZj8Wqio4tZPb91faem1srD0aIBp/2pDpboupmpI4zNlj6Gj8JQdNuybjD6DHvqe0gqZs2DIf+99LcWoN54mf/pkKm5qeB4f0KVBX0GPe6k3b3okk96PH1k//SnUyCt3tj6Ok0sbCeZLnmnCQRORvBYyNeHzJyAC3kQG4ePFiMAzT7Ev08IlcunQJycnJeOyxx/D88887vecuhEsIcVredB3RGeop/Dtv3jxUV1dLr6KiIgBA8Pen3FZCqsvpv5sLMmFrzCvx5KVS1Av0Ruvw1ZYge34fYRkkB03DGO0KydhM9p8Ks8b1Bg8AiuNFtBNHK7xNYvJ0zwV65P+6HANe0sNn7WEqsRLWVroQOhq5Y7QrkDRwEfLP6HDhwXApVy/Zf6oUmtrxeRq2fpsBm5JByEG6L4YgjlZH80C3v9ZTA7F3CNQVBEOm6DDisTyMfDgX+WUfYMSjuahPipHylBra+7jIt4gXV6GxT/Ba42poO6VLRm3S4NfdatxZ+nfBYR3tvSoKyW7OnwMwtCuJutKGHz9No6K4AvVSuRMkdvSgOJLsPxVMRJikfQgAOHwCTEVVi+H2TWszsWldpsd2aIBzvmFCfJbTzbH/DD1i0vS0B7AVaAhVOH3WGEhz+hxlio6scL8f3iUABHslNGchYKzUSwLBrkHnqWJcrPwWWxWuFz6X3hP3r98sPTYXZOJwXgr6zXJ/0773GR3iE5bD75yACwlAfQRQOojBYV2KlN8mY0cb+hK2rUnHmVlpODOPR9+X7b+rV5kFe1algrUA5b3psSHmzp1PUmPDlvnoPUfvZPDll33Q7PEosu7HhdLfYoW7mGsqRiF6zW3ZMGvKkMk6lNwf5bTdltj7N3pMd13W/Pdt+S4DnXN1GPS8jqZ8qIA2xwQp6tJ/hh4FB97wmOPnDlFs2jEnkTcIUi/uW0ILOoAyMreNDuDMmTPx5JNPNrtOx44dpb8vXbqEuLg4DBs2DH/729+c1gsLC8NPP/3ktKyyshIWi0Xy8oWFhbl4+kpLacutpp5BEZVKJeULOvLlmbfcrq+5YPfgGINoW6+miLlY277OQO85eph9HSxApSBVljICQXVSd6iq7BspqF6FPil6FA9VYuTDuWgI5bDv/RQk93kVJCpMWq+50IljLphozISuvQjDqF7YnD8HA6fpYfWhVcqaxhZPY7QroC6uwy8v+GHUQ7kIMgmo7E5vJIxahcquVFnf61wV8o9nuYSVREY/mIOgw3Woj/KhYsWg6vWEo71aLYEcfIvMsGg4jHg0F0Jj66mRj+SCr7fB6sNBWWNF4fq5EByKCvJP52LEY/Sm41hF7Igo3C0JOoteUEJ197Z9l4FhT+WBKGjhx9Wq57vTPBQ1yFqTK9QaRK02qxeHhpGRUjs8USuu++t62FSAMcD+28SOXwGuvQIWUPmLlrD4NLYfDKKXCosXC6s3YPYH/M8IiEvKpt0oOMZtLqHoydu2Jl3q3SrmoonwDpJFB1amQBv6EioS73HKl72cSAfLVAFn/9J82FoGTvmXJx5dCDxK/+4/Q4/9jZ58n8tWVDV6gUVP38m5KUiIz8IRB2PvasK2jukqppE90W2JHkI/FkMn5UmpAkeXu14PtCHTQWw2MByHuhGdXTztjlqObFhbt5/3pOso9iUX6fuKXsqtFvktneZRc0bAGGZDXbndOy6eTy3pRsZOyIH30cuAwSCd/6X3d0G3JXq03WsFIwA2xY3Vv2wWQXDvovegQSpz93HbeACDg4PRvXv3Zl9qNS1pv3jxIsaMGYMBAwbg448/Bss678awYcNw5MgRFBcXS8vWrVsHlUqFgQMHSuts3boVZofw6Lp16xAeHu5kaF4P3peMUnXrwbdT4HvRhl7znJ9GReNr9AM5MPvTvrEirMqG/FM50EanUiOn8eLR0M4uZcNagF9eT8H2r9LhU2JD4pA3UHDoTadkaXftzJp+f6LiSSn8m386V8o98z9rgvdlAVf68Gjo0ZYm4CsZmNt44+xf0mHWsCjvrYChbWNVM8/jaFYKNhdkwtghAAA1OgZPda063vpNBuo6+mDH52lQ1Nqw8z9ptMhCoBWwCgOB2Z+H1ZsF19jebtif8qCsol0CWAuB1YteqEUDRURZ7Vod7QlRQmLkI7mwaDgYAzkMek4nGZWckeZtjn4gB3GJ2S4trjzhSWPO56LRZVmfVOfjwlFMd/SDOS4hcoCKXvd9WY/yngqYNaxLf13CUA+gqoZIHjibigVnJrApAaEVrUlV1YBXuT3nSWEQoKgn8C6hOXimAB5bvp+DTesyPRaSiIh9ZLd/lQ5tD7uB0VTE2dyrg5PxF7VqBbxOqKA5pHLS92uqPyfjGfGYdWyPt/WbDPyW7poH3NTT15LxF5+wXNIndCyG2lyQiV8XpuDkvBSaDtIM+WUfoKDiQ+SXfeBk/A19WieFX8WQrrtuLaJxJupXNsfBt1KQqHB2NsQlZePnj1JhTK6Gso0BxmB63HV/vfXeyi3fZaC2fxjyi99F1zf1uCeLFu79ujAFpgAOW7/NAGu9hd43dxXA4ktGBreRAdhaLl26hDFjxiAyMhK5ubkoKytDSUmJkzcvMTERPXv2xDPPPIP9+/dj48aNSE9Px7Rp06Sk16eeegoqlQpTpkzBkSNHsGbNGixbtgypqamt1gEU6fPeO+j7sl7qDyuyfuer0gV36NM6VHTjYFPSwgGRgdP06LlAj7pwHqoK2gJMxOuAFwBIlX1epRZUd1I4eQltdlsQ29akSxVqfV/W242GKLsivdjyLGmwcyh1neUzmNv5IXHYEgx6TodRD+Xi3md0KFw/FxYfBjYVwFoI8k/nYus3GSjcOBcjH86FxZuBb5GA4EMCWDNxCreqz1fRcf940qVQRdslA6MeyoXvyRokxyyQ8ue2/DBHCh8HbjqDnf9Jw65/p2LrNxkIPFgNVZUNNjWL2Ak52PptBrZ+S28Wfr/VO21fWelqZHmicP1cxCVmg7UScCYC1kLANxrigoIKOI94NBdbv82AosoERSu37eiF6bnAfiNxF648pHP2SDiK6W79JgNBv7i668y+LIJ+MYO1Ui/aqIk5TukAyiqANdObshi+3v5VOkwBDFgLnKRdPBHyj5/hc8meuGRTMPA7Y4ayhkBz0Yyd/0mTbv6i11Vk6NM6jyHd/OPO+WQDptvX21g4DwNe0mPEo7lI0kwGX8Gj7QGrSzHL1ejY3e2408gb/UCOJGHUEs3lnBKOgbrC4iRxJZIcNA1jY5e1WGzkcdssYAmk10FlbcuWi6NnWezP7o51ls+c/m9sQx8gj01cjBOPLkRUfh26v9cAnwtA16V6DHquZXmw2PtWoC6cQ0yqHidepYavSOBne5Hc7zWnCM7NhhEEjy9AbgUnA4DcYXz88cce9c0dOXfuHBk/fjzx8vIiQUFBZObMmcRoNDqtc+jQITJq1CiiUqlIWFgYWbx4MREEodVjqa6uJgDI2LAXrnu/Rk1YQXrO1ZEB03TSsmGP5RJCCEnumEIIISRubBbpOVdH+s7QkeGP5BBCCOn6hn39Xhn079H3ZdPPRaeRXhk60mOBjoy+L5v0TtOR+NilZPCzeU7fndw1s9mx9czUeXxv5IMryMCpeWTI03Sb4r+EEJIc9hdCCCGJAxe57CshhMTFZ5EBz9Nt939BR/q8rCNDn8z1+F1jhy/x+F78mGXS36PvX0HGDX3D47rS+IJftH9Gmy2NacRDOWTEQzlk1AMrXD/TY57rsrbTW/wuR1oztsGTneeo6ZwRQsigP+eR0fevIP1e0pF7J+WRMeOWO73fK11HembqpOOIEEKGP5JD7p2UR+5ZoiO9UzzPq8jA5/JIzzk6Eptk33bc2Cwy5Bk6nqbfKc65eAw2h+O4CCGkx3wdGTjVdT9lbj4tXQNuF0ZOzLmmz40b/PpVrT/8kRySMHopiY9dSpL8/uz0/SMeomMY/ig9frsvpNfX0dpsMvzRXBKtz6PX3Pvt149+f6HnmnjPqK6uvqb9aA3SfanTbJJ8zxyX19hOs2/6GGTuDO44D+CUKVNACHH7cqRDhw74v//7PzQ0NKC8vBwrV650yd+LiYnB1q1bYTQaUVxcjEWLFl219w8AiL+v0/+1EbOcmtM3Rds106Va9UoMDxCgIYx66frO1qNsAIuYND3OTYpEz/l6lPVRQVEHqKsIVJVWDHpOB77Ovg0xkX/L93Mw4EU9GnqFgm8ADKECiv9swvhnd2Do//yM2om1uOfzNxH9Th7uydKDqNyngiYOeQMJcVkwBhPc+wzdH8eKQoC2hbKpGNSFM+iVqYe6wqFwpcEAAC56baLXrrqzCns/TEGSZjL2/TUFB99OaTY3zhxE508MVTuiKLX/EFu+y4DVW+GyTlPyyz6QEsoZQnOdCMeAsEBDW869h6my2uX7mxOHFXHyILRQhaftkuGiK+h/qgHJQdOclu1ZlYot32VAU2yD2ZdxEVdWVxKwZsAUwEriyIo6G8waWvHMtaIi8ee/p8K7jMCmtl8qCtfPhcBTD5KjCPTAF/RAAPWwi+0Jm2Pnf+lcj3gsD31n6+FdQvDzRzevRZyMK8Oeol7blsL3HoXjQfUCW+tJvF7cFWK1hqbdRVpixxfp2LBlPmqi1Xb9yYhZ2LYmHdu/SscY7QqoqiyIT1iO42+k4EqMAmX9FTAEszj9SiqMwQTeR+wpSFY1VUzQPvrWNY3/2vBUACIXgchQbpsikDsZcua80//dVZ06YbVJBQFDJutg9WZwzLHzxxs0b+9MegzqOgpQXWHBEqDdzjqUDNNA4AFTkAL+Z0wwBaqlYoCRD+fCd9spkPAQhLAs2JIrgBCFA+8434yX9rH/nTRoMU5MDXI7TPGi2ektexuotXtp6DhhzDLwu46ibsIAMMEsrD6AVylQ20Eh5dRZBtwDbad0j71BxSo91sur+d+rEUObxoT1JjeruMRsqBTO8UxlaS1ag1gg0zR/zhPGmA5OldyjH8xpVSjS0bAhjb15PSXXu8txatpzOUkzGaaRPVETpQQTwjVW/DqHyKxeDIJ+sYDwjJTradFw4EwEfD0DtoU0yRGP5cEYwMLmw8Dsy1OBbA0D78tWMME8jIEcvK5YpcR/cT49EZeYDfXpKyA+ahQcXCIVBlyr0LXM9eMoaaLtOd+pQt1RTNm3yOTyWaBRO9CDWHSvTD0sQ+rQ7h/qq+7VeytoSSwagNTXG3C+rovXCzEP1bGwZfBUHU6vSkUXiw7dF+kRctAKjTcL4z2hyP/iJfj7uy9Mu+HYBIDIRSAynrnjPIC3I2vK/i55Z7SRs50kF5oSe98K1AwIgzZiFhLis7D7k1T4nTGj44f0QtJ3Nm3XVlC9Cp3+51d0f+8KAn4jsPgCpydqwFqA2kgGijoqBu1YNLL9q3SaTH1wCdbufx35xe+26IlZ+/NidE79EV3f9DxmvsHVKyqoOKw1robvuqMQOMDnEuB33op976egqrEJurKoAlBRT9yoic5GjZiLqO2UDnNMVLNjFOHMxG27qk3rMmH1s3t3Rz6SC1P4zRE4VR886+SJE40/bddMj0UfTeHqaT7ftWqiAdRw3VyQCd8iC7yu2KBoEFDTQYnhT+Qh9r4V6LmAdvAwBvNw9POrKywQFAxYMzwmgw+ZokP/GXrs+DwNez9MgaCg2mg7/5sGzUULtnw/BzYlA80FM7Z8Pwe7/5HabEHGuJFUDHvTukxUDm0HpuQKes3VX7eAtMyNpak8kaNxJBaG9JxPzz9txCz0mmsXjr5nuet5eTQ7BSceWYhzDxNEr3TOD3XMiQWoaPrV4k7fU/R0twZx/xwLrq4Wdw9/Yr7zqYxU/PJ6CrZ9nYEf/zcNyp3HMGjpLcy3I4Lnl4wMcOflAN5ONJfPMWiKcy7TwKl5Uu6bY25Ij3k6EvU3ex5d4oDXXLYl5lWJjHgoR8o/6fdSy3lc7kgOn+myzDHXxZGYFJ3HnK7hj+aSQX/OI31muY6j6bibQ8wp80RSzAKXvDin9wOfp//2nt+q7xs8OY/0ytCRXhk60n/6tf2GjiRHpzn9P25slsd1k3q2boytQcyJGvJ0ntucxTGJy12WEUKc8k09zTshNK806l3XvKuYFOccp6Y0zZVMGPWmx3Vl7mx6ZupIcvuXSXzcspZXbobmjsNbSWuvIS6fi1lAot/2nMNMyC3OAYyYTpIjZ7u8xkZMl3MAZQghhPwhWsH9XlxLX8eW+uA69jxtLQnxWS2KtA58QQ//30xgbIKkgddaui3R49eFTVpERafCeE8oCAvURCsbpUEsYGzErSi2Jzzpd41JzsbmgkxoI2ejVNsRe/+WgsRhS7Dux4XQds106gV8MxDbuMUlZoM126TfzF2/1daGgaVttyL0dDUMfVoHqwrwLrNJ+ZUAMHRSHmojWRjCCMDS07ztbgYWbwZ1kYDPBdr9odc8PcK3NeDs/d44OTfFpTXbkMk6KOsEqZLTU0s+ALgnSw9BQWDzFtC2UwV2Jzcvei3zx0EbMh2VifdctWe3aU9jgIajBR+VRx1P8VpwIxFTV5y+p0nv39bStC2kyK3sBTw2/EXwrJtWcIIJGy79VW4FJyN7AK+H5p7mku+Zc9XbG/HwtVW4EUJIos+zV7W+YwXs0D81/9Tac66OJPVd6LSsqUcncdDiqx6T6LW72vdaQ3zs0qtaPy7evceuqdexacXvWObRqxsYcV8h684j2xJD/5RLRjycQwY+l0f6zNaR5MjZpM/LOmnMQ57Jk74r6m8rSNc3dGTws3lkxMM5pFe6jnRbrJP2O6n3fM8e4Fd0kvdaRPT2RL1Hj9mWjt3bxbsjc+PpO8PuQU+OnE0IsasTXO28d1usc/KmD3ss1+O56YmrXd8dTZULbhS31AMY9gJJDp/p8hob9oLsAZQhhMgewOtCfNLqM3UZrMFUpFpQAn7nCH76pz15+GoamV8r2ohZEMorpOISR5o+YTt2/3BHn1Q9zL5UYDpJPQnGhL5OuYSjJuaAEeDkbUruuxAFHpLBHRGrn5uOUxsxC5bOYbD4K1EdxYO1wqmJvcjgP+twZawJ/rvUOLDS9X3RG6rtOR/G9v5QHz5/Xc3sm6INfalVVb/NETt+RYu5md1f10NdZhdPbo7RD+aAsdBK3dKBHMK3W7A5fw4GPaeDxYeBVwWBqtqGLd9lYPgTeeCNAsp78PA779rsvin9Z+gh8FTIXEamJUY+nIsLScDZF509el3fpNp4niIc2nYzkF/8LjrrdPgt1bkSXCxyE4lJ1+Nw7q05Ht1du5ODpsHWI8qlMKs13FIPYNvnwbNKl/etghkbSv+Orl27guM4zJgxAzNmzHCzJZk/OnIV8A1gm35GsyfzzTb+AFqhNuBF94UcTcMr9W2bVwB2FCVea1yNvrP1TtW8277OwKDndOiSowNhgK4fFMMc3QYANfCEgT1gDlDC7MdBVWmFTc2CcAxYC8HWxl69jsTetwKWER3BCAQ7vmg+IVuqypvk/uJ8MVaN6HfyENa3Dfx/OIqG0T1ctjFguh5t/3sMBRUf0ipGD63qHJFCwa0w/rrk6HAqw72ciTZkOjC0c4vbCDghwO9kPZKDpkk9VB0Z9VAu6sI57H83BdVRPKxegKIeUFYDlffQwhvvKzbUePEgjH3OTf4sVFVWaC4SGIJargFz7BwBQGpNqI2Y1XK1u8xdh6MQs0jfl/UQlaYKqldBGzkbV8ZGYc/HqVKoVHxIa2r8AZCMv+6L9Qg6JqB2jLPPIiEuCxs3zZPSNm4k7q7d7s7HG/FgeMMRPLT9aKwC3rNnjxwCvsuRPYDXwfU8zY0dvfSWNrDvOV+PY8vozdxdHps7Rk3MwbavMzBwmh4hO684XVzFbYg5fEOf1iHgSJWU2zbsT3kw+7JQNBDs+je9qCeMWYaNm+dLT/s3EndyM/EJy1HeW4XQH2uvKo9nyBQdKnowCD5MUNeOgVc5gbJGkIxTR6MsSTMZbIcIlwpKl/E59Mkdk5wNwjK4OEYBtnMd2MMatNtpdsmrS9JMRvmTfVEbxYCxAt4lQOimEpf8x4T4LFg0vJNH1vE3aJqTee8zOjSEMBCU7vuyNt024RhUdlVB4IH6cOBUpuwNlHFFPC+a5iRre87H+QdCUB9lA2NlcGZWGgZP1WHPqlQMel6Hn/+eigHT9W49/p6ISdfDq4w49Qi+XUgauEiSy2rKLfUABv3Zswew4mM5B1BGNgCvh+s9mbWRs5Ff9Lbb9xLGLIPy14tOhpLofblerjYkPW7Em9cU7nD8rLZrJmCxAEolTO0DrqpQRCRJPQnG+L60nyYDEJaB+qeTTk/kcUnZ2LTWfYHC1dL1TT3MwTbw1RzUVwBFAxBwyoyaKCXqwwFzAEHnLwxYv91uyDv+Vr3m6XE0KwVJAxfhxBQ/BO9nEPz9STQMinYJATe9aV5NMZBYlNG0OGPgND0UBgLWTCTRZYAaoJXdlBA44HCTFnSiwXjvMzqnfrwyMjeKbm/o4V0C7H/Pfuzd+6wOP/0zFUnqSVhrXN0oQK+8Ko1Ibbe5uJQc6jZdYeA02pe3pfQXkWspxgOAsbHLsGGL5yK7W2kAJgQ8C55xYwASMzZW/VM2AGVkA/B6uBUnc0v0na0HZwI0xVaXStSrDdON0a7A5vw5SPafCiY0pMVKW7FSVyTZfypqE3vBrGEQ9PlBycjUds2ELcgHJ2cp4H1IjfoOAs7OoBf2uMRsWDScFDqKnZADq5qFoAA4I4HVmwVhAEEB+BaZUbh+LsZoV8CmYpyaxovbaupFi0ui3rbWCj23RJJmMmC1glGpUFC96qqMadHz2Zw49rUQe98KEAUDzig4Gb+jH8xBdUcebY6YJINbNPAGvKhHRV8bNGc5eF0hqO7CQHXF1SCUkbnRuKvid3dOND2fr9ZL6EjSoMUuHYkA52vksKfyWsyJvV5uqQHo/4xnA7D6X7IBKCMLQd8IHulJL1JxSS1LkyTHOId9ExVPtuo7Yse7b7V08O0UBJw0uZUhudocLdFIKqheJV2gk/u9Bm07miA8ZIpz2Fg0/pL7UI8Xsdngt/UU9nycirV1n0Ab+hJGPZQL4VIJGiK8cWbSPFg1wNkZadQjCCoOLBp/9z6jw5bvMqCstjYafQx4g4CANQehrCUgDINRE3OwOX8OmMbHlviE5YhLzEbs+BVO7cpEGCu5YcYfALD+flhrXC15B67Gkyp5c+vrb9h4AGDLD3PAWAgsGntuZ+z4FagL48EZgdoo+03gQoIKg/Pno2KoBeoyDmZ/Klx7Yn6KbPzJ3BLEa4u2h93jnX86FwNe1EPbxX4dE42/vq/Q3OZrNf6S+y50Mf7Ea5rjNdKd8Se2inSHeA27bbHZPL9kZCB7AK+L38MD2DTE6RiqGPVQrttemWKidWuqT68XMazd7Q09fn2t9Rfs2PErUN6LFi9EfnYO5XEdwBsI1OUW1IcrwRsJeKMAxkpgbMPD55IJxiC6Pmcm4A02WHxomzObihac2NQsrF4sfC6ZYPXhseW7DAz7U55Lv+HmdO3c7qMH7cLfG3H+xWMkemUeiK8V/sF1qDkbAGUF63FOrvY3kJG50YgRCJHmlAW6v67HL4vsx3K/mXqoq+z5xiLdluihrAYO56a4qCFo282AqXekpP3n6GG8Wm3Ppoih7KbcSg9gvPeTHj2AhQ2fyR5AGdkAvB6u9mT2dFFxzEuJHb8CvIG2eWsaYm0Jx/XjE5bDquGk73NXDHA7IhaeiCSpJ8E0pg9sahbbvs7A8MfzwFoJFPU2yRCOS8qG2ZcDZyGoD+XBWgkYG6CqESSD2PG3iZ2QA85oQ+H6uc2KaIu/WVPDWSyA8XSRb4mk/ouwdr/7JPHrpU+qHjYFYOhngPqIF7wvE/z8d3pTFBPvRYY/nueUGygjcztwNQ9Yw/6Uh6p7WBx/gxpuYi7h4D/rnPr4tpZk/6m48EIMjuSkSOe/tsc81PRqgx1fpKPrUj1OLHB9iNKGTIdhYDTUxXVgjBaXfuUit9QAVD3u2QA0/Vc2AGVkA/B6uJ6T2bGStDnP3KiHcsGaBJgDOCirbU7riU/Mjp0axG2NeCwPnFkAZxCwaV0mRj6SC0aAWw/hncSY5GycfZiF/xEevAGo7gK03StAWWsDZ7LBFKjA9i/TEZ+wHKYgBSzeDHgjwc7/pCF+3HIQlrmuIhFtj3nIP57ltOxqDcGb5UHsN1MPwgMH35JDuTJ3D8kxC1Bw2Fn+ZfBUHeoiGBxfkoLhT+Rh53/og05rFRAc0facL1X5N9fJSTQ6k/2novSpGAQdM+D0RDVOp1BDVNttLqxXSm96Ba5kACofA88oXN63EgsKzZ/LBqCMbABeD1K5ffBUrC/76Jq2MWpiDoyBHAgHsBaANxAo6myw+nDNVsCJXqy6cCUEHrCpGCjrCBT1AkAARqAFFD/+bxrGJGdDULHXFdK4VVytREzPBXocW0ovyKKXT/TqxSVmQ1Aw4MwCLo1QIXSvVfL8ueNqvKTX6v1rDcl9F8Lmo0LROB9oLhD8/JHdkzH0aR12/TvV6aYG0CT60oQI+F6w3NCcRxmZPxJJ6kmou78/aiM5t4Zc7PgVsPhwsGgYGNow8L3Ysli6I4lD38C6Xc6SU2NHU+N0w9YFGB27GNu2vn5LDMA47mGPBuAm21eyASgjG4DXQ3V1NQICAlBUVNTsifRQyPNYU/Z3l+XJT7wN1kpgCuDAWgDOJMCiYUFYBoUfzsT9D+pg8ebgvfkY1klfUjUAAA49SURBVBT/1eXz4x/SwxjIw6vcAmOAAlYfBowNUNbYwBBaACEoWfANNnz/dQrue+Qt/PDlKzfyJ7itGLD8XVj9CDrkm/F/3zmHf4bOfxemNoC1vRHsZRUCjwOb35+JsZNXYsMns1r9HY/0WYAvDy3FI90y8OWv1ybJ4+l4GDX7XYTsqcRXO2lRzcBl72Lv/Bm4f4IOFg2HuggePsU2rFv9MsY/pEddhAJb3pl5TWOQkblbeCRmHr48nOXx/SGvvQuFAQj7+jTMXcPBV5uwZrurlMvYKSthCmCx7a1r75pRU1ODyMhIVFVVwd/f/5q309J3+Pv7YyRzP3i4MQBhwXbyf7IBKCMbgNfDhQsXEBkZ+XsPQ0ZGRkbmDqKoqAjt27e/Kds2Go2Ijo5GSUmJx3XCwsJw5swZqNXqmzIGmTsD2QC8DgRBwKVLl+Dr6wuGYX7v4dxQxCfVlrybdyJ/1H37o+4XIO/bnYq8b84QQlBbW4vw8HCw7M1TYTMajTCbzR7fVyqVsvEnI/cCvh5Ylr1pT3G3C35+fn+4C7fIH3Xf/qj7Bcj7dqci75udmxX6dUStVssGnkyLyELQMjIyMjIyMjJ3GbIBKCMjIyMjIyNzlyEbgDJuUalUWLRoEVQq1e89lBvOH3Xf/qj7Bcj7dqci75uMzO2LXAQiIyMjIyMjI3OXIXsAZWRkZGRkZGTuMmQDUEZGRkZGRkbmLkM2AGVkZGRkZGRk7jJkA1BGRkZGRkZG5i5DNgDvYrKysjB48GD4+vqibdu2mDhxIn799VendaZMmQKGYZxeQ4cO/Z1G3HoWL17sMu6wsDDpfUIIFi9ejPDwcHh5eWHMmDE4evTo7zji1tOxY0eXfWMYBjNm0B6ld8qcbd26FRMmTEB4eDgYhsHXX3/t9H5r5shkMmHWrFkIDg6Gj48PHnjgAVy4cOEW7oV7mts3i8WCzMxMxMTEwMfHB+Hh4Xj22Wdx6dIlp22MGTPGZR6ffPLJW7wnrrQ0b605/u7EeQPg9rxjGAY5Ofa+4LfrvMnINEU2AO9itmzZghkzZmDXrl1Yv349rFYrEhMTUV9f77RecnIyiouLpdcPP/zwO4346ujVq5fTuA8fPiy9t2LFCuh0OrzzzjvYs2cPwsLCMG7cONTW1v6OI24de/bscdqv9evXAwAee+wxaZ07Yc7q6+vRt29fvPPOO27fb80cvfLKK1izZg0+++wzbN++HXV1dbj//vths9lu1W64pbl9a2howL59+7Bw4ULs27cPX331FU6cOIEHHnjAZd1p06Y5zeNf//rXWzH8Zmlp3oCWj787cd4AOO1TcXExVq1aBYZh8MgjjzitdzvOm4yMC0RGppHS0lICgGzZskVaNnnyZPLggw/+foO6RhYtWkT69u3r9j1BEEhYWBhZvny5tMxoNBJ/f3/ywQcf3KIR3jhmz55NOnfuTARBIITcmXMGgKxZs0b6f2vmqKqqiigUCvLZZ59J61y8eJGwLEsKCgpu2dhboum+uWP37t0EADl37py0LDY2lsyePfvmDu46cbdvLR1/f6R5e/DBB0l8fLzTsjth3mRkCCFE9gDKSFRXVwMAgoKCnJZv3rwZbdu2RdeuXTFt2jSUlpb+HsO7ak6ePInw8HBER0fjySefxOnTpwEAZ86cQUlJCRITE6V1VSoVYmNjsXPnzt9ruNeE2WzGv//9b0ydOhUMw0jL79Q5E2nNHO3duxcWi8VpnfDwcPTu3fuOm8fq6mowDIOAgACn5atXr0ZwcDB69eqF9PT0O8JDDTR//P1R5u3y5cv4/vvv8dxzz7m8d6fOm8zdBf97D0Dm9oAQgtTUVIwcORK9e/eWlmu1Wjz22GOIiorCmTNnsHDhQsTHx2Pv3r23tQL+vffei3/+85/o2rUrLl++jDfffBPDhw/H0aNHUVJSAgAIDQ11+kxoaCjOnTv3ewz3mvn6669RVVWFKVOmSMvu1DlzpDVzVFJSAqVSicDAQJd1xM/fCRiNRsydOxdPPfUU/Pz8pOWTJk1CdHQ0wsLCcOTIEcybNw8HDx6UQv63Ky0df3+Uefvkk0/g6+uLhx9+2Gn5nTpvMncfsgEoAwCYOXMmDh06hO3btzstf+KJJ6S/e/fujUGDBiEqKgrff/+9y4XvdkKr1Up/x8TEYNiwYejcuTM++eQTKSHd0WMGUCO46bLbnY8++gharRbh4eHSsjt1ztxxLXN0J82jxWLBk08+CUEQ8N577zm9N23aNOnv3r1745577sGgQYOwb98+DBgw4FYPtdVc6/F3J80bAKxatQqTJk2CWq12Wn6nzpvM3YccApbBrFmz8O2332LTpk1o3759s+u2a9cOUVFROHny5C0a3Y3Bx8cHMTExOHnypFQN3NTbUFpa6uJxup05d+4cNmzYgOeff77Z9e7EOWvNHIWFhcFsNqOystLjOrczFosFjz/+OM6cOYP169c7ef/cMWDAACgUijtqHgHX4+9OnzcA2LZtG3799dcWzz3gzp03mT8+sgF4F0MIwcyZM/HVV1+hsLAQ0dHRLX6mvLwcRUVFaNeu3S0Y4Y3DZDLh+PHjaNeunRSecQzJmM1mbNmyBcOHD/8dR3l1fPzxx2jbti3Gjx/f7Hp34py1Zo4GDhwIhULhtE5xcTGOHDly28+jaPydPHkSGzZsQJs2bVr8zNGjR2GxWO6oeQRcj787ed5EPvroIwwcOBB9+/Ztcd07dd5k7gJ+zwoUmd+Xl156ifj7+5PNmzeT4uJi6dXQ0EAIIaS2tpakpaWRnTt3kjNnzpBNmzaRYcOGkYiICFJTU/M7j7550tLSyObNm8np06fJrl27yP333098fX3J2bNnCSGELF++nPj7+5OvvvqKHD58mPzpT38i7dq1u+33S8Rms5EOHTqQzMxMp+V30pzV1taS/fv3k/379xMARKfTkf3790uVsK2Zo+nTp5P27duTDRs2kH379pH4+HjSt29fYrVaf6/dIoQ0v28Wi4U88MADpH379uTAgQNO557JZCKEEHLq1Cny+uuvkz179pAzZ86Q77//nnTv3p3079//tt631h5/d+K8iVRXVxNvb2/y/vvvu3z+dp43GZmmyAbgXQwAt6+PP/6YEEJIQ0MDSUxMJCEhIUShUJAOHTqQyZMnk/Pnz/++A28FTzzxBGnXrh1RKBQkPDycPPzww+To0aPS+4IgkEWLFpGwsDCiUqnI6NGjyeHDh3/HEV8da9euJQDIr7/+6rT8TpqzTZs2uT3+Jk+eTAhp3RwZDAYyc+ZMEhQURLy8vMj9999/W+xrc/t25swZj+fepk2bCCGEnD9/nowePZoEBQURpVJJOnfuTF5++WVSXl7+++4YaX7fWnv83YnzJvLXv/6VeHl5kaqqKpfP387zJiPTFIYQQm6qi1FGRkZGRkZGRua2Qs4BlJGRkZGRkZG5y5ANQBkZGRkZGRmZuwzZAJSRkZGRkZGRucuQDUAZGRkZGRkZmbsM2QCUkZGRkZGRkbnLkA1AGRkZGRkZGZm7DNkAlJGRkZGRkZG5y5ANQBkZGRkZGRmZuwzZAJSRkZGRkZGRucuQDUAZGZmbRnl5Odq2bYuzZ8+2uO6jjz4KnU538wclIyMjIyMbgDIyMjePrKwsTJgwAR07dgQA1NXV4cknn0S7du3w5JNPor6+Xlr3tddew9KlS1FTU/M7jVZGRkbm7kE2AGVkZG4KBoMBH330EZ5//nlp2VtvvQWNRoN169bB29sbb731lvRenz590LFjR6xevfp3GK2MjIzM3YVsAMrIyHhk5syZGDlypNv3OnbsiKVLl3r8bH5+Pniex7Bhw6RlVVVV6Nq1K2JiYtC9e3dUV1c7feaBBx7Ap59+emMGLyMjIyPjEf73HoCMjMztybFjx/D+++9j69atbt/v0aMHDhw44PHzW7duxaBBg5yWzZw5EwkJCViwYAG6dOmCDRs2OL0/ZMgQZGVlwWQyQaVSXfc+yMjIyMi4RzYAZWRk3JKTk4PBgwdjxIgRbt8PCgpCUVGRx8+fPXsW4eHhTss6duyIkydPorS0FKGhoWAYxun9iIgImEwmlJSUICoq6vp3QkZGRkbGLXIIWEZGxgWr1Yovv/wSjzzyiLTsxRdfxEcffST9v7a2Fj4+Ph63YTAYoFarXZazLIuwsDAX4w8AvLy8AAANDQ3XM3wZGRkZmRaQDUAZGRkXfvvtN9TW1iImJgYAIAgCPv/8c2g0GmmdQ4cOoUePHh63ERwcjMrKyqv63oqKCgBASEjINYxaRkZGRqa1yAagjIyMC1VVVQAgGXxr165FZWUllEolAGD37t04d+4cJk6c6HEb/fv3x7Fjx67qe48cOYL27dsjODj4msYtIyMjI9M6ZANQRkbGhaioKDAMg08//RT79+9HWloa7rvvPnzzzTfYv38/XnzxRcTHx2P06NEet5GUlISjR49elRdw27ZtSExMvBG7ICMjIyPTDAwhhPzeg5CRkbn9yMrKwvLly+Hl5YU333wTQ4YMwYMPPojS0lJMmDAB7733HoKCgprdxrBhwzBlyhS8+OKLLX6f0WhEaGgo1q5di6FDh96o3ZCRkZGRcYNsAMrIyNw0fvjhB6Snp+PIkSNg2eYDDu+++y6++eYbrFu37haNTkZGRubuRZaBkZGRuWncd999OHnyJC5evIjIyMhm11UoFFi5cuUtGpmMjIzM3Y3sAZSRkZGRkZGRucuQi0BkZGRkZGRkZO4yZANQRkZGRkZGRuYuQzYAZWRkZGRkZGTuMmQDUEZGRkZGRkbmLkM2AGVkZGRkZGRk7jJkA1BGRkZGRkZG5i5DNgBlZGRkZGRkZO4yZANQRkZGRkZGRuYu4/8BUEuoU7hrDP8AAAAASUVORK5CYII=' width=640.0/>\n",
       "            </div>\n",
       "        "
      ],
      "text/plain": [
       "Canvas(toolbar=Toolbar(toolitems=[('Home', 'Reset original view', 'home', 'home'), ('Back', 'Back to previous …"
      ]
     },
     "metadata": {},
     "output_type": "display_data"
    }
   ],
   "source": [
    "fig, ax = pbp_object.iplot(skip=1)  # increase skip to make plot faster"
   ]
  },
  {
   "cell_type": "markdown",
   "id": "51432255",
   "metadata": {
    "papermill": {
     "duration": 0.006592,
     "end_time": "2025-02-24T08:30:21.086356",
     "exception": false,
     "start_time": "2025-02-24T08:30:21.079764",
     "status": "completed"
    },
    "tags": []
   },
   "source": [
    "# Indexing"
   ]
  },
  {
   "cell_type": "code",
   "execution_count": 14,
   "id": "15ed32eb",
   "metadata": {
    "execution": {
     "iopub.execute_input": "2025-02-24T08:30:21.101060Z",
     "iopub.status.busy": "2025-02-24T08:30:21.100763Z",
     "iopub.status.idle": "2025-02-24T08:33:13.575043Z",
     "shell.execute_reply": "2025-02-24T08:33:13.574314Z"
    },
    "papermill": {
     "duration": 172.484028,
     "end_time": "2025-02-24T08:33:13.576902",
     "exception": false,
     "start_time": "2025-02-24T08:30:21.092874",
     "status": "completed"
    },
    "tags": []
   },
   "outputs": [
    {
     "name": "stdout",
     "output_type": "stream",
     "text": [
      "{'cosine_tol': 0.002181658028916515,\n",
      " 'ds_tol': 0.008,\n",
      " 'forgen': [0, 5, 7],\n",
      " 'hkl_tol': 0.03,\n",
      " 'hmax': 4,\n",
      " 'minpks': 30,\n",
      " 'uniqcut': 0.85,\n",
      " 'y0': -16.0,\n",
      " 'ymin': -274.00012223777037,\n",
      " 'ystep': 2.000000892246499}\n"
     ]
    },
    {
     "name": "stdout",
     "output_type": "stream",
     "text": [
      "Done   0.047 %, average grains/point   2.30, 0.533 /s/point, total 21.3 /s\r"
     ]
    },
    {
     "name": "stdout",
     "output_type": "stream",
     "text": [
      "Done   0.094 %, average grains/point   2.48, 0.271 /s/point, total 21.7 /s\r"
     ]
    },
    {
     "name": "stdout",
     "output_type": "stream",
     "text": [
      "Done   0.142 %, average grains/point   2.38, 0.183 /s/point, total 22.0 /s\r"
     ]
    },
    {
     "name": "stdout",
     "output_type": "stream",
     "text": [
      "Done   0.189 %, average grains/point   2.31, 0.139 /s/point, total 22.2 /s\r"
     ]
    },
    {
     "name": "stdout",
     "output_type": "stream",
     "text": [
      "Done   0.236 %, average grains/point   2.27, 0.112 /s/point, total 22.3 /s\r"
     ]
    },
    {
     "name": "stdout",
     "output_type": "stream",
     "text": [
      "Done   0.283 %, average grains/point   2.26, 0.094 /s/point, total 22.5 /s\r"
     ]
    },
    {
     "name": "stdout",
     "output_type": "stream",
     "text": [
      "Done   0.331 %, average grains/point   2.23, 0.081 /s/point, total 22.6 /s\r"
     ]
    },
    {
     "name": "stdout",
     "output_type": "stream",
     "text": [
      "Done   0.378 %, average grains/point   2.19, 0.071 /s/point, total 22.7 /s\r"
     ]
    },
    {
     "name": "stdout",
     "output_type": "stream",
     "text": [
      "Done   0.425 %, average grains/point   2.20, 0.063 /s/point, total 22.8 /s\r"
     ]
    },
    {
     "name": "stdout",
     "output_type": "stream",
     "text": [
      "Done   0.472 %, average grains/point   2.15, 0.057 /s/point, total 22.9 /s\r"
     ]
    },
    {
     "name": "stdout",
     "output_type": "stream",
     "text": [
      "Done   0.520 %, average grains/point   2.14, 0.052 /s/point, total 23.0 /s\r"
     ]
    },
    {
     "name": "stdout",
     "output_type": "stream",
     "text": [
      "Done   0.567 %, average grains/point   2.10, 0.048 /s/point, total 23.1 /s\r"
     ]
    },
    {
     "name": "stdout",
     "output_type": "stream",
     "text": [
      "Done   0.614 %, average grains/point   2.13, 0.045 /s/point, total 23.2 /s\r"
     ]
    },
    {
     "name": "stdout",
     "output_type": "stream",
     "text": [
      "Done   0.661 %, average grains/point   2.14, 0.042 /s/point, total 23.2 /s\r"
     ]
    },
    {
     "name": "stdout",
     "output_type": "stream",
     "text": [
      "Done   0.709 %, average grains/point   2.13, 0.039 /s/point, total 23.3 /s\r"
     ]
    },
    {
     "name": "stdout",
     "output_type": "stream",
     "text": [
      "Done   0.756 %, average grains/point   2.10, 0.037 /s/point, total 23.4 /s\r"
     ]
    },
    {
     "name": "stdout",
     "output_type": "stream",
     "text": [
      "Done   0.803 %, average grains/point   2.08, 0.035 /s/point, total 23.5 /s\r"
     ]
    },
    {
     "name": "stdout",
     "output_type": "stream",
     "text": [
      "Done   0.850 %, average grains/point   2.11, 0.033 /s/point, total 23.5 /s\r"
     ]
    },
    {
     "name": "stdout",
     "output_type": "stream",
     "text": [
      "Done   0.897 %, average grains/point   2.11, 0.031 /s/point, total 23.6 /s\r"
     ]
    },
    {
     "name": "stdout",
     "output_type": "stream",
     "text": [
      "Done   0.945 %, average grains/point   2.13, 0.030 /s/point, total 23.7 /s\r"
     ]
    },
    {
     "name": "stdout",
     "output_type": "stream",
     "text": [
      "Done   0.992 %, average grains/point   2.11, 0.028 /s/point, total 23.8 /s\r"
     ]
    },
    {
     "name": "stdout",
     "output_type": "stream",
     "text": [
      "Done   1.039 %, average grains/point   2.13, 0.027 /s/point, total 23.8 /s\r"
     ]
    },
    {
     "name": "stdout",
     "output_type": "stream",
     "text": [
      "Done   1.086 %, average grains/point   2.12, 0.026 /s/point, total 23.9 /s\r"
     ]
    },
    {
     "name": "stdout",
     "output_type": "stream",
     "text": [
      "Done   1.134 %, average grains/point   2.12, 0.025 /s/point, total 24.0 /s\r"
     ]
    },
    {
     "name": "stdout",
     "output_type": "stream",
     "text": [
      "Done   1.181 %, average grains/point   2.12, 0.024 /s/point, total 24.0 /s\r"
     ]
    },
    {
     "name": "stdout",
     "output_type": "stream",
     "text": [
      "Done   1.228 %, average grains/point   2.10, 0.023 /s/point, total 24.1 /s\r"
     ]
    },
    {
     "name": "stdout",
     "output_type": "stream",
     "text": [
      "Done   1.275 %, average grains/point   2.11, 0.022 /s/point, total 24.2 /s\r"
     ]
    },
    {
     "name": "stdout",
     "output_type": "stream",
     "text": [
      "Done   1.323 %, average grains/point   2.12, 0.022 /s/point, total 24.3 /s\r"
     ]
    },
    {
     "name": "stdout",
     "output_type": "stream",
     "text": [
      "Done   1.370 %, average grains/point   2.12, 0.021 /s/point, total 24.3 /s\r"
     ]
    },
    {
     "name": "stdout",
     "output_type": "stream",
     "text": [
      "Done   1.417 %, average grains/point   2.10, 0.020 /s/point, total 24.4 /s\r"
     ]
    },
    {
     "name": "stdout",
     "output_type": "stream",
     "text": [
      "Done   1.464 %, average grains/point   2.10, 0.020 /s/point, total 24.5 /s\r"
     ]
    },
    {
     "name": "stdout",
     "output_type": "stream",
     "text": [
      "Done   1.512 %, average grains/point   2.10, 0.019 /s/point, total 24.6 /s\r"
     ]
    },
    {
     "name": "stdout",
     "output_type": "stream",
     "text": [
      "Done   1.559 %, average grains/point   2.10, 0.019 /s/point, total 24.6 /s\r"
     ]
    },
    {
     "name": "stdout",
     "output_type": "stream",
     "text": [
      "Done   1.606 %, average grains/point   2.10, 0.018 /s/point, total 24.7 /s\r"
     ]
    },
    {
     "name": "stdout",
     "output_type": "stream",
     "text": [
      "Done   1.653 %, average grains/point   2.09, 0.018 /s/point, total 24.8 /s\r"
     ]
    },
    {
     "name": "stdout",
     "output_type": "stream",
     "text": [
      "Done   1.700 %, average grains/point   2.09, 0.017 /s/point, total 24.8 /s\r"
     ]
    },
    {
     "name": "stdout",
     "output_type": "stream",
     "text": [
      "Done   1.748 %, average grains/point   2.10, 0.017 /s/point, total 24.9 /s\r"
     ]
    },
    {
     "name": "stdout",
     "output_type": "stream",
     "text": [
      "Done   1.795 %, average grains/point   2.10, 0.016 /s/point, total 25.0 /s\r"
     ]
    },
    {
     "name": "stdout",
     "output_type": "stream",
     "text": [
      "Done   1.842 %, average grains/point   2.09, 0.016 /s/point, total 25.0 /s\r"
     ]
    },
    {
     "name": "stdout",
     "output_type": "stream",
     "text": [
      "Done   1.889 %, average grains/point   2.09, 0.016 /s/point, total 25.1 /s\r"
     ]
    },
    {
     "name": "stdout",
     "output_type": "stream",
     "text": [
      "Done   1.937 %, average grains/point   2.08, 0.015 /s/point, total 25.2 /s\r"
     ]
    },
    {
     "name": "stdout",
     "output_type": "stream",
     "text": [
      "Done   1.984 %, average grains/point   2.07, 0.015 /s/point, total 25.2 /s\r"
     ]
    },
    {
     "name": "stdout",
     "output_type": "stream",
     "text": [
      "Done   2.031 %, average grains/point   2.07, 0.015 /s/point, total 25.3 /s\r"
     ]
    },
    {
     "name": "stdout",
     "output_type": "stream",
     "text": [
      "Done   2.078 %, average grains/point   2.07, 0.014 /s/point, total 25.4 /s\r"
     ]
    },
    {
     "name": "stdout",
     "output_type": "stream",
     "text": [
      "Done   2.126 %, average grains/point   2.07, 0.014 /s/point, total 25.5 /s\r"
     ]
    },
    {
     "name": "stdout",
     "output_type": "stream",
     "text": [
      "Done   2.173 %, average grains/point   2.07, 0.014 /s/point, total 25.5 /s\r"
     ]
    },
    {
     "name": "stdout",
     "output_type": "stream",
     "text": [
      "Done   2.220 %, average grains/point   2.07, 0.014 /s/point, total 25.6 /s\r"
     ]
    },
    {
     "name": "stdout",
     "output_type": "stream",
     "text": [
      "Done   2.267 %, average grains/point   2.08, 0.013 /s/point, total 25.7 /s\r"
     ]
    },
    {
     "name": "stdout",
     "output_type": "stream",
     "text": [
      "Done   2.315 %, average grains/point   2.08, 0.013 /s/point, total 25.8 /s\r"
     ]
    },
    {
     "name": "stdout",
     "output_type": "stream",
     "text": [
      "Done   2.362 %, average grains/point   2.08, 0.013 /s/point, total 25.8 /s\r"
     ]
    },
    {
     "name": "stdout",
     "output_type": "stream",
     "text": [
      "Done   2.409 %, average grains/point   2.07, 0.013 /s/point, total 25.9 /s\r"
     ]
    },
    {
     "name": "stdout",
     "output_type": "stream",
     "text": [
      "Done   2.456 %, average grains/point   2.07, 0.012 /s/point, total 26.0 /s\r"
     ]
    },
    {
     "name": "stdout",
     "output_type": "stream",
     "text": [
      "Done   2.504 %, average grains/point   2.06, 0.012 /s/point, total 26.0 /s\r"
     ]
    },
    {
     "name": "stdout",
     "output_type": "stream",
     "text": [
      "Done   2.551 %, average grains/point   2.06, 0.012 /s/point, total 26.1 /s\r"
     ]
    },
    {
     "name": "stdout",
     "output_type": "stream",
     "text": [
      "Done   2.598 %, average grains/point   2.07, 0.012 /s/point, total 26.2 /s\r"
     ]
    },
    {
     "name": "stdout",
     "output_type": "stream",
     "text": [
      "Done   2.645 %, average grains/point   2.06, 0.012 /s/point, total 26.2 /s\r"
     ]
    },
    {
     "name": "stdout",
     "output_type": "stream",
     "text": [
      "Done   2.692 %, average grains/point   2.06, 0.012 /s/point, total 26.3 /s\r"
     ]
    },
    {
     "name": "stdout",
     "output_type": "stream",
     "text": [
      "Done   2.740 %, average grains/point   2.06, 0.011 /s/point, total 26.4 /s\r"
     ]
    },
    {
     "name": "stdout",
     "output_type": "stream",
     "text": [
      "Done   2.787 %, average grains/point   2.06, 0.011 /s/point, total 26.4 /s\r"
     ]
    },
    {
     "name": "stdout",
     "output_type": "stream",
     "text": [
      "Done   2.834 %, average grains/point   2.06, 0.011 /s/point, total 26.5 /s\r"
     ]
    },
    {
     "name": "stdout",
     "output_type": "stream",
     "text": [
      "Done   2.881 %, average grains/point   2.06, 0.011 /s/point, total 26.6 /s\r"
     ]
    },
    {
     "name": "stdout",
     "output_type": "stream",
     "text": [
      "Done   2.929 %, average grains/point   2.06, 0.011 /s/point, total 26.6 /s\r"
     ]
    },
    {
     "name": "stdout",
     "output_type": "stream",
     "text": [
      "Done   2.976 %, average grains/point   2.06, 0.011 /s/point, total 26.7 /s\r"
     ]
    },
    {
     "name": "stdout",
     "output_type": "stream",
     "text": [
      "Done   3.023 %, average grains/point   2.06, 0.010 /s/point, total 26.8 /s\r"
     ]
    },
    {
     "name": "stdout",
     "output_type": "stream",
     "text": [
      "Done   3.070 %, average grains/point   2.06, 0.010 /s/point, total 26.9 /s\r"
     ]
    },
    {
     "name": "stdout",
     "output_type": "stream",
     "text": [
      "Done   3.118 %, average grains/point   2.06, 0.010 /s/point, total 26.9 /s\r"
     ]
    },
    {
     "name": "stdout",
     "output_type": "stream",
     "text": [
      "Done   3.165 %, average grains/point   2.06, 0.010 /s/point, total 27.0 /s\r"
     ]
    },
    {
     "name": "stdout",
     "output_type": "stream",
     "text": [
      "Done   3.212 %, average grains/point   2.07, 0.010 /s/point, total 27.1 /s\r"
     ]
    },
    {
     "name": "stdout",
     "output_type": "stream",
     "text": [
      "Done   3.259 %, average grains/point   2.07, 0.010 /s/point, total 27.2 /s\r"
     ]
    },
    {
     "name": "stdout",
     "output_type": "stream",
     "text": [
      "Done   3.307 %, average grains/point   2.06, 0.010 /s/point, total 27.2 /s\r"
     ]
    },
    {
     "name": "stdout",
     "output_type": "stream",
     "text": [
      "Done   3.354 %, average grains/point   2.06, 0.010 /s/point, total 27.3 /s\r"
     ]
    },
    {
     "name": "stdout",
     "output_type": "stream",
     "text": [
      "Done   3.401 %, average grains/point   2.05, 0.010 /s/point, total 27.4 /s\r"
     ]
    },
    {
     "name": "stdout",
     "output_type": "stream",
     "text": [
      "Done   3.448 %, average grains/point   2.05, 0.009 /s/point, total 27.5 /s\r"
     ]
    },
    {
     "name": "stdout",
     "output_type": "stream",
     "text": [
      "Done   3.495 %, average grains/point   2.06, 0.009 /s/point, total 27.5 /s\r"
     ]
    },
    {
     "name": "stdout",
     "output_type": "stream",
     "text": [
      "Done   3.543 %, average grains/point   2.06, 0.009 /s/point, total 27.6 /s\r"
     ]
    },
    {
     "name": "stdout",
     "output_type": "stream",
     "text": [
      "Done   3.590 %, average grains/point   2.05, 0.009 /s/point, total 27.7 /s\r"
     ]
    },
    {
     "name": "stdout",
     "output_type": "stream",
     "text": [
      "Done   3.637 %, average grains/point   2.05, 0.009 /s/point, total 27.7 /s\r"
     ]
    },
    {
     "name": "stdout",
     "output_type": "stream",
     "text": [
      "Done   3.684 %, average grains/point   2.05, 0.009 /s/point, total 27.8 /s\r"
     ]
    },
    {
     "name": "stdout",
     "output_type": "stream",
     "text": [
      "Done   3.732 %, average grains/point   2.05, 0.009 /s/point, total 27.9 /s\r"
     ]
    },
    {
     "name": "stdout",
     "output_type": "stream",
     "text": [
      "Done   3.779 %, average grains/point   2.05, 0.009 /s/point, total 27.9 /s\r"
     ]
    },
    {
     "name": "stdout",
     "output_type": "stream",
     "text": [
      "Done   3.826 %, average grains/point   2.05, 0.009 /s/point, total 28.0 /s\r"
     ]
    },
    {
     "name": "stdout",
     "output_type": "stream",
     "text": [
      "Done   3.873 %, average grains/point   2.05, 0.009 /s/point, total 28.1 /s\r"
     ]
    },
    {
     "name": "stdout",
     "output_type": "stream",
     "text": [
      "Done   3.921 %, average grains/point   2.05, 0.008 /s/point, total 28.2 /s\r"
     ]
    },
    {
     "name": "stdout",
     "output_type": "stream",
     "text": [
      "Done   3.968 %, average grains/point   2.04, 0.008 /s/point, total 28.2 /s\r"
     ]
    },
    {
     "name": "stdout",
     "output_type": "stream",
     "text": [
      "Done   4.015 %, average grains/point   2.04, 0.008 /s/point, total 28.3 /s\r"
     ]
    },
    {
     "name": "stdout",
     "output_type": "stream",
     "text": [
      "Done   4.062 %, average grains/point   2.05, 0.008 /s/point, total 28.3 /s\r"
     ]
    },
    {
     "name": "stdout",
     "output_type": "stream",
     "text": [
      "Done   4.110 %, average grains/point   2.04, 0.008 /s/point, total 28.4 /s\r"
     ]
    },
    {
     "name": "stdout",
     "output_type": "stream",
     "text": [
      "Done   4.157 %, average grains/point   2.04, 0.008 /s/point, total 28.5 /s\r"
     ]
    },
    {
     "name": "stdout",
     "output_type": "stream",
     "text": [
      "Done   4.204 %, average grains/point   2.03, 0.008 /s/point, total 28.6 /s\r"
     ]
    },
    {
     "name": "stdout",
     "output_type": "stream",
     "text": [
      "Done   4.251 %, average grains/point   2.04, 0.008 /s/point, total 28.6 /s\r"
     ]
    },
    {
     "name": "stdout",
     "output_type": "stream",
     "text": [
      "Done   4.298 %, average grains/point   2.03, 0.008 /s/point, total 28.7 /s\r"
     ]
    },
    {
     "name": "stdout",
     "output_type": "stream",
     "text": [
      "Done   4.346 %, average grains/point   2.04, 0.008 /s/point, total 28.8 /s\r"
     ]
    },
    {
     "name": "stdout",
     "output_type": "stream",
     "text": [
      "Done   4.393 %, average grains/point   2.04, 0.008 /s/point, total 28.8 /s\r"
     ]
    },
    {
     "name": "stdout",
     "output_type": "stream",
     "text": [
      "Done   4.440 %, average grains/point   2.03, 0.008 /s/point, total 28.9 /s\r"
     ]
    },
    {
     "name": "stdout",
     "output_type": "stream",
     "text": [
      "Done   4.487 %, average grains/point   2.03, 0.008 /s/point, total 29.0 /s\r"
     ]
    },
    {
     "name": "stdout",
     "output_type": "stream",
     "text": [
      "Done   4.535 %, average grains/point   2.03, 0.008 /s/point, total 29.1 /s\r"
     ]
    },
    {
     "name": "stdout",
     "output_type": "stream",
     "text": [
      "Done   4.582 %, average grains/point   2.03, 0.008 /s/point, total 29.1 /s\r"
     ]
    },
    {
     "name": "stdout",
     "output_type": "stream",
     "text": [
      "Done   4.629 %, average grains/point   2.03, 0.007 /s/point, total 29.2 /s\r"
     ]
    },
    {
     "name": "stdout",
     "output_type": "stream",
     "text": [
      "Done   4.676 %, average grains/point   2.03, 0.007 /s/point, total 29.3 /s\r"
     ]
    },
    {
     "name": "stdout",
     "output_type": "stream",
     "text": [
      "Done   4.724 %, average grains/point   2.03, 0.007 /s/point, total 29.3 /s\r"
     ]
    },
    {
     "name": "stdout",
     "output_type": "stream",
     "text": [
      "Done   4.771 %, average grains/point   2.03, 0.007 /s/point, total 29.4 /s\r"
     ]
    },
    {
     "name": "stdout",
     "output_type": "stream",
     "text": [
      "Done   4.818 %, average grains/point   2.03, 0.007 /s/point, total 29.5 /s\r"
     ]
    },
    {
     "name": "stdout",
     "output_type": "stream",
     "text": [
      "Done   4.865 %, average grains/point   2.04, 0.007 /s/point, total 29.5 /s\r"
     ]
    },
    {
     "name": "stdout",
     "output_type": "stream",
     "text": [
      "Done   4.913 %, average grains/point   2.04, 0.007 /s/point, total 29.6 /s\r"
     ]
    },
    {
     "name": "stdout",
     "output_type": "stream",
     "text": [
      "Done   4.960 %, average grains/point   2.04, 0.007 /s/point, total 29.7 /s\r"
     ]
    },
    {
     "name": "stdout",
     "output_type": "stream",
     "text": [
      "Done   5.007 %, average grains/point   2.04, 0.007 /s/point, total 29.8 /s\r"
     ]
    },
    {
     "name": "stdout",
     "output_type": "stream",
     "text": [
      "Done   5.054 %, average grains/point   2.04, 0.007 /s/point, total 29.8 /s\r"
     ]
    },
    {
     "name": "stdout",
     "output_type": "stream",
     "text": [
      "Done   5.101 %, average grains/point   2.04, 0.007 /s/point, total 29.9 /s\r"
     ]
    },
    {
     "name": "stdout",
     "output_type": "stream",
     "text": [
      "Done   5.149 %, average grains/point   2.04, 0.007 /s/point, total 30.0 /s\r"
     ]
    },
    {
     "name": "stdout",
     "output_type": "stream",
     "text": [
      "Done   5.196 %, average grains/point   2.04, 0.007 /s/point, total 30.0 /s\r"
     ]
    },
    {
     "name": "stdout",
     "output_type": "stream",
     "text": [
      "Done   5.243 %, average grains/point   2.03, 0.007 /s/point, total 30.1 /s\r"
     ]
    },
    {
     "name": "stdout",
     "output_type": "stream",
     "text": [
      "Done   5.290 %, average grains/point   2.03, 0.007 /s/point, total 30.2 /s\r"
     ]
    },
    {
     "name": "stdout",
     "output_type": "stream",
     "text": [
      "Done   5.338 %, average grains/point   2.04, 0.007 /s/point, total 30.3 /s\r"
     ]
    },
    {
     "name": "stdout",
     "output_type": "stream",
     "text": [
      "Done   5.385 %, average grains/point   2.03, 0.007 /s/point, total 30.4 /s\r"
     ]
    },
    {
     "name": "stdout",
     "output_type": "stream",
     "text": [
      "Done   5.432 %, average grains/point   2.03, 0.007 /s/point, total 30.4 /s\r"
     ]
    },
    {
     "name": "stdout",
     "output_type": "stream",
     "text": [
      "Done   5.479 %, average grains/point   2.03, 0.007 /s/point, total 30.5 /s\r"
     ]
    },
    {
     "name": "stdout",
     "output_type": "stream",
     "text": [
      "Done   5.527 %, average grains/point   2.03, 0.007 /s/point, total 30.5 /s\r"
     ]
    },
    {
     "name": "stdout",
     "output_type": "stream",
     "text": [
      "Done   5.574 %, average grains/point   2.03, 0.006 /s/point, total 30.6 /s\r"
     ]
    },
    {
     "name": "stdout",
     "output_type": "stream",
     "text": [
      "Done   5.621 %, average grains/point   2.03, 0.006 /s/point, total 30.7 /s\r"
     ]
    },
    {
     "name": "stdout",
     "output_type": "stream",
     "text": [
      "Done   5.668 %, average grains/point   2.03, 0.006 /s/point, total 30.8 /s\r"
     ]
    },
    {
     "name": "stdout",
     "output_type": "stream",
     "text": [
      "Done   5.716 %, average grains/point   2.03, 0.006 /s/point, total 30.8 /s\r"
     ]
    },
    {
     "name": "stdout",
     "output_type": "stream",
     "text": [
      "Done   5.763 %, average grains/point   2.03, 0.006 /s/point, total 30.9 /s\r"
     ]
    },
    {
     "name": "stdout",
     "output_type": "stream",
     "text": [
      "Done   5.810 %, average grains/point   2.03, 0.006 /s/point, total 31.0 /s\r"
     ]
    },
    {
     "name": "stdout",
     "output_type": "stream",
     "text": [
      "Done   5.857 %, average grains/point   2.03, 0.006 /s/point, total 31.0 /s\r"
     ]
    },
    {
     "name": "stdout",
     "output_type": "stream",
     "text": [
      "Done   5.905 %, average grains/point   2.03, 0.006 /s/point, total 31.1 /s\r"
     ]
    },
    {
     "name": "stdout",
     "output_type": "stream",
     "text": [
      "Done   5.952 %, average grains/point   2.03, 0.006 /s/point, total 31.2 /s\r"
     ]
    },
    {
     "name": "stdout",
     "output_type": "stream",
     "text": [
      "Done   5.999 %, average grains/point   2.03, 0.006 /s/point, total 31.3 /s\r"
     ]
    },
    {
     "name": "stdout",
     "output_type": "stream",
     "text": [
      "Done   6.046 %, average grains/point   2.03, 0.006 /s/point, total 31.3 /s\r"
     ]
    },
    {
     "name": "stdout",
     "output_type": "stream",
     "text": [
      "Done   6.093 %, average grains/point   2.03, 0.006 /s/point, total 31.4 /s\r"
     ]
    },
    {
     "name": "stdout",
     "output_type": "stream",
     "text": [
      "Done   6.141 %, average grains/point   2.03, 0.006 /s/point, total 31.5 /s\r"
     ]
    },
    {
     "name": "stdout",
     "output_type": "stream",
     "text": [
      "Done   6.188 %, average grains/point   2.03, 0.006 /s/point, total 31.6 /s\r"
     ]
    },
    {
     "name": "stdout",
     "output_type": "stream",
     "text": [
      "Done   6.235 %, average grains/point   2.03, 0.006 /s/point, total 31.6 /s\r"
     ]
    },
    {
     "name": "stdout",
     "output_type": "stream",
     "text": [
      "Done   6.282 %, average grains/point   2.03, 0.006 /s/point, total 31.7 /s\r"
     ]
    },
    {
     "name": "stdout",
     "output_type": "stream",
     "text": [
      "Done   6.330 %, average grains/point   2.04, 0.006 /s/point, total 31.8 /s\r"
     ]
    },
    {
     "name": "stdout",
     "output_type": "stream",
     "text": [
      "Done   6.377 %, average grains/point   2.04, 0.006 /s/point, total 31.8 /s\r"
     ]
    },
    {
     "name": "stdout",
     "output_type": "stream",
     "text": [
      "Done   6.424 %, average grains/point   2.04, 0.006 /s/point, total 31.9 /s\r"
     ]
    },
    {
     "name": "stdout",
     "output_type": "stream",
     "text": [
      "Done   6.471 %, average grains/point   2.04, 0.006 /s/point, total 32.0 /s\r"
     ]
    },
    {
     "name": "stdout",
     "output_type": "stream",
     "text": [
      "Done   6.519 %, average grains/point   2.04, 0.006 /s/point, total 32.0 /s\r"
     ]
    },
    {
     "name": "stdout",
     "output_type": "stream",
     "text": [
      "Done   6.566 %, average grains/point   2.04, 0.006 /s/point, total 32.1 /s\r"
     ]
    },
    {
     "name": "stdout",
     "output_type": "stream",
     "text": [
      "Done   6.613 %, average grains/point   2.04, 0.006 /s/point, total 32.2 /s\r"
     ]
    },
    {
     "name": "stdout",
     "output_type": "stream",
     "text": [
      "Done   6.660 %, average grains/point   2.04, 0.006 /s/point, total 32.3 /s\r"
     ]
    },
    {
     "name": "stdout",
     "output_type": "stream",
     "text": [
      "Done   6.708 %, average grains/point   2.04, 0.006 /s/point, total 32.3 /s\r"
     ]
    },
    {
     "name": "stdout",
     "output_type": "stream",
     "text": [
      "Done   6.755 %, average grains/point   2.04, 0.006 /s/point, total 32.4 /s\r"
     ]
    },
    {
     "name": "stdout",
     "output_type": "stream",
     "text": [
      "Done   6.802 %, average grains/point   2.04, 0.006 /s/point, total 32.5 /s\r"
     ]
    },
    {
     "name": "stdout",
     "output_type": "stream",
     "text": [
      "Done   6.849 %, average grains/point   2.04, 0.006 /s/point, total 32.6 /s\r"
     ]
    },
    {
     "name": "stdout",
     "output_type": "stream",
     "text": [
      "Done   6.896 %, average grains/point   2.04, 0.006 /s/point, total 32.6 /s\r"
     ]
    },
    {
     "name": "stdout",
     "output_type": "stream",
     "text": [
      "Done   6.944 %, average grains/point   2.04, 0.006 /s/point, total 32.7 /s\r"
     ]
    },
    {
     "name": "stdout",
     "output_type": "stream",
     "text": [
      "Done   6.991 %, average grains/point   2.03, 0.006 /s/point, total 32.8 /s\r"
     ]
    },
    {
     "name": "stdout",
     "output_type": "stream",
     "text": [
      "Done   7.038 %, average grains/point   2.04, 0.006 /s/point, total 32.8 /s\r"
     ]
    },
    {
     "name": "stdout",
     "output_type": "stream",
     "text": [
      "Done   7.085 %, average grains/point   2.04, 0.005 /s/point, total 32.9 /s\r"
     ]
    },
    {
     "name": "stdout",
     "output_type": "stream",
     "text": [
      "Done   7.133 %, average grains/point   2.03, 0.005 /s/point, total 33.0 /s\r"
     ]
    },
    {
     "name": "stdout",
     "output_type": "stream",
     "text": [
      "Done   7.180 %, average grains/point   2.04, 0.005 /s/point, total 33.1 /s\r"
     ]
    },
    {
     "name": "stdout",
     "output_type": "stream",
     "text": [
      "Done   7.227 %, average grains/point   2.03, 0.005 /s/point, total 33.1 /s\r"
     ]
    },
    {
     "name": "stdout",
     "output_type": "stream",
     "text": [
      "Done   7.274 %, average grains/point   2.03, 0.005 /s/point, total 33.2 /s\r"
     ]
    },
    {
     "name": "stdout",
     "output_type": "stream",
     "text": [
      "Done   7.322 %, average grains/point   2.03, 0.005 /s/point, total 33.3 /s\r"
     ]
    },
    {
     "name": "stdout",
     "output_type": "stream",
     "text": [
      "Done   7.369 %, average grains/point   2.04, 0.005 /s/point, total 33.4 /s\r"
     ]
    },
    {
     "name": "stdout",
     "output_type": "stream",
     "text": [
      "Done   7.416 %, average grains/point   2.04, 0.005 /s/point, total 33.4 /s\r"
     ]
    },
    {
     "name": "stdout",
     "output_type": "stream",
     "text": [
      "Done   7.463 %, average grains/point   2.04, 0.005 /s/point, total 33.5 /s\r"
     ]
    },
    {
     "name": "stdout",
     "output_type": "stream",
     "text": [
      "Done   7.511 %, average grains/point   2.03, 0.005 /s/point, total 33.6 /s\r"
     ]
    },
    {
     "name": "stdout",
     "output_type": "stream",
     "text": [
      "Done   7.558 %, average grains/point   2.03, 0.005 /s/point, total 33.7 /s\r"
     ]
    },
    {
     "name": "stdout",
     "output_type": "stream",
     "text": [
      "Done   7.605 %, average grains/point   2.03, 0.005 /s/point, total 33.8 /s\r"
     ]
    },
    {
     "name": "stdout",
     "output_type": "stream",
     "text": [
      "Done   7.652 %, average grains/point   2.03, 0.005 /s/point, total 33.8 /s\r"
     ]
    },
    {
     "name": "stdout",
     "output_type": "stream",
     "text": [
      "Done   7.699 %, average grains/point   2.03, 0.005 /s/point, total 33.9 /s\r"
     ]
    },
    {
     "name": "stdout",
     "output_type": "stream",
     "text": [
      "Done   7.747 %, average grains/point   2.03, 0.005 /s/point, total 34.0 /s\r"
     ]
    },
    {
     "name": "stdout",
     "output_type": "stream",
     "text": [
      "Done   7.794 %, average grains/point   2.03, 0.005 /s/point, total 34.1 /s\r"
     ]
    },
    {
     "name": "stdout",
     "output_type": "stream",
     "text": [
      "Done   7.841 %, average grains/point   2.03, 0.005 /s/point, total 34.1 /s\r"
     ]
    },
    {
     "name": "stdout",
     "output_type": "stream",
     "text": [
      "Done   7.888 %, average grains/point   2.03, 0.005 /s/point, total 34.2 /s\r"
     ]
    },
    {
     "name": "stdout",
     "output_type": "stream",
     "text": [
      "Done   7.936 %, average grains/point   2.03, 0.005 /s/point, total 34.3 /s\r"
     ]
    },
    {
     "name": "stdout",
     "output_type": "stream",
     "text": [
      "Done   7.983 %, average grains/point   2.03, 0.005 /s/point, total 34.4 /s\r"
     ]
    },
    {
     "name": "stdout",
     "output_type": "stream",
     "text": [
      "Done   8.030 %, average grains/point   2.03, 0.005 /s/point, total 34.4 /s\r"
     ]
    },
    {
     "name": "stdout",
     "output_type": "stream",
     "text": [
      "Done   8.077 %, average grains/point   2.03, 0.005 /s/point, total 34.5 /s\r"
     ]
    },
    {
     "name": "stdout",
     "output_type": "stream",
     "text": [
      "Done   8.125 %, average grains/point   2.03, 0.005 /s/point, total 34.6 /s\r"
     ]
    },
    {
     "name": "stdout",
     "output_type": "stream",
     "text": [
      "Done   8.172 %, average grains/point   2.03, 0.005 /s/point, total 34.6 /s\r"
     ]
    },
    {
     "name": "stdout",
     "output_type": "stream",
     "text": [
      "Done   8.219 %, average grains/point   2.03, 0.005 /s/point, total 34.7 /s\r"
     ]
    },
    {
     "name": "stdout",
     "output_type": "stream",
     "text": [
      "Done   8.266 %, average grains/point   2.03, 0.005 /s/point, total 34.8 /s\r"
     ]
    },
    {
     "name": "stdout",
     "output_type": "stream",
     "text": [
      "Done   8.314 %, average grains/point   2.03, 0.005 /s/point, total 34.9 /s\r"
     ]
    },
    {
     "name": "stdout",
     "output_type": "stream",
     "text": [
      "Done   8.361 %, average grains/point   2.03, 0.005 /s/point, total 34.9 /s\r"
     ]
    },
    {
     "name": "stdout",
     "output_type": "stream",
     "text": [
      "Done   8.408 %, average grains/point   2.03, 0.005 /s/point, total 35.0 /s\r"
     ]
    },
    {
     "name": "stdout",
     "output_type": "stream",
     "text": [
      "Done   8.455 %, average grains/point   2.03, 0.005 /s/point, total 35.1 /s\r"
     ]
    },
    {
     "name": "stdout",
     "output_type": "stream",
     "text": [
      "Done   8.502 %, average grains/point   2.03, 0.005 /s/point, total 35.2 /s\r"
     ]
    },
    {
     "name": "stdout",
     "output_type": "stream",
     "text": [
      "Done   8.550 %, average grains/point   2.03, 0.005 /s/point, total 35.3 /s\r"
     ]
    },
    {
     "name": "stdout",
     "output_type": "stream",
     "text": [
      "Done   8.597 %, average grains/point   2.03, 0.005 /s/point, total 35.3 /s\r"
     ]
    },
    {
     "name": "stdout",
     "output_type": "stream",
     "text": [
      "Done   8.644 %, average grains/point   2.03, 0.005 /s/point, total 35.4 /s\r"
     ]
    },
    {
     "name": "stdout",
     "output_type": "stream",
     "text": [
      "Done   8.691 %, average grains/point   2.03, 0.005 /s/point, total 35.4 /s\r"
     ]
    },
    {
     "name": "stdout",
     "output_type": "stream",
     "text": [
      "Done   8.739 %, average grains/point   2.03, 0.005 /s/point, total 35.5 /s\r"
     ]
    },
    {
     "name": "stdout",
     "output_type": "stream",
     "text": [
      "Done   8.786 %, average grains/point   2.03, 0.005 /s/point, total 35.6 /s\r"
     ]
    },
    {
     "name": "stdout",
     "output_type": "stream",
     "text": [
      "Done   8.833 %, average grains/point   2.03, 0.005 /s/point, total 35.7 /s\r"
     ]
    },
    {
     "name": "stdout",
     "output_type": "stream",
     "text": [
      "Done   8.880 %, average grains/point   2.03, 0.005 /s/point, total 35.7 /s\r"
     ]
    },
    {
     "name": "stdout",
     "output_type": "stream",
     "text": [
      "Done   8.928 %, average grains/point   2.03, 0.005 /s/point, total 35.8 /s\r"
     ]
    },
    {
     "name": "stdout",
     "output_type": "stream",
     "text": [
      "Done   8.975 %, average grains/point   2.03, 0.005 /s/point, total 35.9 /s\r"
     ]
    },
    {
     "name": "stdout",
     "output_type": "stream",
     "text": [
      "Done   9.022 %, average grains/point   2.03, 0.005 /s/point, total 35.9 /s\r"
     ]
    },
    {
     "name": "stdout",
     "output_type": "stream",
     "text": [
      "Done   9.069 %, average grains/point   2.03, 0.005 /s/point, total 36.0 /s\r"
     ]
    },
    {
     "name": "stdout",
     "output_type": "stream",
     "text": [
      "Done   9.117 %, average grains/point   2.03, 0.005 /s/point, total 36.1 /s\r"
     ]
    },
    {
     "name": "stdout",
     "output_type": "stream",
     "text": [
      "Done   9.164 %, average grains/point   2.03, 0.005 /s/point, total 36.1 /s\r"
     ]
    },
    {
     "name": "stdout",
     "output_type": "stream",
     "text": [
      "Done   9.211 %, average grains/point   2.03, 0.005 /s/point, total 36.2 /s\r"
     ]
    },
    {
     "name": "stdout",
     "output_type": "stream",
     "text": [
      "Done   9.258 %, average grains/point   2.03, 0.005 /s/point, total 36.3 /s\r"
     ]
    },
    {
     "name": "stdout",
     "output_type": "stream",
     "text": [
      "Done   9.306 %, average grains/point   2.03, 0.005 /s/point, total 36.4 /s\r"
     ]
    },
    {
     "name": "stdout",
     "output_type": "stream",
     "text": [
      "Done   9.353 %, average grains/point   2.03, 0.005 /s/point, total 36.4 /s\r"
     ]
    },
    {
     "name": "stdout",
     "output_type": "stream",
     "text": [
      "Done   9.400 %, average grains/point   2.03, 0.005 /s/point, total 36.5 /s\r"
     ]
    },
    {
     "name": "stdout",
     "output_type": "stream",
     "text": [
      "Done   9.447 %, average grains/point   2.03, 0.005 /s/point, total 36.6 /s\r"
     ]
    },
    {
     "name": "stdout",
     "output_type": "stream",
     "text": [
      "Done   9.494 %, average grains/point   2.03, 0.005 /s/point, total 36.6 /s\r"
     ]
    },
    {
     "name": "stdout",
     "output_type": "stream",
     "text": [
      "Done   9.542 %, average grains/point   2.03, 0.005 /s/point, total 36.7 /s\r"
     ]
    },
    {
     "name": "stdout",
     "output_type": "stream",
     "text": [
      "Done   9.589 %, average grains/point   2.03, 0.005 /s/point, total 36.8 /s\r"
     ]
    },
    {
     "name": "stdout",
     "output_type": "stream",
     "text": [
      "Done   9.636 %, average grains/point   2.02, 0.005 /s/point, total 36.8 /s\r"
     ]
    },
    {
     "name": "stdout",
     "output_type": "stream",
     "text": [
      "Done   9.683 %, average grains/point   2.02, 0.005 /s/point, total 36.9 /s\r"
     ]
    },
    {
     "name": "stdout",
     "output_type": "stream",
     "text": [
      "Done   9.731 %, average grains/point   2.02, 0.004 /s/point, total 37.0 /s\r"
     ]
    },
    {
     "name": "stdout",
     "output_type": "stream",
     "text": [
      "Done   9.778 %, average grains/point   2.02, 0.004 /s/point, total 37.1 /s\r"
     ]
    },
    {
     "name": "stdout",
     "output_type": "stream",
     "text": [
      "Done   9.825 %, average grains/point   2.02, 0.004 /s/point, total 37.1 /s\r"
     ]
    },
    {
     "name": "stdout",
     "output_type": "stream",
     "text": [
      "Done   9.872 %, average grains/point   2.02, 0.004 /s/point, total 37.2 /s\r"
     ]
    },
    {
     "name": "stdout",
     "output_type": "stream",
     "text": [
      "Done   9.920 %, average grains/point   2.02, 0.004 /s/point, total 37.3 /s\r"
     ]
    },
    {
     "name": "stdout",
     "output_type": "stream",
     "text": [
      "Done   9.967 %, average grains/point   2.02, 0.004 /s/point, total 37.3 /s\r"
     ]
    },
    {
     "name": "stdout",
     "output_type": "stream",
     "text": [
      "Done  10.014 %, average grains/point   2.02, 0.004 /s/point, total 37.4 /s\r"
     ]
    },
    {
     "name": "stdout",
     "output_type": "stream",
     "text": [
      "Done  10.061 %, average grains/point   2.02, 0.004 /s/point, total 37.5 /s\r"
     ]
    },
    {
     "name": "stdout",
     "output_type": "stream",
     "text": [
      "Done  10.109 %, average grains/point   2.02, 0.004 /s/point, total 37.6 /s\r"
     ]
    },
    {
     "name": "stdout",
     "output_type": "stream",
     "text": [
      "Done  10.156 %, average grains/point   2.02, 0.004 /s/point, total 37.6 /s\r"
     ]
    },
    {
     "name": "stdout",
     "output_type": "stream",
     "text": [
      "Done  10.203 %, average grains/point   2.02, 0.004 /s/point, total 37.7 /s\r"
     ]
    },
    {
     "name": "stdout",
     "output_type": "stream",
     "text": [
      "Done  10.250 %, average grains/point   2.02, 0.004 /s/point, total 37.8 /s\r"
     ]
    },
    {
     "name": "stdout",
     "output_type": "stream",
     "text": [
      "Done  10.297 %, average grains/point   2.02, 0.004 /s/point, total 37.8 /s\r"
     ]
    },
    {
     "name": "stdout",
     "output_type": "stream",
     "text": [
      "Done  10.345 %, average grains/point   2.02, 0.004 /s/point, total 37.9 /s\r"
     ]
    },
    {
     "name": "stdout",
     "output_type": "stream",
     "text": [
      "Done  10.392 %, average grains/point   2.02, 0.004 /s/point, total 38.0 /s\r"
     ]
    },
    {
     "name": "stdout",
     "output_type": "stream",
     "text": [
      "Done  10.439 %, average grains/point   2.02, 0.004 /s/point, total 38.1 /s\r"
     ]
    },
    {
     "name": "stdout",
     "output_type": "stream",
     "text": [
      "Done  10.486 %, average grains/point   2.02, 0.004 /s/point, total 38.1 /s\r"
     ]
    },
    {
     "name": "stdout",
     "output_type": "stream",
     "text": [
      "Done  10.534 %, average grains/point   2.02, 0.004 /s/point, total 38.2 /s\r"
     ]
    },
    {
     "name": "stdout",
     "output_type": "stream",
     "text": [
      "Done  10.581 %, average grains/point   2.02, 0.004 /s/point, total 38.3 /s\r"
     ]
    },
    {
     "name": "stdout",
     "output_type": "stream",
     "text": [
      "Done  10.628 %, average grains/point   2.02, 0.004 /s/point, total 38.3 /s\r"
     ]
    },
    {
     "name": "stdout",
     "output_type": "stream",
     "text": [
      "Done  10.675 %, average grains/point   2.02, 0.004 /s/point, total 38.4 /s\r"
     ]
    },
    {
     "name": "stdout",
     "output_type": "stream",
     "text": [
      "Done  10.723 %, average grains/point   2.02, 0.004 /s/point, total 38.5 /s\r"
     ]
    },
    {
     "name": "stdout",
     "output_type": "stream",
     "text": [
      "Done  10.770 %, average grains/point   2.02, 0.004 /s/point, total 38.6 /s\r"
     ]
    },
    {
     "name": "stdout",
     "output_type": "stream",
     "text": [
      "Done  10.817 %, average grains/point   2.02, 0.004 /s/point, total 38.6 /s\r"
     ]
    },
    {
     "name": "stdout",
     "output_type": "stream",
     "text": [
      "Done  10.864 %, average grains/point   2.02, 0.004 /s/point, total 38.7 /s\r"
     ]
    },
    {
     "name": "stdout",
     "output_type": "stream",
     "text": [
      "Done  10.912 %, average grains/point   2.01, 0.004 /s/point, total 38.8 /s\r"
     ]
    },
    {
     "name": "stdout",
     "output_type": "stream",
     "text": [
      "Done  10.959 %, average grains/point   2.01, 0.004 /s/point, total 38.9 /s\r"
     ]
    },
    {
     "name": "stdout",
     "output_type": "stream",
     "text": [
      "Done  11.006 %, average grains/point   2.01, 0.004 /s/point, total 38.9 /s\r"
     ]
    },
    {
     "name": "stdout",
     "output_type": "stream",
     "text": [
      "Done  11.053 %, average grains/point   2.01, 0.004 /s/point, total 39.0 /s\r"
     ]
    },
    {
     "name": "stdout",
     "output_type": "stream",
     "text": [
      "Done  11.100 %, average grains/point   2.01, 0.004 /s/point, total 39.1 /s\r"
     ]
    },
    {
     "name": "stdout",
     "output_type": "stream",
     "text": [
      "Done  11.148 %, average grains/point   2.01, 0.004 /s/point, total 39.1 /s\r"
     ]
    },
    {
     "name": "stdout",
     "output_type": "stream",
     "text": [
      "Done  11.195 %, average grains/point   2.01, 0.004 /s/point, total 39.2 /s\r"
     ]
    },
    {
     "name": "stdout",
     "output_type": "stream",
     "text": [
      "Done  11.242 %, average grains/point   2.01, 0.004 /s/point, total 39.3 /s\r"
     ]
    },
    {
     "name": "stdout",
     "output_type": "stream",
     "text": [
      "Done  11.289 %, average grains/point   2.01, 0.004 /s/point, total 39.4 /s\r"
     ]
    },
    {
     "name": "stdout",
     "output_type": "stream",
     "text": [
      "Done  11.337 %, average grains/point   2.01, 0.004 /s/point, total 39.4 /s\r"
     ]
    },
    {
     "name": "stdout",
     "output_type": "stream",
     "text": [
      "Done  11.384 %, average grains/point   2.01, 0.004 /s/point, total 39.5 /s\r"
     ]
    },
    {
     "name": "stdout",
     "output_type": "stream",
     "text": [
      "Done  11.431 %, average grains/point   2.01, 0.004 /s/point, total 39.6 /s\r"
     ]
    },
    {
     "name": "stdout",
     "output_type": "stream",
     "text": [
      "Done  11.478 %, average grains/point   2.01, 0.004 /s/point, total 39.6 /s\r"
     ]
    },
    {
     "name": "stdout",
     "output_type": "stream",
     "text": [
      "Done  11.526 %, average grains/point   2.01, 0.004 /s/point, total 39.7 /s\r"
     ]
    },
    {
     "name": "stdout",
     "output_type": "stream",
     "text": [
      "Done  11.573 %, average grains/point   2.01, 0.004 /s/point, total 39.8 /s\r"
     ]
    },
    {
     "name": "stdout",
     "output_type": "stream",
     "text": [
      "Done  11.620 %, average grains/point   2.01, 0.004 /s/point, total 39.8 /s\r"
     ]
    },
    {
     "name": "stdout",
     "output_type": "stream",
     "text": [
      "Done  11.667 %, average grains/point   2.01, 0.004 /s/point, total 39.9 /s\r"
     ]
    },
    {
     "name": "stdout",
     "output_type": "stream",
     "text": [
      "Done  11.715 %, average grains/point   2.01, 0.004 /s/point, total 40.0 /s\r"
     ]
    },
    {
     "name": "stdout",
     "output_type": "stream",
     "text": [
      "Done  11.762 %, average grains/point   2.01, 0.004 /s/point, total 40.1 /s\r"
     ]
    },
    {
     "name": "stdout",
     "output_type": "stream",
     "text": [
      "Done  11.809 %, average grains/point   2.01, 0.004 /s/point, total 40.1 /s\r"
     ]
    },
    {
     "name": "stdout",
     "output_type": "stream",
     "text": [
      "Done  11.856 %, average grains/point   2.01, 0.004 /s/point, total 40.2 /s\r"
     ]
    },
    {
     "name": "stdout",
     "output_type": "stream",
     "text": [
      "Done  11.903 %, average grains/point   2.01, 0.004 /s/point, total 40.3 /s\r"
     ]
    },
    {
     "name": "stdout",
     "output_type": "stream",
     "text": [
      "Done  11.951 %, average grains/point   2.01, 0.004 /s/point, total 40.3 /s\r"
     ]
    },
    {
     "name": "stdout",
     "output_type": "stream",
     "text": [
      "Done  11.998 %, average grains/point   2.01, 0.004 /s/point, total 40.4 /s\r"
     ]
    },
    {
     "name": "stdout",
     "output_type": "stream",
     "text": [
      "Done  12.045 %, average grains/point   2.01, 0.004 /s/point, total 40.5 /s\r"
     ]
    },
    {
     "name": "stdout",
     "output_type": "stream",
     "text": [
      "Done  12.092 %, average grains/point   2.01, 0.004 /s/point, total 40.6 /s\r"
     ]
    },
    {
     "name": "stdout",
     "output_type": "stream",
     "text": [
      "Done  12.140 %, average grains/point   2.01, 0.004 /s/point, total 40.6 /s\r"
     ]
    },
    {
     "name": "stdout",
     "output_type": "stream",
     "text": [
      "Done  12.187 %, average grains/point   2.01, 0.004 /s/point, total 40.7 /s\r"
     ]
    },
    {
     "name": "stdout",
     "output_type": "stream",
     "text": [
      "Done  12.234 %, average grains/point   2.01, 0.004 /s/point, total 40.8 /s\r"
     ]
    },
    {
     "name": "stdout",
     "output_type": "stream",
     "text": [
      "Done  12.281 %, average grains/point   2.01, 0.004 /s/point, total 40.8 /s\r"
     ]
    },
    {
     "name": "stdout",
     "output_type": "stream",
     "text": [
      "Done  12.329 %, average grains/point   2.01, 0.004 /s/point, total 40.9 /s\r"
     ]
    },
    {
     "name": "stdout",
     "output_type": "stream",
     "text": [
      "Done  12.376 %, average grains/point   2.01, 0.004 /s/point, total 41.0 /s\r"
     ]
    },
    {
     "name": "stdout",
     "output_type": "stream",
     "text": [
      "Done  12.423 %, average grains/point   2.01, 0.004 /s/point, total 41.1 /s\r"
     ]
    },
    {
     "name": "stdout",
     "output_type": "stream",
     "text": [
      "Done  12.470 %, average grains/point   2.01, 0.004 /s/point, total 41.1 /s\r"
     ]
    },
    {
     "name": "stdout",
     "output_type": "stream",
     "text": [
      "Done  12.518 %, average grains/point   2.01, 0.004 /s/point, total 41.2 /s\r"
     ]
    },
    {
     "name": "stdout",
     "output_type": "stream",
     "text": [
      "Done  12.565 %, average grains/point   2.01, 0.004 /s/point, total 41.3 /s\r"
     ]
    },
    {
     "name": "stdout",
     "output_type": "stream",
     "text": [
      "Done  12.612 %, average grains/point   2.01, 0.004 /s/point, total 41.3 /s\r"
     ]
    },
    {
     "name": "stdout",
     "output_type": "stream",
     "text": [
      "Done  12.659 %, average grains/point   2.01, 0.004 /s/point, total 41.4 /s\r"
     ]
    },
    {
     "name": "stdout",
     "output_type": "stream",
     "text": [
      "Done  12.707 %, average grains/point   2.01, 0.004 /s/point, total 41.5 /s\r"
     ]
    },
    {
     "name": "stdout",
     "output_type": "stream",
     "text": [
      "Done  12.754 %, average grains/point   2.01, 0.004 /s/point, total 41.5 /s\r"
     ]
    },
    {
     "name": "stdout",
     "output_type": "stream",
     "text": [
      "Done  12.801 %, average grains/point   2.01, 0.004 /s/point, total 41.6 /s\r"
     ]
    },
    {
     "name": "stdout",
     "output_type": "stream",
     "text": [
      "Done  12.848 %, average grains/point   2.01, 0.004 /s/point, total 41.7 /s\r"
     ]
    },
    {
     "name": "stdout",
     "output_type": "stream",
     "text": [
      "Done  12.895 %, average grains/point   2.01, 0.004 /s/point, total 41.8 /s\r"
     ]
    },
    {
     "name": "stdout",
     "output_type": "stream",
     "text": [
      "Done  12.943 %, average grains/point   2.01, 0.004 /s/point, total 41.8 /s\r"
     ]
    },
    {
     "name": "stdout",
     "output_type": "stream",
     "text": [
      "Done  12.990 %, average grains/point   2.01, 0.004 /s/point, total 41.9 /s\r"
     ]
    },
    {
     "name": "stdout",
     "output_type": "stream",
     "text": [
      "Done  13.037 %, average grains/point   2.01, 0.004 /s/point, total 42.0 /s\r"
     ]
    },
    {
     "name": "stdout",
     "output_type": "stream",
     "text": [
      "Done  13.084 %, average grains/point   2.01, 0.004 /s/point, total 42.0 /s\r"
     ]
    },
    {
     "name": "stdout",
     "output_type": "stream",
     "text": [
      "Done  13.132 %, average grains/point   2.01, 0.004 /s/point, total 42.1 /s\r"
     ]
    },
    {
     "name": "stdout",
     "output_type": "stream",
     "text": [
      "Done  13.179 %, average grains/point   2.01, 0.004 /s/point, total 42.2 /s\r"
     ]
    },
    {
     "name": "stdout",
     "output_type": "stream",
     "text": [
      "Done  13.226 %, average grains/point   2.01, 0.004 /s/point, total 42.3 /s\r"
     ]
    },
    {
     "name": "stdout",
     "output_type": "stream",
     "text": [
      "Done  13.273 %, average grains/point   2.01, 0.004 /s/point, total 42.3 /s\r"
     ]
    },
    {
     "name": "stdout",
     "output_type": "stream",
     "text": [
      "Done  13.321 %, average grains/point   2.01, 0.004 /s/point, total 42.4 /s\r"
     ]
    },
    {
     "name": "stdout",
     "output_type": "stream",
     "text": [
      "Done  13.368 %, average grains/point   2.01, 0.004 /s/point, total 42.5 /s\r"
     ]
    },
    {
     "name": "stdout",
     "output_type": "stream",
     "text": [
      "Done  13.415 %, average grains/point   2.01, 0.004 /s/point, total 42.5 /s\r"
     ]
    },
    {
     "name": "stdout",
     "output_type": "stream",
     "text": [
      "Done  13.462 %, average grains/point   2.01, 0.004 /s/point, total 42.6 /s\r"
     ]
    },
    {
     "name": "stdout",
     "output_type": "stream",
     "text": [
      "Done  13.510 %, average grains/point   2.01, 0.004 /s/point, total 42.7 /s\r"
     ]
    },
    {
     "name": "stdout",
     "output_type": "stream",
     "text": [
      "Done  13.557 %, average grains/point   2.01, 0.004 /s/point, total 42.7 /s\r"
     ]
    },
    {
     "name": "stdout",
     "output_type": "stream",
     "text": [
      "Done  13.604 %, average grains/point   2.01, 0.004 /s/point, total 42.8 /s\r"
     ]
    },
    {
     "name": "stdout",
     "output_type": "stream",
     "text": [
      "Done  13.651 %, average grains/point   2.01, 0.004 /s/point, total 42.9 /s\r"
     ]
    },
    {
     "name": "stdout",
     "output_type": "stream",
     "text": [
      "Done  13.698 %, average grains/point   2.00, 0.004 /s/point, total 42.9 /s\r"
     ]
    },
    {
     "name": "stdout",
     "output_type": "stream",
     "text": [
      "Done  13.746 %, average grains/point   2.00, 0.004 /s/point, total 43.0 /s\r"
     ]
    },
    {
     "name": "stdout",
     "output_type": "stream",
     "text": [
      "Done  13.793 %, average grains/point   2.01, 0.004 /s/point, total 43.1 /s\r"
     ]
    },
    {
     "name": "stdout",
     "output_type": "stream",
     "text": [
      "Done  13.840 %, average grains/point   2.01, 0.004 /s/point, total 43.2 /s\r"
     ]
    },
    {
     "name": "stdout",
     "output_type": "stream",
     "text": [
      "Done  13.887 %, average grains/point   2.01, 0.004 /s/point, total 43.2 /s\r"
     ]
    },
    {
     "name": "stdout",
     "output_type": "stream",
     "text": [
      "Done  13.935 %, average grains/point   2.01, 0.004 /s/point, total 43.3 /s\r"
     ]
    },
    {
     "name": "stdout",
     "output_type": "stream",
     "text": [
      "Done  13.982 %, average grains/point   2.01, 0.004 /s/point, total 43.4 /s\r"
     ]
    },
    {
     "name": "stdout",
     "output_type": "stream",
     "text": [
      "Done  14.029 %, average grains/point   2.01, 0.004 /s/point, total 43.4 /s\r"
     ]
    },
    {
     "name": "stdout",
     "output_type": "stream",
     "text": [
      "Done  14.076 %, average grains/point   2.01, 0.004 /s/point, total 43.5 /s\r"
     ]
    },
    {
     "name": "stdout",
     "output_type": "stream",
     "text": [
      "Done  14.124 %, average grains/point   2.01, 0.004 /s/point, total 43.6 /s\r"
     ]
    },
    {
     "name": "stdout",
     "output_type": "stream",
     "text": [
      "Done  14.171 %, average grains/point   2.01, 0.004 /s/point, total 43.7 /s\r"
     ]
    },
    {
     "name": "stdout",
     "output_type": "stream",
     "text": [
      "Done  14.218 %, average grains/point   2.01, 0.004 /s/point, total 43.7 /s\r"
     ]
    },
    {
     "name": "stdout",
     "output_type": "stream",
     "text": [
      "Done  14.265 %, average grains/point   2.01, 0.004 /s/point, total 43.8 /s\r"
     ]
    },
    {
     "name": "stdout",
     "output_type": "stream",
     "text": [
      "Done  14.313 %, average grains/point   2.01, 0.004 /s/point, total 43.9 /s\r"
     ]
    },
    {
     "name": "stdout",
     "output_type": "stream",
     "text": [
      "Done  14.360 %, average grains/point   2.01, 0.004 /s/point, total 43.9 /s\r"
     ]
    },
    {
     "name": "stdout",
     "output_type": "stream",
     "text": [
      "Done  14.407 %, average grains/point   2.01, 0.004 /s/point, total 44.0 /s\r"
     ]
    },
    {
     "name": "stdout",
     "output_type": "stream",
     "text": [
      "Done  14.454 %, average grains/point   2.01, 0.004 /s/point, total 44.1 /s\r"
     ]
    },
    {
     "name": "stdout",
     "output_type": "stream",
     "text": [
      "Done  14.501 %, average grains/point   2.01, 0.004 /s/point, total 44.2 /s\r"
     ]
    },
    {
     "name": "stdout",
     "output_type": "stream",
     "text": [
      "Done  14.549 %, average grains/point   2.01, 0.004 /s/point, total 44.2 /s\r"
     ]
    },
    {
     "name": "stdout",
     "output_type": "stream",
     "text": [
      "Done  14.596 %, average grains/point   2.01, 0.004 /s/point, total 44.3 /s\r"
     ]
    },
    {
     "name": "stdout",
     "output_type": "stream",
     "text": [
      "Done  14.643 %, average grains/point   2.01, 0.004 /s/point, total 44.4 /s\r"
     ]
    },
    {
     "name": "stdout",
     "output_type": "stream",
     "text": [
      "Done  14.690 %, average grains/point   2.01, 0.004 /s/point, total 44.4 /s\r"
     ]
    },
    {
     "name": "stdout",
     "output_type": "stream",
     "text": [
      "Done  14.738 %, average grains/point   2.01, 0.004 /s/point, total 44.5 /s\r"
     ]
    },
    {
     "name": "stdout",
     "output_type": "stream",
     "text": [
      "Done  14.785 %, average grains/point   2.01, 0.004 /s/point, total 44.6 /s\r"
     ]
    },
    {
     "name": "stdout",
     "output_type": "stream",
     "text": [
      "Done  14.832 %, average grains/point   2.01, 0.004 /s/point, total 44.6 /s\r"
     ]
    },
    {
     "name": "stdout",
     "output_type": "stream",
     "text": [
      "Done  14.879 %, average grains/point   2.01, 0.004 /s/point, total 44.7 /s\r"
     ]
    },
    {
     "name": "stdout",
     "output_type": "stream",
     "text": [
      "Done  14.927 %, average grains/point   2.01, 0.004 /s/point, total 44.8 /s\r"
     ]
    },
    {
     "name": "stdout",
     "output_type": "stream",
     "text": [
      "Done  14.974 %, average grains/point   2.01, 0.004 /s/point, total 44.8 /s\r"
     ]
    },
    {
     "name": "stdout",
     "output_type": "stream",
     "text": [
      "Done  15.021 %, average grains/point   2.01, 0.004 /s/point, total 44.9 /s\r"
     ]
    },
    {
     "name": "stdout",
     "output_type": "stream",
     "text": [
      "Done  15.068 %, average grains/point   2.01, 0.004 /s/point, total 45.0 /s\r"
     ]
    },
    {
     "name": "stdout",
     "output_type": "stream",
     "text": [
      "Done  15.116 %, average grains/point   2.01, 0.004 /s/point, total 45.1 /s\r"
     ]
    },
    {
     "name": "stdout",
     "output_type": "stream",
     "text": [
      "Done  15.163 %, average grains/point   2.01, 0.004 /s/point, total 45.1 /s\r"
     ]
    },
    {
     "name": "stdout",
     "output_type": "stream",
     "text": [
      "Done  15.210 %, average grains/point   2.01, 0.004 /s/point, total 45.2 /s\r"
     ]
    },
    {
     "name": "stdout",
     "output_type": "stream",
     "text": [
      "Done  15.257 %, average grains/point   2.01, 0.004 /s/point, total 45.3 /s\r"
     ]
    },
    {
     "name": "stdout",
     "output_type": "stream",
     "text": [
      "Done  15.304 %, average grains/point   2.01, 0.003 /s/point, total 45.3 /s\r"
     ]
    },
    {
     "name": "stdout",
     "output_type": "stream",
     "text": [
      "Done  15.352 %, average grains/point   2.02, 0.003 /s/point, total 45.4 /s\r"
     ]
    },
    {
     "name": "stdout",
     "output_type": "stream",
     "text": [
      "Done  15.399 %, average grains/point   2.02, 0.003 /s/point, total 45.5 /s\r"
     ]
    },
    {
     "name": "stdout",
     "output_type": "stream",
     "text": [
      "Done  15.446 %, average grains/point   2.01, 0.003 /s/point, total 45.5 /s\r"
     ]
    },
    {
     "name": "stdout",
     "output_type": "stream",
     "text": [
      "Done  15.493 %, average grains/point   2.01, 0.003 /s/point, total 45.6 /s\r"
     ]
    },
    {
     "name": "stdout",
     "output_type": "stream",
     "text": [
      "Done  15.541 %, average grains/point   2.02, 0.003 /s/point, total 45.7 /s\r"
     ]
    },
    {
     "name": "stdout",
     "output_type": "stream",
     "text": [
      "Done  15.588 %, average grains/point   2.02, 0.003 /s/point, total 45.8 /s\r"
     ]
    },
    {
     "name": "stdout",
     "output_type": "stream",
     "text": [
      "Done  15.635 %, average grains/point   2.02, 0.003 /s/point, total 45.8 /s\r"
     ]
    },
    {
     "name": "stdout",
     "output_type": "stream",
     "text": [
      "Done  15.682 %, average grains/point   2.02, 0.003 /s/point, total 45.9 /s\r"
     ]
    },
    {
     "name": "stdout",
     "output_type": "stream",
     "text": [
      "Done  15.730 %, average grains/point   2.02, 0.003 /s/point, total 46.0 /s\r"
     ]
    },
    {
     "name": "stdout",
     "output_type": "stream",
     "text": [
      "Done  15.777 %, average grains/point   2.02, 0.003 /s/point, total 46.0 /s\r"
     ]
    },
    {
     "name": "stdout",
     "output_type": "stream",
     "text": [
      "Done  15.824 %, average grains/point   2.02, 0.003 /s/point, total 46.1 /s\r"
     ]
    },
    {
     "name": "stdout",
     "output_type": "stream",
     "text": [
      "Done  15.871 %, average grains/point   2.02, 0.003 /s/point, total 46.2 /s\r"
     ]
    },
    {
     "name": "stdout",
     "output_type": "stream",
     "text": [
      "Done  15.919 %, average grains/point   2.02, 0.003 /s/point, total 46.2 /s\r"
     ]
    },
    {
     "name": "stdout",
     "output_type": "stream",
     "text": [
      "Done  15.966 %, average grains/point   2.02, 0.003 /s/point, total 46.3 /s\r"
     ]
    },
    {
     "name": "stdout",
     "output_type": "stream",
     "text": [
      "Done  16.013 %, average grains/point   2.02, 0.003 /s/point, total 46.4 /s\r"
     ]
    },
    {
     "name": "stdout",
     "output_type": "stream",
     "text": [
      "Done  16.060 %, average grains/point   2.02, 0.003 /s/point, total 46.4 /s\r"
     ]
    },
    {
     "name": "stdout",
     "output_type": "stream",
     "text": [
      "Done  16.108 %, average grains/point   2.02, 0.003 /s/point, total 46.5 /s\r"
     ]
    },
    {
     "name": "stdout",
     "output_type": "stream",
     "text": [
      "Done  16.155 %, average grains/point   2.01, 0.003 /s/point, total 46.6 /s\r"
     ]
    },
    {
     "name": "stdout",
     "output_type": "stream",
     "text": [
      "Done  16.202 %, average grains/point   2.01, 0.003 /s/point, total 46.7 /s\r"
     ]
    },
    {
     "name": "stdout",
     "output_type": "stream",
     "text": [
      "Done  16.249 %, average grains/point   2.01, 0.003 /s/point, total 46.7 /s\r"
     ]
    },
    {
     "name": "stdout",
     "output_type": "stream",
     "text": [
      "Done  16.296 %, average grains/point   2.01, 0.003 /s/point, total 46.8 /s\r"
     ]
    },
    {
     "name": "stdout",
     "output_type": "stream",
     "text": [
      "Done  16.344 %, average grains/point   2.01, 0.003 /s/point, total 46.9 /s\r"
     ]
    },
    {
     "name": "stdout",
     "output_type": "stream",
     "text": [
      "Done  16.391 %, average grains/point   2.01, 0.003 /s/point, total 46.9 /s\r"
     ]
    },
    {
     "name": "stdout",
     "output_type": "stream",
     "text": [
      "Done  16.438 %, average grains/point   2.01, 0.003 /s/point, total 47.0 /s\r"
     ]
    },
    {
     "name": "stdout",
     "output_type": "stream",
     "text": [
      "Done  16.485 %, average grains/point   2.01, 0.003 /s/point, total 47.1 /s\r"
     ]
    },
    {
     "name": "stdout",
     "output_type": "stream",
     "text": [
      "Done  16.533 %, average grains/point   2.01, 0.003 /s/point, total 47.1 /s\r"
     ]
    },
    {
     "name": "stdout",
     "output_type": "stream",
     "text": [
      "Done  16.580 %, average grains/point   2.01, 0.003 /s/point, total 47.2 /s\r"
     ]
    },
    {
     "name": "stdout",
     "output_type": "stream",
     "text": [
      "Done  16.627 %, average grains/point   2.01, 0.003 /s/point, total 47.3 /s\r"
     ]
    },
    {
     "name": "stdout",
     "output_type": "stream",
     "text": [
      "Done  16.674 %, average grains/point   2.01, 0.003 /s/point, total 47.3 /s\r"
     ]
    },
    {
     "name": "stdout",
     "output_type": "stream",
     "text": [
      "Done  16.722 %, average grains/point   2.01, 0.003 /s/point, total 47.4 /s\r"
     ]
    },
    {
     "name": "stdout",
     "output_type": "stream",
     "text": [
      "Done  16.769 %, average grains/point   2.01, 0.003 /s/point, total 47.5 /s\r"
     ]
    },
    {
     "name": "stdout",
     "output_type": "stream",
     "text": [
      "Done  16.816 %, average grains/point   2.01, 0.003 /s/point, total 47.6 /s\r"
     ]
    },
    {
     "name": "stdout",
     "output_type": "stream",
     "text": [
      "Done  16.863 %, average grains/point   2.01, 0.003 /s/point, total 47.6 /s\r"
     ]
    },
    {
     "name": "stdout",
     "output_type": "stream",
     "text": [
      "Done  16.911 %, average grains/point   2.01, 0.003 /s/point, total 47.7 /s\r"
     ]
    },
    {
     "name": "stdout",
     "output_type": "stream",
     "text": [
      "Done  16.958 %, average grains/point   2.01, 0.003 /s/point, total 47.8 /s\r"
     ]
    },
    {
     "name": "stdout",
     "output_type": "stream",
     "text": [
      "Done  17.005 %, average grains/point   2.01, 0.003 /s/point, total 47.8 /s\r"
     ]
    },
    {
     "name": "stdout",
     "output_type": "stream",
     "text": [
      "Done  17.052 %, average grains/point   2.01, 0.003 /s/point, total 47.9 /s\r"
     ]
    },
    {
     "name": "stdout",
     "output_type": "stream",
     "text": [
      "Done  17.099 %, average grains/point   2.01, 0.003 /s/point, total 48.0 /s\r"
     ]
    },
    {
     "name": "stdout",
     "output_type": "stream",
     "text": [
      "Done  17.147 %, average grains/point   2.01, 0.003 /s/point, total 48.0 /s\r"
     ]
    },
    {
     "name": "stdout",
     "output_type": "stream",
     "text": [
      "Done  17.194 %, average grains/point   2.01, 0.003 /s/point, total 48.1 /s\r"
     ]
    },
    {
     "name": "stdout",
     "output_type": "stream",
     "text": [
      "Done  17.241 %, average grains/point   2.01, 0.003 /s/point, total 48.2 /s\r"
     ]
    },
    {
     "name": "stdout",
     "output_type": "stream",
     "text": [
      "Done  17.288 %, average grains/point   2.01, 0.003 /s/point, total 48.2 /s\r"
     ]
    },
    {
     "name": "stdout",
     "output_type": "stream",
     "text": [
      "Done  17.336 %, average grains/point   2.01, 0.003 /s/point, total 48.3 /s\r"
     ]
    },
    {
     "name": "stdout",
     "output_type": "stream",
     "text": [
      "Done  17.383 %, average grains/point   2.01, 0.003 /s/point, total 48.4 /s\r"
     ]
    },
    {
     "name": "stdout",
     "output_type": "stream",
     "text": [
      "Done  17.430 %, average grains/point   2.01, 0.003 /s/point, total 48.4 /s\r"
     ]
    },
    {
     "name": "stdout",
     "output_type": "stream",
     "text": [
      "Done  17.477 %, average grains/point   2.01, 0.003 /s/point, total 48.5 /s\r"
     ]
    },
    {
     "name": "stdout",
     "output_type": "stream",
     "text": [
      "Done  17.525 %, average grains/point   2.01, 0.003 /s/point, total 48.6 /s\r"
     ]
    },
    {
     "name": "stdout",
     "output_type": "stream",
     "text": [
      "Done  17.572 %, average grains/point   2.01, 0.003 /s/point, total 48.7 /s\r"
     ]
    },
    {
     "name": "stdout",
     "output_type": "stream",
     "text": [
      "Done  17.619 %, average grains/point   2.01, 0.003 /s/point, total 48.7 /s\r"
     ]
    },
    {
     "name": "stdout",
     "output_type": "stream",
     "text": [
      "Done  17.666 %, average grains/point   2.01, 0.003 /s/point, total 48.8 /s\r"
     ]
    },
    {
     "name": "stdout",
     "output_type": "stream",
     "text": [
      "Done  17.714 %, average grains/point   2.01, 0.003 /s/point, total 48.9 /s\r"
     ]
    },
    {
     "name": "stdout",
     "output_type": "stream",
     "text": [
      "Done  17.761 %, average grains/point   2.01, 0.003 /s/point, total 48.9 /s\r"
     ]
    },
    {
     "name": "stdout",
     "output_type": "stream",
     "text": [
      "Done  17.808 %, average grains/point   2.01, 0.003 /s/point, total 49.0 /s\r"
     ]
    },
    {
     "name": "stdout",
     "output_type": "stream",
     "text": [
      "Done  17.855 %, average grains/point   2.01, 0.003 /s/point, total 49.1 /s\r"
     ]
    },
    {
     "name": "stdout",
     "output_type": "stream",
     "text": [
      "Done  17.902 %, average grains/point   2.01, 0.003 /s/point, total 49.1 /s\r"
     ]
    },
    {
     "name": "stdout",
     "output_type": "stream",
     "text": [
      "Done  17.950 %, average grains/point   2.01, 0.003 /s/point, total 49.2 /s\r"
     ]
    },
    {
     "name": "stdout",
     "output_type": "stream",
     "text": [
      "Done  17.997 %, average grains/point   2.01, 0.003 /s/point, total 49.3 /s\r"
     ]
    },
    {
     "name": "stdout",
     "output_type": "stream",
     "text": [
      "Done  18.044 %, average grains/point   2.01, 0.003 /s/point, total 49.3 /s\r"
     ]
    },
    {
     "name": "stdout",
     "output_type": "stream",
     "text": [
      "Done  18.091 %, average grains/point   2.01, 0.003 /s/point, total 49.4 /s\r"
     ]
    },
    {
     "name": "stdout",
     "output_type": "stream",
     "text": [
      "Done  18.139 %, average grains/point   2.01, 0.003 /s/point, total 49.5 /s\r"
     ]
    },
    {
     "name": "stdout",
     "output_type": "stream",
     "text": [
      "Done  18.186 %, average grains/point   2.01, 0.003 /s/point, total 49.6 /s\r"
     ]
    },
    {
     "name": "stdout",
     "output_type": "stream",
     "text": [
      "Done  18.233 %, average grains/point   2.01, 0.003 /s/point, total 49.6 /s\r"
     ]
    },
    {
     "name": "stdout",
     "output_type": "stream",
     "text": [
      "Done  18.280 %, average grains/point   2.01, 0.003 /s/point, total 49.7 /s\r"
     ]
    },
    {
     "name": "stdout",
     "output_type": "stream",
     "text": [
      "Done  18.328 %, average grains/point   2.01, 0.003 /s/point, total 49.8 /s\r"
     ]
    },
    {
     "name": "stdout",
     "output_type": "stream",
     "text": [
      "Done  18.375 %, average grains/point   2.01, 0.003 /s/point, total 49.9 /s\r"
     ]
    },
    {
     "name": "stdout",
     "output_type": "stream",
     "text": [
      "Done  18.422 %, average grains/point   2.01, 0.003 /s/point, total 49.9 /s\r"
     ]
    },
    {
     "name": "stdout",
     "output_type": "stream",
     "text": [
      "Done  18.469 %, average grains/point   2.01, 0.003 /s/point, total 50.0 /s\r"
     ]
    },
    {
     "name": "stdout",
     "output_type": "stream",
     "text": [
      "Done  18.517 %, average grains/point   2.01, 0.003 /s/point, total 50.1 /s\r"
     ]
    },
    {
     "name": "stdout",
     "output_type": "stream",
     "text": [
      "Done  18.564 %, average grains/point   2.01, 0.003 /s/point, total 50.1 /s\r"
     ]
    },
    {
     "name": "stdout",
     "output_type": "stream",
     "text": [
      "Done  18.611 %, average grains/point   2.01, 0.003 /s/point, total 50.2 /s\r"
     ]
    },
    {
     "name": "stdout",
     "output_type": "stream",
     "text": [
      "Done  18.658 %, average grains/point   2.01, 0.003 /s/point, total 50.3 /s\r"
     ]
    },
    {
     "name": "stdout",
     "output_type": "stream",
     "text": [
      "Done  18.705 %, average grains/point   2.01, 0.003 /s/point, total 50.3 /s\r"
     ]
    },
    {
     "name": "stdout",
     "output_type": "stream",
     "text": [
      "Done  18.753 %, average grains/point   2.01, 0.003 /s/point, total 50.4 /s\r"
     ]
    },
    {
     "name": "stdout",
     "output_type": "stream",
     "text": [
      "Done  18.800 %, average grains/point   2.01, 0.003 /s/point, total 50.5 /s\r"
     ]
    },
    {
     "name": "stdout",
     "output_type": "stream",
     "text": [
      "Done  18.847 %, average grains/point   2.01, 0.003 /s/point, total 50.6 /s\r"
     ]
    },
    {
     "name": "stdout",
     "output_type": "stream",
     "text": [
      "Done  18.894 %, average grains/point   2.01, 0.003 /s/point, total 50.6 /s\r"
     ]
    },
    {
     "name": "stdout",
     "output_type": "stream",
     "text": [
      "Done  18.942 %, average grains/point   2.01, 0.003 /s/point, total 50.7 /s\r"
     ]
    },
    {
     "name": "stdout",
     "output_type": "stream",
     "text": [
      "Done  18.989 %, average grains/point   2.01, 0.003 /s/point, total 50.8 /s\r"
     ]
    },
    {
     "name": "stdout",
     "output_type": "stream",
     "text": [
      "Done  19.036 %, average grains/point   2.01, 0.003 /s/point, total 50.9 /s\r"
     ]
    },
    {
     "name": "stdout",
     "output_type": "stream",
     "text": [
      "Done  19.083 %, average grains/point   2.01, 0.003 /s/point, total 50.9 /s\r"
     ]
    },
    {
     "name": "stdout",
     "output_type": "stream",
     "text": [
      "Done  19.131 %, average grains/point   2.01, 0.003 /s/point, total 51.0 /s\r"
     ]
    },
    {
     "name": "stdout",
     "output_type": "stream",
     "text": [
      "Done  19.178 %, average grains/point   2.01, 0.003 /s/point, total 51.1 /s\r"
     ]
    },
    {
     "name": "stdout",
     "output_type": "stream",
     "text": [
      "Done  19.225 %, average grains/point   2.01, 0.003 /s/point, total 51.1 /s\r"
     ]
    },
    {
     "name": "stdout",
     "output_type": "stream",
     "text": [
      "Done  19.272 %, average grains/point   2.01, 0.003 /s/point, total 51.3 /s\r"
     ]
    },
    {
     "name": "stdout",
     "output_type": "stream",
     "text": [
      "Done  19.320 %, average grains/point   2.01, 0.003 /s/point, total 51.3 /s\r"
     ]
    },
    {
     "name": "stdout",
     "output_type": "stream",
     "text": [
      "Done  19.367 %, average grains/point   2.01, 0.003 /s/point, total 51.3 /s\r"
     ]
    },
    {
     "name": "stdout",
     "output_type": "stream",
     "text": [
      "Done  19.414 %, average grains/point   2.01, 0.003 /s/point, total 51.4 /s\r"
     ]
    },
    {
     "name": "stdout",
     "output_type": "stream",
     "text": [
      "Done  19.461 %, average grains/point   2.01, 0.003 /s/point, total 51.5 /s\r"
     ]
    },
    {
     "name": "stdout",
     "output_type": "stream",
     "text": [
      "Done  19.509 %, average grains/point   2.01, 0.003 /s/point, total 51.6 /s\r"
     ]
    },
    {
     "name": "stdout",
     "output_type": "stream",
     "text": [
      "Done  19.556 %, average grains/point   2.01, 0.003 /s/point, total 51.6 /s\r"
     ]
    },
    {
     "name": "stdout",
     "output_type": "stream",
     "text": [
      "Done  19.603 %, average grains/point   2.01, 0.003 /s/point, total 51.7 /s\r"
     ]
    },
    {
     "name": "stdout",
     "output_type": "stream",
     "text": [
      "Done  19.650 %, average grains/point   2.01, 0.003 /s/point, total 51.8 /s\r"
     ]
    },
    {
     "name": "stdout",
     "output_type": "stream",
     "text": [
      "Done  19.697 %, average grains/point   2.01, 0.003 /s/point, total 51.8 /s\r"
     ]
    },
    {
     "name": "stdout",
     "output_type": "stream",
     "text": [
      "Done  19.745 %, average grains/point   2.01, 0.003 /s/point, total 51.9 /s\r"
     ]
    },
    {
     "name": "stdout",
     "output_type": "stream",
     "text": [
      "Done  19.792 %, average grains/point   2.01, 0.003 /s/point, total 52.0 /s\r"
     ]
    },
    {
     "name": "stdout",
     "output_type": "stream",
     "text": [
      "Done  19.839 %, average grains/point   2.01, 0.003 /s/point, total 52.0 /s\r"
     ]
    },
    {
     "name": "stdout",
     "output_type": "stream",
     "text": [
      "Done  19.886 %, average grains/point   2.01, 0.003 /s/point, total 52.1 /s\r"
     ]
    },
    {
     "name": "stdout",
     "output_type": "stream",
     "text": [
      "Done  19.934 %, average grains/point   2.01, 0.003 /s/point, total 52.2 /s\r"
     ]
    },
    {
     "name": "stdout",
     "output_type": "stream",
     "text": [
      "Done  19.981 %, average grains/point   2.01, 0.003 /s/point, total 52.3 /s\r"
     ]
    },
    {
     "name": "stdout",
     "output_type": "stream",
     "text": [
      "Done  20.028 %, average grains/point   2.01, 0.003 /s/point, total 52.3 /s\r"
     ]
    },
    {
     "name": "stdout",
     "output_type": "stream",
     "text": [
      "Done  20.075 %, average grains/point   2.01, 0.003 /s/point, total 52.4 /s\r"
     ]
    },
    {
     "name": "stdout",
     "output_type": "stream",
     "text": [
      "Done  20.123 %, average grains/point   2.01, 0.003 /s/point, total 52.5 /s\r"
     ]
    },
    {
     "name": "stdout",
     "output_type": "stream",
     "text": [
      "Done  20.170 %, average grains/point   2.01, 0.003 /s/point, total 52.6 /s\r"
     ]
    },
    {
     "name": "stdout",
     "output_type": "stream",
     "text": [
      "Done  20.217 %, average grains/point   2.01, 0.003 /s/point, total 52.6 /s\r"
     ]
    },
    {
     "name": "stdout",
     "output_type": "stream",
     "text": [
      "Done  20.264 %, average grains/point   2.01, 0.003 /s/point, total 52.7 /s\r"
     ]
    },
    {
     "name": "stdout",
     "output_type": "stream",
     "text": [
      "Done  20.312 %, average grains/point   2.01, 0.003 /s/point, total 52.8 /s\r"
     ]
    },
    {
     "name": "stdout",
     "output_type": "stream",
     "text": [
      "Done  20.359 %, average grains/point   2.01, 0.003 /s/point, total 52.8 /s\r"
     ]
    },
    {
     "name": "stdout",
     "output_type": "stream",
     "text": [
      "Done  20.406 %, average grains/point   2.01, 0.003 /s/point, total 52.9 /s\r"
     ]
    },
    {
     "name": "stdout",
     "output_type": "stream",
     "text": [
      "Done  20.453 %, average grains/point   2.01, 0.003 /s/point, total 53.0 /s\r"
     ]
    },
    {
     "name": "stdout",
     "output_type": "stream",
     "text": [
      "Done  20.500 %, average grains/point   2.01, 0.003 /s/point, total 53.0 /s\r"
     ]
    },
    {
     "name": "stdout",
     "output_type": "stream",
     "text": [
      "Done  20.548 %, average grains/point   2.01, 0.003 /s/point, total 53.1 /s\r"
     ]
    },
    {
     "name": "stdout",
     "output_type": "stream",
     "text": [
      "Done  20.595 %, average grains/point   2.01, 0.003 /s/point, total 53.2 /s\r"
     ]
    },
    {
     "name": "stdout",
     "output_type": "stream",
     "text": [
      "Done  20.642 %, average grains/point   2.01, 0.003 /s/point, total 53.3 /s\r"
     ]
    },
    {
     "name": "stdout",
     "output_type": "stream",
     "text": [
      "Done  20.689 %, average grains/point   2.01, 0.003 /s/point, total 53.3 /s\r"
     ]
    },
    {
     "name": "stdout",
     "output_type": "stream",
     "text": [
      "Done  20.737 %, average grains/point   2.01, 0.003 /s/point, total 53.4 /s\r"
     ]
    },
    {
     "name": "stdout",
     "output_type": "stream",
     "text": [
      "Done  20.784 %, average grains/point   2.01, 0.003 /s/point, total 53.5 /s\r"
     ]
    },
    {
     "name": "stdout",
     "output_type": "stream",
     "text": [
      "Done  20.831 %, average grains/point   2.01, 0.003 /s/point, total 53.5 /s\r"
     ]
    },
    {
     "name": "stdout",
     "output_type": "stream",
     "text": [
      "Done  20.878 %, average grains/point   2.01, 0.003 /s/point, total 53.6 /s\r"
     ]
    },
    {
     "name": "stdout",
     "output_type": "stream",
     "text": [
      "Done  20.926 %, average grains/point   2.01, 0.003 /s/point, total 53.7 /s\r"
     ]
    },
    {
     "name": "stdout",
     "output_type": "stream",
     "text": [
      "Done  20.973 %, average grains/point   2.01, 0.003 /s/point, total 53.8 /s\r"
     ]
    },
    {
     "name": "stdout",
     "output_type": "stream",
     "text": [
      "Done  21.020 %, average grains/point   2.01, 0.003 /s/point, total 53.8 /s\r"
     ]
    },
    {
     "name": "stdout",
     "output_type": "stream",
     "text": [
      "Done  21.067 %, average grains/point   2.01, 0.003 /s/point, total 53.9 /s\r"
     ]
    },
    {
     "name": "stdout",
     "output_type": "stream",
     "text": [
      "Done  21.115 %, average grains/point   2.01, 0.003 /s/point, total 54.0 /s\r"
     ]
    },
    {
     "name": "stdout",
     "output_type": "stream",
     "text": [
      "Done  21.162 %, average grains/point   2.01, 0.003 /s/point, total 54.0 /s\r"
     ]
    },
    {
     "name": "stdout",
     "output_type": "stream",
     "text": [
      "Done  21.209 %, average grains/point   2.01, 0.003 /s/point, total 54.1 /s\r"
     ]
    },
    {
     "name": "stdout",
     "output_type": "stream",
     "text": [
      "Done  21.256 %, average grains/point   2.01, 0.003 /s/point, total 54.2 /s\r"
     ]
    },
    {
     "name": "stdout",
     "output_type": "stream",
     "text": [
      "Done  21.303 %, average grains/point   2.01, 0.003 /s/point, total 54.2 /s\r"
     ]
    },
    {
     "name": "stdout",
     "output_type": "stream",
     "text": [
      "Done  21.351 %, average grains/point   2.01, 0.003 /s/point, total 54.3 /s\r"
     ]
    },
    {
     "name": "stdout",
     "output_type": "stream",
     "text": [
      "Done  21.398 %, average grains/point   2.01, 0.003 /s/point, total 54.4 /s\r"
     ]
    },
    {
     "name": "stdout",
     "output_type": "stream",
     "text": [
      "Done  21.445 %, average grains/point   2.01, 0.003 /s/point, total 54.4 /s\r"
     ]
    },
    {
     "name": "stdout",
     "output_type": "stream",
     "text": [
      "Done  21.492 %, average grains/point   2.01, 0.003 /s/point, total 54.5 /s\r"
     ]
    },
    {
     "name": "stdout",
     "output_type": "stream",
     "text": [
      "Done  21.540 %, average grains/point   2.01, 0.003 /s/point, total 54.6 /s\r"
     ]
    },
    {
     "name": "stdout",
     "output_type": "stream",
     "text": [
      "Done  21.587 %, average grains/point   2.01, 0.003 /s/point, total 54.6 /s\r"
     ]
    },
    {
     "name": "stdout",
     "output_type": "stream",
     "text": [
      "Done  21.634 %, average grains/point   2.01, 0.003 /s/point, total 54.7 /s\r"
     ]
    },
    {
     "name": "stdout",
     "output_type": "stream",
     "text": [
      "Done  21.681 %, average grains/point   2.01, 0.003 /s/point, total 54.8 /s\r"
     ]
    },
    {
     "name": "stdout",
     "output_type": "stream",
     "text": [
      "Done  21.729 %, average grains/point   2.01, 0.003 /s/point, total 54.9 /s\r"
     ]
    },
    {
     "name": "stdout",
     "output_type": "stream",
     "text": [
      "Done  21.776 %, average grains/point   2.01, 0.003 /s/point, total 54.9 /s\r"
     ]
    },
    {
     "name": "stdout",
     "output_type": "stream",
     "text": [
      "Done  21.823 %, average grains/point   2.01, 0.003 /s/point, total 55.0 /s\r"
     ]
    },
    {
     "name": "stdout",
     "output_type": "stream",
     "text": [
      "Done  21.870 %, average grains/point   2.01, 0.003 /s/point, total 55.1 /s\r"
     ]
    },
    {
     "name": "stdout",
     "output_type": "stream",
     "text": [
      "Done  21.918 %, average grains/point   2.01, 0.003 /s/point, total 55.1 /s\r"
     ]
    },
    {
     "name": "stdout",
     "output_type": "stream",
     "text": [
      "Done  21.965 %, average grains/point   2.01, 0.003 /s/point, total 55.2 /s\r"
     ]
    },
    {
     "name": "stdout",
     "output_type": "stream",
     "text": [
      "Done  22.012 %, average grains/point   2.01, 0.003 /s/point, total 55.3 /s\r"
     ]
    },
    {
     "name": "stdout",
     "output_type": "stream",
     "text": [
      "Done  22.059 %, average grains/point   2.01, 0.003 /s/point, total 55.4 /s\r"
     ]
    },
    {
     "name": "stdout",
     "output_type": "stream",
     "text": [
      "Done  22.106 %, average grains/point   2.01, 0.003 /s/point, total 55.4 /s\r"
     ]
    },
    {
     "name": "stdout",
     "output_type": "stream",
     "text": [
      "Done  22.154 %, average grains/point   2.01, 0.003 /s/point, total 55.5 /s\r"
     ]
    },
    {
     "name": "stdout",
     "output_type": "stream",
     "text": [
      "Done  22.201 %, average grains/point   2.01, 0.003 /s/point, total 55.6 /s\r"
     ]
    },
    {
     "name": "stdout",
     "output_type": "stream",
     "text": [
      "Done  22.248 %, average grains/point   2.01, 0.003 /s/point, total 55.6 /s\r"
     ]
    },
    {
     "name": "stdout",
     "output_type": "stream",
     "text": [
      "Done  22.295 %, average grains/point   2.01, 0.003 /s/point, total 55.7 /s\r"
     ]
    },
    {
     "name": "stdout",
     "output_type": "stream",
     "text": [
      "Done  22.343 %, average grains/point   2.01, 0.003 /s/point, total 55.8 /s\r"
     ]
    },
    {
     "name": "stdout",
     "output_type": "stream",
     "text": [
      "Done  22.390 %, average grains/point   2.01, 0.003 /s/point, total 55.8 /s\r"
     ]
    },
    {
     "name": "stdout",
     "output_type": "stream",
     "text": [
      "Done  22.437 %, average grains/point   2.01, 0.003 /s/point, total 55.9 /s\r"
     ]
    },
    {
     "name": "stdout",
     "output_type": "stream",
     "text": [
      "Done  22.484 %, average grains/point   2.01, 0.003 /s/point, total 56.0 /s\r"
     ]
    },
    {
     "name": "stdout",
     "output_type": "stream",
     "text": [
      "Done  22.532 %, average grains/point   2.01, 0.003 /s/point, total 56.1 /s\r"
     ]
    },
    {
     "name": "stdout",
     "output_type": "stream",
     "text": [
      "Done  22.579 %, average grains/point   2.01, 0.003 /s/point, total 56.1 /s\r"
     ]
    },
    {
     "name": "stdout",
     "output_type": "stream",
     "text": [
      "Done  22.626 %, average grains/point   2.01, 0.003 /s/point, total 56.2 /s\r"
     ]
    },
    {
     "name": "stdout",
     "output_type": "stream",
     "text": [
      "Done  22.673 %, average grains/point   2.01, 0.003 /s/point, total 56.3 /s\r"
     ]
    },
    {
     "name": "stdout",
     "output_type": "stream",
     "text": [
      "Done  22.721 %, average grains/point   2.01, 0.003 /s/point, total 56.4 /s\r"
     ]
    },
    {
     "name": "stdout",
     "output_type": "stream",
     "text": [
      "Done  22.768 %, average grains/point   2.01, 0.003 /s/point, total 56.4 /s\r"
     ]
    },
    {
     "name": "stdout",
     "output_type": "stream",
     "text": [
      "Done  22.815 %, average grains/point   2.01, 0.003 /s/point, total 56.5 /s\r"
     ]
    },
    {
     "name": "stdout",
     "output_type": "stream",
     "text": [
      "Done  22.862 %, average grains/point   2.01, 0.003 /s/point, total 56.6 /s\r"
     ]
    },
    {
     "name": "stdout",
     "output_type": "stream",
     "text": [
      "Done  22.910 %, average grains/point   2.01, 0.003 /s/point, total 56.6 /s\r"
     ]
    },
    {
     "name": "stdout",
     "output_type": "stream",
     "text": [
      "Done  22.957 %, average grains/point   2.01, 0.003 /s/point, total 56.7 /s\r"
     ]
    },
    {
     "name": "stdout",
     "output_type": "stream",
     "text": [
      "Done  23.004 %, average grains/point   2.01, 0.003 /s/point, total 56.8 /s\r"
     ]
    },
    {
     "name": "stdout",
     "output_type": "stream",
     "text": [
      "Done  23.051 %, average grains/point   2.01, 0.003 /s/point, total 56.8 /s\r"
     ]
    },
    {
     "name": "stdout",
     "output_type": "stream",
     "text": [
      "Done  23.098 %, average grains/point   2.01, 0.003 /s/point, total 56.9 /s\r"
     ]
    },
    {
     "name": "stdout",
     "output_type": "stream",
     "text": [
      "Done  23.146 %, average grains/point   2.01, 0.003 /s/point, total 57.0 /s\r"
     ]
    },
    {
     "name": "stdout",
     "output_type": "stream",
     "text": [
      "Done  23.193 %, average grains/point   2.01, 0.003 /s/point, total 57.1 /s\r"
     ]
    },
    {
     "name": "stdout",
     "output_type": "stream",
     "text": [
      "Done  23.240 %, average grains/point   2.01, 0.003 /s/point, total 57.1 /s\r"
     ]
    },
    {
     "name": "stdout",
     "output_type": "stream",
     "text": [
      "Done  23.287 %, average grains/point   2.01, 0.003 /s/point, total 57.2 /s\r"
     ]
    },
    {
     "name": "stdout",
     "output_type": "stream",
     "text": [
      "Done  23.335 %, average grains/point   2.01, 0.003 /s/point, total 57.3 /s\r"
     ]
    },
    {
     "name": "stdout",
     "output_type": "stream",
     "text": [
      "Done  23.382 %, average grains/point   2.01, 0.003 /s/point, total 57.3 /s\r"
     ]
    },
    {
     "name": "stdout",
     "output_type": "stream",
     "text": [
      "Done  23.429 %, average grains/point   2.01, 0.003 /s/point, total 57.4 /s\r"
     ]
    },
    {
     "name": "stdout",
     "output_type": "stream",
     "text": [
      "Done  23.476 %, average grains/point   2.01, 0.003 /s/point, total 57.5 /s\r"
     ]
    },
    {
     "name": "stdout",
     "output_type": "stream",
     "text": [
      "Done  23.524 %, average grains/point   2.01, 0.003 /s/point, total 57.6 /s\r"
     ]
    },
    {
     "name": "stdout",
     "output_type": "stream",
     "text": [
      "Done  23.571 %, average grains/point   2.01, 0.003 /s/point, total 57.6 /s\r"
     ]
    },
    {
     "name": "stdout",
     "output_type": "stream",
     "text": [
      "Done  23.618 %, average grains/point   2.01, 0.003 /s/point, total 57.7 /s\r"
     ]
    },
    {
     "name": "stdout",
     "output_type": "stream",
     "text": [
      "Done  23.665 %, average grains/point   2.01, 0.003 /s/point, total 57.8 /s\r"
     ]
    },
    {
     "name": "stdout",
     "output_type": "stream",
     "text": [
      "Done  23.713 %, average grains/point   2.01, 0.003 /s/point, total 57.8 /s\r"
     ]
    },
    {
     "name": "stdout",
     "output_type": "stream",
     "text": [
      "Done  23.760 %, average grains/point   2.01, 0.003 /s/point, total 57.9 /s\r"
     ]
    },
    {
     "name": "stdout",
     "output_type": "stream",
     "text": [
      "Done  23.807 %, average grains/point   2.01, 0.003 /s/point, total 58.0 /s\r"
     ]
    },
    {
     "name": "stdout",
     "output_type": "stream",
     "text": [
      "Done  23.854 %, average grains/point   2.01, 0.003 /s/point, total 58.0 /s\r"
     ]
    },
    {
     "name": "stdout",
     "output_type": "stream",
     "text": [
      "Done  23.901 %, average grains/point   2.01, 0.003 /s/point, total 58.1 /s\r"
     ]
    },
    {
     "name": "stdout",
     "output_type": "stream",
     "text": [
      "Done  23.949 %, average grains/point   2.01, 0.003 /s/point, total 58.2 /s\r"
     ]
    },
    {
     "name": "stdout",
     "output_type": "stream",
     "text": [
      "Done  23.996 %, average grains/point   2.01, 0.003 /s/point, total 58.3 /s\r"
     ]
    },
    {
     "name": "stdout",
     "output_type": "stream",
     "text": [
      "Done  24.043 %, average grains/point   2.01, 0.003 /s/point, total 58.3 /s\r"
     ]
    },
    {
     "name": "stdout",
     "output_type": "stream",
     "text": [
      "Done  24.090 %, average grains/point   2.01, 0.003 /s/point, total 58.4 /s\r"
     ]
    },
    {
     "name": "stdout",
     "output_type": "stream",
     "text": [
      "Done  24.138 %, average grains/point   2.01, 0.003 /s/point, total 58.5 /s\r"
     ]
    },
    {
     "name": "stdout",
     "output_type": "stream",
     "text": [
      "Done  24.185 %, average grains/point   2.01, 0.003 /s/point, total 58.5 /s\r"
     ]
    },
    {
     "name": "stdout",
     "output_type": "stream",
     "text": [
      "Done  24.232 %, average grains/point   2.01, 0.003 /s/point, total 58.6 /s\r"
     ]
    },
    {
     "name": "stdout",
     "output_type": "stream",
     "text": [
      "Done  24.279 %, average grains/point   2.01, 0.003 /s/point, total 58.7 /s\r"
     ]
    },
    {
     "name": "stdout",
     "output_type": "stream",
     "text": [
      "Done  24.327 %, average grains/point   2.01, 0.003 /s/point, total 58.8 /s\r"
     ]
    },
    {
     "name": "stdout",
     "output_type": "stream",
     "text": [
      "Done  24.374 %, average grains/point   2.01, 0.003 /s/point, total 58.8 /s\r"
     ]
    },
    {
     "name": "stdout",
     "output_type": "stream",
     "text": [
      "Done  24.421 %, average grains/point   2.01, 0.003 /s/point, total 58.9 /s\r"
     ]
    },
    {
     "name": "stdout",
     "output_type": "stream",
     "text": [
      "Done  24.468 %, average grains/point   2.01, 0.003 /s/point, total 59.0 /s\r"
     ]
    },
    {
     "name": "stdout",
     "output_type": "stream",
     "text": [
      "Done  24.516 %, average grains/point   2.01, 0.003 /s/point, total 59.0 /s\r"
     ]
    },
    {
     "name": "stdout",
     "output_type": "stream",
     "text": [
      "Done  24.563 %, average grains/point   2.01, 0.003 /s/point, total 59.1 /s\r"
     ]
    },
    {
     "name": "stdout",
     "output_type": "stream",
     "text": [
      "Done  24.610 %, average grains/point   2.01, 0.003 /s/point, total 59.2 /s\r"
     ]
    },
    {
     "name": "stdout",
     "output_type": "stream",
     "text": [
      "Done  24.657 %, average grains/point   2.01, 0.003 /s/point, total 59.3 /s\r"
     ]
    },
    {
     "name": "stdout",
     "output_type": "stream",
     "text": [
      "Done  24.704 %, average grains/point   2.01, 0.003 /s/point, total 59.3 /s\r"
     ]
    },
    {
     "name": "stdout",
     "output_type": "stream",
     "text": [
      "Done  24.752 %, average grains/point   2.01, 0.003 /s/point, total 59.4 /s\r"
     ]
    },
    {
     "name": "stdout",
     "output_type": "stream",
     "text": [
      "Done  24.799 %, average grains/point   2.01, 0.003 /s/point, total 59.5 /s\r"
     ]
    },
    {
     "name": "stdout",
     "output_type": "stream",
     "text": [
      "Done  24.846 %, average grains/point   2.01, 0.003 /s/point, total 59.5 /s\r"
     ]
    },
    {
     "name": "stdout",
     "output_type": "stream",
     "text": [
      "Done  24.893 %, average grains/point   2.01, 0.003 /s/point, total 59.6 /s\r"
     ]
    },
    {
     "name": "stdout",
     "output_type": "stream",
     "text": [
      "Done  24.941 %, average grains/point   2.01, 0.003 /s/point, total 59.7 /s\r"
     ]
    },
    {
     "name": "stdout",
     "output_type": "stream",
     "text": [
      "Done  24.988 %, average grains/point   2.01, 0.003 /s/point, total 59.7 /s\r"
     ]
    },
    {
     "name": "stdout",
     "output_type": "stream",
     "text": [
      "Done  25.035 %, average grains/point   2.01, 0.003 /s/point, total 59.8 /s\r"
     ]
    },
    {
     "name": "stdout",
     "output_type": "stream",
     "text": [
      "Done  25.082 %, average grains/point   2.01, 0.003 /s/point, total 59.9 /s\r"
     ]
    },
    {
     "name": "stdout",
     "output_type": "stream",
     "text": [
      "Done  25.130 %, average grains/point   2.01, 0.003 /s/point, total 60.0 /s\r"
     ]
    },
    {
     "name": "stdout",
     "output_type": "stream",
     "text": [
      "Done  25.177 %, average grains/point   2.01, 0.003 /s/point, total 60.0 /s\r"
     ]
    },
    {
     "name": "stdout",
     "output_type": "stream",
     "text": [
      "Done  25.224 %, average grains/point   2.01, 0.003 /s/point, total 60.1 /s\r"
     ]
    },
    {
     "name": "stdout",
     "output_type": "stream",
     "text": [
      "Done  25.271 %, average grains/point   2.01, 0.003 /s/point, total 60.2 /s\r"
     ]
    },
    {
     "name": "stdout",
     "output_type": "stream",
     "text": [
      "Done  25.319 %, average grains/point   2.01, 0.003 /s/point, total 60.2 /s\r"
     ]
    },
    {
     "name": "stdout",
     "output_type": "stream",
     "text": [
      "Done  25.366 %, average grains/point   2.01, 0.003 /s/point, total 60.3 /s\r"
     ]
    },
    {
     "name": "stdout",
     "output_type": "stream",
     "text": [
      "Done  25.413 %, average grains/point   2.01, 0.003 /s/point, total 60.4 /s\r"
     ]
    },
    {
     "name": "stdout",
     "output_type": "stream",
     "text": [
      "Done  25.460 %, average grains/point   2.01, 0.003 /s/point, total 60.4 /s\r"
     ]
    },
    {
     "name": "stdout",
     "output_type": "stream",
     "text": [
      "Done  25.507 %, average grains/point   2.01, 0.003 /s/point, total 60.5 /s\r"
     ]
    },
    {
     "name": "stdout",
     "output_type": "stream",
     "text": [
      "Done  25.555 %, average grains/point   2.01, 0.003 /s/point, total 60.6 /s\r"
     ]
    },
    {
     "name": "stdout",
     "output_type": "stream",
     "text": [
      "Done  25.602 %, average grains/point   2.01, 0.003 /s/point, total 60.7 /s\r"
     ]
    },
    {
     "name": "stdout",
     "output_type": "stream",
     "text": [
      "Done  25.649 %, average grains/point   2.01, 0.003 /s/point, total 60.7 /s\r"
     ]
    },
    {
     "name": "stdout",
     "output_type": "stream",
     "text": [
      "Done  25.696 %, average grains/point   2.01, 0.003 /s/point, total 60.8 /s\r"
     ]
    },
    {
     "name": "stdout",
     "output_type": "stream",
     "text": [
      "Done  25.744 %, average grains/point   2.01, 0.003 /s/point, total 60.9 /s\r"
     ]
    },
    {
     "name": "stdout",
     "output_type": "stream",
     "text": [
      "Done  25.791 %, average grains/point   2.01, 0.003 /s/point, total 60.9 /s\r"
     ]
    },
    {
     "name": "stdout",
     "output_type": "stream",
     "text": [
      "Done  25.838 %, average grains/point   2.01, 0.003 /s/point, total 61.0 /s\r"
     ]
    },
    {
     "name": "stdout",
     "output_type": "stream",
     "text": [
      "Done  25.885 %, average grains/point   2.01, 0.003 /s/point, total 61.1 /s\r"
     ]
    },
    {
     "name": "stdout",
     "output_type": "stream",
     "text": [
      "Done  25.933 %, average grains/point   2.01, 0.003 /s/point, total 61.1 /s\r"
     ]
    },
    {
     "name": "stdout",
     "output_type": "stream",
     "text": [
      "Done  25.980 %, average grains/point   2.01, 0.003 /s/point, total 61.2 /s\r"
     ]
    },
    {
     "name": "stdout",
     "output_type": "stream",
     "text": [
      "Done  26.027 %, average grains/point   2.01, 0.003 /s/point, total 61.3 /s\r"
     ]
    },
    {
     "name": "stdout",
     "output_type": "stream",
     "text": [
      "Done  26.074 %, average grains/point   2.01, 0.003 /s/point, total 61.3 /s\r"
     ]
    },
    {
     "name": "stdout",
     "output_type": "stream",
     "text": [
      "Done  26.122 %, average grains/point   2.01, 0.003 /s/point, total 61.4 /s\r"
     ]
    },
    {
     "name": "stdout",
     "output_type": "stream",
     "text": [
      "Done  26.169 %, average grains/point   2.01, 0.003 /s/point, total 61.5 /s\r"
     ]
    },
    {
     "name": "stdout",
     "output_type": "stream",
     "text": [
      "Done  26.216 %, average grains/point   2.01, 0.003 /s/point, total 61.6 /s\r"
     ]
    },
    {
     "name": "stdout",
     "output_type": "stream",
     "text": [
      "Done  26.263 %, average grains/point   2.01, 0.003 /s/point, total 61.6 /s\r"
     ]
    },
    {
     "name": "stdout",
     "output_type": "stream",
     "text": [
      "Done  26.311 %, average grains/point   2.01, 0.003 /s/point, total 61.7 /s\r"
     ]
    },
    {
     "name": "stdout",
     "output_type": "stream",
     "text": [
      "Done  26.358 %, average grains/point   2.01, 0.003 /s/point, total 61.8 /s\r"
     ]
    },
    {
     "name": "stdout",
     "output_type": "stream",
     "text": [
      "Done  26.405 %, average grains/point   2.01, 0.003 /s/point, total 61.8 /s\r"
     ]
    },
    {
     "name": "stdout",
     "output_type": "stream",
     "text": [
      "Done  26.452 %, average grains/point   2.01, 0.003 /s/point, total 61.9 /s\r"
     ]
    },
    {
     "name": "stdout",
     "output_type": "stream",
     "text": [
      "Done  26.499 %, average grains/point   2.01, 0.003 /s/point, total 62.0 /s\r"
     ]
    },
    {
     "name": "stdout",
     "output_type": "stream",
     "text": [
      "Done  26.547 %, average grains/point   2.01, 0.003 /s/point, total 62.1 /s\r"
     ]
    },
    {
     "name": "stdout",
     "output_type": "stream",
     "text": [
      "Done  26.594 %, average grains/point   2.01, 0.003 /s/point, total 62.1 /s\r"
     ]
    },
    {
     "name": "stdout",
     "output_type": "stream",
     "text": [
      "Done  26.641 %, average grains/point   2.01, 0.003 /s/point, total 62.2 /s\r"
     ]
    },
    {
     "name": "stdout",
     "output_type": "stream",
     "text": [
      "Done  26.688 %, average grains/point   2.01, 0.003 /s/point, total 62.3 /s\r"
     ]
    },
    {
     "name": "stdout",
     "output_type": "stream",
     "text": [
      "Done  26.736 %, average grains/point   2.01, 0.003 /s/point, total 62.4 /s\r"
     ]
    },
    {
     "name": "stdout",
     "output_type": "stream",
     "text": [
      "Done  26.783 %, average grains/point   2.01, 0.003 /s/point, total 62.4 /s\r"
     ]
    },
    {
     "name": "stdout",
     "output_type": "stream",
     "text": [
      "Done  26.830 %, average grains/point   2.01, 0.003 /s/point, total 62.5 /s\r"
     ]
    },
    {
     "name": "stdout",
     "output_type": "stream",
     "text": [
      "Done  26.877 %, average grains/point   2.01, 0.003 /s/point, total 62.6 /s\r"
     ]
    },
    {
     "name": "stdout",
     "output_type": "stream",
     "text": [
      "Done  26.925 %, average grains/point   2.01, 0.003 /s/point, total 62.6 /s\r"
     ]
    },
    {
     "name": "stdout",
     "output_type": "stream",
     "text": [
      "Done  26.972 %, average grains/point   2.01, 0.003 /s/point, total 62.7 /s\r"
     ]
    },
    {
     "name": "stdout",
     "output_type": "stream",
     "text": [
      "Done  27.019 %, average grains/point   2.01, 0.003 /s/point, total 62.8 /s\r"
     ]
    },
    {
     "name": "stdout",
     "output_type": "stream",
     "text": [
      "Done  27.066 %, average grains/point   2.01, 0.003 /s/point, total 62.9 /s\r"
     ]
    },
    {
     "name": "stdout",
     "output_type": "stream",
     "text": [
      "Done  27.114 %, average grains/point   2.01, 0.003 /s/point, total 62.9 /s\r"
     ]
    },
    {
     "name": "stdout",
     "output_type": "stream",
     "text": [
      "Done  27.161 %, average grains/point   2.01, 0.003 /s/point, total 63.0 /s\r"
     ]
    },
    {
     "name": "stdout",
     "output_type": "stream",
     "text": [
      "Done  27.208 %, average grains/point   2.01, 0.003 /s/point, total 63.1 /s\r"
     ]
    },
    {
     "name": "stdout",
     "output_type": "stream",
     "text": [
      "Done  27.255 %, average grains/point   2.01, 0.003 /s/point, total 63.2 /s\r"
     ]
    },
    {
     "name": "stdout",
     "output_type": "stream",
     "text": [
      "Done  27.302 %, average grains/point   2.01, 0.003 /s/point, total 63.2 /s\r"
     ]
    },
    {
     "name": "stdout",
     "output_type": "stream",
     "text": [
      "Done  27.350 %, average grains/point   2.01, 0.003 /s/point, total 63.3 /s\r"
     ]
    },
    {
     "name": "stdout",
     "output_type": "stream",
     "text": [
      "Done  27.397 %, average grains/point   2.01, 0.003 /s/point, total 63.4 /s\r"
     ]
    },
    {
     "name": "stdout",
     "output_type": "stream",
     "text": [
      "Done  27.444 %, average grains/point   2.01, 0.003 /s/point, total 63.4 /s\r"
     ]
    },
    {
     "name": "stdout",
     "output_type": "stream",
     "text": [
      "Done  27.491 %, average grains/point   2.01, 0.003 /s/point, total 63.5 /s\r"
     ]
    },
    {
     "name": "stdout",
     "output_type": "stream",
     "text": [
      "Done  27.539 %, average grains/point   2.01, 0.003 /s/point, total 63.6 /s\r"
     ]
    },
    {
     "name": "stdout",
     "output_type": "stream",
     "text": [
      "Done  27.586 %, average grains/point   2.01, 0.003 /s/point, total 63.7 /s\r"
     ]
    },
    {
     "name": "stdout",
     "output_type": "stream",
     "text": [
      "Done  27.633 %, average grains/point   2.01, 0.003 /s/point, total 63.7 /s\r"
     ]
    },
    {
     "name": "stdout",
     "output_type": "stream",
     "text": [
      "Done  27.680 %, average grains/point   2.01, 0.003 /s/point, total 63.8 /s\r"
     ]
    },
    {
     "name": "stdout",
     "output_type": "stream",
     "text": [
      "Done  27.728 %, average grains/point   2.01, 0.003 /s/point, total 63.9 /s\r"
     ]
    },
    {
     "name": "stdout",
     "output_type": "stream",
     "text": [
      "Done  27.775 %, average grains/point   2.01, 0.003 /s/point, total 64.0 /s\r"
     ]
    },
    {
     "name": "stdout",
     "output_type": "stream",
     "text": [
      "Done  27.822 %, average grains/point   2.01, 0.003 /s/point, total 64.0 /s\r"
     ]
    },
    {
     "name": "stdout",
     "output_type": "stream",
     "text": [
      "Done  27.869 %, average grains/point   2.01, 0.003 /s/point, total 64.1 /s\r"
     ]
    },
    {
     "name": "stdout",
     "output_type": "stream",
     "text": [
      "Done  27.917 %, average grains/point   2.01, 0.003 /s/point, total 64.2 /s\r"
     ]
    },
    {
     "name": "stdout",
     "output_type": "stream",
     "text": [
      "Done  27.964 %, average grains/point   2.01, 0.003 /s/point, total 64.2 /s\r"
     ]
    },
    {
     "name": "stdout",
     "output_type": "stream",
     "text": [
      "Done  28.011 %, average grains/point   2.01, 0.003 /s/point, total 64.3 /s\r"
     ]
    },
    {
     "name": "stdout",
     "output_type": "stream",
     "text": [
      "Done  28.058 %, average grains/point   2.01, 0.003 /s/point, total 64.4 /s\r"
     ]
    },
    {
     "name": "stdout",
     "output_type": "stream",
     "text": [
      "Done  28.105 %, average grains/point   2.01, 0.003 /s/point, total 64.4 /s\r"
     ]
    },
    {
     "name": "stdout",
     "output_type": "stream",
     "text": [
      "Done  28.153 %, average grains/point   2.01, 0.003 /s/point, total 64.5 /s\r"
     ]
    },
    {
     "name": "stdout",
     "output_type": "stream",
     "text": [
      "Done  28.200 %, average grains/point   2.01, 0.003 /s/point, total 64.6 /s\r"
     ]
    },
    {
     "name": "stdout",
     "output_type": "stream",
     "text": [
      "Done  28.247 %, average grains/point   2.01, 0.003 /s/point, total 64.7 /s\r"
     ]
    },
    {
     "name": "stdout",
     "output_type": "stream",
     "text": [
      "Done  28.294 %, average grains/point   2.01, 0.003 /s/point, total 64.7 /s\r"
     ]
    },
    {
     "name": "stdout",
     "output_type": "stream",
     "text": [
      "Done  28.342 %, average grains/point   2.01, 0.003 /s/point, total 64.8 /s\r"
     ]
    },
    {
     "name": "stdout",
     "output_type": "stream",
     "text": [
      "Done  28.389 %, average grains/point   2.01, 0.003 /s/point, total 64.9 /s\r"
     ]
    },
    {
     "name": "stdout",
     "output_type": "stream",
     "text": [
      "Done  28.436 %, average grains/point   2.01, 0.003 /s/point, total 64.9 /s\r"
     ]
    },
    {
     "name": "stdout",
     "output_type": "stream",
     "text": [
      "Done  28.483 %, average grains/point   2.01, 0.003 /s/point, total 65.0 /s\r"
     ]
    },
    {
     "name": "stdout",
     "output_type": "stream",
     "text": [
      "Done  28.531 %, average grains/point   2.01, 0.003 /s/point, total 65.1 /s\r"
     ]
    },
    {
     "name": "stdout",
     "output_type": "stream",
     "text": [
      "Done  28.578 %, average grains/point   2.01, 0.003 /s/point, total 65.1 /s\r"
     ]
    },
    {
     "name": "stdout",
     "output_type": "stream",
     "text": [
      "Done  28.625 %, average grains/point   2.01, 0.003 /s/point, total 65.2 /s\r"
     ]
    },
    {
     "name": "stdout",
     "output_type": "stream",
     "text": [
      "Done  28.672 %, average grains/point   2.01, 0.003 /s/point, total 65.3 /s\r"
     ]
    },
    {
     "name": "stdout",
     "output_type": "stream",
     "text": [
      "Done  28.720 %, average grains/point   2.01, 0.003 /s/point, total 65.4 /s\r"
     ]
    },
    {
     "name": "stdout",
     "output_type": "stream",
     "text": [
      "Done  28.767 %, average grains/point   2.01, 0.003 /s/point, total 65.4 /s\r"
     ]
    },
    {
     "name": "stdout",
     "output_type": "stream",
     "text": [
      "Done  28.814 %, average grains/point   2.01, 0.003 /s/point, total 65.5 /s\r"
     ]
    },
    {
     "name": "stdout",
     "output_type": "stream",
     "text": [
      "Done  28.861 %, average grains/point   2.01, 0.003 /s/point, total 65.6 /s\r"
     ]
    },
    {
     "name": "stdout",
     "output_type": "stream",
     "text": [
      "Done  28.908 %, average grains/point   2.01, 0.003 /s/point, total 65.7 /s\r"
     ]
    },
    {
     "name": "stdout",
     "output_type": "stream",
     "text": [
      "Done  28.956 %, average grains/point   2.01, 0.003 /s/point, total 65.7 /s\r"
     ]
    },
    {
     "name": "stdout",
     "output_type": "stream",
     "text": [
      "Done  29.003 %, average grains/point   2.01, 0.003 /s/point, total 65.8 /s\r"
     ]
    },
    {
     "name": "stdout",
     "output_type": "stream",
     "text": [
      "Done  29.050 %, average grains/point   2.01, 0.003 /s/point, total 65.9 /s\r"
     ]
    },
    {
     "name": "stdout",
     "output_type": "stream",
     "text": [
      "Done  29.097 %, average grains/point   2.01, 0.003 /s/point, total 65.9 /s\r"
     ]
    },
    {
     "name": "stdout",
     "output_type": "stream",
     "text": [
      "Done  29.145 %, average grains/point   2.01, 0.003 /s/point, total 66.0 /s\r"
     ]
    },
    {
     "name": "stdout",
     "output_type": "stream",
     "text": [
      "Done  29.192 %, average grains/point   2.01, 0.003 /s/point, total 66.1 /s\r"
     ]
    },
    {
     "name": "stdout",
     "output_type": "stream",
     "text": [
      "Done  29.239 %, average grains/point   2.01, 0.003 /s/point, total 66.2 /s\r"
     ]
    },
    {
     "name": "stdout",
     "output_type": "stream",
     "text": [
      "Done  29.286 %, average grains/point   2.01, 0.003 /s/point, total 66.2 /s\r"
     ]
    },
    {
     "name": "stdout",
     "output_type": "stream",
     "text": [
      "Done  29.334 %, average grains/point   2.01, 0.003 /s/point, total 66.3 /s\r"
     ]
    },
    {
     "name": "stdout",
     "output_type": "stream",
     "text": [
      "Done  29.381 %, average grains/point   2.01, 0.003 /s/point, total 66.4 /s\r"
     ]
    },
    {
     "name": "stdout",
     "output_type": "stream",
     "text": [
      "Done  29.428 %, average grains/point   2.01, 0.003 /s/point, total 66.4 /s\r"
     ]
    },
    {
     "name": "stdout",
     "output_type": "stream",
     "text": [
      "Done  29.475 %, average grains/point   2.01, 0.003 /s/point, total 66.5 /s\r"
     ]
    },
    {
     "name": "stdout",
     "output_type": "stream",
     "text": [
      "Done  29.523 %, average grains/point   2.01, 0.003 /s/point, total 66.6 /s\r"
     ]
    },
    {
     "name": "stdout",
     "output_type": "stream",
     "text": [
      "Done  29.570 %, average grains/point   2.01, 0.003 /s/point, total 66.7 /s\r"
     ]
    },
    {
     "name": "stdout",
     "output_type": "stream",
     "text": [
      "Done  29.617 %, average grains/point   2.01, 0.003 /s/point, total 66.7 /s\r"
     ]
    },
    {
     "name": "stdout",
     "output_type": "stream",
     "text": [
      "Done  29.664 %, average grains/point   2.01, 0.003 /s/point, total 66.8 /s\r"
     ]
    },
    {
     "name": "stdout",
     "output_type": "stream",
     "text": [
      "Done  29.712 %, average grains/point   2.01, 0.003 /s/point, total 66.9 /s\r"
     ]
    },
    {
     "name": "stdout",
     "output_type": "stream",
     "text": [
      "Done  29.759 %, average grains/point   2.01, 0.003 /s/point, total 67.0 /s\r"
     ]
    },
    {
     "name": "stdout",
     "output_type": "stream",
     "text": [
      "Done  29.806 %, average grains/point   2.01, 0.003 /s/point, total 67.0 /s\r"
     ]
    },
    {
     "name": "stdout",
     "output_type": "stream",
     "text": [
      "Done  29.853 %, average grains/point   2.01, 0.003 /s/point, total 67.1 /s\r"
     ]
    },
    {
     "name": "stdout",
     "output_type": "stream",
     "text": [
      "Done  29.900 %, average grains/point   2.01, 0.003 /s/point, total 67.2 /s\r"
     ]
    },
    {
     "name": "stdout",
     "output_type": "stream",
     "text": [
      "Done  29.948 %, average grains/point   2.01, 0.003 /s/point, total 67.2 /s\r"
     ]
    },
    {
     "name": "stdout",
     "output_type": "stream",
     "text": [
      "Done  29.995 %, average grains/point   2.01, 0.003 /s/point, total 67.3 /s\r"
     ]
    },
    {
     "name": "stdout",
     "output_type": "stream",
     "text": [
      "Done  30.042 %, average grains/point   2.01, 0.003 /s/point, total 67.4 /s\r"
     ]
    },
    {
     "name": "stdout",
     "output_type": "stream",
     "text": [
      "Done  30.089 %, average grains/point   2.01, 0.003 /s/point, total 67.5 /s\r"
     ]
    },
    {
     "name": "stdout",
     "output_type": "stream",
     "text": [
      "Done  30.137 %, average grains/point   2.01, 0.003 /s/point, total 67.5 /s\r"
     ]
    },
    {
     "name": "stdout",
     "output_type": "stream",
     "text": [
      "Done  30.184 %, average grains/point   2.01, 0.003 /s/point, total 67.6 /s\r"
     ]
    },
    {
     "name": "stdout",
     "output_type": "stream",
     "text": [
      "Done  30.231 %, average grains/point   2.01, 0.003 /s/point, total 67.7 /s\r"
     ]
    },
    {
     "name": "stdout",
     "output_type": "stream",
     "text": [
      "Done  30.278 %, average grains/point   2.01, 0.003 /s/point, total 67.7 /s\r"
     ]
    },
    {
     "name": "stdout",
     "output_type": "stream",
     "text": [
      "Done  30.326 %, average grains/point   2.01, 0.003 /s/point, total 67.8 /s\r"
     ]
    },
    {
     "name": "stdout",
     "output_type": "stream",
     "text": [
      "Done  30.373 %, average grains/point   2.01, 0.003 /s/point, total 67.9 /s\r"
     ]
    },
    {
     "name": "stdout",
     "output_type": "stream",
     "text": [
      "Done  30.420 %, average grains/point   2.01, 0.003 /s/point, total 68.0 /s\r"
     ]
    },
    {
     "name": "stdout",
     "output_type": "stream",
     "text": [
      "Done  30.467 %, average grains/point   2.01, 0.003 /s/point, total 68.0 /s\r"
     ]
    },
    {
     "name": "stdout",
     "output_type": "stream",
     "text": [
      "Done  30.515 %, average grains/point   2.01, 0.003 /s/point, total 68.1 /s\r"
     ]
    },
    {
     "name": "stdout",
     "output_type": "stream",
     "text": [
      "Done  30.562 %, average grains/point   2.01, 0.003 /s/point, total 68.2 /s\r"
     ]
    },
    {
     "name": "stdout",
     "output_type": "stream",
     "text": [
      "Done  30.609 %, average grains/point   2.01, 0.003 /s/point, total 68.2 /s\r"
     ]
    },
    {
     "name": "stdout",
     "output_type": "stream",
     "text": [
      "Done  30.656 %, average grains/point   2.01, 0.003 /s/point, total 68.3 /s\r"
     ]
    },
    {
     "name": "stdout",
     "output_type": "stream",
     "text": [
      "Done  30.703 %, average grains/point   2.01, 0.003 /s/point, total 68.4 /s\r"
     ]
    },
    {
     "name": "stdout",
     "output_type": "stream",
     "text": [
      "Done  30.751 %, average grains/point   2.01, 0.003 /s/point, total 68.5 /s\r"
     ]
    },
    {
     "name": "stdout",
     "output_type": "stream",
     "text": [
      "Done  30.798 %, average grains/point   2.01, 0.003 /s/point, total 68.5 /s\r"
     ]
    },
    {
     "name": "stdout",
     "output_type": "stream",
     "text": [
      "Done  30.845 %, average grains/point   2.01, 0.003 /s/point, total 68.6 /s\r"
     ]
    },
    {
     "name": "stdout",
     "output_type": "stream",
     "text": [
      "Done  30.892 %, average grains/point   2.01, 0.003 /s/point, total 68.7 /s\r"
     ]
    },
    {
     "name": "stdout",
     "output_type": "stream",
     "text": [
      "Done  30.940 %, average grains/point   2.01, 0.003 /s/point, total 68.7 /s\r"
     ]
    },
    {
     "name": "stdout",
     "output_type": "stream",
     "text": [
      "Done  30.987 %, average grains/point   2.01, 0.003 /s/point, total 68.8 /s\r"
     ]
    },
    {
     "name": "stdout",
     "output_type": "stream",
     "text": [
      "Done  31.034 %, average grains/point   2.01, 0.003 /s/point, total 68.9 /s\r"
     ]
    },
    {
     "name": "stdout",
     "output_type": "stream",
     "text": [
      "Done  31.081 %, average grains/point   2.01, 0.003 /s/point, total 68.9 /s\r"
     ]
    },
    {
     "name": "stdout",
     "output_type": "stream",
     "text": [
      "Done  31.129 %, average grains/point   2.01, 0.003 /s/point, total 69.0 /s\r"
     ]
    },
    {
     "name": "stdout",
     "output_type": "stream",
     "text": [
      "Done  31.176 %, average grains/point   2.01, 0.003 /s/point, total 69.1 /s\r"
     ]
    },
    {
     "name": "stdout",
     "output_type": "stream",
     "text": [
      "Done  31.223 %, average grains/point   2.01, 0.003 /s/point, total 69.2 /s\r"
     ]
    },
    {
     "name": "stdout",
     "output_type": "stream",
     "text": [
      "Done  31.270 %, average grains/point   2.01, 0.003 /s/point, total 69.2 /s\r"
     ]
    },
    {
     "name": "stdout",
     "output_type": "stream",
     "text": [
      "Done  31.318 %, average grains/point   2.01, 0.003 /s/point, total 69.3 /s\r"
     ]
    },
    {
     "name": "stdout",
     "output_type": "stream",
     "text": [
      "Done  31.365 %, average grains/point   2.01, 0.003 /s/point, total 69.4 /s\r"
     ]
    },
    {
     "name": "stdout",
     "output_type": "stream",
     "text": [
      "Done  31.412 %, average grains/point   2.01, 0.003 /s/point, total 69.5 /s\r"
     ]
    },
    {
     "name": "stdout",
     "output_type": "stream",
     "text": [
      "Done  31.459 %, average grains/point   2.01, 0.003 /s/point, total 69.5 /s\r"
     ]
    },
    {
     "name": "stdout",
     "output_type": "stream",
     "text": [
      "Done  31.506 %, average grains/point   2.01, 0.003 /s/point, total 69.6 /s\r"
     ]
    },
    {
     "name": "stdout",
     "output_type": "stream",
     "text": [
      "Done  31.554 %, average grains/point   2.01, 0.003 /s/point, total 69.7 /s\r"
     ]
    },
    {
     "name": "stdout",
     "output_type": "stream",
     "text": [
      "Done  31.601 %, average grains/point   2.01, 0.003 /s/point, total 69.7 /s\r"
     ]
    },
    {
     "name": "stdout",
     "output_type": "stream",
     "text": [
      "Done  31.648 %, average grains/point   2.01, 0.003 /s/point, total 69.8 /s\r"
     ]
    },
    {
     "name": "stdout",
     "output_type": "stream",
     "text": [
      "Done  31.695 %, average grains/point   2.01, 0.003 /s/point, total 69.9 /s\r"
     ]
    },
    {
     "name": "stdout",
     "output_type": "stream",
     "text": [
      "Done  31.743 %, average grains/point   2.01, 0.003 /s/point, total 70.0 /s\r"
     ]
    },
    {
     "name": "stdout",
     "output_type": "stream",
     "text": [
      "Done  31.790 %, average grains/point   2.01, 0.003 /s/point, total 70.0 /s\r"
     ]
    },
    {
     "name": "stdout",
     "output_type": "stream",
     "text": [
      "Done  31.837 %, average grains/point   2.01, 0.003 /s/point, total 70.1 /s\r"
     ]
    },
    {
     "name": "stdout",
     "output_type": "stream",
     "text": [
      "Done  31.884 %, average grains/point   2.01, 0.003 /s/point, total 70.2 /s\r"
     ]
    },
    {
     "name": "stdout",
     "output_type": "stream",
     "text": [
      "Done  31.932 %, average grains/point   2.01, 0.003 /s/point, total 70.2 /s\r"
     ]
    },
    {
     "name": "stdout",
     "output_type": "stream",
     "text": [
      "Done  31.979 %, average grains/point   2.01, 0.003 /s/point, total 70.3 /s\r"
     ]
    },
    {
     "name": "stdout",
     "output_type": "stream",
     "text": [
      "Done  32.026 %, average grains/point   2.01, 0.003 /s/point, total 70.4 /s\r"
     ]
    },
    {
     "name": "stdout",
     "output_type": "stream",
     "text": [
      "Done  32.073 %, average grains/point   2.01, 0.003 /s/point, total 70.4 /s\r"
     ]
    },
    {
     "name": "stdout",
     "output_type": "stream",
     "text": [
      "Done  32.121 %, average grains/point   2.01, 0.003 /s/point, total 70.5 /s\r"
     ]
    },
    {
     "name": "stdout",
     "output_type": "stream",
     "text": [
      "Done  32.168 %, average grains/point   2.01, 0.003 /s/point, total 70.6 /s\r"
     ]
    },
    {
     "name": "stdout",
     "output_type": "stream",
     "text": [
      "Done  32.215 %, average grains/point   2.01, 0.003 /s/point, total 70.7 /s\r"
     ]
    },
    {
     "name": "stdout",
     "output_type": "stream",
     "text": [
      "Done  32.262 %, average grains/point   2.01, 0.003 /s/point, total 70.7 /s"
     ]
    },
    {
     "name": "stdout",
     "output_type": "stream",
     "text": [
      "\r"
     ]
    },
    {
     "name": "stdout",
     "output_type": "stream",
     "text": [
      "Done  32.309 %, average grains/point   2.01, 0.003 /s/point, total 70.8 /s\r"
     ]
    },
    {
     "name": "stdout",
     "output_type": "stream",
     "text": [
      "Done  32.357 %, average grains/point   2.01, 0.003 /s/point, total 70.9 /s\r"
     ]
    },
    {
     "name": "stdout",
     "output_type": "stream",
     "text": [
      "Done  32.404 %, average grains/point   2.01, 0.003 /s/point, total 71.0 /s\r"
     ]
    },
    {
     "name": "stdout",
     "output_type": "stream",
     "text": [
      "Done  32.451 %, average grains/point   2.01, 0.003 /s/point, total 71.0 /s\r"
     ]
    },
    {
     "name": "stdout",
     "output_type": "stream",
     "text": [
      "Done  32.498 %, average grains/point   2.01, 0.003 /s/point, total 71.1 /s\r"
     ]
    },
    {
     "name": "stdout",
     "output_type": "stream",
     "text": [
      "Done  32.546 %, average grains/point   2.01, 0.003 /s/point, total 71.2 /s\r"
     ]
    },
    {
     "name": "stdout",
     "output_type": "stream",
     "text": [
      "Done  32.593 %, average grains/point   2.01, 0.003 /s/point, total 71.2 /s\r"
     ]
    },
    {
     "name": "stdout",
     "output_type": "stream",
     "text": [
      "Done  32.640 %, average grains/point   2.01, 0.003 /s/point, total 71.3 /s\r"
     ]
    },
    {
     "name": "stdout",
     "output_type": "stream",
     "text": [
      "Done  32.687 %, average grains/point   2.01, 0.003 /s/point, total 71.4 /s\r"
     ]
    },
    {
     "name": "stdout",
     "output_type": "stream",
     "text": [
      "Done  32.735 %, average grains/point   2.01, 0.003 /s/point, total 71.4 /s\r"
     ]
    },
    {
     "name": "stdout",
     "output_type": "stream",
     "text": [
      "Done  32.782 %, average grains/point   2.01, 0.003 /s/point, total 71.5 /s\r"
     ]
    },
    {
     "name": "stdout",
     "output_type": "stream",
     "text": [
      "Done  32.829 %, average grains/point   2.01, 0.003 /s/point, total 71.6 /s\r"
     ]
    },
    {
     "name": "stdout",
     "output_type": "stream",
     "text": [
      "Done  32.876 %, average grains/point   2.01, 0.003 /s/point, total 71.7 /s\r"
     ]
    },
    {
     "name": "stdout",
     "output_type": "stream",
     "text": [
      "Done  32.924 %, average grains/point   2.01, 0.003 /s/point, total 71.7 /s\r"
     ]
    },
    {
     "name": "stdout",
     "output_type": "stream",
     "text": [
      "Done  32.971 %, average grains/point   2.01, 0.003 /s/point, total 71.8 /s\r"
     ]
    },
    {
     "name": "stdout",
     "output_type": "stream",
     "text": [
      "Done  33.018 %, average grains/point   2.01, 0.003 /s/point, total 71.9 /s\r"
     ]
    },
    {
     "name": "stdout",
     "output_type": "stream",
     "text": [
      "Done  33.065 %, average grains/point   2.01, 0.003 /s/point, total 72.0 /s\r"
     ]
    },
    {
     "name": "stdout",
     "output_type": "stream",
     "text": [
      "Done  33.113 %, average grains/point   2.01, 0.003 /s/point, total 72.0 /s\r"
     ]
    },
    {
     "name": "stdout",
     "output_type": "stream",
     "text": [
      "Done  33.160 %, average grains/point   2.01, 0.003 /s/point, total 72.1 /s\r"
     ]
    },
    {
     "name": "stdout",
     "output_type": "stream",
     "text": [
      "Done  33.207 %, average grains/point   2.01, 0.003 /s/point, total 72.2 /s\r"
     ]
    },
    {
     "name": "stdout",
     "output_type": "stream",
     "text": [
      "Done  33.254 %, average grains/point   2.01, 0.003 /s/point, total 72.3 /s\r"
     ]
    },
    {
     "name": "stdout",
     "output_type": "stream",
     "text": [
      "Done  33.301 %, average grains/point   2.01, 0.003 /s/point, total 72.3 /s\r"
     ]
    },
    {
     "name": "stdout",
     "output_type": "stream",
     "text": [
      "Done  33.349 %, average grains/point   2.01, 0.003 /s/point, total 72.4 /s\r"
     ]
    },
    {
     "name": "stdout",
     "output_type": "stream",
     "text": [
      "Done  33.396 %, average grains/point   2.01, 0.003 /s/point, total 72.5 /s\r"
     ]
    },
    {
     "name": "stdout",
     "output_type": "stream",
     "text": [
      "Done  33.443 %, average grains/point   2.01, 0.003 /s/point, total 72.5 /s\r"
     ]
    },
    {
     "name": "stdout",
     "output_type": "stream",
     "text": [
      "Done  33.490 %, average grains/point   2.01, 0.003 /s/point, total 72.6 /s\r"
     ]
    },
    {
     "name": "stdout",
     "output_type": "stream",
     "text": [
      "Done  33.538 %, average grains/point   2.01, 0.003 /s/point, total 72.7 /s\r"
     ]
    },
    {
     "name": "stdout",
     "output_type": "stream",
     "text": [
      "Done  33.585 %, average grains/point   2.01, 0.003 /s/point, total 72.7 /s\r"
     ]
    },
    {
     "name": "stdout",
     "output_type": "stream",
     "text": [
      "Done  33.632 %, average grains/point   2.01, 0.003 /s/point, total 72.8 /s\r"
     ]
    },
    {
     "name": "stdout",
     "output_type": "stream",
     "text": [
      "Done  33.679 %, average grains/point   2.01, 0.003 /s/point, total 72.9 /s\r"
     ]
    },
    {
     "name": "stdout",
     "output_type": "stream",
     "text": [
      "Done  33.727 %, average grains/point   2.01, 0.003 /s/point, total 73.0 /s\r"
     ]
    },
    {
     "name": "stdout",
     "output_type": "stream",
     "text": [
      "Done  33.774 %, average grains/point   2.01, 0.003 /s/point, total 73.0 /s\r"
     ]
    },
    {
     "name": "stdout",
     "output_type": "stream",
     "text": [
      "Done  33.821 %, average grains/point   2.01, 0.003 /s/point, total 73.1 /s\r"
     ]
    },
    {
     "name": "stdout",
     "output_type": "stream",
     "text": [
      "Done  33.868 %, average grains/point   2.01, 0.003 /s/point, total 73.2 /s\r"
     ]
    },
    {
     "name": "stdout",
     "output_type": "stream",
     "text": [
      "Done  33.916 %, average grains/point   2.01, 0.003 /s/point, total 73.3 /s\r"
     ]
    },
    {
     "name": "stdout",
     "output_type": "stream",
     "text": [
      "Done  33.963 %, average grains/point   2.01, 0.003 /s/point, total 73.3 /s\r"
     ]
    },
    {
     "name": "stdout",
     "output_type": "stream",
     "text": [
      "Done  34.010 %, average grains/point   2.01, 0.003 /s/point, total 73.4 /s\r"
     ]
    },
    {
     "name": "stdout",
     "output_type": "stream",
     "text": [
      "Done  34.057 %, average grains/point   2.01, 0.003 /s/point, total 73.5 /s\r"
     ]
    },
    {
     "name": "stdout",
     "output_type": "stream",
     "text": [
      "Done  34.104 %, average grains/point   2.01, 0.003 /s/point, total 73.5 /s\r"
     ]
    },
    {
     "name": "stdout",
     "output_type": "stream",
     "text": [
      "Done  34.152 %, average grains/point   2.01, 0.003 /s/point, total 73.6 /s\r"
     ]
    },
    {
     "name": "stdout",
     "output_type": "stream",
     "text": [
      "Done  34.199 %, average grains/point   2.01, 0.003 /s/point, total 73.7 /s\r"
     ]
    },
    {
     "name": "stdout",
     "output_type": "stream",
     "text": [
      "Done  34.246 %, average grains/point   2.01, 0.003 /s/point, total 73.8 /s\r"
     ]
    },
    {
     "name": "stdout",
     "output_type": "stream",
     "text": [
      "Done  34.293 %, average grains/point   2.01, 0.003 /s/point, total 73.8 /s\r"
     ]
    },
    {
     "name": "stdout",
     "output_type": "stream",
     "text": [
      "Done  34.341 %, average grains/point   2.01, 0.003 /s/point, total 73.9 /s\r"
     ]
    },
    {
     "name": "stdout",
     "output_type": "stream",
     "text": [
      "Done  34.388 %, average grains/point   2.01, 0.003 /s/point, total 74.0 /s\r"
     ]
    },
    {
     "name": "stdout",
     "output_type": "stream",
     "text": [
      "Done  34.435 %, average grains/point   2.01, 0.003 /s/point, total 74.0 /s\r"
     ]
    },
    {
     "name": "stdout",
     "output_type": "stream",
     "text": [
      "Done  34.482 %, average grains/point   2.01, 0.003 /s/point, total 74.1 /s\r"
     ]
    },
    {
     "name": "stdout",
     "output_type": "stream",
     "text": [
      "Done  34.530 %, average grains/point   2.01, 0.003 /s/point, total 74.2 /s\r"
     ]
    },
    {
     "name": "stdout",
     "output_type": "stream",
     "text": [
      "Done  34.577 %, average grains/point   2.01, 0.003 /s/point, total 74.3 /s\r"
     ]
    },
    {
     "name": "stdout",
     "output_type": "stream",
     "text": [
      "Done  34.624 %, average grains/point   2.01, 0.003 /s/point, total 74.3 /s\r"
     ]
    },
    {
     "name": "stdout",
     "output_type": "stream",
     "text": [
      "Done  34.671 %, average grains/point   2.01, 0.003 /s/point, total 74.4 /s\r"
     ]
    },
    {
     "name": "stdout",
     "output_type": "stream",
     "text": [
      "Done  34.719 %, average grains/point   2.01, 0.003 /s/point, total 74.5 /s\r"
     ]
    },
    {
     "name": "stdout",
     "output_type": "stream",
     "text": [
      "Done  34.766 %, average grains/point   2.01, 0.003 /s/point, total 74.5 /s\r"
     ]
    },
    {
     "name": "stdout",
     "output_type": "stream",
     "text": [
      "Done  34.813 %, average grains/point   2.01, 0.003 /s/point, total 74.6 /s\r"
     ]
    },
    {
     "name": "stdout",
     "output_type": "stream",
     "text": [
      "Done  34.860 %, average grains/point   2.01, 0.003 /s/point, total 74.7 /s\r"
     ]
    },
    {
     "name": "stdout",
     "output_type": "stream",
     "text": [
      "Done  34.907 %, average grains/point   2.01, 0.003 /s/point, total 74.8 /s\r"
     ]
    },
    {
     "name": "stdout",
     "output_type": "stream",
     "text": [
      "Done  34.955 %, average grains/point   2.01, 0.003 /s/point, total 74.8 /s\r"
     ]
    },
    {
     "name": "stdout",
     "output_type": "stream",
     "text": [
      "Done  35.002 %, average grains/point   2.01, 0.003 /s/point, total 74.9 /s\r"
     ]
    },
    {
     "name": "stdout",
     "output_type": "stream",
     "text": [
      "Done  35.049 %, average grains/point   2.01, 0.003 /s/point, total 75.0 /s\r"
     ]
    },
    {
     "name": "stdout",
     "output_type": "stream",
     "text": [
      "Done  35.096 %, average grains/point   2.01, 0.003 /s/point, total 75.0 /s\r"
     ]
    },
    {
     "name": "stdout",
     "output_type": "stream",
     "text": [
      "Done  35.144 %, average grains/point   2.01, 0.003 /s/point, total 75.1 /s\r"
     ]
    },
    {
     "name": "stdout",
     "output_type": "stream",
     "text": [
      "Done  35.191 %, average grains/point   2.01, 0.003 /s/point, total 75.2 /s\r"
     ]
    },
    {
     "name": "stdout",
     "output_type": "stream",
     "text": [
      "Done  35.238 %, average grains/point   2.01, 0.003 /s/point, total 75.3 /s\r"
     ]
    },
    {
     "name": "stdout",
     "output_type": "stream",
     "text": [
      "Done  35.285 %, average grains/point   2.01, 0.003 /s/point, total 75.4 /s\r"
     ]
    },
    {
     "name": "stdout",
     "output_type": "stream",
     "text": [
      "Done  35.333 %, average grains/point   2.01, 0.003 /s/point, total 75.4 /s\r"
     ]
    },
    {
     "name": "stdout",
     "output_type": "stream",
     "text": [
      "Done  35.380 %, average grains/point   2.01, 0.003 /s/point, total 75.5 /s\r"
     ]
    },
    {
     "name": "stdout",
     "output_type": "stream",
     "text": [
      "Done  35.427 %, average grains/point   2.01, 0.003 /s/point, total 75.6 /s\r"
     ]
    },
    {
     "name": "stdout",
     "output_type": "stream",
     "text": [
      "Done  35.474 %, average grains/point   2.01, 0.003 /s/point, total 75.6 /s\r"
     ]
    },
    {
     "name": "stdout",
     "output_type": "stream",
     "text": [
      "Done  35.522 %, average grains/point   2.01, 0.003 /s/point, total 75.7 /s\r"
     ]
    },
    {
     "name": "stdout",
     "output_type": "stream",
     "text": [
      "Done  35.569 %, average grains/point   2.01, 0.003 /s/point, total 75.8 /s\r"
     ]
    },
    {
     "name": "stdout",
     "output_type": "stream",
     "text": [
      "Done  35.616 %, average grains/point   2.01, 0.003 /s/point, total 75.8 /s\r"
     ]
    },
    {
     "name": "stdout",
     "output_type": "stream",
     "text": [
      "Done  35.663 %, average grains/point   2.01, 0.003 /s/point, total 75.9 /s\r"
     ]
    },
    {
     "name": "stdout",
     "output_type": "stream",
     "text": [
      "Done  35.710 %, average grains/point   2.01, 0.003 /s/point, total 76.0 /s\r"
     ]
    },
    {
     "name": "stdout",
     "output_type": "stream",
     "text": [
      "Done  35.758 %, average grains/point   2.01, 0.003 /s/point, total 76.1 /s\r"
     ]
    },
    {
     "name": "stdout",
     "output_type": "stream",
     "text": [
      "Done  35.805 %, average grains/point   2.01, 0.003 /s/point, total 76.1 /s\r"
     ]
    },
    {
     "name": "stdout",
     "output_type": "stream",
     "text": [
      "Done  35.852 %, average grains/point   2.01, 0.003 /s/point, total 76.2 /s\r"
     ]
    },
    {
     "name": "stdout",
     "output_type": "stream",
     "text": [
      "Done  35.899 %, average grains/point   2.01, 0.003 /s/point, total 76.3 /s\r"
     ]
    },
    {
     "name": "stdout",
     "output_type": "stream",
     "text": [
      "Done  35.947 %, average grains/point   2.01, 0.003 /s/point, total 76.3 /s\r"
     ]
    },
    {
     "name": "stdout",
     "output_type": "stream",
     "text": [
      "Done  35.994 %, average grains/point   2.01, 0.003 /s/point, total 76.4 /s\r"
     ]
    },
    {
     "name": "stdout",
     "output_type": "stream",
     "text": [
      "Done  36.041 %, average grains/point   2.01, 0.003 /s/point, total 76.5 /s\r"
     ]
    },
    {
     "name": "stdout",
     "output_type": "stream",
     "text": [
      "Done  36.088 %, average grains/point   2.01, 0.003 /s/point, total 76.6 /s\r"
     ]
    },
    {
     "name": "stdout",
     "output_type": "stream",
     "text": [
      "Done  36.136 %, average grains/point   2.01, 0.003 /s/point, total 76.6 /s\r"
     ]
    },
    {
     "name": "stdout",
     "output_type": "stream",
     "text": [
      "Done  36.183 %, average grains/point   2.01, 0.003 /s/point, total 76.7 /s\r"
     ]
    },
    {
     "name": "stdout",
     "output_type": "stream",
     "text": [
      "Done  36.230 %, average grains/point   2.01, 0.003 /s/point, total 76.8 /s\r"
     ]
    },
    {
     "name": "stdout",
     "output_type": "stream",
     "text": [
      "Done  36.277 %, average grains/point   2.01, 0.003 /s/point, total 76.8 /s\r"
     ]
    },
    {
     "name": "stdout",
     "output_type": "stream",
     "text": [
      "Done  36.325 %, average grains/point   2.01, 0.003 /s/point, total 76.9 /s\r"
     ]
    },
    {
     "name": "stdout",
     "output_type": "stream",
     "text": [
      "Done  36.372 %, average grains/point   2.01, 0.002 /s/point, total 77.0 /s\r"
     ]
    },
    {
     "name": "stdout",
     "output_type": "stream",
     "text": [
      "Done  36.419 %, average grains/point   2.01, 0.002 /s/point, total 77.0 /s\r"
     ]
    },
    {
     "name": "stdout",
     "output_type": "stream",
     "text": [
      "Done  36.466 %, average grains/point   2.01, 0.002 /s/point, total 77.1 /s\r"
     ]
    },
    {
     "name": "stdout",
     "output_type": "stream",
     "text": [
      "Done  36.514 %, average grains/point   2.01, 0.002 /s/point, total 77.2 /s\r"
     ]
    },
    {
     "name": "stdout",
     "output_type": "stream",
     "text": [
      "Done  36.561 %, average grains/point   2.01, 0.002 /s/point, total 77.3 /s\r"
     ]
    },
    {
     "name": "stdout",
     "output_type": "stream",
     "text": [
      "Done  36.608 %, average grains/point   2.01, 0.002 /s/point, total 77.3 /s\r"
     ]
    },
    {
     "name": "stdout",
     "output_type": "stream",
     "text": [
      "Done  36.655 %, average grains/point   2.01, 0.002 /s/point, total 77.4 /s\r"
     ]
    },
    {
     "name": "stdout",
     "output_type": "stream",
     "text": [
      "Done  36.702 %, average grains/point   2.01, 0.002 /s/point, total 77.5 /s\r"
     ]
    },
    {
     "name": "stdout",
     "output_type": "stream",
     "text": [
      "Done  36.750 %, average grains/point   2.01, 0.002 /s/point, total 77.5 /s\r"
     ]
    },
    {
     "name": "stdout",
     "output_type": "stream",
     "text": [
      "Done  36.797 %, average grains/point   2.01, 0.002 /s/point, total 77.6 /s\r"
     ]
    },
    {
     "name": "stdout",
     "output_type": "stream",
     "text": [
      "Done  36.844 %, average grains/point   2.01, 0.002 /s/point, total 77.7 /s\r"
     ]
    },
    {
     "name": "stdout",
     "output_type": "stream",
     "text": [
      "Done  36.891 %, average grains/point   2.01, 0.002 /s/point, total 77.7 /s\r"
     ]
    },
    {
     "name": "stdout",
     "output_type": "stream",
     "text": [
      "Done  36.939 %, average grains/point   2.01, 0.002 /s/point, total 77.8 /s\r"
     ]
    },
    {
     "name": "stdout",
     "output_type": "stream",
     "text": [
      "Done  36.986 %, average grains/point   2.01, 0.002 /s/point, total 77.9 /s\r"
     ]
    },
    {
     "name": "stdout",
     "output_type": "stream",
     "text": [
      "Done  37.033 %, average grains/point   2.01, 0.002 /s/point, total 78.0 /s\r"
     ]
    },
    {
     "name": "stdout",
     "output_type": "stream",
     "text": [
      "Done  37.080 %, average grains/point   2.01, 0.002 /s/point, total 78.0 /s\r"
     ]
    },
    {
     "name": "stdout",
     "output_type": "stream",
     "text": [
      "Done  37.128 %, average grains/point   2.01, 0.002 /s/point, total 78.1 /s\r"
     ]
    },
    {
     "name": "stdout",
     "output_type": "stream",
     "text": [
      "Done  37.175 %, average grains/point   2.01, 0.002 /s/point, total 78.2 /s\r"
     ]
    },
    {
     "name": "stdout",
     "output_type": "stream",
     "text": [
      "Done  37.222 %, average grains/point   2.01, 0.002 /s/point, total 78.2 /s\r"
     ]
    },
    {
     "name": "stdout",
     "output_type": "stream",
     "text": [
      "Done  37.269 %, average grains/point   2.01, 0.002 /s/point, total 78.3 /s\r"
     ]
    },
    {
     "name": "stdout",
     "output_type": "stream",
     "text": [
      "Done  37.317 %, average grains/point   2.01, 0.002 /s/point, total 78.4 /s\r"
     ]
    },
    {
     "name": "stdout",
     "output_type": "stream",
     "text": [
      "Done  37.364 %, average grains/point   2.01, 0.002 /s/point, total 78.5 /s\r"
     ]
    },
    {
     "name": "stdout",
     "output_type": "stream",
     "text": [
      "Done  37.411 %, average grains/point   2.01, 0.002 /s/point, total 78.5 /s\r"
     ]
    },
    {
     "name": "stdout",
     "output_type": "stream",
     "text": [
      "Done  37.458 %, average grains/point   2.01, 0.002 /s/point, total 78.6 /s\r"
     ]
    },
    {
     "name": "stdout",
     "output_type": "stream",
     "text": [
      "Done  37.505 %, average grains/point   2.01, 0.002 /s/point, total 78.7 /s\r"
     ]
    },
    {
     "name": "stdout",
     "output_type": "stream",
     "text": [
      "Done  37.553 %, average grains/point   2.01, 0.002 /s/point, total 78.7 /s\r"
     ]
    },
    {
     "name": "stdout",
     "output_type": "stream",
     "text": [
      "Done  37.600 %, average grains/point   2.01, 0.002 /s/point, total 78.8 /s\r"
     ]
    },
    {
     "name": "stdout",
     "output_type": "stream",
     "text": [
      "Done  37.647 %, average grains/point   2.01, 0.002 /s/point, total 78.9 /s\r"
     ]
    },
    {
     "name": "stdout",
     "output_type": "stream",
     "text": [
      "Done  37.694 %, average grains/point   2.01, 0.002 /s/point, total 79.0 /s\r"
     ]
    },
    {
     "name": "stdout",
     "output_type": "stream",
     "text": [
      "Done  37.742 %, average grains/point   2.01, 0.002 /s/point, total 79.0 /s\r"
     ]
    },
    {
     "name": "stdout",
     "output_type": "stream",
     "text": [
      "Done  37.789 %, average grains/point   2.01, 0.002 /s/point, total 79.1 /s\r"
     ]
    },
    {
     "name": "stdout",
     "output_type": "stream",
     "text": [
      "Done  37.836 %, average grains/point   2.01, 0.002 /s/point, total 79.2 /s\r"
     ]
    },
    {
     "name": "stdout",
     "output_type": "stream",
     "text": [
      "Done  37.883 %, average grains/point   2.01, 0.002 /s/point, total 79.2 /s\r"
     ]
    },
    {
     "name": "stdout",
     "output_type": "stream",
     "text": [
      "Done  37.931 %, average grains/point   2.01, 0.002 /s/point, total 79.3 /s\r"
     ]
    },
    {
     "name": "stdout",
     "output_type": "stream",
     "text": [
      "Done  37.978 %, average grains/point   2.01, 0.002 /s/point, total 79.4 /s\r"
     ]
    },
    {
     "name": "stdout",
     "output_type": "stream",
     "text": [
      "Done  38.025 %, average grains/point   2.01, 0.002 /s/point, total 79.4 /s\r"
     ]
    },
    {
     "name": "stdout",
     "output_type": "stream",
     "text": [
      "Done  38.072 %, average grains/point   2.01, 0.002 /s/point, total 79.5 /s\r"
     ]
    },
    {
     "name": "stdout",
     "output_type": "stream",
     "text": [
      "Done  38.120 %, average grains/point   2.01, 0.002 /s/point, total 79.6 /s\r"
     ]
    },
    {
     "name": "stdout",
     "output_type": "stream",
     "text": [
      "Done  38.167 %, average grains/point   2.01, 0.002 /s/point, total 79.7 /s\r"
     ]
    },
    {
     "name": "stdout",
     "output_type": "stream",
     "text": [
      "Done  38.214 %, average grains/point   2.01, 0.002 /s/point, total 79.7 /s\r"
     ]
    },
    {
     "name": "stdout",
     "output_type": "stream",
     "text": [
      "Done  38.261 %, average grains/point   2.01, 0.002 /s/point, total 80.1 /s\r"
     ]
    },
    {
     "name": "stdout",
     "output_type": "stream",
     "text": [
      "Done  38.308 %, average grains/point   2.01, 0.002 /s/point, total 80.1 /s\r"
     ]
    },
    {
     "name": "stdout",
     "output_type": "stream",
     "text": [
      "Done  38.356 %, average grains/point   2.01, 0.002 /s/point, total 80.1 /s\r"
     ]
    },
    {
     "name": "stdout",
     "output_type": "stream",
     "text": [
      "Done  38.403 %, average grains/point   2.01, 0.002 /s/point, total 80.1 /s\r"
     ]
    },
    {
     "name": "stdout",
     "output_type": "stream",
     "text": [
      "Done  38.450 %, average grains/point   2.01, 0.002 /s/point, total 80.1 /s\r"
     ]
    },
    {
     "name": "stdout",
     "output_type": "stream",
     "text": [
      "Done  38.497 %, average grains/point   2.01, 0.002 /s/point, total 80.2 /s\r"
     ]
    },
    {
     "name": "stdout",
     "output_type": "stream",
     "text": [
      "Done  38.545 %, average grains/point   2.01, 0.002 /s/point, total 80.2 /s\r"
     ]
    },
    {
     "name": "stdout",
     "output_type": "stream",
     "text": [
      "Done  38.592 %, average grains/point   2.01, 0.002 /s/point, total 80.3 /s\r"
     ]
    },
    {
     "name": "stdout",
     "output_type": "stream",
     "text": [
      "Done  38.639 %, average grains/point   2.01, 0.002 /s/point, total 80.4 /s\r"
     ]
    },
    {
     "name": "stdout",
     "output_type": "stream",
     "text": [
      "Done  38.686 %, average grains/point   2.01, 0.002 /s/point, total 80.5 /s\r"
     ]
    },
    {
     "name": "stdout",
     "output_type": "stream",
     "text": [
      "Done  38.734 %, average grains/point   2.01, 0.002 /s/point, total 80.5 /s\r"
     ]
    },
    {
     "name": "stdout",
     "output_type": "stream",
     "text": [
      "Done  38.781 %, average grains/point   2.01, 0.002 /s/point, total 80.6 /s\r"
     ]
    },
    {
     "name": "stdout",
     "output_type": "stream",
     "text": [
      "Done  38.828 %, average grains/point   2.01, 0.002 /s/point, total 80.7 /s\r"
     ]
    },
    {
     "name": "stdout",
     "output_type": "stream",
     "text": [
      "Done  38.875 %, average grains/point   2.01, 0.002 /s/point, total 80.7 /s\r"
     ]
    },
    {
     "name": "stdout",
     "output_type": "stream",
     "text": [
      "Done  38.923 %, average grains/point   2.01, 0.002 /s/point, total 80.8 /s\r"
     ]
    },
    {
     "name": "stdout",
     "output_type": "stream",
     "text": [
      "Done  38.970 %, average grains/point   2.01, 0.002 /s/point, total 80.9 /s\r"
     ]
    },
    {
     "name": "stdout",
     "output_type": "stream",
     "text": [
      "Done  39.017 %, average grains/point   2.01, 0.002 /s/point, total 81.0 /s\r"
     ]
    },
    {
     "name": "stdout",
     "output_type": "stream",
     "text": [
      "Done  39.064 %, average grains/point   2.01, 0.002 /s/point, total 81.0 /s\r"
     ]
    },
    {
     "name": "stdout",
     "output_type": "stream",
     "text": [
      "Done  39.111 %, average grains/point   2.01, 0.002 /s/point, total 81.1 /s\r"
     ]
    },
    {
     "name": "stdout",
     "output_type": "stream",
     "text": [
      "Done  39.159 %, average grains/point   2.01, 0.002 /s/point, total 81.2 /s\r"
     ]
    },
    {
     "name": "stdout",
     "output_type": "stream",
     "text": [
      "Done  39.206 %, average grains/point   2.01, 0.002 /s/point, total 81.2 /s\r"
     ]
    },
    {
     "name": "stdout",
     "output_type": "stream",
     "text": [
      "Done  39.253 %, average grains/point   2.01, 0.002 /s/point, total 81.3 /s\r"
     ]
    },
    {
     "name": "stdout",
     "output_type": "stream",
     "text": [
      "Done  39.300 %, average grains/point   2.01, 0.002 /s/point, total 81.4 /s\r"
     ]
    },
    {
     "name": "stdout",
     "output_type": "stream",
     "text": [
      "Done  39.348 %, average grains/point   2.01, 0.002 /s/point, total 81.4 /s\r"
     ]
    },
    {
     "name": "stdout",
     "output_type": "stream",
     "text": [
      "Done  39.395 %, average grains/point   2.01, 0.002 /s/point, total 81.5 /s\r"
     ]
    },
    {
     "name": "stdout",
     "output_type": "stream",
     "text": [
      "Done  39.442 %, average grains/point   2.01, 0.002 /s/point, total 81.6 /s\r"
     ]
    },
    {
     "name": "stdout",
     "output_type": "stream",
     "text": [
      "Done  39.489 %, average grains/point   2.01, 0.002 /s/point, total 81.6 /s\r"
     ]
    },
    {
     "name": "stdout",
     "output_type": "stream",
     "text": [
      "Done  39.537 %, average grains/point   2.01, 0.002 /s/point, total 81.7 /s\r"
     ]
    },
    {
     "name": "stdout",
     "output_type": "stream",
     "text": [
      "Done  39.584 %, average grains/point   2.01, 0.002 /s/point, total 81.8 /s\r"
     ]
    },
    {
     "name": "stdout",
     "output_type": "stream",
     "text": [
      "Done  39.631 %, average grains/point   2.01, 0.002 /s/point, total 81.8 /s\r"
     ]
    },
    {
     "name": "stdout",
     "output_type": "stream",
     "text": [
      "Done  39.678 %, average grains/point   2.01, 0.002 /s/point, total 81.9 /s\r"
     ]
    },
    {
     "name": "stdout",
     "output_type": "stream",
     "text": [
      "Done  39.726 %, average grains/point   2.01, 0.002 /s/point, total 82.0 /s\r"
     ]
    },
    {
     "name": "stdout",
     "output_type": "stream",
     "text": [
      "Done  39.773 %, average grains/point   2.01, 0.002 /s/point, total 82.1 /s\r"
     ]
    },
    {
     "name": "stdout",
     "output_type": "stream",
     "text": [
      "Done  39.820 %, average grains/point   2.01, 0.002 /s/point, total 82.1 /s\r"
     ]
    },
    {
     "name": "stdout",
     "output_type": "stream",
     "text": [
      "Done  39.867 %, average grains/point   2.01, 0.002 /s/point, total 82.2 /s\r"
     ]
    },
    {
     "name": "stdout",
     "output_type": "stream",
     "text": [
      "Done  39.915 %, average grains/point   2.01, 0.002 /s/point, total 82.3 /s\r"
     ]
    },
    {
     "name": "stdout",
     "output_type": "stream",
     "text": [
      "Done  39.962 %, average grains/point   2.01, 0.002 /s/point, total 82.3 /s\r"
     ]
    },
    {
     "name": "stdout",
     "output_type": "stream",
     "text": [
      "Done  40.009 %, average grains/point   2.01, 0.002 /s/point, total 82.4 /s\r"
     ]
    },
    {
     "name": "stdout",
     "output_type": "stream",
     "text": [
      "Done  40.056 %, average grains/point   2.01, 0.002 /s/point, total 82.5 /s\r"
     ]
    },
    {
     "name": "stdout",
     "output_type": "stream",
     "text": [
      "Done  40.103 %, average grains/point   2.01, 0.002 /s/point, total 82.5 /s\r"
     ]
    },
    {
     "name": "stdout",
     "output_type": "stream",
     "text": [
      "Done  40.151 %, average grains/point   2.01, 0.002 /s/point, total 82.6 /s\r"
     ]
    },
    {
     "name": "stdout",
     "output_type": "stream",
     "text": [
      "Done  40.198 %, average grains/point   2.01, 0.002 /s/point, total 82.7 /s\r"
     ]
    },
    {
     "name": "stdout",
     "output_type": "stream",
     "text": [
      "Done  40.245 %, average grains/point   2.01, 0.002 /s/point, total 82.8 /s\r"
     ]
    },
    {
     "name": "stdout",
     "output_type": "stream",
     "text": [
      "Done  40.292 %, average grains/point   2.01, 0.002 /s/point, total 82.8 /s\r"
     ]
    },
    {
     "name": "stdout",
     "output_type": "stream",
     "text": [
      "Done  40.340 %, average grains/point   2.01, 0.002 /s/point, total 82.9 /s\r"
     ]
    },
    {
     "name": "stdout",
     "output_type": "stream",
     "text": [
      "Done  40.387 %, average grains/point   2.01, 0.002 /s/point, total 83.0 /s\r"
     ]
    },
    {
     "name": "stdout",
     "output_type": "stream",
     "text": [
      "Done  40.434 %, average grains/point   2.01, 0.002 /s/point, total 83.0 /s\r"
     ]
    },
    {
     "name": "stdout",
     "output_type": "stream",
     "text": [
      "Done  40.481 %, average grains/point   2.01, 0.002 /s/point, total 83.1 /s\r"
     ]
    },
    {
     "name": "stdout",
     "output_type": "stream",
     "text": [
      "Done  40.529 %, average grains/point   2.01, 0.002 /s/point, total 83.2 /s\r"
     ]
    },
    {
     "name": "stdout",
     "output_type": "stream",
     "text": [
      "Done  40.576 %, average grains/point   2.01, 0.002 /s/point, total 83.2 /s\r"
     ]
    },
    {
     "name": "stdout",
     "output_type": "stream",
     "text": [
      "Done  40.623 %, average grains/point   2.01, 0.002 /s/point, total 83.3 /s\r"
     ]
    },
    {
     "name": "stdout",
     "output_type": "stream",
     "text": [
      "Done  40.670 %, average grains/point   2.01, 0.002 /s/point, total 83.4 /s\r"
     ]
    },
    {
     "name": "stdout",
     "output_type": "stream",
     "text": [
      "Done  40.718 %, average grains/point   2.01, 0.002 /s/point, total 83.5 /s\r"
     ]
    },
    {
     "name": "stdout",
     "output_type": "stream",
     "text": [
      "Done  40.765 %, average grains/point   2.01, 0.002 /s/point, total 83.5 /s\r"
     ]
    },
    {
     "name": "stdout",
     "output_type": "stream",
     "text": [
      "Done  40.812 %, average grains/point   2.01, 0.002 /s/point, total 83.6 /s\r"
     ]
    },
    {
     "name": "stdout",
     "output_type": "stream",
     "text": [
      "Done  40.859 %, average grains/point   2.01, 0.002 /s/point, total 83.7 /s\r"
     ]
    },
    {
     "name": "stdout",
     "output_type": "stream",
     "text": [
      "Done  40.906 %, average grains/point   2.01, 0.002 /s/point, total 83.8 /s\r"
     ]
    },
    {
     "name": "stdout",
     "output_type": "stream",
     "text": [
      "Done  40.954 %, average grains/point   2.01, 0.002 /s/point, total 83.8 /s\r"
     ]
    },
    {
     "name": "stdout",
     "output_type": "stream",
     "text": [
      "Done  41.001 %, average grains/point   2.01, 0.002 /s/point, total 83.9 /s\r"
     ]
    },
    {
     "name": "stdout",
     "output_type": "stream",
     "text": [
      "Done  41.048 %, average grains/point   2.01, 0.002 /s/point, total 84.0 /s\r"
     ]
    },
    {
     "name": "stdout",
     "output_type": "stream",
     "text": [
      "Done  41.095 %, average grains/point   2.01, 0.002 /s/point, total 84.0 /s\r"
     ]
    },
    {
     "name": "stdout",
     "output_type": "stream",
     "text": [
      "Done  41.143 %, average grains/point   2.01, 0.002 /s/point, total 84.1 /s\r"
     ]
    },
    {
     "name": "stdout",
     "output_type": "stream",
     "text": [
      "Done  41.190 %, average grains/point   2.01, 0.002 /s/point, total 84.2 /s\r"
     ]
    },
    {
     "name": "stdout",
     "output_type": "stream",
     "text": [
      "Done  41.237 %, average grains/point   2.01, 0.002 /s/point, total 84.3 /s\r"
     ]
    },
    {
     "name": "stdout",
     "output_type": "stream",
     "text": [
      "Done  41.284 %, average grains/point   2.01, 0.002 /s/point, total 84.3 /s\r"
     ]
    },
    {
     "name": "stdout",
     "output_type": "stream",
     "text": [
      "Done  41.332 %, average grains/point   2.01, 0.002 /s/point, total 84.4 /s\r"
     ]
    },
    {
     "name": "stdout",
     "output_type": "stream",
     "text": [
      "Done  41.379 %, average grains/point   2.01, 0.002 /s/point, total 84.5 /s\r"
     ]
    },
    {
     "name": "stdout",
     "output_type": "stream",
     "text": [
      "Done  41.426 %, average grains/point   2.01, 0.002 /s/point, total 84.5 /s\r"
     ]
    },
    {
     "name": "stdout",
     "output_type": "stream",
     "text": [
      "Done  41.473 %, average grains/point   2.01, 0.002 /s/point, total 84.6 /s\r"
     ]
    },
    {
     "name": "stdout",
     "output_type": "stream",
     "text": [
      "Done  41.521 %, average grains/point   2.01, 0.002 /s/point, total 84.7 /s\r"
     ]
    },
    {
     "name": "stdout",
     "output_type": "stream",
     "text": [
      "Done  41.568 %, average grains/point   2.01, 0.002 /s/point, total 84.8 /s\r"
     ]
    },
    {
     "name": "stdout",
     "output_type": "stream",
     "text": [
      "Done  41.615 %, average grains/point   2.01, 0.002 /s/point, total 84.8 /s\r"
     ]
    },
    {
     "name": "stdout",
     "output_type": "stream",
     "text": [
      "Done  41.662 %, average grains/point   2.01, 0.002 /s/point, total 84.9 /s\r"
     ]
    },
    {
     "name": "stdout",
     "output_type": "stream",
     "text": [
      "Done  41.709 %, average grains/point   2.01, 0.002 /s/point, total 85.0 /s\r"
     ]
    },
    {
     "name": "stdout",
     "output_type": "stream",
     "text": [
      "Done  41.757 %, average grains/point   2.01, 0.002 /s/point, total 85.0 /s\r"
     ]
    },
    {
     "name": "stdout",
     "output_type": "stream",
     "text": [
      "Done  41.804 %, average grains/point   2.01, 0.002 /s/point, total 85.1 /s\r"
     ]
    },
    {
     "name": "stdout",
     "output_type": "stream",
     "text": [
      "Done  41.851 %, average grains/point   2.01, 0.002 /s/point, total 85.2 /s\r"
     ]
    },
    {
     "name": "stdout",
     "output_type": "stream",
     "text": [
      "Done  41.898 %, average grains/point   2.01, 0.002 /s/point, total 85.2 /s\r"
     ]
    },
    {
     "name": "stdout",
     "output_type": "stream",
     "text": [
      "Done  41.946 %, average grains/point   2.01, 0.002 /s/point, total 85.3 /s\r"
     ]
    },
    {
     "name": "stdout",
     "output_type": "stream",
     "text": [
      "Done  41.993 %, average grains/point   2.01, 0.002 /s/point, total 85.4 /s\r"
     ]
    },
    {
     "name": "stdout",
     "output_type": "stream",
     "text": [
      "Done  42.040 %, average grains/point   2.01, 0.002 /s/point, total 85.4 /s\r"
     ]
    },
    {
     "name": "stdout",
     "output_type": "stream",
     "text": [
      "Done  42.087 %, average grains/point   2.01, 0.002 /s/point, total 85.5 /s\r"
     ]
    },
    {
     "name": "stdout",
     "output_type": "stream",
     "text": [
      "Done  42.135 %, average grains/point   2.01, 0.002 /s/point, total 85.6 /s\r"
     ]
    },
    {
     "name": "stdout",
     "output_type": "stream",
     "text": [
      "Done  42.182 %, average grains/point   2.01, 0.002 /s/point, total 85.7 /s\r"
     ]
    },
    {
     "name": "stdout",
     "output_type": "stream",
     "text": [
      "Done  42.229 %, average grains/point   2.01, 0.002 /s/point, total 85.7 /s\r"
     ]
    },
    {
     "name": "stdout",
     "output_type": "stream",
     "text": [
      "Done  42.276 %, average grains/point   2.01, 0.002 /s/point, total 85.8 /s\r"
     ]
    },
    {
     "name": "stdout",
     "output_type": "stream",
     "text": [
      "Done  42.324 %, average grains/point   2.01, 0.002 /s/point, total 85.9 /s\r"
     ]
    },
    {
     "name": "stdout",
     "output_type": "stream",
     "text": [
      "Done  42.371 %, average grains/point   2.01, 0.002 /s/point, total 85.9 /s\r"
     ]
    },
    {
     "name": "stdout",
     "output_type": "stream",
     "text": [
      "Done  42.418 %, average grains/point   2.01, 0.002 /s/point, total 86.0 /s\r"
     ]
    },
    {
     "name": "stdout",
     "output_type": "stream",
     "text": [
      "Done  42.465 %, average grains/point   2.01, 0.002 /s/point, total 86.1 /s\r"
     ]
    },
    {
     "name": "stdout",
     "output_type": "stream",
     "text": [
      "Done  42.512 %, average grains/point   2.01, 0.002 /s/point, total 86.2 /s\r"
     ]
    },
    {
     "name": "stdout",
     "output_type": "stream",
     "text": [
      "Done  42.560 %, average grains/point   2.01, 0.002 /s/point, total 86.2 /s\r"
     ]
    },
    {
     "name": "stdout",
     "output_type": "stream",
     "text": [
      "Done  42.607 %, average grains/point   2.01, 0.002 /s/point, total 86.3 /s\r"
     ]
    },
    {
     "name": "stdout",
     "output_type": "stream",
     "text": [
      "Done  42.654 %, average grains/point   2.01, 0.002 /s/point, total 86.4 /s\r"
     ]
    },
    {
     "name": "stdout",
     "output_type": "stream",
     "text": [
      "Done  42.701 %, average grains/point   2.01, 0.002 /s/point, total 86.4 /s\r"
     ]
    },
    {
     "name": "stdout",
     "output_type": "stream",
     "text": [
      "Done  42.749 %, average grains/point   2.01, 0.002 /s/point, total 86.5 /s\r"
     ]
    },
    {
     "name": "stdout",
     "output_type": "stream",
     "text": [
      "Done  42.796 %, average grains/point   2.01, 0.002 /s/point, total 86.6 /s\r"
     ]
    },
    {
     "name": "stdout",
     "output_type": "stream",
     "text": [
      "Done  42.843 %, average grains/point   2.01, 0.002 /s/point, total 86.6 /s\r"
     ]
    },
    {
     "name": "stdout",
     "output_type": "stream",
     "text": [
      "Done  42.890 %, average grains/point   2.01, 0.002 /s/point, total 86.7 /s\r"
     ]
    },
    {
     "name": "stdout",
     "output_type": "stream",
     "text": [
      "Done  42.938 %, average grains/point   2.01, 0.002 /s/point, total 86.8 /s\r"
     ]
    },
    {
     "name": "stdout",
     "output_type": "stream",
     "text": [
      "Done  42.985 %, average grains/point   2.01, 0.002 /s/point, total 86.9 /s\r"
     ]
    },
    {
     "name": "stdout",
     "output_type": "stream",
     "text": [
      "Done  43.032 %, average grains/point   2.01, 0.002 /s/point, total 86.9 /s\r"
     ]
    },
    {
     "name": "stdout",
     "output_type": "stream",
     "text": [
      "Done  43.079 %, average grains/point   2.01, 0.002 /s/point, total 87.0 /s\r"
     ]
    },
    {
     "name": "stdout",
     "output_type": "stream",
     "text": [
      "Done  43.127 %, average grains/point   2.01, 0.002 /s/point, total 87.1 /s\r"
     ]
    },
    {
     "name": "stdout",
     "output_type": "stream",
     "text": [
      "Done  43.174 %, average grains/point   2.01, 0.002 /s/point, total 87.1 /s\r"
     ]
    },
    {
     "name": "stdout",
     "output_type": "stream",
     "text": [
      "Done  43.221 %, average grains/point   2.01, 0.002 /s/point, total 87.2 /s\r"
     ]
    },
    {
     "name": "stdout",
     "output_type": "stream",
     "text": [
      "Done  43.268 %, average grains/point   2.01, 0.002 /s/point, total 87.3 /s\r"
     ]
    },
    {
     "name": "stdout",
     "output_type": "stream",
     "text": [
      "Done  43.316 %, average grains/point   2.01, 0.002 /s/point, total 87.4 /s\r"
     ]
    },
    {
     "name": "stdout",
     "output_type": "stream",
     "text": [
      "Done  43.363 %, average grains/point   2.01, 0.002 /s/point, total 87.4 /s\r"
     ]
    },
    {
     "name": "stdout",
     "output_type": "stream",
     "text": [
      "Done  43.410 %, average grains/point   2.01, 0.002 /s/point, total 87.5 /s\r"
     ]
    },
    {
     "name": "stdout",
     "output_type": "stream",
     "text": [
      "Done  43.457 %, average grains/point   2.01, 0.002 /s/point, total 87.6 /s\r"
     ]
    },
    {
     "name": "stdout",
     "output_type": "stream",
     "text": [
      "Done  43.504 %, average grains/point   2.01, 0.002 /s/point, total 87.6 /s\r"
     ]
    },
    {
     "name": "stdout",
     "output_type": "stream",
     "text": [
      "Done  43.552 %, average grains/point   2.01, 0.002 /s/point, total 87.7 /s\r"
     ]
    },
    {
     "name": "stdout",
     "output_type": "stream",
     "text": [
      "Done  43.599 %, average grains/point   2.01, 0.002 /s/point, total 87.8 /s\r"
     ]
    },
    {
     "name": "stdout",
     "output_type": "stream",
     "text": [
      "Done  43.646 %, average grains/point   2.01, 0.002 /s/point, total 87.9 /s\r"
     ]
    },
    {
     "name": "stdout",
     "output_type": "stream",
     "text": [
      "Done  43.693 %, average grains/point   2.01, 0.002 /s/point, total 87.9 /s\r"
     ]
    },
    {
     "name": "stdout",
     "output_type": "stream",
     "text": [
      "Done  43.741 %, average grains/point   2.01, 0.002 /s/point, total 88.0 /s\r"
     ]
    },
    {
     "name": "stdout",
     "output_type": "stream",
     "text": [
      "Done  43.788 %, average grains/point   2.01, 0.002 /s/point, total 88.1 /s\r"
     ]
    },
    {
     "name": "stdout",
     "output_type": "stream",
     "text": [
      "Done  43.835 %, average grains/point   2.01, 0.002 /s/point, total 88.1 /s\r"
     ]
    },
    {
     "name": "stdout",
     "output_type": "stream",
     "text": [
      "Done  43.882 %, average grains/point   2.01, 0.002 /s/point, total 88.2 /s\r"
     ]
    },
    {
     "name": "stdout",
     "output_type": "stream",
     "text": [
      "Done  43.930 %, average grains/point   2.01, 0.002 /s/point, total 88.3 /s\r"
     ]
    },
    {
     "name": "stdout",
     "output_type": "stream",
     "text": [
      "Done  43.977 %, average grains/point   2.01, 0.002 /s/point, total 88.3 /s\r"
     ]
    },
    {
     "name": "stdout",
     "output_type": "stream",
     "text": [
      "Done  44.024 %, average grains/point   2.01, 0.002 /s/point, total 88.4 /s\r"
     ]
    },
    {
     "name": "stdout",
     "output_type": "stream",
     "text": [
      "Done  44.071 %, average grains/point   2.01, 0.002 /s/point, total 88.5 /s\r"
     ]
    },
    {
     "name": "stdout",
     "output_type": "stream",
     "text": [
      "Done  44.119 %, average grains/point   2.01, 0.002 /s/point, total 88.6 /s\r"
     ]
    },
    {
     "name": "stdout",
     "output_type": "stream",
     "text": [
      "Done  44.166 %, average grains/point   2.01, 0.002 /s/point, total 88.6 /s\r"
     ]
    },
    {
     "name": "stdout",
     "output_type": "stream",
     "text": [
      "Done  44.213 %, average grains/point   2.01, 0.002 /s/point, total 88.7 /s\r"
     ]
    },
    {
     "name": "stdout",
     "output_type": "stream",
     "text": [
      "Done  44.260 %, average grains/point   2.01, 0.002 /s/point, total 88.8 /s\r"
     ]
    },
    {
     "name": "stdout",
     "output_type": "stream",
     "text": [
      "Done  44.307 %, average grains/point   2.01, 0.002 /s/point, total 88.8 /s\r"
     ]
    },
    {
     "name": "stdout",
     "output_type": "stream",
     "text": [
      "Done  44.355 %, average grains/point   2.01, 0.002 /s/point, total 88.9 /s\r"
     ]
    },
    {
     "name": "stdout",
     "output_type": "stream",
     "text": [
      "Done  44.402 %, average grains/point   2.01, 0.002 /s/point, total 89.0 /s\r"
     ]
    },
    {
     "name": "stdout",
     "output_type": "stream",
     "text": [
      "Done  44.449 %, average grains/point   2.01, 0.002 /s/point, total 89.1 /s\r"
     ]
    },
    {
     "name": "stdout",
     "output_type": "stream",
     "text": [
      "Done  44.496 %, average grains/point   2.01, 0.002 /s/point, total 89.1 /s\r"
     ]
    },
    {
     "name": "stdout",
     "output_type": "stream",
     "text": [
      "Done  44.544 %, average grains/point   2.01, 0.002 /s/point, total 89.2 /s\r"
     ]
    },
    {
     "name": "stdout",
     "output_type": "stream",
     "text": [
      "Done  44.591 %, average grains/point   2.01, 0.002 /s/point, total 89.3 /s\r"
     ]
    },
    {
     "name": "stdout",
     "output_type": "stream",
     "text": [
      "Done  44.638 %, average grains/point   2.01, 0.002 /s/point, total 89.3 /s\r"
     ]
    },
    {
     "name": "stdout",
     "output_type": "stream",
     "text": [
      "Done  44.685 %, average grains/point   2.01, 0.002 /s/point, total 89.4 /s\r"
     ]
    },
    {
     "name": "stdout",
     "output_type": "stream",
     "text": [
      "Done  44.733 %, average grains/point   2.01, 0.002 /s/point, total 89.5 /s\r"
     ]
    },
    {
     "name": "stdout",
     "output_type": "stream",
     "text": [
      "Done  44.780 %, average grains/point   2.01, 0.002 /s/point, total 89.6 /s\r"
     ]
    },
    {
     "name": "stdout",
     "output_type": "stream",
     "text": [
      "Done  44.827 %, average grains/point   2.01, 0.002 /s/point, total 89.6 /s\r"
     ]
    },
    {
     "name": "stdout",
     "output_type": "stream",
     "text": [
      "Done  44.874 %, average grains/point   2.01, 0.002 /s/point, total 89.7 /s\r"
     ]
    },
    {
     "name": "stdout",
     "output_type": "stream",
     "text": [
      "Done  44.922 %, average grains/point   2.01, 0.002 /s/point, total 89.8 /s\r"
     ]
    },
    {
     "name": "stdout",
     "output_type": "stream",
     "text": [
      "Done  44.969 %, average grains/point   2.01, 0.002 /s/point, total 89.8 /s\r"
     ]
    },
    {
     "name": "stdout",
     "output_type": "stream",
     "text": [
      "Done  45.016 %, average grains/point   2.01, 0.002 /s/point, total 89.9 /s\r"
     ]
    },
    {
     "name": "stdout",
     "output_type": "stream",
     "text": [
      "Done  45.063 %, average grains/point   2.01, 0.002 /s/point, total 90.0 /s\r"
     ]
    },
    {
     "name": "stdout",
     "output_type": "stream",
     "text": [
      "Done  45.110 %, average grains/point   2.01, 0.002 /s/point, total 90.0 /s\r"
     ]
    },
    {
     "name": "stdout",
     "output_type": "stream",
     "text": [
      "Done  45.158 %, average grains/point   2.01, 0.002 /s/point, total 90.1 /s\r"
     ]
    },
    {
     "name": "stdout",
     "output_type": "stream",
     "text": [
      "Done  45.205 %, average grains/point   2.01, 0.002 /s/point, total 90.2 /s\r"
     ]
    },
    {
     "name": "stdout",
     "output_type": "stream",
     "text": [
      "Done  45.252 %, average grains/point   2.01, 0.002 /s/point, total 90.3 /s\r"
     ]
    },
    {
     "name": "stdout",
     "output_type": "stream",
     "text": [
      "Done  45.299 %, average grains/point   2.01, 0.002 /s/point, total 90.3 /s\r"
     ]
    },
    {
     "name": "stdout",
     "output_type": "stream",
     "text": [
      "Done  45.347 %, average grains/point   2.01, 0.002 /s/point, total 90.4 /s\r"
     ]
    },
    {
     "name": "stdout",
     "output_type": "stream",
     "text": [
      "Done  45.394 %, average grains/point   2.01, 0.002 /s/point, total 90.5 /s\r"
     ]
    },
    {
     "name": "stdout",
     "output_type": "stream",
     "text": [
      "Done  45.441 %, average grains/point   2.01, 0.002 /s/point, total 90.5 /s\r"
     ]
    },
    {
     "name": "stdout",
     "output_type": "stream",
     "text": [
      "Done  45.488 %, average grains/point   2.01, 0.002 /s/point, total 90.6 /s\r"
     ]
    },
    {
     "name": "stdout",
     "output_type": "stream",
     "text": [
      "Done  45.536 %, average grains/point   2.01, 0.002 /s/point, total 90.7 /s\r"
     ]
    },
    {
     "name": "stdout",
     "output_type": "stream",
     "text": [
      "Done  45.583 %, average grains/point   2.01, 0.002 /s/point, total 90.8 /s\r"
     ]
    },
    {
     "name": "stdout",
     "output_type": "stream",
     "text": [
      "Done  45.630 %, average grains/point   2.01, 0.002 /s/point, total 90.8 /s\r"
     ]
    },
    {
     "name": "stdout",
     "output_type": "stream",
     "text": [
      "Done  45.677 %, average grains/point   2.01, 0.002 /s/point, total 90.9 /s\r"
     ]
    },
    {
     "name": "stdout",
     "output_type": "stream",
     "text": [
      "Done  45.725 %, average grains/point   2.01, 0.002 /s/point, total 91.0 /s\r"
     ]
    },
    {
     "name": "stdout",
     "output_type": "stream",
     "text": [
      "Done  45.772 %, average grains/point   2.01, 0.002 /s/point, total 91.0 /s\r"
     ]
    },
    {
     "name": "stdout",
     "output_type": "stream",
     "text": [
      "Done  45.819 %, average grains/point   2.01, 0.002 /s/point, total 91.1 /s\r"
     ]
    },
    {
     "name": "stdout",
     "output_type": "stream",
     "text": [
      "Done  45.866 %, average grains/point   2.01, 0.002 /s/point, total 91.2 /s\r"
     ]
    },
    {
     "name": "stdout",
     "output_type": "stream",
     "text": [
      "Done  45.913 %, average grains/point   2.01, 0.002 /s/point, total 91.3 /s\r"
     ]
    },
    {
     "name": "stdout",
     "output_type": "stream",
     "text": [
      "Done  45.961 %, average grains/point   2.01, 0.002 /s/point, total 91.3 /s\r"
     ]
    },
    {
     "name": "stdout",
     "output_type": "stream",
     "text": [
      "Done  46.008 %, average grains/point   2.01, 0.002 /s/point, total 91.4 /s\r"
     ]
    },
    {
     "name": "stdout",
     "output_type": "stream",
     "text": [
      "Done  46.055 %, average grains/point   2.01, 0.002 /s/point, total 91.5 /s\r"
     ]
    },
    {
     "name": "stdout",
     "output_type": "stream",
     "text": [
      "Done  46.102 %, average grains/point   2.01, 0.002 /s/point, total 91.5 /s\r"
     ]
    },
    {
     "name": "stdout",
     "output_type": "stream",
     "text": [
      "Done  46.150 %, average grains/point   2.01, 0.002 /s/point, total 91.6 /s\r"
     ]
    },
    {
     "name": "stdout",
     "output_type": "stream",
     "text": [
      "Done  46.197 %, average grains/point   2.01, 0.002 /s/point, total 91.6 /s\r"
     ]
    },
    {
     "name": "stdout",
     "output_type": "stream",
     "text": [
      "Done  46.244 %, average grains/point   2.01, 0.002 /s/point, total 91.7 /s\r"
     ]
    },
    {
     "name": "stdout",
     "output_type": "stream",
     "text": [
      "Done  46.291 %, average grains/point   2.01, 0.002 /s/point, total 91.8 /s\r"
     ]
    },
    {
     "name": "stdout",
     "output_type": "stream",
     "text": [
      "Done  46.339 %, average grains/point   2.01, 0.002 /s/point, total 91.9 /s\r"
     ]
    },
    {
     "name": "stdout",
     "output_type": "stream",
     "text": [
      "Done  46.386 %, average grains/point   2.01, 0.002 /s/point, total 91.9 /s\r"
     ]
    },
    {
     "name": "stdout",
     "output_type": "stream",
     "text": [
      "Done  46.433 %, average grains/point   2.01, 0.002 /s/point, total 92.0 /s\r"
     ]
    },
    {
     "name": "stdout",
     "output_type": "stream",
     "text": [
      "Done  46.480 %, average grains/point   2.01, 0.002 /s/point, total 92.1 /s\r"
     ]
    },
    {
     "name": "stdout",
     "output_type": "stream",
     "text": [
      "Done  46.528 %, average grains/point   2.01, 0.002 /s/point, total 92.1 /s\r"
     ]
    },
    {
     "name": "stdout",
     "output_type": "stream",
     "text": [
      "Done  46.575 %, average grains/point   2.01, 0.002 /s/point, total 92.2 /s\r"
     ]
    },
    {
     "name": "stdout",
     "output_type": "stream",
     "text": [
      "Done  46.622 %, average grains/point   2.01, 0.002 /s/point, total 92.3 /s\r"
     ]
    },
    {
     "name": "stdout",
     "output_type": "stream",
     "text": [
      "Done  46.669 %, average grains/point   2.01, 0.002 /s/point, total 92.4 /s\r"
     ]
    },
    {
     "name": "stdout",
     "output_type": "stream",
     "text": [
      "Done  46.717 %, average grains/point   2.01, 0.002 /s/point, total 92.4 /s\r"
     ]
    },
    {
     "name": "stdout",
     "output_type": "stream",
     "text": [
      "Done  46.764 %, average grains/point   2.01, 0.002 /s/point, total 92.5 /s\r"
     ]
    },
    {
     "name": "stdout",
     "output_type": "stream",
     "text": [
      "Done  46.811 %, average grains/point   2.01, 0.002 /s/point, total 92.6 /s\r"
     ]
    },
    {
     "name": "stdout",
     "output_type": "stream",
     "text": [
      "Done  46.858 %, average grains/point   2.01, 0.002 /s/point, total 92.7 /s\r"
     ]
    },
    {
     "name": "stdout",
     "output_type": "stream",
     "text": [
      "Done  46.905 %, average grains/point   2.01, 0.002 /s/point, total 92.7 /s\r"
     ]
    },
    {
     "name": "stdout",
     "output_type": "stream",
     "text": [
      "Done  46.953 %, average grains/point   2.01, 0.002 /s/point, total 92.8 /s\r"
     ]
    },
    {
     "name": "stdout",
     "output_type": "stream",
     "text": [
      "Done  47.000 %, average grains/point   2.01, 0.002 /s/point, total 92.9 /s\r"
     ]
    },
    {
     "name": "stdout",
     "output_type": "stream",
     "text": [
      "Done  47.047 %, average grains/point   2.01, 0.002 /s/point, total 92.9 /s\r"
     ]
    },
    {
     "name": "stdout",
     "output_type": "stream",
     "text": [
      "Done  47.094 %, average grains/point   2.01, 0.002 /s/point, total 93.0 /s\r"
     ]
    },
    {
     "name": "stdout",
     "output_type": "stream",
     "text": [
      "Done  47.142 %, average grains/point   2.01, 0.002 /s/point, total 93.1 /s\r"
     ]
    },
    {
     "name": "stdout",
     "output_type": "stream",
     "text": [
      "Done  47.189 %, average grains/point   2.01, 0.002 /s/point, total 93.1 /s\r"
     ]
    },
    {
     "name": "stdout",
     "output_type": "stream",
     "text": [
      "Done  47.236 %, average grains/point   2.01, 0.002 /s/point, total 93.2 /s\r"
     ]
    },
    {
     "name": "stdout",
     "output_type": "stream",
     "text": [
      "Done  47.283 %, average grains/point   2.01, 0.002 /s/point, total 93.3 /s\r"
     ]
    },
    {
     "name": "stdout",
     "output_type": "stream",
     "text": [
      "Done  47.331 %, average grains/point   2.01, 0.002 /s/point, total 93.3 /s\r"
     ]
    },
    {
     "name": "stdout",
     "output_type": "stream",
     "text": [
      "Done  47.378 %, average grains/point   2.01, 0.002 /s/point, total 93.4 /s\r"
     ]
    },
    {
     "name": "stdout",
     "output_type": "stream",
     "text": [
      "Done  47.425 %, average grains/point   2.01, 0.002 /s/point, total 93.5 /s\r"
     ]
    },
    {
     "name": "stdout",
     "output_type": "stream",
     "text": [
      "Done  47.472 %, average grains/point   2.01, 0.002 /s/point, total 93.6 /s\r"
     ]
    },
    {
     "name": "stdout",
     "output_type": "stream",
     "text": [
      "Done  47.520 %, average grains/point   2.01, 0.002 /s/point, total 93.6 /s\r"
     ]
    },
    {
     "name": "stdout",
     "output_type": "stream",
     "text": [
      "Done  47.567 %, average grains/point   2.01, 0.002 /s/point, total 93.7 /s\r"
     ]
    },
    {
     "name": "stdout",
     "output_type": "stream",
     "text": [
      "Done  47.614 %, average grains/point   2.01, 0.002 /s/point, total 93.8 /s\r"
     ]
    },
    {
     "name": "stdout",
     "output_type": "stream",
     "text": [
      "Done  47.661 %, average grains/point   2.01, 0.002 /s/point, total 93.8 /s\r"
     ]
    },
    {
     "name": "stdout",
     "output_type": "stream",
     "text": [
      "Done  47.708 %, average grains/point   2.01, 0.002 /s/point, total 93.9 /s\r"
     ]
    },
    {
     "name": "stdout",
     "output_type": "stream",
     "text": [
      "Done  47.756 %, average grains/point   2.01, 0.002 /s/point, total 94.0 /s\r"
     ]
    },
    {
     "name": "stdout",
     "output_type": "stream",
     "text": [
      "Done  47.803 %, average grains/point   2.01, 0.002 /s/point, total 94.0 /s\r"
     ]
    },
    {
     "name": "stdout",
     "output_type": "stream",
     "text": [
      "Done  47.850 %, average grains/point   2.01, 0.002 /s/point, total 94.1 /s\r"
     ]
    },
    {
     "name": "stdout",
     "output_type": "stream",
     "text": [
      "Done  47.897 %, average grains/point   2.01, 0.002 /s/point, total 94.2 /s\r"
     ]
    },
    {
     "name": "stdout",
     "output_type": "stream",
     "text": [
      "Done  47.945 %, average grains/point   2.01, 0.002 /s/point, total 94.2 /s\r"
     ]
    },
    {
     "name": "stdout",
     "output_type": "stream",
     "text": [
      "Done  47.992 %, average grains/point   2.01, 0.002 /s/point, total 94.3 /s\r"
     ]
    },
    {
     "name": "stdout",
     "output_type": "stream",
     "text": [
      "Done  48.039 %, average grains/point   2.01, 0.002 /s/point, total 94.4 /s\r"
     ]
    },
    {
     "name": "stdout",
     "output_type": "stream",
     "text": [
      "Done  48.086 %, average grains/point   2.01, 0.002 /s/point, total 94.4 /s\r"
     ]
    },
    {
     "name": "stdout",
     "output_type": "stream",
     "text": [
      "Done  48.134 %, average grains/point   2.01, 0.002 /s/point, total 94.5 /s\r"
     ]
    },
    {
     "name": "stdout",
     "output_type": "stream",
     "text": [
      "Done  48.181 %, average grains/point   2.01, 0.002 /s/point, total 94.6 /s\r"
     ]
    },
    {
     "name": "stdout",
     "output_type": "stream",
     "text": [
      "Done  48.228 %, average grains/point   2.01, 0.002 /s/point, total 94.7 /s\r"
     ]
    },
    {
     "name": "stdout",
     "output_type": "stream",
     "text": [
      "Done  48.275 %, average grains/point   2.01, 0.002 /s/point, total 94.7 /s\r"
     ]
    },
    {
     "name": "stdout",
     "output_type": "stream",
     "text": [
      "Done  48.323 %, average grains/point   2.01, 0.002 /s/point, total 94.8 /s\r"
     ]
    },
    {
     "name": "stdout",
     "output_type": "stream",
     "text": [
      "Done  48.370 %, average grains/point   2.01, 0.002 /s/point, total 94.9 /s\r"
     ]
    },
    {
     "name": "stdout",
     "output_type": "stream",
     "text": [
      "Done  48.417 %, average grains/point   2.01, 0.002 /s/point, total 94.9 /s\r"
     ]
    },
    {
     "name": "stdout",
     "output_type": "stream",
     "text": [
      "Done  48.464 %, average grains/point   2.01, 0.002 /s/point, total 95.0 /s\r"
     ]
    },
    {
     "name": "stdout",
     "output_type": "stream",
     "text": [
      "Done  48.511 %, average grains/point   2.01, 0.002 /s/point, total 95.1 /s\r"
     ]
    },
    {
     "name": "stdout",
     "output_type": "stream",
     "text": [
      "Done  48.559 %, average grains/point   2.01, 0.002 /s/point, total 95.2 /s\r"
     ]
    },
    {
     "name": "stdout",
     "output_type": "stream",
     "text": [
      "Done  48.606 %, average grains/point   2.01, 0.002 /s/point, total 95.2 /s\r"
     ]
    },
    {
     "name": "stdout",
     "output_type": "stream",
     "text": [
      "Done  48.653 %, average grains/point   2.01, 0.002 /s/point, total 95.3 /s\r"
     ]
    },
    {
     "name": "stdout",
     "output_type": "stream",
     "text": [
      "Done  48.700 %, average grains/point   2.01, 0.002 /s/point, total 95.4 /s\r"
     ]
    },
    {
     "name": "stdout",
     "output_type": "stream",
     "text": [
      "Done  48.748 %, average grains/point   2.01, 0.002 /s/point, total 95.4 /s\r"
     ]
    },
    {
     "name": "stdout",
     "output_type": "stream",
     "text": [
      "Done  48.795 %, average grains/point   2.01, 0.002 /s/point, total 95.5 /s\r"
     ]
    },
    {
     "name": "stdout",
     "output_type": "stream",
     "text": [
      "Done  48.842 %, average grains/point   2.01, 0.002 /s/point, total 95.6 /s\r"
     ]
    },
    {
     "name": "stdout",
     "output_type": "stream",
     "text": [
      "Done  48.889 %, average grains/point   2.01, 0.002 /s/point, total 95.6 /s\r"
     ]
    },
    {
     "name": "stdout",
     "output_type": "stream",
     "text": [
      "Done  48.937 %, average grains/point   2.01, 0.002 /s/point, total 95.7 /s\r"
     ]
    },
    {
     "name": "stdout",
     "output_type": "stream",
     "text": [
      "Done  48.984 %, average grains/point   2.01, 0.002 /s/point, total 95.8 /s\r"
     ]
    },
    {
     "name": "stdout",
     "output_type": "stream",
     "text": [
      "Done  49.031 %, average grains/point   2.01, 0.002 /s/point, total 95.9 /s\r"
     ]
    },
    {
     "name": "stdout",
     "output_type": "stream",
     "text": [
      "Done  49.078 %, average grains/point   2.01, 0.002 /s/point, total 95.9 /s\r"
     ]
    },
    {
     "name": "stdout",
     "output_type": "stream",
     "text": [
      "Done  49.126 %, average grains/point   2.01, 0.002 /s/point, total 96.0 /s\r"
     ]
    },
    {
     "name": "stdout",
     "output_type": "stream",
     "text": [
      "Done  49.173 %, average grains/point   2.01, 0.002 /s/point, total 96.1 /s\r"
     ]
    },
    {
     "name": "stdout",
     "output_type": "stream",
     "text": [
      "Done  49.220 %, average grains/point   2.01, 0.002 /s/point, total 96.1 /s\r"
     ]
    },
    {
     "name": "stdout",
     "output_type": "stream",
     "text": [
      "Done  49.267 %, average grains/point   2.01, 0.002 /s/point, total 96.2 /s\r"
     ]
    },
    {
     "name": "stdout",
     "output_type": "stream",
     "text": [
      "Done  49.314 %, average grains/point   2.01, 0.002 /s/point, total 96.3 /s\r"
     ]
    },
    {
     "name": "stdout",
     "output_type": "stream",
     "text": [
      "Done  49.362 %, average grains/point   2.01, 0.002 /s/point, total 96.4 /s\r"
     ]
    },
    {
     "name": "stdout",
     "output_type": "stream",
     "text": [
      "Done  49.409 %, average grains/point   2.01, 0.002 /s/point, total 96.4 /s\r"
     ]
    },
    {
     "name": "stdout",
     "output_type": "stream",
     "text": [
      "Done  49.456 %, average grains/point   2.01, 0.002 /s/point, total 96.5 /s\r"
     ]
    },
    {
     "name": "stdout",
     "output_type": "stream",
     "text": [
      "Done  49.503 %, average grains/point   2.01, 0.002 /s/point, total 96.6 /s\r"
     ]
    },
    {
     "name": "stdout",
     "output_type": "stream",
     "text": [
      "Done  49.551 %, average grains/point   2.01, 0.002 /s/point, total 96.7 /s\r"
     ]
    },
    {
     "name": "stdout",
     "output_type": "stream",
     "text": [
      "Done  49.598 %, average grains/point   2.01, 0.002 /s/point, total 96.7 /s\r"
     ]
    },
    {
     "name": "stdout",
     "output_type": "stream",
     "text": [
      "Done  49.645 %, average grains/point   2.01, 0.002 /s/point, total 96.8 /s\r"
     ]
    },
    {
     "name": "stdout",
     "output_type": "stream",
     "text": [
      "Done  49.692 %, average grains/point   2.01, 0.002 /s/point, total 96.9 /s\r"
     ]
    },
    {
     "name": "stdout",
     "output_type": "stream",
     "text": [
      "Done  49.740 %, average grains/point   2.01, 0.002 /s/point, total 96.9 /s\r"
     ]
    },
    {
     "name": "stdout",
     "output_type": "stream",
     "text": [
      "Done  49.787 %, average grains/point   2.01, 0.002 /s/point, total 97.0 /s\r"
     ]
    },
    {
     "name": "stdout",
     "output_type": "stream",
     "text": [
      "Done  49.834 %, average grains/point   2.01, 0.002 /s/point, total 97.1 /s\r"
     ]
    },
    {
     "name": "stdout",
     "output_type": "stream",
     "text": [
      "Done  49.881 %, average grains/point   2.01, 0.002 /s/point, total 97.1 /s\r"
     ]
    },
    {
     "name": "stdout",
     "output_type": "stream",
     "text": [
      "Done  49.929 %, average grains/point   2.01, 0.002 /s/point, total 97.2 /s\r"
     ]
    },
    {
     "name": "stdout",
     "output_type": "stream",
     "text": [
      "Done  49.976 %, average grains/point   2.01, 0.002 /s/point, total 97.3 /s\r"
     ]
    },
    {
     "name": "stdout",
     "output_type": "stream",
     "text": [
      "Done  50.023 %, average grains/point   2.01, 0.002 /s/point, total 97.4 /s\r"
     ]
    },
    {
     "name": "stdout",
     "output_type": "stream",
     "text": [
      "Done  50.070 %, average grains/point   2.01, 0.002 /s/point, total 97.4 /s\r"
     ]
    },
    {
     "name": "stdout",
     "output_type": "stream",
     "text": [
      "Done  50.117 %, average grains/point   2.01, 0.002 /s/point, total 97.5 /s\r"
     ]
    },
    {
     "name": "stdout",
     "output_type": "stream",
     "text": [
      "Done  50.165 %, average grains/point   2.01, 0.002 /s/point, total 97.6 /s\r"
     ]
    },
    {
     "name": "stdout",
     "output_type": "stream",
     "text": [
      "Done  50.212 %, average grains/point   2.01, 0.002 /s/point, total 97.6 /s\r"
     ]
    },
    {
     "name": "stdout",
     "output_type": "stream",
     "text": [
      "Done  50.259 %, average grains/point   2.01, 0.002 /s/point, total 97.7 /s\r"
     ]
    },
    {
     "name": "stdout",
     "output_type": "stream",
     "text": [
      "Done  50.306 %, average grains/point   2.01, 0.002 /s/point, total 97.8 /s\r"
     ]
    },
    {
     "name": "stdout",
     "output_type": "stream",
     "text": [
      "Done  50.354 %, average grains/point   2.01, 0.002 /s/point, total 97.8 /s\r"
     ]
    },
    {
     "name": "stdout",
     "output_type": "stream",
     "text": [
      "Done  50.401 %, average grains/point   2.01, 0.002 /s/point, total 97.9 /s\r"
     ]
    },
    {
     "name": "stdout",
     "output_type": "stream",
     "text": [
      "Done  50.448 %, average grains/point   2.01, 0.002 /s/point, total 98.0 /s\r"
     ]
    },
    {
     "name": "stdout",
     "output_type": "stream",
     "text": [
      "Done  50.495 %, average grains/point   2.01, 0.002 /s/point, total 98.1 /s\r"
     ]
    },
    {
     "name": "stdout",
     "output_type": "stream",
     "text": [
      "Done  50.543 %, average grains/point   2.01, 0.002 /s/point, total 98.1 /s\r"
     ]
    },
    {
     "name": "stdout",
     "output_type": "stream",
     "text": [
      "Done  50.590 %, average grains/point   2.01, 0.002 /s/point, total 98.2 /s\r"
     ]
    },
    {
     "name": "stdout",
     "output_type": "stream",
     "text": [
      "Done  50.637 %, average grains/point   2.01, 0.002 /s/point, total 98.3 /s\r"
     ]
    },
    {
     "name": "stdout",
     "output_type": "stream",
     "text": [
      "Done  50.684 %, average grains/point   2.01, 0.002 /s/point, total 98.3 /s\r"
     ]
    },
    {
     "name": "stdout",
     "output_type": "stream",
     "text": [
      "Done  50.732 %, average grains/point   2.01, 0.002 /s/point, total 98.4 /s\r"
     ]
    },
    {
     "name": "stdout",
     "output_type": "stream",
     "text": [
      "Done  50.779 %, average grains/point   2.01, 0.002 /s/point, total 98.5 /s\r"
     ]
    },
    {
     "name": "stdout",
     "output_type": "stream",
     "text": [
      "Done  50.826 %, average grains/point   2.01, 0.002 /s/point, total 98.6 /s\r"
     ]
    },
    {
     "name": "stdout",
     "output_type": "stream",
     "text": [
      "Done  50.873 %, average grains/point   2.01, 0.002 /s/point, total 98.6 /s\r"
     ]
    },
    {
     "name": "stdout",
     "output_type": "stream",
     "text": [
      "Done  50.921 %, average grains/point   2.01, 0.002 /s/point, total 98.7 /s\r"
     ]
    },
    {
     "name": "stdout",
     "output_type": "stream",
     "text": [
      "Done  50.968 %, average grains/point   2.01, 0.002 /s/point, total 98.8 /s\r"
     ]
    },
    {
     "name": "stdout",
     "output_type": "stream",
     "text": [
      "Done  51.015 %, average grains/point   2.01, 0.002 /s/point, total 98.8 /s\r"
     ]
    },
    {
     "name": "stdout",
     "output_type": "stream",
     "text": [
      "Done  51.062 %, average grains/point   2.01, 0.002 /s/point, total 98.9 /s\r"
     ]
    },
    {
     "name": "stdout",
     "output_type": "stream",
     "text": [
      "Done  51.109 %, average grains/point   2.01, 0.002 /s/point, total 99.0 /s\r"
     ]
    },
    {
     "name": "stdout",
     "output_type": "stream",
     "text": [
      "Done  51.157 %, average grains/point   2.01, 0.002 /s/point, total 99.0 /s\r"
     ]
    },
    {
     "name": "stdout",
     "output_type": "stream",
     "text": [
      "Done  51.204 %, average grains/point   2.01, 0.002 /s/point, total 99.1 /s\r"
     ]
    },
    {
     "name": "stdout",
     "output_type": "stream",
     "text": [
      "Done  51.251 %, average grains/point   2.01, 0.002 /s/point, total 99.2 /s\r"
     ]
    },
    {
     "name": "stdout",
     "output_type": "stream",
     "text": [
      "Done  51.298 %, average grains/point   2.01, 0.002 /s/point, total 99.2 /s\r"
     ]
    },
    {
     "name": "stdout",
     "output_type": "stream",
     "text": [
      "Done  51.346 %, average grains/point   2.01, 0.002 /s/point, total 99.3 /s\r"
     ]
    },
    {
     "name": "stdout",
     "output_type": "stream",
     "text": [
      "Done  51.393 %, average grains/point   2.01, 0.002 /s/point, total 99.4 /s\r"
     ]
    },
    {
     "name": "stdout",
     "output_type": "stream",
     "text": [
      "Done  51.440 %, average grains/point   2.01, 0.002 /s/point, total 99.4 /s\r"
     ]
    },
    {
     "name": "stdout",
     "output_type": "stream",
     "text": [
      "Done  51.487 %, average grains/point   2.01, 0.002 /s/point, total 99.5 /s\r"
     ]
    },
    {
     "name": "stdout",
     "output_type": "stream",
     "text": [
      "Done  51.535 %, average grains/point   2.01, 0.002 /s/point, total 99.6 /s\r"
     ]
    },
    {
     "name": "stdout",
     "output_type": "stream",
     "text": [
      "Done  51.582 %, average grains/point   2.01, 0.002 /s/point, total 99.7 /s\r"
     ]
    },
    {
     "name": "stdout",
     "output_type": "stream",
     "text": [
      "Done  51.629 %, average grains/point   2.01, 0.002 /s/point, total 99.7 /s\r"
     ]
    },
    {
     "name": "stdout",
     "output_type": "stream",
     "text": [
      "Done  51.676 %, average grains/point   2.01, 0.002 /s/point, total 99.8 /s\r"
     ]
    },
    {
     "name": "stdout",
     "output_type": "stream",
     "text": [
      "Done  51.724 %, average grains/point   2.01, 0.002 /s/point, total 99.9 /s\r"
     ]
    },
    {
     "name": "stdout",
     "output_type": "stream",
     "text": [
      "Done  51.771 %, average grains/point   2.01, 0.002 /s/point, total 99.9 /s\r"
     ]
    },
    {
     "name": "stdout",
     "output_type": "stream",
     "text": [
      "Done  51.818 %, average grains/point   2.01, 0.002 /s/point, total 100.0 /s\r"
     ]
    },
    {
     "name": "stdout",
     "output_type": "stream",
     "text": [
      "Done  51.865 %, average grains/point   2.01, 0.002 /s/point, total 100.1 /s\r"
     ]
    },
    {
     "name": "stdout",
     "output_type": "stream",
     "text": [
      "Done  51.912 %, average grains/point   2.01, 0.002 /s/point, total 100.2 /s\r"
     ]
    },
    {
     "name": "stdout",
     "output_type": "stream",
     "text": [
      "Done  51.960 %, average grains/point   2.01, 0.002 /s/point, total 100.2 /s\r"
     ]
    },
    {
     "name": "stdout",
     "output_type": "stream",
     "text": [
      "Done  52.007 %, average grains/point   2.01, 0.002 /s/point, total 100.3 /s\r"
     ]
    },
    {
     "name": "stdout",
     "output_type": "stream",
     "text": [
      "Done  52.054 %, average grains/point   2.01, 0.002 /s/point, total 100.4 /s\r"
     ]
    },
    {
     "name": "stdout",
     "output_type": "stream",
     "text": [
      "Done  52.101 %, average grains/point   2.01, 0.002 /s/point, total 100.4 /s\r"
     ]
    },
    {
     "name": "stdout",
     "output_type": "stream",
     "text": [
      "Done  52.149 %, average grains/point   2.01, 0.002 /s/point, total 100.5 /s\r"
     ]
    },
    {
     "name": "stdout",
     "output_type": "stream",
     "text": [
      "Done  52.196 %, average grains/point   2.01, 0.002 /s/point, total 100.6 /s\r"
     ]
    },
    {
     "name": "stdout",
     "output_type": "stream",
     "text": [
      "Done  52.243 %, average grains/point   2.01, 0.002 /s/point, total 100.7 /s\r"
     ]
    },
    {
     "name": "stdout",
     "output_type": "stream",
     "text": [
      "Done  52.290 %, average grains/point   2.01, 0.002 /s/point, total 100.7 /s\r"
     ]
    },
    {
     "name": "stdout",
     "output_type": "stream",
     "text": [
      "Done  52.338 %, average grains/point   2.01, 0.002 /s/point, total 100.8 /s\r"
     ]
    },
    {
     "name": "stdout",
     "output_type": "stream",
     "text": [
      "Done  52.385 %, average grains/point   2.01, 0.002 /s/point, total 100.9 /s\r"
     ]
    },
    {
     "name": "stdout",
     "output_type": "stream",
     "text": [
      "Done  52.432 %, average grains/point   2.01, 0.002 /s/point, total 100.9 /s\r"
     ]
    },
    {
     "name": "stdout",
     "output_type": "stream",
     "text": [
      "Done  52.479 %, average grains/point   2.01, 0.002 /s/point, total 101.0 /s\r"
     ]
    },
    {
     "name": "stdout",
     "output_type": "stream",
     "text": [
      "Done  52.527 %, average grains/point   2.01, 0.002 /s/point, total 101.1 /s\r"
     ]
    },
    {
     "name": "stdout",
     "output_type": "stream",
     "text": [
      "Done  52.574 %, average grains/point   2.01, 0.002 /s/point, total 101.2 /s\r"
     ]
    },
    {
     "name": "stdout",
     "output_type": "stream",
     "text": [
      "Done  52.621 %, average grains/point   2.01, 0.002 /s/point, total 101.2 /s\r"
     ]
    },
    {
     "name": "stdout",
     "output_type": "stream",
     "text": [
      "Done  52.668 %, average grains/point   2.01, 0.002 /s/point, total 101.3 /s\r"
     ]
    },
    {
     "name": "stdout",
     "output_type": "stream",
     "text": [
      "Done  52.715 %, average grains/point   2.01, 0.002 /s/point, total 101.4 /s\r"
     ]
    },
    {
     "name": "stdout",
     "output_type": "stream",
     "text": [
      "Done  52.763 %, average grains/point   2.01, 0.002 /s/point, total 101.4 /s\r"
     ]
    },
    {
     "name": "stdout",
     "output_type": "stream",
     "text": [
      "Done  52.810 %, average grains/point   2.01, 0.002 /s/point, total 101.5 /s\r"
     ]
    },
    {
     "name": "stdout",
     "output_type": "stream",
     "text": [
      "Done  52.857 %, average grains/point   2.01, 0.002 /s/point, total 101.6 /s\r"
     ]
    },
    {
     "name": "stdout",
     "output_type": "stream",
     "text": [
      "Done  52.904 %, average grains/point   2.01, 0.002 /s/point, total 101.6 /s\r"
     ]
    },
    {
     "name": "stdout",
     "output_type": "stream",
     "text": [
      "Done  52.952 %, average grains/point   2.01, 0.002 /s/point, total 101.7 /s\r"
     ]
    },
    {
     "name": "stdout",
     "output_type": "stream",
     "text": [
      "Done  52.999 %, average grains/point   2.01, 0.002 /s/point, total 101.8 /s\r"
     ]
    },
    {
     "name": "stdout",
     "output_type": "stream",
     "text": [
      "Done  53.046 %, average grains/point   2.01, 0.002 /s/point, total 101.8 /s\r"
     ]
    },
    {
     "name": "stdout",
     "output_type": "stream",
     "text": [
      "Done  53.093 %, average grains/point   2.01, 0.002 /s/point, total 101.9 /s\r"
     ]
    },
    {
     "name": "stdout",
     "output_type": "stream",
     "text": [
      "Done  53.141 %, average grains/point   2.01, 0.002 /s/point, total 102.0 /s\r"
     ]
    },
    {
     "name": "stdout",
     "output_type": "stream",
     "text": [
      "Done  53.188 %, average grains/point   2.01, 0.002 /s/point, total 102.0 /s\r"
     ]
    },
    {
     "name": "stdout",
     "output_type": "stream",
     "text": [
      "Done  53.235 %, average grains/point   2.01, 0.002 /s/point, total 102.1 /s\r"
     ]
    },
    {
     "name": "stdout",
     "output_type": "stream",
     "text": [
      "Done  53.282 %, average grains/point   2.01, 0.002 /s/point, total 102.2 /s\r"
     ]
    },
    {
     "name": "stdout",
     "output_type": "stream",
     "text": [
      "Done  53.330 %, average grains/point   2.01, 0.002 /s/point, total 102.3 /s\r"
     ]
    },
    {
     "name": "stdout",
     "output_type": "stream",
     "text": [
      "Done  53.377 %, average grains/point   2.01, 0.002 /s/point, total 102.3 /s\r"
     ]
    },
    {
     "name": "stdout",
     "output_type": "stream",
     "text": [
      "Done  53.424 %, average grains/point   2.01, 0.002 /s/point, total 102.4 /s\r"
     ]
    },
    {
     "name": "stdout",
     "output_type": "stream",
     "text": [
      "Done  53.471 %, average grains/point   2.01, 0.002 /s/point, total 102.5 /s\r"
     ]
    },
    {
     "name": "stdout",
     "output_type": "stream",
     "text": [
      "Done  53.518 %, average grains/point   2.01, 0.002 /s/point, total 102.5 /s\r"
     ]
    },
    {
     "name": "stdout",
     "output_type": "stream",
     "text": [
      "Done  53.566 %, average grains/point   2.01, 0.002 /s/point, total 102.6 /s\r"
     ]
    },
    {
     "name": "stdout",
     "output_type": "stream",
     "text": [
      "Done  53.613 %, average grains/point   2.01, 0.002 /s/point, total 102.7 /s\r"
     ]
    },
    {
     "name": "stdout",
     "output_type": "stream",
     "text": [
      "Done  53.660 %, average grains/point   2.01, 0.002 /s/point, total 102.7 /s\r"
     ]
    },
    {
     "name": "stdout",
     "output_type": "stream",
     "text": [
      "Done  53.707 %, average grains/point   2.01, 0.002 /s/point, total 102.8 /s\r"
     ]
    },
    {
     "name": "stdout",
     "output_type": "stream",
     "text": [
      "Done  53.755 %, average grains/point   2.01, 0.002 /s/point, total 102.9 /s\r"
     ]
    },
    {
     "name": "stdout",
     "output_type": "stream",
     "text": [
      "Done  53.802 %, average grains/point   2.01, 0.002 /s/point, total 103.0 /s\r"
     ]
    },
    {
     "name": "stdout",
     "output_type": "stream",
     "text": [
      "Done  53.849 %, average grains/point   2.01, 0.002 /s/point, total 103.0 /s\r"
     ]
    },
    {
     "name": "stdout",
     "output_type": "stream",
     "text": [
      "Done  53.896 %, average grains/point   2.01, 0.002 /s/point, total 103.1 /s\r"
     ]
    },
    {
     "name": "stdout",
     "output_type": "stream",
     "text": [
      "Done  53.944 %, average grains/point   2.01, 0.002 /s/point, total 103.2 /s\r"
     ]
    },
    {
     "name": "stdout",
     "output_type": "stream",
     "text": [
      "Done  53.991 %, average grains/point   2.01, 0.002 /s/point, total 103.2 /s\r"
     ]
    },
    {
     "name": "stdout",
     "output_type": "stream",
     "text": [
      "Done  54.038 %, average grains/point   2.01, 0.002 /s/point, total 103.3 /s\r"
     ]
    },
    {
     "name": "stdout",
     "output_type": "stream",
     "text": [
      "Done  54.085 %, average grains/point   2.01, 0.002 /s/point, total 103.4 /s\r"
     ]
    },
    {
     "name": "stdout",
     "output_type": "stream",
     "text": [
      "Done  54.133 %, average grains/point   2.01, 0.002 /s/point, total 103.4 /s\r"
     ]
    },
    {
     "name": "stdout",
     "output_type": "stream",
     "text": [
      "Done  54.180 %, average grains/point   2.01, 0.002 /s/point, total 103.5 /s\r"
     ]
    },
    {
     "name": "stdout",
     "output_type": "stream",
     "text": [
      "Done  54.227 %, average grains/point   2.01, 0.002 /s/point, total 103.6 /s\r"
     ]
    },
    {
     "name": "stdout",
     "output_type": "stream",
     "text": [
      "Done  54.274 %, average grains/point   2.01, 0.002 /s/point, total 103.7 /s\r"
     ]
    },
    {
     "name": "stdout",
     "output_type": "stream",
     "text": [
      "Done  54.322 %, average grains/point   2.01, 0.002 /s/point, total 103.7 /s\r"
     ]
    },
    {
     "name": "stdout",
     "output_type": "stream",
     "text": [
      "Done  54.369 %, average grains/point   2.01, 0.002 /s/point, total 103.8 /s\r"
     ]
    },
    {
     "name": "stdout",
     "output_type": "stream",
     "text": [
      "Done  54.416 %, average grains/point   2.01, 0.002 /s/point, total 103.9 /s\r"
     ]
    },
    {
     "name": "stdout",
     "output_type": "stream",
     "text": [
      "Done  54.463 %, average grains/point   2.01, 0.002 /s/point, total 103.9 /s\r"
     ]
    },
    {
     "name": "stdout",
     "output_type": "stream",
     "text": [
      "Done  54.510 %, average grains/point   2.01, 0.002 /s/point, total 104.0 /s\r"
     ]
    },
    {
     "name": "stdout",
     "output_type": "stream",
     "text": [
      "Done  54.558 %, average grains/point   2.01, 0.002 /s/point, total 104.1 /s\r"
     ]
    },
    {
     "name": "stdout",
     "output_type": "stream",
     "text": [
      "Done  54.605 %, average grains/point   2.01, 0.002 /s/point, total 104.2 /s\r"
     ]
    },
    {
     "name": "stdout",
     "output_type": "stream",
     "text": [
      "Done  54.652 %, average grains/point   2.01, 0.002 /s/point, total 104.2 /s\r"
     ]
    },
    {
     "name": "stdout",
     "output_type": "stream",
     "text": [
      "Done  54.699 %, average grains/point   2.01, 0.002 /s/point, total 104.3 /s\r"
     ]
    },
    {
     "name": "stdout",
     "output_type": "stream",
     "text": [
      "Done  54.747 %, average grains/point   2.01, 0.002 /s/point, total 104.4 /s\r"
     ]
    },
    {
     "name": "stdout",
     "output_type": "stream",
     "text": [
      "Done  54.794 %, average grains/point   2.01, 0.002 /s/point, total 104.4 /s\r"
     ]
    },
    {
     "name": "stdout",
     "output_type": "stream",
     "text": [
      "Done  54.841 %, average grains/point   2.01, 0.002 /s/point, total 104.5 /s\r"
     ]
    },
    {
     "name": "stdout",
     "output_type": "stream",
     "text": [
      "Done  54.888 %, average grains/point   2.01, 0.002 /s/point, total 104.6 /s\r"
     ]
    },
    {
     "name": "stdout",
     "output_type": "stream",
     "text": [
      "Done  54.936 %, average grains/point   2.01, 0.002 /s/point, total 104.6 /s\r"
     ]
    },
    {
     "name": "stdout",
     "output_type": "stream",
     "text": [
      "Done  54.983 %, average grains/point   2.01, 0.002 /s/point, total 104.7 /s\r"
     ]
    },
    {
     "name": "stdout",
     "output_type": "stream",
     "text": [
      "Done  55.030 %, average grains/point   2.01, 0.002 /s/point, total 104.8 /s\r"
     ]
    },
    {
     "name": "stdout",
     "output_type": "stream",
     "text": [
      "Done  55.077 %, average grains/point   2.01, 0.002 /s/point, total 104.9 /s\r"
     ]
    },
    {
     "name": "stdout",
     "output_type": "stream",
     "text": [
      "Done  55.125 %, average grains/point   2.01, 0.002 /s/point, total 104.9 /s\r"
     ]
    },
    {
     "name": "stdout",
     "output_type": "stream",
     "text": [
      "Done  55.172 %, average grains/point   2.01, 0.002 /s/point, total 105.0 /s\r"
     ]
    },
    {
     "name": "stdout",
     "output_type": "stream",
     "text": [
      "Done  55.219 %, average grains/point   2.01, 0.002 /s/point, total 105.1 /s\r"
     ]
    },
    {
     "name": "stdout",
     "output_type": "stream",
     "text": [
      "Done  55.266 %, average grains/point   2.01, 0.002 /s/point, total 105.1 /s\r"
     ]
    },
    {
     "name": "stdout",
     "output_type": "stream",
     "text": [
      "Done  55.313 %, average grains/point   2.01, 0.002 /s/point, total 105.2 /s\r"
     ]
    },
    {
     "name": "stdout",
     "output_type": "stream",
     "text": [
      "Done  55.361 %, average grains/point   2.01, 0.002 /s/point, total 105.3 /s\r"
     ]
    },
    {
     "name": "stdout",
     "output_type": "stream",
     "text": [
      "Done  55.408 %, average grains/point   2.01, 0.002 /s/point, total 105.4 /s\r"
     ]
    },
    {
     "name": "stdout",
     "output_type": "stream",
     "text": [
      "Done  55.455 %, average grains/point   2.01, 0.002 /s/point, total 105.4 /s\r"
     ]
    },
    {
     "name": "stdout",
     "output_type": "stream",
     "text": [
      "Done  55.502 %, average grains/point   2.01, 0.002 /s/point, total 105.5 /s\r"
     ]
    },
    {
     "name": "stdout",
     "output_type": "stream",
     "text": [
      "Done  55.550 %, average grains/point   2.01, 0.002 /s/point, total 105.6 /s\r"
     ]
    },
    {
     "name": "stdout",
     "output_type": "stream",
     "text": [
      "Done  55.597 %, average grains/point   2.01, 0.002 /s/point, total 105.7 /s\r"
     ]
    },
    {
     "name": "stdout",
     "output_type": "stream",
     "text": [
      "Done  55.644 %, average grains/point   2.01, 0.002 /s/point, total 105.7 /s\r"
     ]
    },
    {
     "name": "stdout",
     "output_type": "stream",
     "text": [
      "Done  55.691 %, average grains/point   2.01, 0.002 /s/point, total 105.8 /s\r"
     ]
    },
    {
     "name": "stdout",
     "output_type": "stream",
     "text": [
      "Done  55.739 %, average grains/point   2.01, 0.002 /s/point, total 105.9 /s\r"
     ]
    },
    {
     "name": "stdout",
     "output_type": "stream",
     "text": [
      "Done  55.786 %, average grains/point   2.01, 0.002 /s/point, total 106.0 /s\r"
     ]
    },
    {
     "name": "stdout",
     "output_type": "stream",
     "text": [
      "Done  55.833 %, average grains/point   2.01, 0.002 /s/point, total 106.0 /s\r"
     ]
    },
    {
     "name": "stdout",
     "output_type": "stream",
     "text": [
      "Done  55.880 %, average grains/point   2.01, 0.002 /s/point, total 106.1 /s\r"
     ]
    },
    {
     "name": "stdout",
     "output_type": "stream",
     "text": [
      "Done  55.928 %, average grains/point   2.01, 0.002 /s/point, total 106.1 /s\r"
     ]
    },
    {
     "name": "stdout",
     "output_type": "stream",
     "text": [
      "Done  55.975 %, average grains/point   2.01, 0.002 /s/point, total 106.2 /s\r"
     ]
    },
    {
     "name": "stdout",
     "output_type": "stream",
     "text": [
      "Done  56.022 %, average grains/point   2.01, 0.002 /s/point, total 106.3 /s\r"
     ]
    },
    {
     "name": "stdout",
     "output_type": "stream",
     "text": [
      "Done  56.069 %, average grains/point   2.01, 0.002 /s/point, total 106.4 /s\r"
     ]
    },
    {
     "name": "stdout",
     "output_type": "stream",
     "text": [
      "Done  56.116 %, average grains/point   2.01, 0.002 /s/point, total 106.4 /s\r"
     ]
    },
    {
     "name": "stdout",
     "output_type": "stream",
     "text": [
      "Done  56.164 %, average grains/point   2.01, 0.002 /s/point, total 106.5 /s\r"
     ]
    },
    {
     "name": "stdout",
     "output_type": "stream",
     "text": [
      "Done  56.211 %, average grains/point   2.01, 0.002 /s/point, total 106.6 /s\r"
     ]
    },
    {
     "name": "stdout",
     "output_type": "stream",
     "text": [
      "Done  56.258 %, average grains/point   2.01, 0.002 /s/point, total 106.6 /s\r"
     ]
    },
    {
     "name": "stdout",
     "output_type": "stream",
     "text": [
      "Done  56.305 %, average grains/point   2.01, 0.002 /s/point, total 106.7 /s\r"
     ]
    },
    {
     "name": "stdout",
     "output_type": "stream",
     "text": [
      "Done  56.353 %, average grains/point   2.01, 0.002 /s/point, total 106.8 /s\r"
     ]
    },
    {
     "name": "stdout",
     "output_type": "stream",
     "text": [
      "Done  56.400 %, average grains/point   2.01, 0.002 /s/point, total 106.9 /s\r"
     ]
    },
    {
     "name": "stdout",
     "output_type": "stream",
     "text": [
      "Done  56.447 %, average grains/point   2.01, 0.002 /s/point, total 106.9 /s\r"
     ]
    },
    {
     "name": "stdout",
     "output_type": "stream",
     "text": [
      "Done  56.494 %, average grains/point   2.01, 0.002 /s/point, total 107.0 /s\r"
     ]
    },
    {
     "name": "stdout",
     "output_type": "stream",
     "text": [
      "Done  56.542 %, average grains/point   2.01, 0.002 /s/point, total 107.1 /s\r"
     ]
    },
    {
     "name": "stdout",
     "output_type": "stream",
     "text": [
      "Done  56.589 %, average grains/point   2.01, 0.002 /s/point, total 107.1 /s\r"
     ]
    },
    {
     "name": "stdout",
     "output_type": "stream",
     "text": [
      "Done  56.636 %, average grains/point   2.01, 0.002 /s/point, total 107.2 /s\r"
     ]
    },
    {
     "name": "stdout",
     "output_type": "stream",
     "text": [
      "Done  56.683 %, average grains/point   2.01, 0.002 /s/point, total 107.3 /s\r"
     ]
    },
    {
     "name": "stdout",
     "output_type": "stream",
     "text": [
      "Done  56.731 %, average grains/point   2.01, 0.002 /s/point, total 107.4 /s\r"
     ]
    },
    {
     "name": "stdout",
     "output_type": "stream",
     "text": [
      "Done  56.778 %, average grains/point   2.01, 0.002 /s/point, total 107.4 /s\r"
     ]
    },
    {
     "name": "stdout",
     "output_type": "stream",
     "text": [
      "Done  56.825 %, average grains/point   2.01, 0.002 /s/point, total 107.5 /s\r"
     ]
    },
    {
     "name": "stdout",
     "output_type": "stream",
     "text": [
      "Done  56.872 %, average grains/point   2.01, 0.002 /s/point, total 107.6 /s\r"
     ]
    },
    {
     "name": "stdout",
     "output_type": "stream",
     "text": [
      "Done  56.919 %, average grains/point   2.01, 0.002 /s/point, total 107.6 /s\r"
     ]
    },
    {
     "name": "stdout",
     "output_type": "stream",
     "text": [
      "Done  56.967 %, average grains/point   2.01, 0.002 /s/point, total 107.7 /s\r"
     ]
    },
    {
     "name": "stdout",
     "output_type": "stream",
     "text": [
      "Done  57.014 %, average grains/point   2.01, 0.002 /s/point, total 107.8 /s\r"
     ]
    },
    {
     "name": "stdout",
     "output_type": "stream",
     "text": [
      "Done  57.061 %, average grains/point   2.01, 0.002 /s/point, total 107.8 /s\r"
     ]
    },
    {
     "name": "stdout",
     "output_type": "stream",
     "text": [
      "Done  57.108 %, average grains/point   2.01, 0.002 /s/point, total 107.9 /s\r"
     ]
    },
    {
     "name": "stdout",
     "output_type": "stream",
     "text": [
      "Done  57.156 %, average grains/point   2.01, 0.002 /s/point, total 108.0 /s\r"
     ]
    },
    {
     "name": "stdout",
     "output_type": "stream",
     "text": [
      "Done  57.203 %, average grains/point   2.01, 0.002 /s/point, total 108.0 /s\r"
     ]
    },
    {
     "name": "stdout",
     "output_type": "stream",
     "text": [
      "Done  57.250 %, average grains/point   2.01, 0.002 /s/point, total 108.1 /s\r"
     ]
    },
    {
     "name": "stdout",
     "output_type": "stream",
     "text": [
      "Done  57.297 %, average grains/point   2.01, 0.002 /s/point, total 108.2 /s\r"
     ]
    },
    {
     "name": "stdout",
     "output_type": "stream",
     "text": [
      "Done  57.345 %, average grains/point   2.01, 0.002 /s/point, total 108.3 /s\r"
     ]
    },
    {
     "name": "stdout",
     "output_type": "stream",
     "text": [
      "Done  57.392 %, average grains/point   2.01, 0.002 /s/point, total 108.3 /s\r"
     ]
    },
    {
     "name": "stdout",
     "output_type": "stream",
     "text": [
      "Done  57.439 %, average grains/point   2.01, 0.002 /s/point, total 108.4 /s\r"
     ]
    },
    {
     "name": "stdout",
     "output_type": "stream",
     "text": [
      "Done  57.486 %, average grains/point   2.01, 0.002 /s/point, total 108.5 /s\r"
     ]
    },
    {
     "name": "stdout",
     "output_type": "stream",
     "text": [
      "Done  57.534 %, average grains/point   2.01, 0.002 /s/point, total 108.5 /s\r"
     ]
    },
    {
     "name": "stdout",
     "output_type": "stream",
     "text": [
      "Done  57.581 %, average grains/point   2.01, 0.002 /s/point, total 108.6 /s\r"
     ]
    },
    {
     "name": "stdout",
     "output_type": "stream",
     "text": [
      "Done  57.628 %, average grains/point   2.01, 0.002 /s/point, total 108.7 /s\r"
     ]
    },
    {
     "name": "stdout",
     "output_type": "stream",
     "text": [
      "Done  57.675 %, average grains/point   2.01, 0.002 /s/point, total 108.8 /s\r"
     ]
    },
    {
     "name": "stdout",
     "output_type": "stream",
     "text": [
      "Done  57.723 %, average grains/point   2.01, 0.002 /s/point, total 108.8 /s\r"
     ]
    },
    {
     "name": "stdout",
     "output_type": "stream",
     "text": [
      "Done  57.770 %, average grains/point   2.01, 0.002 /s/point, total 108.9 /s\r"
     ]
    },
    {
     "name": "stdout",
     "output_type": "stream",
     "text": [
      "Done  57.817 %, average grains/point   2.01, 0.002 /s/point, total 109.0 /s\r"
     ]
    },
    {
     "name": "stdout",
     "output_type": "stream",
     "text": [
      "Done  57.864 %, average grains/point   2.01, 0.002 /s/point, total 109.0 /s\r"
     ]
    },
    {
     "name": "stdout",
     "output_type": "stream",
     "text": [
      "Done  57.911 %, average grains/point   2.01, 0.002 /s/point, total 109.1 /s\r"
     ]
    },
    {
     "name": "stdout",
     "output_type": "stream",
     "text": [
      "Done  57.959 %, average grains/point   2.01, 0.002 /s/point, total 109.2 /s\r"
     ]
    },
    {
     "name": "stdout",
     "output_type": "stream",
     "text": [
      "Done  58.006 %, average grains/point   2.01, 0.002 /s/point, total 109.2 /s\r"
     ]
    },
    {
     "name": "stdout",
     "output_type": "stream",
     "text": [
      "Done  58.053 %, average grains/point   2.01, 0.002 /s/point, total 109.3 /s\r"
     ]
    },
    {
     "name": "stdout",
     "output_type": "stream",
     "text": [
      "Done  58.100 %, average grains/point   2.01, 0.002 /s/point, total 109.4 /s\r"
     ]
    },
    {
     "name": "stdout",
     "output_type": "stream",
     "text": [
      "Done  58.148 %, average grains/point   2.01, 0.002 /s/point, total 109.5 /s\r"
     ]
    },
    {
     "name": "stdout",
     "output_type": "stream",
     "text": [
      "Done  58.195 %, average grains/point   2.01, 0.002 /s/point, total 109.5 /s\r"
     ]
    },
    {
     "name": "stdout",
     "output_type": "stream",
     "text": [
      "Done  58.242 %, average grains/point   2.01, 0.002 /s/point, total 109.6 /s\r"
     ]
    },
    {
     "name": "stdout",
     "output_type": "stream",
     "text": [
      "Done  58.289 %, average grains/point   2.01, 0.002 /s/point, total 109.7 /s\r"
     ]
    },
    {
     "name": "stdout",
     "output_type": "stream",
     "text": [
      "Done  58.337 %, average grains/point   2.01, 0.002 /s/point, total 109.7 /s\r"
     ]
    },
    {
     "name": "stdout",
     "output_type": "stream",
     "text": [
      "Done  58.384 %, average grains/point   2.01, 0.002 /s/point, total 109.8 /s\r"
     ]
    },
    {
     "name": "stdout",
     "output_type": "stream",
     "text": [
      "Done  58.431 %, average grains/point   2.01, 0.002 /s/point, total 109.9 /s\r"
     ]
    },
    {
     "name": "stdout",
     "output_type": "stream",
     "text": [
      "Done  58.478 %, average grains/point   2.01, 0.002 /s/point, total 110.0 /s\r"
     ]
    },
    {
     "name": "stdout",
     "output_type": "stream",
     "text": [
      "Done  58.526 %, average grains/point   2.01, 0.002 /s/point, total 110.0 /s\r"
     ]
    },
    {
     "name": "stdout",
     "output_type": "stream",
     "text": [
      "Done  58.573 %, average grains/point   2.01, 0.002 /s/point, total 110.1 /s\r"
     ]
    },
    {
     "name": "stdout",
     "output_type": "stream",
     "text": [
      "Done  58.620 %, average grains/point   2.01, 0.002 /s/point, total 110.2 /s\r"
     ]
    },
    {
     "name": "stdout",
     "output_type": "stream",
     "text": [
      "Done  58.667 %, average grains/point   2.01, 0.002 /s/point, total 110.3 /s\r"
     ]
    },
    {
     "name": "stdout",
     "output_type": "stream",
     "text": [
      "Done  58.714 %, average grains/point   2.01, 0.002 /s/point, total 110.3 /s\r"
     ]
    },
    {
     "name": "stdout",
     "output_type": "stream",
     "text": [
      "Done  58.762 %, average grains/point   2.01, 0.002 /s/point, total 110.4 /s\r"
     ]
    },
    {
     "name": "stdout",
     "output_type": "stream",
     "text": [
      "Done  58.809 %, average grains/point   2.01, 0.002 /s/point, total 110.5 /s\r"
     ]
    },
    {
     "name": "stdout",
     "output_type": "stream",
     "text": [
      "Done  58.856 %, average grains/point   2.01, 0.002 /s/point, total 110.5 /s\r"
     ]
    },
    {
     "name": "stdout",
     "output_type": "stream",
     "text": [
      "Done  58.903 %, average grains/point   2.01, 0.002 /s/point, total 110.6 /s\r"
     ]
    },
    {
     "name": "stdout",
     "output_type": "stream",
     "text": [
      "Done  58.951 %, average grains/point   2.01, 0.002 /s/point, total 110.7 /s\r"
     ]
    },
    {
     "name": "stdout",
     "output_type": "stream",
     "text": [
      "Done  58.998 %, average grains/point   2.01, 0.002 /s/point, total 110.8 /s\r"
     ]
    },
    {
     "name": "stdout",
     "output_type": "stream",
     "text": [
      "Done  59.045 %, average grains/point   2.01, 0.002 /s/point, total 110.8 /s\r"
     ]
    },
    {
     "name": "stdout",
     "output_type": "stream",
     "text": [
      "Done  59.092 %, average grains/point   2.01, 0.002 /s/point, total 110.9 /s\r"
     ]
    },
    {
     "name": "stdout",
     "output_type": "stream",
     "text": [
      "Done  59.140 %, average grains/point   2.01, 0.002 /s/point, total 111.0 /s\r"
     ]
    },
    {
     "name": "stdout",
     "output_type": "stream",
     "text": [
      "Done  59.187 %, average grains/point   2.01, 0.002 /s/point, total 111.0 /s\r"
     ]
    },
    {
     "name": "stdout",
     "output_type": "stream",
     "text": [
      "Done  59.234 %, average grains/point   2.01, 0.002 /s/point, total 111.1 /s\r"
     ]
    },
    {
     "name": "stdout",
     "output_type": "stream",
     "text": [
      "Done  59.281 %, average grains/point   2.01, 0.002 /s/point, total 111.2 /s\r"
     ]
    },
    {
     "name": "stdout",
     "output_type": "stream",
     "text": [
      "Done  59.329 %, average grains/point   2.01, 0.002 /s/point, total 111.3 /s\r"
     ]
    },
    {
     "name": "stdout",
     "output_type": "stream",
     "text": [
      "Done  59.376 %, average grains/point   2.01, 0.002 /s/point, total 111.3 /s\r"
     ]
    },
    {
     "name": "stdout",
     "output_type": "stream",
     "text": [
      "Done  59.423 %, average grains/point   2.01, 0.002 /s/point, total 111.4 /s\r"
     ]
    },
    {
     "name": "stdout",
     "output_type": "stream",
     "text": [
      "Done  59.470 %, average grains/point   2.01, 0.002 /s/point, total 111.5 /s\r"
     ]
    },
    {
     "name": "stdout",
     "output_type": "stream",
     "text": [
      "Done  59.517 %, average grains/point   2.01, 0.002 /s/point, total 111.6 /s\r"
     ]
    },
    {
     "name": "stdout",
     "output_type": "stream",
     "text": [
      "Done  59.565 %, average grains/point   2.01, 0.002 /s/point, total 111.6 /s\r"
     ]
    },
    {
     "name": "stdout",
     "output_type": "stream",
     "text": [
      "Done  59.612 %, average grains/point   2.01, 0.002 /s/point, total 111.7 /s\r"
     ]
    },
    {
     "name": "stdout",
     "output_type": "stream",
     "text": [
      "Done  59.659 %, average grains/point   2.01, 0.002 /s/point, total 111.8 /s\r"
     ]
    },
    {
     "name": "stdout",
     "output_type": "stream",
     "text": [
      "Done  59.706 %, average grains/point   2.01, 0.002 /s/point, total 111.8 /s\r"
     ]
    },
    {
     "name": "stdout",
     "output_type": "stream",
     "text": [
      "Done  59.754 %, average grains/point   2.01, 0.002 /s/point, total 111.9 /s\r"
     ]
    },
    {
     "name": "stdout",
     "output_type": "stream",
     "text": [
      "Done  59.801 %, average grains/point   2.01, 0.002 /s/point, total 112.0 /s\r"
     ]
    },
    {
     "name": "stdout",
     "output_type": "stream",
     "text": [
      "Done  59.848 %, average grains/point   2.01, 0.002 /s/point, total 112.1 /s\r"
     ]
    },
    {
     "name": "stdout",
     "output_type": "stream",
     "text": [
      "Done  59.895 %, average grains/point   2.01, 0.002 /s/point, total 112.1 /s\r"
     ]
    },
    {
     "name": "stdout",
     "output_type": "stream",
     "text": [
      "Done  59.943 %, average grains/point   2.01, 0.002 /s/point, total 112.2 /s\r"
     ]
    },
    {
     "name": "stdout",
     "output_type": "stream",
     "text": [
      "Done  59.990 %, average grains/point   2.01, 0.002 /s/point, total 112.3 /s\r"
     ]
    },
    {
     "name": "stdout",
     "output_type": "stream",
     "text": [
      "Done  60.037 %, average grains/point   2.01, 0.002 /s/point, total 112.4 /s\r"
     ]
    },
    {
     "name": "stdout",
     "output_type": "stream",
     "text": [
      "Done  60.084 %, average grains/point   2.01, 0.002 /s/point, total 112.4 /s\r"
     ]
    },
    {
     "name": "stdout",
     "output_type": "stream",
     "text": [
      "Done  60.132 %, average grains/point   2.01, 0.002 /s/point, total 112.5 /s\r"
     ]
    },
    {
     "name": "stdout",
     "output_type": "stream",
     "text": [
      "Done  60.179 %, average grains/point   2.01, 0.002 /s/point, total 112.6 /s\r"
     ]
    },
    {
     "name": "stdout",
     "output_type": "stream",
     "text": [
      "Done  60.226 %, average grains/point   2.01, 0.002 /s/point, total 112.6 /s\r"
     ]
    },
    {
     "name": "stdout",
     "output_type": "stream",
     "text": [
      "Done  60.273 %, average grains/point   2.01, 0.002 /s/point, total 112.7 /s\r"
     ]
    },
    {
     "name": "stdout",
     "output_type": "stream",
     "text": [
      "Done  60.320 %, average grains/point   2.01, 0.002 /s/point, total 112.8 /s\r"
     ]
    },
    {
     "name": "stdout",
     "output_type": "stream",
     "text": [
      "Done  60.368 %, average grains/point   2.01, 0.002 /s/point, total 112.9 /s\r"
     ]
    },
    {
     "name": "stdout",
     "output_type": "stream",
     "text": [
      "Done  60.415 %, average grains/point   2.01, 0.002 /s/point, total 112.9 /s\r"
     ]
    },
    {
     "name": "stdout",
     "output_type": "stream",
     "text": [
      "Done  60.462 %, average grains/point   2.01, 0.002 /s/point, total 113.0 /s\r"
     ]
    },
    {
     "name": "stdout",
     "output_type": "stream",
     "text": [
      "Done  60.509 %, average grains/point   2.01, 0.002 /s/point, total 113.1 /s\r"
     ]
    },
    {
     "name": "stdout",
     "output_type": "stream",
     "text": [
      "Done  60.557 %, average grains/point   2.01, 0.002 /s/point, total 113.1 /s\r"
     ]
    },
    {
     "name": "stdout",
     "output_type": "stream",
     "text": [
      "Done  60.604 %, average grains/point   2.01, 0.002 /s/point, total 113.2 /s\r"
     ]
    },
    {
     "name": "stdout",
     "output_type": "stream",
     "text": [
      "Done  60.651 %, average grains/point   2.01, 0.002 /s/point, total 113.3 /s\r"
     ]
    },
    {
     "name": "stdout",
     "output_type": "stream",
     "text": [
      "Done  60.698 %, average grains/point   2.01, 0.002 /s/point, total 113.4 /s\r"
     ]
    },
    {
     "name": "stdout",
     "output_type": "stream",
     "text": [
      "Done  60.746 %, average grains/point   2.01, 0.002 /s/point, total 113.4 /s\r"
     ]
    },
    {
     "name": "stdout",
     "output_type": "stream",
     "text": [
      "Done  60.793 %, average grains/point   2.01, 0.002 /s/point, total 113.5 /s\r"
     ]
    },
    {
     "name": "stdout",
     "output_type": "stream",
     "text": [
      "Done  60.840 %, average grains/point   2.01, 0.002 /s/point, total 113.6 /s\r"
     ]
    },
    {
     "name": "stdout",
     "output_type": "stream",
     "text": [
      "Done  60.887 %, average grains/point   2.01, 0.002 /s/point, total 113.7 /s\r"
     ]
    },
    {
     "name": "stdout",
     "output_type": "stream",
     "text": [
      "Done  60.935 %, average grains/point   2.02, 0.002 /s/point, total 113.7 /s\r"
     ]
    },
    {
     "name": "stdout",
     "output_type": "stream",
     "text": [
      "Done  60.982 %, average grains/point   2.02, 0.002 /s/point, total 113.8 /s\r"
     ]
    },
    {
     "name": "stdout",
     "output_type": "stream",
     "text": [
      "Done  61.029 %, average grains/point   2.02, 0.002 /s/point, total 113.9 /s\r"
     ]
    },
    {
     "name": "stdout",
     "output_type": "stream",
     "text": [
      "Done  61.076 %, average grains/point   2.01, 0.002 /s/point, total 113.9 /s\r"
     ]
    },
    {
     "name": "stdout",
     "output_type": "stream",
     "text": [
      "Done  61.124 %, average grains/point   2.02, 0.002 /s/point, total 114.0 /s\r"
     ]
    },
    {
     "name": "stdout",
     "output_type": "stream",
     "text": [
      "Done  61.171 %, average grains/point   2.02, 0.002 /s/point, total 114.1 /s\r"
     ]
    },
    {
     "name": "stdout",
     "output_type": "stream",
     "text": [
      "Done  61.218 %, average grains/point   2.01, 0.002 /s/point, total 114.2 /s\r"
     ]
    },
    {
     "name": "stdout",
     "output_type": "stream",
     "text": [
      "Done  61.265 %, average grains/point   2.01, 0.002 /s/point, total 114.2 /s\r"
     ]
    },
    {
     "name": "stdout",
     "output_type": "stream",
     "text": [
      "Done  61.312 %, average grains/point   2.02, 0.002 /s/point, total 114.3 /s\r"
     ]
    },
    {
     "name": "stdout",
     "output_type": "stream",
     "text": [
      "Done  61.360 %, average grains/point   2.02, 0.002 /s/point, total 114.4 /s\r"
     ]
    },
    {
     "name": "stdout",
     "output_type": "stream",
     "text": [
      "Done  61.407 %, average grains/point   2.02, 0.002 /s/point, total 114.4 /s\r"
     ]
    },
    {
     "name": "stdout",
     "output_type": "stream",
     "text": [
      "Done  61.454 %, average grains/point   2.02, 0.002 /s/point, total 114.5 /s\r"
     ]
    },
    {
     "name": "stdout",
     "output_type": "stream",
     "text": [
      "Done  61.501 %, average grains/point   2.02, 0.002 /s/point, total 114.6 /s\r"
     ]
    },
    {
     "name": "stdout",
     "output_type": "stream",
     "text": [
      "Done  61.549 %, average grains/point   2.02, 0.002 /s/point, total 114.6 /s\r"
     ]
    },
    {
     "name": "stdout",
     "output_type": "stream",
     "text": [
      "Done  61.596 %, average grains/point   2.02, 0.002 /s/point, total 114.7 /s\r"
     ]
    },
    {
     "name": "stdout",
     "output_type": "stream",
     "text": [
      "Done  61.643 %, average grains/point   2.02, 0.002 /s/point, total 114.8 /s\r"
     ]
    },
    {
     "name": "stdout",
     "output_type": "stream",
     "text": [
      "Done  61.690 %, average grains/point   2.02, 0.002 /s/point, total 114.9 /s\r"
     ]
    },
    {
     "name": "stdout",
     "output_type": "stream",
     "text": [
      "Done  61.738 %, average grains/point   2.02, 0.002 /s/point, total 114.9 /s\r"
     ]
    },
    {
     "name": "stdout",
     "output_type": "stream",
     "text": [
      "Done  61.785 %, average grains/point   2.02, 0.002 /s/point, total 115.0 /s\r"
     ]
    },
    {
     "name": "stdout",
     "output_type": "stream",
     "text": [
      "Done  61.832 %, average grains/point   2.01, 0.002 /s/point, total 115.1 /s\r"
     ]
    },
    {
     "name": "stdout",
     "output_type": "stream",
     "text": [
      "Done  61.879 %, average grains/point   2.01, 0.002 /s/point, total 115.1 /s\r"
     ]
    },
    {
     "name": "stdout",
     "output_type": "stream",
     "text": [
      "Done  61.927 %, average grains/point   2.01, 0.002 /s/point, total 115.2 /s\r"
     ]
    },
    {
     "name": "stdout",
     "output_type": "stream",
     "text": [
      "Done  61.974 %, average grains/point   2.01, 0.002 /s/point, total 115.3 /s\r"
     ]
    },
    {
     "name": "stdout",
     "output_type": "stream",
     "text": [
      "Done  62.021 %, average grains/point   2.01, 0.002 /s/point, total 115.3 /s\r"
     ]
    },
    {
     "name": "stdout",
     "output_type": "stream",
     "text": [
      "Done  62.068 %, average grains/point   2.01, 0.002 /s/point, total 115.4 /s\r"
     ]
    },
    {
     "name": "stdout",
     "output_type": "stream",
     "text": [
      "Done  62.115 %, average grains/point   2.01, 0.002 /s/point, total 115.5 /s\r"
     ]
    },
    {
     "name": "stdout",
     "output_type": "stream",
     "text": [
      "Done  62.163 %, average grains/point   2.01, 0.002 /s/point, total 115.5 /s\r"
     ]
    },
    {
     "name": "stdout",
     "output_type": "stream",
     "text": [
      "Done  62.210 %, average grains/point   2.01, 0.002 /s/point, total 115.6 /s\r"
     ]
    },
    {
     "name": "stdout",
     "output_type": "stream",
     "text": [
      "Done  62.257 %, average grains/point   2.01, 0.002 /s/point, total 115.7 /s\r"
     ]
    },
    {
     "name": "stdout",
     "output_type": "stream",
     "text": [
      "Done  62.304 %, average grains/point   2.01, 0.002 /s/point, total 115.7 /s\r"
     ]
    },
    {
     "name": "stdout",
     "output_type": "stream",
     "text": [
      "Done  62.352 %, average grains/point   2.01, 0.002 /s/point, total 115.8 /s\r"
     ]
    },
    {
     "name": "stdout",
     "output_type": "stream",
     "text": [
      "Done  62.399 %, average grains/point   2.01, 0.002 /s/point, total 115.9 /s\r"
     ]
    },
    {
     "name": "stdout",
     "output_type": "stream",
     "text": [
      "Done  62.446 %, average grains/point   2.01, 0.002 /s/point, total 116.0 /s\r"
     ]
    },
    {
     "name": "stdout",
     "output_type": "stream",
     "text": [
      "Done  62.493 %, average grains/point   2.01, 0.002 /s/point, total 116.0 /s\r"
     ]
    },
    {
     "name": "stdout",
     "output_type": "stream",
     "text": [
      "Done  62.541 %, average grains/point   2.01, 0.002 /s/point, total 116.1 /s\r"
     ]
    },
    {
     "name": "stdout",
     "output_type": "stream",
     "text": [
      "Done  62.588 %, average grains/point   2.01, 0.002 /s/point, total 116.2 /s\r"
     ]
    },
    {
     "name": "stdout",
     "output_type": "stream",
     "text": [
      "Done  62.635 %, average grains/point   2.01, 0.002 /s/point, total 116.2 /s\r"
     ]
    },
    {
     "name": "stdout",
     "output_type": "stream",
     "text": [
      "Done  62.682 %, average grains/point   2.01, 0.002 /s/point, total 116.3 /s\r"
     ]
    },
    {
     "name": "stdout",
     "output_type": "stream",
     "text": [
      "Done  62.730 %, average grains/point   2.01, 0.002 /s/point, total 116.4 /s\r"
     ]
    },
    {
     "name": "stdout",
     "output_type": "stream",
     "text": [
      "Done  62.777 %, average grains/point   2.01, 0.002 /s/point, total 116.5 /s\r"
     ]
    },
    {
     "name": "stdout",
     "output_type": "stream",
     "text": [
      "Done  62.824 %, average grains/point   2.01, 0.002 /s/point, total 116.5 /s\r"
     ]
    },
    {
     "name": "stdout",
     "output_type": "stream",
     "text": [
      "Done  62.871 %, average grains/point   2.01, 0.002 /s/point, total 116.6 /s\r"
     ]
    },
    {
     "name": "stdout",
     "output_type": "stream",
     "text": [
      "Done  62.918 %, average grains/point   2.01, 0.002 /s/point, total 116.7 /s\r"
     ]
    },
    {
     "name": "stdout",
     "output_type": "stream",
     "text": [
      "Done  62.966 %, average grains/point   2.01, 0.002 /s/point, total 116.7 /s\r"
     ]
    },
    {
     "name": "stdout",
     "output_type": "stream",
     "text": [
      "Done  63.013 %, average grains/point   2.01, 0.002 /s/point, total 116.8 /s\r"
     ]
    },
    {
     "name": "stdout",
     "output_type": "stream",
     "text": [
      "Done  63.060 %, average grains/point   2.01, 0.002 /s/point, total 116.9 /s\r"
     ]
    },
    {
     "name": "stdout",
     "output_type": "stream",
     "text": [
      "Done  63.107 %, average grains/point   2.01, 0.002 /s/point, total 116.9 /s\r"
     ]
    },
    {
     "name": "stdout",
     "output_type": "stream",
     "text": [
      "Done  63.155 %, average grains/point   2.01, 0.002 /s/point, total 117.0 /s\r"
     ]
    },
    {
     "name": "stdout",
     "output_type": "stream",
     "text": [
      "Done  63.202 %, average grains/point   2.01, 0.002 /s/point, total 117.1 /s\r"
     ]
    },
    {
     "name": "stdout",
     "output_type": "stream",
     "text": [
      "Done  63.249 %, average grains/point   2.01, 0.002 /s/point, total 117.2 /s\r"
     ]
    },
    {
     "name": "stdout",
     "output_type": "stream",
     "text": [
      "Done  63.296 %, average grains/point   2.01, 0.002 /s/point, total 117.2 /s\r"
     ]
    },
    {
     "name": "stdout",
     "output_type": "stream",
     "text": [
      "Done  63.344 %, average grains/point   2.01, 0.002 /s/point, total 117.3 /s\r"
     ]
    },
    {
     "name": "stdout",
     "output_type": "stream",
     "text": [
      "Done  63.391 %, average grains/point   2.01, 0.002 /s/point, total 117.4 /s\r"
     ]
    },
    {
     "name": "stdout",
     "output_type": "stream",
     "text": [
      "Done  63.438 %, average grains/point   2.01, 0.002 /s/point, total 117.4 /s\r"
     ]
    },
    {
     "name": "stdout",
     "output_type": "stream",
     "text": [
      "Done  63.485 %, average grains/point   2.01, 0.002 /s/point, total 117.5 /s\r"
     ]
    },
    {
     "name": "stdout",
     "output_type": "stream",
     "text": [
      "Done  63.533 %, average grains/point   2.01, 0.002 /s/point, total 117.6 /s\r"
     ]
    },
    {
     "name": "stdout",
     "output_type": "stream",
     "text": [
      "Done  63.580 %, average grains/point   2.01, 0.002 /s/point, total 117.7 /s\r"
     ]
    },
    {
     "name": "stdout",
     "output_type": "stream",
     "text": [
      "Done  63.627 %, average grains/point   2.01, 0.002 /s/point, total 117.7 /s\r"
     ]
    },
    {
     "name": "stdout",
     "output_type": "stream",
     "text": [
      "Done  63.674 %, average grains/point   2.01, 0.002 /s/point, total 117.8 /s\r"
     ]
    },
    {
     "name": "stdout",
     "output_type": "stream",
     "text": [
      "Done  63.721 %, average grains/point   2.01, 0.002 /s/point, total 117.9 /s\r"
     ]
    },
    {
     "name": "stdout",
     "output_type": "stream",
     "text": [
      "Done  63.769 %, average grains/point   2.01, 0.002 /s/point, total 117.9 /s\r"
     ]
    },
    {
     "name": "stdout",
     "output_type": "stream",
     "text": [
      "Done  63.816 %, average grains/point   2.01, 0.002 /s/point, total 118.0 /s\r"
     ]
    },
    {
     "name": "stdout",
     "output_type": "stream",
     "text": [
      "Done  63.863 %, average grains/point   2.01, 0.002 /s/point, total 118.1 /s\r"
     ]
    },
    {
     "name": "stdout",
     "output_type": "stream",
     "text": [
      "Done  63.910 %, average grains/point   2.01, 0.002 /s/point, total 118.1 /s\r"
     ]
    },
    {
     "name": "stdout",
     "output_type": "stream",
     "text": [
      "Done  63.958 %, average grains/point   2.01, 0.002 /s/point, total 118.2 /s\r"
     ]
    },
    {
     "name": "stdout",
     "output_type": "stream",
     "text": [
      "Done  64.005 %, average grains/point   2.01, 0.002 /s/point, total 118.3 /s\r"
     ]
    },
    {
     "name": "stdout",
     "output_type": "stream",
     "text": [
      "Done  64.052 %, average grains/point   2.01, 0.002 /s/point, total 118.4 /s\r"
     ]
    },
    {
     "name": "stdout",
     "output_type": "stream",
     "text": [
      "Done  64.099 %, average grains/point   2.01, 0.002 /s/point, total 118.4 /s\r"
     ]
    },
    {
     "name": "stdout",
     "output_type": "stream",
     "text": [
      "Done  64.147 %, average grains/point   2.01, 0.002 /s/point, total 118.5 /s\r"
     ]
    },
    {
     "name": "stdout",
     "output_type": "stream",
     "text": [
      "Done  64.194 %, average grains/point   2.01, 0.002 /s/point, total 118.6 /s\r"
     ]
    },
    {
     "name": "stdout",
     "output_type": "stream",
     "text": [
      "Done  64.241 %, average grains/point   2.01, 0.002 /s/point, total 118.6 /s\r"
     ]
    },
    {
     "name": "stdout",
     "output_type": "stream",
     "text": [
      "Done  64.288 %, average grains/point   2.01, 0.002 /s/point, total 118.7 /s\r"
     ]
    },
    {
     "name": "stdout",
     "output_type": "stream",
     "text": [
      "Done  64.336 %, average grains/point   2.01, 0.002 /s/point, total 118.8 /s\r"
     ]
    },
    {
     "name": "stdout",
     "output_type": "stream",
     "text": [
      "Done  64.383 %, average grains/point   2.01, 0.002 /s/point, total 118.9 /s\r"
     ]
    },
    {
     "name": "stdout",
     "output_type": "stream",
     "text": [
      "Done  64.430 %, average grains/point   2.01, 0.002 /s/point, total 118.9 /s\r"
     ]
    },
    {
     "name": "stdout",
     "output_type": "stream",
     "text": [
      "Done  64.477 %, average grains/point   2.01, 0.002 /s/point, total 119.0 /s\r"
     ]
    },
    {
     "name": "stdout",
     "output_type": "stream",
     "text": [
      "Done  64.525 %, average grains/point   2.01, 0.002 /s/point, total 119.1 /s\r"
     ]
    },
    {
     "name": "stdout",
     "output_type": "stream",
     "text": [
      "Done  64.572 %, average grains/point   2.01, 0.002 /s/point, total 119.1 /s\r"
     ]
    },
    {
     "name": "stdout",
     "output_type": "stream",
     "text": [
      "Done  64.619 %, average grains/point   2.01, 0.002 /s/point, total 119.2 /s\r"
     ]
    },
    {
     "name": "stdout",
     "output_type": "stream",
     "text": [
      "Done  64.666 %, average grains/point   2.01, 0.002 /s/point, total 119.3 /s\r"
     ]
    },
    {
     "name": "stdout",
     "output_type": "stream",
     "text": [
      "Done  64.713 %, average grains/point   2.01, 0.002 /s/point, total 119.3 /s\r"
     ]
    },
    {
     "name": "stdout",
     "output_type": "stream",
     "text": [
      "Done  64.761 %, average grains/point   2.01, 0.002 /s/point, total 119.4 /s\r"
     ]
    },
    {
     "name": "stdout",
     "output_type": "stream",
     "text": [
      "Done  64.808 %, average grains/point   2.01, 0.002 /s/point, total 119.5 /s\r"
     ]
    },
    {
     "name": "stdout",
     "output_type": "stream",
     "text": [
      "Done  64.855 %, average grains/point   2.01, 0.002 /s/point, total 119.5 /s\r"
     ]
    },
    {
     "name": "stdout",
     "output_type": "stream",
     "text": [
      "Done  64.902 %, average grains/point   2.01, 0.002 /s/point, total 119.6 /s\r"
     ]
    },
    {
     "name": "stdout",
     "output_type": "stream",
     "text": [
      "Done  64.950 %, average grains/point   2.01, 0.002 /s/point, total 119.7 /s\r"
     ]
    },
    {
     "name": "stdout",
     "output_type": "stream",
     "text": [
      "Done  64.997 %, average grains/point   2.01, 0.002 /s/point, total 119.7 /s\r"
     ]
    },
    {
     "name": "stdout",
     "output_type": "stream",
     "text": [
      "Done  65.044 %, average grains/point   2.01, 0.002 /s/point, total 119.8 /s\r"
     ]
    },
    {
     "name": "stdout",
     "output_type": "stream",
     "text": [
      "Done  65.091 %, average grains/point   2.01, 0.002 /s/point, total 119.9 /s\r"
     ]
    },
    {
     "name": "stdout",
     "output_type": "stream",
     "text": [
      "Done  65.139 %, average grains/point   2.01, 0.002 /s/point, total 120.0 /s\r"
     ]
    },
    {
     "name": "stdout",
     "output_type": "stream",
     "text": [
      "Done  65.186 %, average grains/point   2.01, 0.002 /s/point, total 120.0 /s\r"
     ]
    },
    {
     "name": "stdout",
     "output_type": "stream",
     "text": [
      "Done  65.233 %, average grains/point   2.01, 0.002 /s/point, total 120.1 /s\r"
     ]
    },
    {
     "name": "stdout",
     "output_type": "stream",
     "text": [
      "Done  65.280 %, average grains/point   2.01, 0.002 /s/point, total 120.2 /s\r"
     ]
    },
    {
     "name": "stdout",
     "output_type": "stream",
     "text": [
      "Done  65.328 %, average grains/point   2.01, 0.002 /s/point, total 120.3 /s\r"
     ]
    },
    {
     "name": "stdout",
     "output_type": "stream",
     "text": [
      "Done  65.375 %, average grains/point   2.01, 0.002 /s/point, total 120.3 /s\r"
     ]
    },
    {
     "name": "stdout",
     "output_type": "stream",
     "text": [
      "Done  65.422 %, average grains/point   2.01, 0.002 /s/point, total 120.4 /s\r"
     ]
    },
    {
     "name": "stdout",
     "output_type": "stream",
     "text": [
      "Done  65.469 %, average grains/point   2.01, 0.002 /s/point, total 120.5 /s\r"
     ]
    },
    {
     "name": "stdout",
     "output_type": "stream",
     "text": [
      "Done  65.516 %, average grains/point   2.01, 0.002 /s/point, total 120.5 /s\r"
     ]
    },
    {
     "name": "stdout",
     "output_type": "stream",
     "text": [
      "Done  65.564 %, average grains/point   2.01, 0.002 /s/point, total 120.6 /s\r"
     ]
    },
    {
     "name": "stdout",
     "output_type": "stream",
     "text": [
      "Done  65.611 %, average grains/point   2.01, 0.002 /s/point, total 120.7 /s\r"
     ]
    },
    {
     "name": "stdout",
     "output_type": "stream",
     "text": [
      "Done  65.658 %, average grains/point   2.01, 0.002 /s/point, total 120.7 /s\r"
     ]
    },
    {
     "name": "stdout",
     "output_type": "stream",
     "text": [
      "Done  65.705 %, average grains/point   2.01, 0.002 /s/point, total 120.8 /s\r"
     ]
    },
    {
     "name": "stdout",
     "output_type": "stream",
     "text": [
      "Done  65.753 %, average grains/point   2.01, 0.002 /s/point, total 120.9 /s\r"
     ]
    },
    {
     "name": "stdout",
     "output_type": "stream",
     "text": [
      "Done  65.800 %, average grains/point   2.01, 0.002 /s/point, total 121.0 /s\r"
     ]
    },
    {
     "name": "stdout",
     "output_type": "stream",
     "text": [
      "Done  65.847 %, average grains/point   2.01, 0.002 /s/point, total 121.0 /s\r"
     ]
    },
    {
     "name": "stdout",
     "output_type": "stream",
     "text": [
      "Done  65.894 %, average grains/point   2.01, 0.002 /s/point, total 121.1 /s\r"
     ]
    },
    {
     "name": "stdout",
     "output_type": "stream",
     "text": [
      "Done  65.942 %, average grains/point   2.01, 0.002 /s/point, total 121.2 /s\r"
     ]
    },
    {
     "name": "stdout",
     "output_type": "stream",
     "text": [
      "Done  65.989 %, average grains/point   2.01, 0.002 /s/point, total 121.2 /s\r"
     ]
    },
    {
     "name": "stdout",
     "output_type": "stream",
     "text": [
      "Done  66.036 %, average grains/point   2.01, 0.002 /s/point, total 121.3 /s\r"
     ]
    },
    {
     "name": "stdout",
     "output_type": "stream",
     "text": [
      "Done  66.083 %, average grains/point   2.01, 0.002 /s/point, total 121.4 /s\r"
     ]
    },
    {
     "name": "stdout",
     "output_type": "stream",
     "text": [
      "Done  66.131 %, average grains/point   2.01, 0.002 /s/point, total 121.4 /s\r"
     ]
    },
    {
     "name": "stdout",
     "output_type": "stream",
     "text": [
      "Done  66.178 %, average grains/point   2.01, 0.002 /s/point, total 121.5 /s\r"
     ]
    },
    {
     "name": "stdout",
     "output_type": "stream",
     "text": [
      "Done  66.225 %, average grains/point   2.01, 0.002 /s/point, total 121.6 /s\r"
     ]
    },
    {
     "name": "stdout",
     "output_type": "stream",
     "text": [
      "Done  66.272 %, average grains/point   2.01, 0.002 /s/point, total 121.6 /s\r"
     ]
    },
    {
     "name": "stdout",
     "output_type": "stream",
     "text": [
      "Done  66.319 %, average grains/point   2.01, 0.002 /s/point, total 121.7 /s\r"
     ]
    },
    {
     "name": "stdout",
     "output_type": "stream",
     "text": [
      "Done  66.367 %, average grains/point   2.01, 0.002 /s/point, total 121.8 /s\r"
     ]
    },
    {
     "name": "stdout",
     "output_type": "stream",
     "text": [
      "Done  66.414 %, average grains/point   2.01, 0.002 /s/point, total 121.9 /s\r"
     ]
    },
    {
     "name": "stdout",
     "output_type": "stream",
     "text": [
      "Done  66.461 %, average grains/point   2.01, 0.002 /s/point, total 121.9 /s\r"
     ]
    },
    {
     "name": "stdout",
     "output_type": "stream",
     "text": [
      "Done  66.508 %, average grains/point   2.02, 0.002 /s/point, total 122.0 /s\r"
     ]
    },
    {
     "name": "stdout",
     "output_type": "stream",
     "text": [
      "Done  66.556 %, average grains/point   2.01, 0.002 /s/point, total 122.1 /s\r"
     ]
    },
    {
     "name": "stdout",
     "output_type": "stream",
     "text": [
      "Done  66.603 %, average grains/point   2.01, 0.002 /s/point, total 122.2 /s\r"
     ]
    },
    {
     "name": "stdout",
     "output_type": "stream",
     "text": [
      "Done  66.650 %, average grains/point   2.02, 0.002 /s/point, total 122.2 /s\r"
     ]
    },
    {
     "name": "stdout",
     "output_type": "stream",
     "text": [
      "Done  66.697 %, average grains/point   2.01, 0.002 /s/point, total 122.3 /s\r"
     ]
    },
    {
     "name": "stdout",
     "output_type": "stream",
     "text": [
      "Done  66.745 %, average grains/point   2.02, 0.002 /s/point, total 122.4 /s\r"
     ]
    },
    {
     "name": "stdout",
     "output_type": "stream",
     "text": [
      "Done  66.792 %, average grains/point   2.01, 0.002 /s/point, total 122.4 /s\r"
     ]
    },
    {
     "name": "stdout",
     "output_type": "stream",
     "text": [
      "Done  66.839 %, average grains/point   2.01, 0.002 /s/point, total 122.5 /s\r"
     ]
    },
    {
     "name": "stdout",
     "output_type": "stream",
     "text": [
      "Done  66.886 %, average grains/point   2.01, 0.002 /s/point, total 122.6 /s\r"
     ]
    },
    {
     "name": "stdout",
     "output_type": "stream",
     "text": [
      "Done  66.934 %, average grains/point   2.01, 0.002 /s/point, total 122.6 /s\r"
     ]
    },
    {
     "name": "stdout",
     "output_type": "stream",
     "text": [
      "Done  66.981 %, average grains/point   2.01, 0.002 /s/point, total 122.7 /s\r"
     ]
    },
    {
     "name": "stdout",
     "output_type": "stream",
     "text": [
      "Done  67.028 %, average grains/point   2.01, 0.002 /s/point, total 122.8 /s\r"
     ]
    },
    {
     "name": "stdout",
     "output_type": "stream",
     "text": [
      "Done  67.075 %, average grains/point   2.01, 0.002 /s/point, total 122.8 /s\r"
     ]
    },
    {
     "name": "stdout",
     "output_type": "stream",
     "text": [
      "Done  67.122 %, average grains/point   2.01, 0.002 /s/point, total 122.9 /s\r"
     ]
    },
    {
     "name": "stdout",
     "output_type": "stream",
     "text": [
      "Done  67.170 %, average grains/point   2.01, 0.002 /s/point, total 123.0 /s\r"
     ]
    },
    {
     "name": "stdout",
     "output_type": "stream",
     "text": [
      "Done  67.217 %, average grains/point   2.01, 0.002 /s/point, total 123.1 /s\r"
     ]
    },
    {
     "name": "stdout",
     "output_type": "stream",
     "text": [
      "Done  67.264 %, average grains/point   2.01, 0.002 /s/point, total 123.1 /s\r"
     ]
    },
    {
     "name": "stdout",
     "output_type": "stream",
     "text": [
      "Done  67.311 %, average grains/point   2.01, 0.002 /s/point, total 123.2 /s\r"
     ]
    },
    {
     "name": "stdout",
     "output_type": "stream",
     "text": [
      "Done  67.359 %, average grains/point   2.01, 0.002 /s/point, total 123.3 /s\r"
     ]
    },
    {
     "name": "stdout",
     "output_type": "stream",
     "text": [
      "Done  67.406 %, average grains/point   2.01, 0.002 /s/point, total 123.3 /s\r"
     ]
    },
    {
     "name": "stdout",
     "output_type": "stream",
     "text": [
      "Done  67.453 %, average grains/point   2.01, 0.002 /s/point, total 123.4 /s\r"
     ]
    },
    {
     "name": "stdout",
     "output_type": "stream",
     "text": [
      "Done  67.500 %, average grains/point   2.01, 0.002 /s/point, total 123.5 /s\r"
     ]
    },
    {
     "name": "stdout",
     "output_type": "stream",
     "text": [
      "Done  67.548 %, average grains/point   2.01, 0.002 /s/point, total 123.6 /s\r"
     ]
    },
    {
     "name": "stdout",
     "output_type": "stream",
     "text": [
      "Done  67.595 %, average grains/point   2.01, 0.002 /s/point, total 123.6 /s\r"
     ]
    },
    {
     "name": "stdout",
     "output_type": "stream",
     "text": [
      "Done  67.642 %, average grains/point   2.01, 0.002 /s/point, total 123.7 /s\r"
     ]
    },
    {
     "name": "stdout",
     "output_type": "stream",
     "text": [
      "Done  67.689 %, average grains/point   2.01, 0.002 /s/point, total 123.8 /s\r"
     ]
    },
    {
     "name": "stdout",
     "output_type": "stream",
     "text": [
      "Done  67.737 %, average grains/point   2.01, 0.002 /s/point, total 123.8 /s\r"
     ]
    },
    {
     "name": "stdout",
     "output_type": "stream",
     "text": [
      "Done  67.784 %, average grains/point   2.01, 0.002 /s/point, total 123.9 /s\r"
     ]
    },
    {
     "name": "stdout",
     "output_type": "stream",
     "text": [
      "Done  67.831 %, average grains/point   2.01, 0.002 /s/point, total 124.0 /s\r"
     ]
    },
    {
     "name": "stdout",
     "output_type": "stream",
     "text": [
      "Done  67.878 %, average grains/point   2.01, 0.002 /s/point, total 124.0 /s\r"
     ]
    },
    {
     "name": "stdout",
     "output_type": "stream",
     "text": [
      "Done  67.926 %, average grains/point   2.01, 0.002 /s/point, total 124.1 /s\r"
     ]
    },
    {
     "name": "stdout",
     "output_type": "stream",
     "text": [
      "Done  67.973 %, average grains/point   2.01, 0.002 /s/point, total 124.2 /s\r"
     ]
    },
    {
     "name": "stdout",
     "output_type": "stream",
     "text": [
      "Done  68.020 %, average grains/point   2.01, 0.002 /s/point, total 124.2 /s\r"
     ]
    },
    {
     "name": "stdout",
     "output_type": "stream",
     "text": [
      "Done  68.067 %, average grains/point   2.01, 0.002 /s/point, total 124.3 /s\r"
     ]
    },
    {
     "name": "stdout",
     "output_type": "stream",
     "text": [
      "Done  68.114 %, average grains/point   2.01, 0.002 /s/point, total 124.4 /s\r"
     ]
    },
    {
     "name": "stdout",
     "output_type": "stream",
     "text": [
      "Done  68.162 %, average grains/point   2.02, 0.002 /s/point, total 124.5 /s\r"
     ]
    },
    {
     "name": "stdout",
     "output_type": "stream",
     "text": [
      "Done  68.209 %, average grains/point   2.02, 0.002 /s/point, total 124.5 /s\r"
     ]
    },
    {
     "name": "stdout",
     "output_type": "stream",
     "text": [
      "Done  68.256 %, average grains/point   2.02, 0.002 /s/point, total 124.6 /s\r"
     ]
    },
    {
     "name": "stdout",
     "output_type": "stream",
     "text": [
      "Done  68.303 %, average grains/point   2.02, 0.002 /s/point, total 124.7 /s\r"
     ]
    },
    {
     "name": "stdout",
     "output_type": "stream",
     "text": [
      "Done  68.351 %, average grains/point   2.02, 0.002 /s/point, total 124.8 /s\r"
     ]
    },
    {
     "name": "stdout",
     "output_type": "stream",
     "text": [
      "Done  68.398 %, average grains/point   2.02, 0.002 /s/point, total 124.8 /s\r"
     ]
    },
    {
     "name": "stdout",
     "output_type": "stream",
     "text": [
      "Done  68.445 %, average grains/point   2.02, 0.002 /s/point, total 124.9 /s\r"
     ]
    },
    {
     "name": "stdout",
     "output_type": "stream",
     "text": [
      "Done  68.492 %, average grains/point   2.02, 0.002 /s/point, total 125.0 /s\r"
     ]
    },
    {
     "name": "stdout",
     "output_type": "stream",
     "text": [
      "Done  68.540 %, average grains/point   2.01, 0.002 /s/point, total 125.0 /s\r"
     ]
    },
    {
     "name": "stdout",
     "output_type": "stream",
     "text": [
      "Done  68.587 %, average grains/point   2.01, 0.002 /s/point, total 125.1 /s\r"
     ]
    },
    {
     "name": "stdout",
     "output_type": "stream",
     "text": [
      "Done  68.634 %, average grains/point   2.01, 0.002 /s/point, total 125.2 /s\r"
     ]
    },
    {
     "name": "stdout",
     "output_type": "stream",
     "text": [
      "Done  68.681 %, average grains/point   2.02, 0.002 /s/point, total 125.2 /s\r"
     ]
    },
    {
     "name": "stdout",
     "output_type": "stream",
     "text": [
      "Done  68.729 %, average grains/point   2.02, 0.002 /s/point, total 125.3 /s\r"
     ]
    },
    {
     "name": "stdout",
     "output_type": "stream",
     "text": [
      "Done  68.776 %, average grains/point   2.02, 0.002 /s/point, total 125.4 /s\r"
     ]
    },
    {
     "name": "stdout",
     "output_type": "stream",
     "text": [
      "Done  68.823 %, average grains/point   2.02, 0.002 /s/point, total 125.5 /s\r"
     ]
    },
    {
     "name": "stdout",
     "output_type": "stream",
     "text": [
      "Done  68.870 %, average grains/point   2.02, 0.002 /s/point, total 125.5 /s\r"
     ]
    },
    {
     "name": "stdout",
     "output_type": "stream",
     "text": [
      "Done  68.917 %, average grains/point   2.02, 0.002 /s/point, total 125.6 /s\r"
     ]
    },
    {
     "name": "stdout",
     "output_type": "stream",
     "text": [
      "Done  68.965 %, average grains/point   2.02, 0.002 /s/point, total 125.7 /s\r"
     ]
    },
    {
     "name": "stdout",
     "output_type": "stream",
     "text": [
      "Done  69.012 %, average grains/point   2.02, 0.002 /s/point, total 125.7 /s\r"
     ]
    },
    {
     "name": "stdout",
     "output_type": "stream",
     "text": [
      "Done  69.059 %, average grains/point   2.02, 0.002 /s/point, total 125.8 /s\r"
     ]
    },
    {
     "name": "stdout",
     "output_type": "stream",
     "text": [
      "Done  69.106 %, average grains/point   2.02, 0.002 /s/point, total 125.9 /s\r"
     ]
    },
    {
     "name": "stdout",
     "output_type": "stream",
     "text": [
      "Done  69.154 %, average grains/point   2.02, 0.002 /s/point, total 125.9 /s\r"
     ]
    },
    {
     "name": "stdout",
     "output_type": "stream",
     "text": [
      "Done  69.201 %, average grains/point   2.02, 0.002 /s/point, total 126.0 /s\r"
     ]
    },
    {
     "name": "stdout",
     "output_type": "stream",
     "text": [
      "Done  69.248 %, average grains/point   2.02, 0.002 /s/point, total 126.1 /s\r"
     ]
    },
    {
     "name": "stdout",
     "output_type": "stream",
     "text": [
      "Done  69.295 %, average grains/point   2.02, 0.002 /s/point, total 126.1 /s\r"
     ]
    },
    {
     "name": "stdout",
     "output_type": "stream",
     "text": [
      "Done  69.343 %, average grains/point   2.02, 0.002 /s/point, total 126.2 /s\r"
     ]
    },
    {
     "name": "stdout",
     "output_type": "stream",
     "text": [
      "Done  69.390 %, average grains/point   2.02, 0.002 /s/point, total 126.3 /s\r"
     ]
    },
    {
     "name": "stdout",
     "output_type": "stream",
     "text": [
      "Done  69.437 %, average grains/point   2.02, 0.002 /s/point, total 126.4 /s\r"
     ]
    },
    {
     "name": "stdout",
     "output_type": "stream",
     "text": [
      "Done  69.484 %, average grains/point   2.02, 0.002 /s/point, total 126.4 /s\r"
     ]
    },
    {
     "name": "stdout",
     "output_type": "stream",
     "text": [
      "Done  69.532 %, average grains/point   2.02, 0.002 /s/point, total 126.5 /s\r"
     ]
    },
    {
     "name": "stdout",
     "output_type": "stream",
     "text": [
      "Done  69.579 %, average grains/point   2.02, 0.002 /s/point, total 126.6 /s\r"
     ]
    },
    {
     "name": "stdout",
     "output_type": "stream",
     "text": [
      "Done  69.626 %, average grains/point   2.02, 0.002 /s/point, total 126.6 /s\r"
     ]
    },
    {
     "name": "stdout",
     "output_type": "stream",
     "text": [
      "Done  69.673 %, average grains/point   2.02, 0.002 /s/point, total 126.7 /s\r"
     ]
    },
    {
     "name": "stdout",
     "output_type": "stream",
     "text": [
      "Done  69.720 %, average grains/point   2.02, 0.002 /s/point, total 126.8 /s\r"
     ]
    },
    {
     "name": "stdout",
     "output_type": "stream",
     "text": [
      "Done  69.768 %, average grains/point   2.02, 0.002 /s/point, total 126.9 /s\r"
     ]
    },
    {
     "name": "stdout",
     "output_type": "stream",
     "text": [
      "Done  69.815 %, average grains/point   2.02, 0.002 /s/point, total 126.9 /s\r"
     ]
    },
    {
     "name": "stdout",
     "output_type": "stream",
     "text": [
      "Done  69.862 %, average grains/point   2.02, 0.002 /s/point, total 127.0 /s\r"
     ]
    },
    {
     "name": "stdout",
     "output_type": "stream",
     "text": [
      "Done  69.909 %, average grains/point   2.02, 0.002 /s/point, total 127.1 /s\r"
     ]
    },
    {
     "name": "stdout",
     "output_type": "stream",
     "text": [
      "Done  69.957 %, average grains/point   2.02, 0.002 /s/point, total 127.1 /s\r"
     ]
    },
    {
     "name": "stdout",
     "output_type": "stream",
     "text": [
      "Done  70.004 %, average grains/point   2.02, 0.002 /s/point, total 127.2 /s\r"
     ]
    },
    {
     "name": "stdout",
     "output_type": "stream",
     "text": [
      "Done  70.051 %, average grains/point   2.02, 0.002 /s/point, total 127.3 /s\r"
     ]
    },
    {
     "name": "stdout",
     "output_type": "stream",
     "text": [
      "Done  70.098 %, average grains/point   2.02, 0.002 /s/point, total 127.3 /s\r"
     ]
    },
    {
     "name": "stdout",
     "output_type": "stream",
     "text": [
      "Done  70.146 %, average grains/point   2.02, 0.002 /s/point, total 127.4 /s\r"
     ]
    },
    {
     "name": "stdout",
     "output_type": "stream",
     "text": [
      "Done  70.193 %, average grains/point   2.02, 0.002 /s/point, total 127.5 /s\r"
     ]
    },
    {
     "name": "stdout",
     "output_type": "stream",
     "text": [
      "Done  70.240 %, average grains/point   2.02, 0.002 /s/point, total 127.6 /s\r"
     ]
    },
    {
     "name": "stdout",
     "output_type": "stream",
     "text": [
      "Done  70.287 %, average grains/point   2.02, 0.002 /s/point, total 127.6 /s\r"
     ]
    },
    {
     "name": "stdout",
     "output_type": "stream",
     "text": [
      "Done  70.335 %, average grains/point   2.02, 0.002 /s/point, total 127.7 /s\r"
     ]
    },
    {
     "name": "stdout",
     "output_type": "stream",
     "text": [
      "Done  70.382 %, average grains/point   2.02, 0.002 /s/point, total 127.8 /s\r"
     ]
    },
    {
     "name": "stdout",
     "output_type": "stream",
     "text": [
      "Done  70.429 %, average grains/point   2.02, 0.002 /s/point, total 127.8 /s\r"
     ]
    },
    {
     "name": "stdout",
     "output_type": "stream",
     "text": [
      "Done  70.476 %, average grains/point   2.02, 0.002 /s/point, total 127.9 /s\r"
     ]
    },
    {
     "name": "stdout",
     "output_type": "stream",
     "text": [
      "Done  70.523 %, average grains/point   2.02, 0.002 /s/point, total 128.0 /s\r"
     ]
    },
    {
     "name": "stdout",
     "output_type": "stream",
     "text": [
      "Done  70.571 %, average grains/point   2.02, 0.002 /s/point, total 128.0 /s\r"
     ]
    },
    {
     "name": "stdout",
     "output_type": "stream",
     "text": [
      "Done  70.618 %, average grains/point   2.02, 0.002 /s/point, total 128.1 /s\r"
     ]
    },
    {
     "name": "stdout",
     "output_type": "stream",
     "text": [
      "Done  70.665 %, average grains/point   2.02, 0.002 /s/point, total 128.2 /s\r"
     ]
    },
    {
     "name": "stdout",
     "output_type": "stream",
     "text": [
      "Done  70.712 %, average grains/point   2.02, 0.002 /s/point, total 128.2 /s\r"
     ]
    },
    {
     "name": "stdout",
     "output_type": "stream",
     "text": [
      "Done  70.760 %, average grains/point   2.02, 0.002 /s/point, total 128.3 /s\r"
     ]
    },
    {
     "name": "stdout",
     "output_type": "stream",
     "text": [
      "Done  70.807 %, average grains/point   2.02, 0.002 /s/point, total 128.4 /s\r"
     ]
    },
    {
     "name": "stdout",
     "output_type": "stream",
     "text": [
      "Done  70.854 %, average grains/point   2.02, 0.002 /s/point, total 128.4 /s\r"
     ]
    },
    {
     "name": "stdout",
     "output_type": "stream",
     "text": [
      "Done  70.901 %, average grains/point   2.02, 0.002 /s/point, total 128.5 /s\r"
     ]
    },
    {
     "name": "stdout",
     "output_type": "stream",
     "text": [
      "Done  70.949 %, average grains/point   2.02, 0.002 /s/point, total 128.6 /s\r"
     ]
    },
    {
     "name": "stdout",
     "output_type": "stream",
     "text": [
      "Done  70.996 %, average grains/point   2.02, 0.002 /s/point, total 128.7 /s\r"
     ]
    },
    {
     "name": "stdout",
     "output_type": "stream",
     "text": [
      "Done  71.043 %, average grains/point   2.02, 0.002 /s/point, total 128.7 /s\r"
     ]
    },
    {
     "name": "stdout",
     "output_type": "stream",
     "text": [
      "Done  71.090 %, average grains/point   2.02, 0.002 /s/point, total 128.8 /s\r"
     ]
    },
    {
     "name": "stdout",
     "output_type": "stream",
     "text": [
      "Done  71.138 %, average grains/point   2.02, 0.002 /s/point, total 128.9 /s\r"
     ]
    },
    {
     "name": "stdout",
     "output_type": "stream",
     "text": [
      "Done  71.185 %, average grains/point   2.02, 0.002 /s/point, total 128.9 /s\r"
     ]
    },
    {
     "name": "stdout",
     "output_type": "stream",
     "text": [
      "Done  71.232 %, average grains/point   2.02, 0.002 /s/point, total 129.0 /s\r"
     ]
    },
    {
     "name": "stdout",
     "output_type": "stream",
     "text": [
      "Done  71.279 %, average grains/point   2.02, 0.002 /s/point, total 129.1 /s\r"
     ]
    },
    {
     "name": "stdout",
     "output_type": "stream",
     "text": [
      "Done  71.327 %, average grains/point   2.02, 0.002 /s/point, total 129.1 /s\r"
     ]
    },
    {
     "name": "stdout",
     "output_type": "stream",
     "text": [
      "Done  71.374 %, average grains/point   2.02, 0.002 /s/point, total 129.2 /s\r"
     ]
    },
    {
     "name": "stdout",
     "output_type": "stream",
     "text": [
      "Done  71.421 %, average grains/point   2.02, 0.002 /s/point, total 129.3 /s\r"
     ]
    },
    {
     "name": "stdout",
     "output_type": "stream",
     "text": [
      "Done  71.468 %, average grains/point   2.02, 0.002 /s/point, total 129.4 /s\r"
     ]
    },
    {
     "name": "stdout",
     "output_type": "stream",
     "text": [
      "Done  71.515 %, average grains/point   2.02, 0.002 /s/point, total 129.4 /s\r"
     ]
    },
    {
     "name": "stdout",
     "output_type": "stream",
     "text": [
      "Done  71.563 %, average grains/point   2.02, 0.002 /s/point, total 129.5 /s\r"
     ]
    },
    {
     "name": "stdout",
     "output_type": "stream",
     "text": [
      "Done  71.610 %, average grains/point   2.02, 0.002 /s/point, total 129.6 /s\r"
     ]
    },
    {
     "name": "stdout",
     "output_type": "stream",
     "text": [
      "Done  71.657 %, average grains/point   2.02, 0.002 /s/point, total 129.6 /s\r"
     ]
    },
    {
     "name": "stdout",
     "output_type": "stream",
     "text": [
      "Done  71.704 %, average grains/point   2.02, 0.002 /s/point, total 129.7 /s\r"
     ]
    },
    {
     "name": "stdout",
     "output_type": "stream",
     "text": [
      "Done  71.752 %, average grains/point   2.02, 0.002 /s/point, total 129.8 /s\r"
     ]
    },
    {
     "name": "stdout",
     "output_type": "stream",
     "text": [
      "Done  71.799 %, average grains/point   2.02, 0.002 /s/point, total 129.9 /s\r"
     ]
    },
    {
     "name": "stdout",
     "output_type": "stream",
     "text": [
      "Done  71.846 %, average grains/point   2.02, 0.002 /s/point, total 129.9 /s\r"
     ]
    },
    {
     "name": "stdout",
     "output_type": "stream",
     "text": [
      "Done  71.893 %, average grains/point   2.02, 0.002 /s/point, total 130.0 /s\r"
     ]
    },
    {
     "name": "stdout",
     "output_type": "stream",
     "text": [
      "Done  71.941 %, average grains/point   2.02, 0.002 /s/point, total 130.1 /s\r"
     ]
    },
    {
     "name": "stdout",
     "output_type": "stream",
     "text": [
      "Done  71.988 %, average grains/point   2.02, 0.002 /s/point, total 130.2 /s\r"
     ]
    },
    {
     "name": "stdout",
     "output_type": "stream",
     "text": [
      "Done  72.035 %, average grains/point   2.02, 0.002 /s/point, total 130.2 /s\r"
     ]
    },
    {
     "name": "stdout",
     "output_type": "stream",
     "text": [
      "Done  72.082 %, average grains/point   2.02, 0.002 /s/point, total 130.3 /s\r"
     ]
    },
    {
     "name": "stdout",
     "output_type": "stream",
     "text": [
      "Done  72.130 %, average grains/point   2.02, 0.002 /s/point, total 130.4 /s\r"
     ]
    },
    {
     "name": "stdout",
     "output_type": "stream",
     "text": [
      "Done  72.177 %, average grains/point   2.02, 0.002 /s/point, total 130.4 /s\r"
     ]
    },
    {
     "name": "stdout",
     "output_type": "stream",
     "text": [
      "Done  72.224 %, average grains/point   2.02, 0.002 /s/point, total 130.5 /s\r"
     ]
    },
    {
     "name": "stdout",
     "output_type": "stream",
     "text": [
      "Done  72.271 %, average grains/point   2.02, 0.002 /s/point, total 130.6 /s\r"
     ]
    },
    {
     "name": "stdout",
     "output_type": "stream",
     "text": [
      "Done  72.318 %, average grains/point   2.02, 0.002 /s/point, total 130.6 /s\r"
     ]
    },
    {
     "name": "stdout",
     "output_type": "stream",
     "text": [
      "Done  72.366 %, average grains/point   2.02, 0.002 /s/point, total 130.7 /s\r"
     ]
    },
    {
     "name": "stdout",
     "output_type": "stream",
     "text": [
      "Done  72.413 %, average grains/point   2.02, 0.002 /s/point, total 130.8 /s\r"
     ]
    },
    {
     "name": "stdout",
     "output_type": "stream",
     "text": [
      "Done  72.460 %, average grains/point   2.02, 0.002 /s/point, total 130.9 /s\r"
     ]
    },
    {
     "name": "stdout",
     "output_type": "stream",
     "text": [
      "Done  72.507 %, average grains/point   2.02, 0.002 /s/point, total 130.9 /s\r"
     ]
    },
    {
     "name": "stdout",
     "output_type": "stream",
     "text": [
      "Done  72.555 %, average grains/point   2.02, 0.002 /s/point, total 131.0 /s\r"
     ]
    },
    {
     "name": "stdout",
     "output_type": "stream",
     "text": [
      "Done  72.602 %, average grains/point   2.02, 0.002 /s/point, total 131.1 /s\r"
     ]
    },
    {
     "name": "stdout",
     "output_type": "stream",
     "text": [
      "Done  72.649 %, average grains/point   2.02, 0.002 /s/point, total 131.2 /s\r"
     ]
    },
    {
     "name": "stdout",
     "output_type": "stream",
     "text": [
      "Done  72.696 %, average grains/point   2.02, 0.002 /s/point, total 131.2 /s\r"
     ]
    },
    {
     "name": "stdout",
     "output_type": "stream",
     "text": [
      "Done  72.744 %, average grains/point   2.02, 0.002 /s/point, total 131.3 /s\r"
     ]
    },
    {
     "name": "stdout",
     "output_type": "stream",
     "text": [
      "Done  72.791 %, average grains/point   2.02, 0.002 /s/point, total 131.4 /s\r"
     ]
    },
    {
     "name": "stdout",
     "output_type": "stream",
     "text": [
      "Done  72.838 %, average grains/point   2.02, 0.002 /s/point, total 131.4 /s\r"
     ]
    },
    {
     "name": "stdout",
     "output_type": "stream",
     "text": [
      "Done  72.885 %, average grains/point   2.02, 0.002 /s/point, total 131.5 /s\r"
     ]
    },
    {
     "name": "stdout",
     "output_type": "stream",
     "text": [
      "Done  72.933 %, average grains/point   2.02, 0.002 /s/point, total 131.6 /s\r"
     ]
    },
    {
     "name": "stdout",
     "output_type": "stream",
     "text": [
      "Done  72.980 %, average grains/point   2.02, 0.002 /s/point, total 131.7 /s\r"
     ]
    },
    {
     "name": "stdout",
     "output_type": "stream",
     "text": [
      "Done  73.027 %, average grains/point   2.02, 0.002 /s/point, total 131.7 /s\r"
     ]
    },
    {
     "name": "stdout",
     "output_type": "stream",
     "text": [
      "Done  73.074 %, average grains/point   2.02, 0.002 /s/point, total 131.8 /s\r"
     ]
    },
    {
     "name": "stdout",
     "output_type": "stream",
     "text": [
      "Done  73.121 %, average grains/point   2.01, 0.002 /s/point, total 131.9 /s\r"
     ]
    },
    {
     "name": "stdout",
     "output_type": "stream",
     "text": [
      "Done  73.169 %, average grains/point   2.01, 0.002 /s/point, total 131.9 /s\r"
     ]
    },
    {
     "name": "stdout",
     "output_type": "stream",
     "text": [
      "Done  73.216 %, average grains/point   2.01, 0.002 /s/point, total 132.0 /s\r"
     ]
    },
    {
     "name": "stdout",
     "output_type": "stream",
     "text": [
      "Done  73.263 %, average grains/point   2.01, 0.002 /s/point, total 132.1 /s\r"
     ]
    },
    {
     "name": "stdout",
     "output_type": "stream",
     "text": [
      "Done  73.310 %, average grains/point   2.01, 0.002 /s/point, total 132.2 /s\r"
     ]
    },
    {
     "name": "stdout",
     "output_type": "stream",
     "text": [
      "Done  73.358 %, average grains/point   2.02, 0.002 /s/point, total 132.2 /s\r"
     ]
    },
    {
     "name": "stdout",
     "output_type": "stream",
     "text": [
      "Done  73.405 %, average grains/point   2.01, 0.002 /s/point, total 132.3 /s\r"
     ]
    },
    {
     "name": "stdout",
     "output_type": "stream",
     "text": [
      "Done  73.452 %, average grains/point   2.02, 0.002 /s/point, total 132.4 /s\r"
     ]
    },
    {
     "name": "stdout",
     "output_type": "stream",
     "text": [
      "Done  73.499 %, average grains/point   2.02, 0.002 /s/point, total 132.4 /s\r"
     ]
    },
    {
     "name": "stdout",
     "output_type": "stream",
     "text": [
      "Done  73.547 %, average grains/point   2.01, 0.002 /s/point, total 132.5 /s\r"
     ]
    },
    {
     "name": "stdout",
     "output_type": "stream",
     "text": [
      "Done  73.594 %, average grains/point   2.01, 0.002 /s/point, total 132.6 /s\r"
     ]
    },
    {
     "name": "stdout",
     "output_type": "stream",
     "text": [
      "Done  73.641 %, average grains/point   2.02, 0.002 /s/point, total 132.7 /s\r"
     ]
    },
    {
     "name": "stdout",
     "output_type": "stream",
     "text": [
      "Done  73.688 %, average grains/point   2.02, 0.002 /s/point, total 132.7 /s\r"
     ]
    },
    {
     "name": "stdout",
     "output_type": "stream",
     "text": [
      "Done  73.736 %, average grains/point   2.02, 0.002 /s/point, total 132.8 /s\r"
     ]
    },
    {
     "name": "stdout",
     "output_type": "stream",
     "text": [
      "Done  73.783 %, average grains/point   2.02, 0.002 /s/point, total 132.9 /s\r"
     ]
    },
    {
     "name": "stdout",
     "output_type": "stream",
     "text": [
      "Done  73.830 %, average grains/point   2.02, 0.002 /s/point, total 132.9 /s\r"
     ]
    },
    {
     "name": "stdout",
     "output_type": "stream",
     "text": [
      "Done  73.877 %, average grains/point   2.02, 0.002 /s/point, total 133.0 /s\r"
     ]
    },
    {
     "name": "stdout",
     "output_type": "stream",
     "text": [
      "Done  73.924 %, average grains/point   2.02, 0.002 /s/point, total 133.1 /s\r"
     ]
    },
    {
     "name": "stdout",
     "output_type": "stream",
     "text": [
      "Done  73.972 %, average grains/point   2.02, 0.002 /s/point, total 133.2 /s\r"
     ]
    },
    {
     "name": "stdout",
     "output_type": "stream",
     "text": [
      "Done  74.019 %, average grains/point   2.02, 0.002 /s/point, total 133.2 /s\r"
     ]
    },
    {
     "name": "stdout",
     "output_type": "stream",
     "text": [
      "Done  74.066 %, average grains/point   2.02, 0.002 /s/point, total 133.3 /s\r"
     ]
    },
    {
     "name": "stdout",
     "output_type": "stream",
     "text": [
      "Done  74.113 %, average grains/point   2.02, 0.002 /s/point, total 133.4 /s\r"
     ]
    },
    {
     "name": "stdout",
     "output_type": "stream",
     "text": [
      "Done  74.161 %, average grains/point   2.02, 0.002 /s/point, total 133.5 /s\r"
     ]
    },
    {
     "name": "stdout",
     "output_type": "stream",
     "text": [
      "Done  74.208 %, average grains/point   2.02, 0.002 /s/point, total 133.5 /s\r"
     ]
    },
    {
     "name": "stdout",
     "output_type": "stream",
     "text": [
      "Done  74.255 %, average grains/point   2.02, 0.002 /s/point, total 133.6 /s\r"
     ]
    },
    {
     "name": "stdout",
     "output_type": "stream",
     "text": [
      "Done  74.302 %, average grains/point   2.01, 0.002 /s/point, total 133.7 /s\r"
     ]
    },
    {
     "name": "stdout",
     "output_type": "stream",
     "text": [
      "Done  74.350 %, average grains/point   2.01, 0.002 /s/point, total 133.7 /s\r"
     ]
    },
    {
     "name": "stdout",
     "output_type": "stream",
     "text": [
      "Done  74.397 %, average grains/point   2.01, 0.002 /s/point, total 133.8 /s\r"
     ]
    },
    {
     "name": "stdout",
     "output_type": "stream",
     "text": [
      "Done  74.444 %, average grains/point   2.02, 0.002 /s/point, total 133.9 /s\r"
     ]
    },
    {
     "name": "stdout",
     "output_type": "stream",
     "text": [
      "Done  74.491 %, average grains/point   2.02, 0.002 /s/point, total 133.9 /s\r"
     ]
    },
    {
     "name": "stdout",
     "output_type": "stream",
     "text": [
      "Done  74.539 %, average grains/point   2.01, 0.002 /s/point, total 134.0 /s\r"
     ]
    },
    {
     "name": "stdout",
     "output_type": "stream",
     "text": [
      "Done  74.586 %, average grains/point   2.01, 0.002 /s/point, total 134.1 /s\r"
     ]
    },
    {
     "name": "stdout",
     "output_type": "stream",
     "text": [
      "Done  74.633 %, average grains/point   2.01, 0.002 /s/point, total 134.2 /s\r"
     ]
    },
    {
     "name": "stdout",
     "output_type": "stream",
     "text": [
      "Done  74.680 %, average grains/point   2.01, 0.002 /s/point, total 134.2 /s\r"
     ]
    },
    {
     "name": "stdout",
     "output_type": "stream",
     "text": [
      "Done  74.728 %, average grains/point   2.01, 0.002 /s/point, total 134.3 /s\r"
     ]
    },
    {
     "name": "stdout",
     "output_type": "stream",
     "text": [
      "Done  74.775 %, average grains/point   2.01, 0.002 /s/point, total 134.4 /s\r"
     ]
    },
    {
     "name": "stdout",
     "output_type": "stream",
     "text": [
      "Done  74.822 %, average grains/point   2.02, 0.002 /s/point, total 134.4 /s\r"
     ]
    },
    {
     "name": "stdout",
     "output_type": "stream",
     "text": [
      "Done  74.869 %, average grains/point   2.02, 0.002 /s/point, total 134.5 /s\r"
     ]
    },
    {
     "name": "stdout",
     "output_type": "stream",
     "text": [
      "Done  74.916 %, average grains/point   2.01, 0.002 /s/point, total 134.6 /s\r"
     ]
    },
    {
     "name": "stdout",
     "output_type": "stream",
     "text": [
      "Done  74.964 %, average grains/point   2.01, 0.002 /s/point, total 134.7 /s\r"
     ]
    },
    {
     "name": "stdout",
     "output_type": "stream",
     "text": [
      "Done  75.011 %, average grains/point   2.01, 0.002 /s/point, total 134.7 /s\r"
     ]
    },
    {
     "name": "stdout",
     "output_type": "stream",
     "text": [
      "Done  75.058 %, average grains/point   2.01, 0.002 /s/point, total 134.8 /s\r"
     ]
    },
    {
     "name": "stdout",
     "output_type": "stream",
     "text": [
      "Done  75.105 %, average grains/point   2.01, 0.002 /s/point, total 134.9 /s\r"
     ]
    },
    {
     "name": "stdout",
     "output_type": "stream",
     "text": [
      "Done  75.153 %, average grains/point   2.01, 0.002 /s/point, total 134.9 /s\r"
     ]
    },
    {
     "name": "stdout",
     "output_type": "stream",
     "text": [
      "Done  75.200 %, average grains/point   2.01, 0.002 /s/point, total 135.0 /s\r"
     ]
    },
    {
     "name": "stdout",
     "output_type": "stream",
     "text": [
      "Done  75.247 %, average grains/point   2.01, 0.002 /s/point, total 135.1 /s\r"
     ]
    },
    {
     "name": "stdout",
     "output_type": "stream",
     "text": [
      "Done  75.294 %, average grains/point   2.01, 0.002 /s/point, total 135.2 /s\r"
     ]
    },
    {
     "name": "stdout",
     "output_type": "stream",
     "text": [
      "Done  75.342 %, average grains/point   2.01, 0.002 /s/point, total 135.2 /s\r"
     ]
    },
    {
     "name": "stdout",
     "output_type": "stream",
     "text": [
      "Done  75.389 %, average grains/point   2.01, 0.002 /s/point, total 135.3 /s\r"
     ]
    },
    {
     "name": "stdout",
     "output_type": "stream",
     "text": [
      "Done  75.436 %, average grains/point   2.01, 0.002 /s/point, total 135.4 /s\r"
     ]
    },
    {
     "name": "stdout",
     "output_type": "stream",
     "text": [
      "Done  75.483 %, average grains/point   2.01, 0.002 /s/point, total 135.4 /s\r"
     ]
    },
    {
     "name": "stdout",
     "output_type": "stream",
     "text": [
      "Done  75.531 %, average grains/point   2.01, 0.002 /s/point, total 135.5 /s\r"
     ]
    },
    {
     "name": "stdout",
     "output_type": "stream",
     "text": [
      "Done  75.578 %, average grains/point   2.01, 0.002 /s/point, total 135.6 /s\r"
     ]
    },
    {
     "name": "stdout",
     "output_type": "stream",
     "text": [
      "Done  75.625 %, average grains/point   2.01, 0.002 /s/point, total 135.6 /s\r"
     ]
    },
    {
     "name": "stdout",
     "output_type": "stream",
     "text": [
      "Done  75.672 %, average grains/point   2.01, 0.002 /s/point, total 135.7 /s\r"
     ]
    },
    {
     "name": "stdout",
     "output_type": "stream",
     "text": [
      "Done  75.719 %, average grains/point   2.01, 0.002 /s/point, total 135.8 /s\r"
     ]
    },
    {
     "name": "stdout",
     "output_type": "stream",
     "text": [
      "Done  75.767 %, average grains/point   2.01, 0.002 /s/point, total 135.8 /s\r"
     ]
    },
    {
     "name": "stdout",
     "output_type": "stream",
     "text": [
      "Done  75.814 %, average grains/point   2.01, 0.002 /s/point, total 135.9 /s\r"
     ]
    },
    {
     "name": "stdout",
     "output_type": "stream",
     "text": [
      "Done  75.861 %, average grains/point   2.01, 0.002 /s/point, total 136.0 /s\r"
     ]
    },
    {
     "name": "stdout",
     "output_type": "stream",
     "text": [
      "Done  75.908 %, average grains/point   2.01, 0.002 /s/point, total 136.1 /s\r"
     ]
    },
    {
     "name": "stdout",
     "output_type": "stream",
     "text": [
      "Done  75.956 %, average grains/point   2.01, 0.002 /s/point, total 136.1 /s\r"
     ]
    },
    {
     "name": "stdout",
     "output_type": "stream",
     "text": [
      "Done  76.003 %, average grains/point   2.01, 0.002 /s/point, total 136.2 /s\r"
     ]
    },
    {
     "name": "stdout",
     "output_type": "stream",
     "text": [
      "Done  76.050 %, average grains/point   2.01, 0.002 /s/point, total 136.3 /s\r"
     ]
    },
    {
     "name": "stdout",
     "output_type": "stream",
     "text": [
      "Done  76.097 %, average grains/point   2.01, 0.002 /s/point, total 136.3 /s\r"
     ]
    },
    {
     "name": "stdout",
     "output_type": "stream",
     "text": [
      "Done  76.145 %, average grains/point   2.01, 0.002 /s/point, total 136.4 /s\r"
     ]
    },
    {
     "name": "stdout",
     "output_type": "stream",
     "text": [
      "Done  76.192 %, average grains/point   2.01, 0.002 /s/point, total 136.5 /s\r"
     ]
    },
    {
     "name": "stdout",
     "output_type": "stream",
     "text": [
      "Done  76.239 %, average grains/point   2.01, 0.002 /s/point, total 136.6 /s\r"
     ]
    },
    {
     "name": "stdout",
     "output_type": "stream",
     "text": [
      "Done  76.286 %, average grains/point   2.01, 0.002 /s/point, total 136.6 /s\r"
     ]
    },
    {
     "name": "stdout",
     "output_type": "stream",
     "text": [
      "Done  76.334 %, average grains/point   2.01, 0.002 /s/point, total 136.7 /s\r"
     ]
    },
    {
     "name": "stdout",
     "output_type": "stream",
     "text": [
      "Done  76.381 %, average grains/point   2.01, 0.002 /s/point, total 136.8 /s\r"
     ]
    },
    {
     "name": "stdout",
     "output_type": "stream",
     "text": [
      "Done  76.428 %, average grains/point   2.01, 0.002 /s/point, total 136.9 /s\r"
     ]
    },
    {
     "name": "stdout",
     "output_type": "stream",
     "text": [
      "Done  76.475 %, average grains/point   2.01, 0.002 /s/point, total 136.9 /s\r"
     ]
    },
    {
     "name": "stdout",
     "output_type": "stream",
     "text": [
      "Done  76.522 %, average grains/point   2.01, 0.002 /s/point, total 137.0 /s\r"
     ]
    },
    {
     "name": "stdout",
     "output_type": "stream",
     "text": [
      "Done  76.570 %, average grains/point   2.01, 0.002 /s/point, total 137.1 /s\r"
     ]
    },
    {
     "name": "stdout",
     "output_type": "stream",
     "text": [
      "Done  76.617 %, average grains/point   2.01, 0.002 /s/point, total 137.1 /s\r"
     ]
    },
    {
     "name": "stdout",
     "output_type": "stream",
     "text": [
      "Done  76.664 %, average grains/point   2.01, 0.002 /s/point, total 137.2 /s\r"
     ]
    },
    {
     "name": "stdout",
     "output_type": "stream",
     "text": [
      "Done  76.711 %, average grains/point   2.01, 0.002 /s/point, total 137.3 /s\r"
     ]
    },
    {
     "name": "stdout",
     "output_type": "stream",
     "text": [
      "Done  76.759 %, average grains/point   2.01, 0.002 /s/point, total 137.3 /s\r"
     ]
    },
    {
     "name": "stdout",
     "output_type": "stream",
     "text": [
      "Done  76.806 %, average grains/point   2.01, 0.002 /s/point, total 137.4 /s\r"
     ]
    },
    {
     "name": "stdout",
     "output_type": "stream",
     "text": [
      "Done  76.853 %, average grains/point   2.01, 0.002 /s/point, total 137.5 /s\r"
     ]
    },
    {
     "name": "stdout",
     "output_type": "stream",
     "text": [
      "Done  76.900 %, average grains/point   2.01, 0.002 /s/point, total 137.5 /s\r"
     ]
    },
    {
     "name": "stdout",
     "output_type": "stream",
     "text": [
      "Done  76.948 %, average grains/point   2.01, 0.002 /s/point, total 137.6 /s\r"
     ]
    },
    {
     "name": "stdout",
     "output_type": "stream",
     "text": [
      "Done  76.995 %, average grains/point   2.01, 0.002 /s/point, total 137.7 /s\r"
     ]
    },
    {
     "name": "stdout",
     "output_type": "stream",
     "text": [
      "Done  77.042 %, average grains/point   2.01, 0.002 /s/point, total 137.7 /s\r"
     ]
    },
    {
     "name": "stdout",
     "output_type": "stream",
     "text": [
      "Done  77.089 %, average grains/point   2.01, 0.002 /s/point, total 137.8 /s\r"
     ]
    },
    {
     "name": "stdout",
     "output_type": "stream",
     "text": [
      "Done  77.137 %, average grains/point   2.01, 0.002 /s/point, total 137.9 /s\r"
     ]
    },
    {
     "name": "stdout",
     "output_type": "stream",
     "text": [
      "Done  77.184 %, average grains/point   2.01, 0.002 /s/point, total 138.0 /s\r"
     ]
    },
    {
     "name": "stdout",
     "output_type": "stream",
     "text": [
      "Done  77.231 %, average grains/point   2.01, 0.002 /s/point, total 138.0 /s\r"
     ]
    },
    {
     "name": "stdout",
     "output_type": "stream",
     "text": [
      "Done  77.278 %, average grains/point   2.01, 0.002 /s/point, total 138.1 /s\r"
     ]
    },
    {
     "name": "stdout",
     "output_type": "stream",
     "text": [
      "Done  77.325 %, average grains/point   2.01, 0.002 /s/point, total 138.1 /s\r"
     ]
    },
    {
     "name": "stdout",
     "output_type": "stream",
     "text": [
      "Done  77.373 %, average grains/point   2.01, 0.002 /s/point, total 138.2 /s\r"
     ]
    },
    {
     "name": "stdout",
     "output_type": "stream",
     "text": [
      "Done  77.420 %, average grains/point   2.01, 0.002 /s/point, total 138.3 /s\r"
     ]
    },
    {
     "name": "stdout",
     "output_type": "stream",
     "text": [
      "Done  77.467 %, average grains/point   2.01, 0.002 /s/point, total 138.4 /s\r"
     ]
    },
    {
     "name": "stdout",
     "output_type": "stream",
     "text": [
      "Done  77.514 %, average grains/point   2.01, 0.002 /s/point, total 138.4 /s\r"
     ]
    },
    {
     "name": "stdout",
     "output_type": "stream",
     "text": [
      "Done  77.562 %, average grains/point   2.01, 0.002 /s/point, total 138.5 /s\r"
     ]
    },
    {
     "name": "stdout",
     "output_type": "stream",
     "text": [
      "Done  77.609 %, average grains/point   2.01, 0.002 /s/point, total 138.6 /s\r"
     ]
    },
    {
     "name": "stdout",
     "output_type": "stream",
     "text": [
      "Done  77.656 %, average grains/point   2.01, 0.002 /s/point, total 138.6 /s\r"
     ]
    },
    {
     "name": "stdout",
     "output_type": "stream",
     "text": [
      "Done  77.703 %, average grains/point   2.01, 0.002 /s/point, total 138.7 /s\r"
     ]
    },
    {
     "name": "stdout",
     "output_type": "stream",
     "text": [
      "Done  77.751 %, average grains/point   2.01, 0.002 /s/point, total 138.8 /s\r"
     ]
    },
    {
     "name": "stdout",
     "output_type": "stream",
     "text": [
      "Done  77.798 %, average grains/point   2.01, 0.002 /s/point, total 138.8 /s\r"
     ]
    },
    {
     "name": "stdout",
     "output_type": "stream",
     "text": [
      "Done  77.845 %, average grains/point   2.01, 0.002 /s/point, total 138.9 /s\r"
     ]
    },
    {
     "name": "stdout",
     "output_type": "stream",
     "text": [
      "Done  77.892 %, average grains/point   2.01, 0.002 /s/point, total 139.0 /s\r"
     ]
    },
    {
     "name": "stdout",
     "output_type": "stream",
     "text": [
      "Done  77.940 %, average grains/point   2.01, 0.002 /s/point, total 139.1 /s\r"
     ]
    },
    {
     "name": "stdout",
     "output_type": "stream",
     "text": [
      "Done  77.987 %, average grains/point   2.01, 0.002 /s/point, total 139.1 /s\r"
     ]
    },
    {
     "name": "stdout",
     "output_type": "stream",
     "text": [
      "Done  78.034 %, average grains/point   2.01, 0.002 /s/point, total 139.2 /s\r"
     ]
    },
    {
     "name": "stdout",
     "output_type": "stream",
     "text": [
      "Done  78.081 %, average grains/point   2.01, 0.002 /s/point, total 139.3 /s\r"
     ]
    },
    {
     "name": "stdout",
     "output_type": "stream",
     "text": [
      "Done  78.129 %, average grains/point   2.01, 0.002 /s/point, total 139.3 /s\r"
     ]
    },
    {
     "name": "stdout",
     "output_type": "stream",
     "text": [
      "Done  78.176 %, average grains/point   2.01, 0.002 /s/point, total 139.4 /s\r"
     ]
    },
    {
     "name": "stdout",
     "output_type": "stream",
     "text": [
      "Done  78.223 %, average grains/point   2.01, 0.002 /s/point, total 139.5 /s\r"
     ]
    },
    {
     "name": "stdout",
     "output_type": "stream",
     "text": [
      "Done  78.270 %, average grains/point   2.01, 0.002 /s/point, total 139.6 /s\r"
     ]
    },
    {
     "name": "stdout",
     "output_type": "stream",
     "text": [
      "Done  78.317 %, average grains/point   2.01, 0.002 /s/point, total 139.6 /s\r"
     ]
    },
    {
     "name": "stdout",
     "output_type": "stream",
     "text": [
      "Done  78.365 %, average grains/point   2.01, 0.002 /s/point, total 139.7 /s\r"
     ]
    },
    {
     "name": "stdout",
     "output_type": "stream",
     "text": [
      "Done  78.412 %, average grains/point   2.01, 0.002 /s/point, total 139.8 /s\r"
     ]
    },
    {
     "name": "stdout",
     "output_type": "stream",
     "text": [
      "Done  78.459 %, average grains/point   2.01, 0.002 /s/point, total 139.8 /s\r"
     ]
    },
    {
     "name": "stdout",
     "output_type": "stream",
     "text": [
      "Done  78.506 %, average grains/point   2.01, 0.002 /s/point, total 139.9 /s\r"
     ]
    },
    {
     "name": "stdout",
     "output_type": "stream",
     "text": [
      "Done  78.554 %, average grains/point   2.01, 0.002 /s/point, total 140.0 /s\r"
     ]
    },
    {
     "name": "stdout",
     "output_type": "stream",
     "text": [
      "Done  78.601 %, average grains/point   2.01, 0.002 /s/point, total 140.1 /s\r"
     ]
    },
    {
     "name": "stdout",
     "output_type": "stream",
     "text": [
      "Done  78.648 %, average grains/point   2.01, 0.002 /s/point, total 140.1 /s\r"
     ]
    },
    {
     "name": "stdout",
     "output_type": "stream",
     "text": [
      "Done  78.695 %, average grains/point   2.01, 0.002 /s/point, total 140.2 /s\r"
     ]
    },
    {
     "name": "stdout",
     "output_type": "stream",
     "text": [
      "Done  78.743 %, average grains/point   2.01, 0.002 /s/point, total 140.3 /s\r"
     ]
    },
    {
     "name": "stdout",
     "output_type": "stream",
     "text": [
      "Done  78.790 %, average grains/point   2.01, 0.002 /s/point, total 140.3 /s\r"
     ]
    },
    {
     "name": "stdout",
     "output_type": "stream",
     "text": [
      "Done  78.837 %, average grains/point   2.01, 0.002 /s/point, total 140.4 /s\r"
     ]
    },
    {
     "name": "stdout",
     "output_type": "stream",
     "text": [
      "Done  78.884 %, average grains/point   2.01, 0.002 /s/point, total 140.5 /s\r"
     ]
    },
    {
     "name": "stdout",
     "output_type": "stream",
     "text": [
      "Done  78.932 %, average grains/point   2.01, 0.002 /s/point, total 140.5 /s\r"
     ]
    },
    {
     "name": "stdout",
     "output_type": "stream",
     "text": [
      "Done  78.979 %, average grains/point   2.01, 0.002 /s/point, total 140.6 /s\r"
     ]
    },
    {
     "name": "stdout",
     "output_type": "stream",
     "text": [
      "Done  79.026 %, average grains/point   2.01, 0.002 /s/point, total 140.7 /s\r"
     ]
    },
    {
     "name": "stdout",
     "output_type": "stream",
     "text": [
      "Done  79.073 %, average grains/point   2.01, 0.002 /s/point, total 140.8 /s\r"
     ]
    },
    {
     "name": "stdout",
     "output_type": "stream",
     "text": [
      "Done  79.120 %, average grains/point   2.01, 0.002 /s/point, total 140.8 /s\r"
     ]
    },
    {
     "name": "stdout",
     "output_type": "stream",
     "text": [
      "Done  79.168 %, average grains/point   2.01, 0.002 /s/point, total 140.9 /s\r"
     ]
    },
    {
     "name": "stdout",
     "output_type": "stream",
     "text": [
      "Done  79.215 %, average grains/point   2.01, 0.002 /s/point, total 141.0 /s\r"
     ]
    },
    {
     "name": "stdout",
     "output_type": "stream",
     "text": [
      "Done  79.262 %, average grains/point   2.01, 0.002 /s/point, total 141.0 /s\r"
     ]
    },
    {
     "name": "stdout",
     "output_type": "stream",
     "text": [
      "Done  79.309 %, average grains/point   2.01, 0.002 /s/point, total 141.1 /s\r"
     ]
    },
    {
     "name": "stdout",
     "output_type": "stream",
     "text": [
      "Done  79.357 %, average grains/point   2.01, 0.002 /s/point, total 141.2 /s\r"
     ]
    },
    {
     "name": "stdout",
     "output_type": "stream",
     "text": [
      "Done  79.404 %, average grains/point   2.01, 0.002 /s/point, total 141.2 /s\r"
     ]
    },
    {
     "name": "stdout",
     "output_type": "stream",
     "text": [
      "Done  79.451 %, average grains/point   2.01, 0.002 /s/point, total 141.3 /s\r"
     ]
    },
    {
     "name": "stdout",
     "output_type": "stream",
     "text": [
      "Done  79.498 %, average grains/point   2.01, 0.002 /s/point, total 141.4 /s\r"
     ]
    },
    {
     "name": "stdout",
     "output_type": "stream",
     "text": [
      "Done  79.546 %, average grains/point   2.01, 0.002 /s/point, total 141.5 /s\r"
     ]
    },
    {
     "name": "stdout",
     "output_type": "stream",
     "text": [
      "Done  79.593 %, average grains/point   2.01, 0.002 /s/point, total 141.5 /s\r"
     ]
    },
    {
     "name": "stdout",
     "output_type": "stream",
     "text": [
      "Done  79.640 %, average grains/point   2.01, 0.002 /s/point, total 141.6 /s\r"
     ]
    },
    {
     "name": "stdout",
     "output_type": "stream",
     "text": [
      "Done  79.687 %, average grains/point   2.01, 0.002 /s/point, total 141.7 /s\r"
     ]
    },
    {
     "name": "stdout",
     "output_type": "stream",
     "text": [
      "Done  79.735 %, average grains/point   2.01, 0.002 /s/point, total 141.7 /s\r"
     ]
    },
    {
     "name": "stdout",
     "output_type": "stream",
     "text": [
      "Done  79.782 %, average grains/point   2.01, 0.002 /s/point, total 141.8 /s\r"
     ]
    },
    {
     "name": "stdout",
     "output_type": "stream",
     "text": [
      "Done  79.829 %, average grains/point   2.01, 0.002 /s/point, total 141.9 /s\r"
     ]
    },
    {
     "name": "stdout",
     "output_type": "stream",
     "text": [
      "Done  79.876 %, average grains/point   2.01, 0.002 /s/point, total 141.9 /s\r"
     ]
    },
    {
     "name": "stdout",
     "output_type": "stream",
     "text": [
      "Done  79.923 %, average grains/point   2.01, 0.002 /s/point, total 142.0 /s\r"
     ]
    },
    {
     "name": "stdout",
     "output_type": "stream",
     "text": [
      "Done  79.971 %, average grains/point   2.01, 0.002 /s/point, total 142.1 /s\r"
     ]
    },
    {
     "name": "stdout",
     "output_type": "stream",
     "text": [
      "Done  80.018 %, average grains/point   2.01, 0.002 /s/point, total 142.1 /s\r"
     ]
    },
    {
     "name": "stdout",
     "output_type": "stream",
     "text": [
      "Done  80.065 %, average grains/point   2.01, 0.002 /s/point, total 142.2 /s\r"
     ]
    },
    {
     "name": "stdout",
     "output_type": "stream",
     "text": [
      "Done  80.112 %, average grains/point   2.01, 0.002 /s/point, total 142.3 /s\r"
     ]
    },
    {
     "name": "stdout",
     "output_type": "stream",
     "text": [
      "Done  80.160 %, average grains/point   2.01, 0.002 /s/point, total 142.4 /s\r"
     ]
    },
    {
     "name": "stdout",
     "output_type": "stream",
     "text": [
      "Done  80.207 %, average grains/point   2.01, 0.002 /s/point, total 142.4 /s\r"
     ]
    },
    {
     "name": "stdout",
     "output_type": "stream",
     "text": [
      "Done  80.254 %, average grains/point   2.01, 0.002 /s/point, total 142.5 /s\r"
     ]
    },
    {
     "name": "stdout",
     "output_type": "stream",
     "text": [
      "Done  80.301 %, average grains/point   2.01, 0.002 /s/point, total 142.6 /s\r"
     ]
    },
    {
     "name": "stdout",
     "output_type": "stream",
     "text": [
      "Done  80.349 %, average grains/point   2.01, 0.002 /s/point, total 142.6 /s\r"
     ]
    },
    {
     "name": "stdout",
     "output_type": "stream",
     "text": [
      "Done  80.396 %, average grains/point   2.01, 0.002 /s/point, total 142.7 /s\r"
     ]
    },
    {
     "name": "stdout",
     "output_type": "stream",
     "text": [
      "Done  80.443 %, average grains/point   2.01, 0.002 /s/point, total 142.8 /s\r"
     ]
    },
    {
     "name": "stdout",
     "output_type": "stream",
     "text": [
      "Done  80.490 %, average grains/point   2.01, 0.002 /s/point, total 142.9 /s\r"
     ]
    },
    {
     "name": "stdout",
     "output_type": "stream",
     "text": [
      "Done  80.538 %, average grains/point   2.01, 0.002 /s/point, total 142.9 /s\r"
     ]
    },
    {
     "name": "stdout",
     "output_type": "stream",
     "text": [
      "Done  80.585 %, average grains/point   2.01, 0.002 /s/point, total 143.0 /s\r"
     ]
    },
    {
     "name": "stdout",
     "output_type": "stream",
     "text": [
      "Done  80.632 %, average grains/point   2.01, 0.002 /s/point, total 143.1 /s\r"
     ]
    },
    {
     "name": "stdout",
     "output_type": "stream",
     "text": [
      "Done  80.679 %, average grains/point   2.01, 0.002 /s/point, total 143.2 /s\r"
     ]
    },
    {
     "name": "stdout",
     "output_type": "stream",
     "text": [
      "Done  80.726 %, average grains/point   2.01, 0.002 /s/point, total 143.2 /s\r"
     ]
    },
    {
     "name": "stdout",
     "output_type": "stream",
     "text": [
      "Done  80.774 %, average grains/point   2.01, 0.002 /s/point, total 143.3 /s\r"
     ]
    },
    {
     "name": "stdout",
     "output_type": "stream",
     "text": [
      "Done  80.821 %, average grains/point   2.01, 0.002 /s/point, total 143.4 /s\r"
     ]
    },
    {
     "name": "stdout",
     "output_type": "stream",
     "text": [
      "Done  80.868 %, average grains/point   2.01, 0.002 /s/point, total 143.4 /s\r"
     ]
    },
    {
     "name": "stdout",
     "output_type": "stream",
     "text": [
      "Done  80.915 %, average grains/point   2.01, 0.002 /s/point, total 143.5 /s\r"
     ]
    },
    {
     "name": "stdout",
     "output_type": "stream",
     "text": [
      "Done  80.963 %, average grains/point   2.01, 0.002 /s/point, total 143.6 /s\r"
     ]
    },
    {
     "name": "stdout",
     "output_type": "stream",
     "text": [
      "Done  81.010 %, average grains/point   2.01, 0.002 /s/point, total 143.7 /s\r"
     ]
    },
    {
     "name": "stdout",
     "output_type": "stream",
     "text": [
      "Done  81.057 %, average grains/point   2.01, 0.002 /s/point, total 143.7 /s\r"
     ]
    },
    {
     "name": "stdout",
     "output_type": "stream",
     "text": [
      "Done  81.104 %, average grains/point   2.01, 0.002 /s/point, total 143.8 /s\r"
     ]
    },
    {
     "name": "stdout",
     "output_type": "stream",
     "text": [
      "Done  81.152 %, average grains/point   2.01, 0.002 /s/point, total 143.9 /s\r"
     ]
    },
    {
     "name": "stdout",
     "output_type": "stream",
     "text": [
      "Done  81.199 %, average grains/point   2.01, 0.002 /s/point, total 143.9 /s\r"
     ]
    },
    {
     "name": "stdout",
     "output_type": "stream",
     "text": [
      "Done  81.246 %, average grains/point   2.01, 0.002 /s/point, total 144.0 /s\r"
     ]
    },
    {
     "name": "stdout",
     "output_type": "stream",
     "text": [
      "Done  81.293 %, average grains/point   2.01, 0.002 /s/point, total 144.1 /s\r"
     ]
    },
    {
     "name": "stdout",
     "output_type": "stream",
     "text": [
      "Done  81.341 %, average grains/point   2.01, 0.002 /s/point, total 144.1 /s\r"
     ]
    },
    {
     "name": "stdout",
     "output_type": "stream",
     "text": [
      "Done  81.388 %, average grains/point   2.01, 0.002 /s/point, total 144.2 /s\r"
     ]
    },
    {
     "name": "stdout",
     "output_type": "stream",
     "text": [
      "Done  81.435 %, average grains/point   2.01, 0.002 /s/point, total 144.3 /s\r"
     ]
    },
    {
     "name": "stdout",
     "output_type": "stream",
     "text": [
      "Done  81.482 %, average grains/point   2.01, 0.002 /s/point, total 144.4 /s\r"
     ]
    },
    {
     "name": "stdout",
     "output_type": "stream",
     "text": [
      "Done  81.530 %, average grains/point   2.01, 0.002 /s/point, total 144.4 /s\r"
     ]
    },
    {
     "name": "stdout",
     "output_type": "stream",
     "text": [
      "Done  81.577 %, average grains/point   2.01, 0.002 /s/point, total 144.5 /s\r"
     ]
    },
    {
     "name": "stdout",
     "output_type": "stream",
     "text": [
      "Done  81.624 %, average grains/point   2.01, 0.002 /s/point, total 144.6 /s\r"
     ]
    },
    {
     "name": "stdout",
     "output_type": "stream",
     "text": [
      "Done  81.671 %, average grains/point   2.01, 0.002 /s/point, total 144.7 /s\r"
     ]
    },
    {
     "name": "stdout",
     "output_type": "stream",
     "text": [
      "Done  81.718 %, average grains/point   2.01, 0.002 /s/point, total 144.7 /s\r"
     ]
    },
    {
     "name": "stdout",
     "output_type": "stream",
     "text": [
      "Done  81.766 %, average grains/point   2.01, 0.002 /s/point, total 144.8 /s\r"
     ]
    },
    {
     "name": "stdout",
     "output_type": "stream",
     "text": [
      "Done  81.813 %, average grains/point   2.01, 0.002 /s/point, total 144.9 /s\r"
     ]
    },
    {
     "name": "stdout",
     "output_type": "stream",
     "text": [
      "Done  81.860 %, average grains/point   2.01, 0.002 /s/point, total 144.9 /s\r"
     ]
    },
    {
     "name": "stdout",
     "output_type": "stream",
     "text": [
      "Done  81.907 %, average grains/point   2.01, 0.002 /s/point, total 145.0 /s\r"
     ]
    },
    {
     "name": "stdout",
     "output_type": "stream",
     "text": [
      "Done  81.955 %, average grains/point   2.01, 0.002 /s/point, total 145.1 /s\r"
     ]
    },
    {
     "name": "stdout",
     "output_type": "stream",
     "text": [
      "Done  82.002 %, average grains/point   2.01, 0.002 /s/point, total 145.2 /s\r"
     ]
    },
    {
     "name": "stdout",
     "output_type": "stream",
     "text": [
      "Done  82.049 %, average grains/point   2.01, 0.002 /s/point, total 145.2 /s\r"
     ]
    },
    {
     "name": "stdout",
     "output_type": "stream",
     "text": [
      "Done  82.096 %, average grains/point   2.01, 0.002 /s/point, total 145.3 /s\r"
     ]
    },
    {
     "name": "stdout",
     "output_type": "stream",
     "text": [
      "Done  82.144 %, average grains/point   2.01, 0.002 /s/point, total 145.3 /s\r"
     ]
    },
    {
     "name": "stdout",
     "output_type": "stream",
     "text": [
      "Done  82.191 %, average grains/point   2.01, 0.002 /s/point, total 145.4 /s\r"
     ]
    },
    {
     "name": "stdout",
     "output_type": "stream",
     "text": [
      "Done  82.238 %, average grains/point   2.01, 0.002 /s/point, total 145.5 /s\r"
     ]
    },
    {
     "name": "stdout",
     "output_type": "stream",
     "text": [
      "Done  82.285 %, average grains/point   2.01, 0.002 /s/point, total 145.6 /s\r"
     ]
    },
    {
     "name": "stdout",
     "output_type": "stream",
     "text": [
      "Done  82.333 %, average grains/point   2.01, 0.002 /s/point, total 145.6 /s\r"
     ]
    },
    {
     "name": "stdout",
     "output_type": "stream",
     "text": [
      "Done  82.380 %, average grains/point   2.01, 0.002 /s/point, total 145.7 /s\r"
     ]
    },
    {
     "name": "stdout",
     "output_type": "stream",
     "text": [
      "Done  82.427 %, average grains/point   2.01, 0.002 /s/point, total 145.8 /s\r"
     ]
    },
    {
     "name": "stdout",
     "output_type": "stream",
     "text": [
      "Done  82.474 %, average grains/point   2.01, 0.002 /s/point, total 145.9 /s\r"
     ]
    },
    {
     "name": "stdout",
     "output_type": "stream",
     "text": [
      "Done  82.521 %, average grains/point   2.01, 0.002 /s/point, total 145.9 /s\r"
     ]
    },
    {
     "name": "stdout",
     "output_type": "stream",
     "text": [
      "Done  82.569 %, average grains/point   2.01, 0.002 /s/point, total 146.0 /s\r"
     ]
    },
    {
     "name": "stdout",
     "output_type": "stream",
     "text": [
      "Done  82.616 %, average grains/point   2.01, 0.002 /s/point, total 146.1 /s\r"
     ]
    },
    {
     "name": "stdout",
     "output_type": "stream",
     "text": [
      "Done  82.663 %, average grains/point   2.01, 0.002 /s/point, total 146.1 /s\r"
     ]
    },
    {
     "name": "stdout",
     "output_type": "stream",
     "text": [
      "Done  82.710 %, average grains/point   2.01, 0.002 /s/point, total 146.2 /s\r"
     ]
    },
    {
     "name": "stdout",
     "output_type": "stream",
     "text": [
      "Done  82.758 %, average grains/point   2.01, 0.002 /s/point, total 146.3 /s\r"
     ]
    },
    {
     "name": "stdout",
     "output_type": "stream",
     "text": [
      "Done  82.805 %, average grains/point   2.01, 0.002 /s/point, total 146.3 /s\r"
     ]
    },
    {
     "name": "stdout",
     "output_type": "stream",
     "text": [
      "Done  82.852 %, average grains/point   2.01, 0.002 /s/point, total 146.4 /s\r"
     ]
    },
    {
     "name": "stdout",
     "output_type": "stream",
     "text": [
      "Done  82.899 %, average grains/point   2.01, 0.002 /s/point, total 146.5 /s\r"
     ]
    },
    {
     "name": "stdout",
     "output_type": "stream",
     "text": [
      "Done  82.947 %, average grains/point   2.01, 0.002 /s/point, total 146.6 /s\r"
     ]
    },
    {
     "name": "stdout",
     "output_type": "stream",
     "text": [
      "Done  82.994 %, average grains/point   2.01, 0.002 /s/point, total 146.6 /s\r"
     ]
    },
    {
     "name": "stdout",
     "output_type": "stream",
     "text": [
      "Done  83.041 %, average grains/point   2.01, 0.002 /s/point, total 146.7 /s\r"
     ]
    },
    {
     "name": "stdout",
     "output_type": "stream",
     "text": [
      "Done  83.088 %, average grains/point   2.01, 0.002 /s/point, total 146.8 /s\r"
     ]
    },
    {
     "name": "stdout",
     "output_type": "stream",
     "text": [
      "Done  83.136 %, average grains/point   2.01, 0.002 /s/point, total 146.8 /s\r"
     ]
    },
    {
     "name": "stdout",
     "output_type": "stream",
     "text": [
      "Done  83.183 %, average grains/point   2.01, 0.002 /s/point, total 146.9 /s\r"
     ]
    },
    {
     "name": "stdout",
     "output_type": "stream",
     "text": [
      "Done  83.230 %, average grains/point   2.01, 0.002 /s/point, total 147.0 /s\r"
     ]
    },
    {
     "name": "stdout",
     "output_type": "stream",
     "text": [
      "Done  83.277 %, average grains/point   2.01, 0.002 /s/point, total 147.1 /s\r"
     ]
    },
    {
     "name": "stdout",
     "output_type": "stream",
     "text": [
      "Done  83.324 %, average grains/point   2.01, 0.002 /s/point, total 147.1 /s\r"
     ]
    },
    {
     "name": "stdout",
     "output_type": "stream",
     "text": [
      "Done  83.372 %, average grains/point   2.01, 0.002 /s/point, total 147.2 /s\r"
     ]
    },
    {
     "name": "stdout",
     "output_type": "stream",
     "text": [
      "Done  83.419 %, average grains/point   2.01, 0.002 /s/point, total 147.3 /s\r"
     ]
    },
    {
     "name": "stdout",
     "output_type": "stream",
     "text": [
      "Done  83.466 %, average grains/point   2.01, 0.002 /s/point, total 147.3 /s\r"
     ]
    },
    {
     "name": "stdout",
     "output_type": "stream",
     "text": [
      "Done  83.513 %, average grains/point   2.01, 0.002 /s/point, total 147.4 /s\r"
     ]
    },
    {
     "name": "stdout",
     "output_type": "stream",
     "text": [
      "Done  83.561 %, average grains/point   2.01, 0.002 /s/point, total 147.5 /s\r"
     ]
    },
    {
     "name": "stdout",
     "output_type": "stream",
     "text": [
      "Done  83.608 %, average grains/point   2.01, 0.002 /s/point, total 147.5 /s\r"
     ]
    },
    {
     "name": "stdout",
     "output_type": "stream",
     "text": [
      "Done  83.655 %, average grains/point   2.01, 0.002 /s/point, total 147.6 /s\r"
     ]
    },
    {
     "name": "stdout",
     "output_type": "stream",
     "text": [
      "Done  83.702 %, average grains/point   2.01, 0.002 /s/point, total 147.7 /s\r"
     ]
    },
    {
     "name": "stdout",
     "output_type": "stream",
     "text": [
      "Done  83.750 %, average grains/point   2.01, 0.002 /s/point, total 147.8 /s\r"
     ]
    },
    {
     "name": "stdout",
     "output_type": "stream",
     "text": [
      "Done  83.797 %, average grains/point   2.01, 0.002 /s/point, total 147.8 /s\r"
     ]
    },
    {
     "name": "stdout",
     "output_type": "stream",
     "text": [
      "Done  83.844 %, average grains/point   2.01, 0.002 /s/point, total 147.9 /s\r"
     ]
    },
    {
     "name": "stdout",
     "output_type": "stream",
     "text": [
      "Done  83.891 %, average grains/point   2.01, 0.002 /s/point, total 148.0 /s\r"
     ]
    },
    {
     "name": "stdout",
     "output_type": "stream",
     "text": [
      "Done  83.939 %, average grains/point   2.01, 0.002 /s/point, total 148.0 /s\r"
     ]
    },
    {
     "name": "stdout",
     "output_type": "stream",
     "text": [
      "Done  83.986 %, average grains/point   2.01, 0.002 /s/point, total 148.1 /s\r"
     ]
    },
    {
     "name": "stdout",
     "output_type": "stream",
     "text": [
      "Done  84.033 %, average grains/point   2.01, 0.002 /s/point, total 148.2 /s\r"
     ]
    },
    {
     "name": "stdout",
     "output_type": "stream",
     "text": [
      "Done  84.080 %, average grains/point   2.01, 0.002 /s/point, total 148.2 /s\r"
     ]
    },
    {
     "name": "stdout",
     "output_type": "stream",
     "text": [
      "Done  84.127 %, average grains/point   2.01, 0.002 /s/point, total 148.3 /s\r"
     ]
    },
    {
     "name": "stdout",
     "output_type": "stream",
     "text": [
      "Done  84.175 %, average grains/point   2.01, 0.002 /s/point, total 148.4 /s\r"
     ]
    },
    {
     "name": "stdout",
     "output_type": "stream",
     "text": [
      "Done  84.222 %, average grains/point   2.01, 0.002 /s/point, total 148.5 /s\r"
     ]
    },
    {
     "name": "stdout",
     "output_type": "stream",
     "text": [
      "Done  84.269 %, average grains/point   2.01, 0.002 /s/point, total 148.5 /s\r"
     ]
    },
    {
     "name": "stdout",
     "output_type": "stream",
     "text": [
      "Done  84.316 %, average grains/point   2.01, 0.002 /s/point, total 148.6 /s\r"
     ]
    },
    {
     "name": "stdout",
     "output_type": "stream",
     "text": [
      "Done  84.364 %, average grains/point   2.01, 0.002 /s/point, total 148.7 /s\r"
     ]
    },
    {
     "name": "stdout",
     "output_type": "stream",
     "text": [
      "Done  84.411 %, average grains/point   2.01, 0.002 /s/point, total 148.7 /s\r"
     ]
    },
    {
     "name": "stdout",
     "output_type": "stream",
     "text": [
      "Done  84.458 %, average grains/point   2.01, 0.002 /s/point, total 148.8 /s\r"
     ]
    },
    {
     "name": "stdout",
     "output_type": "stream",
     "text": [
      "Done  84.505 %, average grains/point   2.01, 0.002 /s/point, total 148.9 /s\r"
     ]
    },
    {
     "name": "stdout",
     "output_type": "stream",
     "text": [
      "Done  84.553 %, average grains/point   2.01, 0.002 /s/point, total 148.9 /s\r"
     ]
    },
    {
     "name": "stdout",
     "output_type": "stream",
     "text": [
      "Done  84.600 %, average grains/point   2.01, 0.002 /s/point, total 149.0 /s\r"
     ]
    },
    {
     "name": "stdout",
     "output_type": "stream",
     "text": [
      "Done  84.647 %, average grains/point   2.01, 0.002 /s/point, total 149.1 /s\r"
     ]
    },
    {
     "name": "stdout",
     "output_type": "stream",
     "text": [
      "Done  84.694 %, average grains/point   2.01, 0.002 /s/point, total 149.1 /s\r"
     ]
    },
    {
     "name": "stdout",
     "output_type": "stream",
     "text": [
      "Done  84.742 %, average grains/point   2.01, 0.002 /s/point, total 149.2 /s\r"
     ]
    },
    {
     "name": "stdout",
     "output_type": "stream",
     "text": [
      "Done  84.789 %, average grains/point   2.01, 0.002 /s/point, total 149.3 /s\r"
     ]
    },
    {
     "name": "stdout",
     "output_type": "stream",
     "text": [
      "Done  84.836 %, average grains/point   2.01, 0.002 /s/point, total 149.4 /s\r"
     ]
    },
    {
     "name": "stdout",
     "output_type": "stream",
     "text": [
      "Done  84.883 %, average grains/point   2.01, 0.002 /s/point, total 149.4 /s\r"
     ]
    },
    {
     "name": "stdout",
     "output_type": "stream",
     "text": [
      "Done  84.931 %, average grains/point   2.01, 0.002 /s/point, total 149.5 /s\r"
     ]
    },
    {
     "name": "stdout",
     "output_type": "stream",
     "text": [
      "Done  84.978 %, average grains/point   2.01, 0.002 /s/point, total 149.6 /s\r"
     ]
    },
    {
     "name": "stdout",
     "output_type": "stream",
     "text": [
      "Done  85.025 %, average grains/point   2.01, 0.002 /s/point, total 149.6 /s\r"
     ]
    },
    {
     "name": "stdout",
     "output_type": "stream",
     "text": [
      "Done  85.072 %, average grains/point   2.01, 0.002 /s/point, total 149.7 /s\r"
     ]
    },
    {
     "name": "stdout",
     "output_type": "stream",
     "text": [
      "Done  85.119 %, average grains/point   2.01, 0.002 /s/point, total 149.8 /s\r"
     ]
    },
    {
     "name": "stdout",
     "output_type": "stream",
     "text": [
      "Done  85.167 %, average grains/point   2.01, 0.002 /s/point, total 149.9 /s\r"
     ]
    },
    {
     "name": "stdout",
     "output_type": "stream",
     "text": [
      "Done  85.214 %, average grains/point   2.01, 0.002 /s/point, total 149.9 /s\r"
     ]
    },
    {
     "name": "stdout",
     "output_type": "stream",
     "text": [
      "Done  85.261 %, average grains/point   2.01, 0.002 /s/point, total 150.0 /s\r"
     ]
    },
    {
     "name": "stdout",
     "output_type": "stream",
     "text": [
      "Done  85.308 %, average grains/point   2.01, 0.002 /s/point, total 150.1 /s\r"
     ]
    },
    {
     "name": "stdout",
     "output_type": "stream",
     "text": [
      "Done  85.356 %, average grains/point   2.01, 0.002 /s/point, total 150.1 /s\r"
     ]
    },
    {
     "name": "stdout",
     "output_type": "stream",
     "text": [
      "Done  85.403 %, average grains/point   2.01, 0.002 /s/point, total 150.2 /s\r"
     ]
    },
    {
     "name": "stdout",
     "output_type": "stream",
     "text": [
      "Done  85.450 %, average grains/point   2.01, 0.002 /s/point, total 150.3 /s\r"
     ]
    },
    {
     "name": "stdout",
     "output_type": "stream",
     "text": [
      "Done  85.497 %, average grains/point   2.01, 0.002 /s/point, total 150.3 /s\r"
     ]
    },
    {
     "name": "stdout",
     "output_type": "stream",
     "text": [
      "Done  85.545 %, average grains/point   2.01, 0.002 /s/point, total 150.4 /s\r"
     ]
    },
    {
     "name": "stdout",
     "output_type": "stream",
     "text": [
      "Done  85.592 %, average grains/point   2.01, 0.002 /s/point, total 150.5 /s\r"
     ]
    },
    {
     "name": "stdout",
     "output_type": "stream",
     "text": [
      "Done  85.639 %, average grains/point   2.01, 0.002 /s/point, total 150.6 /s\r"
     ]
    },
    {
     "name": "stdout",
     "output_type": "stream",
     "text": [
      "Done  85.686 %, average grains/point   2.01, 0.002 /s/point, total 150.6 /s\r"
     ]
    },
    {
     "name": "stdout",
     "output_type": "stream",
     "text": [
      "Done  85.734 %, average grains/point   2.01, 0.002 /s/point, total 150.7 /s\r"
     ]
    },
    {
     "name": "stdout",
     "output_type": "stream",
     "text": [
      "Done  85.781 %, average grains/point   2.01, 0.002 /s/point, total 150.8 /s\r"
     ]
    },
    {
     "name": "stdout",
     "output_type": "stream",
     "text": [
      "Done  85.828 %, average grains/point   2.01, 0.002 /s/point, total 150.9 /s\r"
     ]
    },
    {
     "name": "stdout",
     "output_type": "stream",
     "text": [
      "Done  85.875 %, average grains/point   2.01, 0.002 /s/point, total 150.9 /s\r"
     ]
    },
    {
     "name": "stdout",
     "output_type": "stream",
     "text": [
      "Done  85.922 %, average grains/point   2.01, 0.002 /s/point, total 151.0 /s\r"
     ]
    },
    {
     "name": "stdout",
     "output_type": "stream",
     "text": [
      "Done  85.970 %, average grains/point   2.01, 0.002 /s/point, total 151.1 /s\r"
     ]
    },
    {
     "name": "stdout",
     "output_type": "stream",
     "text": [
      "Done  86.017 %, average grains/point   2.01, 0.002 /s/point, total 151.1 /s\r"
     ]
    },
    {
     "name": "stdout",
     "output_type": "stream",
     "text": [
      "Done  86.064 %, average grains/point   2.01, 0.002 /s/point, total 151.2 /s\r"
     ]
    },
    {
     "name": "stdout",
     "output_type": "stream",
     "text": [
      "Done  86.111 %, average grains/point   2.01, 0.002 /s/point, total 151.3 /s\r"
     ]
    },
    {
     "name": "stdout",
     "output_type": "stream",
     "text": [
      "Done  86.159 %, average grains/point   2.01, 0.002 /s/point, total 151.4 /s\r"
     ]
    },
    {
     "name": "stdout",
     "output_type": "stream",
     "text": [
      "Done  86.206 %, average grains/point   2.01, 0.002 /s/point, total 151.4 /s\r"
     ]
    },
    {
     "name": "stdout",
     "output_type": "stream",
     "text": [
      "Done  86.253 %, average grains/point   2.01, 0.002 /s/point, total 151.5 /s\r"
     ]
    },
    {
     "name": "stdout",
     "output_type": "stream",
     "text": [
      "Done  86.300 %, average grains/point   2.01, 0.002 /s/point, total 151.6 /s\r"
     ]
    },
    {
     "name": "stdout",
     "output_type": "stream",
     "text": [
      "Done  86.348 %, average grains/point   2.01, 0.002 /s/point, total 151.7 /s\r"
     ]
    },
    {
     "name": "stdout",
     "output_type": "stream",
     "text": [
      "Done  86.395 %, average grains/point   2.01, 0.002 /s/point, total 151.7 /s\r"
     ]
    },
    {
     "name": "stdout",
     "output_type": "stream",
     "text": [
      "Done  86.442 %, average grains/point   2.01, 0.002 /s/point, total 151.8 /s\r"
     ]
    },
    {
     "name": "stdout",
     "output_type": "stream",
     "text": [
      "Done  86.489 %, average grains/point   2.01, 0.002 /s/point, total 151.9 /s\r"
     ]
    },
    {
     "name": "stdout",
     "output_type": "stream",
     "text": [
      "Done  86.537 %, average grains/point   2.01, 0.002 /s/point, total 151.9 /s\r"
     ]
    },
    {
     "name": "stdout",
     "output_type": "stream",
     "text": [
      "Done  86.584 %, average grains/point   2.01, 0.002 /s/point, total 152.0 /s\r"
     ]
    },
    {
     "name": "stdout",
     "output_type": "stream",
     "text": [
      "Done  86.631 %, average grains/point   2.01, 0.002 /s/point, total 152.1 /s\r"
     ]
    },
    {
     "name": "stdout",
     "output_type": "stream",
     "text": [
      "Done  86.678 %, average grains/point   2.01, 0.002 /s/point, total 152.2 /s\r"
     ]
    },
    {
     "name": "stdout",
     "output_type": "stream",
     "text": [
      "Done  86.725 %, average grains/point   2.01, 0.002 /s/point, total 152.2 /s\r"
     ]
    },
    {
     "name": "stdout",
     "output_type": "stream",
     "text": [
      "Done  86.773 %, average grains/point   2.01, 0.002 /s/point, total 152.3 /s\r"
     ]
    },
    {
     "name": "stdout",
     "output_type": "stream",
     "text": [
      "Done  86.820 %, average grains/point   2.01, 0.002 /s/point, total 152.4 /s\r"
     ]
    },
    {
     "name": "stdout",
     "output_type": "stream",
     "text": [
      "Done  86.867 %, average grains/point   2.01, 0.002 /s/point, total 152.5 /s\r"
     ]
    },
    {
     "name": "stdout",
     "output_type": "stream",
     "text": [
      "Done  86.914 %, average grains/point   2.01, 0.002 /s/point, total 152.5 /s\r"
     ]
    },
    {
     "name": "stdout",
     "output_type": "stream",
     "text": [
      "Done  86.962 %, average grains/point   2.01, 0.002 /s/point, total 152.6 /s\r"
     ]
    },
    {
     "name": "stdout",
     "output_type": "stream",
     "text": [
      "Done  87.009 %, average grains/point   2.01, 0.002 /s/point, total 152.7 /s\r"
     ]
    },
    {
     "name": "stdout",
     "output_type": "stream",
     "text": [
      "Done  87.056 %, average grains/point   2.01, 0.002 /s/point, total 152.8 /s\r"
     ]
    },
    {
     "name": "stdout",
     "output_type": "stream",
     "text": [
      "Done  87.103 %, average grains/point   2.01, 0.002 /s/point, total 152.8 /s\r"
     ]
    },
    {
     "name": "stdout",
     "output_type": "stream",
     "text": [
      "Done  87.151 %, average grains/point   2.01, 0.002 /s/point, total 152.9 /s\r"
     ]
    },
    {
     "name": "stdout",
     "output_type": "stream",
     "text": [
      "Done  87.198 %, average grains/point   2.01, 0.002 /s/point, total 153.0 /s\r"
     ]
    },
    {
     "name": "stdout",
     "output_type": "stream",
     "text": [
      "Done  87.245 %, average grains/point   2.01, 0.002 /s/point, total 153.0 /s\r"
     ]
    },
    {
     "name": "stdout",
     "output_type": "stream",
     "text": [
      "Done  87.292 %, average grains/point   2.01, 0.002 /s/point, total 153.1 /s\r"
     ]
    },
    {
     "name": "stdout",
     "output_type": "stream",
     "text": [
      "Done  87.340 %, average grains/point   2.01, 0.002 /s/point, total 153.2 /s\r"
     ]
    },
    {
     "name": "stdout",
     "output_type": "stream",
     "text": [
      "Done  87.387 %, average grains/point   2.01, 0.002 /s/point, total 153.3 /s\r"
     ]
    },
    {
     "name": "stdout",
     "output_type": "stream",
     "text": [
      "Done  87.434 %, average grains/point   2.01, 0.002 /s/point, total 153.3 /s\r"
     ]
    },
    {
     "name": "stdout",
     "output_type": "stream",
     "text": [
      "Done  87.481 %, average grains/point   2.01, 0.002 /s/point, total 153.4 /s\r"
     ]
    },
    {
     "name": "stdout",
     "output_type": "stream",
     "text": [
      "Done  87.528 %, average grains/point   2.01, 0.002 /s/point, total 153.5 /s\r"
     ]
    },
    {
     "name": "stdout",
     "output_type": "stream",
     "text": [
      "Done  87.576 %, average grains/point   2.01, 0.002 /s/point, total 153.6 /s\r"
     ]
    },
    {
     "name": "stdout",
     "output_type": "stream",
     "text": [
      "Done  87.623 %, average grains/point   2.01, 0.002 /s/point, total 153.6 /s\r"
     ]
    },
    {
     "name": "stdout",
     "output_type": "stream",
     "text": [
      "Done  87.670 %, average grains/point   2.01, 0.002 /s/point, total 153.7 /s\r"
     ]
    },
    {
     "name": "stdout",
     "output_type": "stream",
     "text": [
      "Done  87.717 %, average grains/point   2.01, 0.002 /s/point, total 153.8 /s\r"
     ]
    },
    {
     "name": "stdout",
     "output_type": "stream",
     "text": [
      "Done  87.765 %, average grains/point   2.01, 0.002 /s/point, total 153.9 /s\r"
     ]
    },
    {
     "name": "stdout",
     "output_type": "stream",
     "text": [
      "Done  87.812 %, average grains/point   2.01, 0.002 /s/point, total 153.9 /s\r"
     ]
    },
    {
     "name": "stdout",
     "output_type": "stream",
     "text": [
      "Done  87.859 %, average grains/point   2.01, 0.002 /s/point, total 154.0 /s\r"
     ]
    },
    {
     "name": "stdout",
     "output_type": "stream",
     "text": [
      "Done  87.906 %, average grains/point   2.01, 0.002 /s/point, total 154.1 /s\r"
     ]
    },
    {
     "name": "stdout",
     "output_type": "stream",
     "text": [
      "Done  87.954 %, average grains/point   2.01, 0.002 /s/point, total 154.1 /s\r"
     ]
    },
    {
     "name": "stdout",
     "output_type": "stream",
     "text": [
      "Done  88.001 %, average grains/point   2.01, 0.002 /s/point, total 154.2 /s\r"
     ]
    },
    {
     "name": "stdout",
     "output_type": "stream",
     "text": [
      "Done  88.048 %, average grains/point   2.01, 0.002 /s/point, total 154.3 /s\r"
     ]
    },
    {
     "name": "stdout",
     "output_type": "stream",
     "text": [
      "Done  88.095 %, average grains/point   2.01, 0.002 /s/point, total 154.4 /s\r"
     ]
    },
    {
     "name": "stdout",
     "output_type": "stream",
     "text": [
      "Done  88.143 %, average grains/point   2.01, 0.002 /s/point, total 154.4 /s\r"
     ]
    },
    {
     "name": "stdout",
     "output_type": "stream",
     "text": [
      "Done  88.190 %, average grains/point   2.01, 0.002 /s/point, total 154.5 /s\r"
     ]
    },
    {
     "name": "stdout",
     "output_type": "stream",
     "text": [
      "Done  88.237 %, average grains/point   2.01, 0.002 /s/point, total 154.6 /s\r"
     ]
    },
    {
     "name": "stdout",
     "output_type": "stream",
     "text": [
      "Done  88.284 %, average grains/point   2.01, 0.002 /s/point, total 154.6 /s\r"
     ]
    },
    {
     "name": "stdout",
     "output_type": "stream",
     "text": [
      "Done  88.332 %, average grains/point   2.01, 0.002 /s/point, total 154.7 /s\r"
     ]
    },
    {
     "name": "stdout",
     "output_type": "stream",
     "text": [
      "Done  88.379 %, average grains/point   2.01, 0.002 /s/point, total 154.8 /s\r"
     ]
    },
    {
     "name": "stdout",
     "output_type": "stream",
     "text": [
      "Done  88.426 %, average grains/point   2.01, 0.002 /s/point, total 154.9 /s\r"
     ]
    },
    {
     "name": "stdout",
     "output_type": "stream",
     "text": [
      "Done  88.473 %, average grains/point   2.01, 0.002 /s/point, total 154.9 /s\r"
     ]
    },
    {
     "name": "stdout",
     "output_type": "stream",
     "text": [
      "Done  88.520 %, average grains/point   2.01, 0.002 /s/point, total 155.0 /s\r"
     ]
    },
    {
     "name": "stdout",
     "output_type": "stream",
     "text": [
      "Done  88.568 %, average grains/point   2.01, 0.002 /s/point, total 155.1 /s\r"
     ]
    },
    {
     "name": "stdout",
     "output_type": "stream",
     "text": [
      "Done  88.615 %, average grains/point   2.01, 0.002 /s/point, total 155.1 /s\r"
     ]
    },
    {
     "name": "stdout",
     "output_type": "stream",
     "text": [
      "Done  88.662 %, average grains/point   2.01, 0.002 /s/point, total 155.2 /s\r"
     ]
    },
    {
     "name": "stdout",
     "output_type": "stream",
     "text": [
      "Done  88.709 %, average grains/point   2.01, 0.002 /s/point, total 155.3 /s\r"
     ]
    },
    {
     "name": "stdout",
     "output_type": "stream",
     "text": [
      "Done  88.757 %, average grains/point   2.02, 0.002 /s/point, total 155.4 /s\r"
     ]
    },
    {
     "name": "stdout",
     "output_type": "stream",
     "text": [
      "Done  88.804 %, average grains/point   2.02, 0.002 /s/point, total 155.4 /s\r"
     ]
    },
    {
     "name": "stdout",
     "output_type": "stream",
     "text": [
      "Done  88.851 %, average grains/point   2.02, 0.002 /s/point, total 155.5 /s\r"
     ]
    },
    {
     "name": "stdout",
     "output_type": "stream",
     "text": [
      "Done  88.898 %, average grains/point   2.02, 0.002 /s/point, total 155.6 /s\r"
     ]
    },
    {
     "name": "stdout",
     "output_type": "stream",
     "text": [
      "Done  88.946 %, average grains/point   2.02, 0.002 /s/point, total 155.6 /s\r"
     ]
    },
    {
     "name": "stdout",
     "output_type": "stream",
     "text": [
      "Done  88.993 %, average grains/point   2.02, 0.002 /s/point, total 155.7 /s\r"
     ]
    },
    {
     "name": "stdout",
     "output_type": "stream",
     "text": [
      "Done  89.040 %, average grains/point   2.02, 0.002 /s/point, total 155.8 /s\r"
     ]
    },
    {
     "name": "stdout",
     "output_type": "stream",
     "text": [
      "Done  89.087 %, average grains/point   2.02, 0.002 /s/point, total 155.9 /s\r"
     ]
    },
    {
     "name": "stdout",
     "output_type": "stream",
     "text": [
      "Done  89.135 %, average grains/point   2.01, 0.002 /s/point, total 155.9 /s\r"
     ]
    },
    {
     "name": "stdout",
     "output_type": "stream",
     "text": [
      "Done  89.182 %, average grains/point   2.02, 0.002 /s/point, total 156.0 /s\r"
     ]
    },
    {
     "name": "stdout",
     "output_type": "stream",
     "text": [
      "Done  89.229 %, average grains/point   2.02, 0.002 /s/point, total 156.1 /s\r"
     ]
    },
    {
     "name": "stdout",
     "output_type": "stream",
     "text": [
      "Done  89.276 %, average grains/point   2.02, 0.002 /s/point, total 156.1 /s\r"
     ]
    },
    {
     "name": "stdout",
     "output_type": "stream",
     "text": [
      "Done  89.323 %, average grains/point   2.02, 0.002 /s/point, total 156.2 /s\r"
     ]
    },
    {
     "name": "stdout",
     "output_type": "stream",
     "text": [
      "Done  89.371 %, average grains/point   2.02, 0.002 /s/point, total 156.3 /s\r"
     ]
    },
    {
     "name": "stdout",
     "output_type": "stream",
     "text": [
      "Done  89.418 %, average grains/point   2.02, 0.002 /s/point, total 156.4 /s\r"
     ]
    },
    {
     "name": "stdout",
     "output_type": "stream",
     "text": [
      "Done  89.465 %, average grains/point   2.02, 0.002 /s/point, total 156.4 /s\r"
     ]
    },
    {
     "name": "stdout",
     "output_type": "stream",
     "text": [
      "Done  89.512 %, average grains/point   2.02, 0.002 /s/point, total 156.5 /s\r"
     ]
    },
    {
     "name": "stdout",
     "output_type": "stream",
     "text": [
      "Done  89.560 %, average grains/point   2.02, 0.002 /s/point, total 156.6 /s\r"
     ]
    },
    {
     "name": "stdout",
     "output_type": "stream",
     "text": [
      "Done  89.607 %, average grains/point   2.02, 0.002 /s/point, total 156.6 /s\r"
     ]
    },
    {
     "name": "stdout",
     "output_type": "stream",
     "text": [
      "Done  89.654 %, average grains/point   2.02, 0.002 /s/point, total 156.7 /s\r"
     ]
    },
    {
     "name": "stdout",
     "output_type": "stream",
     "text": [
      "Done  89.701 %, average grains/point   2.02, 0.002 /s/point, total 156.8 /s\r"
     ]
    },
    {
     "name": "stdout",
     "output_type": "stream",
     "text": [
      "Done  89.749 %, average grains/point   2.02, 0.002 /s/point, total 156.9 /s\r"
     ]
    },
    {
     "name": "stdout",
     "output_type": "stream",
     "text": [
      "Done  89.796 %, average grains/point   2.02, 0.002 /s/point, total 156.9 /s\r"
     ]
    },
    {
     "name": "stdout",
     "output_type": "stream",
     "text": [
      "Done  89.843 %, average grains/point   2.02, 0.002 /s/point, total 157.0 /s\r"
     ]
    },
    {
     "name": "stdout",
     "output_type": "stream",
     "text": [
      "Done  89.890 %, average grains/point   2.02, 0.002 /s/point, total 157.1 /s\r"
     ]
    },
    {
     "name": "stdout",
     "output_type": "stream",
     "text": [
      "Done  89.938 %, average grains/point   2.02, 0.002 /s/point, total 157.1 /s\r"
     ]
    },
    {
     "name": "stdout",
     "output_type": "stream",
     "text": [
      "Done  89.985 %, average grains/point   2.02, 0.002 /s/point, total 157.2 /s\r"
     ]
    },
    {
     "name": "stdout",
     "output_type": "stream",
     "text": [
      "Done  90.032 %, average grains/point   2.02, 0.002 /s/point, total 157.3 /s\r"
     ]
    },
    {
     "name": "stdout",
     "output_type": "stream",
     "text": [
      "Done  90.079 %, average grains/point   2.02, 0.002 /s/point, total 157.4 /s\r"
     ]
    },
    {
     "name": "stdout",
     "output_type": "stream",
     "text": [
      "Done  90.126 %, average grains/point   2.02, 0.002 /s/point, total 157.4 /s\r"
     ]
    },
    {
     "name": "stdout",
     "output_type": "stream",
     "text": [
      "Done  90.174 %, average grains/point   2.02, 0.002 /s/point, total 157.5 /s\r"
     ]
    },
    {
     "name": "stdout",
     "output_type": "stream",
     "text": [
      "Done  90.221 %, average grains/point   2.02, 0.002 /s/point, total 157.6 /s\r"
     ]
    },
    {
     "name": "stdout",
     "output_type": "stream",
     "text": [
      "Done  90.268 %, average grains/point   2.02, 0.002 /s/point, total 157.6 /s\r"
     ]
    },
    {
     "name": "stdout",
     "output_type": "stream",
     "text": [
      "Done  90.315 %, average grains/point   2.02, 0.002 /s/point, total 157.7 /s\r"
     ]
    },
    {
     "name": "stdout",
     "output_type": "stream",
     "text": [
      "Done  90.363 %, average grains/point   2.01, 0.002 /s/point, total 157.8 /s\r"
     ]
    },
    {
     "name": "stdout",
     "output_type": "stream",
     "text": [
      "Done  90.410 %, average grains/point   2.01, 0.002 /s/point, total 157.8 /s\r"
     ]
    },
    {
     "name": "stdout",
     "output_type": "stream",
     "text": [
      "Done  90.457 %, average grains/point   2.01, 0.002 /s/point, total 157.9 /s\r"
     ]
    },
    {
     "name": "stdout",
     "output_type": "stream",
     "text": [
      "Done  90.504 %, average grains/point   2.01, 0.002 /s/point, total 158.0 /s\r"
     ]
    },
    {
     "name": "stdout",
     "output_type": "stream",
     "text": [
      "Done  90.552 %, average grains/point   2.01, 0.002 /s/point, total 158.1 /s\r"
     ]
    },
    {
     "name": "stdout",
     "output_type": "stream",
     "text": [
      "Done  90.599 %, average grains/point   2.02, 0.002 /s/point, total 158.1 /s\r"
     ]
    },
    {
     "name": "stdout",
     "output_type": "stream",
     "text": [
      "Done  90.646 %, average grains/point   2.02, 0.002 /s/point, total 158.2 /s\r"
     ]
    },
    {
     "name": "stdout",
     "output_type": "stream",
     "text": [
      "Done  90.693 %, average grains/point   2.02, 0.002 /s/point, total 158.3 /s\r"
     ]
    },
    {
     "name": "stdout",
     "output_type": "stream",
     "text": [
      "Done  90.741 %, average grains/point   2.02, 0.002 /s/point, total 158.3 /s\r"
     ]
    },
    {
     "name": "stdout",
     "output_type": "stream",
     "text": [
      "Done  90.788 %, average grains/point   2.02, 0.002 /s/point, total 158.4 /s\r"
     ]
    },
    {
     "name": "stdout",
     "output_type": "stream",
     "text": [
      "Done  90.835 %, average grains/point   2.02, 0.002 /s/point, total 158.5 /s\r"
     ]
    },
    {
     "name": "stdout",
     "output_type": "stream",
     "text": [
      "Done  90.882 %, average grains/point   2.02, 0.002 /s/point, total 158.5 /s\r"
     ]
    },
    {
     "name": "stdout",
     "output_type": "stream",
     "text": [
      "Done  90.929 %, average grains/point   2.02, 0.002 /s/point, total 158.6 /s\r"
     ]
    },
    {
     "name": "stdout",
     "output_type": "stream",
     "text": [
      "Done  90.977 %, average grains/point   2.02, 0.002 /s/point, total 158.7 /s\r"
     ]
    },
    {
     "name": "stdout",
     "output_type": "stream",
     "text": [
      "Done  91.024 %, average grains/point   2.02, 0.002 /s/point, total 158.8 /s\r"
     ]
    },
    {
     "name": "stdout",
     "output_type": "stream",
     "text": [
      "Done  91.071 %, average grains/point   2.02, 0.002 /s/point, total 158.8 /s\r"
     ]
    },
    {
     "name": "stdout",
     "output_type": "stream",
     "text": [
      "Done  91.118 %, average grains/point   2.01, 0.002 /s/point, total 158.9 /s\r"
     ]
    },
    {
     "name": "stdout",
     "output_type": "stream",
     "text": [
      "Done  91.166 %, average grains/point   2.01, 0.002 /s/point, total 159.0 /s\r"
     ]
    },
    {
     "name": "stdout",
     "output_type": "stream",
     "text": [
      "Done  91.213 %, average grains/point   2.02, 0.002 /s/point, total 159.0 /s\r"
     ]
    },
    {
     "name": "stdout",
     "output_type": "stream",
     "text": [
      "Done  91.260 %, average grains/point   2.02, 0.002 /s/point, total 159.1 /s\r"
     ]
    },
    {
     "name": "stdout",
     "output_type": "stream",
     "text": [
      "Done  91.307 %, average grains/point   2.01, 0.002 /s/point, total 159.2 /s\r"
     ]
    },
    {
     "name": "stdout",
     "output_type": "stream",
     "text": [
      "Done  91.355 %, average grains/point   2.01, 0.002 /s/point, total 159.2 /s\r"
     ]
    },
    {
     "name": "stdout",
     "output_type": "stream",
     "text": [
      "Done  91.402 %, average grains/point   2.01, 0.002 /s/point, total 159.3 /s\r"
     ]
    },
    {
     "name": "stdout",
     "output_type": "stream",
     "text": [
      "Done  91.449 %, average grains/point   2.02, 0.002 /s/point, total 159.4 /s\r"
     ]
    },
    {
     "name": "stdout",
     "output_type": "stream",
     "text": [
      "Done  91.496 %, average grains/point   2.02, 0.002 /s/point, total 159.5 /s\r"
     ]
    },
    {
     "name": "stdout",
     "output_type": "stream",
     "text": [
      "Done  91.544 %, average grains/point   2.01, 0.002 /s/point, total 159.5 /s\r"
     ]
    },
    {
     "name": "stdout",
     "output_type": "stream",
     "text": [
      "Done  91.591 %, average grains/point   2.01, 0.002 /s/point, total 159.6 /s\r"
     ]
    },
    {
     "name": "stdout",
     "output_type": "stream",
     "text": [
      "Done  91.638 %, average grains/point   2.02, 0.002 /s/point, total 159.7 /s\r"
     ]
    },
    {
     "name": "stdout",
     "output_type": "stream",
     "text": [
      "Done  91.685 %, average grains/point   2.02, 0.002 /s/point, total 159.7 /s\r"
     ]
    },
    {
     "name": "stdout",
     "output_type": "stream",
     "text": [
      "Done  91.733 %, average grains/point   2.02, 0.002 /s/point, total 159.8 /s\r"
     ]
    },
    {
     "name": "stdout",
     "output_type": "stream",
     "text": [
      "Done  91.780 %, average grains/point   2.02, 0.002 /s/point, total 159.9 /s\r"
     ]
    },
    {
     "name": "stdout",
     "output_type": "stream",
     "text": [
      "Done  91.827 %, average grains/point   2.02, 0.002 /s/point, total 160.0 /s\r"
     ]
    },
    {
     "name": "stdout",
     "output_type": "stream",
     "text": [
      "Done  91.874 %, average grains/point   2.02, 0.002 /s/point, total 160.0 /s\r"
     ]
    },
    {
     "name": "stdout",
     "output_type": "stream",
     "text": [
      "Done  91.921 %, average grains/point   2.02, 0.002 /s/point, total 160.1 /s\r"
     ]
    },
    {
     "name": "stdout",
     "output_type": "stream",
     "text": [
      "Done  91.969 %, average grains/point   2.02, 0.002 /s/point, total 160.2 /s\r"
     ]
    },
    {
     "name": "stdout",
     "output_type": "stream",
     "text": [
      "Done  92.016 %, average grains/point   2.01, 0.002 /s/point, total 160.2 /s\r"
     ]
    },
    {
     "name": "stdout",
     "output_type": "stream",
     "text": [
      "Done  92.063 %, average grains/point   2.01, 0.002 /s/point, total 160.3 /s\r"
     ]
    },
    {
     "name": "stdout",
     "output_type": "stream",
     "text": [
      "Done  92.110 %, average grains/point   2.01, 0.002 /s/point, total 160.4 /s\r"
     ]
    },
    {
     "name": "stdout",
     "output_type": "stream",
     "text": [
      "Done  92.158 %, average grains/point   2.01, 0.002 /s/point, total 160.5 /s\r"
     ]
    },
    {
     "name": "stdout",
     "output_type": "stream",
     "text": [
      "Done  92.205 %, average grains/point   2.01, 0.002 /s/point, total 160.5 /s\r"
     ]
    },
    {
     "name": "stdout",
     "output_type": "stream",
     "text": [
      "Done  92.252 %, average grains/point   2.01, 0.002 /s/point, total 160.6 /s\r"
     ]
    },
    {
     "name": "stdout",
     "output_type": "stream",
     "text": [
      "Done  92.299 %, average grains/point   2.01, 0.002 /s/point, total 160.7 /s\r"
     ]
    },
    {
     "name": "stdout",
     "output_type": "stream",
     "text": [
      "Done  92.347 %, average grains/point   2.01, 0.002 /s/point, total 160.7 /s\r"
     ]
    },
    {
     "name": "stdout",
     "output_type": "stream",
     "text": [
      "Done  92.394 %, average grains/point   2.01, 0.002 /s/point, total 160.8 /s\r"
     ]
    },
    {
     "name": "stdout",
     "output_type": "stream",
     "text": [
      "Done  92.441 %, average grains/point   2.01, 0.002 /s/point, total 160.9 /s\r"
     ]
    },
    {
     "name": "stdout",
     "output_type": "stream",
     "text": [
      "Done  92.488 %, average grains/point   2.01, 0.002 /s/point, total 160.9 /s\r"
     ]
    },
    {
     "name": "stdout",
     "output_type": "stream",
     "text": [
      "Done  92.536 %, average grains/point   2.01, 0.002 /s/point, total 161.0 /s\r"
     ]
    },
    {
     "name": "stdout",
     "output_type": "stream",
     "text": [
      "Done  92.583 %, average grains/point   2.01, 0.002 /s/point, total 161.1 /s\r"
     ]
    },
    {
     "name": "stdout",
     "output_type": "stream",
     "text": [
      "Done  92.630 %, average grains/point   2.01, 0.002 /s/point, total 161.1 /s\r"
     ]
    },
    {
     "name": "stdout",
     "output_type": "stream",
     "text": [
      "Done  92.677 %, average grains/point   2.01, 0.002 /s/point, total 161.2 /s\r"
     ]
    },
    {
     "name": "stdout",
     "output_type": "stream",
     "text": [
      "Done  92.724 %, average grains/point   2.01, 0.002 /s/point, total 161.3 /s\r"
     ]
    },
    {
     "name": "stdout",
     "output_type": "stream",
     "text": [
      "Done  92.772 %, average grains/point   2.01, 0.002 /s/point, total 161.4 /s\r"
     ]
    },
    {
     "name": "stdout",
     "output_type": "stream",
     "text": [
      "Done  92.819 %, average grains/point   2.01, 0.002 /s/point, total 161.5 /s\r"
     ]
    },
    {
     "name": "stdout",
     "output_type": "stream",
     "text": [
      "Done  92.866 %, average grains/point   2.01, 0.002 /s/point, total 161.5 /s\r"
     ]
    },
    {
     "name": "stdout",
     "output_type": "stream",
     "text": [
      "Done  92.913 %, average grains/point   2.01, 0.002 /s/point, total 161.6 /s\r"
     ]
    },
    {
     "name": "stdout",
     "output_type": "stream",
     "text": [
      "Done  92.961 %, average grains/point   2.01, 0.002 /s/point, total 161.6 /s\r"
     ]
    },
    {
     "name": "stdout",
     "output_type": "stream",
     "text": [
      "Done  93.008 %, average grains/point   2.01, 0.002 /s/point, total 161.7 /s\r"
     ]
    },
    {
     "name": "stdout",
     "output_type": "stream",
     "text": [
      "Done  93.055 %, average grains/point   2.01, 0.002 /s/point, total 161.8 /s\r"
     ]
    },
    {
     "name": "stdout",
     "output_type": "stream",
     "text": [
      "Done  93.102 %, average grains/point   2.01, 0.002 /s/point, total 161.9 /s\r"
     ]
    },
    {
     "name": "stdout",
     "output_type": "stream",
     "text": [
      "Done  93.150 %, average grains/point   2.01, 0.002 /s/point, total 161.9 /s\r"
     ]
    },
    {
     "name": "stdout",
     "output_type": "stream",
     "text": [
      "Done  93.197 %, average grains/point   2.01, 0.002 /s/point, total 162.0 /s\r"
     ]
    },
    {
     "name": "stdout",
     "output_type": "stream",
     "text": [
      "Done  93.244 %, average grains/point   2.01, 0.002 /s/point, total 162.1 /s\r"
     ]
    },
    {
     "name": "stdout",
     "output_type": "stream",
     "text": [
      "Done  93.291 %, average grains/point   2.01, 0.002 /s/point, total 162.1 /s\r"
     ]
    },
    {
     "name": "stdout",
     "output_type": "stream",
     "text": [
      "Done  93.339 %, average grains/point   2.01, 0.002 /s/point, total 162.2 /s\r"
     ]
    },
    {
     "name": "stdout",
     "output_type": "stream",
     "text": [
      "Done  93.386 %, average grains/point   2.01, 0.002 /s/point, total 162.3 /s\r"
     ]
    },
    {
     "name": "stdout",
     "output_type": "stream",
     "text": [
      "Done  93.433 %, average grains/point   2.01, 0.002 /s/point, total 162.3 /s\r"
     ]
    },
    {
     "name": "stdout",
     "output_type": "stream",
     "text": [
      "Done  93.480 %, average grains/point   2.01, 0.002 /s/point, total 162.4 /s\r"
     ]
    },
    {
     "name": "stdout",
     "output_type": "stream",
     "text": [
      "Done  93.527 %, average grains/point   2.01, 0.002 /s/point, total 162.5 /s\r"
     ]
    },
    {
     "name": "stdout",
     "output_type": "stream",
     "text": [
      "Done  93.575 %, average grains/point   2.01, 0.002 /s/point, total 162.6 /s\r"
     ]
    },
    {
     "name": "stdout",
     "output_type": "stream",
     "text": [
      "Done  93.622 %, average grains/point   2.01, 0.002 /s/point, total 162.6 /s\r"
     ]
    },
    {
     "name": "stdout",
     "output_type": "stream",
     "text": [
      "Done  93.669 %, average grains/point   2.01, 0.002 /s/point, total 162.7 /s\r"
     ]
    },
    {
     "name": "stdout",
     "output_type": "stream",
     "text": [
      "Done  93.716 %, average grains/point   2.02, 0.002 /s/point, total 162.8 /s\r"
     ]
    },
    {
     "name": "stdout",
     "output_type": "stream",
     "text": [
      "Done  93.764 %, average grains/point   2.02, 0.002 /s/point, total 162.8 /s\r"
     ]
    },
    {
     "name": "stdout",
     "output_type": "stream",
     "text": [
      "Done  93.811 %, average grains/point   2.02, 0.002 /s/point, total 162.9 /s\r"
     ]
    },
    {
     "name": "stdout",
     "output_type": "stream",
     "text": [
      "Done  93.858 %, average grains/point   2.02, 0.002 /s/point, total 163.0 /s\r"
     ]
    },
    {
     "name": "stdout",
     "output_type": "stream",
     "text": [
      "Done  93.905 %, average grains/point   2.02, 0.002 /s/point, total 163.0 /s\r"
     ]
    },
    {
     "name": "stdout",
     "output_type": "stream",
     "text": [
      "Done  93.953 %, average grains/point   2.02, 0.002 /s/point, total 163.1 /s\r"
     ]
    },
    {
     "name": "stdout",
     "output_type": "stream",
     "text": [
      "Done  94.000 %, average grains/point   2.02, 0.002 /s/point, total 163.2 /s\r"
     ]
    },
    {
     "name": "stdout",
     "output_type": "stream",
     "text": [
      "Done  94.047 %, average grains/point   2.02, 0.002 /s/point, total 163.3 /s\r"
     ]
    },
    {
     "name": "stdout",
     "output_type": "stream",
     "text": [
      "Done  94.094 %, average grains/point   2.02, 0.002 /s/point, total 163.3 /s\r"
     ]
    },
    {
     "name": "stdout",
     "output_type": "stream",
     "text": [
      "Done  94.142 %, average grains/point   2.02, 0.002 /s/point, total 163.4 /s\r"
     ]
    },
    {
     "name": "stdout",
     "output_type": "stream",
     "text": [
      "Done  94.189 %, average grains/point   2.01, 0.002 /s/point, total 163.5 /s\r"
     ]
    },
    {
     "name": "stdout",
     "output_type": "stream",
     "text": [
      "Done  94.236 %, average grains/point   2.01, 0.002 /s/point, total 163.5 /s\r"
     ]
    },
    {
     "name": "stdout",
     "output_type": "stream",
     "text": [
      "Done  94.283 %, average grains/point   2.01, 0.002 /s/point, total 163.6 /s\r"
     ]
    },
    {
     "name": "stdout",
     "output_type": "stream",
     "text": [
      "Done  94.330 %, average grains/point   2.01, 0.002 /s/point, total 163.7 /s\r"
     ]
    },
    {
     "name": "stdout",
     "output_type": "stream",
     "text": [
      "Done  94.378 %, average grains/point   2.01, 0.002 /s/point, total 163.7 /s\r"
     ]
    },
    {
     "name": "stdout",
     "output_type": "stream",
     "text": [
      "Done  94.425 %, average grains/point   2.01, 0.002 /s/point, total 163.8 /s\r"
     ]
    },
    {
     "name": "stdout",
     "output_type": "stream",
     "text": [
      "Done  94.472 %, average grains/point   2.01, 0.002 /s/point, total 163.9 /s\r"
     ]
    },
    {
     "name": "stdout",
     "output_type": "stream",
     "text": [
      "Done  94.519 %, average grains/point   2.01, 0.002 /s/point, total 164.0 /s\r"
     ]
    },
    {
     "name": "stdout",
     "output_type": "stream",
     "text": [
      "Done  94.567 %, average grains/point   2.01, 0.002 /s/point, total 164.0 /s\r"
     ]
    },
    {
     "name": "stdout",
     "output_type": "stream",
     "text": [
      "Done  94.614 %, average grains/point   2.01, 0.002 /s/point, total 164.1 /s\r"
     ]
    },
    {
     "name": "stdout",
     "output_type": "stream",
     "text": [
      "Done  94.661 %, average grains/point   2.01, 0.002 /s/point, total 164.2 /s\r"
     ]
    },
    {
     "name": "stdout",
     "output_type": "stream",
     "text": [
      "Done  94.708 %, average grains/point   2.01, 0.002 /s/point, total 164.2 /s\r"
     ]
    },
    {
     "name": "stdout",
     "output_type": "stream",
     "text": [
      "Done  94.756 %, average grains/point   2.01, 0.002 /s/point, total 164.3 /s\r"
     ]
    },
    {
     "name": "stdout",
     "output_type": "stream",
     "text": [
      "Done  94.803 %, average grains/point   2.01, 0.002 /s/point, total 164.4 /s\r"
     ]
    },
    {
     "name": "stdout",
     "output_type": "stream",
     "text": [
      "Done  94.850 %, average grains/point   2.01, 0.002 /s/point, total 164.4 /s\r"
     ]
    },
    {
     "name": "stdout",
     "output_type": "stream",
     "text": [
      "Done  94.897 %, average grains/point   2.01, 0.002 /s/point, total 164.5 /s\r"
     ]
    },
    {
     "name": "stdout",
     "output_type": "stream",
     "text": [
      "Done  94.945 %, average grains/point   2.01, 0.002 /s/point, total 164.6 /s\r"
     ]
    },
    {
     "name": "stdout",
     "output_type": "stream",
     "text": [
      "Done  94.992 %, average grains/point   2.01, 0.002 /s/point, total 164.7 /s\r"
     ]
    },
    {
     "name": "stdout",
     "output_type": "stream",
     "text": [
      "Done  95.039 %, average grains/point   2.01, 0.002 /s/point, total 164.7 /s\r"
     ]
    },
    {
     "name": "stdout",
     "output_type": "stream",
     "text": [
      "Done  95.086 %, average grains/point   2.02, 0.002 /s/point, total 164.8 /s\r"
     ]
    },
    {
     "name": "stdout",
     "output_type": "stream",
     "text": [
      "Done  95.134 %, average grains/point   2.02, 0.002 /s/point, total 164.9 /s\r"
     ]
    },
    {
     "name": "stdout",
     "output_type": "stream",
     "text": [
      "Done  95.181 %, average grains/point   2.02, 0.002 /s/point, total 165.0 /s\r"
     ]
    },
    {
     "name": "stdout",
     "output_type": "stream",
     "text": [
      "Done  95.228 %, average grains/point   2.01, 0.002 /s/point, total 165.0 /s\r"
     ]
    },
    {
     "name": "stdout",
     "output_type": "stream",
     "text": [
      "Done  95.275 %, average grains/point   2.02, 0.002 /s/point, total 165.1 /s\r"
     ]
    },
    {
     "name": "stdout",
     "output_type": "stream",
     "text": [
      "Done  95.322 %, average grains/point   2.02, 0.002 /s/point, total 165.2 /s\r"
     ]
    },
    {
     "name": "stdout",
     "output_type": "stream",
     "text": [
      "Done  95.370 %, average grains/point   2.02, 0.002 /s/point, total 165.2 /s\r"
     ]
    },
    {
     "name": "stdout",
     "output_type": "stream",
     "text": [
      "Done  95.417 %, average grains/point   2.02, 0.002 /s/point, total 165.3 /s\r"
     ]
    },
    {
     "name": "stdout",
     "output_type": "stream",
     "text": [
      "Done  95.464 %, average grains/point   2.02, 0.002 /s/point, total 165.4 /s\r"
     ]
    },
    {
     "name": "stdout",
     "output_type": "stream",
     "text": [
      "Done  95.511 %, average grains/point   2.02, 0.002 /s/point, total 165.4 /s\r"
     ]
    },
    {
     "name": "stdout",
     "output_type": "stream",
     "text": [
      "Done  95.559 %, average grains/point   2.02, 0.002 /s/point, total 165.5 /s\r"
     ]
    },
    {
     "name": "stdout",
     "output_type": "stream",
     "text": [
      "Done  95.606 %, average grains/point   2.02, 0.002 /s/point, total 165.6 /s\r"
     ]
    },
    {
     "name": "stdout",
     "output_type": "stream",
     "text": [
      "Done  95.653 %, average grains/point   2.02, 0.002 /s/point, total 165.7 /s\r"
     ]
    },
    {
     "name": "stdout",
     "output_type": "stream",
     "text": [
      "Done  95.700 %, average grains/point   2.02, 0.002 /s/point, total 165.7 /s\r"
     ]
    },
    {
     "name": "stdout",
     "output_type": "stream",
     "text": [
      "Done  95.748 %, average grains/point   2.02, 0.002 /s/point, total 165.8 /s\r"
     ]
    },
    {
     "name": "stdout",
     "output_type": "stream",
     "text": [
      "Done  95.795 %, average grains/point   2.02, 0.002 /s/point, total 165.9 /s\r"
     ]
    },
    {
     "name": "stdout",
     "output_type": "stream",
     "text": [
      "Done  95.842 %, average grains/point   2.02, 0.002 /s/point, total 165.9 /s\r"
     ]
    },
    {
     "name": "stdout",
     "output_type": "stream",
     "text": [
      "Done  95.889 %, average grains/point   2.02, 0.002 /s/point, total 166.0 /s\r"
     ]
    },
    {
     "name": "stdout",
     "output_type": "stream",
     "text": [
      "Done  95.937 %, average grains/point   2.02, 0.002 /s/point, total 166.1 /s\r"
     ]
    },
    {
     "name": "stdout",
     "output_type": "stream",
     "text": [
      "Done  95.984 %, average grains/point   2.02, 0.002 /s/point, total 166.2 /s\r"
     ]
    },
    {
     "name": "stdout",
     "output_type": "stream",
     "text": [
      "Done  96.031 %, average grains/point   2.02, 0.002 /s/point, total 166.2 /s\r"
     ]
    },
    {
     "name": "stdout",
     "output_type": "stream",
     "text": [
      "Done  96.078 %, average grains/point   2.02, 0.002 /s/point, total 166.3 /s\r"
     ]
    },
    {
     "name": "stdout",
     "output_type": "stream",
     "text": [
      "Done  96.125 %, average grains/point   2.02, 0.002 /s/point, total 166.4 /s\r"
     ]
    },
    {
     "name": "stdout",
     "output_type": "stream",
     "text": [
      "Done  96.173 %, average grains/point   2.01, 0.002 /s/point, total 166.4 /s\r"
     ]
    },
    {
     "name": "stdout",
     "output_type": "stream",
     "text": [
      "Done  96.220 %, average grains/point   2.02, 0.002 /s/point, total 166.5 /s\r"
     ]
    },
    {
     "name": "stdout",
     "output_type": "stream",
     "text": [
      "Done  96.267 %, average grains/point   2.02, 0.002 /s/point, total 166.6 /s\r"
     ]
    },
    {
     "name": "stdout",
     "output_type": "stream",
     "text": [
      "Done  96.314 %, average grains/point   2.02, 0.002 /s/point, total 166.6 /s\r"
     ]
    },
    {
     "name": "stdout",
     "output_type": "stream",
     "text": [
      "Done  96.362 %, average grains/point   2.02, 0.002 /s/point, total 166.7 /s\r"
     ]
    },
    {
     "name": "stdout",
     "output_type": "stream",
     "text": [
      "Done  96.409 %, average grains/point   2.02, 0.002 /s/point, total 166.8 /s\r"
     ]
    },
    {
     "name": "stdout",
     "output_type": "stream",
     "text": [
      "Done  96.456 %, average grains/point   2.02, 0.002 /s/point, total 166.9 /s\r"
     ]
    },
    {
     "name": "stdout",
     "output_type": "stream",
     "text": [
      "Done  96.503 %, average grains/point   2.02, 0.002 /s/point, total 166.9 /s\r"
     ]
    },
    {
     "name": "stdout",
     "output_type": "stream",
     "text": [
      "Done  96.551 %, average grains/point   2.02, 0.002 /s/point, total 167.0 /s\r"
     ]
    },
    {
     "name": "stdout",
     "output_type": "stream",
     "text": [
      "Done  96.598 %, average grains/point   2.02, 0.002 /s/point, total 167.1 /s\r"
     ]
    },
    {
     "name": "stdout",
     "output_type": "stream",
     "text": [
      "Done  96.645 %, average grains/point   2.02, 0.002 /s/point, total 167.1 /s\r"
     ]
    },
    {
     "name": "stdout",
     "output_type": "stream",
     "text": [
      "Done  96.692 %, average grains/point   2.02, 0.002 /s/point, total 167.2 /s\r"
     ]
    },
    {
     "name": "stdout",
     "output_type": "stream",
     "text": [
      "Done  96.740 %, average grains/point   2.02, 0.002 /s/point, total 167.3 /s\r"
     ]
    },
    {
     "name": "stdout",
     "output_type": "stream",
     "text": [
      "Done  96.787 %, average grains/point   2.02, 0.002 /s/point, total 167.4 /s\r"
     ]
    },
    {
     "name": "stdout",
     "output_type": "stream",
     "text": [
      "Done  96.834 %, average grains/point   2.02, 0.002 /s/point, total 167.4 /s\r"
     ]
    },
    {
     "name": "stdout",
     "output_type": "stream",
     "text": [
      "Done  96.881 %, average grains/point   2.02, 0.002 /s/point, total 167.5 /s\r"
     ]
    },
    {
     "name": "stdout",
     "output_type": "stream",
     "text": [
      "Done  96.928 %, average grains/point   2.02, 0.002 /s/point, total 167.6 /s\r"
     ]
    },
    {
     "name": "stdout",
     "output_type": "stream",
     "text": [
      "Done  96.976 %, average grains/point   2.02, 0.002 /s/point, total 167.6 /s\r"
     ]
    },
    {
     "name": "stdout",
     "output_type": "stream",
     "text": [
      "Done  97.023 %, average grains/point   2.02, 0.002 /s/point, total 167.7 /s\r"
     ]
    },
    {
     "name": "stdout",
     "output_type": "stream",
     "text": [
      "Done  97.070 %, average grains/point   2.02, 0.002 /s/point, total 167.8 /s\r"
     ]
    },
    {
     "name": "stdout",
     "output_type": "stream",
     "text": [
      "Done  97.117 %, average grains/point   2.02, 0.002 /s/point, total 167.9 /s\r"
     ]
    },
    {
     "name": "stdout",
     "output_type": "stream",
     "text": [
      "Done  97.165 %, average grains/point   2.02, 0.002 /s/point, total 167.9 /s\r"
     ]
    },
    {
     "name": "stdout",
     "output_type": "stream",
     "text": [
      "Done  97.212 %, average grains/point   2.02, 0.002 /s/point, total 168.0 /s\r"
     ]
    },
    {
     "name": "stdout",
     "output_type": "stream",
     "text": [
      "Done  97.259 %, average grains/point   2.02, 0.002 /s/point, total 168.1 /s\r"
     ]
    },
    {
     "name": "stdout",
     "output_type": "stream",
     "text": [
      "Done  97.306 %, average grains/point   2.02, 0.002 /s/point, total 168.1 /s\r"
     ]
    },
    {
     "name": "stdout",
     "output_type": "stream",
     "text": [
      "Done  97.354 %, average grains/point   2.02, 0.002 /s/point, total 168.2 /s\r"
     ]
    },
    {
     "name": "stdout",
     "output_type": "stream",
     "text": [
      "Done  97.401 %, average grains/point   2.02, 0.002 /s/point, total 168.3 /s\r"
     ]
    },
    {
     "name": "stdout",
     "output_type": "stream",
     "text": [
      "Done  97.448 %, average grains/point   2.02, 0.002 /s/point, total 168.3 /s\r"
     ]
    },
    {
     "name": "stdout",
     "output_type": "stream",
     "text": [
      "Done  97.495 %, average grains/point   2.02, 0.002 /s/point, total 168.4 /s\r"
     ]
    },
    {
     "name": "stdout",
     "output_type": "stream",
     "text": [
      "Done  97.543 %, average grains/point   2.02, 0.002 /s/point, total 168.5 /s\r"
     ]
    },
    {
     "name": "stdout",
     "output_type": "stream",
     "text": [
      "Done  97.590 %, average grains/point   2.02, 0.002 /s/point, total 168.6 /s\r"
     ]
    },
    {
     "name": "stdout",
     "output_type": "stream",
     "text": [
      "Done  97.637 %, average grains/point   2.02, 0.002 /s/point, total 168.6 /s\r"
     ]
    },
    {
     "name": "stdout",
     "output_type": "stream",
     "text": [
      "Done  97.684 %, average grains/point   2.02, 0.002 /s/point, total 168.7 /s\r"
     ]
    },
    {
     "name": "stdout",
     "output_type": "stream",
     "text": [
      "Done  97.731 %, average grains/point   2.02, 0.002 /s/point, total 168.8 /s\r"
     ]
    },
    {
     "name": "stdout",
     "output_type": "stream",
     "text": [
      "Done  97.779 %, average grains/point   2.02, 0.002 /s/point, total 168.8 /s\r"
     ]
    },
    {
     "name": "stdout",
     "output_type": "stream",
     "text": [
      "Done  97.826 %, average grains/point   2.02, 0.002 /s/point, total 168.9 /s\r"
     ]
    },
    {
     "name": "stdout",
     "output_type": "stream",
     "text": [
      "Done  97.873 %, average grains/point   2.02, 0.002 /s/point, total 169.0 /s\r"
     ]
    },
    {
     "name": "stdout",
     "output_type": "stream",
     "text": [
      "Done  97.920 %, average grains/point   2.02, 0.002 /s/point, total 169.0 /s\r"
     ]
    },
    {
     "name": "stdout",
     "output_type": "stream",
     "text": [
      "Done  97.968 %, average grains/point   2.02, 0.002 /s/point, total 169.1 /s\r"
     ]
    },
    {
     "name": "stdout",
     "output_type": "stream",
     "text": [
      "Done  98.015 %, average grains/point   2.02, 0.002 /s/point, total 169.2 /s\r"
     ]
    },
    {
     "name": "stdout",
     "output_type": "stream",
     "text": [
      "Done  98.062 %, average grains/point   2.02, 0.002 /s/point, total 169.3 /s\r"
     ]
    },
    {
     "name": "stdout",
     "output_type": "stream",
     "text": [
      "Done  98.109 %, average grains/point   2.02, 0.002 /s/point, total 169.3 /s\r"
     ]
    },
    {
     "name": "stdout",
     "output_type": "stream",
     "text": [
      "Done  98.157 %, average grains/point   2.02, 0.002 /s/point, total 169.4 /s\r"
     ]
    },
    {
     "name": "stdout",
     "output_type": "stream",
     "text": [
      "Done  98.204 %, average grains/point   2.02, 0.002 /s/point, total 169.5 /s\r"
     ]
    },
    {
     "name": "stdout",
     "output_type": "stream",
     "text": [
      "Done  98.251 %, average grains/point   2.02, 0.002 /s/point, total 169.5 /s\r"
     ]
    },
    {
     "name": "stdout",
     "output_type": "stream",
     "text": [
      "Done  98.298 %, average grains/point   2.02, 0.002 /s/point, total 169.6 /s\r"
     ]
    },
    {
     "name": "stdout",
     "output_type": "stream",
     "text": [
      "Done  98.346 %, average grains/point   2.02, 0.002 /s/point, total 169.7 /s\r"
     ]
    },
    {
     "name": "stdout",
     "output_type": "stream",
     "text": [
      "Done  98.393 %, average grains/point   2.02, 0.002 /s/point, total 169.7 /s\r"
     ]
    },
    {
     "name": "stdout",
     "output_type": "stream",
     "text": [
      "Done  98.440 %, average grains/point   2.02, 0.002 /s/point, total 169.8 /s\r"
     ]
    },
    {
     "name": "stdout",
     "output_type": "stream",
     "text": [
      "Done  98.487 %, average grains/point   2.02, 0.002 /s/point, total 169.9 /s\r"
     ]
    },
    {
     "name": "stdout",
     "output_type": "stream",
     "text": [
      "Done  98.535 %, average grains/point   2.02, 0.002 /s/point, total 169.9 /s\r"
     ]
    },
    {
     "name": "stdout",
     "output_type": "stream",
     "text": [
      "Done  98.582 %, average grains/point   2.02, 0.002 /s/point, total 170.0 /s\r"
     ]
    },
    {
     "name": "stdout",
     "output_type": "stream",
     "text": [
      "Done  98.629 %, average grains/point   2.02, 0.002 /s/point, total 170.1 /s\r"
     ]
    },
    {
     "name": "stdout",
     "output_type": "stream",
     "text": [
      "Done  98.676 %, average grains/point   2.02, 0.002 /s/point, total 170.2 /s\r"
     ]
    },
    {
     "name": "stdout",
     "output_type": "stream",
     "text": [
      "Done  98.723 %, average grains/point   2.02, 0.002 /s/point, total 170.2 /s\r"
     ]
    },
    {
     "name": "stdout",
     "output_type": "stream",
     "text": [
      "Done  98.771 %, average grains/point   2.02, 0.002 /s/point, total 170.3 /s\r"
     ]
    },
    {
     "name": "stdout",
     "output_type": "stream",
     "text": [
      "Done  98.818 %, average grains/point   2.02, 0.002 /s/point, total 170.4 /s\r"
     ]
    },
    {
     "name": "stdout",
     "output_type": "stream",
     "text": [
      "Done  98.865 %, average grains/point   2.02, 0.002 /s/point, total 170.5 /s\r"
     ]
    },
    {
     "name": "stdout",
     "output_type": "stream",
     "text": [
      "Done  98.912 %, average grains/point   2.02, 0.002 /s/point, total 170.5 /s\r"
     ]
    },
    {
     "name": "stdout",
     "output_type": "stream",
     "text": [
      "Done  98.960 %, average grains/point   2.02, 0.002 /s/point, total 170.6 /s\r"
     ]
    },
    {
     "name": "stdout",
     "output_type": "stream",
     "text": [
      "Done  99.007 %, average grains/point   2.02, 0.002 /s/point, total 170.7 /s\r"
     ]
    },
    {
     "name": "stdout",
     "output_type": "stream",
     "text": [
      "Done  99.054 %, average grains/point   2.02, 0.002 /s/point, total 170.7 /s\r"
     ]
    },
    {
     "name": "stdout",
     "output_type": "stream",
     "text": [
      "Done  99.101 %, average grains/point   2.02, 0.002 /s/point, total 170.8 /s\r"
     ]
    },
    {
     "name": "stdout",
     "output_type": "stream",
     "text": [
      "Done  99.149 %, average grains/point   2.02, 0.002 /s/point, total 170.9 /s\r"
     ]
    },
    {
     "name": "stdout",
     "output_type": "stream",
     "text": [
      "Done  99.196 %, average grains/point   2.02, 0.002 /s/point, total 171.0 /s\r"
     ]
    },
    {
     "name": "stdout",
     "output_type": "stream",
     "text": [
      "Done  99.243 %, average grains/point   2.02, 0.002 /s/point, total 171.0 /s\r"
     ]
    },
    {
     "name": "stdout",
     "output_type": "stream",
     "text": [
      "Done  99.290 %, average grains/point   2.02, 0.002 /s/point, total 171.1 /s\r"
     ]
    },
    {
     "name": "stdout",
     "output_type": "stream",
     "text": [
      "Done  99.338 %, average grains/point   2.02, 0.002 /s/point, total 171.2 /s\r"
     ]
    },
    {
     "name": "stdout",
     "output_type": "stream",
     "text": [
      "Done  99.385 %, average grains/point   2.02, 0.002 /s/point, total 171.2 /s\r"
     ]
    },
    {
     "name": "stdout",
     "output_type": "stream",
     "text": [
      "Done  99.432 %, average grains/point   2.02, 0.002 /s/point, total 171.3 /s\r"
     ]
    },
    {
     "name": "stdout",
     "output_type": "stream",
     "text": [
      "Done  99.479 %, average grains/point   2.02, 0.002 /s/point, total 171.4 /s\r"
     ]
    },
    {
     "name": "stdout",
     "output_type": "stream",
     "text": [
      "Done  99.526 %, average grains/point   2.02, 0.002 /s/point, total 171.4 /s\r"
     ]
    },
    {
     "name": "stdout",
     "output_type": "stream",
     "text": [
      "Done  99.574 %, average grains/point   2.02, 0.002 /s/point, total 171.5 /s\r"
     ]
    },
    {
     "name": "stdout",
     "output_type": "stream",
     "text": [
      "Done  99.621 %, average grains/point   2.02, 0.002 /s/point, total 171.6 /s\r"
     ]
    },
    {
     "name": "stdout",
     "output_type": "stream",
     "text": [
      "Done  99.668 %, average grains/point   2.02, 0.002 /s/point, total 171.6 /s\r"
     ]
    },
    {
     "name": "stdout",
     "output_type": "stream",
     "text": [
      "Done  99.715 %, average grains/point   2.02, 0.002 /s/point, total 171.7 /s\r"
     ]
    },
    {
     "name": "stdout",
     "output_type": "stream",
     "text": [
      "Done  99.763 %, average grains/point   2.02, 0.002 /s/point, total 171.8 /s\r"
     ]
    },
    {
     "name": "stdout",
     "output_type": "stream",
     "text": [
      "Done  99.810 %, average grains/point   2.02, 0.002 /s/point, total 171.9 /s\r"
     ]
    },
    {
     "name": "stdout",
     "output_type": "stream",
     "text": [
      "Done  99.857 %, average grains/point   2.02, 0.002 /s/point, total 171.9 /s\r"
     ]
    },
    {
     "name": "stdout",
     "output_type": "stream",
     "text": [
      "Done  99.904 %, average grains/point   2.02, 0.002 /s/point, total 172.0 /s\r"
     ]
    },
    {
     "name": "stdout",
     "output_type": "stream",
     "text": [
      "Done  99.952 %, average grains/point   2.02, 0.002 /s/point, total 172.1 /s\r"
     ]
    },
    {
     "name": "stdout",
     "output_type": "stream",
     "text": [
      "Done  99.999 %, average grains/point   2.02, 0.002 /s/point, total 172.2 /s\r"
     ]
    },
    {
     "name": "stdout",
     "output_type": "stream",
     "text": [
      "172.3971767425537 seconds 0.0020358424763825852 s per point\n",
      "172.27436518669128 seconds 0.0020343921917158666 s per point without setup\n"
     ]
    }
   ],
   "source": [
    "if use_cluster:\n",
    "    bash_script_path = utils.prepare_pbp_bash(pbp_object, PYTHONPATH, minpkint)\n",
    "    utils.slurm_submit_and_wait(bash_script_path, 15)\n",
    "else:\n",
    "    pbp_object.point_by_point(grains_filename, loglevel=3)"
   ]
  },
  {
   "cell_type": "code",
   "execution_count": 15,
   "id": "950b7adf",
   "metadata": {
    "execution": {
     "iopub.execute_input": "2025-02-24T08:33:13.759703Z",
     "iopub.status.busy": "2025-02-24T08:33:13.759516Z",
     "iopub.status.idle": "2025-02-24T08:33:13.855592Z",
     "shell.execute_reply": "2025-02-24T08:33:13.854866Z"
    },
    "papermill": {
     "duration": 0.184868,
     "end_time": "2025-02-24T08:33:13.857576",
     "exception": false,
     "start_time": "2025-02-24T08:33:13.672708",
     "status": "completed"
    },
    "tags": []
   },
   "outputs": [],
   "source": [
    "ds.save()"
   ]
  }
 ],
 "metadata": {
  "kernelspec": {
   "display_name": "Python 3 (main)",
   "language": "python",
   "name": "python3"
  },
  "language_info": {
   "codemirror_mode": {
    "name": "ipython",
    "version": 3
   },
   "file_extension": ".py",
   "mimetype": "text/x-python",
   "name": "python",
   "nbconvert_exporter": "python",
   "pygments_lexer": "ipython3",
   "version": "3.11.6"
  },
  "papermill": {
   "default_parameters": {},
   "duration": 190.369005,
   "end_time": "2025-02-24T08:33:16.571764",
   "environment_variables": {},
   "exception": null,
   "input_path": "/data/id11/inhouse2/test_data_3DXRD/S3DXRD/FeAu/PROCESSED_DATA/20250221_JADB/pbp_route/FeAu_0p5_tR_nscope/FeAu_0p5_tR_nscope_top_200um/pbp_1_indexing_2.ipynb",
   "output_path": "/data/id11/inhouse2/test_data_3DXRD/S3DXRD/FeAu/PROCESSED_DATA/20250221_JADB/pbp_route/FeAu_0p5_tR_nscope/FeAu_0p5_tR_nscope_top_200um/pbp_1_indexing_2.ipynb",
   "parameters": {
    "PYTHONPATH": "../",
    "ds_tol": 0.008,
    "dset_path": "/data/id11/inhouse2/test_data_3DXRD/S3DXRD/FeAu/PROCESSED_DATA/20250221_JADB/pbp_route/FeAu_0p5_tR_nscope/FeAu_0p5_tR_nscope_top_200um/FeAu_0p5_tR_nscope_top_200um_dataset.h5",
    "etacut": 0.1,
    "forgen": [
     0,
     5,
     7
    ],
    "foridx": [
     0,
     3,
     5,
     7
    ],
    "fpks": 30,
    "hkl_tol": 0.03,
    "ifrac": 0.002,
    "minpkint": 5,
    "par_file": "/data/id11/inhouse2/test_data_3DXRD/S3DXRD/FeAu/pars/pars.json",
    "phase_str": "Au",
    "symmetry": "cubic",
    "uniqcut": 0.85,
    "use_cluster": false,
    "y0": -16.0
   },
   "start_time": "2025-02-24T08:30:06.202759",
   "version": "2.6.0"
  },
  "widgets": {
   "application/vnd.jupyter.widget-state+json": {
    "state": {
     "05443ee75c524d41aa0ad7613165eb59": {
      "model_module": "@jupyter-widgets/base",
      "model_module_version": "2.0.0",
      "model_name": "LayoutModel",
      "state": {
       "_model_module": "@jupyter-widgets/base",
       "_model_module_version": "2.0.0",
       "_model_name": "LayoutModel",
       "_view_count": null,
       "_view_module": "@jupyter-widgets/base",
       "_view_module_version": "2.0.0",
       "_view_name": "LayoutView",
       "align_content": null,
       "align_items": null,
       "align_self": null,
       "border_bottom": null,
       "border_left": null,
       "border_right": null,
       "border_top": null,
       "bottom": null,
       "display": null,
       "flex": null,
       "flex_flow": null,
       "grid_area": null,
       "grid_auto_columns": null,
       "grid_auto_flow": null,
       "grid_auto_rows": null,
       "grid_column": null,
       "grid_gap": null,
       "grid_row": null,
       "grid_template_areas": null,
       "grid_template_columns": null,
       "grid_template_rows": null,
       "height": null,
       "justify_content": null,
       "justify_items": null,
       "left": null,
       "margin": null,
       "max_height": null,
       "max_width": null,
       "min_height": null,
       "min_width": null,
       "object_fit": null,
       "object_position": null,
       "order": null,
       "overflow": null,
       "padding": null,
       "right": null,
       "top": null,
       "visibility": null,
       "width": null
      }
     },
     "33c6867c671c4ba6ac2677e9a9d694fc": {
      "model_module": "jupyter-matplotlib",
      "model_module_version": "^0.11",
      "model_name": "MPLCanvasModel",
      "state": {
       "_cursor": "pointer",
       "_data_url": "data:image/png;base64,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",
       "_dom_classes": [],
       "_figure_label": "Figure",
       "_image_mode": "full",
       "_message": "",
       "_model_module": "jupyter-matplotlib",
       "_model_module_version": "^0.11",
       "_model_name": "MPLCanvasModel",
       "_rubberband_height": 0,
       "_rubberband_width": 0,
       "_rubberband_x": 0,
       "_rubberband_y": 0,
       "_size": [
        640.0,
        480.0
       ],
       "_view_count": null,
       "_view_module": "jupyter-matplotlib",
       "_view_module_version": "^0.11",
       "_view_name": "MPLCanvasView",
       "capture_scroll": false,
       "footer_visible": true,
       "header_visible": true,
       "layout": "IPY_MODEL_cff36e31a11e4452bebf2dca25145dda",
       "pan_zoom_throttle": 33.0,
       "resizable": true,
       "tabbable": null,
       "toolbar": "IPY_MODEL_643487fc19f14b5ba82bcbea6df7009a",
       "toolbar_position": "left",
       "toolbar_visible": "fade-in-fade-out",
       "tooltip": null
      }
     },
     "643487fc19f14b5ba82bcbea6df7009a": {
      "model_module": "jupyter-matplotlib",
      "model_module_version": "^0.11",
      "model_name": "ToolbarModel",
      "state": {
       "_current_action": "",
       "_dom_classes": [],
       "_model_module": "jupyter-matplotlib",
       "_model_module_version": "^0.11",
       "_model_name": "ToolbarModel",
       "_view_count": null,
       "_view_module": "jupyter-matplotlib",
       "_view_module_version": "^0.11",
       "_view_name": "ToolbarView",
       "button_style": "",
       "collapsed": true,
       "layout": "IPY_MODEL_05443ee75c524d41aa0ad7613165eb59",
       "orientation": "vertical",
       "tabbable": null,
       "toolitems": [
        [
         "Home",
         "Reset original view",
         "home",
         "home"
        ],
        [
         "Back",
         "Back to previous view",
         "arrow-left",
         "back"
        ],
        [
         "Forward",
         "Forward to next view",
         "arrow-right",
         "forward"
        ],
        [
         "Pan",
         "Left button pans, Right button zooms\nx/y fixes axis, CTRL fixes aspect",
         "arrows",
         "pan"
        ],
        [
         "Zoom",
         "Zoom to rectangle\nx/y fixes axis",
         "square-o",
         "zoom"
        ],
        [
         "Download",
         "Download plot",
         "floppy-o",
         "save_figure"
        ]
       ],
       "tooltip": null
      }
     },
     "cff36e31a11e4452bebf2dca25145dda": {
      "model_module": "@jupyter-widgets/base",
      "model_module_version": "2.0.0",
      "model_name": "LayoutModel",
      "state": {
       "_model_module": "@jupyter-widgets/base",
       "_model_module_version": "2.0.0",
       "_model_name": "LayoutModel",
       "_view_count": null,
       "_view_module": "@jupyter-widgets/base",
       "_view_module_version": "2.0.0",
       "_view_name": "LayoutView",
       "align_content": null,
       "align_items": null,
       "align_self": null,
       "border_bottom": null,
       "border_left": null,
       "border_right": null,
       "border_top": null,
       "bottom": null,
       "display": null,
       "flex": null,
       "flex_flow": null,
       "grid_area": null,
       "grid_auto_columns": null,
       "grid_auto_flow": null,
       "grid_auto_rows": null,
       "grid_column": null,
       "grid_gap": null,
       "grid_row": null,
       "grid_template_areas": null,
       "grid_template_columns": null,
       "grid_template_rows": null,
       "height": null,
       "justify_content": null,
       "justify_items": null,
       "left": null,
       "margin": null,
       "max_height": null,
       "max_width": null,
       "min_height": null,
       "min_width": null,
       "object_fit": null,
       "object_position": null,
       "order": null,
       "overflow": null,
       "padding": null,
       "right": null,
       "top": null,
       "visibility": null,
       "width": null
      }
     }
    },
    "version_major": 2,
    "version_minor": 0
   }
  }
 },
 "nbformat": 4,
 "nbformat_minor": 5
}