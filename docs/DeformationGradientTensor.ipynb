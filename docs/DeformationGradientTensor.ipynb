{
 "metadata": {
  "name": "",
  "signature": "sha256:c8396d43c513f55b80bd4c01063934ff904701c7e90813dc3ad13ddc2fa4121e"
 },
 "nbformat": 3,
 "nbformat_minor": 0,
 "worksheets": [
  {
   "cells": [
    {
     "cell_type": "code",
     "collapsed": false,
     "input": [
      "import numpy as np\n",
      "\n",
      "def DeformationGradientTensor(ubi, ubi_0):\n",
      "    \"\"\"\n",
      "    Computes the Deformation Gradient Tensor F such that :\n",
      "    ubi = np.dot( F, ubi_0 )\n",
      "    \"\"\"\n",
      "    UB_0 = np.linalg.inv( ubi_0 )\n",
      "    F = np.dot( ubi, UB_0.T )\n",
      "    if __debug__:\n",
      "        assert np.allclose( np.dot( F, ubi_0 ) )\n",
      "    return F\n",
      "\n",
      "def polar_decomposition( F ):\n",
      "    \"\"\" \n",
      "    Uses an SVD to compute the polar decomposition of F\n",
      "    F = V.R = R.U \n",
      "    V and U are symmetric deformations in lab and sample respectively\n",
      "    R is a rotation (orthonormal) that relates them\n",
      "    Returns V,R,U\n",
      "    \"\"\"\n",
      "    w,s,vh = np.linalg.svd( F )\n",
      "    R = np.dot( w, vh )\n",
      "    U = np.dot( vh.T, np.dot( np.diag(s),  vh ) )\n",
      "    V = np.dot( w   , np.dot( np.diag(s), w.T ) )\n",
      "    if __debug__:\n",
      "        print(\"testing\")\n",
      "        assert np.allclose( np.dot( w, np.dot( np.diag(s), vh ) ) , F )\n",
      "        assert np.allclose( F, np.dot( R, U ) )\n",
      "        assert np.allclose( F, np.dot( V, R) )\n",
      "        assert np.allclose( np.linalg.det(R), 1.0 )\n",
      "    return V, R, U\n",
      "\n",
      "def getStrains(ubi, ubi_0):\n",
      "    \"\"\" Gets the sample (Lagrangian) and lab (Eulerian) system strain\n",
      "    tensors\n",
      "    \"\"\"\n",
      "    F = DeformationGradientTensor(ubi, ubi_0)\n",
      "    V,R,U = polar_decomposition(F)\n",
      "    C = np.dot( F.T, F ) # Right Cauchy Green = U.U\n",
      "    B = np.dot( F, F.T ) # Left  Cauchy Green = V.V\n",
      "    I = np.eye(3)\n",
      "    E_Lagrangian = 0.5 * ( C - I )\n",
      "    E_Eulerian = 0.5 * (I - np.linalg.inv(B))\n",
      "    "
     ],
     "language": "python",
     "metadata": {},
     "outputs": [],
     "prompt_number": 2
    },
    {
     "cell_type": "code",
     "collapsed": false,
     "input": [],
     "language": "python",
     "metadata": {},
     "outputs": []
    }
   ],
   "metadata": {}
  }
 ]
}