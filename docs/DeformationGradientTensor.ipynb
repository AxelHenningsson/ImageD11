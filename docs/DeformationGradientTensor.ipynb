{
 "metadata": {
  "name": "",
  "signature": "sha256:26dd2aeb89ae16187b04e06bb6ec496d9e5b511a3e4f8facc1da2364efc66868"
 },
 "nbformat": 3,
 "nbformat_minor": 0,
 "worksheets": [
  {
   "cells": [
    {
     "cell_type": "markdown",
     "metadata": {},
     "source": [
      "# Strains from 3DXRD\n",
      "\n",
      "*Jon Wright, 26 April 2020*\n",
      "\n",
      "The observed data from a 3DXRD experiment are the scattering vectors in the sample frame, the \"g-vectors\". If we succeed to index these using orientation matrices, (UB), we assign hkl indices to spots.\n",
      "The matrix inverse of (UB) gives the real space unit cell vectors, called $\\mathbf{L}$ here (for lattice, it is the **ubi** from ImageD11). In my ImageD11 code there is often confusion between row and column vectors as the code usually applies transformations from the left and does not distinguish row and column vectors. If you substitute *h,k,l* as unit vectors in (1) you can identify the unit cell vectors in reciprocal space:\n",
      "\n",
      "\\begin{equation} \n",
      " ( g_x, g_y, g_z ) = \\mathbf{L^{-1}} \n",
      "\\begin{pmatrix} h \\\\ k \\\\ l \\end{pmatrix}\n",
      "= (\\mathbf{UB})\n",
      "\\begin{pmatrix} h \\\\ k \\\\ l \\end{pmatrix}\n",
      "= \n",
      "\\begin{pmatrix}  \n",
      "\\begin{pmatrix}\n",
      "x_a^* \\\\\n",
      "y_a^* \\\\\n",
      "z_a^*\n",
      "\\end{pmatrix} \n",
      "\\begin{pmatrix}\n",
      "x_b^* \\\\\n",
      "y_b^* \\\\\n",
      "z_b^*\n",
      "\\end{pmatrix} \n",
      "\\begin{pmatrix}\n",
      "x_c^* \\\\\n",
      "y_c^* \\\\\n",
      "z_c^*\n",
      "\\end{pmatrix} \n",
      "\\end{pmatrix} \n",
      "\\begin{pmatrix} h \\\\ k \\\\ l \\end{pmatrix} \n",
      "\\tag{1}\n",
      "\\end{equation}\n",
      "\n",
      "\\begin{equation} \n",
      "(h,k,l) =  \n",
      "\\mathbf{L} \\begin{pmatrix} g_x \\\\ g_y \\\\ g_z \\end{pmatrix} = \n",
      "( \\mathbf{UB} )^{-1}\\begin{pmatrix} g_x \\\\ g_y \\\\ g_z \\end{pmatrix} = \\begin{pmatrix} \n",
      "(x_a & y_a & z_a ) \\\\ \n",
      "(x_b & y_b & z_b ) \\\\\n",
      "(x_c & y_c & z_c ) \\end{pmatrix}\n",
      "\\begin{pmatrix} g_x \\\\ g_y \\\\ g_z \\end{pmatrix}\n",
      "\\tag{2}\n",
      "\\end{equation}\n",
      "\n",
      "The real space lattice as row vectors is not quite so obvious. Instead you need to multiply from the left with a row vector in crystal space $(c_x,c_y,c_z)$ as unit vector and compute a column vector in laboratory space, $(l_x,l_y,l_z)$ as in (3):\n",
      "\n",
      "\\begin{equation}\n",
      " (c_x, c_y, c_z)  \\begin{pmatrix}\n",
      "(x_a & y_a & z_a ) \\\\ \n",
      "(x_b & y_b & z_b ) \\\\\n",
      "(x_c & y_c & z_c ) \\end{pmatrix}\n",
      "= \\begin{pmatrix} l_x \\\\ l_y \\\\ l_z \\end{pmatrix} \n",
      "\\tag{3}\n",
      "\\end{equation}\n",
      "\n",
      "The difference of row versus column vectors and coming from the left or the right of a matrix has been the cause of many years of confusion."
     ]
    },
    {
     "cell_type": "markdown",
     "metadata": {},
     "source": [
      "If a crystal is strained then we look how the atoms move compared to a reference which was strain free. If we are sitting on some atom in the initial state, the positions of the atoms in the next unit cells are given by a matrix $\\mathbf{L_0}$. After strain the neighbor positions will now be given by:\n",
      "\n",
      "$ \\mathbf{L} = \\mathbf{F L_0 }$\n",
      "\n",
      "[***To be confirmed***: I think this is the deformation gradient tensor from finite strain theory, but neglecting any rigid body translations]."
     ]
    },
    {
     "cell_type": "markdown",
     "metadata": {},
     "source": [
      "Assuming this is the $\\mathbf{F}$ of finite strain theory then everything else falls beautifully into place. If we have a reference unit cell, in any orientation, then we can compute $ \\mathbf{F} $ which includes both a change in orientation and strain:\n",
      "\n",
      "$ \\mathbf{F} = \\mathbf{L.L_0^{-1} } = \\mathbf{(UB)^{-1}.(U_0B_0})\n",
      " = \\mathbf{B^{-1}U^{-1}U_0 B_0 } $\n",
      "\n",
      "Note that we can use *any* axis choice that we like, provided that we are consistent for $\\mathbf{L}$ and $\\mathbf{L_0}$. There is no requirement here for a selection of a set of orthogonal axes. If we change our definition of $\\mathbf{U_0}$ then we may change $\\mathbf{F}$.\n",
      "\n",
      "The code to compute $\\mathbf{F}$ from an ImageD11 grain and reference pair of ubi matrices is in the next cell:"
     ]
    },
    {
     "cell_type": "code",
     "collapsed": false,
     "input": [
      "import numpy as np\n",
      "\n",
      "def DeformationGradientTensor(ubi, ubi_0):\n",
      "    \"\"\"\n",
      "    Computes the Deformation Gradient Tensor F such that :\n",
      "    ubi = np.dot( F, ubi_0 )\n",
      "    \"\"\"\n",
      "    UB_0 = np.linalg.inv( ubi_0 )\n",
      "    F = np.dot( ubi, UB_0.T )\n",
      "    return F"
     ],
     "language": "python",
     "metadata": {},
     "outputs": [],
     "prompt_number": 1
    },
    {
     "cell_type": "markdown",
     "metadata": {},
     "source": [
      "Now that we have $\\mathbf{F}$ then it is fairly straightforward to copy and paste various  equations from wikipedia. To get the orientation matrix we need to decompose into a rotation **R** and a strain (**V** or **S**). There are two options, first rotate and then strain (***RS***), or first do the strain and then rotate (***VR***). In the language of finite strain theory these are the left and right polar decompositions:\n",
      "\n",
      "$\\mathbf{F} = \\mathbf{R.S} = \\mathbf{V.R} $\n",
      "\n",
      "I have replaced the **U** which is on wikipedia for **S** to avoid collisions with the orientation above. This decomposition can be computed using a singular value decompositon of **F**, as in the following cell:"
     ]
    },
    {
     "cell_type": "code",
     "collapsed": false,
     "input": [
      "def polar_decomposition( F ):\n",
      "    \"\"\" \n",
      "    Uses an SVD to compute the polar decomposition of F\n",
      "    F = V.R = R.S \n",
      "    V and S are symmetric deformations in lab and sample respectively\n",
      "    R is a rotation (orthonormal) that relates them\n",
      "    Returns V,R,S\n",
      "    \"\"\"\n",
      "    w,sing,vh = np.linalg.svd( F )\n",
      "    R = np.dot( w, vh )\n",
      "    S = np.dot( vh.T, np.dot( np.diag(sing),  vh ) )\n",
      "    V = np.dot( w   , np.dot( np.diag(sing), w.T ) )\n",
      "    return V, R, S"
     ],
     "language": "python",
     "metadata": {},
     "outputs": [],
     "prompt_number": 2
    },
    {
     "cell_type": "markdown",
     "metadata": {},
     "source": [
      "The thing we wanted to compute is the strain. It seems there are an infinite number of different measures we could use in finite strain theory and they should all come down to the same thing for infinitesimal strains. When there are changes in orientation as well as strain, then **V** is constant and **S** depends on how where defined the standard orientation. In the past I think we have been using **S** to get an infinitesimal strain in fable/FitAllB (I am not 100% sure). \n",
      "For the Lagrangian and Eulerian Finite Strains we have:\n",
      "\n",
      "Lagrangian Finite Strain in the Reference Crystal Axes:\n",
      "\\begin{equation}\n",
      "\\mathbf{E} = \\frac{1}{2}( \\mathbf{F^T.F - I } ) = \\frac{1}{2} \n",
      "   \\mathbf{((L.L_0^{-1})^T.(L.L_0^{-1}) -I )} = \n",
      "  \\frac{1}{2} \\mathbf{(L_0^{-T}.(L^T.L).L_0^{-1}) - I )}\n",
      "  \\end{equation}\n",
      "\n",
      "Eulerian Finite Strain, in the Sample x,y,z axes:\n",
      "\\begin{equation}\n",
      " \\mathbf{e} = \\frac{1}{2}( \\mathbf{F.F^T - I } ) = \\frac{1}{2} \n",
      "( \\mathbf{ ( L.L_0^{-1}).(L.L_0^{-1})^T - I } ) = \\frac{1}{2} \n",
      "( \\mathbf{ L.L_0^{-1}.L_0^{-T}.L^{T} - I)  }\n",
      "\\end{equation}\n",
      "\n",
      "Note: these come from the infinitesimal strain theory wikipedia page. Both of these equations correspond to a formula where $\\epsilon = (d-d_0)/d_0$. If you want other strains you will need to adjust accordingly. The finite strain page has the opposite sign for the Eulerian strain."
     ]
    },
    {
     "cell_type": "code",
     "collapsed": false,
     "input": [
      "def strains_from_deformation(ubi, ubi_0):\n",
      "    \"\"\" \n",
      "    Gets the sample (Lagrangian) and lab (Eulerian) system strain tensors\n",
      "    ubi and ubi_0 are 3x3 numpy arrays where the rows are the real\n",
      "    space unit cell vectors.\n",
      "    Also gives back the Polar Decompostion of F = V.R = R.S\n",
      "    \n",
      "    Returns E_grain, E_sample, V, R, S\n",
      "    \"\"\"\n",
      "    F = DeformationGradientTensor(ubi, ubi_0)\n",
      "    V,R,S = polar_decomposition(F)\n",
      "    C = np.dot( F.T, F ) # Right Cauchy Green = U.U\n",
      "    B = np.dot( F, F.T ) # Left  Cauchy Green = V.V\n",
      "    I = np.eye(3)\n",
      "    E_sample = 0.5 * ( C - I )   # E_labxyz\n",
      "    E_grain = 0.5 * ( B - I )     # E_grainxyz\n",
      "    return E_grain, E_sample, V, R, S"
     ],
     "language": "python",
     "metadata": {},
     "outputs": [],
     "prompt_number": 3
    },
    {
     "cell_type": "markdown",
     "metadata": {},
     "source": [
      "## Relation to the metric tensor\n",
      "\n",
      "In both of the previous expressions I have substituted for $\\mathbf{F}$ and we see the metric tensors have shown up. For the final state the metric tensor is $( \\mathbf{G} = \\mathbf{L.L^T} = \\mathbf{L^T.L} )$. For the initial state it is the reciprocal metric tensor:\n",
      "$( \\mathbf{g_0} = \\mathbf{L_0^{-1}.L_0^{-T}} = \\mathbf{L_0^{-T}.L_0^{-1}}) $. Finding out how the strains relate to the metric tensor has been a critical problem in Jon's mind. It appears to come down to:\n",
      "\n",
      "$ 2 \\mathbf{L_0^T.E.L_0} = \\mathbf{L^T.L - L_0^T.L_0 } = \\mathbf{ G - G_0 } $\n",
      "\n",
      "$ 2 \\mathbf{L^{-1}.e.L^{-T} } = \\mathbf{ L_0^{-1}.L_0^{-T} - L^{-1}L^{-T}  } = \n",
      "\\mathbf{ (L_0^TL_0)^{-1} - (L^TL)^{-1} } = \n",
      "\\mathbf{ g_0 - g } $\n",
      "\n",
      "If I now take the difference in metric tensors of the deformed and undeformed states as being the main observable from the experiment then I can then read finally read some sense into all of these equations. Taking the difference in real or reciprocal space and then how to transform them was not obvious at first sight(!)\n",
      "\n",
      "The change in metric tensor was always a symmetric matrix that looked like it was going to be strain. Also it is easy to compute in the laboratory axes independently of grains and reference system choices. The problem has been to relate this strain in the crystallographic coordinate system to the sample x/y/z and the crystal orthogonal axes. The strains we found above are just this tensor transformed into the sample or reference axis system. So Lagrangian strain is in the crystal reference co-ordinates:\n",
      "\n",
      "$ \\mathbf{E} =\\frac{1}{2}  \\mathbf{ L_0^{-T} (G - G_0) L_0^{-1} } $ \n",
      "\n",
      "... and the Eulerian is in the sample x/y/z coordinates that rotate on top of the diffractometer:\n",
      " \n",
      "$ \\mathbf{e} = \\frac{1}{2} \\mathbf{ L ( g_0 - g ) L^T  } $     \n",
      "\n",
      "At last, we compute these different things in code:"
     ]
    },
    {
     "cell_type": "code",
     "collapsed": false,
     "input": [
      "def strains_from_metric(ubi, ubi_0):\n",
      "    \"\"\"\n",
      "    Strains computed via the shifts in metric tensors\n",
      "    - no matrix decomposition is used\n",
      "    - no choice of reference axes\n",
      "    - no orientation matrix is found\n",
      "    \n",
      "    input: ubi and ubi_0 are 3x3 numpy arrays with rows as real\n",
      "    space unit cell vectors.\n",
      "    \n",
      "    Returns E_sample E_grain\n",
      "    \"\"\"\n",
      "    MT = np.dot( ubi.T, ubi )           # metric tensor\n",
      "    MT0 = np.dot( ubi_0.T, ubi_0 )      # reference metric tensor\n",
      "    dGREAL = MT - MT0                   # shift in real space\n",
      "    ub_0 = np.linalg.inv(ubi_0)         # reference UB\n",
      "    e_grain = 0.5*np.dot( np.dot( ub_0.T, dGREAL) , ub_0 ) # into ref space\n",
      "    dgrecip = np.linalg.inv(MT0) - np.linalg.inv(MT)       # shift in reciprocal space\n",
      "    e_sample = 0.5*np.dot( np.dot( ubi, dgrecip) , ubi.T ) # into current xyz\n",
      "    return e_sample, e_grain"
     ],
     "language": "python",
     "metadata": {},
     "outputs": [],
     "prompt_number": 4
    },
    {
     "cell_type": "markdown",
     "metadata": {},
     "source": [
      "## Worked example\n",
      "\n",
      "We make a pure shear strain on a cubic unit cell and compute the various strain tensors. "
     ]
    },
    {
     "cell_type": "code",
     "collapsed": false,
     "input": [
      "a0 = 4.064    # Aluminium\n",
      "e12 = a0*0.25 # 25% strain\n",
      "\n",
      "ubi_0 = np.diag([a0,a0,a0])\n",
      "\n",
      "ubi = np.array( [[a0, e12,  0],\n",
      "                 [e12, a0,  0],\n",
      "                 [0,    0, a0]] )\n",
      "\n",
      "eg, ES = strains_from_metric( ubi, ubi_0 )\n",
      "\n",
      "eu2, EL2, V, R, S = strains_from_deformation(ubi, ubi_0)\n",
      "\n",
      "assert np.allclose(eg, eu2)\n",
      "assert np.allclose(ES, EL2)"
     ],
     "language": "python",
     "metadata": {},
     "outputs": [],
     "prompt_number": 5
    },
    {
     "cell_type": "code",
     "collapsed": false,
     "input": [
      "# Apply a large random rotation to the grain\n",
      "from scipy.spatial.transform import Rotation\n",
      "rot = Rotation.from_euler(\"XYZ\",(123,456,789)).as_dcm()\n",
      "ubi_rotated = np.dot( ubi , rot )\n",
      "\n",
      "np.set_printoptions(suppress=True)\n",
      "eur, ELR, v_rot, r_rot, s_rot = ret = strains_from_deformation(ubi_rotated, ubi_0) \n",
      "egr, ESr = strains_from_metric( ubi_rotated, ubi_0 )\n",
      "assert np.allclose(egr, eur)\n",
      "assert np.allclose( ELR, ESr)\n",
      "# Ensure we get a compatible rotation back\n",
      "assert np.allclose( np.dot(r_rot, rot.T), np.eye(3) )\n",
      "# Ensure the Eulerian Strain is the same as before rotation\n",
      "assert np.allclose( eur, eg )\n",
      "print(\"Sample:\")\n",
      "print(ESr)\n",
      "print(\"Grain:\")\n",
      "print(egr)"
     ],
     "language": "python",
     "metadata": {},
     "outputs": [
      {
       "output_type": "stream",
       "stream": "stdout",
       "text": [
        "Sample:\n",
        "[[ 0.10448217  0.15266425 -0.11944166]\n",
        " [ 0.15266425 -0.14634993 -0.06549923]\n",
        " [-0.11944166 -0.06549923  0.10436776]]\n",
        "Grain:\n",
        "[[ 0.03125  0.25    -0.     ]\n",
        " [ 0.25     0.03125 -0.     ]\n",
        " [-0.      -0.       0.     ]]\n"
       ]
      }
     ],
     "prompt_number": 6
    }
   ],
   "metadata": {}
  }
 ]
}