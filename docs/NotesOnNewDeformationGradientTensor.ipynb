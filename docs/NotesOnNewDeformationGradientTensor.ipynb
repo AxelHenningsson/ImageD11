{
 "cells": [
  {
   "cell_type": "markdown",
   "metadata": {},
   "source": [
    "# Finite strains\n",
    "\n",
    "A quick notebook to try to reduce the problem to looking at some simple pictures. There seems to be a lot more than one way to define the strain tensor components. We use a 2D example for now so it is easier to draw pictures. This is a part two which attempts to get to the point of choosing between some options of different strain tensors."
   ]
  },
  {
   "cell_type": "code",
   "execution_count": null,
   "metadata": {},
   "outputs": [],
   "source": [
    "%matplotlib inline  \n",
    "import matplotlib.pyplot as pl, numpy as np"
   ]
  },
  {
   "cell_type": "markdown",
   "metadata": {},
   "source": [
    "## Reference State\n",
    "\n",
    "Use the case of an in-situ loading experiment where the initial state is known. \n",
    "This is also like the case of mapping around a crack tip in a deforming single crystal.\n",
    "It will not work for residual strain where there is no reference orientation.\n",
    "We will assume the crystal is cubic (square) and was carefully aligned on the diffractometer\n",
    "so the axes are parallel to the axes. The unit cell and lattice vectors in real space are:"
   ]
  },
  {
   "cell_type": "code",
   "execution_count": null,
   "metadata": {},
   "outputs": [],
   "source": [
    "def unstrained_lattice(a0, f):\n",
    "    a = ( a0,  0,  0 )\n",
    "    b = (  0, a0,  0 )\n",
    "    c = ( 0,  0, a0 )\n",
    "    return a, b, c"
   ]
  },
  {
   "cell_type": "markdown",
   "metadata": {},
   "source": [
    "## Pure shear strain\n",
    "We apply a pure shear strain as drawn in some pictures found on the internet. \n",
    "The atoms which were on the laboratory axes move at exactly 90 degrees to the axes and not\n",
    "along the axes. We have \"f\" as symbol for the fractional finite movement. \n",
    "It is not clear whether this \"f\" corresponds to a shear strain $\\epsilon_{12}$"
   ]
  },
  {
   "cell_type": "code",
   "execution_count": null,
   "metadata": {},
   "outputs": [],
   "source": [
    "def pure_shear_lattice(a0, f):\n",
    "    a = (  a0, f*a0,  0)  # vector in x/y/z laboratory space\n",
    "    b = (f*a0,   a0,  0)\n",
    "    c = (   0,    0, a0)\n",
    "    return (a, b, c)"
   ]
  },
  {
   "cell_type": "markdown",
   "metadata": {},
   "source": [
    "## Simple shear strain\n",
    "This case does not seem simple at all. Nevertheless, \n",
    "there are pictures on the internet showing this definition.\n",
    "The loss of symmetry is appalling. We will re-use the same f as before but we are choosing to keep the x-axis parallel to the a axis. A different choice would place it along b."
   ]
  },
  {
   "cell_type": "code",
   "execution_count": null,
   "metadata": {},
   "outputs": [],
   "source": [
    "def simple_shear_lattice(a0, f):\n",
    "    a = (     a0,      0,  0)\n",
    "    b = ( 2*f*a0,     a0,  0)\n",
    "    c = (      0,      0, a0)\n",
    "    return (a, b, c)"
   ]
  },
  {
   "cell_type": "markdown",
   "metadata": {},
   "source": [
    "## Experimental shear strain\n",
    "We imagine a careful experimentalist who realigns their strained crystal on the diffractometer after is has undergone a **pure** strain. Their crystal is beautiful and symmetric but because the realign it this is no longer to easy to see. The lattice vectors are now harder to compute:"
   ]
  },
  {
   "cell_type": "code",
   "execution_count": null,
   "metadata": {},
   "outputs": [],
   "source": [
    "def experimental_shear_lattice(a0, f):\n",
    "    a1 = a0 * np.sqrt(1+f*f)   # length of a and b after straining\n",
    "    phi = 2 * np.arctan(f)  # Rotation angle to realign crystal\n",
    "    a = ( a1, 0, 0 )\n",
    "    b = ( a1*np.sin(phi), a1*np.cos(phi), 0 )\n",
    "    c = ( 0, 0, a0 )\n",
    "    return (a, b, c)"
   ]
  },
  {
   "cell_type": "markdown",
   "metadata": {},
   "source": [
    "## A new Strain Tensor?? What to do here ??\n",
    "So the \"left Cauchy-Green\" or \"Finger\" deformation tensor is the one where you first rotate the crystal and then deform it at the end of the process. It doesn't matter if you put the sample on upside down by accident. This seems like overwhelmingly a better choice for the case of samples that have been dropped. Wikipedia has it as **B**. They have the inverse as **c** and call that the Piola tensor or Finger tensor. In the finite strain tensors section they have a thing they call the Euler-Almansi finite strain tensor reference to the deformed configuration, i.e. the Eulerian description:\n",
    "\n",
    "$ \\mathbf{e} = \\frac{1}{2} (\\mathbf{I} -\\mathbf{c}) = \\frac{1}{2}( \\mathbf{I} - \\mathbf{B}^{-1}) $\n",
    "\n",
    "This is the intention of the function `EulerianAlmansiFiniteStrain`\n",
    "\n",
    "Numerically these are less pretty because of the difference between:\n",
    "\n",
    "$ \\epsilon = \\frac{d - d0}{d0} \\neq \\frac{d - d0}{d} $\n",
    "\n",
    "We can compute a thing which looks like this by analogy to the finite strain literature that suggests anything goes. Because We are putting maths together in the way toddlers to jigsaw puzzles this will be named `NotAGoodIdea` in the code.\n",
    "\n",
    "$ \\mathbf{e} = \\frac{1}{2}( \\mathbf{B} - \\mathbf{I} ) $\n",
    "\n",
    "...but this is not found on wikipedia. As such, I guess the mechanics people will prefer something else. If we take the right-Cauchy-Green option it depends on the initial or reference orientation in the crystal. We will see if we can manage to do it anyway:\n",
    "\n",
    "$ \\mathbf{e} = \\frac{1}{2}( \\mathbf{C} - \\mathbf{I} ) $\n",
    "\n",
    "Following wikipedia (?!?) we have $\\mathbf{C} = \\mathbf{F^T F} $ and $\\mathbf{B} = \\mathbf{B^{-1}}$.\n",
    "\n",
    "In what follows: note that **ubi**$ = (UB)^{-1} = B^{-1}U^{-1} $ so that whenever we use this matrix we want to try ensure the transpose is done to keep the $U$ out of the results. Many hours have been spent with transposes the wrong way around, etc. A seemingly reasonable guess is based on a idea that it takes the reference state to the final state, so that:\n",
    "\n",
    "$ \\mathbf{M_1} = \\mathbf{ F } \\mathbf{M_0} $\n",
    "\n",
    "$ \\mathbf{F} = \\mathbf{ M_1} \\mathbf{M_0^{-1}} $\n",
    "\n",
    "We are picking the **ubi** matrix from the software which is the $\\mathbf{a,b,c}$ lattice vectors as the thing to use as $\\mathbf{M}$. Clearly, this is a guess that might not be right."
   ]
  },
  {
   "cell_type": "code",
   "execution_count": null,
   "metadata": {},
   "outputs": [],
   "source": [
    "from ImageD11.unitcell import unitcell\n",
    "import xfab.tools\n",
    "\n",
    "def GreenLagrangian_A(ubi, reference_cell):\n",
    "    reciprocal_basis = np.linalg.inv( xfab.tools.form_a_mat(reference_cell) )\n",
    "    # ubi = B-1 U-1 so transpose:\n",
    "    F = np.dot( ubi.T, reciprocal_basis ) # U.B-1.Bo\n",
    "    C = np.dot(F.T, F)\n",
    "    E = 0.5*(C-np.eye(3))\n",
    "    return E\n",
    "\n",
    "def GreenLagrangian_B(ubi, reference_cell):\n",
    "    reciprocal_basis = xfab.tools.form_b_mat(reference_cell)/2/np.pi\n",
    "    F = np.dot( ubi.T, reciprocal_basis )\n",
    "    C = np.dot(F.T, F)\n",
    "    E = 0.5*(C-np.eye(3))\n",
    "    return E\n",
    "\n",
    "def EulerianAlmansiFiniteStrain(ubi, reference_cell):\n",
    "    \"\"\"\n",
    "    Compute a Finite Strain Tensor for a grain\n",
    "    with ImageD11 indexing matrix UBI == [a,b,c] lattice vectors\n",
    "    in real space. The strain is with reference to a \n",
    "    reference_cell = [a,b,c,alpha,beta,gamma]\n",
    "    We suppress the effect of rotation and try to copy an \n",
    "    equation from wikipedia\n",
    "    \"\"\"\n",
    "    reciprocal_metric_tensor = unitcell(reference_cell).gi\n",
    "    # Deformation Gradient Tensor:\n",
    "    # F = np.dot( ubi, reciprocal_basis )\n",
    "    # Left Cauchy Green\n",
    "    # B = np.dot( F, F.T )\n",
    "    B = np.dot( np.dot( ubi.T, reciprocal_metric_tensor ), ubi)\n",
    "    e = 0.5*(np.eye(3)-np.linalg.inv(B))\n",
    "    return e\n",
    "\n",
    "def NotAGoodIdea(ubi, reference_cell):\n",
    "    \"\"\"\n",
    "    Compute a Finite Strain Tensor for a grain\n",
    "    with ImageD11 indexing matrix UBI == [a,b,c] lattice vectors\n",
    "    in real space. The strain is with reference to a \n",
    "    reference_cell = [a,b,c,alpha,beta,gamma]\n",
    "    We suppress the effect of rotation but reference to an\n",
    "    initial state (e.g. (d-d0)/d0 rather than (d-d0)/d)\n",
    "    \"\"\"\n",
    "    reciprocal_metric_tensor = unitcell(reference_cell).gi\n",
    "    # Deformation Gradient Tensor:\n",
    "    # F = np.dot( ubi, reciprocal_basis )\n",
    "    # Left Cauchy Green\n",
    "    # B = np.dot( F, F.T )\n",
    "    B = np.dot( np.dot( ubi.T, reciprocal_metric_tensor ), ubi)\n",
    "    e = 0.5*(B - np.eye(3))\n",
    "    return e\n"
   ]
  },
  {
   "cell_type": "markdown",
   "metadata": {},
   "source": [
    "## What do these look like?\n",
    "We will plot the three lattices on three plots for some different values of f."
   ]
  },
  {
   "cell_type": "code",
   "execution_count": null,
   "metadata": {
    "scrolled": false
   },
   "outputs": [],
   "source": [
    "from ImageD11.grain import grain\n",
    "\n",
    "def plot_lattice( ubi, ax ):\n",
    "    # walk around the x/y square:\n",
    "    points = [ (0,0,0), (1,0,0), (1,1,0), (0,1,0), (0,0,0) ]\n",
    "    x,y,z = np.dot( points, ubi).T\n",
    "    ax.plot( x, y, \"o-\" )\n",
    "    ax.text(x[1],y[1],'a')\n",
    "    ax.text(x[-2],y[-2],'b')\n",
    "    ax.set_xlabel(\"x\")\n",
    "    ax.set_aspect(\"equal\")\n",
    "    \n",
    "def plotstrain(lattice, a0, f, name, reference_cell):\n",
    "    g0 = grain( np.linalg.inv(unitcell(reference_cell).B) )\n",
    "    ubi0 = g0.ubi\n",
    "    g = grain( lattice(a0,f) )\n",
    "    fig, ax = pl.subplots(1,1,\n",
    "                          figsize=(4,4))\n",
    "    plot_lattice( ubi0 , ax )\n",
    "    plot_lattice( g.ubi, ax )\n",
    "    ax.set_title(\"%.2f %s\"%(f, name))\n",
    "    pl.show()\n",
    "    np.set_printoptions(floatmode='fixed', precision=6, suppress=True)            \n",
    "    print(name,\"unit cell\",g.unitcell)\n",
    "    print(\"dzero unit cell\",g0.unitcell)\n",
    "    print(\"UBI:\")\n",
    "    print(g.ubi)\n",
    "    print(\"UBI0:\")\n",
    "    print(g0.ubi)\n",
    "    np.set_printoptions(floatmode='fixed', precision=1, suppress=True)\n",
    "    print(\"Grain co-ordinates micro eps\")\n",
    "    print(g.eps_grain_matrix(g0.unitcell)*1e6)\n",
    "    print(\"Sample co-ordinates micro eps\")\n",
    "    print(g.eps_sample_matrix(g0.unitcell)*1e6)    \n",
    "    EAFS  = EulerianAlmansiFiniteStrain( g.ubi, g0.unitcell )\n",
    "    print(\"Euler Almansi Finite Strain\")\n",
    "    print(EAFS*1e6)\n",
    "    NAGI  = NotAGoodIdea( g.ubi, g0.unitcell )\n",
    "    print(\"Not A Good Idea based strain\")\n",
    "    print(NAGI*1e6)\n",
    "    print(\"GreenLagrangian_A\")\n",
    "    print(GreenLagrangian_A(g.ubi, g0.unitcell)*1e6)\n",
    "    print(\"GreenLagrangian_B\")\n",
    "    print(GreenLagrangian_B(g.ubi, g0.unitcell)*1e6)\n",
    "    \n",
    "    \n",
    "a0 = 4.\n",
    "f = 0.1\n",
    "reference_cell = [a0,a0,a0,90,90,90]\n",
    "\n",
    "def flipped(a0,f):\n",
    "    a, b, c = np.array( simple_shear_lattice( a0, f ) )\n",
    "    return (b, a, -c )\n",
    "    \n",
    "lattices = {\n",
    "    \"Pure Shear\" : pure_shear_lattice,\n",
    "    \"Experimental pure\" : experimental_shear_lattice,\n",
    "    \"Simple Shear\" : simple_shear_lattice,\n",
    "    \"Flipped Simple\" : flipped\n",
    "}    \n",
    "\n",
    "for name in lattices:\n",
    "    print(\"============================================================\")\n",
    "    plotstrain(lattices[name], a0, f, name, reference_cell)"
   ]
  },
  {
   "cell_type": "markdown",
   "metadata": {},
   "source": [
    "Now we bring the reference cell closer to distorted"
   ]
  },
  {
   "cell_type": "code",
   "execution_count": null,
   "metadata": {
    "scrolled": false
   },
   "outputs": [],
   "source": [
    "a0 = 4.\n",
    "f = 0.1\n",
    "reference_cell = [a0,a0,a0,90,90,79.]\n",
    "\n",
    "def flipped(a0,f):\n",
    "    a, b, c = np.array( simple_shear_lattice( a0, f ) )\n",
    "    return (b, a, -c )\n",
    "    \n",
    "lattices = {\n",
    "    \"pure\" : pure_shear_lattice,\n",
    "    \"experimental pure\" : experimental_shear_lattice,\n",
    "    \"simple\" : simple_shear_lattice,\n",
    "    \"flipped\" : flipped\n",
    "}    \n",
    "\n",
    "for name in lattices:\n",
    "    print(\"============================================================\")\n",
    "    plotstrain(lattices[name], a0, f, name, reference_cell)"
   ]
  },
  {
   "cell_type": "code",
   "execution_count": null,
   "metadata": {},
   "outputs": [],
   "source": []
  }
 ],
 "metadata": {
  "kernelspec": {
   "display_name": "Python 3",
   "language": "python",
   "name": "python3"
  },
  "language_info": {
   "codemirror_mode": {
    "name": "ipython",
    "version": 3
   },
   "file_extension": ".py",
   "mimetype": "text/x-python",
   "name": "python",
   "nbconvert_exporter": "python",
   "pygments_lexer": "ipython3",
   "version": "3.7.6"
  }
 },
 "nbformat": 4,
 "nbformat_minor": 4
}
