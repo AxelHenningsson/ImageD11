{
 "cells": [
  {
   "cell_type": "code",
   "execution_count": null,
   "id": "07afc3da-8ce0-4717-ac4c-f2d746148cd4",
   "metadata": {
    "tags": []
   },
   "outputs": [],
   "source": [
    "exec(open('/data/id11/nanoscope/install_ImageD11_from_git.py').read())\n",
    "PYTHONPATH = setup_ImageD11_from_git( )"
   ]
  },
  {
   "cell_type": "code",
   "execution_count": null,
   "id": "ed9d32b5-bf86-4633-9928-afae3df0226d",
   "metadata": {
    "tags": []
   },
   "outputs": [],
   "source": [
    "%matplotlib widget\n",
    "import h5py, hdf5plugin\n",
    "import numpy as np, matplotlib.pyplot as plt\n",
    "import silx.io\n",
    "import scipy.ndimage, fabio\n",
    "import ImageD11.frelon_peaksearch\n",
    "import ImageD11.blobcorrector\n",
    "import ipywidgets\n",
    "import ImageD11.transformer"
   ]
  },
  {
   "cell_type": "code",
   "execution_count": null,
   "id": "cbfde13c-0b61-440a-b105-27a30194cf0b",
   "metadata": {
    "tags": []
   },
   "outputs": [],
   "source": [
    "masterfile = \"/data/id11/3dxrd/ihma233/id11/CeO2/CeO2_align/CeO2_align.h5\"\n",
    "scan = \"39.1\"\n",
    "detector = \"frelon3\"\n",
    "energy = 43.35\n",
    "print(energy)"
   ]
  },
  {
   "cell_type": "code",
   "execution_count": null,
   "id": "bc515a1e-23f9-4e71-a298-143fa872ad1c",
   "metadata": {
    "tags": []
   },
   "outputs": [],
   "source": [
    "darkscan = \"34.1\" # first 7 frames:\n",
    "dark = silx.io.get_data( f\"silx:{masterfile}::{darkscan}/measurement/{detector}\" )[0:7].mean(axis=0, dtype=np.float32)"
   ]
  },
  {
   "cell_type": "code",
   "execution_count": null,
   "id": "8e4ff2dc-5bd6-4ae2-9258-c19330d90c3c",
   "metadata": {
    "tags": []
   },
   "outputs": [],
   "source": [
    "frames = silx.io.get_data( f\"silx:{masterfile}::{scan}/measurement/{detector}\" )\n",
    "frames.shape"
   ]
  },
  {
   "cell_type": "code",
   "execution_count": null,
   "id": "39f5d07a-328a-4f0f-be5a-210222657c5a",
   "metadata": {
    "tags": []
   },
   "outputs": [],
   "source": [
    "if detector.find('frelon')>=0:\n",
    "    \n",
    "    serial = silx.io.get_data( f\"silx:{masterfile}::{darkscan}/instrument/{detector}/camera_settings/camera_serial\" )\n",
    "    print(\"Detector serial\", serial )\n",
    "    if serial == \"21\":\n",
    "        flat = silx.io.get_data( f\"fabio:/data/id11/3dxrd/inhouse/Frelon21/F21_flat_july18.edf\" )\n",
    "        e2dxfile = \"/data/id11/3dxrd/inhouse/Frelon21/F21dxnew.edf\"\n",
    "        e2dyfile = \"/data/id11/3dxrd/inhouse/Frelon21/F21dynew.edf\"\n",
    "        pixelsize = float(fabio.open(e2dxfile).header['PSize_1'].split()[0])*1e6 # microns\n",
    "        print('Pixel size', pixelsize )\n",
    "    if serial == \"36\": \n",
    "        flat = silx.io.get_data( f\"fabio:/data/id11/3dxrd/inhouse/Frelon36/F36_Nov2023.edf\" )\n",
    "        flat = flat / flat[500:-500, 500:-500].mean()\n",
    "        e2dxfile = \"fabio:/data/id11/3dxrd/inhouse/Frelon36/f36dx.edf\"\n",
    "        e2dyfile = f\"fabio:/data/id11/3dxrd/inhouse/Frelon36/f36dy.edf\"\n",
    "        pixelsize = float(fabio.open(e2dxfile).header['PSize_1'].split()[0])*1e6 # microns\n",
    "    if serial == \"29\":\n",
    "        flat = silx.io.get_data( f\"fabio:/data/id11/3dxrd/inhouse/Frelon4M/c29_Agfilt_flat-dark.edf\" )\n",
    "        e2dxfile = \"fabio:/data/id11/3dxrd/inhouse/Frelon4M/F4M_EO_dx.edf\"\n",
    "        e2dyfile = \"fabio:/data/id11/3dxrd/inhouse/Frelon4M/F4M_EO_dy.edf\"\n",
    "        pixelsize = float(fabio.open(e2dxfile).header['PSize_1'].split()[0])*1e6 # microns\n",
    "        \n",
    "    print( \"Average flat, should be close to 1 : \",flat[100:-100, 100:-100].mean() )\n",
    "        \n",
    "    cor = ( frames - dark[ None, :, :] ).mean( axis = 0, dtype = np.float32 ) / flat\n",
    "    \n",
    "else: # eiger\n",
    "    \n",
    "    cor = frames.mean( axis = 0, dtype = np.float32 )\n",
    "    \n",
    "    e2dxfile = \"/data/id11/nanoscope/Eiger/e2dx_E-08-0144_20240205.edf\"\n",
    "    e2dyfile = \"/data/id11/nanoscope/Eiger/e2dy_E-08-0144_20240205.edf\""
   ]
  },
  {
   "cell_type": "code",
   "execution_count": null,
   "id": "2d4d3e39-6615-41da-9a49-7c3687306957",
   "metadata": {
    "tags": []
   },
   "outputs": [],
   "source": [
    "def guess_median_bg( img, size=91 ):\n",
    "    m0 = scipy.ndimage.median_filter( cor, (size,1))\n",
    "    m1 = scipy.ndimage.median_filter( cor, (1,size))\n",
    "    bg = np.where(m0<m1,m0,m1)\n",
    "    return bg"
   ]
  },
  {
   "cell_type": "code",
   "execution_count": null,
   "id": "573b0d4f-6a00-43d1-bd30-cb2d1db87a0c",
   "metadata": {
    "tags": []
   },
   "outputs": [],
   "source": [
    "lowcut = 200 # low cutoff for masking, check next plot\n",
    "mask = ( cor < 4e9 ) & (cor > lowcut )\n",
    "\n",
    "bg = guess_median_bg( cor )\n",
    "\n",
    "signal = ((cor - bg )*mask).clip(0,None)"
   ]
  },
  {
   "cell_type": "code",
   "execution_count": null,
   "id": "631b7295-1b53-4fac-994d-62967e242662",
   "metadata": {
    "tags": []
   },
   "outputs": [],
   "source": [
    "f,(a,b) = plt.subplots( 2, 2, figsize=(8, 6), constrained_layout=True )\n",
    "f.colorbar( a[1].imshow( cor * mask ) )\n",
    "f.colorbar( b[1].imshow( signal ) )\n",
    "a[0].plot( cor[ 1024, : ] )\n",
    "a[0].plot( cor[ :, 1024 ] )\n",
    "a[0].set(xlabel='pixel', ylabel='intensity')\n",
    "b[0].plot( signal[ 1024, : ] )\n",
    "b[0].plot( signal[ :, 1024 ] )\n",
    "b[0].set(xlabel='pixel', ylabel='intensity', ylim=(0, None) );"
   ]
  },
  {
   "cell_type": "code",
   "execution_count": null,
   "id": "0dd443d3-9be7-4c84-a1cc-502d3c4aab0a",
   "metadata": {
    "tags": []
   },
   "outputs": [],
   "source": [
    "# Old way, using command line:\n",
    "# !powderimagetopeaks.py CeO2_for_S5_blue_rot_clean.edf CeO2_for_S5_blue_rot_clean0000.edf CeO2_for_S5_blue_rot_clean0001.edf 1024 1024\n",
    "def powderimagetopeaks( img, ci = 1024, cj = 1024 ):\n",
    "    # cuts into 1 degree bins\n",
    "    si, sj = img.shape\n",
    "    i, j = np.mgrid[0:si,0:sj]\n",
    "    phi = np.arctan2( i - ci, j - cj ) * 361 / np.pi\n",
    "    return (phi%2).astype(int) == 0"
   ]
  },
  {
   "cell_type": "code",
   "execution_count": null,
   "id": "dbc62cc4-03aa-4f33-a4a8-431b4e6fa00d",
   "metadata": {
    "tags": []
   },
   "outputs": [],
   "source": [
    "# old way:\n",
    "# !peaksearch.py -n CeO2_for_S5_blue_rot_clean -f 0 -l 1 -p N -s /data/id11/3dxrd/inhouse/Frelon36/frelon36.spline -t 5000 -t 10000 -t 20000 -t 40000 -o CeO2_for_S5_blue_rot_clean.spt "
   ]
  },
  {
   "cell_type": "code",
   "execution_count": null,
   "id": "ebe6849c-0b51-4ec2-95b8-2caefc9b75c5",
   "metadata": {
    "tags": []
   },
   "outputs": [],
   "source": [
    "worker = ImageD11.frelon_peaksearch.worker(None, None)\n",
    "pkmsk = powderimagetopeaks( signal )\n",
    "pks = np.concatenate( (\n",
    "     worker.peaksearch( signal * pkmsk ),     # even degrees\n",
    "     worker.peaksearch( signal * (1-pkmsk)), # odd degrees\n",
    "    ) , axis = 0 )\n",
    "pks.shape"
   ]
  },
  {
   "cell_type": "code",
   "execution_count": null,
   "id": "8d7cefae-e1f3-4bad-9a07-454b592a8ccc",
   "metadata": {
    "tags": []
   },
   "outputs": [],
   "source": [
    "from ImageD11.cImageD11 import s_1, s_I, s_sI, s_fI\n",
    "colfile = ImageD11.columnfile.colfile_from_dict( {\n",
    "    \"s_raw\" : pks[ :, s_sI ] / pks[ :, s_I ],\n",
    "    \"f_raw\" : pks[ :, s_fI ] / pks[ :, s_I ],\n",
    "    \"Number_of_pixels\" : pks[ :, s_1 ], \n",
    "    \"sum_intensity\" : pks[ :, s_I ],\n",
    "    \"omega\" : np.zeros( len(pks), float ),\n",
    "} )"
   ]
  },
  {
   "cell_type": "code",
   "execution_count": null,
   "id": "1fa38247-7d08-45cd-aeec-4618ac178917",
   "metadata": {
    "tags": []
   },
   "outputs": [],
   "source": [
    "f, a = plt.subplots(1,2, figsize=(8,5), constrained_layout=True)\n",
    "a[0].plot( colfile.f_raw, colfile.s_raw, \".\", ms = 1)\n",
    "a[0].set( ylabel=\"detector slow direction\", xlabel=\"detector fast direction\", aspect='equal')\n",
    "a[1].plot( colfile.Number_of_pixels, colfile.sum_intensity, \".\", ms =1 )\n",
    "a[1].set( xlabel=\"Number of pixels\", ylabel=\"sum intensity\", yscale='log', xscale='log');"
   ]
  },
  {
   "cell_type": "code",
   "execution_count": null,
   "id": "2a543865-9505-4b25-bab3-f130546bcbff",
   "metadata": {
    "tags": []
   },
   "outputs": [],
   "source": [
    "# old way\n",
    "# !spatialfix.py frelon36_spline_dx.edf frelon36_spline_dy.edf CeO2_for_S5_blue_rot_clean_t5000.flt CeO2_for_S5_blue_rot_clean_spline_t5000.flt"
   ]
  },
  {
   "cell_type": "code",
   "execution_count": null,
   "id": "abec9195-69d1-44f8-9238-e549ee68fbf6",
   "metadata": {
    "tags": []
   },
   "outputs": [],
   "source": [
    "colfile = ImageD11.blobcorrector.eiger_spatial( e2dxfile, e2dyfile )(colfile)"
   ]
  },
  {
   "cell_type": "code",
   "execution_count": null,
   "id": "bad00d35-5618-4a79-969b-ef2328e74447",
   "metadata": {
    "tags": []
   },
   "outputs": [],
   "source": [
    "# input data from peaksearch and starting parameter file:\n",
    "trans=ImageD11.transformer.transformer()\n",
    "trans.colfile = colfile\n",
    "trans.setxyomcols(\"sc\", \"fc\", \"omega\")"
   ]
  },
  {
   "cell_type": "code",
   "execution_count": null,
   "id": "62bc178a-d49a-4242-b4a6-9566c324fd6a",
   "metadata": {
    "tags": []
   },
   "outputs": [],
   "source": [
    "distance = 210 * 1e3 # micron\n",
    "wavelength = 12.3984 / energy"
   ]
  },
  {
   "cell_type": "code",
   "execution_count": null,
   "id": "ce7a07c4-b353-4be7-989f-22a8150848f9",
   "metadata": {
    "tags": []
   },
   "outputs": [],
   "source": [
    "wavelength, energy"
   ]
  },
  {
   "cell_type": "code",
   "execution_count": null,
   "id": "f9ba5882-5236-47bf-b85c-0982c4db89c0",
   "metadata": {
    "tags": []
   },
   "outputs": [],
   "source": [
    "trans.parameterobj.set( 'y_size', pixelsize )\n",
    "trans.parameterobj.set( 'z_size', pixelsize )\n",
    "trans.parameterobj.set( 'distance', distance )\n",
    "trans.parameterobj.set( 'wavelength', wavelength )"
   ]
  },
  {
   "cell_type": "code",
   "execution_count": null,
   "id": "639cd3aa-b35d-41a7-acb5-335042c68fc0",
   "metadata": {
    "tags": []
   },
   "outputs": [],
   "source": [
    "# unit cell\n",
    "a = 5.4115260\n",
    "[ trans.parameterobj.set( f'cell__{x}', a ) for x in 'abc']\n",
    "[ trans.parameterobj.set( f'cell_{x}', 90 ) for x in ('alpha','beta','gamma')]\n",
    "trans.parameterobj.set('cell_lattice_[P,A,B,C,I,F,R]', \"F\" )"
   ]
  },
  {
   "cell_type": "code",
   "execution_count": null,
   "id": "20a04c19-5065-4edd-8241-df851a686c6d",
   "metadata": {
    "tags": []
   },
   "outputs": [],
   "source": [
    "def parCallBack( arg ):\n",
    "    trans.parameterobj.parameters.update( { arg['owner'].description : arg['new'] } )\n",
    "    drawPlot()\n",
    "    \n",
    "def fixVaryCallBack( arg ):\n",
    "    name = arg['owner'].description.split(\" \")[1]\n",
    "    vars = trans.getvars()\n",
    "    if arg.new and not (name in vars):\n",
    "        vars.append( name )\n",
    "    if name in vars and not arg.new:\n",
    "        vars.remove(name)\n",
    "    trans.parameterobj.set_varylist(vars)\n",
    "    \n",
    "def fitCallBack(arg):\n",
    "    \"\"\" fit call back - runs fit \"\"\"\n",
    "    lo, hi = ax1.get_xlim()\n",
    "    trans.fit( lo, hi )\n",
    "    for i, pname in enumerate(vars):\n",
    "        layout[i,0].value = trans.parameterobj.get(pname)\n",
    "    drawPlot()\n",
    "    \n",
    "def drawPlot():\n",
    "    tth, eta = trans.compute_tth_eta()\n",
    "    pt1.set_data( tth, eta )\n",
    "    fig.canvas.update\n",
    "\n",
    "# Things to be edited in the UI\n",
    "vars = \"y_center z_center distance tilt_y tilt_z\".split()\n",
    "steps = (1,         1,       100,     0.01, 0.01, 0)\n",
    "nv = len(vars)\n",
    "\n",
    "# Draw the widgets:\n",
    "layout = ipywidgets.GridspecLayout(nv+1,2)\n",
    "for i,( pname, pstep ) in enumerate( zip( vars, steps ) ) :\n",
    "    layout[i,0] = ipywidgets.FloatText( description=pname, \n",
    "        value = trans.parameterobj.parameters.get(pname),\n",
    "        step=pstep)\n",
    "    layout[i,0].observe( parCallBack , names='value' )\n",
    "    layout[i,1] = ipywidgets.ToggleButton( description=\"Vary \"+pname, \n",
    "        value = pname in trans.getvars() )\n",
    "    layout[i,1].observe( fixVaryCallBack, names='value' )\n",
    "    \n",
    "layout[nv,0] = ipywidgets.FloatText( description='fit_tolerance', \n",
    "        value = trans.parameterobj.parameters.get(\"fit_tolerance\"), step=0,)\n",
    "layout[nv,0].observe( parCallBack , names='value' )\n",
    "\n",
    "layout[nv,1] = ipywidgets.Button(description=\"Run Fit (blocks)\")\n",
    "layout[nv,1].on_click( fitCallBack )\n",
    "\n",
    "\n",
    "# Draw plot\n",
    "fig1 = plt.figure(figsize=(9,6))\n",
    "ax1 = fig1.add_subplot()\n",
    "tth, eta = trans.compute_tth_eta()\n",
    "trans.addcellpeaks()\n",
    "pt1, = ax1.plot( tth, eta, \",\")\n",
    "ax1.set(xlabel=\"tth\", ylabel=\"eta\")\n",
    "ax1.plot( trans.theorytth, [0,]*len(trans.theorytth), \"r|\", ms=360, alpha=0.2 )\n",
    "# Add controls\n",
    "display(layout)"
   ]
  },
  {
   "cell_type": "code",
   "execution_count": null,
   "id": "36bbea15-894b-4424-abe9-1e34702da583",
   "metadata": {
    "tags": []
   },
   "outputs": [],
   "source": [
    "import pprint\n",
    "pprint.pprint( trans.parameterobj.parameters )"
   ]
  },
  {
   "cell_type": "code",
   "execution_count": null,
   "id": "c0c4bd4e-b7d6-4234-8442-283f314c6a54",
   "metadata": {},
   "outputs": [],
   "source": [
    "trans.parameterobj.saveparameters('CeO2_fitted.par')"
   ]
  },
  {
   "cell_type": "code",
   "execution_count": null,
   "id": "f2a17baf-133e-4a87-b900-8448bccc0eee",
   "metadata": {
    "tags": []
   },
   "outputs": [],
   "source": [
    "12.3985 / trans.parameterobj.get('wavelength')"
   ]
  },
  {
   "cell_type": "code",
   "execution_count": null,
   "id": "a29f6ee3-95f5-4e97-b03b-4fdd6deb4c71",
   "metadata": {},
   "outputs": [],
   "source": []
  }
 ],
 "metadata": {
  "kernelspec": {
   "display_name": "Python 3 (main)",
   "language": "python",
   "name": "python3"
  },
  "language_info": {
   "codemirror_mode": {
    "name": "ipython",
    "version": 3
   },
   "file_extension": ".py",
   "mimetype": "text/x-python",
   "name": "python",
   "nbconvert_exporter": "python",
   "pygments_lexer": "ipython3",
   "version": "3.11.6"
  }
 },
 "nbformat": 4,
 "nbformat_minor": 5
}
