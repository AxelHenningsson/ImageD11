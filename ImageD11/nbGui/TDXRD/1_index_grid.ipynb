{
 "cells": [
  {
   "cell_type": "markdown",
   "id": "9f197eab-b00a-415b-857f-78b679c52690",
   "metadata": {
    "tags": []
   },
   "source": [
    "# Jupyter notebook based on ImageD11 to process 3DXRD data\n",
    "# Written by Haixing Fang, Jon Wright and James Ball\n",
    "## Date: 21/02/2025"
   ]
  },
  {
   "cell_type": "code",
   "execution_count": null,
   "id": "bdf2e7f7-773b-464e-a0b1-5cb56a76676e",
   "metadata": {
    "tags": []
   },
   "outputs": [],
   "source": [
    "import os\n",
    "\n",
    "os.environ['OMP_NUM_THREADS'] = '1'\n",
    "os.environ['OPENBLAS_NUM_THREADS'] = '1'\n",
    "os.environ['MKL_NUM_THREADS'] = '1'\n",
    "\n",
    "exec(open('/data/id11/nanoscope/install_ImageD11_from_git.py').read())"
   ]
  },
  {
   "cell_type": "code",
   "execution_count": null,
   "id": "9686b3bc-6618-4a1c-b440-2a8ebc3ab9de",
   "metadata": {
    "tags": [
     "parameters"
    ]
   },
   "outputs": [],
   "source": [
    "# this cell is tagged with 'parameters'\n",
    "# to view the tag, select the cell, then find the settings gear icon (right or left sidebar) and look for Cell Tags\n",
    "\n",
    "PYTHONPATH = setup_ImageD11_from_git( ) # ( os.path.join( os.environ['HOME'],'Code'), 'ImageD11_git' )\n",
    "\n",
    "# desination of H5 files\n",
    "# replace below with e.g.:\n",
    "# dset_path = '/data/visitor/expt1234/20240101/PROCESSED_DATA/sample/dataset/sample_dataset.h5'\n",
    "\n",
    "dset_path = ''\n",
    "\n",
    "phase_str = 'Fe'\n",
    "\n",
    "# path to parameters .json/.par\n",
    "parfile = ''\n",
    "\n",
    "# peak filtration options\n",
    "cf_strong_frac = 0.999\n",
    "cf_strong_dsmax = 1.017\n",
    "cf_strong_dstol = 0.025\n",
    "\n",
    "# indexing options\n",
    "rings_to_use = [0, 1, 3]\n",
    "\n",
    "# makemap options\n",
    "symmetry = \"cubic\"\n",
    "makemap_tol_seq = [0.02, 0.015, 0.01]\n",
    "\n",
    "gridpars = {\n",
    "        'DSTOL' : 0.004,\n",
    "        'RING1'  : [1,0,],\n",
    "        'RING2' : [0,],\n",
    "        'NUL' : True,\n",
    "        'FITPOS' : True,\n",
    "        'tolangle' : 0.50,\n",
    "        'toldist' : 100.,\n",
    "        'NTHREAD' : 1 ,\n",
    "}\n",
    "\n",
    "grid_xlim = 600  # um - extent away from rotation axis to search for grains\n",
    "grid_ylim = 600\n",
    "grid_zlim = 200\n",
    "grid_step = 100  # step size of search grid, um\n",
    "\n",
    "# fraction of expected number of peaks to accept in Makemap output\n",
    "frac = 0.85\n",
    "\n",
    "# find the spike\n",
    "absolute_minpks = 56\n",
    "\n",
    "dset_prefix = 'ff'"
   ]
  },
  {
   "cell_type": "code",
   "execution_count": null,
   "id": "16f32f19-7eaa-4e4b-a347-3b9a44f8ada1",
   "metadata": {
    "tags": []
   },
   "outputs": [],
   "source": [
    "# import functions we need\n",
    "\n",
    "import os, glob, pprint\n",
    "import numpy as np\n",
    "import h5py\n",
    "from tqdm.notebook import tqdm\n",
    "\n",
    "import matplotlib\n",
    "%matplotlib widget\n",
    "from matplotlib import pyplot as plt\n",
    "\n",
    "# import utils\n",
    "from ImageD11.nbGui import nb_utils as utils\n",
    "\n",
    "import ImageD11.grain\n",
    "import ImageD11.indexing\n",
    "import ImageD11.columnfile\n",
    "from ImageD11.sinograms import properties, dataset\n",
    "\n",
    "from ImageD11.blobcorrector import eiger_spatial\n",
    "from ImageD11.peakselect import select_ring_peaks_by_intensity"
   ]
  },
  {
   "cell_type": "code",
   "execution_count": null,
   "id": "8f366d52-a560-4f08-bb1e-6d585cc41f4d",
   "metadata": {
    "tags": []
   },
   "outputs": [],
   "source": [
    "# load the dataset from file\n",
    "\n",
    "ds = ImageD11.sinograms.dataset.load(dset_path)\n",
    "\n",
    "sample = ds.sample\n",
    "dataset = ds.dset\n",
    "rawdata_path = ds.dataroot\n",
    "processed_data_root_dir = ds.analysisroot\n",
    "\n",
    "print(ds)\n",
    "print(ds.shape)"
   ]
  },
  {
   "cell_type": "code",
   "execution_count": null,
   "id": "a6bbd76b-aae4-42c6-b850-5165efc651b0",
   "metadata": {},
   "outputs": [],
   "source": [
    "# also set our parameters for indexing\n",
    "ds.parfile = parfile\n",
    "ds.save()"
   ]
  },
  {
   "cell_type": "code",
   "execution_count": null,
   "id": "5622b831-3fec-4b49-a1eb-d40fe25584a1",
   "metadata": {},
   "outputs": [],
   "source": [
    "ds.phases = ds.get_phases_from_disk()\n",
    "ds.phases.unitcells"
   ]
  },
  {
   "cell_type": "code",
   "execution_count": null,
   "id": "16ae5fb2-de97-468c-b83c-82fc72d3aa56",
   "metadata": {
    "tags": []
   },
   "outputs": [],
   "source": [
    "# now let's select a phase to index from our parameters json\n",
    "\n",
    "ucell = ds.phases.unitcells[phase_str]\n",
    "\n",
    "print(ucell.lattice_parameters, ucell.spacegroup)"
   ]
  },
  {
   "cell_type": "code",
   "execution_count": null,
   "id": "f8b62f6a-0290-474c-b704-742293397518",
   "metadata": {
    "tags": []
   },
   "outputs": [],
   "source": [
    "# load 3d columnfile from disk\n",
    "\n",
    "cf_3d = ds.get_cf_3d_from_disk()\n",
    "ds.update_colfile_pars(cf_3d, phase_name=phase_str) \n",
    "\n",
    "cf_3d_path = f'{sample}_{dataset}_3d_peaks.flt'\n",
    "cf_3d.writefile(cf_3d_path)"
   ]
  },
  {
   "cell_type": "code",
   "execution_count": null,
   "id": "2058371d-b908-4698-b567-67126bbb144a",
   "metadata": {
    "tags": []
   },
   "outputs": [],
   "source": [
    "# plot the 3D peaks (fewer of them) as a cake (two-theta vs eta)\n",
    "# if the parameters in the par file are good, these should look like straight lines\n",
    "\n",
    "ucell.makerings(cf_3d.ds.max())\n",
    "\n",
    "fig, ax = plt.subplots(figsize=(16,9), layout='constrained')\n",
    "\n",
    "ax.scatter(cf_3d.ds, cf_3d.eta, s=1)\n",
    "ax.vlines(ucell.ringds, -50, 50, zorder=0, color='red')\n",
    "\n",
    "ax.set_xlabel(\"D-star\")\n",
    "ax.set_ylabel(\"eta\")\n",
    "\n",
    "plt.show()"
   ]
  },
  {
   "cell_type": "code",
   "execution_count": null,
   "id": "3f8d51c9-b2f9-418c-a4b9-746d84dfbbb8",
   "metadata": {
    "tags": []
   },
   "outputs": [],
   "source": [
    "# here we are filtering our peaks (cf_3d) to select only the strongest ones for indexing purposes only!\n",
    "# dsmax is being set to limit rings given to the indexer - 6-8 rings is normally good\n",
    "\n",
    "# USER: modify the \"frac\" parameter below and re-run the cell until the orange dot sits nicely on the \"elbow\" of the blue line\n",
    "# this indicates the fractional intensity cutoff we will select\n",
    "# if the blue line does not look elbow-shaped in the logscale plot, try changing the \"doplot\" parameter (the y scale of the logscale plot) until it does\n",
    "\n",
    "cf_strong = select_ring_peaks_by_intensity(cf_3d, frac=cf_strong_frac, dsmax=cf_strong_dsmax, doplot=0.5, dstol=cf_strong_dstol)\n",
    "print(f\"Got {cf_strong.nrows} strong peaks for indexing\")"
   ]
  },
  {
   "cell_type": "code",
   "execution_count": null,
   "id": "b37656ec-1d8b-4ada-bf39-de97842950f1",
   "metadata": {},
   "outputs": [],
   "source": [
    "# we will also export some additional strong peaks across all rings\n",
    "# this will be useful for grain refinement later (using makemap)\n",
    "\n",
    "cf_strong_allrings = select_ring_peaks_by_intensity(cf_3d, frac=cf_strong_frac, dsmax=cf_3d.ds.max(), doplot=0.5, dstol=cf_strong_dstol)\n",
    "print(f\"Got {cf_strong_allrings.nrows} strong peaks for makemap\")\n",
    "cf_strong_allrings_path = f'{sample}_{dataset}_3d_peaks_strong_all_rings.flt'\n",
    "cf_strong_allrings.writefile(cf_strong_allrings_path)"
   ]
  },
  {
   "cell_type": "code",
   "execution_count": null,
   "id": "e3d423d9-15b3-4d0e-9824-168c0e8bceea",
   "metadata": {
    "tags": []
   },
   "outputs": [],
   "source": [
    "# now we can take a look at the intensities of the remaining peaks\n",
    "\n",
    "fig, ax = plt.subplots(figsize=(16, 9), constrained_layout=True)\n",
    "\n",
    "ax.plot(cf_3d.ds, cf_3d.sum_intensity,',', label='cf_3d')\n",
    "ax.plot(cf_strong.ds, cf_strong.sum_intensity,',', label='cf_strong')\n",
    "ax.vlines(ucell.ringds, 1e3, 1e4, zorder=0, color='red')\n",
    "\n",
    "ax.semilogy()\n",
    "\n",
    "ax.set_xlabel(\"Dstar\")\n",
    "ax.set_ylabel(\"Intensity\")\n",
    "ax.legend()\n",
    "\n",
    "plt.show()"
   ]
  },
  {
   "cell_type": "code",
   "execution_count": null,
   "id": "6a2e4aaa-3caf-4af5-8d2e-312a0aa31956",
   "metadata": {
    "tags": []
   },
   "outputs": [],
   "source": [
    "# specify our ImageD11 indexer with these peaks\n",
    "\n",
    "indexer = ImageD11.indexing.indexer_from_colfile_and_ucell(cf_strong, ucell)\n",
    "\n",
    "print(f\"Indexing {cf_strong.nrows} peaks\")\n",
    "\n",
    "# USER: set a tolerance in d-space (for assigning peaks to powder rings)\n",
    "indexer.ds_tol = cf_strong_dstol\n",
    "\n",
    "# change the log level so we can see what the ring assigments look like\n",
    "\n",
    "ImageD11.indexing.loglevel = 1\n",
    "\n",
    "# assign peaks to powder rings\n",
    "\n",
    "indexer.assigntorings()\n",
    "\n",
    "# change log level back again\n",
    "\n",
    "ImageD11.indexing.loglevel = 3"
   ]
  },
  {
   "cell_type": "code",
   "execution_count": null,
   "id": "db701ea9-de81-43b9-b68d-3b78a77f9520",
   "metadata": {
    "tags": []
   },
   "outputs": [],
   "source": [
    "# let's plot the assigned peaks\n",
    "\n",
    "fig, ax = plt.subplots()\n",
    "\n",
    "# indexer.ra is the ring assignments\n",
    "\n",
    "ax.scatter(indexer.colfile.ds, indexer.colfile.eta, c=indexer.ra%20, cmap='tab20', s=1)\n",
    "ax.vlines(ucell.ringds, -50, 50, zorder=0, color='red')\n",
    "ax.set_xlabel(\"d-star\")\n",
    "ax.set_ylabel(\"eta\")\n",
    "ax.set_xlim(min(ucell.ringds[0], cf_strong.ds.min()) - 0.02, cf_strong.ds.max() + 0.02)\n",
    "plt.show()"
   ]
  },
  {
   "cell_type": "code",
   "execution_count": null,
   "id": "8b904e07-7481-4396-b502-29f19fdbf924",
   "metadata": {
    "tags": []
   },
   "outputs": [],
   "source": [
    "# now we need to decide which rings to use in the grid index\n",
    "# typically, 3-4 low multiplicity rings are good\n",
    "\n",
    "mask = np.zeros(cf_strong.nrows, dtype=bool)\n",
    "\n",
    "for ring in rings_to_use:\n",
    "    mask |= indexer.ra == ring\n",
    "\n",
    "peaks_to_export = cf_strong.copy()\n",
    "peaks_to_export.filter(mask)"
   ]
  },
  {
   "cell_type": "code",
   "execution_count": null,
   "id": "ca11f2e9-a16b-4474-80de-58cc9f8c4ba7",
   "metadata": {
    "tags": []
   },
   "outputs": [],
   "source": [
    "# now we can take a look at the intensities of the peaks we will be exporting\n",
    "\n",
    "fig, ax = plt.subplots(figsize=(16, 9), constrained_layout=True)\n",
    "\n",
    "ax.plot(cf_3d.ds, cf_3d.sum_intensity,',', label='cf_3d')\n",
    "ax.plot(peaks_to_export.ds, peaks_to_export.sum_intensity,',', label='peaks to export')\n",
    "ax.vlines(ucell.ringds, 1e3, 1e4, zorder=0, color='red')\n",
    "ax.semilogy()\n",
    "\n",
    "ax.set_xlabel(\"Dstar\")\n",
    "ax.set_ylabel(\"Intensity\")\n",
    "ax.legend()\n",
    "\n",
    "plt.show()"
   ]
  },
  {
   "cell_type": "code",
   "execution_count": null,
   "id": "19724115-572b-4646-9b66-8d21608178f7",
   "metadata": {
    "tags": []
   },
   "outputs": [],
   "source": [
    "grid_peaks_path = f'{sample}_{dataset}_3d_peaks_grid.flt'\n",
    "peaks_to_export.writefile(grid_peaks_path)"
   ]
  },
  {
   "cell_type": "code",
   "execution_count": null,
   "id": "97c5f0d9-127e-4154-b286-5827a86d17ac",
   "metadata": {
    "tags": []
   },
   "outputs": [],
   "source": [
    "omega_slop = ds.ostep/2"
   ]
  },
  {
   "cell_type": "code",
   "execution_count": null,
   "id": "8dce3237-85c6-4453-a3ef-fdf587982fbf",
   "metadata": {
    "tags": []
   },
   "outputs": [],
   "source": [
    "# now we need to compute the number of expected peaks\n",
    "# to do this, you add up the multiplicites of the rings you chose\n",
    "# if you recorded a 360 degree scan, multiply the result by 2\n",
    "# e.g given this output:\n",
    "\n",
    "# info: Ring     (  h,  k,  l) Mult  total indexed to_index  ubis  peaks_per_ubi   tth\n",
    "# info: Ring 3   ( -2, -2,  0)   12   2251       0     2251    93     24  16.11\n",
    "# info: Ring 2   ( -1, -1, -2)   24   4899       0     4899   101     48  13.94\n",
    "# info: Ring 1   ( -2,  0,  0)    6   1233       0     1233   102     12  11.37\n",
    "# info: Ring 0   ( -1, -1,  0)   12   2861       0     2861   118     24  8.03\n",
    "\n",
    "# selecting rings 0,1,3 we would get\n",
    "# we would get (12+6+12)*2 = 84 peaks"
   ]
  },
  {
   "cell_type": "code",
   "execution_count": null,
   "id": "1de49f05-e0f3-4d10-bb76-0635a789c2ca",
   "metadata": {
    "tags": []
   },
   "outputs": [],
   "source": [
    "peaks_expected = (12+6+12)*2\n",
    "\n",
    "# choose the fraction of the number of peaks expected - this should be around 0.9 if you had a good clean segementation\n",
    "# if you suspect you are missing peaks in your data, decrease to around 0.6\n",
    "\n",
    "minpeaks = int(np.round(peaks_expected * frac, 2))\n",
    "minpeaks"
   ]
  },
  {
   "cell_type": "code",
   "execution_count": null,
   "id": "fb9b35bb-a692-4826-aee0-05a2e7822c69",
   "metadata": {
    "tags": []
   },
   "outputs": [],
   "source": [
    "nproc = len(os.sched_getaffinity(os.getpid())) - 3"
   ]
  },
  {
   "cell_type": "code",
   "execution_count": null,
   "id": "7d215329-1bab-4817-a698-9247f5df73da",
   "metadata": {
    "tags": []
   },
   "outputs": [],
   "source": [
    "# now we write a classic parameter file for makemap.py\n",
    "oldparfile = phase_str + '.par'\n",
    "ds.phases.to_old_pars_file(oldparfile, phase_str)"
   ]
  },
  {
   "cell_type": "code",
   "execution_count": null,
   "id": "ba4e4d1c-0ec7-4dea-a75b-97765cb28d80",
   "metadata": {
    "tags": []
   },
   "outputs": [],
   "source": [
    "from ImageD11.grid_index_parallel import grid_index_parallel\n",
    "\n",
    "gridpars['COSTOL'] = np.cos(np.radians(90 - ds.ostep))\n",
    "gridpars['NPROC'] = nproc\n",
    "gridpars['NPKS'] = minpeaks\n",
    "gridpars['OMEGAFLOAT'] = omega_slop\n",
    "gridpars['TOLSEQ'] = makemap_tol_seq\n",
    "gridpars['SYMMETRY'] = symmetry\n",
    "\n",
    "translations = [(t_x, t_y, t_z) # grid to search\n",
    "    for t_x in range(-grid_xlim, grid_xlim+1, grid_step)\n",
    "    for t_y in range(-grid_ylim, grid_ylim+1, grid_step) \n",
    "    for t_z in range(-grid_zlim, grid_zlim+1, grid_step) ]\n",
    "\n",
    "import random\n",
    "random.seed(42) # reproducible\n",
    "random.shuffle(translations)\n",
    "\n",
    "tmp_output_path = 'tmp'\n",
    "map_path = 'alltmp.map'\n",
    "\n",
    "grid_index_parallel(grid_peaks_path, oldparfile, tmp_output_path, gridpars, translations)"
   ]
  },
  {
   "cell_type": "code",
   "execution_count": null,
   "id": "3d981eae-dd1a-40dd-a05e-147ab92a37f7",
   "metadata": {
    "tags": []
   },
   "outputs": [],
   "source": [
    "# import our initially indexed grains\n",
    "\n",
    "grains2 = ImageD11.grain.read_grain_file(map_path)\n",
    "\n",
    "for g in grains2:\n",
    "    g.ref_unitcell = ucell\n",
    "\n",
    "utils.get_rgbs_for_grains(grains2)"
   ]
  },
  {
   "cell_type": "code",
   "execution_count": null,
   "id": "80b7c444-1183-4a04-8c69-1f442da9db7f",
   "metadata": {},
   "outputs": [],
   "source": [
    "# inverse pole figure of grain orientations\n",
    "\n",
    "utils.plot_all_ipfs(grains2)"
   ]
  },
  {
   "cell_type": "code",
   "execution_count": null,
   "id": "9bf840f9-f6e1-47ba-a0b8-ccf00f13d3f1",
   "metadata": {
    "tags": []
   },
   "outputs": [],
   "source": [
    "# 3D scatter plot of grain positions coloured by grain volume\n",
    "\n",
    "utils.plot_grain_positions(grains2, colour='npks', centre_plot=False, size_scaling=0.5)"
   ]
  },
  {
   "cell_type": "code",
   "execution_count": null,
   "id": "a11efaf8-7246-49c5-bfc6-78c6654cf01a",
   "metadata": {},
   "outputs": [],
   "source": [
    "# 3D scatter plot of grain positions coloured by inverse pole figure orientation\n",
    "\n",
    "utils.plot_grain_positions(grains2, colour='z', centre_plot=False, size_scaling=0.5)"
   ]
  },
  {
   "cell_type": "code",
   "execution_count": null,
   "id": "3f40d348-98bc-4d95-a372-e2da82fecc11",
   "metadata": {
    "tags": []
   },
   "outputs": [],
   "source": [
    "# run makemap against the selected grid peaks\n",
    "\n",
    "new_map_path = f'alltmp.map.new'\n",
    "new_grid_peaks_path = f'{sample}_{dataset}_3d_peaks_grid.flt.new'\n",
    "\n",
    "makemap_output = !makemap.py -p {oldparfile} -u {map_path} -U {new_map_path} -f {grid_peaks_path} -s {symmetry} -t {makemap_tol_seq[-1]} --omega_slop={omega_slop} --no_sort"
   ]
  },
  {
   "cell_type": "code",
   "execution_count": null,
   "id": "6ace88c5-a7ae-4a90-94b1-1f27965fd1cb",
   "metadata": {},
   "outputs": [],
   "source": [
    "utils.plot_grain_histograms(new_grid_peaks_path, new_map_path, oldparfile, omega_slop, tol=makemap_tol_seq[-1])"
   ]
  },
  {
   "cell_type": "code",
   "execution_count": null,
   "id": "707bbfbb-cdc0-460d-a941-02067798e777",
   "metadata": {
    "tags": []
   },
   "outputs": [],
   "source": [
    "# re-import our refined grains from the makemap procedure\n",
    "\n",
    "grains3 = ImageD11.grain.read_grain_file(new_map_path)"
   ]
  },
  {
   "cell_type": "code",
   "execution_count": null,
   "id": "e0a9f7d5-d35b-45de-adae-6982d3f40b59",
   "metadata": {
    "tags": []
   },
   "outputs": [],
   "source": [
    "# remove grains with no peaks\n",
    "\n",
    "grains3 = [grain for grain in grains3 if \"no peaks\" not in grain.intensity_info]"
   ]
  },
  {
   "cell_type": "code",
   "execution_count": null,
   "id": "87c3d3f9-f9ad-4cc1-a8d1-4d897f48a064",
   "metadata": {
    "tags": []
   },
   "outputs": [],
   "source": [
    "# 3D scatter plot of grain positions coloured by grain volume\n",
    "\n",
    "utils.plot_grain_positions(grains3, colour='npks', centre_plot=False, size_scaling=0.5)"
   ]
  },
  {
   "cell_type": "code",
   "execution_count": null,
   "id": "39784af8-8960-4a3b-8097-9923bb5517c7",
   "metadata": {
    "tags": []
   },
   "outputs": [],
   "source": [
    "fig, ax = plt.subplots()\n",
    "ax.hist([float(grain.npks) for grain in grains3], bins=50)\n",
    "# ax.semilogy()\n",
    "plt.show()"
   ]
  },
  {
   "cell_type": "code",
   "execution_count": null,
   "id": "e8f9240f-1f95-414d-9a48-583ff76e5a4e",
   "metadata": {
    "tags": []
   },
   "outputs": [],
   "source": [
    "# filter out grains with fewer than absolute_minpks peaks\n",
    "grains_filtered = [grain for grain in grains3 if float(grain.npks) > absolute_minpks]"
   ]
  },
  {
   "cell_type": "code",
   "execution_count": null,
   "id": "9bd8f651-5279-4071-9681-4bdf7905c826",
   "metadata": {
    "tags": []
   },
   "outputs": [],
   "source": [
    "# 3D scatter plot of grain positions coloured by grain volume\n",
    "\n",
    "utils.plot_grain_positions(grains_filtered, colour='npks', centre_plot=False, size_scaling=0.5)"
   ]
  },
  {
   "cell_type": "code",
   "execution_count": null,
   "id": "4dd93683-8749-4d45-817c-954d91f14e52",
   "metadata": {
    "tags": []
   },
   "outputs": [],
   "source": [
    "for g in grains_filtered:\n",
    "    g.intensity = float(g.intensity_info.split(\"mean = \")[1].split(\" , \")[0].replace(\"'\", \"\"))"
   ]
  },
  {
   "cell_type": "code",
   "execution_count": null,
   "id": "949697dd-6919-4226-a91c-505069df3598",
   "metadata": {
    "tags": []
   },
   "outputs": [],
   "source": [
    "# write the filtered grains to disk\n",
    "\n",
    "filtered_map_path = f'{sample}_{dataset}_nice_grains.map'\n",
    "\n",
    "ImageD11.grain.write_grain_file(filtered_map_path, grains_filtered)"
   ]
  },
  {
   "cell_type": "code",
   "execution_count": null,
   "id": "9f2f04e4-5248-4900-a146-cc339bc3cf56",
   "metadata": {
    "tags": []
   },
   "outputs": [],
   "source": [
    "# run makemap again against all peaks\n",
    "\n",
    "new_filtered_map_path = f'{sample}_{dataset}_nice_grains.map.new'\n",
    "new_cf_3d_path = cf_3d_path + '.new'\n",
    "\n",
    "makemap_output = !makemap.py -p {oldparfile} -u {filtered_map_path} -U {new_filtered_map_path} -f {cf_3d_path} -s {symmetry} -t {makemap_tol_seq[-1]} --omega_slop={omega_slop} --no_sort"
   ]
  },
  {
   "cell_type": "code",
   "execution_count": null,
   "id": "9572e1c0-094c-4d45-bd95-6366540ccd02",
   "metadata": {
    "tags": []
   },
   "outputs": [],
   "source": [
    "grains_final = ImageD11.grain.read_grain_file(new_filtered_map_path)\n",
    "\n",
    "for g in grains_final:\n",
    "    g.ref_unitcell = ucell\n",
    "\n",
    "utils.get_rgbs_for_grains(grains_final)"
   ]
  },
  {
   "cell_type": "code",
   "execution_count": null,
   "id": "f493a9ea-2744-4e2b-96d1-e8561c6ab395",
   "metadata": {
    "tags": []
   },
   "outputs": [],
   "source": [
    "# 3D scatter plot of grain positions coloured by grain volume\n",
    "\n",
    "utils.plot_grain_positions(grains_final, colour='npks', centre_plot=False, size_scaling=0.5)"
   ]
  },
  {
   "cell_type": "code",
   "execution_count": null,
   "id": "b9178835-a3ce-4829-846f-b99a71a1300f",
   "metadata": {},
   "outputs": [],
   "source": [
    "# 3D scatter plot of grain positions coloured by grain volume\n",
    "\n",
    "utils.plot_grain_positions(grains_final, colour='z', centre_plot=False, size_scaling=0.5)"
   ]
  },
  {
   "cell_type": "code",
   "execution_count": null,
   "id": "9ca1a55e-14b1-4672-b78f-d32ca1aa0c3a",
   "metadata": {
    "tags": []
   },
   "outputs": [],
   "source": [
    "fig, ax = plt.subplots()\n",
    "ax.hist([float(grain.npks) for grain in grains_final], bins=50)\n",
    "# ax.semilogy()\n",
    "plt.show()"
   ]
  },
  {
   "cell_type": "code",
   "execution_count": null,
   "id": "e8e8e76e-19aa-4b00-b7ec-5eae66435581",
   "metadata": {
    "tags": []
   },
   "outputs": [],
   "source": [
    "fig, ax = plt.subplots()\n",
    "ax.scatter([float(grain.npks) for grain in grains_final], [float(g.intensity_info.split(\"mean = \")[1].split(\" , \")[0].replace(\"'\", \"\")) for g in grains_final])\n",
    "ax.set_xlabel('npks')\n",
    "ax.set_ylabel('sum_int')\n",
    "ax.semilogy()\n",
    "plt.show()"
   ]
  },
  {
   "cell_type": "code",
   "execution_count": null,
   "id": "e145e4bd-f70a-47a3-b2f0-c06ab194d880",
   "metadata": {
    "tags": []
   },
   "outputs": [],
   "source": [
    "len(grains_final)"
   ]
  },
  {
   "cell_type": "code",
   "execution_count": null,
   "id": "2c1cc664-b29d-4b8e-9159-1d31e31fcd47",
   "metadata": {},
   "outputs": [],
   "source": [
    "utils.plot_grain_histograms(new_cf_3d_path, new_filtered_map_path, oldparfile, omega_slop, tol=makemap_tol_seq[-1])"
   ]
  },
  {
   "cell_type": "code",
   "execution_count": null,
   "id": "86667129-8e2d-4ae2-bb3a-e6b8e4ea90b5",
   "metadata": {},
   "outputs": [],
   "source": [
    "unit_cell_lengths = np.array([np.sort(g.unitcell.copy()[:3]) for g in grains_final])\n",
    "median_unit_cell = np.median(unit_cell_lengths, axis=0)\n",
    "\n",
    "fig, ax = plt.subplots(constrained_layout=True)\n",
    "ax.plot(unit_cell_lengths)\n",
    "ax.hlines(median_unit_cell, 0, len(unit_cell_lengths))\n",
    "ax.set_xlabel(\"Grain ID\")\n",
    "ax.set_ylabel(\"Unit cell length\")\n",
    "plt.show()"
   ]
  },
  {
   "cell_type": "code",
   "execution_count": null,
   "id": "d15b8b8d-65a0-4003-88fd-cf9117cc7869",
   "metadata": {
    "tags": []
   },
   "outputs": [],
   "source": [
    "# import makemap output columnfile with peak assignments\n",
    "cf_3d = ImageD11.columnfile.columnfile(new_cf_3d_path)\n",
    "\n",
    "# write 3D columnfile to disk\n",
    "ImageD11.columnfile.colfile_to_hdf(cf_3d, ds.col3dfile, name='peaks')"
   ]
  },
  {
   "cell_type": "code",
   "execution_count": null,
   "id": "0c99f8e7-3353-4677-927a-99ef749e2bbc",
   "metadata": {},
   "outputs": [],
   "source": [
    "ds.save_grains_to_disk(grains_final, phase_name=phase_str)"
   ]
  },
  {
   "cell_type": "code",
   "execution_count": null,
   "id": "997b7d27-c48c-41b0-8b9a-cc5b55cf073d",
   "metadata": {
    "tags": []
   },
   "outputs": [],
   "source": [
    "ds.save()"
   ]
  },
  {
   "cell_type": "code",
   "execution_count": null,
   "id": "c1306c40-ace6-4680-8ae9-d9ccdf5db8de",
   "metadata": {},
   "outputs": [],
   "source": [
    "# cleaning up\n",
    "\n",
    "for path in [\n",
    "    cf_3d_path,\n",
    "    cf_strong_allrings_path,\n",
    "    grid_peaks_path,\n",
    "    tmp_output_path + '.flt',\n",
    "    map_path,\n",
    "    new_map_path,\n",
    "    new_grid_peaks_path,\n",
    "    filtered_map_path,\n",
    "    new_filtered_map_path,\n",
    "    new_cf_3d_path,\n",
    "]:\n",
    "    if os.path.exists(path):\n",
    "        os.remove(path)"
   ]
  }
 ],
 "metadata": {
  "kernelspec": {
   "display_name": "Python 3 (main)",
   "language": "python",
   "name": "python3"
  },
  "language_info": {
   "codemirror_mode": {
    "name": "ipython",
    "version": 3
   },
   "file_extension": ".py",
   "mimetype": "text/x-python",
   "name": "python",
   "nbconvert_exporter": "python",
   "pygments_lexer": "ipython3",
   "version": "3.11.6"
  }
 },
 "nbformat": 4,
 "nbformat_minor": 5
}
