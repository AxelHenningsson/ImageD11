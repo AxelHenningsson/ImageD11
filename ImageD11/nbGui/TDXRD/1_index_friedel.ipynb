{
 "cells": [
  {
   "cell_type": "markdown",
   "metadata": {},
   "source": [
    "# Jupyter notebook based on ImageD11 to process 3DXRD data\n",
    "# Written by Haixing Fang, Jon Wright and James Ball\n",
    "## Date: 21/02/2025"
   ]
  },
  {
   "cell_type": "code",
   "execution_count": null,
   "metadata": {
    "tags": []
   },
   "outputs": [],
   "source": [
    "import os\n",
    "\n",
    "os.environ['OMP_NUM_THREADS'] = '1'\n",
    "os.environ['OPENBLAS_NUM_THREADS'] = '1'\n",
    "os.environ['MKL_NUM_THREADS'] = '1'\n",
    "\n",
    "exec(open('/data/id11/nanoscope/install_ImageD11_from_git.py').read())"
   ]
  },
  {
   "cell_type": "code",
   "execution_count": null,
   "metadata": {
    "tags": [
     "parameters"
    ]
   },
   "outputs": [],
   "source": [
    "# this cell is tagged with 'parameters'\n",
    "# to view the tag, select the cell, then find the settings gear icon (right or left sidebar) and look for Cell Tags\n",
    "\n",
    "PYTHONPATH = setup_ImageD11_from_git( ) # ( os.path.join( os.environ['HOME'],'Code'), 'ImageD11_git' )\n",
    "\n",
    "dset_path = ''\n",
    "\n",
    "phase_str = 'Fe'\n",
    "\n",
    "# path to parameters .json/.par\n",
    "parfile = ''\n",
    "\n",
    "# peak filtration options\n",
    "cf_strong_frac = 0.991\n",
    "cf_strong_dsmax = 1.01\n",
    "cf_strong_dstol = 0.01\n",
    "\n",
    "# friedel pair search options\n",
    "womega = 1.0\n",
    "weta = 1.0\n",
    "wtth = 1.5\n",
    "wI = 0.5\n",
    "\n",
    "# indexing options\n",
    "indexer_ds_tol = 0.003\n",
    "\n",
    "rings_for_gen = [1, 3]\n",
    "\n",
    "# now we want to decide which rings to score our found orientations against\n",
    "# generally we can just exclude dodgy rings (close to other phases, only a few peaks in etc)\n",
    "rings_for_scoring = [0, 1, 2, 3]\n",
    "\n",
    "# the sequence of hkl tolerances the indexer will iterate through\n",
    "hkl_tols_seq = [0.01, 0.02]\n",
    "# the sequence of minpks fractions the indexer will iterate through\n",
    "fracs = [0.9, 0.6]\n",
    "\n",
    "# the max number of UBIs we can find per pair of rings\n",
    "max_grains = 1000\n",
    "\n",
    "# makemap refinement options\n",
    "symmetry = \"cubic\"\n",
    "\n",
    "gridpars = {\n",
    "        'DSTOL' : 0.004,\n",
    "        'NUL' : True,\n",
    "        'FITPOS' : True,\n",
    "        'tolangle' : 0.25,\n",
    "        'toldist' : 100.,\n",
    "        'NTHREAD' : 1 ,\n",
    "        'NPKS': 25\n",
    "}\n",
    "\n",
    "absolute_minpks = 25\n",
    "\n",
    "dset_prefix = 'ff'"
   ]
  },
  {
   "cell_type": "code",
   "execution_count": null,
   "metadata": {
    "tags": []
   },
   "outputs": [],
   "source": [
    "# import functions we need\n",
    "\n",
    "import os, glob, pprint\n",
    "import numpy as np\n",
    "import h5py\n",
    "from tqdm.notebook import tqdm\n",
    "\n",
    "import matplotlib\n",
    "%matplotlib widget\n",
    "from matplotlib import pyplot as plt\n",
    "import scipy.spatial\n",
    "\n",
    "# import utils\n",
    "from ImageD11.nbGui import nb_utils as utils\n",
    "\n",
    "import ImageD11.grain\n",
    "import ImageD11.indexing\n",
    "import ImageD11.columnfile\n",
    "import ImageD11.refinegrains\n",
    "import ImageD11.grid_index_parallel\n",
    "from ImageD11.sinograms import properties, dataset\n",
    "\n",
    "from ImageD11.blobcorrector import eiger_spatial\n",
    "from ImageD11.peakselect import select_ring_peaks_by_intensity, filter_peaks_by_phase"
   ]
  },
  {
   "cell_type": "code",
   "execution_count": null,
   "metadata": {
    "tags": []
   },
   "outputs": [],
   "source": [
    "# load the dataset from file\n",
    "\n",
    "ds = ImageD11.sinograms.dataset.load(dset_path)\n",
    "\n",
    "sample = ds.sample\n",
    "dataset = ds.dset\n",
    "rawdata_path = ds.dataroot\n",
    "processed_data_root_dir = ds.analysisroot\n",
    "print(ds)\n",
    "print(ds.shape)"
   ]
  },
  {
   "cell_type": "code",
   "execution_count": null,
   "metadata": {},
   "outputs": [],
   "source": [
    "ds.parfile = parfile\n",
    "ds.save()"
   ]
  },
  {
   "cell_type": "code",
   "execution_count": null,
   "metadata": {},
   "outputs": [],
   "source": [
    "ds.phases = ds.get_phases_from_disk()\n",
    "ds.phases.unitcells"
   ]
  },
  {
   "cell_type": "code",
   "execution_count": null,
   "metadata": {
    "tags": []
   },
   "outputs": [],
   "source": [
    "# now let's select a phase to index from our parameters json\n",
    "\n",
    "ucell = ds.phases.unitcells[phase_str]\n",
    "\n",
    "print(ucell.lattice_parameters, ucell.spacegroup)"
   ]
  },
  {
   "cell_type": "code",
   "execution_count": null,
   "metadata": {
    "tags": []
   },
   "outputs": [],
   "source": [
    "# load 3d columnfile from disk\n",
    "\n",
    "cf_3d = ds.get_cf_3d_from_disk()\n",
    "ds.update_colfile_pars(cf_3d, phase_name=phase_str) \n",
    "\n",
    "cf_3d_path = f'{sample}_{dataset}_3d_peaks.flt'\n",
    "cf_3d.writefile(cf_3d_path)"
   ]
  },
  {
   "cell_type": "code",
   "execution_count": null,
   "metadata": {
    "tags": []
   },
   "outputs": [],
   "source": [
    "# plot the 3D peaks (fewer of them) as a cake (two-theta vs eta)\n",
    "# if the parameters in the par file are good, these should look like straight lines\n",
    "\n",
    "ucell.makerings(cf_3d.ds.max())\n",
    "\n",
    "fig, ax = plt.subplots(figsize=(16,9), layout='constrained')\n",
    "\n",
    "ax.scatter(cf_3d.ds, cf_3d.eta, s=1)\n",
    "ax.vlines(ucell.ringds, -50, 50, zorder=0, color='red')\n",
    "\n",
    "ax.set_xlabel(\"D-star\")\n",
    "ax.set_ylabel(\"eta\")\n",
    "\n",
    "plt.show()"
   ]
  },
  {
   "cell_type": "markdown",
   "metadata": {},
   "source": [
    "# First step: Visually inspect if we can easily see Friedel pairs\n",
    "# Not worth doing if we can't see them!"
   ]
  },
  {
   "cell_type": "code",
   "execution_count": null,
   "metadata": {
    "tags": []
   },
   "outputs": [],
   "source": [
    "# here we are filtering our peaks (cf_3d) to select only the strong peaks\n",
    "cf_strong = select_ring_peaks_by_intensity(cf_3d, frac=cf_strong_frac, dsmax=cf_strong_dsmax, doplot=0.8, dstol=cf_strong_dstol)\n",
    "print(f\"Got {cf_strong.nrows} strong peaks for indexing\")"
   ]
  },
  {
   "cell_type": "code",
   "execution_count": null,
   "metadata": {
    "tags": []
   },
   "outputs": [],
   "source": [
    "fig, ax = plt.subplots(figsize=(16, 9), constrained_layout=True)\n",
    "\n",
    "ax.plot(cf_3d.ds, cf_3d.sum_intensity,',', label='cf_3d')\n",
    "ax.plot(cf_strong.ds, cf_strong.sum_intensity,',', label='cf_strong')\n",
    "ax.vlines(ucell.ringds, 1e3, 1e4, zorder=0, color='red')\n",
    "ax.semilogy()\n",
    "\n",
    "ax.set_xlabel(\"Dstar\")\n",
    "ax.set_ylabel(\"Intensity\")\n",
    "ax.legend()\n",
    "\n",
    "plt.show()"
   ]
  },
  {
   "cell_type": "code",
   "execution_count": null,
   "metadata": {
    "tags": []
   },
   "outputs": [],
   "source": [
    "# compute Lorenz factor\n",
    "lf = ImageD11.refinegrains.lf(cf_strong.tth, cf_strong.eta)\n",
    "\n",
    "f = plt.figure(figsize=(15,5), layout='constrained')\n",
    "ax = f.add_subplot()\n",
    "\n",
    "# select peaks between 3 and 5 degrees in omega\n",
    "om1 = (cf_strong.omega < 5) & (cf_strong.omega > 3)\n",
    "\n",
    "# plot omega against intensity for those peaks, coloured by eta (azimuthal position on the ring)\n",
    "ax.scatter(cf_strong.omega[om1], cf_strong.sum_intensity[om1], c=cf_strong.eta[om1], marker='o')\n",
    "\n",
    "# the friedel pair of these peaks should be 180 degrees away in eta\n",
    "etapair = 180 - cf_strong.eta\n",
    "\n",
    "# modulate\n",
    "etapair = np.where(etapair > 180, etapair - 360, etapair)\n",
    "\n",
    "# select peaks for the friedel pairs between 183 and 185 degrees\n",
    "om2 = (cf_strong.omega < 185) & (cf_strong.omega > 183)\n",
    "\n",
    "# plot omega against intensity for the friedel pairs as crosses\n",
    "ax.scatter(cf_strong.omega[om2] - 180, cf_strong.sum_intensity[om2], c=etapair[om2], marker='+')\n",
    "ax.semilogy()\n",
    "\n",
    "ax.set(xlabel='omega (deg)', ylabel='peak intensity', title='Coloured by eta')\n",
    "\n",
    "# for valid friedel pairs, we should see 'o' and '+' markers close together in omega and intensity, with similar colours (eta)\n",
    "plt.show()"
   ]
  },
  {
   "cell_type": "code",
   "execution_count": null,
   "metadata": {
    "tags": []
   },
   "outputs": [],
   "source": [
    "def calc_tth_eta( c, pi, pj ):\n",
    "    dX = c.xl[pi] + c.xl[pj]\n",
    "    dY = c.yl[pi] + c.yl[pj]\n",
    "    dZ = c.zl[pi] - c.zl[pj]\n",
    "    r = np.sqrt(dY*dY + dZ*dZ)\n",
    "    tth = np.degrees( np.arctan2( r, dX )  )\n",
    "    eta = np.degrees(np.arctan2( -dY, dZ ))\n",
    "    return tth, eta\n",
    "\n",
    "def find_friedel_pairs(cf_in, womega=1.5, weta=0.2, wtth=1.5, wI=0.5, doplot=False):\n",
    "    # create a 4-dimensional tree\n",
    "    # dimensions are omega, eta, tth, intensity\n",
    "    t1 = scipy.spatial.cKDTree( np.transpose( [ \n",
    "                                womega*(cf_in.omega%360),\n",
    "                                weta*(cf_in.eta%360),\n",
    "                                wtth*cf_in.tth,\n",
    "                                wI*np.log10(cf_in.sum_intensity) ] ))\n",
    "    \n",
    "    # create another tree for the friedel pair side (omega + 180, 180 - eta)\n",
    "    t2 = scipy.spatial.cKDTree( np.transpose([ \n",
    "                                 womega*((cf_in.omega+180)%360),\n",
    "                                 weta*((180-cf_in.eta)%360),\n",
    "                                 wtth* cf_in.tth,\n",
    "                                 wI*np.log10(cf_in.sum_intensity) ] ))\n",
    "    \n",
    "    # create a distance matrix between trees with a max distance of 1, returning a sparse matrix\n",
    "    coo = t1.sparse_distance_matrix( t2, max_distance=1, output_type='coo_matrix' ) # 1 degree eta might be tight?\n",
    "    \n",
    "    inds = np.arange(cf_in.nrows)\n",
    "    \n",
    "    # mask for peaks on one side of the friedel pair\n",
    "    p1 = inds[coo.row]\n",
    "    # mask for peaks on the other side of the friedel pair\n",
    "    p2 = inds[coo.col]\n",
    "    \n",
    "    # compute tth-eta of friedel pairs\n",
    "    tth, eta = calc_tth_eta( cf_in, p1, p2 )\n",
    "    # mask for intensity for friedel pairs\n",
    "    s1 = cf_3d.sum_intensity[p1]\n",
    "    s2 = cf_3d.sum_intensity[p2]\n",
    "    \n",
    "    # convert tth to dstar\n",
    "    dstar = 2*np.sin(np.radians(tth)/2)/cf_in.parameters.get('wavelength')\n",
    "    \n",
    "    if doplot:\n",
    "        f,a = plt.subplots(2,1,figsize=(20,6), layout='constrained', sharex=True)\n",
    "        a[0].hist2d(dstar,eta,bins=(2000,360), norm='log', weights=s1+s2)\n",
    "        a[0].plot(ucell.ringds, np.zeros_like(ucell.ringds),\"|r\",lw=1,ms=90)\n",
    "        a[0].set(ylabel='eta (deg)')\n",
    "        a[1].hist2d(dstar,coo.data,  # sum of squares of distance matrix\n",
    "        #            np.log(s1+s2),\n",
    "                    bins=(1000,128), norm='log');\n",
    "        a[1].vlines(ucell.ringds, -50, 50, zorder=0, color='red')\n",
    "        a[1].set(xlabel='dstar', ylabel='distance for search')\n",
    "        f.suptitle(' Top: D-star vs eta of Friedel pairs \\n Bottom: D-star vs 4D tree distance')\n",
    "        plt.show()\n",
    "    \n",
    "    if doplot:\n",
    "        f,a = plt.subplots(t1.data.shape[1],1,figsize=(20,6), layout='constrained', sharex=True)\n",
    "        for i in range(t1.data.shape[1]):\n",
    "            a[i].hist2d(dstar, t1.data[coo.row,i] - t2.data[coo.col,i], bins=(1000,128), norm='log')\n",
    "            a[i].vlines(ucell.ringds, -0.1, 0.1, zorder=0, color='red')\n",
    "            a[i].set(ylabel=['Omega', 'Eta', 'Two-theta', 'Log peak intensity'][i])\n",
    "        f.suptitle('D-star vs error in [omega, eta, tth, intensity] for the friedel pair')\n",
    "        f.supxlabel('dstar')\n",
    "        plt.show()\n",
    "    \n",
    "    # Mask to powder rings\n",
    "    m = np.zeros_like(p1, dtype=bool)\n",
    "    for d in ucell.ringds:\n",
    "        m |= abs(dstar - d)<0.002\n",
    "    \n",
    "    # make columnfiles for each side of the friedel pair\n",
    "    c1 = cf_in.copyrows( p1[m] )\n",
    "    c2 = cf_in.copyrows( p2[m] )\n",
    "    \n",
    "    c1.tth[:] = tth[m]\n",
    "    c2.tth[:] = tth[m]\n",
    "    c1.ds[:] = dstar[m]\n",
    "    c2.ds[:] = dstar[m]\n",
    "    \n",
    "    if doplot:\n",
    "        fig, ax = plt.subplots(layout='constrained')\n",
    "        ax.plot(c1.eta%360, eta[m]%360,',')\n",
    "        ax.set(xlabel='eta (deg)', ylabel='eta (deg)', title='Observed vs computed eta for Friedel pairs (c1)')\n",
    "        plt.show()\n",
    "    \n",
    "    # computed eta values (variable eta) matches c1, so we take c1.eta as eta, then recompute c2.eta\n",
    "    c1.eta[:] = eta[m]\n",
    "    e2 = 180 - eta[m]\n",
    "    c2.eta[:] = np.where( e2 > 180, e2-360, e2)\n",
    "    \n",
    "    # combine paired peaks into one columnfile\n",
    "    cpair = ImageD11.columnfile.colfile_from_dict({\n",
    "        t: np.concatenate( (c1[t], c2[t]) ) for t in c1.titles } )\n",
    "    cpair.parameters = cf_in.parameters\n",
    "    \n",
    "    if doplot:\n",
    "        fig, ax = plt.subplots(figsize=(20,6), layout='constrained')\n",
    "        ax.plot(c1.ds, c1.eta, ',')\n",
    "        ax.plot(c2.ds, c2.eta, ',')\n",
    "        ax.plot(cpair.ds, cpair.eta, ',')\n",
    "        ax.vlines(ucell.ringds, -50, 50, zorder=0, color='red')\n",
    "        ax.xlabel('D-star')\n",
    "        ax.ylabel('Eta')\n",
    "        plt.show()\n",
    "    \n",
    "    cpair.gx[:],cpair.gy[:],cpair.gz[:] = ImageD11.transform.compute_g_vectors( cpair.tth, cpair.eta, cpair.omega, cpair.parameters.get('wavelength') )\n",
    "    \n",
    "    if doplot:\n",
    "        fig, ax = plt.subplots(figsize=(20,6), layout='constrained')\n",
    "        ax.plot(cpair.ds, cpair.sum_intensity*np.exp(5*cpair.ds**2),',')\n",
    "        ax.semilogy()\n",
    "        ax.vlines(ucell.ringds, 1e3, 1e4, zorder=0, color='red')\n",
    "        ax.xlabel('D-star')\n",
    "        ax.ylabel('Weighted Sum intensity')\n",
    "        plt.show()\n",
    "        \n",
    "    return cpair"
   ]
  },
  {
   "cell_type": "code",
   "execution_count": null,
   "metadata": {
    "tags": []
   },
   "outputs": [],
   "source": [
    "cf_friedel_pairs = find_friedel_pairs(cf_strong, womega=womega, weta=weta, wtth=wtth, wI=wI, doplot=True)"
   ]
  },
  {
   "cell_type": "code",
   "execution_count": null,
   "metadata": {},
   "outputs": [],
   "source": [
    "# plot the results\n",
    "\n",
    "fig, ax = plt.subplots(layout='constrained', figsize=(10, 5))\n",
    "ax.plot(cf_3d.ds, cf_3d.eta, ',', label='cf_3d')\n",
    "ax.plot(cf_friedel_pairs.ds, cf_friedel_pairs.eta, ',', label='cf_friedel_pairs')\n",
    "ax.vlines(ucell.ringds, -50, 50, zorder=0, color='red')\n",
    "ax.set(xlabel='d-star', ylabel='eta')\n",
    "ax.legend()\n",
    "plt.show()"
   ]
  },
  {
   "cell_type": "code",
   "execution_count": null,
   "metadata": {},
   "outputs": [],
   "source": [
    "# plot the results\n",
    "\n",
    "fig, ax = plt.subplots(layout='constrained', figsize=(10, 5))\n",
    "ax.plot(cf_3d.ds, cf_3d.sum_intensity, ',', label='cf_3d')\n",
    "ax.plot(cf_friedel_pairs.ds, cf_friedel_pairs.sum_intensity, ',', label='cf_friedel_pairs')\n",
    "ax.vlines(ucell.ringds, 1e3, 1e4, zorder=0, color='red')\n",
    "ax.set(xlabel='d-star', ylabel='sum intensity')\n",
    "ax.semilogy()\n",
    "ax.legend()\n",
    "plt.show()"
   ]
  },
  {
   "cell_type": "code",
   "execution_count": null,
   "metadata": {},
   "outputs": [],
   "source": [
    "# Now we index the friedel pair resuls\n",
    "\n",
    "# the tolerance in g-vector angle\n",
    "cosine_tol = np.cos(np.radians(90 - ds.ostep))\n",
    "\n",
    "_, indexer = utils.do_index(cf=cf_friedel_pairs,\n",
    "                            dstol=indexer_ds_tol,\n",
    "                            forgen=rings_for_gen,\n",
    "                            foridx=rings_for_scoring,\n",
    "                            hkl_tols=hkl_tols_seq,\n",
    "                            fracs=fracs,\n",
    "                            cosine_tol=cosine_tol,\n",
    "                            max_grains=max_grains,\n",
    "                            unitcell=ucell\n",
    ")"
   ]
  },
  {
   "cell_type": "code",
   "execution_count": null,
   "metadata": {
    "tags": []
   },
   "outputs": [],
   "source": [
    "# inspect the results of the index\n",
    "\n",
    "indexer.histogram_drlv_fit()\n",
    "\n",
    "fig, ax = plt.subplots(layout='constrained', figsize=(10, 5))\n",
    "for row in indexer.histogram:\n",
    "    ax.plot(indexer.bins[1:-1], row[:-1],'-')\n",
    "\n",
    "ax.set(xlabel='Peak error', ylabel='npeaks')\n",
    "plt.show()"
   ]
  },
  {
   "cell_type": "code",
   "execution_count": null,
   "metadata": {
    "tags": []
   },
   "outputs": [],
   "source": [
    "# now we switch to grid indexing"
   ]
  },
  {
   "cell_type": "code",
   "execution_count": null,
   "metadata": {
    "tags": []
   },
   "outputs": [],
   "source": [
    "nproc = len(os.sched_getaffinity(os.getpid())) - 3\n",
    "\n",
    "omega_slop = ds.ostep/2\n",
    "\n",
    "gridpars['TOLSEQ'] = [hkl_tols_seq[0],]\n",
    "gridpars['COSTOL'] = np.cos(np.radians(90 - ds.ostep))\n",
    "gridpars['NPROC'] = nproc\n",
    "gridpars['OMEGAFLOAT'] = omega_slop\n",
    "gridpars['SYMMETRY'] = symmetry\n",
    "gridpars['RING1'] = rings_for_gen\n",
    "gridpars['RING2'] = rings_for_gen\n",
    "\n",
    "# copy out the columnfile used by the indexer\n",
    "cf_indexed = indexer.colfile.copy()\n",
    "\n",
    "cf_indexed.addcolumn(indexer.ga.copy(), 'labels')\n",
    "cf_indexed.addcolumn(np.zeros(cf_indexed.nrows), 'drlv2')\n",
    "\n",
    "for v in 'xyz':\n",
    "    cf_3d.parameters.stepsizes[f't_{v}'] = 0.1\n",
    "\n",
    "fittedgrains = []\n",
    "for i in range(len(indexer.ubis)):\n",
    "    grains = [ImageD11.grain.grain(indexer.ubis[i].copy() ),]\n",
    "    # only take indexed spots using Friedel pairs\n",
    "    cfit = ImageD11.columnfile.colfile_from_dict(\n",
    "        { t:cf_indexed[t][indexer.ga==i+1] for t in cf_indexed.titles} )\n",
    "    if cfit.nrows == 0:\n",
    "        continue\n",
    "    fitted = ImageD11.grid_index_parallel.domap( cf_3d.parameters,\n",
    "                                    cfit,\n",
    "                                    grains,\n",
    "                                    gridpars )\n",
    "    if len(fitted) > 0:\n",
    "        fittedgrains.append( fitted[0] )"
   ]
  },
  {
   "cell_type": "code",
   "execution_count": null,
   "metadata": {
    "tags": []
   },
   "outputs": [],
   "source": [
    "# 3D scatter plot of grain positions coloured by grain volume\n",
    "\n",
    "utils.plot_grain_positions(fittedgrains, colour='npks', centre_plot=False, size_scaling=0.5)"
   ]
  },
  {
   "cell_type": "code",
   "execution_count": null,
   "metadata": {
    "tags": []
   },
   "outputs": [],
   "source": [
    "fig, ax = plt.subplots()\n",
    "ax.hist([float(grain.npks) for grain in fittedgrains], bins=50)\n",
    "plt.show()"
   ]
  },
  {
   "cell_type": "code",
   "execution_count": null,
   "metadata": {
    "tags": []
   },
   "outputs": [],
   "source": [
    "# filter out grains with fewer than absolute_minpks peaks\n",
    "grains_filtered = [grain for grain in fittedgrains if float(grain.npks) > absolute_minpks]"
   ]
  },
  {
   "cell_type": "code",
   "execution_count": null,
   "metadata": {
    "tags": []
   },
   "outputs": [],
   "source": [
    "# 3D scatter plot of grain positions coloured by grain volume\n",
    "\n",
    "utils.plot_grain_positions(grains_filtered, colour='npks', centre_plot=False, size_scaling=0.5)"
   ]
  },
  {
   "cell_type": "code",
   "execution_count": null,
   "metadata": {
    "tags": []
   },
   "outputs": [],
   "source": [
    "# write the filtered grains to disk\n",
    "\n",
    "filtered_map_path = f'{sample}_{dataset}_nice_grains.map'\n",
    "\n",
    "ImageD11.grain.write_grain_file(filtered_map_path, grains_filtered)"
   ]
  },
  {
   "cell_type": "code",
   "execution_count": null,
   "metadata": {
    "tags": []
   },
   "outputs": [],
   "source": [
    "# write cf_3d to disk temporarily\n",
    "\n",
    "cf_3d_path = f'{sample}_{dataset}_3d_peaks.flt'\n",
    "cf_3d.writefile(cf_3d_path)"
   ]
  },
  {
   "cell_type": "code",
   "execution_count": null,
   "metadata": {
    "tags": []
   },
   "outputs": [],
   "source": [
    "# now we write a classic parameter file for makemap.py\n",
    "oldparfile = phase_str + '.par'\n",
    "ds.phases.to_old_pars_file(oldparfile, phase_str)"
   ]
  },
  {
   "cell_type": "code",
   "execution_count": null,
   "metadata": {
    "tags": []
   },
   "outputs": [],
   "source": [
    "# run makemap again against all peaks\n",
    "\n",
    "new_filtered_map_path = f'{sample}_{dataset}_nice_grains.map.new'\n",
    "new_cf_3d_path = cf_3d_path + '.new'\n",
    "\n",
    "final_makemap_tol = hkl_tols_seq[0]\n",
    "\n",
    "makemap_output = !makemap.py -p {oldparfile} -u {filtered_map_path} -U {new_filtered_map_path} -f {cf_3d_path} -s {symmetry} -t {final_makemap_tol} --omega_slop={omega_slop} --no_sort"
   ]
  },
  {
   "cell_type": "code",
   "execution_count": null,
   "metadata": {},
   "outputs": [],
   "source": [
    "grains_final = ImageD11.grain.read_grain_file(new_filtered_map_path)\n",
    "\n",
    "# 3D scatter plot of grain positions coloured by grain volume\n",
    "\n",
    "utils.plot_grain_positions(grains_final, colour='npks', centre_plot=False, size_scaling=0.5)"
   ]
  },
  {
   "cell_type": "code",
   "execution_count": null,
   "metadata": {},
   "outputs": [],
   "source": [
    "utils.plot_grain_histograms(new_cf_3d_path, new_filtered_map_path, oldparfile, omega_slop, tol=hkl_tols_seq[0])"
   ]
  },
  {
   "cell_type": "code",
   "execution_count": null,
   "metadata": {},
   "outputs": [],
   "source": [
    "unit_cell_lengths = np.array([np.sort(g.unitcell.copy()[:3]) for g in grains_final])\n",
    "median_unit_cell = np.median(unit_cell_lengths, axis=0)\n",
    "\n",
    "fig, ax = plt.subplots(constrained_layout=True)\n",
    "ax.plot(unit_cell_lengths)\n",
    "ax.hlines(median_unit_cell, 0, len(unit_cell_lengths))\n",
    "ax.set_xlabel(\"Grain ID\")\n",
    "ax.set_ylabel(\"Unit cell length\")\n",
    "plt.show()"
   ]
  },
  {
   "cell_type": "code",
   "execution_count": null,
   "metadata": {
    "tags": []
   },
   "outputs": [],
   "source": [
    "# import makemap output columnfile with peak assignments\n",
    "cf_3d = ImageD11.columnfile.columnfile(new_cf_3d_path)\n",
    "\n",
    "# write 3D columnfile to disk\n",
    "ImageD11.columnfile.colfile_to_hdf(cf_3d, ds.col3dfile, name='peaks')\n",
    "\n",
    "# save grain data\n",
    "ds.save_grains_to_disk(grains_final, phase_name=phase_str)\n",
    "\n",
    "ds.save()"
   ]
  },
  {
   "cell_type": "code",
   "execution_count": null,
   "metadata": {
    "tags": []
   },
   "outputs": [],
   "source": [
    "# cleaning up\n",
    "\n",
    "for path in [\n",
    "    cf_3d_path,\n",
    "    filtered_map_path,\n",
    "    new_filtered_map_path,\n",
    "    new_cf_3d_path,\n",
    "]:\n",
    "    if os.path.exists(path):\n",
    "        os.remove(path)"
   ]
  }
 ],
 "metadata": {
  "kernelspec": {
   "display_name": "Python 3 (main)",
   "language": "python",
   "name": "python3"
  },
  "language_info": {
   "codemirror_mode": {
    "name": "ipython",
    "version": 3
   },
   "file_extension": ".py",
   "mimetype": "text/x-python",
   "name": "python",
   "nbconvert_exporter": "python",
   "pygments_lexer": "ipython3",
   "version": "3.11.6"
  }
 },
 "nbformat": 4,
 "nbformat_minor": 4
}
