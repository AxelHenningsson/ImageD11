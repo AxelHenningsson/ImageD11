{
 "cells": [
  {
   "cell_type": "markdown",
   "metadata": {},
   "source": [
    "# Silicon calibration for a single crystal on ID11 nscope\n",
    "\n",
    "Uses the older ImageD11 calibration fitting routines\n",
    "\n",
    "Last updated 20/11/2024 by @jadball"
   ]
  },
  {
   "cell_type": "code",
   "execution_count": null,
   "metadata": {
    "tags": []
   },
   "outputs": [],
   "source": [
    "exec(open('/data/id11/nanoscope/install_ImageD11_from_git.py').read())\n",
    "PYTHONPATH = setup_ImageD11_from_git( ) # os.path.join( os.environ['HOME'],'Code'), 'ImageD11_git' )"
   ]
  },
  {
   "cell_type": "code",
   "execution_count": null,
   "metadata": {
    "tags": []
   },
   "outputs": [],
   "source": [
    "%matplotlib ipympl\n",
    "import pylab as pl\n",
    "import numpy as np\n",
    "import ImageD11.sinograms.dataset\n",
    "import ImageD11.transformer\n",
    "import ImageD11.columnfile\n",
    "import ImageD11.indexing\n",
    "import ImageD11.grain\n",
    "import ImageD11.nbGui.fit_geometry\n",
    "import silx.io"
   ]
  },
  {
   "cell_type": "code",
   "execution_count": null,
   "metadata": {
    "tags": []
   },
   "outputs": [],
   "source": [
    "# 'Ag': 25.514, 'Sn': 29.2001, 'Nd': 43.5689, 'Gd': 50.2391, 'Hf': 65.3508, 'W' : 69.525, 'Pt': 78.3948, 'Pb': 88.0045\n",
    "# here enter the lattice parameters and spacegroup of the calibrant\n",
    "# at ID11 we use NIST SRM SiO2 670c\n",
    "\n",
    "a_silicon = 5.43094\n",
    "econst = 12.398423  # energy conversion - don't change\n",
    "energy = 43.5689  # the energy in keV"
   ]
  },
  {
   "cell_type": "markdown",
   "metadata": {},
   "source": [
    "# NOTE: before you run this notebook, you need to segment the silicon dataset\n",
    "# use 0_segment_and_label.ipynb to do this"
   ]
  },
  {
   "cell_type": "code",
   "execution_count": null,
   "metadata": {
    "tags": []
   },
   "outputs": [],
   "source": [
    "# Load some peaks for your silicone\n",
    "# change this to the path to the Si dataset file in PROCESSED_DATA\n",
    "\n",
    "dset = ImageD11.sinograms.dataset.load(\"fakepath\")\n",
    "colf = dset.get_cf_2d()"
   ]
  },
  {
   "cell_type": "code",
   "execution_count": null,
   "metadata": {
    "tags": []
   },
   "outputs": [],
   "source": [
    "# Remove any weak peaks / noise (average intensity > cutoff)\n",
    "cutoff = 10\n",
    "colf.filter(colf.sum_intensity / colf.Number_of_pixels > cutoff)"
   ]
  },
  {
   "cell_type": "code",
   "execution_count": null,
   "metadata": {
    "tags": []
   },
   "outputs": [],
   "source": [
    "f, a = pl.subplots(1,2,figsize=(12,6), constrained_layout=True)\n",
    "a[0].plot(colf.fc,colf.sum_intensity/colf.Number_of_pixels,'.',alpha=0.2)\n",
    "a[0].set(yscale='log',xlabel='pixel',ylabel='intensity')\n",
    "a[1].plot(colf.fc,colf.sc,'.')\n",
    "a[1].set(xlabel='pixel', ylabel='pixel');"
   ]
  },
  {
   "cell_type": "code",
   "execution_count": null,
   "metadata": {
    "tags": []
   },
   "outputs": [],
   "source": [
    "colf.writefile(\"si.flt\")"
   ]
  },
  {
   "cell_type": "code",
   "execution_count": null,
   "metadata": {
    "tags": []
   },
   "outputs": [],
   "source": [
    "def auto_guess_distance(masterfile, scan):\n",
    "    \"\"\"\n",
    "    Automatically guess the distance from the masterfile\n",
    "    \"\"\"\n",
    "    possible_distance_motors = ['ffdtx1', 'frelx']\n",
    "    distance_um = None\n",
    "    for mot in possible_distance_motors:\n",
    "        try:\n",
    "            distance_um = float(silx.io.get_data(f\"silx:{masterfile}::{scan}/instrument/positioners/{mot}\" )) * 1e3  # microns\n",
    "        except ValueError:\n",
    "            continue\n",
    "    if distance_um is None:\n",
    "        raise ValueError(\"Couldn't find distance!\")\n",
    "    \n",
    "    return distance_um"
   ]
  },
  {
   "cell_type": "code",
   "execution_count": null,
   "metadata": {},
   "outputs": [],
   "source": [
    "# guess the detector distance in um\n",
    "# you can also manually specify\n",
    "distance_guess = auto_guess_distance(dset.masterfile, dset.scans[-1])  # detector distance in um\n",
    "# distance_guess = 140000  # 140 mm"
   ]
  },
  {
   "cell_type": "markdown",
   "metadata": {
    "tags": []
   },
   "source": [
    "# Note: If you followed powder_calib.ipynb first, you should have a much better starting point than the below suggested!\n",
    "# currently the below cell is only set up for the Eiger\n"
   ]
  },
  {
   "cell_type": "code",
   "execution_count": null,
   "metadata": {
    "tags": []
   },
   "outputs": [],
   "source": [
    "with open(\"si_start.par\",\"w\") as pars:\n",
    "    pars.write(f\"\"\"cell__a {a_silicon}\n",
    "cell__b {a_silicon}\n",
    "cell__c {a_silicon}\n",
    "cell_alpha 90.0\n",
    "cell_beta 90.0\n",
    "cell_gamma 90.0\n",
    "cell_lattice_[P,A,B,C,I,F,R] 227\n",
    "chi 0.0\n",
    "distance {distance_guess}\n",
    "fit_tolerance 0.05\n",
    "o11 -1\n",
    "o12 0\n",
    "o21 0\n",
    "o22 -1\n",
    "omegasign 1.0\n",
    "t_x 0\n",
    "t_y 0\n",
    "t_z 0\n",
    "tilt_x 0.0\n",
    "tilt_y 0.0\n",
    "tilt_z 0.0\n",
    "wavelength {econst/energy}\n",
    "wedge 0.0\n",
    "y_center 1024.0\n",
    "y_size 75.0\n",
    "z_center 1024.0\n",
    "z_size 75.0\"\"\")"
   ]
  },
  {
   "cell_type": "code",
   "execution_count": null,
   "metadata": {
    "tags": []
   },
   "outputs": [],
   "source": [
    "ui = ImageD11.nbGui.fit_geometry.FitGeom( )\n",
    "ui.loadfiltered( 'si.flt' )\n",
    "ui.loadfileparameters( 'si_start.par' )\n",
    "ui.fitGui()"
   ]
  },
  {
   "cell_type": "code",
   "execution_count": null,
   "metadata": {
    "tags": []
   },
   "outputs": [],
   "source": [
    "ui.savegv('si.gve')\n",
    "ui.saveparameters('si_powder.par')"
   ]
  },
  {
   "cell_type": "code",
   "execution_count": null,
   "metadata": {
    "tags": []
   },
   "outputs": [],
   "source": [
    "# Change log level to 1 to see what it did\n",
    "idx = ImageD11.indexing.index( ui.colfile, npk_tol=[( ui.colfile.nrows//2, 0.05),], log_level=3)\n",
    "idx.ubis"
   ]
  },
  {
   "cell_type": "code",
   "execution_count": null,
   "metadata": {
    "tags": []
   },
   "outputs": [],
   "source": [
    "idx.saveubis('si.ubi')"
   ]
  },
  {
   "cell_type": "markdown",
   "metadata": {},
   "source": [
    "# TODO : modernize the rest ..."
   ]
  },
  {
   "cell_type": "code",
   "execution_count": null,
   "metadata": {
    "tags": []
   },
   "outputs": [],
   "source": [
    "!makemap.py -f si.flt -u si.ubi -U si.map -p si_powder.par -l cubic -s cubic -t 0.05 --omega_slop={dset.ostep/2}\n",
    "!makemap.py -f si.flt -u si.map -U si.map -p si_powder.par -l cubic -s cubic -t 0.025 --omega_slop={dset.ostep/2}"
   ]
  },
  {
   "cell_type": "code",
   "execution_count": null,
   "metadata": {
    "tags": []
   },
   "outputs": [],
   "source": [
    "!refine_em.py si.flt.new si.map si_powder.par --omega_slop={dset.ostep/2} -x wedge -l cubic"
   ]
  },
  {
   "cell_type": "code",
   "execution_count": null,
   "metadata": {
    "tags": []
   },
   "outputs": [],
   "source": [
    "!cp 0.par si.par\n",
    "!makemap.py -f si.flt -u si.map -U si.map -p si.par -l cubic -s cubic -t 0.05 --omega_slop={dset.ostep/2}\n",
    "!makemap.py -f si.flt -u si.map -U si.map -p si.par -l cubic -s cubic -t 0.025 --omega_slop={dset.ostep/2}"
   ]
  },
  {
   "cell_type": "code",
   "execution_count": null,
   "metadata": {
    "tags": []
   },
   "outputs": [],
   "source": [
    "!refine_em.py si.flt.new si.map si.par --omega_slop={dset.ostep/2} -x wedge -l cubic"
   ]
  },
  {
   "cell_type": "code",
   "execution_count": null,
   "metadata": {
    "tags": []
   },
   "outputs": [],
   "source": [
    "!cp 0.par si.par\n",
    "!cat si.par"
   ]
  },
  {
   "cell_type": "code",
   "execution_count": null,
   "metadata": {
    "tags": []
   },
   "outputs": [],
   "source": [
    "!makemap.py -f si.flt -u si.map -U si.map -p si.par -s cubic -t 0.025 --omega_slop={dset.ostep/2}"
   ]
  },
  {
   "cell_type": "code",
   "execution_count": null,
   "metadata": {
    "tags": []
   },
   "outputs": [],
   "source": [
    "!ubi2cellpars.py si.map"
   ]
  },
  {
   "cell_type": "code",
   "execution_count": null,
   "metadata": {
    "tags": []
   },
   "outputs": [],
   "source": [
    "g = ImageD11.grain.read_grain_file('si.map')[0]\n",
    "v  = np.linalg.det(g.ubi)\n",
    "a_avg = pow(v ,1/3)\n",
    "\n",
    "deviatoric = g.eps_grain_matrix( [a_avg, a_avg, a_avg, 90, 90, 90] )\n",
    "print('deviatoric strains, should be zero, so an estimate of precision:\\n',deviatoric)"
   ]
  },
  {
   "cell_type": "code",
   "execution_count": null,
   "metadata": {
    "tags": []
   },
   "outputs": [],
   "source": [
    "wold = ui.parameterobj.get('wavelength')\n",
    "wnew = wold*a_silicon/a_avg\n",
    "print( 'Wavelength input',wold,'estimated from silicon',wnew)\n",
    "print( 'Energy input',econst/wold,'estimated from silicon',econst/wnew)"
   ]
  },
  {
   "cell_type": "code",
   "execution_count": null,
   "metadata": {},
   "outputs": [],
   "source": []
  }
 ],
 "metadata": {
  "kernelspec": {
   "display_name": "Python 3 (main)",
   "language": "python",
   "name": "python3"
  },
  "language_info": {
   "codemirror_mode": {
    "name": "ipython",
    "version": 3
   },
   "file_extension": ".py",
   "mimetype": "text/x-python",
   "name": "python",
   "nbconvert_exporter": "python",
   "pygments_lexer": "ipython3",
   "version": "3.11.6"
  }
 },
 "nbformat": 4,
 "nbformat_minor": 4
}
