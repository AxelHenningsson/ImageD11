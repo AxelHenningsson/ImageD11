{
 "cells": [
  {
   "cell_type": "markdown",
   "id": "8deabe5b",
   "metadata": {},
   "source": [
    "# Jupyter notebook based on ImageD11 to process scanning 3DXRD data\n",
    "# Written by Haixing Fang, Jon Wright and James Ball\n",
    "## Date: 16/02/2024"
   ]
  },
  {
   "cell_type": "code",
   "execution_count": 1,
   "id": "851fcab9-7631-439f-885c-438bcefeac84",
   "metadata": {
    "tags": []
   },
   "outputs": [],
   "source": [
    "# There is a bug with the current version of ImageD11 in the site-wide Jupyter env.\n",
    "# This has been fixed here: https://github.com/FABLE-3DXRD/ImageD11/commit/4af88b886b1775585e868f2339a0eb975401468f\n",
    "# Until a new release has been made and added to the env, we need to get the latest version of ImageD11 from GitHub\n",
    "# Put it in your home directory\n",
    "# USER: Change the path below to point to your local copy of ImageD11:\n",
    "\n",
    "import os\n",
    "\n",
    "username = os.environ.get(\"USER\")\n",
    "\n",
    "id11_code_path = f\"/home/esrf/{username}/Code/ImageD11\"\n",
    "\n",
    "import sys\n",
    "\n",
    "sys.path.insert(0, id11_code_path)"
   ]
  },
  {
   "cell_type": "code",
   "execution_count": 21,
   "id": "9b5c1db6-5a32-4294-abef-cfc2150d24de",
   "metadata": {
    "tags": []
   },
   "outputs": [],
   "source": [
    "# import functions we need\n",
    "\n",
    "import glob, pprint\n",
    "import fabio\n",
    "import time\n",
    "import shutil\n",
    "\n",
    "import ImageD11.sinograms.dataset\n",
    "import ImageD11.sinograms.lima_segmenter\n",
    "import ImageD11.sinograms.assemble_label\n",
    "import ImageD11.sinograms.properties\n",
    "\n",
    "import numpy as np\n",
    "import fabio\n",
    "import matplotlib.pyplot as plt\n",
    "from matplotlib.colors import LogNorm\n",
    "from skimage import filters, measure, morphology\n",
    "import ipywidgets as widgets\n",
    "import h5py\n",
    "from IPython.display import display\n",
    "%matplotlib widget"
   ]
  },
  {
   "cell_type": "code",
   "execution_count": 3,
   "id": "f45e3647-2e1b-4a31-b5de-01adbd4d7573",
   "metadata": {
    "tags": []
   },
   "outputs": [
    {
     "data": {
      "text/plain": [
       "\u001b[0;31mType:\u001b[0m        module\n",
       "\u001b[0;31mString form:\u001b[0m <module 'ImageD11.sinograms.dataset' from '/home/esrf/james1997a/Code/ImageD11/ImageD11/sinograms/dataset.py'>\n",
       "\u001b[0;31mFile:\u001b[0m        ~/Code/ImageD11/ImageD11/sinograms/dataset.py\n",
       "\u001b[0;31mDocstring:\u001b[0m   <no docstring>"
      ]
     },
     "metadata": {},
     "output_type": "display_data"
    }
   ],
   "source": [
    "# Check that we're importing ImageD11 from the home directory rather than from the Jupyter kernel\n",
    "\n",
    "?ImageD11.sinograms.dataset"
   ]
  },
  {
   "cell_type": "code",
   "execution_count": 4,
   "id": "d18c0244-49dd-425e-a9b1-90f20e91a066",
   "metadata": {
    "tags": []
   },
   "outputs": [],
   "source": [
    "# TODO: Write a detector function to check whether it's an old-style data format or a new one"
   ]
  },
  {
   "cell_type": "code",
   "execution_count": 5,
   "id": "7fdb520f-cb00-4eeb-b740-fc7b407f1f69",
   "metadata": {
    "tags": []
   },
   "outputs": [
    {
     "name": "stdout",
     "output_type": "stream",
     "text": [
      "total 5249\n",
      "-rwxr-x---  1 backup backup 5372439 Jun 25  2021 ma4752_id11.h5\n",
      "drwxr-x--- 25 backup backup    4096 Jan 18 06:08 MA4752_S4_2_XRD\n"
     ]
    }
   ],
   "source": [
    "# OLD DATASETS\n",
    "\n",
    "# NOTE: For old datasets before the new directory layout structure, we don't distinguish between RAW_DATA and PROCESSED_DATA\n",
    "# In this case, use this cell to specify where your experimental folder is, and do not run the cell below\n",
    "# e.g /data/visitor/4752/id11/20210513\n",
    "\n",
    "### USER: specify your experimental directory\n",
    "\n",
    "rawdata_path = \"/home/esrf/james1997a/Data/ma4752/id11/20210618\"\n",
    "\n",
    "!ls -lrt {rawdata_path}\n",
    "\n",
    "### USER: specify where you want your processed data to go\n",
    "\n",
    "processed_data_root_dir = \"/home/esrf/james1997a/Data/ma4752/id11/20240118/James\""
   ]
  },
  {
   "cell_type": "code",
   "execution_count": 6,
   "id": "187950bd-18b5-4bd4-80da-2a0c7a984b11",
   "metadata": {
    "tags": []
   },
   "outputs": [],
   "source": [
    "# USER: pick a sample and a dataset you want to segment\n",
    "\n",
    "sample = \"MA4752_S4_2_XRD\"\n",
    "dataset = \"DTL1z90\"\n",
    "\n",
    "# USER: specify path to detector mask\n",
    "\n",
    "mask_path = \"/data/id11/nanoscope/Eiger/mask_20210428.edf\""
   ]
  },
  {
   "cell_type": "code",
   "execution_count": 7,
   "id": "ad077c4b-39cc-4b90-9637-33c32f12e364",
   "metadata": {
    "tags": []
   },
   "outputs": [],
   "source": [
    "# create ImageD11 dataset object\n",
    "\n",
    "ds = ImageD11.sinograms.dataset.DataSet(dataroot=rawdata_path,\n",
    "                                        analysisroot=processed_data_root_dir,\n",
    "                                        sample=sample,\n",
    "                                        dset=dataset)\n",
    "ds.import_all()\n",
    "ds.save()"
   ]
  },
  {
   "cell_type": "code",
   "execution_count": 8,
   "id": "24c52da1-1948-4de7-b80b-d735bf8e8d60",
   "metadata": {},
   "outputs": [],
   "source": [
    "# TODO: autodetect eiger/frelon (get from ds object)"
   ]
  },
  {
   "cell_type": "code",
   "execution_count": 9,
   "id": "9d20a5bf-b3b9-489a-81d3-4b8e6c792d7c",
   "metadata": {
    "tags": []
   },
   "outputs": [
    {
     "data": {
      "application/vnd.jupyter.widget-view+json": {
       "model_id": "f0197f21cb4749148fe8642ab6e68648",
       "version_major": 2,
       "version_minor": 0
      },
      "text/plain": [
       "interactive(children=(IntSlider(value=1, description='Cut:', max=2000, min=1), IntSlider(value=3, description=…"
      ]
     },
     "metadata": {},
     "output_type": "display_data"
    }
   ],
   "source": [
    "#Define the initial parameters\n",
    "start_pars = {#\"bgfile\": bg_path,\n",
    "              \"maskfile\": mask_path,\n",
    "              \"cut\": 1,\n",
    "              \"pixels_in_spot\": 3}\n",
    "\n",
    "mask = fabio.open(start_pars[\"maskfile\"]).data\n",
    "#bgimage = fabio.open(start_pars[\"bgfile\"]).data\n",
    "\n",
    "# no background\n",
    "bgimage = np.zeros_like(mask)\n",
    "\n",
    "with h5py.File(ds.masterfile, 'r') as h5In:\n",
    "    image = h5In['300.1/measurement/eiger'][150].astype('uint16')\n",
    "\n",
    "def segment_image(image, cut, pixels_in_spot, bgimage):\n",
    "    cut_image = (image - bgimage)*(1-mask) > cut\n",
    "    labeled_image = measure.label(cut_image)\n",
    "    blob_properties = measure.regionprops(labeled_image)\n",
    "    blob_mask = np.zeros_like(image, dtype=np.uint8)\n",
    "    for prop in blob_properties:\n",
    "        if prop.area >= pixels_in_spot:\n",
    "            blob_mask[labeled_image == prop.label] = 1\n",
    "    filtered_image = (image-bgimage) * blob_mask\n",
    "    return filtered_image\n",
    "\n",
    "\n",
    "def update_image(cut, pixels_in_spot):\n",
    "    filtered_image = segment_image(image, cut, pixels_in_spot, bgimage)\n",
    "    # filtered_image[filtered_image == 0] = filtered_image[filtered_image == 0] + 1e-2\n",
    "    plt.imshow(filtered_image, cmap='viridis', norm=LogNorm(vmin=1, vmax=1000), interpolation=\"nearest\") \n",
    "    plt.title(f\"cut={cut}, pixels_in_spot={pixels_in_spot}\")\n",
    "    plt.show()\n",
    "    \n",
    "\n",
    "cut_slider = widgets.IntSlider(value=start_pars[\"cut\"], min=1, max=2000, step=1, description='Cut:')\n",
    "pixels_in_spot_slider = widgets.IntSlider(value=start_pars[\"pixels_in_spot\"], min=1, max=20, step=1, description='Pixels in Spot:')\n",
    "plt.figure(figsize=(10, 10))\n",
    "interactive_plot = widgets.interactive(update_image, cut=cut_slider, pixels_in_spot=pixels_in_spot_slider)\n",
    "display(interactive_plot)"
   ]
  },
  {
   "cell_type": "code",
   "execution_count": 10,
   "id": "82e9c9ec-5301-4bf0-a7ba-2957afcc4db9",
   "metadata": {
    "tags": []
   },
   "outputs": [],
   "source": [
    "end_pars = {# \"bgfile\": bg_path,\n",
    "              \"maskfile\": mask_path,\n",
    "              \"cut\": cut_slider.value,\n",
    "              \"pixels_in_spot\": pixels_in_spot_slider.value}"
   ]
  },
  {
   "cell_type": "code",
   "execution_count": 11,
   "id": "81929009-7445-434a-b19e-57bcd9e3e6a4",
   "metadata": {
    "tags": []
   },
   "outputs": [
    {
     "name": "stdout",
     "output_type": "stream",
     "text": [
      "cut 1\n",
      "howmany 100000\n",
      "pixels_in_spot 3\n",
      "maskfile /data/id11/nanoscope/Eiger/mask_20210428.edf\n",
      "bgfile \n",
      "cores_per_job 8\n",
      "files_per_core 8\n",
      "total files to process 1082 done 0\n",
      "# Opened mask /data/id11/nanoscope/Eiger/mask_20210428.edf  6.02 % pixels are active\n"
     ]
    },
    {
     "data": {
      "text/plain": [
       "'/home/esrf/james1997a/Data/ma4752/id11/20240118/James/MA4752_S4_2_XRD/MA4752_S4_2_XRD_DTL1z90/slurm/lima_segmenter_slurm.sh'"
      ]
     },
     "execution_count": 11,
     "metadata": {},
     "output_type": "execute_result"
    }
   ],
   "source": [
    "# create batch file to send to SLURM cluster\n",
    "\n",
    "sbat = ImageD11.sinograms.lima_segmenter.setup(ds.dsfile, **end_pars)\n",
    "sbat"
   ]
  },
  {
   "cell_type": "code",
   "execution_count": 12,
   "id": "4b8bb44d",
   "metadata": {
    "tags": []
   },
   "outputs": [
    {
     "name": "stdout",
     "output_type": "stream",
     "text": [
      "12089461\n"
     ]
    }
   ],
   "source": [
    "# send batch file to SLURM cluster\n",
    "\n",
    "sbatch_submit_result = !sbatch {sbat}\n",
    "\n",
    "slurm_job_number = None\n",
    "\n",
    "sbatch_submit_result = str(sbatch_submit_result[0])\n",
    "\n",
    "if sbatch_submit_result.startswith(\"Submitted\"):\n",
    "    slurm_job_number = sbatch_submit_result.split(\"job \")[1]\n",
    "\n",
    "print(slurm_job_number)"
   ]
  },
  {
   "cell_type": "code",
   "execution_count": 13,
   "id": "e7afa7e5-5b6c-4e92-b205-9ead957e4843",
   "metadata": {
    "tags": []
   },
   "outputs": [
    {
     "name": "stdout",
     "output_type": "stream",
     "text": [
      "Slurm job not finished! Waiting 10 seconds...\n",
      "Slurm job not finished! Waiting 10 seconds...\n",
      "Slurm job not finished! Waiting 10 seconds...\n",
      "Slurm job not finished! Waiting 10 seconds...\n",
      "Slurm job not finished! Waiting 10 seconds...\n",
      "Slurm job not finished! Waiting 10 seconds...\n",
      "Slurm job not finished! Waiting 10 seconds...\n",
      "Slurm job not finished! Waiting 10 seconds...\n",
      "Slurm job not finished! Waiting 10 seconds...\n",
      "Slurm job not finished! Waiting 10 seconds...\n",
      "Slurm job finished!\n"
     ]
    }
   ],
   "source": [
    "assert slurm_job_number is not None\n",
    "\n",
    "slurm_job_finished = False\n",
    "\n",
    "while not slurm_job_finished:\n",
    "    squeue_results = !squeue -u $USER\n",
    "    squeue_results = str(squeue_results)\n",
    "    if slurm_job_number not in squeue_results:\n",
    "        print(\"Slurm job finished!\")\n",
    "        slurm_job_finished = True\n",
    "    else:\n",
    "        print(\"Slurm job not finished! Waiting 10 seconds...\")\n",
    "        time.sleep(10)"
   ]
  },
  {
   "cell_type": "code",
   "execution_count": 15,
   "id": "5de23264-4c22-43fe-8be6-8cc54039ea2d",
   "metadata": {
    "tags": []
   },
   "outputs": [
    {
     "name": "stdout",
     "output_type": "stream",
     "text": [
      "Harvesting /home/esrf/james1997a/Data/ma4752/id11/20210618/MA4752_S4_2_XRD/MA4752_S4_2_XRD_DTL1z90/MA4752_S4_2_XRD_DTL1z90.h5: 1.1, 2.1, 3.1, 4.1, 5.1, 6.1, 7.1, 8.1, 9.1, 10.1, 11.1, 12.1, 13.1, 14.1, 15.1, 16.1, 17.1, 18.1, 19.1, 20.1, 21.1, 22.1, 23.1, 24.1, 25.1, 26.1, 27.1, 28.1, 29.1, 30.1, 31.1, 32.1, 33.1, 34.1, 35.1, 36.1, 37.1, 38.1, 39.1, 40.1, 41.1, 42.1, 43.1, 44.1, 45.1, 46.1, 47.1, 48.1, 49.1, 50.1, 51.1, 52.1, 53.1, 54.1, 55.1, 56.1, 57.1, 58.1, 59.1, 60.1, 61.1, 62.1, 63.1, 64.1, 65.1, 66.1, 67.1, 68.1, 69.1, 70.1, 71.1, 72.1, 73.1, 74.1, 75.1, 76.1, 77.1, 78.1, 79.1, 80.1, 81.1, 82.1, 83.1, 84.1, 85.1, 86.1, 87.1, 88.1, 89.1, 90.1, 91.1, 92.1, 93.1, 94.1, 95.1, 96.1, 97.1, 98.1, 99.1, 100.1, 101.1, 102.1, 103.1, 104.1, 105.1, 106.1, 107.1, 108.1, 109.1, 110.1, 111.1, 112.1, 113.1, 114.1, 115.1, 116.1, 117.1, 118.1, 119.1, 120.1, 121.1, 122.1, 123.1, 124.1, 125.1, 126.1, 127.1, 128.1, 129.1, 130.1, 131.1, 132.1, 133.1, 134.1, 135.1, 136.1, 137.1, 138.1, 139.1, 140.1, 141.1, 142.1, 143.1, 144.1, 145.1, 146.1, 147.1, 148.1, 149.1, 150.1, 151.1, 152.1, 153.1, 154.1, 155.1, 156.1, 157.1, 158.1, 159.1, 160.1, 161.1, 162.1, 163.1, 164.1, 165.1, 166.1, 167.1, 168.1, 169.1, 170.1, 171.1, 172.1, 173.1, 174.1, 175.1, 176.1, 177.1, 178.1, 179.1, 180.1, 181.1, 182.1, 183.1, 184.1, 185.1, 186.1, 187.1, 188.1, 189.1, 190.1, 191.1, 192.1, 193.1, 194.1, 195.1, 196.1, 197.1, 198.1, 199.1, 200.1, 201.1, 202.1, 203.1, 204.1, 205.1, 206.1, 207.1, 208.1, 209.1, 210.1, 211.1, 212.1, 213.1, 214.1, 215.1, 216.1, 217.1, 218.1, 219.1, 220.1, 221.1, 222.1, 223.1, 224.1, 225.1, 226.1, 227.1, 228.1, 229.1, 230.1, 231.1, 232.1, 233.1, 234.1, 235.1, 236.1, 237.1, 238.1, 239.1, 240.1, 241.1, 242.1, 243.1, 244.1, 245.1, 246.1, 247.1, 248.1, 249.1, 250.1, 251.1, 252.1, 253.1, 254.1, 255.1, 256.1, 257.1, 258.1, 259.1, 260.1, 261.1, 262.1, 263.1, 264.1, 265.1, 266.1, 267.1, 268.1, 269.1, 270.1, 271.1, 272.1, 273.1, 274.1, 275.1, 276.1, 277.1, 278.1, 279.1, 280.1, 281.1, 282.1, 283.1, 284.1, 285.1, 286.1, 287.1, 288.1, 289.1, 290.1, 291.1, 292.1, 293.1, 294.1, 295.1, 296.1, 297.1, 298.1, 299.1, 300.1, 301.1, 302.1, 303.1, 304.1, 305.1, 306.1, 307.1, 308.1, 309.1, 310.1, 311.1, 312.1, 313.1, 314.1, 315.1, 316.1, 317.1, 318.1, 319.1, 320.1, 321.1, 322.1, 323.1, 324.1, 325.1, 326.1, 327.1, 328.1, 329.1, 330.1, 331.1, 332.1, 333.1, 334.1, 335.1, 336.1, 337.1, 338.1, 339.1, 340.1, 341.1, 342.1, 343.1, 344.1, 345.1, 346.1, 347.1, 348.1, 349.1, 350.1, 351.1, 352.1, 353.1, 354.1, 355.1, 356.1, 357.1, 358.1, 359.1, 360.1, 361.1, 362.1, 363.1, 364.1, 365.1, 366.1, 367.1, 368.1, 369.1, 370.1, 371.1, 372.1, 373.1, 374.1, 375.1, 376.1, 377.1, 378.1, 379.1, 380.1, 381.1, 382.1, 383.1, 384.1, 385.1, 386.1, 387.1, 388.1, 389.1, 390.1, 391.1, 392.1, 393.1, 394.1, 395.1, 396.1, 397.1, 398.1, 399.1, 400.1, 401.1, 402.1, 403.1, 404.1, 405.1, 406.1, 407.1, 408.1, 409.1, 410.1, 411.1, 412.1, 413.1, 414.1, 415.1, 416.1, 417.1, 418.1, 419.1, 420.1, 421.1, 422.1, 423.1, 424.1, 425.1, 426.1, 427.1, 428.1, 429.1, 430.1, 431.1, 432.1, 433.1, 434.1, 435.1, 436.1, 437.1, 438.1, 439.1, 440.1, 441.1, 442.1, 443.1, 444.1, 445.1, 446.1, 447.1, 448.1, 449.1, 450.1, 451.1, 452.1, 453.1, 454.1, 455.1, 456.1, 457.1, 458.1, 459.1, 460.1, 461.1, 462.1, 463.1, 464.1, 465.1, 466.1, 467.1, 468.1, 469.1, 470.1, 471.1, 472.1, 473.1, 474.1, 475.1, 476.1, 477.1, 478.1, 479.1, 480.1, 481.1, 482.1, 483.1, 484.1, 485.1, 486.1, 487.1, 488.1, 489.1, 490.1, 491.1, 492.1, 493.1, 494.1, 495.1, 496.1, 497.1, 498.1, 499.1, 500.1, 501.1, 502.1, 503.1, 504.1, 505.1, 506.1, 507.1, 508.1, 509.1, 510.1, 511.1, 512.1, 513.1, 514.1, 515.1, 516.1, 517.1, 518.1, 519.1, 520.1, 521.1, 522.1, 523.1, 524.1, 525.1, 526.1, 527.1, 528.1, 529.1, 530.1, 531.1, 532.1, 533.1, 534.1, 535.1, 536.1, 537.1, 538.1, 539.1, 540.1, 541.1, \n",
      "Loading pixels: 1.1, 2.1, 3.1, 4.1, 5.1, 6.1, 7.1, 8.1, 9.1, 10.1, 11.1, 12.1, 13.1, 14.1, 15.1, 16.1, 17.1, 18.1, 19.1, 20.1, 21.1, 22.1, 23.1, 24.1, 25.1, 26.1, 27.1, 28.1, 29.1, 30.1, 31.1, 32.1, 33.1, 34.1, 35.1, 36.1, 37.1, 38.1, 39.1, 40.1, 41.1, 42.1, 43.1, 44.1, 45.1, 46.1, 47.1, 48.1, 49.1, 50.1, 51.1, 52.1, 53.1, 54.1, 55.1, 56.1, 57.1, 58.1, 59.1, 60.1, 61.1, 62.1, 63.1, 64.1, 65.1, 66.1, 67.1, 68.1, 69.1, 70.1, 71.1, 72.1, 73.1, 74.1, 75.1, 76.1, 77.1, 78.1, 79.1, 80.1, 81.1, 82.1, 83.1, 84.1, 85.1, 86.1, 87.1, 88.1, 89.1, 90.1, 91.1, 92.1, 93.1, 94.1, 95.1, 96.1, 97.1, 98.1, 99.1, 100.1, 101.1, 102.1, 103.1, 104.1, 105.1, 106.1, 107.1, 108.1, 109.1, 110.1, 111.1, 112.1, 113.1, 114.1, 115.1, 116.1, 117.1, 118.1, 119.1, 120.1, 121.1, 122.1, 123.1, 124.1, 125.1, 126.1, 127.1, 128.1, 129.1, 130.1, 131.1, 132.1, 133.1, 134.1, 135.1, 136.1, 137.1, 138.1, 139.1, 140.1, 141.1, 142.1, 143.1, 144.1, 145.1, 146.1, 147.1, 148.1, 149.1, 150.1, 151.1, 152.1, 153.1, 154.1, 155.1, 156.1, 157.1, 158.1, 159.1, 160.1, 161.1, 162.1, 163.1, 164.1, 165.1, 166.1, 167.1, 168.1, 169.1, 170.1, 171.1, 172.1, 173.1, 174.1, 175.1, 176.1, 177.1, 178.1, 179.1, 180.1, 181.1, 182.1, 183.1, 184.1, 185.1, 186.1, 187.1, 188.1, 189.1, 190.1, 191.1, 192.1, 193.1, 194.1, 195.1, 196.1, 197.1, 198.1, 199.1, 200.1, 201.1, 202.1, 203.1, 204.1, 205.1, 206.1, 207.1, 208.1, 209.1, 210.1, 211.1, 212.1, 213.1, 214.1, 215.1, 216.1, 217.1, 218.1, 219.1, 220.1, 221.1, 222.1, 223.1, 224.1, 225.1, 226.1, 227.1, 228.1, 229.1, 230.1, 231.1, 232.1, 233.1, 234.1, 235.1, 236.1, 237.1, 238.1, 239.1, 240.1, 241.1, 242.1, 243.1, 244.1, 245.1, 246.1, 247.1, 248.1, 249.1, 250.1, 251.1, 252.1, 253.1, 254.1, 255.1, 256.1, 257.1, 258.1, 259.1, 260.1, 261.1, 262.1, 263.1, 264.1, 265.1, 266.1, 267.1, 268.1, 269.1, 270.1, 271.1, 272.1, 273.1, 274.1, 275.1, 276.1, 277.1, 278.1, 279.1, 280.1, 281.1, 282.1, 283.1, 284.1, 285.1, 286.1, 287.1, 288.1, 289.1, 290.1, 291.1, 292.1, 293.1, 294.1, 295.1, 296.1, 297.1, 298.1, 299.1, 300.1, 301.1, 302.1, 303.1, 304.1, 305.1, 306.1, 307.1, 308.1, 309.1, 310.1, 311.1, 312.1, 313.1, 314.1, 315.1, 316.1, 317.1, 318.1, 319.1, 320.1, 321.1, 322.1, 323.1, 324.1, 325.1, 326.1, 327.1, 328.1, 329.1, 330.1, 331.1, 332.1, 333.1, 334.1, 335.1, 336.1, 337.1, 338.1, 339.1, 340.1, 341.1, 342.1, 343.1, 344.1, 345.1, 346.1, 347.1, 348.1, 349.1, 350.1, 351.1, 352.1, 353.1, 354.1, 355.1, 356.1, 357.1, 358.1, 359.1, 360.1, 361.1, 362.1, 363.1, 364.1, 365.1, 366.1, 367.1, 368.1, 369.1, 370.1, 371.1, 372.1, 373.1, 374.1, 375.1, 376.1, 377.1, 378.1, 379.1, 380.1, 381.1, 382.1, 383.1, 384.1, 385.1, 386.1, 387.1, 388.1, 389.1, 390.1, 391.1, 392.1, 393.1, 394.1, 395.1, 396.1, 397.1, 398.1, 399.1, 400.1, 401.1, 402.1, 403.1, 404.1, 405.1, 406.1, 407.1, 408.1, 409.1, 410.1, 411.1, 412.1, 413.1, 414.1, 415.1, 416.1, 417.1, 418.1, 419.1, 420.1, 421.1, 422.1, 423.1, 424.1, 425.1, 426.1, 427.1, 428.1, 429.1, 430.1, 431.1, 432.1, 433.1, 434.1, 435.1, 436.1, 437.1, 438.1, 439.1, 440.1, 441.1, 442.1, 443.1, 444.1, 445.1, 446.1, 447.1, 448.1, 449.1, 450.1, 451.1, 452.1, 453.1, 454.1, 455.1, 456.1, 457.1, 458.1, 459.1, 460.1, 461.1, 462.1, 463.1, 464.1, 465.1, 466.1, 467.1, 468.1, 469.1, 470.1, 471.1, 472.1, 473.1, 474.1, 475.1, 476.1, 477.1, 478.1, 479.1, 480.1, 481.1, 482.1, 483.1, 484.1, 485.1, 486.1, 487.1, 488.1, 489.1, 490.1, 491.1, 492.1, 493.1, 494.1, 495.1, 496.1, 497.1, 498.1, 499.1, 500.1, 501.1, 502.1, 503.1, 504.1, 505.1, 506.1, 507.1, 508.1, 509.1, 510.1, 511.1, 512.1, 513.1, 514.1, 515.1, 516.1, 517.1, 518.1, 519.1, 520.1, 521.1, 522.1, 523.1, 524.1, 525.1, 526.1, 527.1, 528.1, 529.1, 530.1, 531.1, 532.1, 533.1, 534.1, 535.1, 536.1, 537.1, 538.1, 539.1, 540.1, 541.1, \n"
     ]
    }
   ],
   "source": [
    "# label sparse peaks\n",
    "\n",
    "ImageD11.sinograms.assemble_label.main(ds.dsfile, ds.sparsefile)"
   ]
  },
  {
   "cell_type": "code",
   "execution_count": 16,
   "id": "ddb029cd-7f66-4c91-abee-5f1723303360",
   "metadata": {
    "tags": []
   },
   "outputs": [
    {
     "name": "stdout",
     "output_type": "stream",
     "text": [
      "read ds /home/esrf/james1997a/Data/ma4752/id11/20240118/James/MA4752_S4_2_XRD/MA4752_S4_2_XRD_DTL1z90/MA4752_S4_2_XRD_DTL1z90_dataset.h5 : 0.081660 /s\n",
      "Nscans 541\n",
      "Options {'algorithm': 'lmlabel', 'wtmax': 70000, 'save_overlaps': False, 'nproc': 39}\n"
     ]
    },
    {
     "name": "stderr",
     "output_type": "stream",
     "text": [
      "100%|██████████| 579/579 [00:25<00:00, 23.16it/s]\n",
      " 97%|█████████▋| 38/39 [00:01<00:00, 20.34it/s]\n"
     ]
    },
    {
     "name": "stdout",
     "output_type": "stream",
     "text": [
      "146461014 label and pair : 27.308522 /s\n",
      ".............................................................................................................................................................................................................................................................................................................................................................11959372 connected components : 21.028050 /s\n",
      "write hdf5 : 2.332894 /s\n",
      "Trying to clean up shared memory\n"
     ]
    }
   ],
   "source": [
    "# generate peaks table\n",
    "\n",
    "ImageD11.sinograms.properties.main(ds.dsfile, ds.sparsefile, ds.pksfile, options={'algorithm': 'lmlabel', 'wtmax': 70000, 'save_overlaps': False})"
   ]
  },
  {
   "cell_type": "code",
   "execution_count": 23,
   "id": "5f9d215f-0ec9-4014-a49f-76e7c8167cf1",
   "metadata": {
    "tags": []
   },
   "outputs": [],
   "source": [
    "# make a new subfolder called \"sparse\" that holds all the individual \"scan______sparse.h5\" files\n",
    "\n",
    "sparse_folder_path = os.path.join(ds.analysispath, \"sparse\")\n",
    "\n",
    "if not os.path.exists(sparse_folder_path):\n",
    "    os.mkdir(sparse_folder_path)\n",
    "    \n",
    "scan_sparse_files = glob.glob(os.path.join(ds.analysispath, \"scan*_sparse.h5\"))\n",
    "\n",
    "for scan_sparse_file in scan_sparse_files:\n",
    "    shutil.move(scan_sparse_file, sparse_folder_path)"
   ]
  },
  {
   "cell_type": "code",
   "execution_count": 17,
   "id": "0b6e6575-bb8e-47ac-88e1-0ff5350ab1a5",
   "metadata": {},
   "outputs": [],
   "source": [
    "# TODO: incorporate DATA/visitor/ma5839/id11/20240118/SCRIPTS/0_S3DXRD_segment_and_label_single_dset.ipynb"
   ]
  }
 ],
 "metadata": {
  "kernelspec": {
   "display_name": "Python 3 (main)",
   "language": "python",
   "name": "python3"
  },
  "language_info": {
   "codemirror_mode": {
    "name": "ipython",
    "version": 3
   },
   "file_extension": ".py",
   "mimetype": "text/x-python",
   "name": "python",
   "nbconvert_exporter": "python",
   "pygments_lexer": "ipython3",
   "version": "3.11.6"
  }
 },
 "nbformat": 4,
 "nbformat_minor": 5
}
