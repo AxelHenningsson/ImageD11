{
 "cells": [
  {
   "cell_type": "markdown",
   "id": "8deabe5b",
   "metadata": {},
   "source": [
    "# Jupyter notebook based on ImageD11 to process scanning 3DXRD data\n",
    "# Written by Haixing Fang, Jon Wright and James Ball\n",
    "## Date: 16/01/2024"
   ]
  },
  {
   "cell_type": "code",
   "execution_count": null,
   "id": "851fcab9-7631-439f-885c-438bcefeac84",
   "metadata": {
    "tags": []
   },
   "outputs": [],
   "source": [
    "# There is a bug with the current version of ImageD11 in the site-wide Jupyter env.\n",
    "# This has been fixed here: https://github.com/FABLE-3DXRD/ImageD11/commit/4af88b886b1775585e868f2339a0eb975401468f\n",
    "# Until a new release has been made and added to the env, we need to get the latest version of ImageD11 from GitHub\n",
    "# Put it in your home directory somewhere\n",
    "# USER: Change the path below to point to your local copy of ImageD11:\n",
    "\n",
    "id11_code_path = \"/home/esrf/james1997a/Code/ImageD11\"\n",
    "\n",
    "import sys\n",
    "\n",
    "sys.path.insert(0, id11_code_path)"
   ]
  },
  {
   "cell_type": "code",
   "execution_count": null,
   "id": "9b5c1db6-5a32-4294-abef-cfc2150d24de",
   "metadata": {
    "tags": []
   },
   "outputs": [],
   "source": [
    "# import functions we need\n",
    "\n",
    "import os, glob, pprint\n",
    "\n",
    "import ImageD11.sinograms.dataset\n",
    "import ImageD11.sinograms.lima_segmenter\n",
    "import ImageD11.sinograms.assemble_label\n",
    "import ImageD11.sinograms.properties"
   ]
  },
  {
   "cell_type": "code",
   "execution_count": null,
   "id": "f45e3647-2e1b-4a31-b5de-01adbd4d7573",
   "metadata": {
    "tags": []
   },
   "outputs": [],
   "source": [
    "# Check that we're importing ImageD11 from the home directory rather than from the Jupyter kernel\n",
    "\n",
    "?ImageD11.sinograms.dataset"
   ]
  },
  {
   "cell_type": "code",
   "execution_count": null,
   "id": "d18c0244-49dd-425e-a9b1-90f20e91a066",
   "metadata": {
    "tags": []
   },
   "outputs": [],
   "source": [
    "# TODO: Write a detector function to check whether it's an old-style data format or a new one"
   ]
  },
  {
   "cell_type": "code",
   "execution_count": null,
   "id": "5d5f2670-f899-4342-a40e-c472fdef50ae",
   "metadata": {},
   "outputs": [],
   "source": [
    "# OLD DATASETS\n",
    "\n",
    "# NOTE: For old datasets before the new directory layout structure, we don't distinguish between RAW_DATA and PROCESSED_DATA\n",
    "# In this case, use this cell to specify where your experimental folder is, and delete the # NEW DATASETS cell below\n",
    "# e.g /data/visitor/4752/id11/20210513\n",
    "\n",
    "### USER: specify your experimental directory\n",
    "\n",
    "rawdata_path = \"/home/esrf/james1997a/Data/ma4752/id11/20210618\"\n",
    "\n",
    "!ls -lrt {rawdata_path}\n",
    "\n",
    "### USER: specify where you want your processed data to go\n",
    "\n",
    "processed_data_root_dir = \"/home/esrf/james1997a/Data/ma4752/id11/20240118/James\"\n",
    "sparse_pixels_dir = os.path.join(processed_data_root_dir, \"SparsePixels\")  # USER: modify this to change the name of the SparsePixels folder inside processed_data_root_dir"
   ]
  },
  {
   "cell_type": "code",
   "execution_count": null,
   "id": "7fdb520f-cb00-4eeb-b740-fc7b407f1f69",
   "metadata": {
    "tags": []
   },
   "outputs": [],
   "source": [
    "# NEW DATASETS\n",
    "# If you have RAW_DATA and PROCESSED_DATA folders, you should run this cell and delete the # OLD DATASETS cell above\n",
    "\n",
    "### USER: specify your experimental directory\n",
    "\n",
    "base_dir = \"/home/esrf/james1997a/Data/ihma439/id11/20231211\"\n",
    "\n",
    "rawdata_path = os.path.join(base_dir, 'RAW_DATA')\n",
    "\n",
    "!ls -lrt {rawdata_path}\n",
    "\n",
    "processed_data_root_dir = os.path.join(base_dir, 'PROCESSED_DATA/James/20240123')  # USER: modify this to change the destination folder if desired\n",
    "sparse_pixels_dir = os.path.join(processed_data_root_dir, \"SparsePixels\")  # USER: modify this to change the name of the SparsePixels folder inside processed_data_root_dir"
   ]
  },
  {
   "cell_type": "code",
   "execution_count": null,
   "id": "7d3a6300-2ed7-43f9-8f49-0648df6dab2c",
   "metadata": {
    "tags": []
   },
   "outputs": [],
   "source": [
    "# makes folders if they don't already exist\n",
    "\n",
    "if not os.path.exists(processed_data_root_dir):\n",
    "    os.mkdir(processed_data_root_dir)\n",
    "    \n",
    "if not os.path.exists(sparse_pixels_dir):\n",
    "    os.makedirs(sparse_pixels_dir)"
   ]
  },
  {
   "cell_type": "code",
   "execution_count": null,
   "id": "187950bd-18b5-4bd4-80da-2a0c7a984b11",
   "metadata": {
    "tags": []
   },
   "outputs": [],
   "source": [
    "# USER: pick a sample and a dataset you want to segment\n",
    "\n",
    "sample = \"FeAu_0p5_tR_nscope\"\n",
    "dataset = \"top_100um\"\n",
    "\n",
    "# USER: specify path to detector mask\n",
    "\n",
    "mask_path = '/data/id11/nanoscope/Eiger/eiger_mask_E-08-0173_20231127.edf'"
   ]
  },
  {
   "cell_type": "code",
   "execution_count": null,
   "id": "ad077c4b-39cc-4b90-9637-33c32f12e364",
   "metadata": {
    "tags": []
   },
   "outputs": [],
   "source": [
    "# desination of H5 files\n",
    "\n",
    "dset_path = os.path.join(sparse_pixels_dir, f\"ds_{sample}_{dataset}.h5\" )\n",
    "sparse_path = os.path.join(sparse_pixels_dir, f'{sample}_{dataset}_sparse.h5')\n",
    "pks_path = os.path.join(sparse_pixels_dir, f'pks_{sample}_{dataset}.h5')\n",
    "\n",
    "# create ImageD11 dataset object\n",
    "\n",
    "ds = ImageD11.sinograms.dataset.DataSet(dataroot=rawdata_path,\n",
    "                                        analysisroot=sparse_pixels_dir,\n",
    "                                        sample=sample,\n",
    "                                        dset=dataset)\n",
    "ds.import_all()\n",
    "ds.save(dset_path)\n",
    "\n",
    "# create batch file to send to SLURM cluster\n",
    "\n",
    "sbat = ImageD11.sinograms.lima_segmenter.setup(dset_path, maskfile=mask_path)\n",
    "sbat"
   ]
  },
  {
   "cell_type": "code",
   "execution_count": null,
   "id": "4b8bb44d",
   "metadata": {
    "tags": []
   },
   "outputs": [],
   "source": [
    "# send batch file to SLURM cluster\n",
    "\n",
    "!sbatch {sbat}"
   ]
  },
  {
   "cell_type": "code",
   "execution_count": null,
   "id": "a057fef3",
   "metadata": {
    "tags": []
   },
   "outputs": [],
   "source": [
    "# check status of SLURM jobs\n",
    "\n",
    "!squeue -u $USER"
   ]
  },
  {
   "cell_type": "code",
   "execution_count": null,
   "id": "b56de064-adb9-4d9c-92e8-301d24598f16",
   "metadata": {
    "tags": []
   },
   "outputs": [],
   "source": [
    "# you must wait until the SLURM jobs have completed before running the next cell!"
   ]
  },
  {
   "cell_type": "code",
   "execution_count": null,
   "id": "5de23264-4c22-43fe-8be6-8cc54039ea2d",
   "metadata": {},
   "outputs": [],
   "source": [
    "# label sparse peaks\n",
    "\n",
    "ImageD11.sinograms.assemble_label.main(dset_path, sparse_path)"
   ]
  },
  {
   "cell_type": "code",
   "execution_count": null,
   "id": "ddb029cd-7f66-4c91-abee-5f1723303360",
   "metadata": {
    "tags": []
   },
   "outputs": [],
   "source": [
    "# generate peaks table\n",
    "\n",
    "ImageD11.sinograms.properties.main(dset_path, sparse_path, pks_path, options={'algorithm': 'lmlabel', 'wtmax': 70000, 'save_overlaps': False})"
   ]
  },
  {
   "cell_type": "code",
   "execution_count": null,
   "id": "0b6e6575-bb8e-47ac-88e1-0ff5350ab1a5",
   "metadata": {},
   "outputs": [],
   "source": [
    "# incorporate DATA/visitor/ma5839/id11/20240118/SCRIPTS/0_S3DXRD_segment_and_label_single_dset.ipynb"
   ]
  }
 ],
 "metadata": {
  "kernelspec": {
   "display_name": "Python 3 (main)",
   "language": "python",
   "name": "python3"
  },
  "language_info": {
   "codemirror_mode": {
    "name": "ipython",
    "version": 3
   },
   "file_extension": ".py",
   "mimetype": "text/x-python",
   "name": "python",
   "nbconvert_exporter": "python",
   "pygments_lexer": "ipython3",
   "version": "3.11.6"
  }
 },
 "nbformat": 4,
 "nbformat_minor": 5
}
