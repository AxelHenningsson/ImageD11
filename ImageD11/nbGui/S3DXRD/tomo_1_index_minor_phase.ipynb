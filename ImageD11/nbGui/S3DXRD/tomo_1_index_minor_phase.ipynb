{
 "cells": [
  {
   "cell_type": "markdown",
   "metadata": {},
   "source": [
    "# Jupyter notebook based on ImageD11 to process scanning 3DXRD data\n",
    "# Written by Haixing Fang, Jon Wright and James Ball\n",
    "## Date: 12/10/2024"
   ]
  },
  {
   "cell_type": "markdown",
   "metadata": {},
   "source": [
    "This notebook will try to find good grain orientations from a 4D merge of your peak data.  \n",
    "This notebook is optimised for a weaker minor phase in a larger major phase sample.  \n",
    "This means your peaks have been merged across omega and dty.  \n",
    "This notebook (and the tomo route in general) works best for low levels of deformation.  \n",
    "If it doesn't seem to work well, try the point-by-point route instead!"
   ]
  },
  {
   "cell_type": "code",
   "execution_count": null,
   "metadata": {
    "tags": []
   },
   "outputs": [],
   "source": [
    "exec(open('/data/id11/nanoscope/install_ImageD11_from_git.py').read())"
   ]
  },
  {
   "cell_type": "code",
   "execution_count": null,
   "metadata": {
    "tags": [
     "parameters"
    ]
   },
   "outputs": [],
   "source": [
    "# this cell is tagged with 'parameters'\n",
    "# to view the tag, select the cell, then find the settings gear icon (right or left sidebar) and look for Cell Tags\n",
    "\n",
    "# python environment stuff\n",
    "PYTHONPATH = setup_ImageD11_from_git( ) # ( os.path.join( os.environ['HOME'],'Code'), 'ImageD11_git' )\n",
    "\n",
    "# dataset file to import\n",
    "dset_file = 'si_cube_test/processed/Si_cube/Si_cube_S3DXRD_nt_moves_dty/Si_cube_S3DXRD_nt_moves_dty_dataset.h5'\n",
    "\n",
    "# phase names\n",
    "major_phase_str = 'Fe'\n",
    "minor_phase_str = 'Au'\n",
    "\n",
    "# peak filtering\n",
    "major_phase_cf_frac = 0.99418\n",
    "major_phase_cf_dsmax = 1.594\n",
    "major_phase_cf_dstol = 0.0035\n",
    "\n",
    "minor_phase_cf_frac = 0.9975\n",
    "minor_phase_cf_dsmax = 1.594\n",
    "minor_phase_cf_dstol = 0.0045\n",
    "\n",
    "# indexing\n",
    "indexer_ds_tol = 0.0045\n",
    "\n",
    "rings_for_gen = [0, 4, 5]\n",
    "\n",
    "# now we want to decide which rings to score our found orientations against\n",
    "# generally we can just exclude dodgy rings (close to other phases, only a few peaks in etc)\n",
    "rings_for_scoring = [0, 2, 3, 4, 5, 6, 7, 8, 10, 12, 13]\n",
    "\n",
    "# the sequence of hkl tolerances the indexer will iterate through\n",
    "hkl_tols_seq = [0.01, 0.02, 0.03, 0.04, 0.05]\n",
    "# the sequence of minpks fractions the indexer will iterate through\n",
    "fracs = [0.9]\n",
    "# the tolerance in g-vector angle\n",
    "\n",
    "# the max number of UBIs we can find per pair of rings\n",
    "max_grains = 1000\n",
    "\n",
    "peak_assign_tol = 0.05"
   ]
  },
  {
   "cell_type": "code",
   "execution_count": null,
   "metadata": {
    "tags": []
   },
   "outputs": [],
   "source": [
    "# import functions we need\n",
    "\n",
    "import numpy as np\n",
    "import h5py\n",
    "\n",
    "import matplotlib\n",
    "%matplotlib ipympl\n",
    "from matplotlib import pyplot as plt\n",
    "\n",
    "import ImageD11.nbGui.nb_utils as utils\n",
    "\n",
    "import ImageD11.grain\n",
    "import ImageD11.indexing\n",
    "import ImageD11.columnfile\n",
    "from ImageD11.peakselect import select_ring_peaks_by_intensity, rings_mask"
   ]
  },
  {
   "cell_type": "code",
   "execution_count": null,
   "metadata": {
    "tags": []
   },
   "outputs": [],
   "source": [
    "# USER: Pass path to dataset file\n",
    "\n",
    "ds = ImageD11.sinograms.dataset.load(dset_file)\n",
    "   \n",
    "sample = ds.sample\n",
    "dataset = ds.dsname\n",
    "rawdata_path = ds.dataroot\n",
    "processed_data_root_dir = ds.analysisroot\n",
    "\n",
    "print(ds)\n",
    "print(ds.shape)"
   ]
  },
  {
   "cell_type": "code",
   "execution_count": null,
   "metadata": {
    "tags": []
   },
   "outputs": [],
   "source": [
    "# load phases from parameter file\n",
    "\n",
    "ds.phases = ds.get_phases_from_disk()\n",
    "ds.phases.unitcells"
   ]
  },
  {
   "cell_type": "code",
   "execution_count": null,
   "metadata": {
    "tags": []
   },
   "outputs": [],
   "source": [
    "# now let's select a phase to index from our parameters json\n",
    "\n",
    "major_phase_unitcell = ds.phases.unitcells[major_phase_str]\n",
    "minor_phase_unitcell = ds.phases.unitcells[minor_phase_str]\n",
    "\n",
    "print(major_phase_str, major_phase_unitcell.lattice_parameters, major_phase_unitcell.spacegroup)\n",
    "print(minor_phase_str, minor_phase_unitcell.lattice_parameters, minor_phase_unitcell.spacegroup)"
   ]
  },
  {
   "cell_type": "code",
   "execution_count": null,
   "metadata": {
    "tags": []
   },
   "outputs": [],
   "source": [
    "# load 4d peaks\n",
    "\n",
    "cf_4d = ds.get_cf_4d()"
   ]
  },
  {
   "cell_type": "code",
   "execution_count": null,
   "metadata": {
    "tags": []
   },
   "outputs": [],
   "source": [
    "# for now - set parameters with major phase\n",
    "\n",
    "ds.update_colfile_pars(cf_4d, phase_name=major_phase_str)"
   ]
  },
  {
   "cell_type": "code",
   "execution_count": null,
   "metadata": {
    "tags": []
   },
   "outputs": [],
   "source": [
    "# here we are filtering our peaks (cf_4d) to select only the strongest ones for indexing purposes only!\n",
    "# dsmax is being set to limit rings given to the indexer - 6-8 rings is normally good\n",
    "\n",
    "# USER: modify the \"frac\" parameter below and re-run the cell until the orange dot sits nicely on the \"elbow\" of the blue line\n",
    "# this indicates the fractional intensity cutoff we will select\n",
    "# if the blue line does not look elbow-shaped in the logscale plot, try changing the \"doplot\" parameter (the y scale of the logscale plot) until it does\n",
    "\n",
    "cf_major_phase = select_ring_peaks_by_intensity(cf_4d, frac=major_phase_cf_frac, dsmax=major_phase_cf_dsmax, dstol=major_phase_cf_dstol, doplot=0.95)\n",
    "print(cf_4d.nrows)\n",
    "print(cf_major_phase.nrows)"
   ]
  },
  {
   "cell_type": "code",
   "execution_count": null,
   "metadata": {
    "tags": []
   },
   "outputs": [],
   "source": [
    "# Update geometry for minor phase peaks\n",
    "\n",
    "ds.update_colfile_pars(cf_4d, phase_name=minor_phase_str)"
   ]
  },
  {
   "cell_type": "code",
   "execution_count": null,
   "metadata": {
    "tags": []
   },
   "outputs": [],
   "source": [
    "cf_minor_phase = select_ring_peaks_by_intensity(cf_4d, frac=minor_phase_cf_frac, dsmax=minor_phase_cf_dsmax, dstol=minor_phase_cf_dstol, doplot=0.95)\n",
    "print(cf_4d.nrows)\n",
    "print(cf_minor_phase.nrows)"
   ]
  },
  {
   "cell_type": "code",
   "execution_count": null,
   "metadata": {
    "tags": []
   },
   "outputs": [],
   "source": [
    "major_phase_unitcell.makerings(cf_major_phase.ds.max())\n",
    "minor_phase_unitcell.makerings(cf_minor_phase.ds.max())"
   ]
  },
  {
   "cell_type": "code",
   "execution_count": null,
   "metadata": {
    "tags": []
   },
   "outputs": [],
   "source": [
    "# now we can take a look at the intensities of the remaining peaks\n",
    "\n",
    "fig, ax = plt.subplots(figsize=(16, 9), constrained_layout=True)\n",
    "\n",
    "ax.plot(cf_4d.ds, cf_4d.sum_intensity,',', label='cf_4d',c='blue')\n",
    "ax.plot(cf_major_phase.ds, cf_major_phase.sum_intensity,',', label='major phase',c='orange')\n",
    "ax.plot(cf_minor_phase.ds, cf_minor_phase.sum_intensity,',', label='minor phase',c='green')\n",
    "ax.plot(major_phase_unitcell.ringds, [5e4,]*len(major_phase_unitcell.ringds), '|', ms=90, c=\"red\")\n",
    "ax.plot(minor_phase_unitcell.ringds, [1e4,]*len(minor_phase_unitcell.ringds), '|', ms=90, c=\"brown\")\n",
    "ax.semilogy()\n",
    "\n",
    "ax.set_xlabel(\"Dstar\")\n",
    "ax.set_ylabel(\"Intensity\")\n",
    "ax.legend()\n",
    "\n",
    "plt.show()"
   ]
  },
  {
   "cell_type": "code",
   "execution_count": null,
   "metadata": {
    "tags": []
   },
   "outputs": [],
   "source": [
    "cf_strong = cf_minor_phase"
   ]
  },
  {
   "cell_type": "code",
   "execution_count": null,
   "metadata": {
    "tags": []
   },
   "outputs": [],
   "source": [
    "# specify our ImageD11 indexer with these peaks\n",
    "\n",
    "indexer = ImageD11.indexing.indexer_from_colfile(cf_strong)\n",
    "\n",
    "print(f\"Indexing {cf_strong.nrows} peaks\")"
   ]
  },
  {
   "cell_type": "code",
   "execution_count": null,
   "metadata": {
    "tags": []
   },
   "outputs": [],
   "source": [
    "# USER: set a tolerance in d-space (for assigning peaks to powder rings)\n",
    "\n",
    "indexer.ds_tol = indexer_ds_tol\n",
    "\n",
    "# change the log level so we can see what the ring assigments look like\n",
    "\n",
    "ImageD11.indexing.loglevel = 1\n",
    "\n",
    "# assign peaks to powder rings\n",
    "\n",
    "indexer.assigntorings()\n",
    "\n",
    "# change log level back again\n",
    "\n",
    "ImageD11.indexing.loglevel = 3"
   ]
  },
  {
   "cell_type": "code",
   "execution_count": null,
   "metadata": {
    "tags": []
   },
   "outputs": [],
   "source": [
    "# let's plot the assigned peaks\n",
    "\n",
    "fig, ax = plt.subplots(layout='constrained', figsize=(16,9))\n",
    "\n",
    "# indexer.ra is the ring assignments\n",
    "\n",
    "ax.scatter(cf_strong.ds, cf_strong.eta, c=indexer.ra, cmap='tab20', s=1)\n",
    "ax.plot( major_phase_unitcell.ringds, [0,]*len(major_phase_unitcell.ringds), '|', ms=90, c=\"red\")\n",
    "ax.plot( minor_phase_unitcell.ringds, [25,]*len(minor_phase_unitcell.ringds), '|', ms=90, c=\"brown\")\n",
    "\n",
    "ax.set_xlabel(\"d-star\")\n",
    "ax.set_ylabel(\"eta\")\n",
    "\n",
    "plt.show()"
   ]
  },
  {
   "cell_type": "code",
   "execution_count": null,
   "metadata": {
    "tags": []
   },
   "outputs": [],
   "source": [
    "# now we are indexing!\n",
    "# we have to choose which rings we want to generate orientations on\n",
    "# generally we want two or three low-multiplicity rings that are isolated from other phases\n",
    "# take a look at the ring assignment output from a few cells above, and choose two or three in 'rings_for_gen'\n",
    "cosine_tol = np.cos(np.radians(90 - ds.ostep))\n",
    "\n",
    "grains, indexer = utils.do_index(cf=cf_strong,\n",
    "                                 unitcell=minor_phase_unitcell,\n",
    "                                dstol=indexer_ds_tol,\n",
    "                                forgen=rings_for_gen,\n",
    "                                foridx=rings_for_scoring,\n",
    "                                hkl_tols=hkl_tols_seq,\n",
    "                                fracs=fracs,\n",
    "                                cosine_tol=cosine_tol,\n",
    "                                max_grains=max_grains\n",
    ")\n",
    "print(f'Found {len(grains)} grains!')"
   ]
  },
  {
   "cell_type": "code",
   "execution_count": null,
   "metadata": {
    "tags": []
   },
   "outputs": [],
   "source": [
    "for i, g in enumerate(grains):\n",
    "    g.a = np.cbrt(np.linalg.det(g.ubi))\n",
    "    g.gid = i"
   ]
  },
  {
   "cell_type": "code",
   "execution_count": null,
   "metadata": {
    "tags": []
   },
   "outputs": [],
   "source": [
    "mean_unit_cell_lengths = [grain.a for grain in grains]\n",
    "\n",
    "fig, ax = plt.subplots()\n",
    "ax.plot(mean_unit_cell_lengths)\n",
    "ax.set_xlabel(\"Grain ID\")\n",
    "ax.set_ylabel(\"Unit cell length\")\n",
    "plt.show()\n",
    "\n",
    "a0 = np.median(mean_unit_cell_lengths)\n",
    "    \n",
    "print(a0)"
   ]
  },
  {
   "cell_type": "code",
   "execution_count": null,
   "metadata": {
    "tags": []
   },
   "outputs": [],
   "source": [
    "# assign peaks to grains\n",
    "\n",
    "utils.assign_peaks_to_grains(grains, cf_strong, tol=peak_assign_tol)"
   ]
  },
  {
   "cell_type": "code",
   "execution_count": null,
   "metadata": {},
   "outputs": [],
   "source": [
    "utils.plot_index_results(indexer, cf_strong, 'First attempt')"
   ]
  },
  {
   "cell_type": "code",
   "execution_count": null,
   "metadata": {},
   "outputs": [],
   "source": [
    "utils.plot_grain_sinograms(grains, cf_strong, 25)"
   ]
  },
  {
   "cell_type": "code",
   "execution_count": null,
   "metadata": {
    "tags": []
   },
   "outputs": [],
   "source": [
    "# save grain data\n",
    "\n",
    "ds.save_grains_to_disk(grains, phase_name=minor_phase_str)"
   ]
  },
  {
   "cell_type": "code",
   "execution_count": null,
   "metadata": {
    "tags": []
   },
   "outputs": [],
   "source": [
    "ds.save()"
   ]
  },
  {
   "cell_type": "code",
   "execution_count": null,
   "metadata": {},
   "outputs": [],
   "source": [
    "if 1:\n",
    "    raise ValueError(\"Change the 1 above to 0 to allow 'Run all cells' in the notebook\")"
   ]
  },
  {
   "cell_type": "code",
   "execution_count": null,
   "metadata": {},
   "outputs": [],
   "source": [
    "# Now that we're happy with our indexing parameters, we can run the below cell to do this in bulk for many samples/datasets\n",
    "# by default this will do all samples in sample_list, all datasets with a prefix of dset_prefix\n",
    "# you can add samples and datasets to skip in skips_dict\n",
    "\n",
    "skips_dict = {\n",
    "    \"FeAu_0p5_tR_nscope\": [\"top_-50um\", \"top_-100um\"]\n",
    "}\n",
    "\n",
    "dset_prefix = \"top\"\n",
    "\n",
    "sample_list = [\"FeAu_0p5_tR_nscope\"]\n",
    "    \n",
    "samples_dict = utils.find_datasets_to_process(rawdata_path, skips_dict, dset_prefix, sample_list)\n",
    "    \n",
    "# manual override:\n",
    "# samples_dict = {\"FeAu_0p5_tR_nscope\": [\"top_100um\", \"top_150um\"]}\n",
    "    \n",
    "# now we have our samples_dict, we can process our data:\n",
    "\n",
    "for sample, datasets in samples_dict.items():\n",
    "    for dataset in datasets:\n",
    "        print(f\"Processing dataset {dataset} in sample {sample}\")\n",
    "        dset_path = os.path.join(processed_data_root_dir, sample, f\"{sample}_{dataset}\", f\"{sample}_{dataset}_dataset.h5\")\n",
    "        if not os.path.exists(dset_path):\n",
    "            print(f\"Missing DataSet file for {dataset} in sample {sample}, skipping\")\n",
    "            continue\n",
    "        \n",
    "        print(\"Importing DataSet object\")\n",
    "        \n",
    "        ds = ImageD11.sinograms.dataset.load(dset_path)\n",
    "        print(f\"I have a DataSet {ds.dset} in sample {ds.sample}\")\n",
    "        \n",
    "        ds.phases = ds.get_phases_from_disk()\n",
    "        \n",
    "        if os.path.exists(ds.grainsfile):\n",
    "            # check grains file for existance of minor phase, skip if it's there\n",
    "            with h5py.File(ds.grainsfile, \"r\") as hin:\n",
    "                if minor_phase_str in hin.keys():\n",
    "                    print(f\"Already have grains for {dataset} in sample {sample}, skipping\")\n",
    "                    continue\n",
    "        \n",
    "        cf_4d = ds.get_cf_4d()\n",
    "        ds.update_colfile_pars(cf_4d, phase_name=minor_phase_str)\n",
    "        \n",
    "        cf_strong = select_ring_peaks_by_intensity(cf_4d, dstol=minor_phase_cf_dstol, dsmax=minor_phase_cf_dsmax, frac=minor_phase_cf_frac)\n",
    "\n",
    "        grains, indexer = utils.do_index(cf=cf_strong,\n",
    "                                         unitcell=ds.phases.unitcells[minor_phase_str],\n",
    "                                         dstol=indexer_ds_tol,\n",
    "                                         forgen=rings_for_gen,\n",
    "                                         foridx=rings_for_scoring,\n",
    "                                         hkl_tols=hkl_tols_seq,\n",
    "                                         fracs=fracs,\n",
    "                                         cosine_tol=cosine_tol,\n",
    "                                         max_grains=max_grains\n",
    "        )\n",
    "\n",
    "        ds.save_grains_to_disk(grains, phase_name=minor_phase_str)\n",
    "        ds.save()\n",
    "\n",
    "print(\"Done!\")"
   ]
  },
  {
   "cell_type": "code",
   "execution_count": null,
   "metadata": {},
   "outputs": [],
   "source": []
  }
 ],
 "metadata": {
  "kernelspec": {
   "display_name": "Python 3 (main)",
   "language": "python",
   "name": "python3"
  },
  "language_info": {
   "codemirror_mode": {
    "name": "ipython",
    "version": 3
   },
   "file_extension": ".py",
   "mimetype": "text/x-python",
   "name": "python",
   "nbconvert_exporter": "python",
   "pygments_lexer": "ipython3",
   "version": "3.11.6"
  }
 },
 "nbformat": 4,
 "nbformat_minor": 4
}
