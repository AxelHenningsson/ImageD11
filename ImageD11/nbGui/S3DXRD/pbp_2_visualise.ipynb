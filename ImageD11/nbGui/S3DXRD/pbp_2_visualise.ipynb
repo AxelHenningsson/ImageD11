{
 "cells": [
  {
   "cell_type": "code",
   "execution_count": null,
   "metadata": {
    "tags": []
   },
   "outputs": [],
   "source": [
    "exec(open('/data/id11/nanoscope/install_ImageD11_from_git.py').read())\n",
    "PYTHONPATH = setup_ImageD11_from_git( ) #  os.path.join( os.environ['HOME'],'Code'), 'ImageD11' )"
   ]
  },
  {
   "cell_type": "code",
   "execution_count": null,
   "metadata": {
    "tags": []
   },
   "outputs": [],
   "source": [
    "import numba\n",
    "import numpy as np\n",
    "import scipy.ndimage as ndi\n",
    "from matplotlib import pyplot as plt\n",
    "\n",
    "from ImageD11.grain import grain\n",
    "from ImageD11 import unitcell\n",
    "import ImageD11.sinograms.dataset\n",
    "from ImageD11.sinograms.point_by_point import PBPMap, nb_inv\n",
    "from ImageD11.sinograms.tensor_map import TensorMap\n",
    "from ImageD11.nbGui import nb_utils as utils\n",
    "\n",
    "%matplotlib ipympl"
   ]
  },
  {
   "cell_type": "code",
   "execution_count": null,
   "metadata": {
    "tags": []
   },
   "outputs": [],
   "source": [
    "# USER: Pass path to dataset file\n",
    "\n",
    "dset_file = 'si_cube_test/processed/Si_cube/Si_cube_S3DXRD_nt_moves_dty/Si_cube_S3DXRD_nt_moves_dty_dataset.h5'\n",
    "\n",
    "ds = ImageD11.sinograms.dataset.load(dset_file)\n",
    "\n",
    "sample = ds.sample\n",
    "dataset = ds.dsname\n",
    "rawdata_path = ds.dataroot\n",
    "processed_data_root_dir = ds.analysisroot\n",
    "\n",
    "print(ds)\n",
    "print(ds.shape)"
   ]
  },
  {
   "cell_type": "code",
   "execution_count": null,
   "metadata": {
    "tags": []
   },
   "outputs": [],
   "source": [
    "# define your reference unit cell for RGB colour plotting\n",
    "\n",
    "cf_2d = ds.get_cf_2d_from_disk()\n",
    "cf_2d.parameters.loadparameters(ds.parfile)\n",
    "\n",
    "cf_pars = cf_2d.parameters.get_parameters()\n",
    "\n",
    "ref_ucell = ImageD11.unitcell.unitcell_from_parameters(cf_pars)"
   ]
  },
  {
   "cell_type": "code",
   "execution_count": null,
   "metadata": {
    "tags": []
   },
   "outputs": [],
   "source": [
    "pbpfile = os.path.join(ds.analysispath, ds.dsname + '_pbp.txt')\n",
    "\n",
    "pmap = PBPMap(pbpfile)"
   ]
  },
  {
   "cell_type": "code",
   "execution_count": null,
   "metadata": {
    "tags": []
   },
   "outputs": [],
   "source": [
    "fig, ax = plt.subplots()\n",
    "ax.hist(pmap.u, bins=np.arange(0.5,np.max(pmap.u)+0.51,1))\n",
    "ax.set_xlabel('Unique spots per pixel')\n",
    "ax.set_ylabel('Count')\n",
    "plt.show()"
   ]
  },
  {
   "cell_type": "code",
   "execution_count": null,
   "metadata": {
    "tags": []
   },
   "outputs": [],
   "source": [
    "# choose the minimum number of peaks you want a pixel to have to be counted\n",
    "\n",
    "min_unique = 30\n",
    "\n",
    "pmap.choose_best(min_unique)"
   ]
  },
  {
   "cell_type": "code",
   "execution_count": null,
   "metadata": {
    "tags": []
   },
   "outputs": [],
   "source": [
    "# let's plot the result of your choice\n",
    "\n",
    "fig, axs = plt.subplots(1, 2, sharex=True, sharey=True, figsize=(10, 5), constrained_layout=True)\n",
    "r = np.where(pmap.nuniq > min_unique, pmap.nuniq, 0)\n",
    "axs[0].imshow(pmap.nuniq, origin=\"lower\")\n",
    "axs[0].set_title(\"All pixels\")\n",
    "axs[1].imshow(r, origin=\"lower\")\n",
    "axs[1].set_title(\"Best pixels\")\n",
    "plt.show()"
   ]
  },
  {
   "cell_type": "code",
   "execution_count": null,
   "metadata": {
    "tags": []
   },
   "outputs": [],
   "source": [
    "# now make a TensorMap from it so we can plot and export\n",
    "\n",
    "# first let's work out what phase we have\n",
    "phases = {0: ref_ucell}\n",
    "\n",
    "# let's make a phase id map from our pbpmap\n",
    "phase_ids = TensorMap.recon_order_to_map_order(np.where(pmap.nuniq > min_unique, 0, -1))\n",
    "\n",
    "tmap = TensorMap.from_pbpmap(pmap, steps=(1, ds.ystep, ds.ystep), phases=phases)\n",
    "tmap['phase_ids'] = phase_ids"
   ]
  },
  {
   "cell_type": "code",
   "execution_count": null,
   "metadata": {
    "tags": []
   },
   "outputs": [],
   "source": [
    "tmap.plot('nuniq')"
   ]
  },
  {
   "cell_type": "code",
   "execution_count": null,
   "metadata": {
    "tags": []
   },
   "outputs": [],
   "source": [
    "# compute the IPF colours from the UBIs and phase\n",
    "\n",
    "tmap.get_ipf_maps()"
   ]
  },
  {
   "cell_type": "code",
   "execution_count": null,
   "metadata": {
    "tags": []
   },
   "outputs": [],
   "source": [
    "tmap.plot('ipf_x')\n",
    "tmap.plot('ipf_y')\n",
    "tmap.plot('ipf_z')"
   ]
  },
  {
   "cell_type": "code",
   "execution_count": null,
   "metadata": {
    "tags": []
   },
   "outputs": [],
   "source": [
    "utils.plot_all_ipfs_from_meta_orien(tmap.get_meta_orix_orien(), tmap.phases[0])"
   ]
  },
  {
   "cell_type": "code",
   "execution_count": null,
   "metadata": {
    "tags": []
   },
   "outputs": [],
   "source": [
    "# save the TensorMap to disk\n",
    "\n",
    "tmap.to_h5(os.path.join(ds.analysispath, 'pbp_tensormap.h5'))\n",
    "tmap.to_paraview(os.path.join(ds.analysispath, 'pbp_tensormap.h5'))"
   ]
  }
 ],
 "metadata": {
  "kernelspec": {
   "display_name": "Python 3 (main)",
   "language": "python",
   "name": "python3"
  },
  "language_info": {
   "codemirror_mode": {
    "name": "ipython",
    "version": 3
   },
   "file_extension": ".py",
   "mimetype": "text/x-python",
   "name": "python",
   "nbconvert_exporter": "python",
   "pygments_lexer": "ipython3",
   "version": "3.11.6"
  }
 },
 "nbformat": 4,
 "nbformat_minor": 4
}
