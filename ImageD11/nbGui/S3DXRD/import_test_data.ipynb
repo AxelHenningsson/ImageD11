{
 "cells": [
  {
   "cell_type": "markdown",
   "id": "782e9eb1-2d14-462f-82c3-5e4d39def6a7",
   "metadata": {},
   "source": [
    "# Jupyter notebook based on ImageD11 to process scanning 3DXRD data\n",
    "# Written by Haixing Fang, Jon Wright and James Ball\n",
    "## Date: 23/07/2024"
   ]
  },
  {
   "cell_type": "markdown",
   "id": "01e88b7a-cca7-427e-a7ca-86b46bc613bf",
   "metadata": {},
   "source": [
    "\n",
    "# NOTE: These notebooks are under active development\n",
    "\n",
    "They require the latest version of ImageD11 from Git to run.\n",
    "\n",
    "If you don't have this set up yet, you can run the below cell.\n",
    "\n",
    "It will automatically download and install ImageD11 to your home directory\n"
   ]
  },
  {
   "cell_type": "code",
   "execution_count": null,
   "id": "6c9f1867-2a3c-4b01-83d4-431a7177ebcc",
   "metadata": {
    "tags": []
   },
   "outputs": [],
   "source": [
    "import os\n",
    "\n",
    "home_dir = !echo $HOME\n",
    "home_dir = str(home_dir[0])\n",
    "\n",
    "# USER: You can change this location if you want\n",
    "\n",
    "id11_code_path = os.path.join(home_dir, \"Code/ImageD11\")\n",
    "\n",
    "# check whether we already have ImageD11 here\n",
    "\n",
    "if os.path.exists(id11_code_path):\n",
    "    raise FileExistsError(\"ImageD11 already present! Giving up\")\n",
    "\n",
    "!git clone https://github.com/FABLE-3DXRD/ImageD11 {id11_code_path}\n",
    "output = !cd {id11_code_path} && python setup.py build_ext --inplace\n",
    "\n",
    "if not os.path.exists(os.path.join(id11_code_path, \"build\")):\n",
    "    raise FileNotFoundError(f\"Can't find build folder in {id11_code_path}, compilation went wrong somewhere\")\n",
    "\n",
    "import sys\n",
    "\n",
    "sys.path.insert(0, id11_code_path)\n",
    "\n",
    "# if this works, we installed ImageD11 properly!\n",
    "try:\n",
    "    import ImageD11.cImageD11\n",
    "except:\n",
    "    raise FileNotFoundError(\"Couldn't import cImageD11, there's a problem with your Git install!\")"
   ]
  },
  {
   "cell_type": "code",
   "execution_count": null,
   "id": "7e7b5d2c-805b-4f5b-af23-779534adec39",
   "metadata": {
    "tags": []
   },
   "outputs": [],
   "source": [
    "# USER: Change the path below to point to your local copy of ImageD11:\n",
    "\n",
    "import os\n",
    "\n",
    "home_dir = !echo $HOME\n",
    "home_dir = str(home_dir[0])\n",
    "\n",
    "# USER: You can change this location if you want\n",
    "\n",
    "id11_code_path = os.path.join(home_dir, \"Code/ImageD11\")\n",
    "\n",
    "import sys\n",
    "\n",
    "sys.path.insert(0, id11_code_path)"
   ]
  },
  {
   "cell_type": "code",
   "execution_count": null,
   "id": "e86486f2-af6f-4922-8d46-39a2363b6989",
   "metadata": {
    "tags": []
   },
   "outputs": [],
   "source": [
    "# import functions we need\n",
    "\n",
    "import ImageD11.sinograms.dataset\n",
    "import ImageD11.sinograms.properties\n",
    "\n",
    "from ImageD11.fetch_data import si_cube_s3dxrd_dataset"
   ]
  },
  {
   "cell_type": "code",
   "execution_count": null,
   "id": "b6bff1ff-55bb-4f4c-a1d3-44bfaa09c816",
   "metadata": {
    "tags": []
   },
   "outputs": [],
   "source": [
    "# Check that we're importing ImageD11 from the home directory rather than from the Jupyter kernel\n",
    "\n",
    "?ImageD11.sinograms.dataset"
   ]
  },
  {
   "cell_type": "code",
   "execution_count": null,
   "id": "916141bb-d815-4450-887b-b1a9b25d37c7",
   "metadata": {
    "tags": []
   },
   "outputs": [],
   "source": [
    "# USER: change this as you like!\n",
    "\n",
    "download_dir = 'si_cube_test'\n",
    "\n",
    "if not os.path.exists(download_dir):\n",
    "    os.mkdir(download_dir)"
   ]
  },
  {
   "cell_type": "code",
   "execution_count": null,
   "id": "ec14dfa1-532e-4dce-8fea-da93527daf42",
   "metadata": {
    "tags": []
   },
   "outputs": [],
   "source": [
    "# we will download a test dataset from Zenodo\n",
    "\n",
    "ds = si_cube_s3dxrd_dataset(download_dir, allow_download=True)"
   ]
  },
  {
   "cell_type": "code",
   "execution_count": null,
   "id": "43c501e6-821c-4051-b09b-16267d7d98fd",
   "metadata": {
    "tags": []
   },
   "outputs": [],
   "source": [
    "# Now label the sparse peaks to create a 2D peaks table \n",
    "\n",
    "ImageD11.sinograms.properties.main(ds.dsfile, options={'algorithm': 'lmlabel', 'wtmax': 70000, 'save_overlaps': False})"
   ]
  },
  {
   "cell_type": "code",
   "execution_count": null,
   "id": "170d38bc-01b5-475a-9d36-e598eb81f078",
   "metadata": {
    "tags": []
   },
   "outputs": [],
   "source": [
    "# Save dataset to disk\n",
    "\n",
    "ds.save()\n",
    "print('Dataset saved to ' + ds.dsfile) "
   ]
  },
  {
   "cell_type": "markdown",
   "id": "d2369d30-ba3d-4e8e-a5a0-62fbef4a78b7",
   "metadata": {},
   "source": [
    "# DONE!\n",
    "No need to segment, go straight to notebook 1"
   ]
  }
 ],
 "metadata": {
  "kernelspec": {
   "display_name": "Python 3 (main)",
   "language": "python",
   "name": "python3"
  },
  "language_info": {
   "codemirror_mode": {
    "name": "ipython",
    "version": 3
   },
   "file_extension": ".py",
   "mimetype": "text/x-python",
   "name": "python",
   "nbconvert_exporter": "python",
   "pygments_lexer": "ipython3",
   "version": "3.11.6"
  }
 },
 "nbformat": 4,
 "nbformat_minor": 5
}
