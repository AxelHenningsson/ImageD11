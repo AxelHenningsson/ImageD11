{
 "cells": [
  {
   "cell_type": "markdown",
   "id": "8deabe5b",
   "metadata": {},
   "source": [
    "# S3DXRD processing first step: dataset creation, segmentation and peak labelling\n",
    "\n",
    "Written by James Ball, Haixing Fang and Jon Wright\n",
    "\n",
    "Last updated: 23/07/2024"
   ]
  },
  {
   "cell_type": "code",
   "execution_count": null,
   "id": "17097627-868a-4566-a4dc-b55c11f178a2",
   "metadata": {
    "tags": []
   },
   "outputs": [],
   "source": [
    "# Scroll down past this code for setting up a project\n",
    "\n",
    "import os, sys\n",
    "\n",
    "def guess_ESRF_paths():  # This should be in silx somewhere?\n",
    "    path_items = os.getcwd().split('/')\n",
    "    if 'visitor' in path_items:  \n",
    "        idx = path_items.index('visitor')\n",
    "        experiment, session = path_items[ idx + 1 ], path_items[ idx + 3 ]\n",
    "        dataroot = f\"/data/visitor/{experiment}/id11/{session}/RAW_DATA\"\n",
    "        proc = f\"/data/visitor/{experiment}/id11/{session}/PROCESSED_DATA\"\n",
    "        scripts = f\"/data/visitor/{experiment}/id11/{session}/SCRIPTS\"\n",
    "        return dataroot, proc, scripts\n",
    "    else:\n",
    "        raise ValueError(\"You need to manually give dataroot, analysisroot and scripts folders\")\n",
    "\n",
    "def run_from_git( path ):\n",
    "    code_path = os.path.join(path, \"ImageD11\")\n",
    "    if not os.path.exists(code_path):\n",
    "        os.system('git clone https://github.com/FABLE-3DXRD/ImageD11 ' + path)\n",
    "        assert os.path.exists(code_path),'failed to checkout from git'\n",
    "    bld = os.path.join(code_path, \"build\")\n",
    "    if not os.path.exists(bld):\n",
    "        os.system('cd '+code_path+' && python setup.py build_ext --inplace')\n",
    "        assert os.path.exists(bld), 'failed to compile'\n",
    "    sys.path.insert(0, code_path)\n",
    "    import ImageD11, ImageD11.cImageD11\n",
    "    print(\"Running from:\", ImageD11.__file__)\n",
    "    \n",
    "\n",
    "def printsamples( dataroot ):\n",
    "    samples = sorted( [ name for name in os.listdir( dataroot ) \n",
    "             if os.path.isdir( os.path.join( dataroot, name ) ) ] )\n",
    "    print(\"Samples:\\n\\t\"+\"\\n\\t\".join(sorted( samples ) ))\n",
    "    \n",
    "def printdatasets( dataroot, sample):\n",
    "    sroot = os.path.join(dataroot, sample)\n",
    "    print(\"Datsets:\\n\\t\"+\"\\n\\t\".join(sorted( \n",
    "        [ name[len(sample)+1:] for name in os.listdir( sroot ) \n",
    "         if os.path.isdir( os.path.join( sroot, name ) ) \n",
    "         and name.startswith( sample ) ] ) ) )"
   ]
  },
  {
   "cell_type": "code",
   "execution_count": null,
   "id": "a2ebbdf2-d69e-4bf8-84f5-71b6bbcff5dc",
   "metadata": {
    "tags": []
   },
   "outputs": [],
   "source": [
    "# Set up the file paths. Edit this if you are not at ESRF or not using the latest data policy.\n",
    "dataroot, analysisroot, scripts = guess_ESRF_paths()\n",
    "\n",
    "assert os.path.exists(dataroot), \"Please fill in the dataroot and analysisroot folder names\"\n",
    "# dataroot     holds raw data       in folders dataroot     + {sample}/{sample}_{dataset}\n",
    "# analysisroot holds output results in folders analysisroot + {sample}/{sample}_{dataset}\n",
    "# scripts can hold a local installation of ImageD11 if you need one\n",
    "print(\"\\n\".join((dataroot, analysisroot, scripts)))"
   ]
  },
  {
   "cell_type": "code",
   "execution_count": null,
   "id": "7636de38-49e8-4882-bea0-6e121e887909",
   "metadata": {
    "tags": []
   },
   "outputs": [],
   "source": [
    "# Optional : run the latest code from github\n",
    "run_from_git( scripts )\n",
    "import pprint\n",
    "import numpy as np\n",
    "import ImageD11.sinograms.dataset\n",
    "import ImageD11.sinograms.lima_segmenter\n",
    "import ImageD11.sinograms.assemble_label\n",
    "import ImageD11.sinograms.properties\n",
    "import ImageD11.nbGui.nb_utils as utils\n",
    "from ImageD11.nbGui import segmenter_gui"
   ]
  },
  {
   "cell_type": "code",
   "execution_count": null,
   "id": "f92ff08b-5ff4-4a44-8f26-4286acf529a2",
   "metadata": {
    "tags": []
   },
   "outputs": [],
   "source": [
    "# List the samples available:\n",
    "printsamples(dataroot)"
   ]
  },
  {
   "cell_type": "code",
   "execution_count": null,
   "id": "187950bd-18b5-4bd4-80da-2a0c7a984b11",
   "metadata": {
    "tags": []
   },
   "outputs": [],
   "source": [
    "# USER: Decide which sample\n",
    "sample = 'WAu'"
   ]
  },
  {
   "cell_type": "code",
   "execution_count": null,
   "id": "400a9642-81d1-4a2c-bc20-9762fcad5d65",
   "metadata": {
    "tags": []
   },
   "outputs": [],
   "source": [
    "# List the datasets for that sample:\n",
    "printdatasets( dataroot, sample )"
   ]
  },
  {
   "cell_type": "code",
   "execution_count": null,
   "id": "c9f1d713-0fe0-4f32-963f-969084b0a0d3",
   "metadata": {
    "tags": []
   },
   "outputs": [],
   "source": [
    "# USER: Decide which dataset\n",
    "dataset = \"fs2d_2\""
   ]
  },
  {
   "cell_type": "code",
   "execution_count": null,
   "id": "ad077c4b-39cc-4b90-9637-33c32f12e364",
   "metadata": {
    "tags": []
   },
   "outputs": [],
   "source": [
    "# create ImageD11 dataset object\n",
    "ds = ImageD11.sinograms.dataset.DataSet(dataroot=dataroot,\n",
    "                                        analysisroot=analysisroot,\n",
    "                                        sample=sample,\n",
    "                                        dset=dataset)\n",
    "ds.import_all()"
   ]
  },
  {
   "cell_type": "code",
   "execution_count": null,
   "id": "1a625638-440d-4227-a050-91958118112f",
   "metadata": {
    "tags": []
   },
   "outputs": [],
   "source": [
    "# Experts : update these files for your detector if you need to\n",
    "maskfile = ds.maskfile = \"/data/id11/nanoscope/Eiger/eiger_mask_E-08-0144_20240205.edf\"\n",
    "e2dxfile = ds.e2dxfile = \"/data/id11/nanoscope/Eiger/e2dx_E-08-0144_20240205.edf\"\n",
    "e2dyfile = ds.e2dyfile = \"/data/id11/nanoscope/Eiger/e2dy_E-08-0144_20240205.edf\""
   ]
  },
  {
   "cell_type": "code",
   "execution_count": null,
   "id": "ed1e2f12-6364-4e66-9c17-d4c8d028ea61",
   "metadata": {},
   "outputs": [],
   "source": [
    "ds.save()"
   ]
  },
  {
   "cell_type": "code",
   "execution_count": null,
   "id": "106c6c7f-5e18-4cd7-b9a2-ca27ead7531f",
   "metadata": {
    "tags": []
   },
   "outputs": [],
   "source": [
    "ui = segmenter_gui.SegmenterGui(ds)"
   ]
  },
  {
   "cell_type": "code",
   "execution_count": null,
   "id": "70aa24d9-2df8-4a04-8cb7-0ea394217abc",
   "metadata": {
    "tags": []
   },
   "outputs": [],
   "source": [
    "options = ui.getopts()"
   ]
  },
  {
   "cell_type": "code",
   "execution_count": null,
   "id": "81929009-7445-434a-b19e-57bcd9e3e6a4",
   "metadata": {
    "tags": []
   },
   "outputs": [],
   "source": [
    "# create batch file to send to SLURM cluster\n",
    "\n",
    "sbat = ImageD11.sinograms.lima_segmenter.setup(ds.dsfile, **ui.getopts())\n",
    "if sbat is None:\n",
    "    raise ValueError(\"This scan has already been segmented!\")\n",
    "print(sbat)"
   ]
  },
  {
   "cell_type": "code",
   "execution_count": null,
   "id": "3827f616-bfae-45c1-969c-24da93886a4e",
   "metadata": {
    "tags": []
   },
   "outputs": [],
   "source": [
    "utils.slurm_submit_and_wait(sbat, 60)"
   ]
  },
  {
   "cell_type": "code",
   "execution_count": null,
   "id": "5de23264-4c22-43fe-8be6-8cc54039ea2d",
   "metadata": {
    "tags": []
   },
   "outputs": [],
   "source": [
    "# label sparse peaks\n",
    "\n",
    "ImageD11.sinograms.assemble_label.main(ds.dsfile)"
   ]
  },
  {
   "cell_type": "code",
   "execution_count": null,
   "id": "ddb029cd-7f66-4c91-abee-5f1723303360",
   "metadata": {
    "tags": []
   },
   "outputs": [],
   "source": [
    "# generate peaks table\n",
    "\n",
    "ImageD11.sinograms.properties.main(ds.dsfile, options={'algorithm': 'lmlabel', 'wtmax': 70000, 'save_overlaps': False})"
   ]
  },
  {
   "cell_type": "code",
   "execution_count": null,
   "id": "703d22d0-ef82-4e08-8087-c57e76e16de1",
   "metadata": {
    "tags": []
   },
   "outputs": [],
   "source": [
    "if 1:\n",
    "    raise ValueError(\"Change the 1 above to 0 to allow 'Run all cells' in the notebook\")"
   ]
  },
  {
   "cell_type": "code",
   "execution_count": null,
   "id": "ed07aac1-eb03-4874-b504-fad338c7cff5",
   "metadata": {
    "tags": []
   },
   "outputs": [],
   "source": [
    "skips_dict = {\n",
    "    \"FeAu_0p5_tR_nscope\": [\"top_-50um\", \"top_-100um\"]\n",
    "}\n",
    "\n",
    "dset_prefix = \"m\"  # some common string in the names of the datasets (*?)\n",
    "\n",
    "sample_list = [\"Klegs\"]\n",
    "    \n",
    "samples_dict = utils.find_datasets_to_process(dataroot, skips_dict, dset_prefix, sample_list)\n",
    "\n",
    "pprint.pprint( samples_dict )"
   ]
  },
  {
   "cell_type": "code",
   "execution_count": null,
   "id": "d4f70bb5-035b-48b2-9acd-39c6e3ea8666",
   "metadata": {
    "tags": []
   },
   "outputs": [],
   "source": [
    "# manual override:\n",
    "# samples_dict = {\"FeAu_0p5_tR_nscope\": [\"top_100um\", \"top_200um\"]}\n",
    "\n",
    "# use the parameters we selected with the widget\n",
    "\n",
    "seg_pars = options = None\n",
    "\n",
    "sbats = []\n",
    "dataset_objects = []\n",
    "\n",
    "for sample, datasets in samples_dict.items():\n",
    "    for dataset in datasets:\n",
    "        print(f\"Processing dataset {dataset} in sample {sample}\")\n",
    "        ds = ImageD11.sinograms.dataset.DataSet(dataroot=dataroot,\n",
    "                                                analysisroot=analysisroot,\n",
    "                                                sample=sample,\n",
    "                                                dset=dataset)\n",
    "        if os.path.exists(ds.dsfile):\n",
    "            print(\"Load existing\", ds.dsfile)\n",
    "            ds = ImageD11.sinograms.dataset.load( ds.dsfile )\n",
    "        else:\n",
    "            print(\"Importing DataSet object\")\n",
    "            try:\n",
    "                ds.import_all()\n",
    "            except Exception e:\n",
    "                print(f\"Problem? Skipping\",sample,dataset)\n",
    "                print(e)\n",
    "                continue\n",
    "            ds.maskfile = maskfile\n",
    "            ds.e2dxfile = e2dxfile\n",
    "            ds.e2dyfile = e2dyfile\n",
    "            ds.save()\n",
    "        print(f\"I have a DataSet {ds.dset} in sample {ds.sample}\")\n",
    "        if os.path.exists(os.path.join(ds.analysispath, ds.sparsefiles[0])):\n",
    "            print(f\"Found existing Sparse file for {dataset} in sample {sample}, skipping\")\n",
    "        else:\n",
    "            print(\"Segmenting\")\n",
    "            sbat = ImageD11.sinograms.lima_segmenter.setup(ds.dsfile, **seg_pars)\n",
    "            if sbat is None:\n",
    "                print(f\"{dataset} in sample {sample} already lima_segmented, skipping\")\n",
    "            sbats.append(sbat)\n",
    "        dataset_objects.append(ds)\n",
    "        \n",
    "utils.slurm_submit_many_and_wait(sbats, wait_time_sec=60)\n",
    "\n",
    "for ds in dataset_objects:\n",
    "    print(\"Labelling sparse peaks\")\n",
    "    if os.path.exists(ds.sparsefile):\n",
    "        print(\"Already assembled\", ds.sparsefile)\n",
    "    else:\n",
    "        ImageD11.sinograms.assemble_label.main(ds.dsfile)\n",
    "    if os.path.exists(ds.pksfile):\n",
    "        print('Already labelled',ds.pksfile)\n",
    "    else:\n",
    "        print(\"Generating peaks table\")\n",
    "        ImageD11.sinograms.properties.main(ds.dsfile, options={'algorithm': 'lmlabel', 'wtmax': 70000, 'save_overlaps': False})\n",
    "\n",
    "print(\"Done!\")"
   ]
  },
  {
   "cell_type": "code",
   "execution_count": null,
   "id": "f0efe8f8-4226-45fc-9df7-d916e61ecb8c",
   "metadata": {},
   "outputs": [],
   "source": []
  }
 ],
 "metadata": {
  "kernelspec": {
   "display_name": "Python 3 (main)",
   "language": "python",
   "name": "python3"
  },
  "language_info": {
   "codemirror_mode": {
    "name": "ipython",
    "version": 3
   },
   "file_extension": ".py",
   "mimetype": "text/x-python",
   "name": "python",
   "nbconvert_exporter": "python",
   "pygments_lexer": "ipython3",
   "version": "3.11.6"
  }
 },
 "nbformat": 4,
 "nbformat_minor": 5
}
