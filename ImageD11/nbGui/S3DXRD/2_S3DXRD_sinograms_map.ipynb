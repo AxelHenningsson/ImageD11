{
 "cells": [
  {
   "cell_type": "markdown",
   "metadata": {},
   "source": [
    "# Jupyter notebook based on ImageD11 to process scanning 3DXRD data\n",
    "# Written by Haixing Fang, Jon Wright and James Ball\n",
    "## Date: 16/01/2024"
   ]
  },
  {
   "cell_type": "code",
   "execution_count": null,
   "metadata": {
    "tags": []
   },
   "outputs": [],
   "source": [
    "# There is a bug with the current version of ImageD11 in the site-wide Jupyter env.\n",
    "# This has been fixed here: https://github.com/FABLE-3DXRD/ImageD11/commit/4af88b886b1775585e868f2339a0eb975401468f\n",
    "# Until a new release has been made and added to the env, we need to get the latest version of ImageD11 from GitHub\n",
    "# Put it in your home directory somewhere\n",
    "# USER: Change the path below to point to your local copy of ImageD11:\n",
    "\n",
    "id11_code_path = \"/home/esrf/james1997a/Code/ImageD11\"\n",
    "\n",
    "import sys\n",
    "\n",
    "sys.path.insert(0, id11_code_path)"
   ]
  },
  {
   "cell_type": "code",
   "execution_count": null,
   "metadata": {
    "tags": []
   },
   "outputs": [],
   "source": [
    "# import functions we need\n",
    "\n",
    "import os\n",
    "import concurrent.futures\n",
    "import timeit\n",
    "\n",
    "import matplotlib\n",
    "%matplotlib widget\n",
    "\n",
    "import h5py\n",
    "import tqdm\n",
    "import numba\n",
    "import pprint\n",
    "import numpy as np\n",
    "import skimage.transform\n",
    "import ipywidgets as ipyw\n",
    "import matplotlib.pyplot as plt\n",
    "\n",
    "import ImageD11.refinegrains\n",
    "import ImageD11.columnfile\n",
    "import ImageD11.sinograms.properties\n",
    "import ImageD11.sinograms.roi_iradon\n",
    "from ImageD11.blobcorrector import eiger_spatial\n",
    "from ImageD11.grain import grain"
   ]
  },
  {
   "cell_type": "code",
   "execution_count": null,
   "metadata": {},
   "outputs": [],
   "source": [
    "# OLD DATASETS\n",
    "\n",
    "# NOTE: For old datasets before the new directory layout structure, we don't distinguish between RAW_DATA and PROCESSED_DATA\n",
    "# In this case, use this cell to specify where your experimental folder is, and delete the # NEW DATASETS cell below\n",
    "# e.g /data/visitor/4752/id11/20210513\n",
    "\n",
    "### USER: specify your experimental directory\n",
    "\n",
    "rawdata_path = \"/home/esrf/james1997a/Data/ma4752/id11/20210618\"\n",
    "\n",
    "!ls -lrt {rawdata_path}\n",
    "\n",
    "### USER: specify where you want your processed data to go\n",
    "\n",
    "processed_data_root_dir = \"/home/esrf/james1997a/Data/ma4752/id11/20240118/James\"\n",
    "sparse_pixels_dir = os.path.join(processed_data_root_dir, \"SparsePixels\")  # USER: modify this to change the name of the SparsePixels folder inside processed_data_root_dir"
   ]
  },
  {
   "cell_type": "code",
   "execution_count": null,
   "metadata": {},
   "outputs": [],
   "source": [
    "# NEW DATASETS\n",
    "# If you have RAW_DATA and PROCESSED_DATA folders, you should run this cell and delete the # OLD DATASETS cell above\n",
    "\n",
    "### USER: specify your experimental directory\n",
    "\n",
    "base_dir = \"/home/esrf/james1997a/Data/ihma439/id11/20231211\"\n",
    "\n",
    "rawdata_path = os.path.join(base_dir, 'RAW_DATA')\n",
    "\n",
    "!ls -lrt {rawdata_path}\n",
    "\n",
    "processed_data_root_dir = os.path.join(base_dir, 'PROCESSED_DATA/James/20240123')  # USER: modify this to change the destination folder if desired\n",
    "sparse_pixels_dir = os.path.join(processed_data_root_dir, \"SparsePixels\")  # USER: modify this to change the name of the SparsePixels folder inside processed_data_root_dir"
   ]
  },
  {
   "cell_type": "code",
   "execution_count": null,
   "metadata": {
    "tags": []
   },
   "outputs": [],
   "source": [
    "# USER: pick a sample and a dataset you want to segment\n",
    "\n",
    "sample = \"FeAu_0p5_tR_nscope\"\n",
    "dataset = \"top_100um\""
   ]
  },
  {
   "cell_type": "code",
   "execution_count": null,
   "metadata": {
    "tags": []
   },
   "outputs": [],
   "source": [
    "# desination of H5 files\n",
    "\n",
    "dset_path = os.path.join(sparse_pixels_dir, f\"ds_{sample}_{dataset}.h5\" )\n",
    "sparse_path = os.path.join(sparse_pixels_dir, f'{sample}_{dataset}_sparse.h5')\n",
    "pks_path = os.path.join(sparse_pixels_dir, f'pks_{sample}_{dataset}.h5')\n",
    "cf_path = os.path.join(sparse_pixels_dir, f'cf_{sample}_{dataset}.h5')\n",
    "grains_path = os.path.join(sparse_pixels_dir, f'grains_{sample}_{dataset}.map')\n",
    "par_path = 'Fe_refined.par'\n",
    "\n",
    "e2dx_path = os.path.join(processed_data_root_dir, '../../CeO2/e2dx_E-08-0173_20231127.edf')\n",
    "e2dy_path = os.path.join(processed_data_root_dir, '../../CeO2/e2dy_E-08-0173_20231127.edf')"
   ]
  },
  {
   "cell_type": "code",
   "execution_count": null,
   "metadata": {
    "tags": []
   },
   "outputs": [],
   "source": [
    "# Import spatially-corrected 4D peaks from file (no intensity filtering)\n",
    "\n",
    "cf_4d = ImageD11.columnfile.columnfile(cf_path)\n",
    "\n",
    "cf_4d.parameters.loadparameters(par_path)\n",
    "cf_4d.updateGeometry()\n",
    "\n",
    "print(f\"Read {cf_4d.nrows} peaks\")\n",
    "\n",
    "# Import grains from file\n",
    "    \n",
    "grains = ImageD11.grain.read_grain_file(grains_path)\n",
    "\n",
    "for grain in grains:\n",
    "    grain.a = np.cbrt(np.linalg.det(grain.ubi))\n",
    "    \n",
    "print(f\"{len(grains)} grains imported\")"
   ]
  },
  {
   "cell_type": "code",
   "execution_count": null,
   "metadata": {
    "tags": []
   },
   "outputs": [],
   "source": [
    "# filter the peaks to select only the brightest ones for sinogram use\n",
    "\n",
    "def strongest_peaks(colf, uself=True, frac=0.995, B=0.2, doplot=None):\n",
    "    # correct intensities for structure factor (decreases with 2theta)\n",
    "    cor_intensity = colf.sum_intensity * (np.exp(colf.ds*colf.ds*B))\n",
    "    if uself:\n",
    "        lf = ImageD11.refinegrains.lf(colf.tth, colf.eta)\n",
    "        cor_intensity *= lf\n",
    "    order = np.argsort( cor_intensity )[::-1] # sort the peaks by intensity\n",
    "    sortedpks = cor_intensity[order]\n",
    "    cums =  np.cumsum(sortedpks)\n",
    "    cums /= cums[-1]\n",
    "    enough = np.searchsorted(cums, frac)\n",
    "    # Aim is to select the strongest peaks for indexing.\n",
    "    cutoff = sortedpks[enough]\n",
    "    mask = cor_intensity > cutoff\n",
    "    if doplot is not None:\n",
    "        fig, axs = plt.subplots(1,2,figsize=(10,5))\n",
    "        axs[0].plot(cums/cums[-1], ',')\n",
    "        axs[0].set(xlabel='npks',ylabel='fractional intensity')\n",
    "        axs[0].plot([mask.sum(),], [frac,], \"o\" )\n",
    "        axs[1].plot(cums/cums[-1], ',')\n",
    "        axs[1].set(xlabel='npks logscale',ylabel='fractional intensity', xscale='log', ylim=(doplot,1.), \n",
    "                 xlim=(np.searchsorted(cums, doplot), len(cums)))\n",
    "        axs[1].plot( [mask.sum(),], [frac,], \"o\" )\n",
    "        plt.show()\n",
    "    return mask\n",
    "\n",
    "def selectpeaks( cf, dstol=0.005, dsmax = 100, frac=0.99):\n",
    "    cell = ImageD11.unitcell.unitcell_from_parameters( cf.parameters )\n",
    "    cell.makerings( dsmax )\n",
    "    m = np.zeros( cf.nrows, bool )\n",
    "    for v in cell.ringds:\n",
    "        if v < dsmax:\n",
    "            m |= (abs(cf.ds - v) < dstol)\n",
    "    cfc = cf.copy()\n",
    "    cfc.filter( m )\n",
    "    ms = strongest_peaks( cfc, frac = frac, doplot = frac*0.5 )\n",
    "    cfc.filter( ms )\n",
    "    return cfc"
   ]
  },
  {
   "cell_type": "code",
   "execution_count": null,
   "metadata": {
    "tags": []
   },
   "outputs": [],
   "source": [
    "# here we are filtering our peaks (cf_4d) to select only the strongest ones\n",
    "# this time as opposed to indexing, our frac is slightly weaker but we are NOT filtering in dstar!!!!!\n",
    "# this means many more peaks per grain = stronger sinograms\n",
    "\n",
    "# USER: modify the \"frac\" parameter below and re-run the cell until the orange dot sits nicely on the \"elbow\" of the blue line\n",
    "# this indicates the fractional intensity cutoff we will select\n",
    "# if the blue line does not look elbow-shaped in the logscale plot, try changing the \"doplot\" parameter (the y scale of the logscale plot) until it does\n",
    "\n",
    "cf_strong = selectpeaks(cf_4d, frac=0.99, dsmax=cf_4d.ds.max())"
   ]
  },
  {
   "cell_type": "code",
   "execution_count": null,
   "metadata": {
    "tags": []
   },
   "outputs": [],
   "source": [
    "def assign_peaks_to_grains( cf, grains, tol = 0.05 ):\n",
    "    labels = np.zeros( cf.nrows, 'i' )\n",
    "    gv = np.transpose( (cf.gx,cf.gy,cf.gz)).astype( float )\n",
    "    drlv2 =  np.ones( cf.nrows, 'd' )\n",
    "    for i in range(len(grains)):\n",
    "        n = ImageD11.cImageD11.score_and_assign( grains[i].ubi, gv, tol, drlv2, labels, i )\n",
    "\n",
    "    indx = np.arange(cf.nrows,dtype='i')\n",
    "    li = labels.copy()\n",
    "    cf.addcolumn(li, 'grain_id')\n",
    "    for i, g in enumerate(grains):\n",
    "        g.gid = i\n",
    "        g.mask = g.m = (li == i)       # which peaks were assigned to this grain by ubi\n",
    "        g.pks = indx[li==i]\n",
    "        g.npks = len(g.pks)\n",
    "        g.hkl = np.round (np.dot(g.ubi, gv[g.mask].T)).astype( int )\n",
    "        g.etasigns = np.sign(cf.eta[ g.mask ]).astype(int)\n",
    "\n",
    "        # how many peaks does this grain get out of the ones it would have initially taken?\n",
    "        labels.fill(-1)\n",
    "        drlv2.fill(1)\n",
    "        j = ImageD11.cImageD11.score_and_assign( g.ubi, gv, tol, drlv2, labels, i)\n",
    "        g.allnpks = j\n",
    "        g.allmask = (labels == i)\n",
    "        print(i,g.npks,\"%.3f\"%(g.npks/g.allnpks))\n",
    "    \n",
    "    return cf, grains"
   ]
  },
  {
   "cell_type": "code",
   "execution_count": null,
   "metadata": {
    "tags": []
   },
   "outputs": [],
   "source": [
    "cf_strong, grains = assign_peaks_to_grains(cf_strong, grains)"
   ]
  },
  {
   "cell_type": "code",
   "execution_count": null,
   "metadata": {
    "tags": []
   },
   "outputs": [],
   "source": [
    "fig, ax = plt.subplots()\n",
    "m = cf_strong.grain_id >= 0\n",
    "ax.scatter(cf_strong.omega[m], cf_strong.dty[m], c=cf_strong.grain_id[m])\n",
    "plt.show()"
   ]
  },
  {
   "cell_type": "code",
   "execution_count": null,
   "metadata": {
    "tags": []
   },
   "outputs": [],
   "source": [
    "mean_unit_cell_lengths = [grain.a for grain in grains]\n",
    "\n",
    "fig, ax = plt.subplots()\n",
    "ax.plot(mean_unit_cell_lengths)\n",
    "ax.set_xlabel(\"Grain ID\")\n",
    "ax.set_ylabel(\"Unit cell length\")\n",
    "plt.show()\n",
    "\n",
    "a0 = np.median(mean_unit_cell_lengths)\n",
    "    \n",
    "print(a0)"
   ]
  },
  {
   "cell_type": "code",
   "execution_count": null,
   "metadata": {
    "tags": []
   },
   "outputs": [],
   "source": [
    "grid_size = np.ceil(np.sqrt(len(grains))).astype(int)\n",
    "nrows = (len(grains)+grid_size-1)//grid_size\n",
    "\n",
    "fig, axs = plt.subplots(grid_size, nrows, figsize=(10,10), layout=\"constrained\", sharex=True, sharey=True)\n",
    "for i, ax in enumerate(axs.ravel()):\n",
    "    if i < len(grains):\n",
    "    # get corresponding grain for this axis\n",
    "        g = grains[i]\n",
    "        m = cf_strong.grain_id == g.gid\n",
    "        ax.plot(cf_strong.omega[m], cf_strong.dty[m], ',')\n",
    "        \n",
    "fig.supxlabel(\"Omega\")\n",
    "fig.supylabel(\"Y translation (um)\")\n",
    "    \n",
    "plt.show()"
   ]
  },
  {
   "cell_type": "code",
   "execution_count": null,
   "metadata": {
    "tags": []
   },
   "outputs": [],
   "source": [
    "def grain_to_rgb(g, ax=(0,0,1)):\n",
    "    return hkl_to_color_cubic(crystal_direction_cubic(g.ubi, ax))\n",
    "\n",
    "def crystal_direction_cubic(ubi, axis):\n",
    "    hkl = np.dot(ubi, axis)\n",
    "    # cubic symmetry implies:\n",
    "    #      24 permutations of h,k,l\n",
    "    #      one has abs(h) <= abs(k) <= abs(l)\n",
    "    hkl= abs(hkl)\n",
    "    hkl.sort()\n",
    "    return hkl\n",
    "\n",
    "def hkl_to_color_cubic(hkl):\n",
    "    \"\"\"\n",
    "    https://mathematica.stackexchange.com/questions/47492/how-to-create-an-inverse-pole-figure-color-map\n",
    "        [x,y,z]=u⋅[0,0,1]+v⋅[0,1,1]+w⋅[1,1,1].\n",
    "            These are:\n",
    "                u=z−y, v=y−x, w=x\n",
    "                This triple is used to assign each direction inside the standard triangle\n",
    "                \n",
    "    makeColor[{x_, y_, z_}] := \n",
    "         RGBColor @@ ({z - y, y - x, x}/Max@{z - y, y - x, x})                \n",
    "    \"\"\"\n",
    "    x,y,z = hkl\n",
    "    assert x<=y<=z\n",
    "    assert z>=0\n",
    "    u,v,w = z-y, y-x, x\n",
    "    m = max( u, v, w )\n",
    "    r,g,b = u/m, v/m, w/m\n",
    "    return (r,g,b)\n",
    "\n",
    "def hkl_to_pf_cubic(hkl):\n",
    "    x,y,z = hkl\n",
    "    assert x<=y<=z\n",
    "    assert z>=0\n",
    "    m = np.sqrt((hkl**2).sum())\n",
    "    return x/(z+m), y/(z+m)\n",
    "\n",
    "def triangle():\n",
    "    \"\"\" compute a series of point on the edge of the triangle \"\"\"\n",
    "    xy = [ np.array(v) for v in ( (0,1,1), (0,0,1), (1,1,1)) ]\n",
    "    xy += [ xy[2]*(1-t) + xy[0]*t for t in np.linspace(0.1,1,5)]\n",
    "    return np.array( [hkl_to_pf_cubic( np.array(p) ) for p in xy] )\n",
    "\n",
    "\n",
    "def calcy(cos_omega, sin_omega, sol):\n",
    "    return sol[0] + cos_omega*sol[1] + sin_omega*sol[2]\n",
    "\n",
    "def fity(y, cos_omega, sin_omega, wt=1):\n",
    "    \"\"\"\n",
    "    Fit a sinogram to get a grain centroid\n",
    "    # calc = d0 + x*co + y*so\n",
    "    # dc/dpar : d0 = 1\n",
    "    #         :  x = co\n",
    "    #         :  y = so\n",
    "    # gradients\n",
    "    # What method is being used here???????????\n",
    "    \"\"\"\n",
    "    g = [wt*np.ones(y.shape, float),  wt*cos_omega, wt*sin_omega]\n",
    "    nv = len(g)\n",
    "    m = np.zeros((nv,nv),float)\n",
    "    r = np.zeros( nv, float )\n",
    "    for i in range(nv):\n",
    "        r[i] = np.dot( g[i], wt * y )\n",
    "        for j in range(i,nv):\n",
    "            m[i,j] = np.dot( g[i], g[j] )\n",
    "            m[j,i] = m[i,j]\n",
    "    sol = np.dot(np.linalg.inv(m), r)\n",
    "    return sol\n",
    "\n",
    "\n",
    "def fity_robust(dty, co, so, nsigma=5, doplot=False):\n",
    "    # NEEDS COMMENTING\n",
    "    cen, dx, dy = fity(dty, co, so)\n",
    "    calc2 = calc1 = calcy(co, so, (cen, dx, dy))\n",
    "    selected = np.ones(co.shape, bool)\n",
    "    for i in range(3):\n",
    "        err = dty - calc2\n",
    "        estd = max( err[selected].std(), 1.0 ) # 1 micron\n",
    "        #print(i,estd)\n",
    "        es = estd*nsigma\n",
    "        selected = abs(err) < es\n",
    "        cen, dx, dy = fity( dty, co, so, selected.astype(float) )\n",
    "        calc2 = calcy(co, so, (cen, dx, dy))\n",
    "    # bad peaks are > 5 sigma\n",
    "    if doplot:\n",
    "        f, a = plt.subplots(1,2)\n",
    "        theta = np.arctan2( so, co )\n",
    "        a[0].plot(theta, calc1, ',')\n",
    "        a[0].plot(theta, calc2, ',')\n",
    "        a[0].plot(theta[selected], dty[selected], \"o\")\n",
    "        a[0].plot(theta[~selected], dty[~selected], 'x')\n",
    "        a[1].plot(theta[selected], (calc2 - dty)[selected], 'o')\n",
    "        a[1].plot(theta[~selected], (calc2 - dty)[~selected], 'x')\n",
    "        a[1].set(ylim = (-es, es))\n",
    "        pl.show()\n",
    "    return selected, cen, dx, dy\n",
    "\n",
    "def graincen(gid, colf, doplot=True):\n",
    "    # Get peaks beloging to this grain ID\n",
    "    m = colf.grain_id == gid\n",
    "    # Get omega values of peaks in radians\n",
    "    romega = np.radians(colf.omega[m])\n",
    "    # Calculate cos and sin of omega\n",
    "    co = np.cos(romega)\n",
    "    so = np.sin(romega)\n",
    "    # Get dty values of peaks\n",
    "    dty = colf.dty[m]\n",
    "    selected, cen, dx, dy = fity_robust(dty, co, so, doplot=doplot)\n",
    "    return selected, cen, dx, dy\n",
    "\n",
    "\n",
    "@numba.njit(parallel=True)\n",
    "def pmax(ary):\n",
    "    \"\"\" Find the min/max of an array in parallel \"\"\"\n",
    "    mx = ary.flat[0]\n",
    "    mn = ary.flat[0]\n",
    "    for i in numba.prange(1,ary.size):\n",
    "        mx = max( ary.flat[i], mx )\n",
    "        mn = min( ary.flat[i], mn )\n",
    "    return mn, mx\n",
    "\n",
    "@numba.njit(parallel=True)\n",
    "def palloc(shape, dtype):\n",
    "    \"\"\" Allocate and fill an array with zeros in parallel \"\"\"\n",
    "    ary = np.empty(shape, dtype=dtype)\n",
    "    for i in numba.prange( ary.size ):\n",
    "        ary.flat[i] = 0\n",
    "    return ary\n",
    "\n",
    "# counting sort by grain_id\n",
    "@numba.njit\n",
    "def counting_sort(ary, maxval=None, minval=None):\n",
    "    \"\"\" Radix sort for integer array. Single threaded. O(n)\n",
    "    Numpy should be doing this...\n",
    "    \"\"\"\n",
    "    if maxval is None:\n",
    "        assert minval is None\n",
    "        minval, maxval = pmax( ary ) # find with a first pass\n",
    "    maxval = int(maxval)\n",
    "    minval = int(minval)\n",
    "    histogram = palloc( (maxval - minval + 1,), np.int64 )\n",
    "    indices = palloc( (maxval - minval + 2,), np.int64 )\n",
    "    result = palloc( ary.shape, np.int64 )\n",
    "    for gid in ary:\n",
    "        histogram[gid - minval] += 1\n",
    "    indices[0] = 0\n",
    "    for i in range(len(histogram)):\n",
    "        indices[ i + 1 ] = indices[i] + histogram[i]\n",
    "    i = 0\n",
    "    for gid in ary:\n",
    "        j = gid - minval\n",
    "        result[indices[j]] = i\n",
    "        indices[j] += 1\n",
    "        i += 1\n",
    "    return result, histogram\n",
    "\n",
    "\n",
    "@numba.njit(parallel=True)\n",
    "def find_grain_id(spot3d_id, grain_id, spot2d_label, grain_label, order, nthreads=20):\n",
    "    \"\"\"\n",
    "    Assignment grain labels into the peaks 2d array\n",
    "    spot3d_id = the 3d spot labels that are merged and indexed\n",
    "    grain_id = the grains assigned to the 3D merged peaks\n",
    "    spot2d_label = the 3d label for each 2d peak\n",
    "    grain_label => output, which grain is this peak\n",
    "    order = the order to traverse spot2d_label sorted\n",
    "    \"\"\"\n",
    "    assert spot3d_id.shape == grain_id.shape\n",
    "    assert spot2d_label.shape == grain_label.shape\n",
    "    assert spot2d_label.shape == order.shape\n",
    "    T = nthreads\n",
    "    print(\"Using\",T,\"threads\")\n",
    "    for tid in numba.prange( T ):\n",
    "        pcf = 0 # thread local I hope?\n",
    "        for i in order[tid::T]:\n",
    "            grain_label[i] = -1\n",
    "            pkid = spot2d_label[i]\n",
    "            while spot3d_id[pcf] < pkid:\n",
    "                pcf += 1\n",
    "            if spot3d_id[pcf] == pkid:\n",
    "                grain_label[i] = grain_id[pcf]\n",
    "                \n",
    "\n",
    "def tocolf(pkd, parfile, dxfile=e2dx_path, dyfile=e2dy_path):\n",
    "    \"\"\" Converts a dictionary of peaks into and ImageD11 columnfile\n",
    "    adds on the geometric computations (tth, eta, gvector, etc) \"\"\"\n",
    "    spat = eiger_spatial(dxfile=dxfile, dyfile=dyfile)\n",
    "    cf = ImageD11.columnfile.colfile_from_dict(spat(pkd))\n",
    "    cf.parameters.loadparameters(parfile)\n",
    "    cf.updateGeometry()\n",
    "    return cf\n",
    "\n",
    "\n",
    "def map_grain_from_peaks(g, flt, ds):\n",
    "    \"\"\"\n",
    "    Computes sinogram\n",
    "    flt is already the peaks for this grain\n",
    "    Runs iradon\n",
    "    Returns angles, sino, recon\n",
    "    \"\"\"   \n",
    "    NY = len(ds.ybincens)\n",
    "    iy = np.round( (flt.dty - ds.ybincens[0]) / (ds.ybincens[1]-ds.ybincens[0]) ).astype(int)\n",
    "\n",
    "    # The problem is to assign each spot to a place in the sinogram\n",
    "    hklmin = g.hkl.min(axis=1)\n",
    "    dh = g.hkl - hklmin[:,np.newaxis]\n",
    "    de = (g.etasigns.astype(int) + 1)//2\n",
    "    #   4D array of h,k,l,+/-\n",
    "    pkmsk = np.zeros( list(dh.max(axis=1) + 1 )+[2,], int )\n",
    "    pkmsk[ dh[0], dh[1], dh[2], de ] = 1\n",
    "    #   sinogram row to hit\n",
    "    pkrow = np.cumsum( pkmsk.ravel() ).reshape( pkmsk.shape ) - 1\n",
    "    pkhkle = np.arange( np.prod( pkmsk.shape ), dtype=int )[ pkmsk.flat == 1 ]\n",
    "    npks = pkmsk.sum( )\n",
    "    destRow = pkrow[ dh[0], dh[1], dh[2], de ] \n",
    "    sino = np.zeros( ( npks, NY ), 'f' )\n",
    "    hits = np.zeros( ( npks, NY ), 'f' )\n",
    "    angs = np.zeros( ( npks, NY ), 'f' )\n",
    "    adr = destRow * NY + iy \n",
    "    # Just accumulate \n",
    "    sig = flt.sum_intensity\n",
    "    ImageD11.cImageD11.put_incr64( sino, adr, sig )\n",
    "    ImageD11.cImageD11.put_incr64( hits, adr, np.ones(len(de),dtype='f'))\n",
    "    ImageD11.cImageD11.put_incr64( angs, adr, flt.omega)\n",
    "    \n",
    "    sinoangles = angs.sum( axis = 1) / hits.sum( axis = 1 )\n",
    "    # Normalise:\n",
    "    sino = (sino.T/sino.max( axis=1 )).T\n",
    "    # Sort (cosmetic):\n",
    "    order = np.lexsort( (np.arange(npks), sinoangles) )\n",
    "    sinoangles = sinoangles[order]\n",
    "    ssino = sino[order].T\n",
    "    return sinoangles, ssino, hits[order].T     "
   ]
  },
  {
   "cell_type": "code",
   "execution_count": null,
   "metadata": {
    "tags": []
   },
   "outputs": [],
   "source": [
    "for grain in grains:\n",
    "    grain.pks3d, grain.cen, grain.dx, grain.dy = graincen(grain.gid, cf_strong, doplot=False)\n",
    "    grain.rgb_z = grain_to_rgb(grain, ax=(0,0,1),)# symmetry = Symmetry.cubic)\n",
    "    grain.rgb_y = grain_to_rgb(grain, ax=(0,1,0),)# symmetry = Symmetry.cubic)\n",
    "    grain.rgb_x = grain_to_rgb(grain, ax=(1,0,0),)# symmetry = Symmetry.cubic)"
   ]
  },
  {
   "cell_type": "code",
   "execution_count": null,
   "metadata": {
    "tags": []
   },
   "outputs": [],
   "source": [
    "# make sure we get cen right (centre of rotation should be the middle of dty)\n",
    "fig, ax = plt.subplots()\n",
    "ax.plot([g.cen for g in grains])\n",
    "\n",
    "plt.show()"
   ]
  },
  {
   "cell_type": "code",
   "execution_count": null,
   "metadata": {
    "tags": []
   },
   "outputs": [],
   "source": [
    "c0 = np.median([g.cen for g in grains])\n",
    "\n",
    "print('Center of rotation in dty', c0)\n",
    "\n",
    "# c0 is being correctly determined\n",
    "# we know this because of the earlier single-grain dty vs omega plot\n",
    "# if g.cen was off, the fit would be shifted"
   ]
  },
  {
   "cell_type": "code",
   "execution_count": null,
   "metadata": {
    "tags": []
   },
   "outputs": [],
   "source": [
    "plt.style.use('dark_background')\n",
    "fig, ax = plt.subplots(2,2, figsize=(12,12))\n",
    "a = ax.ravel()\n",
    "x = [g.dx for g in grains]\n",
    "y = [g.dy for g in grains]\n",
    "s = [g.pks3d.sum()/10 for g in grains]\n",
    "a[0].scatter(x, y, s=s, c=[g.rgb_z for g in grains])\n",
    "a[0].set(title='IPF color Z',  aspect='equal')\n",
    "a[1].scatter(x, y, s=s, c=[g.rgb_y for g in grains])\n",
    "a[1].set(title='IPF color Y', aspect='equal')\n",
    "a[2].scatter(x, y, s=s, c=[g.rgb_x for g in grains])\n",
    "a[2].set(title='IPF color X',  aspect='equal')\n",
    "a[3].scatter(x, y, c=s)\n",
    "a[3].set(title='Number of 3d peaks', aspect='equal')\n",
    "\n",
    "fig.supxlabel(\"Lab x\")\n",
    "fig.supylabel(\"Lab y\")\n",
    "\n",
    "plt.show()"
   ]
  },
  {
   "cell_type": "code",
   "execution_count": null,
   "metadata": {
    "tags": []
   },
   "outputs": [],
   "source": [
    "# Big scary block\n",
    "# Must understand what this does!\n",
    "\n",
    "# Ensure cf is sorted by spot3d_id\n",
    "# NOTE: spot3d_id should be spot4d_id, because we have merged into 4D?\n",
    "assert (np.argsort(cf_strong.spot3d_id) == np.arange(cf_strong.nrows)).all()\n",
    "\n",
    "# load the 2d peak labelling output\n",
    "pks = ImageD11.sinograms.properties.pks_table.load(pks_path)\n",
    "\n",
    "# Load the dataset (for motor positions, not sure why these are not in peaks)\n",
    "ds = ImageD11.sinograms.dataset.load(dset_path)\n",
    "\n",
    "# Grab the 2d peak centroids\n",
    "p2d = pks.pk2d(ds.omega, ds.dty)\n",
    "\n",
    "# NOTE: These are not spatially corrected?!\n",
    "\n",
    "numba_order, numba_histo = counting_sort(p2d['spot3d_id'])\n",
    "\n",
    "grain_2d_id = palloc(p2d['spot3d_id'].shape, np.dtype(int))\n",
    "\n",
    "cleanid = cf_strong.grain_id.copy()\n",
    "\n",
    "find_grain_id(cf_strong.spot3d_id, cleanid, p2d['spot3d_id'], grain_2d_id, numba_order)\n",
    "\n",
    "gord, counts = counting_sort(grain_2d_id)\n",
    "\n",
    "inds = np.concatenate(((0,), np.cumsum(counts)))\n",
    "\n",
    "# I think what we end up with is:\n",
    "# inds\n",
    "# this is an array which tells you which 2D spots each grain owns\n",
    "# the 2D spots are sorted by spot ID\n",
    "# inds tells you for each grain were you can find its associated 2D spots"
   ]
  },
  {
   "cell_type": "code",
   "execution_count": null,
   "metadata": {
    "tags": []
   },
   "outputs": [],
   "source": [
    "def do_sinos(g, hkltol=0.250):\n",
    "    i = g.gid\n",
    "    # the inds[0] refers to not indexed peaks\n",
    "    g.pks = gord[inds[i+1] : inds[i+2]]  \n",
    "    assert grain_2d_id[g.pks[0]] == i\n",
    "    flt = tocolf( {p:p2d[p][g.pks] for p in p2d} , par_path)\n",
    "    hkl_real = np.dot(g.ubi, (flt.gx, flt.gy, flt.gz))\n",
    "    hkl_int = np.round(hkl_real).astype(int)\n",
    "    dh = ((hkl_real - hkl_int)**2).sum(axis = 0)\n",
    "    assert len(dh) == flt.nrows\n",
    "    g.dherrall = dh.mean()\n",
    "    g.npksall = flt.nrows\n",
    "    flt.filter( dh < hkltol*hkltol )\n",
    "    hkl_real = np.dot(g.ubi, (flt.gx, flt.gy, flt.gz))\n",
    "    hkl_int = np.round(hkl_real).astype(int)\n",
    "    dh = ((hkl_real - hkl_int)**2).sum(axis = 0)\n",
    "    g.dherr = dh.mean()\n",
    "    g.npks = flt.nrows\n",
    "    g.etasigns = np.sign(flt.eta)\n",
    "    g.hkl = hkl_int\n",
    "    g.sinoangles, g.ssino, g.hits = map_grain_from_peaks(g, flt, ds)\n",
    "    return i,g"
   ]
  },
  {
   "cell_type": "code",
   "execution_count": null,
   "metadata": {
    "tags": []
   },
   "outputs": [],
   "source": [
    "# Determine sinograms of all grains\n",
    "\n",
    "nthreads = len(os.sched_getaffinity(os.getpid()))\n",
    "\n",
    "with concurrent.futures.ThreadPoolExecutor(max_workers= max(1,nthreads-1)) as pool:\n",
    "    for i in tqdm.tqdm(pool.map(do_sinos, grains), total=len(grains)):\n",
    "        pass"
   ]
  },
  {
   "cell_type": "code",
   "execution_count": null,
   "metadata": {
    "tags": []
   },
   "outputs": [],
   "source": [
    "# Show sinogram of single grain\n",
    "\n",
    "g = grains[0]\n",
    "\n",
    "fig, ax = plt.subplots()\n",
    "\n",
    "ax.imshow((g.ssino/g.ssino.mean(axis=0)), norm=matplotlib.colors.LogNorm(), interpolation='nearest', origin=\"lower\")\n",
    "\n",
    "plt.show()"
   ]
  },
  {
   "cell_type": "code",
   "execution_count": null,
   "metadata": {
    "tags": []
   },
   "outputs": [],
   "source": [
    "def run_iradon_id11(grain, pad=20, y0=c0/2):\n",
    "    outsize = grain.ssino.shape[0] + pad\n",
    "    \n",
    "    # Perform iradon transform of grain sinogram, store result (reconstructed grain shape) in g.recon\n",
    "    grain.recon = ImageD11.sinograms.roi_iradon.iradon(grain.ssino, \n",
    "                                                       theta=grain.sinoangles, \n",
    "                                                       output_size=outsize,\n",
    "                                                       projection_shifts=np.full(grain.ssino.shape, -y0),\n",
    "                                                       filter_name='hamming'\n",
    "                                                       )\n",
    "    return grain"
   ]
  },
  {
   "cell_type": "code",
   "execution_count": null,
   "metadata": {
    "tags": []
   },
   "outputs": [],
   "source": [
    "g = grains[0]\n",
    "\n",
    "run_iradon_id11(g)"
   ]
  },
  {
   "cell_type": "code",
   "execution_count": null,
   "metadata": {
    "tags": []
   },
   "outputs": [],
   "source": [
    "fig, axs = plt.subplots(1,2)\n",
    "axs[0].imshow(g.ssino)\n",
    "axs[0].set_title(\"ID11 Sinogram\")\n",
    "axs[1].imshow(g.recon, origin=\"lower\", vmin=0)\n",
    "axs[1].set_title(\"ID11 iradon\")\n",
    "plt.show()"
   ]
  },
  {
   "cell_type": "code",
   "execution_count": null,
   "metadata": {
    "tags": []
   },
   "outputs": [],
   "source": [
    "with concurrent.futures.ThreadPoolExecutor( max_workers= max(1,nthreads-1) ) as pool:\n",
    "    for i in tqdm.tqdm(pool.map(run_iradon_id11, grains), total=len(grains)):\n",
    "        pass"
   ]
  },
  {
   "cell_type": "code",
   "execution_count": null,
   "metadata": {
    "tags": []
   },
   "outputs": [],
   "source": [
    "f,a = plt.subplots( 1,3, figsize=(15,5) )\n",
    "ty, tx = triangle().T\n",
    "for i,title in enumerate( 'xyz' ):\n",
    "    ax = np.zeros(3)\n",
    "    ax[i] = 1.\n",
    "    hkl = [crystal_direction_cubic( g.ubi, ax ) for g in grains]\n",
    "    xy = np.array([hkl_to_pf_cubic(h) for h in hkl ])\n",
    "    rgb = np.array([hkl_to_color_cubic(h) for h in hkl ])\n",
    "    for j in range(len(grains)):\n",
    "        grains[j].rgb = rgb[j]\n",
    "    a[i].scatter( xy[:,1], xy[:,0], c = rgb )   # Note the \"x\" axis of the plot is the 'k' direction and 'y' is h (smaller)\n",
    "    a[i].set(title=title, aspect='equal', facecolor='silver', xticks=[], yticks=[])\n",
    "    a[i].plot( tx, ty, 'k-', lw = 1 )"
   ]
  },
  {
   "cell_type": "code",
   "execution_count": null,
   "metadata": {
    "tags": []
   },
   "outputs": [],
   "source": [
    "l = np.zeros_like( grains[0].recon ) - 1\n",
    "red = np.zeros_like( grains[0].recon )\n",
    "grn = np.zeros_like( grains[0].recon )\n",
    "blu = np.zeros_like( grains[0].recon )\n",
    "\n",
    "redl = np.zeros_like( grains[0].recon )\n",
    "grnl = np.zeros_like( grains[0].recon )\n",
    "blul = np.zeros_like( grains[0].recon )\n",
    "\n",
    "s = np.zeros_like( grains[0].recon )\n",
    "s.fill(0.4)\n",
    "\n",
    "def norm(r):\n",
    "    m = r > r.max()*0.2\n",
    "    return (r/r[m].mean()).clip(0,1)\n",
    "\n",
    "def smoothclamp(x, mi, mx):\n",
    "    return mi + (mx-mi)*(lambda t: np.where(t < 0 , 0, np.where( t <= 1 , 3*t**2-2*t**3, 1 ) ) )( (x-mi)/(mx-mi) )\n",
    "\n",
    "for g in grains:\n",
    "    i = g.gid\n",
    "    # print(i, scale)\n",
    "    # r = norm(g.recon)\n",
    "    \n",
    "    r = smoothclamp(norm(g.recon), 0, 1)\n",
    "    \n",
    "    m = r > s\n",
    "    px = r[m]\n",
    "    s[m] = px\n",
    "    red[m] = px*g.rgb_z[0]\n",
    "    grn[m] = px*g.rgb_z[1]\n",
    "    blu[m] = px*g.rgb_z[2]\n",
    "    \n",
    "    redl[m] = g.rgb_z[0]\n",
    "    grnl[m] = g.rgb_z[1]\n",
    "    blul[m] = g.rgb_z[2]\n",
    "    \n",
    "    l[m] = i"
   ]
  },
  {
   "cell_type": "code",
   "execution_count": null,
   "metadata": {
    "tags": []
   },
   "outputs": [],
   "source": [
    "image_to_show = np.transpose((red, grn, blu), axes=(1, 2, 0))\n",
    "fig, ax = plt.subplots(constrained_layout=True)\n",
    "ax.imshow(image_to_show)  # originally 1,2,0\n",
    "plt.show()"
   ]
  },
  {
   "cell_type": "code",
   "execution_count": null,
   "metadata": {},
   "outputs": [],
   "source": []
  }
 ],
 "metadata": {
  "kernelspec": {
   "display_name": "Python 3 (main)",
   "language": "python",
   "name": "python3"
  },
  "language_info": {
   "codemirror_mode": {
    "name": "ipython",
    "version": 3
   },
   "file_extension": ".py",
   "mimetype": "text/x-python",
   "name": "python",
   "nbconvert_exporter": "python",
   "pygments_lexer": "ipython3",
   "version": "3.11.6"
  }
 },
 "nbformat": 4,
 "nbformat_minor": 4
}
