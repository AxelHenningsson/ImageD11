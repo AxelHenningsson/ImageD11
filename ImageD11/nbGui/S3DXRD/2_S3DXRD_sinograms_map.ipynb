{
 "cells": [
  {
   "cell_type": "markdown",
   "metadata": {},
   "source": [
    "# Jupyter notebook based on ImageD11 to process scanning 3DXRD data\n",
    "# Written by Haixing Fang, Jon Wright and James Ball\n",
    "## Date: 16/01/2024"
   ]
  },
  {
   "cell_type": "code",
   "execution_count": null,
   "metadata": {
    "tags": []
   },
   "outputs": [],
   "source": [
    "# There is a bug with the current version of ImageD11 in the site-wide Jupyter env.\n",
    "# This has been fixed here: https://github.com/FABLE-3DXRD/ImageD11/commit/4af88b886b1775585e868f2339a0eb975401468f\n",
    "# Until a new release has been made and added to the env, we need to get the latest version of ImageD11 from GitHub\n",
    "# Put it in your home directory somewhere\n",
    "# USER: Change the path below to point to your local copy of ImageD11:\n",
    "\n",
    "id11_code_path = \"/home/esrf/james1997a/Code/ImageD11\"\n",
    "\n",
    "import sys\n",
    "\n",
    "sys.path.insert(0, id11_code_path)"
   ]
  },
  {
   "cell_type": "code",
   "execution_count": null,
   "metadata": {
    "tags": []
   },
   "outputs": [],
   "source": [
    "# import functions we need\n",
    "\n",
    "import os\n",
    "import concurrent.futures\n",
    "import timeit\n",
    "\n",
    "import matplotlib\n",
    "%matplotlib widget\n",
    "\n",
    "import h5py\n",
    "import tqdm\n",
    "import numba\n",
    "import pprint\n",
    "import numpy as np\n",
    "import skimage.transform\n",
    "import ipywidgets as ipyw\n",
    "import matplotlib.pyplot as plt\n",
    "\n",
    "import ImageD11.columnfile\n",
    "import ImageD11.sinograms.properties\n",
    "import ImageD11.sinograms.roi_iradon\n",
    "from ImageD11.blobcorrector import eiger_spatial\n",
    "from ImageD11.grain import grain"
   ]
  },
  {
   "cell_type": "code",
   "execution_count": null,
   "metadata": {
    "tags": []
   },
   "outputs": [],
   "source": [
    "# USER: specify your experimental directory\n",
    "\n",
    "base_dir = \"/home/esrf/james1997a/Data/ihma439/id11/20231211\"\n",
    "\n",
    "rawdata_path = os.path.join(base_dir, 'RAW_DATA')\n",
    "\n",
    "!ls -lrt {rawdata_path}"
   ]
  },
  {
   "cell_type": "code",
   "execution_count": null,
   "metadata": {
    "tags": []
   },
   "outputs": [],
   "source": [
    "# USER: pick a sample and a dataset you want to segment\n",
    "\n",
    "sample = \"FeAu_0p5_tR_nscope\"\n",
    "dataset = \"top_700um\"\n",
    "\n",
    "# USER: specify path to detector mask\n",
    "\n",
    "processed_data_root_dir = os.path.join(base_dir, 'PROCESSED_DATA/James')  # USER: modify this to change the destination folder if desired\n",
    "sparse_pixels_dir = os.path.join(processed_data_root_dir, \"SparsePixels_NewMask\")  # USER: modify this to change the name of the SparsePixels folder inside processed_data_root_dir\n",
    "\n",
    "# desination of H5 files\n",
    "\n",
    "dset_path = os.path.join(sparse_pixels_dir, f\"ds_{sample}_{dataset}.h5\" )\n",
    "sparse_path = os.path.join(sparse_pixels_dir, f'{sample}_{dataset}_sparse.h5')\n",
    "pks_path = os.path.join(sparse_pixels_dir, f'pks_{sample}_{dataset}.h5')\n",
    "cf_path = os.path.join(sparse_pixels_dir, f'cf_{sample}_{dataset}.h5')\n",
    "grain_map_path = os.path.join(sparse_pixels_dir, f'map_{sample}_{dataset}.h5')\n",
    "ubi_path = os.path.join(sparse_pixels_dir, f'{sample}_{dataset}.ubi')\n",
    "parfile = 'Fe_refined.par'\n",
    "\n",
    "e2dx_path = os.path.join(processed_data_root_dir, '../CeO2/e2dx_E-08-0173_20231127.edf')\n",
    "e2dy_path = os.path.join(processed_data_root_dir, '../CeO2/e2dy_E-08-0173_20231127.edf')"
   ]
  },
  {
   "cell_type": "code",
   "execution_count": null,
   "metadata": {
    "tags": []
   },
   "outputs": [],
   "source": [
    "# This is the result from some indexing on a merged/cleaned 3d peaks file\n",
    "\n",
    "cf = ImageD11.columnfile.columnfile(cf_path) # has the peak <-> grain labelling for 3D spots\n",
    "\n",
    "with h5py.File(cf_path, 'r') as hin:         # the matching ubis\n",
    "    print(list(hin))\n",
    "    ubis = hin['ubis'][:]\n",
    "    allpks = hin['ubis_allpks'][:].sum(axis=1)"
   ]
  },
  {
   "cell_type": "code",
   "execution_count": null,
   "metadata": {
    "tags": []
   },
   "outputs": [],
   "source": [
    "# convert UBIs to grain objects here so we can directly access the unit cell lengths\n",
    "\n",
    "# grains should be a list\n",
    "# grain GIDs should be assigned as attributes\n",
    "\n",
    "grains = []\n",
    "for gid, ubi in enumerate(ubis):\n",
    "    g = ImageD11.grain.grain(ubi)\n",
    "    g.gid = gid\n",
    "    g.a = np.cbrt(np.linalg.det(g.ubi))\n",
    "    grains.append(g)\n",
    "    \n",
    "mean_unit_cell_lengths = [grain.a for grain in grains]\n",
    "\n",
    "fig, ax = plt.subplots()\n",
    "ax.plot(mean_unit_cell_lengths)\n",
    "ax.set_xlabel(\"Grain ID\")\n",
    "ax.set_ylabel(\"Unit cell length\")\n",
    "plt.show()\n",
    "\n",
    "a0 = np.median(mean_unit_cell_lengths)\n",
    "    \n",
    "print(a0)"
   ]
  },
  {
   "cell_type": "code",
   "execution_count": null,
   "metadata": {
    "tags": []
   },
   "outputs": [],
   "source": [
    "len(grains) # number of grains"
   ]
  },
  {
   "cell_type": "code",
   "execution_count": null,
   "metadata": {
    "tags": []
   },
   "outputs": [],
   "source": [
    "fig, ax = plt.subplots()\n",
    "ax.plot(allpks,'+')\n",
    "ax.set_ylabel('Number of 3D merged spots')\n",
    "ax.set_xlabel('Grain ID')\n",
    "\n",
    "plt.show()"
   ]
  },
  {
   "cell_type": "code",
   "execution_count": null,
   "metadata": {
    "tags": []
   },
   "outputs": [],
   "source": [
    "grid_size = np.ceil(np.sqrt(len(grains))).astype(int)\n",
    "\n",
    "fig, axs = plt.subplots(grid_size, grid_size, figsize=(10,10), layout=\"constrained\", sharex=True, sharey=True)\n",
    "for i, ax in enumerate(axs.ravel()):\n",
    "    if i < len(grains):\n",
    "    # get corresponding grain for this axis\n",
    "        g = grains[i]\n",
    "        m = cf.grain_id == g.gid\n",
    "        ax.plot(cf.omega[m], cf.dty[m], ',')\n",
    "        \n",
    "fig.supxlabel(\"Omega\")\n",
    "fig.supylabel(\"Y translation (um)\")\n",
    "    \n",
    "plt.show()"
   ]
  },
  {
   "cell_type": "code",
   "execution_count": null,
   "metadata": {
    "tags": []
   },
   "outputs": [],
   "source": [
    "def grain_to_rgb(g, ax=(0,0,1)):# symmetry = Symmetry.cubic):\n",
    "    # FIXME\n",
    "    r = np.random.random(3)\n",
    "    return r/r.max()\n",
    "    # the_rod = ti.ubi_to_rod(ubis[i])\n",
    "    # the_rod[2] = -the_rod[2]  # correct from vertical flip on the eiger detector : DONE in parfile\n",
    "    o = Orientation.from_rodrigues(g.Rod)\n",
    "    # add 30 degrees to match the pymicro/dct convention for hexagonal\n",
    "    # ... this is pretty strange? Different choice of B matrix?\n",
    "    # it's because pymicro uses inverted orientations!\n",
    "    # need to use Orientation(g.U.T)\n",
    "    o = Orientation.from_euler(o.euler + np.array([0, 0, 30]))\n",
    "    axis = np.array( ax, float )\n",
    "    return o.get_ipf_colour(axis=axis, symmetry=symmetry) #saturate=True)\n",
    "\n",
    "\n",
    "def calcy(cos_omega, sin_omega, sol):\n",
    "    return sol[0] + cos_omega*sol[1] + sin_omega*sol[2]\n",
    "\n",
    "def fity(y, cos_omega, sin_omega, wt=1):\n",
    "    \"\"\"\n",
    "    Fit a sinogram to get a grain centroid\n",
    "    # calc = d0 + x*co + y*so\n",
    "    # dc/dpar : d0 = 1\n",
    "    #         :  x = co\n",
    "    #         :  y = so\n",
    "    # gradients\n",
    "    # What method is being used here???????????\n",
    "    \"\"\"\n",
    "    g = [wt*np.ones(y.shape, float),  wt*cos_omega, wt*sin_omega]\n",
    "    nv = len(g)\n",
    "    m = np.zeros((nv,nv),float)\n",
    "    r = np.zeros( nv, float )\n",
    "    for i in range(nv):\n",
    "        r[i] = np.dot( g[i], wt * y )\n",
    "        for j in range(i,nv):\n",
    "            m[i,j] = np.dot( g[i], g[j] )\n",
    "            m[j,i] = m[i,j]\n",
    "    sol = np.dot(np.linalg.inv(m), r)\n",
    "    return sol\n",
    "\n",
    "\n",
    "def fity_robust(dty, co, so, nsigma=5, doplot=False):\n",
    "    # NEEDS COMMENTING\n",
    "    cen, dx, dy = fity(dty, co, so)\n",
    "    calc2 = calc1 = calcy(co, so, (cen, dx, dy))\n",
    "    selected = np.ones(co.shape, bool)\n",
    "    for i in range(3):\n",
    "        err = dty - calc2\n",
    "        estd = max( err[selected].std(), 1.0 ) # 1 micron\n",
    "        #print(i,estd)\n",
    "        es = estd*nsigma\n",
    "        selected = abs(err) < es\n",
    "        cen, dx, dy = fity( dty, co, so, selected.astype(float) )\n",
    "        calc2 = calcy(co, so, (cen, dx, dy))\n",
    "    # bad peaks are > 5 sigma\n",
    "    if doplot:\n",
    "        f, a = plt.subplots(1,2)\n",
    "        theta = np.arctan2( so, co )\n",
    "        a[0].plot(theta, calc1, ',')\n",
    "        a[0].plot(theta, calc2, ',')\n",
    "        a[0].plot(theta[selected], dty[selected], \"o\")\n",
    "        a[0].plot(theta[~selected], dty[~selected], 'x')\n",
    "        a[1].plot(theta[selected], (calc2 - dty)[selected], 'o')\n",
    "        a[1].plot(theta[~selected], (calc2 - dty)[~selected], 'x')\n",
    "        a[1].set(ylim = (-es, es))\n",
    "        pl.show()\n",
    "    return selected, cen, dx, dy\n",
    "\n",
    "def graincen(gid, colf, doplot=True):\n",
    "    # Get peaks beloging to this grain ID\n",
    "    m = colf.grain_id == gid\n",
    "    # Get omega values of peaks in radians\n",
    "    romega = np.radians(colf.omega[m])\n",
    "    # Calculate cos and sin of omega\n",
    "    co = np.cos(romega)\n",
    "    so = np.sin(romega)\n",
    "    # Get dty values of peaks\n",
    "    dty = colf.dty[m]\n",
    "    selected, cen, dx, dy = fity_robust(dty, co, so, doplot=doplot)\n",
    "    return selected, cen, dx, dy\n",
    "\n",
    "\n",
    "@numba.njit(parallel=True)\n",
    "def pmax(ary):\n",
    "    \"\"\" Find the min/max of an array in parallel \"\"\"\n",
    "    mx = ary.flat[0]\n",
    "    mn = ary.flat[0]\n",
    "    for i in numba.prange(1,ary.size):\n",
    "        mx = max( ary.flat[i], mx )\n",
    "        mn = min( ary.flat[i], mn )\n",
    "    return mn, mx\n",
    "\n",
    "@numba.njit(parallel=True)\n",
    "def palloc(shape, dtype):\n",
    "    \"\"\" Allocate and fill an array with zeros in parallel \"\"\"\n",
    "    ary = np.empty(shape, dtype=dtype)\n",
    "    for i in numba.prange( ary.size ):\n",
    "        ary.flat[i] = 0\n",
    "    return ary\n",
    "\n",
    "# counting sort by grain_id\n",
    "@numba.njit\n",
    "def counting_sort(ary, maxval=None, minval=None):\n",
    "    \"\"\" Radix sort for integer array. Single threaded. O(n)\n",
    "    Numpy should be doing this...\n",
    "    \"\"\"\n",
    "    if maxval is None:\n",
    "        assert minval is None\n",
    "        minval, maxval = pmax( ary ) # find with a first pass\n",
    "    maxval = int(maxval)\n",
    "    minval = int(minval)\n",
    "    histogram = palloc( (maxval - minval + 1,), np.int64 )\n",
    "    indices = palloc( (maxval - minval + 2,), np.int64 )\n",
    "    result = palloc( ary.shape, np.int64 )\n",
    "    for gid in ary:\n",
    "        histogram[gid - minval] += 1\n",
    "    indices[0] = 0\n",
    "    for i in range(len(histogram)):\n",
    "        indices[ i + 1 ] = indices[i] + histogram[i]\n",
    "    i = 0\n",
    "    for gid in ary:\n",
    "        j = gid - minval\n",
    "        result[indices[j]] = i\n",
    "        indices[j] += 1\n",
    "        i += 1\n",
    "    return result, histogram\n",
    "\n",
    "\n",
    "@numba.njit(parallel=True)\n",
    "def find_grain_id(spot3d_id, grain_id, spot2d_label, grain_label, order, nthreads=20):\n",
    "    \"\"\"\n",
    "    Assignment grain labels into the peaks 2d array\n",
    "    spot3d_id = the 3d spot labels that are merged and indexed\n",
    "    grain_id = the grains assigned to the 3D merged peaks\n",
    "    spot2d_label = the 3d label for each 2d peak\n",
    "    grain_label => output, which grain is this peak\n",
    "    order = the order to traverse spot2d_label sorted\n",
    "    \"\"\"\n",
    "    assert spot3d_id.shape == grain_id.shape\n",
    "    assert spot2d_label.shape == grain_label.shape\n",
    "    assert spot2d_label.shape == order.shape\n",
    "    T = nthreads\n",
    "    print(\"Using\",T,\"threads\")\n",
    "    for tid in numba.prange( T ):\n",
    "        pcf = 0 # thread local I hope?\n",
    "        for i in order[tid::T]:\n",
    "            grain_label[i] = -1\n",
    "            pkid = spot2d_label[i]\n",
    "            while spot3d_id[pcf] < pkid:\n",
    "                pcf += 1\n",
    "            if spot3d_id[pcf] == pkid:\n",
    "                grain_label[i] = grain_id[pcf]\n",
    "                \n",
    "\n",
    "def tocolf(pkd, parfile, dxfile=e2dx_path, dyfile=e2dy_path):\n",
    "    \"\"\" Converts a dictionary of peaks into and ImageD11 columnfile\n",
    "    adds on the geometric computations (tth, eta, gvector, etc) \"\"\"\n",
    "    spat = eiger_spatial(dxfile=dxfile, dyfile=dyfile)\n",
    "    cf = ImageD11.columnfile.colfile_from_dict(spat(pkd))\n",
    "    cf.parameters.loadparameters(parfile)\n",
    "    cf.updateGeometry()\n",
    "    return cf\n",
    "\n",
    "def map_grain_from_peaks(g, flt, ds):\n",
    "    \"\"\"\n",
    "    Computes sinogram\n",
    "    flt is already the peaks for this grain\n",
    "    Runs iradon\n",
    "    Returns angles, sino, recon\n",
    "    \"\"\"   \n",
    "    NY = len(ds.ybincens)\n",
    "    iy = np.round((flt.dty - ds.ybincens[0]) / (ds.ybincens[1]-ds.ybincens[0])).astype(int)\n",
    "\n",
    "    # The problem is to assign each spot to a place in the sinogram\n",
    "    hklmin = g.hkl.min(axis=1)\n",
    "    dh = g.hkl - hklmin[:,np.newaxis]\n",
    "    de = (g.etasigns.astype(int) + 1)//2\n",
    "    #   4D array of h,k,l,+/-\n",
    "    pkmsk = np.zeros(list(dh.max(axis=1) + 1 )+[2,], int)\n",
    "    pkmsk[ dh[0], dh[1], dh[2], de ] = 1\n",
    "    #   sinogram row to hit\n",
    "    pkrow = np.cumsum(pkmsk.ravel()).reshape(pkmsk.shape) - 1\n",
    "    pkhkle = np.arange(np.prod( pkmsk.shape), dtype=int)[pkmsk.flat == 1]\n",
    "    # keep the indices in the grain\n",
    "    #pkindices = np.argwhere( pkmsk==1 ) + np.concatenate( (hklmin, [0]) )\n",
    "    pkindices = np.transpose(np.unravel_index(pkhkle, pkmsk.shape)) + np.concatenate((hklmin, [0]))\n",
    "    \n",
    "    npks = pkmsk.sum()\n",
    "    destRow = pkrow[ dh[0], dh[1], dh[2], de ] \n",
    "    sino = np.zeros((npks, NY), 'f')\n",
    "    hits = np.zeros((npks, NY), 'f')\n",
    "    angs = np.zeros((npks, NY), 'f')\n",
    "    adr = destRow * NY + iy \n",
    "    # Just accumulate \n",
    "    sig = flt.sum_intensity\n",
    "    ImageD11.cImageD11.put_incr64( sino, adr, sig )\n",
    "    ImageD11.cImageD11.put_incr64( hits, adr, np.ones(len(de),dtype='f'))\n",
    "    ImageD11.cImageD11.put_incr64( angs, adr, flt.omega)\n",
    "    \n",
    "    sinoangles = angs.sum(axis=1) / hits.sum(axis = 1)\n",
    "    # Normalise:\n",
    "    # sino = sino.T/sino.max( axis=1 )).T\n",
    "    # Sort (cosmetic):\n",
    "    order = np.lexsort( (np.arange(npks), sinoangles) )\n",
    "    sinoangles = sinoangles[order]\n",
    "    ssino = sino[order].T\n",
    "    return sinoangles, ssino, hits[order].T, pkindices"
   ]
  },
  {
   "cell_type": "code",
   "execution_count": null,
   "metadata": {
    "tags": []
   },
   "outputs": [],
   "source": [
    "for grain in grains:\n",
    "    grain.pks3d, grain.cen, grain.dx, grain.dy = graincen(grain.gid, cf, doplot=False)\n",
    "    grain.rgb_z = grain_to_rgb(grain, ax=(0,0,1),)# symmetry = Symmetry.cubic)\n",
    "    grain.rgb_y = grain_to_rgb(grain, ax=(0,1,0),)# symmetry = Symmetry.cubic)\n",
    "    grain.rgb_x = grain_to_rgb(grain, ax=(1,0,0),)# symmetry = Symmetry.cubic)"
   ]
  },
  {
   "cell_type": "code",
   "execution_count": null,
   "metadata": {
    "tags": []
   },
   "outputs": [],
   "source": [
    "# # focus on a particular grain and try to clean up the assigned peaks\n",
    "\n",
    "# def omega_to_dty(g, omega):\n",
    "#     romega = np.radians(omega)\n",
    "#     co = np.cos(romega)\n",
    "#     so = np.sin(romega)\n",
    "#     dty = g.cen + g.dx * co + g.dy * so\n",
    "#     return dty\n",
    "\n",
    "# fig, axs = plt.subplots(3, 1, layout=\"constrained\", sharex=True)\n",
    "# g = grains[9]\n",
    "# m = cf.grain_id == g.gid\n",
    "# axs[0].scatter(cf.omega[m], cf.dty[m], label=\"Raw data\")\n",
    "# axs[0].scatter(cf.omega[m], omega_to_dty(g, cf.omega[m]), label=\"Fitted dty from omega\")\n",
    "\n",
    "# residuals = cf.dty[m] - omega_to_dty(g, cf.omega[m])\n",
    "\n",
    "# axs[1].scatter(cf.omega[m], residuals, label=\"residuals\")\n",
    "\n",
    "# # generate mask of peaks to unassign based on strength of residuals\n",
    "\n",
    "# residual_mask = np.abs(residuals) > 10  # um\n",
    "\n",
    "# # expand the mask to the shape of the grain\n",
    "\n",
    "# this_gid_mask = m.copy()\n",
    "# this_gid_mask[np.where(this_gid_mask)] = residual_mask.reshape(this_gid_mask[np.where(this_gid_mask)].shape)\n",
    "\n",
    "# # unassign peaks that meet the mask\n",
    "\n",
    "# cf.grain_id[this_gid_mask] = -1\n",
    "\n",
    "# # reselect assigned peaks (replot to ensure we unassigned the outliers)\n",
    "\n",
    "# m = cf.grain_id == g.gid\n",
    "    \n",
    "# # only plot grains that survive\n",
    "\n",
    "# axs[2].scatter(cf.omega[m], cf.dty[m], label=\"masked peaks\")\n",
    "\n",
    "# axs[0].legend()\n",
    "# axs[1].legend()\n",
    "# axs[2].legend()\n",
    "\n",
    "# fig.supxlabel(\"Omega\")\n",
    "# fig.supylabel(\"Y translation (um)\")\n",
    "\n",
    "# plt.show()"
   ]
  },
  {
   "cell_type": "code",
   "execution_count": null,
   "metadata": {
    "tags": []
   },
   "outputs": [],
   "source": [
    "# # do for all grains\n",
    "\n",
    "# for g in grains[1:]:\n",
    "#     m = cf.grain_id == g.gid\n",
    "#     residuals = cf.dty[m] - omega_to_dty(g, cf.omega[m])\n",
    "#     residual_mask = np.abs(residuals) > 10  # um\n",
    "\n",
    "#     # expand the mask to the shape of the grain\n",
    "\n",
    "#     this_gid_mask = m.copy()\n",
    "#     this_gid_mask[np.where(this_gid_mask)] = residual_mask.reshape(this_gid_mask[np.where(this_gid_mask)].shape)\n",
    "\n",
    "#     # unassign peaks that meet the mask\n",
    "\n",
    "#     cf.grain_id[this_gid_mask] = -1"
   ]
  },
  {
   "cell_type": "code",
   "execution_count": null,
   "metadata": {
    "tags": []
   },
   "outputs": [],
   "source": [
    "# grid_size = np.ceil(np.sqrt(len(grains))).astype(int)\n",
    "\n",
    "# fig, axs = plt.subplots(grid_size, grid_size, figsize=(10,10), layout=\"constrained\", sharex=True, sharey=True)\n",
    "# for i, ax in enumerate(axs.ravel()):\n",
    "#     if i < len(grains):\n",
    "#     # get corresponding grain for this axis\n",
    "#         g = grains[i]\n",
    "#         m = cf.grain_id == g.gid\n",
    "#         ax.plot(cf.omega[m], cf.dty[m], ',')\n",
    "        \n",
    "# fig.supxlabel(\"Omega\")\n",
    "# fig.supylabel(\"Y translation (um)\")\n",
    "    \n",
    "# plt.show()"
   ]
  },
  {
   "cell_type": "code",
   "execution_count": null,
   "metadata": {
    "tags": []
   },
   "outputs": [],
   "source": [
    "# make sure we get cen right (centre of rotation should be the middle of dty)\n",
    "fig, ax = plt.subplots()\n",
    "ax.plot([g.cen for g in grains])\n",
    "\n",
    "plt.show()"
   ]
  },
  {
   "cell_type": "code",
   "execution_count": null,
   "metadata": {
    "tags": []
   },
   "outputs": [],
   "source": [
    "c0 = np.median([g.cen for g in grains])\n",
    "\n",
    "print('Center of rotation in dty', c0)\n",
    "\n",
    "# c0 is being correctly determined\n",
    "# we know this because of the earlier single-grain dty vs omega plot\n",
    "# if g.cen was off, the fit would be shifted\n",
    "# this means we have another parameter we need to introduce\n",
    "# to account for uneven spacing either side of the center of rotation?"
   ]
  },
  {
   "cell_type": "code",
   "execution_count": null,
   "metadata": {
    "tags": []
   },
   "outputs": [],
   "source": [
    "plt.style.use('dark_background')\n",
    "fig, ax = plt.subplots(2,2, figsize=(12,12))\n",
    "a = ax.ravel()\n",
    "x = [g.dx for g in grains]\n",
    "y = [g.dy for g in grains]\n",
    "s = [g.pks3d.sum()/20 for g in grains]\n",
    "a[0].scatter(x, y, s=s, c=[g.rgb_z for g in grains])\n",
    "a[0].set(title='IPF color Z',  aspect='equal')\n",
    "a[1].scatter(x, y, s=s, c=[g.rgb_y for g in grains])\n",
    "a[1].set(title='IPF color Y', aspect='equal')\n",
    "a[2].scatter(x, y, s=s, c=[g.rgb_x for g in grains])\n",
    "a[2].set(title='IPF color X',  aspect='equal')\n",
    "a[3].scatter(x, y, c=s)\n",
    "a[3].set(title='Number of 3d peaks', aspect='equal')\n",
    "\n",
    "fig.supxlabel(\"Lab x\")\n",
    "fig.supylabel(\"Lab y\")\n",
    "\n",
    "plt.show()"
   ]
  },
  {
   "cell_type": "code",
   "execution_count": null,
   "metadata": {
    "tags": []
   },
   "outputs": [],
   "source": [
    "# Big scary block\n",
    "# Must understand what this does!\n",
    "\n",
    "# Ensure cf is sorted by spot3d_id\n",
    "# NOTE: spot3d_id should be spot4d_id, because we have merged into 4D?\n",
    "assert (np.argsort(cf.spot3d_id) == np.arange(cf.nrows)).all()\n",
    "\n",
    "# load the 2d peak labelling output\n",
    "pks = ImageD11.sinograms.properties.pks_table.load(pks_path)\n",
    "\n",
    "# Load the dataset (for motor positions, not sure why these are not in peaks)\n",
    "ds = ImageD11.sinograms.dataset.load(dset_path)\n",
    "\n",
    "# Grab the 2d peak centroids\n",
    "p2d = pks.pk2d(ds.omega, ds.dty)\n",
    "\n",
    "numba_order, numba_histo = counting_sort(p2d['spot3d_id'])\n",
    "\n",
    "grain_2d_id = palloc(p2d['spot3d_id'].shape, np.dtype(int))\n",
    "\n",
    "cleanid = cf.grain_id.copy()\n",
    "\n",
    "find_grain_id(cf.spot3d_id, cleanid, p2d['spot3d_id'], grain_2d_id, numba_order)\n",
    "\n",
    "gord, counts = counting_sort(grain_2d_id)\n",
    "\n",
    "inds = np.concatenate(((0,), np.cumsum(counts)))\n",
    "\n",
    "# I think what we end up with is:\n",
    "# inds\n",
    "# this is an array which tells you which 2D spots each grain owns\n",
    "# the 2D spots are sorted by spot ID\n",
    "# inds tells you for each grain were you can find its associated 2D spots"
   ]
  },
  {
   "cell_type": "code",
   "execution_count": null,
   "metadata": {
    "tags": []
   },
   "outputs": [],
   "source": [
    "def do_sinos(g, hkltol=0.050):\n",
    "    i = g.gid\n",
    "    # the inds[0] refers to not indexed peaks\n",
    "    g.pks = gord[ inds[i+1] : inds[i+2] ]  \n",
    "    assert grain_2d_id[g.pks[0]] == i\n",
    "    flt = tocolf( {p:p2d[p][g.pks] for p in p2d} , parfile)\n",
    "    hkl_real = np.dot( g.ubi, (flt.gx, flt.gy, flt.gz) )\n",
    "    hkl_int = np.round(hkl_real).astype(int)\n",
    "    dh = ((hkl_real - hkl_int)**2).sum(axis = 0)\n",
    "    assert len(dh)  == flt.nrows\n",
    "    g.dherrall = dh.mean()\n",
    "    g.npksall = flt.nrows\n",
    "    flt.filter( dh < hkltol*hkltol )\n",
    "    hkl_real = np.dot(g.ubi, (flt.gx, flt.gy, flt.gz))\n",
    "    hkl_int = np.round(hkl_real).astype(int)\n",
    "    dh = ((hkl_real - hkl_int)**2).sum(axis = 0)\n",
    "    g.dherr = dh.mean()\n",
    "    g.npks = flt.nrows\n",
    "    g.etasigns = np.sign( flt.eta )\n",
    "    g.hkl = hkl_int\n",
    "    g.sinoangles, g.ssino, g.hits, g.shkle = map_grain_from_peaks(g, flt, ds)\n",
    "    return i,g"
   ]
  },
  {
   "cell_type": "code",
   "execution_count": null,
   "metadata": {
    "tags": []
   },
   "outputs": [],
   "source": [
    "# Determine sinograms of all grains\n",
    "\n",
    "nthreads = len(os.sched_getaffinity(os.getpid()))\n",
    "\n",
    "with concurrent.futures.ThreadPoolExecutor(max_workers= max(1,nthreads-1)) as pool:\n",
    "    for i in tqdm.tqdm(pool.map(do_sinos, grains), total=len(grains)):\n",
    "        pass"
   ]
  },
  {
   "cell_type": "code",
   "execution_count": null,
   "metadata": {
    "tags": []
   },
   "outputs": [],
   "source": [
    "fig, ax = plt.subplots()\n",
    "ax.plot([grain.npksall for grain in grains],\n",
    "        [grain.dherrall for grain in grains], '.')\n",
    "ax.plot([grain.npks for grain in grains],\n",
    "        [grain.dherr for grain in grains], '.')\n",
    "ax.set_xlabel(\"Number of peaks\")\n",
    "ax.set_ylabel(\"Mean dH^2\")\n",
    "ax.loglog()\n",
    "\n",
    "plt.show()"
   ]
  },
  {
   "cell_type": "code",
   "execution_count": null,
   "metadata": {
    "tags": []
   },
   "outputs": [],
   "source": [
    "# Show sinogram of single grain\n",
    "\n",
    "i = 21\n",
    "plt.figure(figsize=(15,10))\n",
    "plt.imshow((grains[i].ssino/grains[i].ssino.mean(axis=0)), norm=matplotlib.colors.LogNorm(), interpolation='nearest', origin=\"lower\")"
   ]
  },
  {
   "cell_type": "code",
   "execution_count": null,
   "metadata": {
    "tags": []
   },
   "outputs": [],
   "source": [
    "gcalc = np.dot(grains[i].UB, grains[i].shkle[:,:3].T)\n",
    "print(gcalc.shape)\n",
    "gz_gxy = abs(gcalc[2]) / np.sqrt((gcalc[0]**2 + gcalc[1]**2))\n",
    "# ~sin(eta)\n",
    "dscalc = np.linalg.norm(gcalc, axis=0)\n",
    "plt.figure()\n",
    "plt.plot(gz_gxy, grains[i].ssino.sum(axis=0), '.')\n",
    "plt.semilogy()"
   ]
  },
  {
   "cell_type": "code",
   "execution_count": null,
   "metadata": {
    "tags": []
   },
   "outputs": [],
   "source": [
    "def run_iradon(i, pad=20, y0=c0/2):\n",
    "    g = grains[i]\n",
    "    outsize = g.ssino.shape[0] + pad\n",
    "    \n",
    "    # Perform iradon transform of grain sinogram, store result (reconstructed grain shape) in g.recon\n",
    "    g.recon = ImageD11.sinograms.roi_iradon.iradon(g.ssino/g.ssino.mean(axis=0), \n",
    "                                                   theta=g.sinoangles, \n",
    "                                                   output_size=outsize,\n",
    "                                                   projection_shifts=np.full(g.ssino.shape, -y0),\n",
    "                                                   filter_name='hamming',\n",
    "                                                  )\n",
    "    return i, g"
   ]
  },
  {
   "cell_type": "code",
   "execution_count": null,
   "metadata": {
    "tags": []
   },
   "outputs": [],
   "source": [
    "# Run iradon on a single grain\n",
    "\n",
    "i, g = run_iradon(21, pad=20, y0=c0/2)"
   ]
  },
  {
   "cell_type": "code",
   "execution_count": null,
   "metadata": {
    "tags": []
   },
   "outputs": [],
   "source": [
    "fig, axs = plt.subplots(1,2,figsize=(15,10))\n",
    "axs[0].imshow(g.ssino, origin=\"lower\")\n",
    "axs[0].set_title(\"ID11 Sinogram\")\n",
    "axs[1].imshow(g.recon, origin=\"lower\")\n",
    "axs[1].set_title(\"ID11 iradon\")\n",
    "plt.show()"
   ]
  },
  {
   "cell_type": "code",
   "execution_count": null,
   "metadata": {
    "tags": []
   },
   "outputs": [],
   "source": [
    "with concurrent.futures.ThreadPoolExecutor( max_workers= max(1,nthreads-1) ) as pool:\n",
    "    for i in tqdm.tqdm(pool.map( run_iradon, range(len(grains))), total=len(grains)):\n",
    "        pass"
   ]
  },
  {
   "cell_type": "code",
   "execution_count": null,
   "metadata": {
    "tags": []
   },
   "outputs": [],
   "source": [
    "def crystal_direction_cubic( ubi, axis ):\n",
    "    hkl = np.dot( ubi, axis )\n",
    "    # cubic symmetry implies:\n",
    "    #      24 permutations of h,k,l\n",
    "    #      one has abs(h) <= abs(k) <= abs(l)\n",
    "    hkl= abs(hkl)\n",
    "    hkl.sort()\n",
    "    return hkl\n",
    "\n",
    "def hkl_to_color_cubic( hkl ):\n",
    "    \"\"\"\n",
    "    https://mathematica.stackexchange.com/questions/47492/how-to-create-an-inverse-pole-figure-color-map\n",
    "        [x,y,z]=u⋅[0,0,1]+v⋅[0,1,1]+w⋅[1,1,1].\n",
    "            These are:\n",
    "                u=z−y, v=y−x, w=x\n",
    "                This triple is used to assign each direction inside the standard triangle\n",
    "                \n",
    "    makeColor[{x_, y_, z_}] := \n",
    "         RGBColor @@ ({z - y, y - x, x}/Max@{z - y, y - x, x})                \n",
    "    \"\"\"\n",
    "    x,y,z = hkl\n",
    "    assert x<=y<=z\n",
    "    assert z>=0\n",
    "    u,v,w = z-y, y-x, x\n",
    "    m = max( u, v, w )\n",
    "    r,g,b = u/m, v/m, w/m\n",
    "    return (r,g,b)\n",
    "\n",
    "def hkl_to_pf_cubic( hkl ):\n",
    "    x,y,z = hkl\n",
    "    assert x<=y<=z\n",
    "    assert z>=0\n",
    "    m = np.sqrt((hkl**2).sum())\n",
    "    return x/(z+m), y/(z+m)\n",
    "\n",
    "def triangle(  ):\n",
    "    \"\"\" compute a series of point on the edge of the triangle \"\"\"\n",
    "    xy = [ np.array(v) for v in ( (0,1,1), (0,0,1), (1,1,1)) ]\n",
    "    xy += [ xy[2]*(1-t) + xy[0]*t for t in np.linspace(0.1,1,5)]\n",
    "    return np.array( [hkl_to_pf_cubic( np.array(p) ) for p in xy] )"
   ]
  },
  {
   "cell_type": "code",
   "execution_count": null,
   "metadata": {
    "tags": []
   },
   "outputs": [],
   "source": [
    "f,a = plt.subplots( 1,3, figsize=(15,5) )\n",
    "ty, tx = triangle().T\n",
    "for i,title in enumerate( 'xyz' ):\n",
    "    ax = np.zeros(3)\n",
    "    ax[i] = 1.\n",
    "    hkl = [crystal_direction_cubic( g.ubi, ax ) for g in grains]\n",
    "    xy = np.array([hkl_to_pf_cubic(h) for h in hkl ])\n",
    "    rgb = np.array([hkl_to_color_cubic(h) for h in hkl ])\n",
    "    for j in range(len(grains)):\n",
    "        grains[j].rgb = rgb[j]\n",
    "    a[i].scatter( xy[:,1], xy[:,0], c = rgb )   # Note the \"x\" axis of the plot is the 'k' direction and 'y' is h (smaller)\n",
    "    a[i].set(title=title, aspect='equal', facecolor='silver', xticks=[], yticks=[])\n",
    "    a[i].plot( tx, ty, 'k-', lw = 1 )"
   ]
  },
  {
   "cell_type": "code",
   "execution_count": null,
   "metadata": {
    "tags": []
   },
   "outputs": [],
   "source": [
    "l = np.zeros_like( grains[0].recon ) - 1\n",
    "red = np.zeros_like( grains[0].recon )\n",
    "grn = np.zeros_like( grains[0].recon )\n",
    "blu = np.zeros_like( grains[0].recon )\n",
    "s = np.zeros_like( grains[0].recon )\n",
    "for g in grains:\n",
    "    # print(i, scale)\n",
    "    r = g.recon / g.recon.max()\n",
    "    m = r > s\n",
    "    px = r[m]\n",
    "    s[m] = px\n",
    "    red[m] = px*g.rgb[0]\n",
    "    grn[m] = px*g.rgb[1]\n",
    "    blu[m] = px*g.rgb[2]\n",
    "    l[m] = g.gid"
   ]
  },
  {
   "cell_type": "code",
   "execution_count": null,
   "metadata": {
    "tags": []
   },
   "outputs": [],
   "source": [
    "r.shape, g.ssino.shape"
   ]
  },
  {
   "cell_type": "code",
   "execution_count": null,
   "metadata": {
    "tags": []
   },
   "outputs": [],
   "source": [
    "image_to_show = np.transpose((red, grn, blu), axes=(2, 1, 0))\n",
    "# uncomment below to clean up streaks in image a bit (while lying!)\n",
    "# image_to_show[image_to_show.sum(axis=2) < 0.3] = [0,0,0]"
   ]
  },
  {
   "cell_type": "code",
   "execution_count": null,
   "metadata": {
    "tags": []
   },
   "outputs": [],
   "source": [
    "grain_map_image_name = os.path.splitext(os.path.split(grain_map_path)[1])[0]"
   ]
  },
  {
   "cell_type": "code",
   "execution_count": null,
   "metadata": {
    "tags": []
   },
   "outputs": [],
   "source": [
    "plt.figure(figsize=(15,15))\n",
    "plt.imshow(image_to_show)  # originally 1,2,0\n",
    "plt.savefig(grain_map_image_name + '.png')"
   ]
  },
  {
   "cell_type": "code",
   "execution_count": null,
   "metadata": {
    "tags": []
   },
   "outputs": [],
   "source": [
    "for g in grains:\n",
    "    g.translation = (0,0,0)\n",
    "ImageD11.grain.write_grain_file(ubi_path, grains)"
   ]
  }
 ],
 "metadata": {
  "kernelspec": {
   "display_name": "Python 3 (main)",
   "language": "python",
   "name": "python3"
  },
  "language_info": {
   "codemirror_mode": {
    "name": "ipython",
    "version": 3
   },
   "file_extension": ".py",
   "mimetype": "text/x-python",
   "name": "python",
   "nbconvert_exporter": "python",
   "pygments_lexer": "ipython3",
   "version": "3.11.6"
  }
 },
 "nbformat": 4,
 "nbformat_minor": 4
}
