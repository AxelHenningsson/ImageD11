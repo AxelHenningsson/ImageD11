{
 "cells": [
  {
   "cell_type": "code",
   "execution_count": 1,
   "metadata": {},
   "outputs": [
    {
     "ename": "ModuleNotFoundError",
     "evalue": "No module named 'ImageD11.nbGui'",
     "output_type": "error",
     "traceback": [
      "\u001b[1;31m---------------------------------------------------------------------------\u001b[0m",
      "\u001b[1;31mModuleNotFoundError\u001b[0m                       Traceback (most recent call last)",
      "\u001b[1;32m<ipython-input-1-cf9b16745776>\u001b[0m in \u001b[0;36m<module>\u001b[1;34m\u001b[0m\n\u001b[1;32m----> 1\u001b[1;33m \u001b[1;32mfrom\u001b[0m \u001b[0mImageD11\u001b[0m\u001b[1;33m.\u001b[0m\u001b[0mnbGui\u001b[0m\u001b[1;33m.\u001b[0m\u001b[0mfit_geometry\u001b[0m \u001b[1;32mimport\u001b[0m \u001b[0mFitGeom\u001b[0m\u001b[1;33m\u001b[0m\u001b[1;33m\u001b[0m\u001b[0m\n\u001b[0m\u001b[0;32m      2\u001b[0m \u001b[0mtest_fit_geom\u001b[0m \u001b[1;33m=\u001b[0m \u001b[0mFitGeom\u001b[0m\u001b[1;33m(\u001b[0m\u001b[1;33m)\u001b[0m\u001b[1;33m\u001b[0m\u001b[1;33m\u001b[0m\u001b[0m\n\u001b[0;32m      3\u001b[0m \u001b[0mtest_fit_geom\u001b[0m\u001b[1;33m.\u001b[0m\u001b[0mloadfiltered\u001b[0m\u001b[1;33m(\u001b[0m\u001b[1;34m\"../../test/nac_demo/peaks.out_merge_t200\"\u001b[0m\u001b[1;33m)\u001b[0m\u001b[1;33m\u001b[0m\u001b[1;33m\u001b[0m\u001b[0m\n\u001b[0;32m      4\u001b[0m \u001b[0mtest_fit_geom\u001b[0m\u001b[1;33m.\u001b[0m\u001b[0mfitGui\u001b[0m\u001b[1;33m(\u001b[0m\u001b[1;33m)\u001b[0m\u001b[1;33m\u001b[0m\u001b[1;33m\u001b[0m\u001b[0m\n",
      "\u001b[1;31mModuleNotFoundError\u001b[0m: No module named 'ImageD11.nbGui'"
     ]
    }
   ],
   "source": [
    "from ImageD11.nbGui.fit_geometry import FitGeom\n",
    "test_fit_geom = FitGeom()\n",
    "test_fit_geom.loadfiltered(\"../../test/nac_demo/peaks.out_merge_t200\")\n",
    "test_fit_geom.fitGui()"
   ]
  }
 ],
 "metadata": {
  "kernelspec": {
   "display_name": "Python 3",
   "language": "python",
   "name": "python3"
  },
  "language_info": {
   "codemirror_mode": {
    "name": "ipython",
    "version": 3
   },
   "file_extension": ".py",
   "mimetype": "text/x-python",
   "name": "python",
   "nbconvert_exporter": "python",
   "pygments_lexer": "ipython3",
   "version": "3.7.6"
  }
 },
 "nbformat": 4,
 "nbformat_minor": 4
}
